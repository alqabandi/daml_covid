{
 "cells": [
  {
   "cell_type": "code",
   "execution_count": 1,
   "metadata": {
    "ExecuteTime": {
     "end_time": "2020-04-08T22:38:12.019356Z",
     "start_time": "2020-04-08T22:38:03.891477Z"
    }
   },
   "outputs": [],
   "source": [
    "import plotly \n",
    "import chart_studio.plotly as py\n",
    "import numpy as np\n",
    "import pandas as pd\n",
    "import matplotlib.pyplot as plt\n",
    "import plotly.graph_objects as go\n",
    "import plotly.express as px\n",
    "import plotly.io as pio\n",
    "pio.renderers.default = \"iframe_connected\"\n",
    "import IPython"
   ]
  },
  {
   "cell_type": "markdown",
   "metadata": {},
   "source": [
    "## Downloading and combining latest data"
   ]
  },
  {
   "cell_type": "code",
   "execution_count": 2,
   "metadata": {
    "ExecuteTime": {
     "end_time": "2020-04-08T22:38:28.117463Z",
     "start_time": "2020-04-08T22:38:12.021884Z"
    }
   },
   "outputs": [
    {
     "name": "stdout",
     "output_type": "stream",
     "text": [
      "Downloading data for state AL\n",
      "Downloading data for state AK\n",
      "Downloading data for state AZ\n",
      "Downloading data for state AR\n",
      "Downloading data for state CA\n",
      "Downloading data for state CO\n",
      "Downloading data for state CT\n",
      "Downloading data for state DE\n",
      "Downloading data for state FL\n",
      "Downloading data for state GA\n",
      "Downloading data for state HI\n",
      "Downloading data for state ID\n",
      "Downloading data for state IL\n",
      "Downloading data for state IN\n",
      "Downloading data for state IA\n",
      "Downloading data for state KS\n",
      "Downloading data for state KY\n",
      "Downloading data for state LA\n",
      "Downloading data for state ME\n",
      "Downloading data for state MD\n",
      "Downloading data for state MA\n",
      "Downloading data for state MI\n",
      "Downloading data for state MN\n",
      "Downloading data for state MS\n",
      "Downloading data for state MO\n",
      "Downloading data for state MT\n",
      "Downloading data for state NE\n",
      "Downloading data for state NV\n",
      "Downloading data for state NH\n",
      "Downloading data for state NJ\n",
      "Downloading data for state NM\n",
      "Downloading data for state NY\n",
      "Downloading data for state NC\n",
      "Downloading data for state ND\n",
      "Downloading data for state OH\n",
      "Downloading data for state OK\n",
      "Downloading data for state OR\n",
      "Downloading data for state PA\n",
      "Downloading data for state RI\n",
      "Downloading data for state SC\n",
      "Downloading data for state SD\n",
      "Downloading data for state TN\n",
      "Downloading data for state TX\n",
      "Downloading data for state UT\n",
      "Downloading data for state VT\n",
      "Downloading data for state VA\n",
      "Downloading data for state WA\n",
      "Downloading data for state WV\n",
      "Downloading data for state WI\n",
      "Downloading data for state WY\n",
      "Downloading data for state DC\n",
      "Downloading data for state VIR\n",
      "Downloading data for state PRI\n",
      "Downloading data from CovidTracking\n"
     ]
    }
   ],
   "source": [
    "%run ./data_collection/00-daily-download.py"
   ]
  },
  {
   "cell_type": "code",
   "execution_count": 3,
   "metadata": {
    "ExecuteTime": {
     "end_time": "2020-04-08T22:38:28.892434Z",
     "start_time": "2020-04-08T22:38:28.119429Z"
    }
   },
   "outputs": [
    {
     "name": "stdout",
     "output_type": "stream",
     "text": [
      "Writing combined data to file data/combined/iclaims.csv\n",
      "done\n",
      "Writing covidtracking data to file data/combined/covidtracking.csv\n",
      "Combining covidtracking and fred, and writing data to file data/combined/combined.csv\n",
      "done\n"
     ]
    }
   ],
   "source": [
    "%run ./data_collection/01-daily-combine.py"
   ]
  },
  {
   "cell_type": "markdown",
   "metadata": {},
   "source": [
    "## Load data"
   ]
  },
  {
   "cell_type": "code",
   "execution_count": 4,
   "metadata": {
    "ExecuteTime": {
     "end_time": "2020-04-08T22:38:28.916495Z",
     "start_time": "2020-04-08T22:38:28.895013Z"
    }
   },
   "outputs": [],
   "source": [
    "df = pd.read_csv('./data/combined/combined.csv')"
   ]
  },
  {
   "cell_type": "markdown",
   "metadata": {},
   "source": [
    "## Create Variables"
   ]
  },
  {
   "cell_type": "code",
   "execution_count": 5,
   "metadata": {
    "ExecuteTime": {
     "end_time": "2020-04-08T22:38:28.987547Z",
     "start_time": "2020-04-08T22:38:28.919078Z"
    }
   },
   "outputs": [],
   "source": [
    "df['text'] = df['state'].astype(str) + '\\n' + 'Positive: ' + df['positive'].astype(str) + ', ' + 'Deaths: '+ df['death'].astype(str) + ', ' + 'Negative: '+ df['negative'].astype(str) + ', ' + 'Total Tested: '+ df['total'].astype(str)\n",
    "df = df[df['state'] !=(\"GU\")]\n",
    "df = df[df['state'] !=(\"PR\")]\n",
    "df = df[df['state'] !=(\"AS\")]\n",
    "df = df[df['state'] !=(\"MP\")]\n",
    "df = df[df['state'] !=(\"PRI\")]\n",
    "df = df[df['state'] !=(\"VIR\")]\n",
    "df = df[df['state'] !=(\"VI\")]"
   ]
  },
  {
   "cell_type": "code",
   "execution_count": 6,
   "metadata": {
    "ExecuteTime": {
     "end_time": "2020-04-08T22:38:28.992115Z",
     "start_time": "2020-04-08T22:38:28.989058Z"
    }
   },
   "outputs": [],
   "source": [
    "def calculate_num_claims_since_emergency_declaration(x: pd.DataFrame) -> int:    \n",
    "    declaration_date = x[\"Emergency Declaration Date\"].values[0]\n",
    "    return x[x.date >= declaration_date].number_of_iclaims.sum()\n"
   ]
  },
  {
   "cell_type": "code",
   "execution_count": 7,
   "metadata": {
    "ExecuteTime": {
     "end_time": "2020-04-08T22:38:29.040798Z",
     "start_time": "2020-04-08T22:38:28.993809Z"
    }
   },
   "outputs": [],
   "source": [
    "iclaims_since_emergency_by_state = df.groupby(\"state\").apply(calculate_num_claims_since_emergency_declaration)"
   ]
  },
  {
   "cell_type": "code",
   "execution_count": 8,
   "metadata": {
    "ExecuteTime": {
     "end_time": "2020-04-08T22:38:29.061928Z",
     "start_time": "2020-04-08T22:38:29.045216Z"
    }
   },
   "outputs": [],
   "source": [
    "df['iclaims_since_emergency'] = df.state.apply(\n",
    "    lambda x: iclaims_since_emergency_by_state[x] if x in iclaims_since_emergency_by_state else None)"
   ]
  },
  {
   "cell_type": "code",
   "execution_count": 9,
   "metadata": {
    "ExecuteTime": {
     "end_time": "2020-04-08T22:38:29.110269Z",
     "start_time": "2020-04-08T22:38:29.063915Z"
    }
   },
   "outputs": [],
   "source": [
    "def calculate_num_claims_since_stayathome_order(x: pd.DataFrame) -> int:    \n",
    "    stayathome_date = x[\"Stay At Home Order Date\"].values[0]\n",
    "    return x[x.date >= stayathome_date].number_of_iclaims.sum()\n",
    "iclaims_since_stayathome_by_state = df.groupby(\"state\").apply(calculate_num_claims_since_stayathome_order)"
   ]
  },
  {
   "cell_type": "code",
   "execution_count": 10,
   "metadata": {
    "ExecuteTime": {
     "end_time": "2020-04-08T22:38:29.127955Z",
     "start_time": "2020-04-08T22:38:29.112236Z"
    }
   },
   "outputs": [],
   "source": [
    "df['iclaims_since_stayathome'] = df.state.apply(lambda x: iclaims_since_stayathome_by_state[x] if x in iclaims_since_stayathome_by_state else None)\n"
   ]
  },
  {
   "cell_type": "code",
   "execution_count": 11,
   "metadata": {
    "ExecuteTime": {
     "end_time": "2020-04-08T22:38:29.146271Z",
     "start_time": "2020-04-08T22:38:29.129984Z"
    }
   },
   "outputs": [],
   "source": [
    "df = df.sort_values(by=['date'])\n",
    "df = df[df[\"date\"]>=\"2020-01-30\"]\n",
    "df = df[df[\"death\"].isna()==False]\n",
    "df = df[df[\"positive\"].isna()==False]\n",
    "df['pct_death_over_positive'] = 100*(df['death']/df['positive'])\n",
    "df['death_rate'] = df['death']/df['positive']\n",
    "df['high_pct_death'] = df['pct_death_over_positive'].apply(lambda x: '1%+ death rate' if x >= 1 else \"below 1% death rate\")\n",
    "df['pct_positive_out_of_total_tested'] = 100*(df['positive']/df['total'])\n",
    "df['positive_over_pop'] = (df['positive']/df['POPESTIMATE2019'])*100\n",
    "df['positive_per_100k'] = (df['positive_over_pop']/100)*100000\n",
    "df['pct_pop_tested'] = (df['total']/df['POPESTIMATE2019'])*100"
   ]
  },
  {
   "cell_type": "markdown",
   "metadata": {},
   "source": [
    "## Chloropleth maps"
   ]
  },
  {
   "cell_type": "code",
   "execution_count": 12,
   "metadata": {
    "ExecuteTime": {
     "end_time": "2020-04-08T22:38:29.153050Z",
     "start_time": "2020-04-08T22:38:29.147880Z"
    }
   },
   "outputs": [],
   "source": [
    "df2 = df[df.date == max(df['date'])]"
   ]
  },
  {
   "cell_type": "code",
   "execution_count": 13,
   "metadata": {
    "ExecuteTime": {
     "end_time": "2020-04-08T22:39:47.367356Z",
     "start_time": "2020-04-08T22:39:45.719879Z"
    },
    "scrolled": false
   },
   "outputs": [
    {
     "data": {
      "text/html": [
       "<iframe\n",
       "    scrolling=\"no\"\n",
       "    width=\"100%\"\n",
       "    height=\"545px\"\n",
       "    src=\"iframe_figures/figure_13.html\"\n",
       "    frameborder=\"0\"\n",
       "    allowfullscreen\n",
       "></iframe>\n"
      ]
     },
     "metadata": {},
     "output_type": "display_data"
    }
   ],
   "source": [
    "fig = go.Figure(data=go.Choropleth(\n",
    "    locations=df2['state'],\n",
    "    z=df2['positive_per_100k'].astype(float),\n",
    "    locationmode='USA-states',\n",
    "    colorscale='Oranges',\n",
    "    autocolorscale=False,\n",
    "    text=df2['text'],  # hover text\n",
    "    marker_line_color='white',  # line markers between states\n",
    "    colorbar_title=\"Positive per 100,000 people\"\n",
    "))\n",
    "\n",
    "fig.update_layout(\n",
    "    title_text='Positive Covid-19 cases per 100,000 people, by State<br>(Hover for breakdown)',\n",
    "    geo=dict(\n",
    "        scope='usa',\n",
    "        projection=go.layout.geo.Projection(type='albers usa'),\n",
    "        showlakes=True,  # lakes\n",
    "        lakecolor='rgb(255, 255, 255)'),\n",
    ")\n",
    "fig.show();\n",
    "#fig.write_html(file=\"covid_per_100k.html\")"
   ]
  },
  {
   "cell_type": "code",
   "execution_count": 14,
   "metadata": {
    "ExecuteTime": {
     "end_time": "2020-04-08T22:41:00.886050Z",
     "start_time": "2020-04-08T22:41:00.878648Z"
    }
   },
   "outputs": [
    {
     "data": {
      "text/html": [
       "\n",
       "        <iframe\n",
       "            width=\"900\"\n",
       "            height=\"600\"\n",
       "            src=\"http://alqabandi.co/daml-covid/figure_13.html\"\n",
       "            frameborder=\"0\"\n",
       "            allowfullscreen\n",
       "        ></iframe>\n",
       "        "
      ],
      "text/plain": [
       "<IPython.lib.display.IFrame at 0x12667e590>"
      ]
     },
     "execution_count": 14,
     "metadata": {},
     "output_type": "execute_result"
    }
   ],
   "source": [
    "from IPython.display import IFrame\n",
    "IFrame(src='http://alqabandi.co/daml-covid/figure_13.html', height=600, width=900)\n",
    "#plotly.offline.plot(fig, filename='./iframe_figures/figure_18.html')"
   ]
  },
  {
   "cell_type": "code",
   "execution_count": 14,
   "metadata": {
    "ExecuteTime": {
     "end_time": "2020-04-08T00:54:10.122096Z",
     "start_time": "2020-04-08T00:54:10.012266Z"
    }
   },
   "outputs": [
    {
     "data": {
      "application/vnd.plotly.v1+json": {
       "config": {
        "plotlyServerURL": "https://plot.ly"
       },
       "data": [
        {
         "autocolorscale": false,
         "colorbar": {
          "title": {
           "text": "Unemployment Insurance Claims"
          }
         },
         "colorscale": [
          [
           0,
           "rgb(255,245,235)"
          ],
          [
           0.125,
           "rgb(254,230,206)"
          ],
          [
           0.25,
           "rgb(253,208,162)"
          ],
          [
           0.375,
           "rgb(253,174,107)"
          ],
          [
           0.5,
           "rgb(253,141,60)"
          ],
          [
           0.625,
           "rgb(241,105,19)"
          ],
          [
           0.75,
           "rgb(217,72,1)"
          ],
          [
           0.875,
           "rgb(166,54,3)"
          ],
          [
           1,
           "rgb(127,39,4)"
          ]
         ],
         "locationmode": "USA-states",
         "locations": [
          "FL",
          "CT",
          "ND",
          "MD",
          "LA",
          "DE",
          "GA",
          "NJ",
          "IL",
          "NV",
          "MN",
          "NC",
          "UT",
          "AZ",
          "IN",
          "RI",
          "CA",
          "WV",
          "MS",
          "VT",
          "KY",
          "NE",
          "OH",
          "DC",
          "NH",
          "IA",
          "AL",
          "CO",
          "MO",
          "OR",
          "TN",
          "WA",
          "MA",
          "SD",
          "OK",
          "ID",
          "HI",
          "KS",
          "AR",
          "NM",
          "ME",
          "TX",
          "NY",
          "WI",
          "VA",
          "SC",
          "AK",
          "PA",
          "MI",
          "MT",
          "WY"
         ],
         "marker": {
          "line": {
           "color": "white"
          }
         },
         "text": [
          "FL\nPositive: 14747.0, Deaths: 296.0, Negative: 123415.0, Total Tested: 139569",
          "CT\nPositive: 7781.0, Deaths: 277.0, Negative: 21255.0, Total Tested: 29036",
          "ND\nPositive: 237.0, Deaths: 4.0, Negative: 7466.0, Total Tested: 7703",
          "MD\nPositive: 4371.0, Deaths: 103.0, Negative: 27256.0, Total Tested: 31627",
          "LA\nPositive: 16284.0, Deaths: 582.0, Negative: 58371.0, Total Tested: 74655",
          "DE\nPositive: 928.0, Deaths: 16.0, Negative: 7628.0, Total Tested: 8556",
          "GA\nPositive: 8818.0, Deaths: 329.0, Negative: 24895.0, Total Tested: 33713",
          "NJ\nPositive: 44416.0, Deaths: 1232.0, Negative: 50558.0, Total Tested: 94974",
          "IL\nPositive: 13549.0, Deaths: 380.0, Negative: 55183.0, Total Tested: 68732",
          "NV\nPositive: 2087.0, Deaths: 58.0, Negative: 16552.0, Total Tested: 18639",
          "MN\nPositive: 1069.0, Deaths: 34.0, Negative: 28191.0, Total Tested: 29260",
          "NC\nPositive: 3221.0, Deaths: 46.0, Negative: 37861.0, Total Tested: 41082",
          "UT\nPositive: 1738.0, Deaths: 13.0, Negative: 32909.0, Total Tested: 34647",
          "AZ\nPositive: 2575.0, Deaths: 73.0, Negative: 30800.0, Total Tested: 33375",
          "IN\nPositive: 5507.0, Deaths: 173.0, Negative: 23257.0, Total Tested: 28764",
          "RI\nPositive: 1229.0, Deaths: 30.0, Negative: 7399.0, Total Tested: 8628",
          "CA\nPositive: 15865.0, Deaths: 374.0, Negative: 115364.0, Total Tested: 145329",
          "WV\nPositive: 412.0, Deaths: 4.0, Negative: 11647.0, Total Tested: 12059",
          "MS\nPositive: 1915.0, Deaths: 59.0, Negative: 18632.0, Total Tested: 20547",
          "VT\nPositive: 575.0, Deaths: 23.0, Negative: 6554.0, Total Tested: 7129",
          "KY\nPositive: 1008.0, Deaths: 59.0, Negative: 18947.0, Total Tested: 19955",
          "NE\nPositive: 447.0, Deaths: 10.0, Negative: 6811.0, Total Tested: 7258",
          "OH\nPositive: 4782.0, Deaths: 167.0, Negative: 46056.0, Total Tested: 50838",
          "DC\nPositive: 1211.0, Deaths: 22.0, Negative: 6612.0, Total Tested: 7823",
          "NH\nPositive: 715.0, Deaths: 9.0, Negative: 8019.0, Total Tested: 8783",
          "IA\nPositive: 1048.0, Deaths: 26.0, Negative: 11670.0, Total Tested: 12718",
          "AL\nPositive: 2119.0, Deaths: 56.0, Negative: 12797.0, Total Tested: 14916",
          "CO\nPositive: 5172.0, Deaths: 150.0, Negative: 21703.0, Total Tested: 26875",
          "MO\nPositive: 3037.0, Deaths: 53.0, Negative: 28932.0, Total Tested: 31969",
          "OR\nPositive: 1132.0, Deaths: 29.0, Negative: 20669.0, Total Tested: 21801",
          "TN\nPositive: 4138.0, Deaths: 72.0, Negative: 48736.0, Total Tested: 52874",
          "WA\nPositive: 8384.0, Deaths: 372.0, Negative: 83391.0, Total Tested: 91775",
          "MA\nPositive: 15202.0, Deaths: 356.0, Negative: 66142.0, Total Tested: 81344",
          "SD\nPositive: 320.0, Deaths: 6.0, Negative: 5948.0, Total Tested: 6270",
          "OK\nPositive: 1472.0, Deaths: 67.0, Negative: 11821.0, Total Tested: 13293",
          "ID\nPositive: 1170.0, Deaths: 13.0, Negative: 10076.0, Total Tested: 11246",
          "HI\nPositive: 387.0, Deaths: 5.0, Negative: 13155.0, Total Tested: 13542",
          "KS\nPositive: 900.0, Deaths: 27.0, Negative: 8614.0, Total Tested: 9514",
          "AR\nPositive: 946.0, Deaths: 16.0, Negative: 12692.0, Total Tested: 13638",
          "NM\nPositive: 686.0, Deaths: 12.0, Negative: 21139.0, Total Tested: 21825",
          "ME\nPositive: 519.0, Deaths: 12.0, Negative: 6088.0, Total Tested: 6607",
          "TX\nPositive: 8262.0, Deaths: 154.0, Negative: 80387.0, Total Tested: 88649",
          "NY\nPositive: 138863.0, Deaths: 5489.0, Negative: 201195.0, Total Tested: 340058",
          "WI\nPositive: 2578.0, Deaths: 92.0, Negative: 28512.0, Total Tested: 31090",
          "VA\nPositive: 3333.0, Deaths: 63.0, Negative: 25312.0, Total Tested: 28645",
          "SC\nPositive: 2417.0, Deaths: 51.0, Negative: 21263.0, Total Tested: 23680",
          "AK\nPositive: 213.0, Deaths: 6.0, Negative: 6700.0, Total Tested: 6913",
          "PA\nPositive: 14559.0, Deaths: 240.0, Negative: 76719.0, Total Tested: 91278",
          "MI\nPositive: 18970.0, Deaths: 845.0, Negative: 31362.0, Total Tested: 50332",
          "MT\nPositive: 319.0, Deaths: 6.0, Negative: 6666.0, Total Tested: 6985",
          "WY\nPositive: 216.0, Deaths: 0.0, Negative: 3789.0, Total Tested: 4005"
         ],
         "type": "choropleth",
         "z": [
          80776,
          28540,
          6077,
          49520,
          74693,
          11248,
          17585,
          125282,
          124984,
          98654,
          119783,
          97616,
          22010,
          33192,
          64574,
          36955,
          243939,
          5434,
          6666,
          4443,
          54271,
          16495,
          203355,
          15675,
          30021,
          43181,
          12711,
          22095,
          46262,
          38477,
          40779,
          150765,
          155901,
          1951,
          21926,
          14617,
          11679,
          25318,
          10657,
          18974,
          21459,
          171602,
          108306,
          56221,
          48983,
          33919,
          8967,
          405117,
          133344,
          16166,
          4170
         ]
        }
       ],
       "layout": {
        "geo": {
         "lakecolor": "rgb(255, 255, 255)",
         "projection": {
          "type": "albers usa"
         },
         "scope": "usa",
         "showlakes": true
        },
        "template": {
         "data": {
          "bar": [
           {
            "error_x": {
             "color": "#2a3f5f"
            },
            "error_y": {
             "color": "#2a3f5f"
            },
            "marker": {
             "line": {
              "color": "#E5ECF6",
              "width": 0.5
             }
            },
            "type": "bar"
           }
          ],
          "barpolar": [
           {
            "marker": {
             "line": {
              "color": "#E5ECF6",
              "width": 0.5
             }
            },
            "type": "barpolar"
           }
          ],
          "carpet": [
           {
            "aaxis": {
             "endlinecolor": "#2a3f5f",
             "gridcolor": "white",
             "linecolor": "white",
             "minorgridcolor": "white",
             "startlinecolor": "#2a3f5f"
            },
            "baxis": {
             "endlinecolor": "#2a3f5f",
             "gridcolor": "white",
             "linecolor": "white",
             "minorgridcolor": "white",
             "startlinecolor": "#2a3f5f"
            },
            "type": "carpet"
           }
          ],
          "choropleth": [
           {
            "colorbar": {
             "outlinewidth": 0,
             "ticks": ""
            },
            "type": "choropleth"
           }
          ],
          "contour": [
           {
            "colorbar": {
             "outlinewidth": 0,
             "ticks": ""
            },
            "colorscale": [
             [
              0,
              "#0d0887"
             ],
             [
              0.1111111111111111,
              "#46039f"
             ],
             [
              0.2222222222222222,
              "#7201a8"
             ],
             [
              0.3333333333333333,
              "#9c179e"
             ],
             [
              0.4444444444444444,
              "#bd3786"
             ],
             [
              0.5555555555555556,
              "#d8576b"
             ],
             [
              0.6666666666666666,
              "#ed7953"
             ],
             [
              0.7777777777777778,
              "#fb9f3a"
             ],
             [
              0.8888888888888888,
              "#fdca26"
             ],
             [
              1,
              "#f0f921"
             ]
            ],
            "type": "contour"
           }
          ],
          "contourcarpet": [
           {
            "colorbar": {
             "outlinewidth": 0,
             "ticks": ""
            },
            "type": "contourcarpet"
           }
          ],
          "heatmap": [
           {
            "colorbar": {
             "outlinewidth": 0,
             "ticks": ""
            },
            "colorscale": [
             [
              0,
              "#0d0887"
             ],
             [
              0.1111111111111111,
              "#46039f"
             ],
             [
              0.2222222222222222,
              "#7201a8"
             ],
             [
              0.3333333333333333,
              "#9c179e"
             ],
             [
              0.4444444444444444,
              "#bd3786"
             ],
             [
              0.5555555555555556,
              "#d8576b"
             ],
             [
              0.6666666666666666,
              "#ed7953"
             ],
             [
              0.7777777777777778,
              "#fb9f3a"
             ],
             [
              0.8888888888888888,
              "#fdca26"
             ],
             [
              1,
              "#f0f921"
             ]
            ],
            "type": "heatmap"
           }
          ],
          "heatmapgl": [
           {
            "colorbar": {
             "outlinewidth": 0,
             "ticks": ""
            },
            "colorscale": [
             [
              0,
              "#0d0887"
             ],
             [
              0.1111111111111111,
              "#46039f"
             ],
             [
              0.2222222222222222,
              "#7201a8"
             ],
             [
              0.3333333333333333,
              "#9c179e"
             ],
             [
              0.4444444444444444,
              "#bd3786"
             ],
             [
              0.5555555555555556,
              "#d8576b"
             ],
             [
              0.6666666666666666,
              "#ed7953"
             ],
             [
              0.7777777777777778,
              "#fb9f3a"
             ],
             [
              0.8888888888888888,
              "#fdca26"
             ],
             [
              1,
              "#f0f921"
             ]
            ],
            "type": "heatmapgl"
           }
          ],
          "histogram": [
           {
            "marker": {
             "colorbar": {
              "outlinewidth": 0,
              "ticks": ""
             }
            },
            "type": "histogram"
           }
          ],
          "histogram2d": [
           {
            "colorbar": {
             "outlinewidth": 0,
             "ticks": ""
            },
            "colorscale": [
             [
              0,
              "#0d0887"
             ],
             [
              0.1111111111111111,
              "#46039f"
             ],
             [
              0.2222222222222222,
              "#7201a8"
             ],
             [
              0.3333333333333333,
              "#9c179e"
             ],
             [
              0.4444444444444444,
              "#bd3786"
             ],
             [
              0.5555555555555556,
              "#d8576b"
             ],
             [
              0.6666666666666666,
              "#ed7953"
             ],
             [
              0.7777777777777778,
              "#fb9f3a"
             ],
             [
              0.8888888888888888,
              "#fdca26"
             ],
             [
              1,
              "#f0f921"
             ]
            ],
            "type": "histogram2d"
           }
          ],
          "histogram2dcontour": [
           {
            "colorbar": {
             "outlinewidth": 0,
             "ticks": ""
            },
            "colorscale": [
             [
              0,
              "#0d0887"
             ],
             [
              0.1111111111111111,
              "#46039f"
             ],
             [
              0.2222222222222222,
              "#7201a8"
             ],
             [
              0.3333333333333333,
              "#9c179e"
             ],
             [
              0.4444444444444444,
              "#bd3786"
             ],
             [
              0.5555555555555556,
              "#d8576b"
             ],
             [
              0.6666666666666666,
              "#ed7953"
             ],
             [
              0.7777777777777778,
              "#fb9f3a"
             ],
             [
              0.8888888888888888,
              "#fdca26"
             ],
             [
              1,
              "#f0f921"
             ]
            ],
            "type": "histogram2dcontour"
           }
          ],
          "mesh3d": [
           {
            "colorbar": {
             "outlinewidth": 0,
             "ticks": ""
            },
            "type": "mesh3d"
           }
          ],
          "parcoords": [
           {
            "line": {
             "colorbar": {
              "outlinewidth": 0,
              "ticks": ""
             }
            },
            "type": "parcoords"
           }
          ],
          "pie": [
           {
            "automargin": true,
            "type": "pie"
           }
          ],
          "scatter": [
           {
            "marker": {
             "colorbar": {
              "outlinewidth": 0,
              "ticks": ""
             }
            },
            "type": "scatter"
           }
          ],
          "scatter3d": [
           {
            "line": {
             "colorbar": {
              "outlinewidth": 0,
              "ticks": ""
             }
            },
            "marker": {
             "colorbar": {
              "outlinewidth": 0,
              "ticks": ""
             }
            },
            "type": "scatter3d"
           }
          ],
          "scattercarpet": [
           {
            "marker": {
             "colorbar": {
              "outlinewidth": 0,
              "ticks": ""
             }
            },
            "type": "scattercarpet"
           }
          ],
          "scattergeo": [
           {
            "marker": {
             "colorbar": {
              "outlinewidth": 0,
              "ticks": ""
             }
            },
            "type": "scattergeo"
           }
          ],
          "scattergl": [
           {
            "marker": {
             "colorbar": {
              "outlinewidth": 0,
              "ticks": ""
             }
            },
            "type": "scattergl"
           }
          ],
          "scattermapbox": [
           {
            "marker": {
             "colorbar": {
              "outlinewidth": 0,
              "ticks": ""
             }
            },
            "type": "scattermapbox"
           }
          ],
          "scatterpolar": [
           {
            "marker": {
             "colorbar": {
              "outlinewidth": 0,
              "ticks": ""
             }
            },
            "type": "scatterpolar"
           }
          ],
          "scatterpolargl": [
           {
            "marker": {
             "colorbar": {
              "outlinewidth": 0,
              "ticks": ""
             }
            },
            "type": "scatterpolargl"
           }
          ],
          "scatterternary": [
           {
            "marker": {
             "colorbar": {
              "outlinewidth": 0,
              "ticks": ""
             }
            },
            "type": "scatterternary"
           }
          ],
          "surface": [
           {
            "colorbar": {
             "outlinewidth": 0,
             "ticks": ""
            },
            "colorscale": [
             [
              0,
              "#0d0887"
             ],
             [
              0.1111111111111111,
              "#46039f"
             ],
             [
              0.2222222222222222,
              "#7201a8"
             ],
             [
              0.3333333333333333,
              "#9c179e"
             ],
             [
              0.4444444444444444,
              "#bd3786"
             ],
             [
              0.5555555555555556,
              "#d8576b"
             ],
             [
              0.6666666666666666,
              "#ed7953"
             ],
             [
              0.7777777777777778,
              "#fb9f3a"
             ],
             [
              0.8888888888888888,
              "#fdca26"
             ],
             [
              1,
              "#f0f921"
             ]
            ],
            "type": "surface"
           }
          ],
          "table": [
           {
            "cells": {
             "fill": {
              "color": "#EBF0F8"
             },
             "line": {
              "color": "white"
             }
            },
            "header": {
             "fill": {
              "color": "#C8D4E3"
             },
             "line": {
              "color": "white"
             }
            },
            "type": "table"
           }
          ]
         },
         "layout": {
          "annotationdefaults": {
           "arrowcolor": "#2a3f5f",
           "arrowhead": 0,
           "arrowwidth": 1
          },
          "coloraxis": {
           "colorbar": {
            "outlinewidth": 0,
            "ticks": ""
           }
          },
          "colorscale": {
           "diverging": [
            [
             0,
             "#8e0152"
            ],
            [
             0.1,
             "#c51b7d"
            ],
            [
             0.2,
             "#de77ae"
            ],
            [
             0.3,
             "#f1b6da"
            ],
            [
             0.4,
             "#fde0ef"
            ],
            [
             0.5,
             "#f7f7f7"
            ],
            [
             0.6,
             "#e6f5d0"
            ],
            [
             0.7,
             "#b8e186"
            ],
            [
             0.8,
             "#7fbc41"
            ],
            [
             0.9,
             "#4d9221"
            ],
            [
             1,
             "#276419"
            ]
           ],
           "sequential": [
            [
             0,
             "#0d0887"
            ],
            [
             0.1111111111111111,
             "#46039f"
            ],
            [
             0.2222222222222222,
             "#7201a8"
            ],
            [
             0.3333333333333333,
             "#9c179e"
            ],
            [
             0.4444444444444444,
             "#bd3786"
            ],
            [
             0.5555555555555556,
             "#d8576b"
            ],
            [
             0.6666666666666666,
             "#ed7953"
            ],
            [
             0.7777777777777778,
             "#fb9f3a"
            ],
            [
             0.8888888888888888,
             "#fdca26"
            ],
            [
             1,
             "#f0f921"
            ]
           ],
           "sequentialminus": [
            [
             0,
             "#0d0887"
            ],
            [
             0.1111111111111111,
             "#46039f"
            ],
            [
             0.2222222222222222,
             "#7201a8"
            ],
            [
             0.3333333333333333,
             "#9c179e"
            ],
            [
             0.4444444444444444,
             "#bd3786"
            ],
            [
             0.5555555555555556,
             "#d8576b"
            ],
            [
             0.6666666666666666,
             "#ed7953"
            ],
            [
             0.7777777777777778,
             "#fb9f3a"
            ],
            [
             0.8888888888888888,
             "#fdca26"
            ],
            [
             1,
             "#f0f921"
            ]
           ]
          },
          "colorway": [
           "#636efa",
           "#EF553B",
           "#00cc96",
           "#ab63fa",
           "#FFA15A",
           "#19d3f3",
           "#FF6692",
           "#B6E880",
           "#FF97FF",
           "#FECB52"
          ],
          "font": {
           "color": "#2a3f5f"
          },
          "geo": {
           "bgcolor": "white",
           "lakecolor": "white",
           "landcolor": "#E5ECF6",
           "showlakes": true,
           "showland": true,
           "subunitcolor": "white"
          },
          "hoverlabel": {
           "align": "left"
          },
          "hovermode": "closest",
          "mapbox": {
           "style": "light"
          },
          "paper_bgcolor": "white",
          "plot_bgcolor": "#E5ECF6",
          "polar": {
           "angularaxis": {
            "gridcolor": "white",
            "linecolor": "white",
            "ticks": ""
           },
           "bgcolor": "#E5ECF6",
           "radialaxis": {
            "gridcolor": "white",
            "linecolor": "white",
            "ticks": ""
           }
          },
          "scene": {
           "xaxis": {
            "backgroundcolor": "#E5ECF6",
            "gridcolor": "white",
            "gridwidth": 2,
            "linecolor": "white",
            "showbackground": true,
            "ticks": "",
            "zerolinecolor": "white"
           },
           "yaxis": {
            "backgroundcolor": "#E5ECF6",
            "gridcolor": "white",
            "gridwidth": 2,
            "linecolor": "white",
            "showbackground": true,
            "ticks": "",
            "zerolinecolor": "white"
           },
           "zaxis": {
            "backgroundcolor": "#E5ECF6",
            "gridcolor": "white",
            "gridwidth": 2,
            "linecolor": "white",
            "showbackground": true,
            "ticks": "",
            "zerolinecolor": "white"
           }
          },
          "shapedefaults": {
           "line": {
            "color": "#2a3f5f"
           }
          },
          "ternary": {
           "aaxis": {
            "gridcolor": "white",
            "linecolor": "white",
            "ticks": ""
           },
           "baxis": {
            "gridcolor": "white",
            "linecolor": "white",
            "ticks": ""
           },
           "bgcolor": "#E5ECF6",
           "caxis": {
            "gridcolor": "white",
            "linecolor": "white",
            "ticks": ""
           }
          },
          "title": {
           "x": 0.05
          },
          "xaxis": {
           "automargin": true,
           "gridcolor": "white",
           "linecolor": "white",
           "ticks": "",
           "title": {
            "standoff": 15
           },
           "zerolinecolor": "white",
           "zerolinewidth": 2
          },
          "yaxis": {
           "automargin": true,
           "gridcolor": "white",
           "linecolor": "white",
           "ticks": "",
           "title": {
            "standoff": 15
           },
           "zerolinecolor": "white",
           "zerolinewidth": 2
          }
         }
        },
        "title": {
         "text": "Unemployment Insurance Claims since Emergency Declaration,<br>by State (Hover for breakdown)"
        }
       }
      },
      "text/html": [
       "<div>\n",
       "        \n",
       "        \n",
       "            <div id=\"bd433e21-bbb0-4cc8-b97a-1a08376abe1e\" class=\"plotly-graph-div\" style=\"height:525px; width:100%;\"></div>\n",
       "            <script type=\"text/javascript\">\n",
       "                require([\"plotly\"], function(Plotly) {\n",
       "                    window.PLOTLYENV=window.PLOTLYENV || {};\n",
       "                    \n",
       "                if (document.getElementById(\"bd433e21-bbb0-4cc8-b97a-1a08376abe1e\")) {\n",
       "                    Plotly.newPlot(\n",
       "                        'bd433e21-bbb0-4cc8-b97a-1a08376abe1e',\n",
       "                        [{\"autocolorscale\": false, \"colorbar\": {\"title\": {\"text\": \"Unemployment Insurance Claims\"}}, \"colorscale\": [[0.0, \"rgb(255,245,235)\"], [0.125, \"rgb(254,230,206)\"], [0.25, \"rgb(253,208,162)\"], [0.375, \"rgb(253,174,107)\"], [0.5, \"rgb(253,141,60)\"], [0.625, \"rgb(241,105,19)\"], [0.75, \"rgb(217,72,1)\"], [0.875, \"rgb(166,54,3)\"], [1.0, \"rgb(127,39,4)\"]], \"locationmode\": \"USA-states\", \"locations\": [\"FL\", \"CT\", \"ND\", \"MD\", \"LA\", \"DE\", \"GA\", \"NJ\", \"IL\", \"NV\", \"MN\", \"NC\", \"UT\", \"AZ\", \"IN\", \"RI\", \"CA\", \"WV\", \"MS\", \"VT\", \"KY\", \"NE\", \"OH\", \"DC\", \"NH\", \"IA\", \"AL\", \"CO\", \"MO\", \"OR\", \"TN\", \"WA\", \"MA\", \"SD\", \"OK\", \"ID\", \"HI\", \"KS\", \"AR\", \"NM\", \"ME\", \"TX\", \"NY\", \"WI\", \"VA\", \"SC\", \"AK\", \"PA\", \"MI\", \"MT\", \"WY\"], \"marker\": {\"line\": {\"color\": \"white\"}}, \"text\": [\"FL\\nPositive: 14747.0, Deaths: 296.0, Negative: 123415.0, Total Tested: 139569\", \"CT\\nPositive: 7781.0, Deaths: 277.0, Negative: 21255.0, Total Tested: 29036\", \"ND\\nPositive: 237.0, Deaths: 4.0, Negative: 7466.0, Total Tested: 7703\", \"MD\\nPositive: 4371.0, Deaths: 103.0, Negative: 27256.0, Total Tested: 31627\", \"LA\\nPositive: 16284.0, Deaths: 582.0, Negative: 58371.0, Total Tested: 74655\", \"DE\\nPositive: 928.0, Deaths: 16.0, Negative: 7628.0, Total Tested: 8556\", \"GA\\nPositive: 8818.0, Deaths: 329.0, Negative: 24895.0, Total Tested: 33713\", \"NJ\\nPositive: 44416.0, Deaths: 1232.0, Negative: 50558.0, Total Tested: 94974\", \"IL\\nPositive: 13549.0, Deaths: 380.0, Negative: 55183.0, Total Tested: 68732\", \"NV\\nPositive: 2087.0, Deaths: 58.0, Negative: 16552.0, Total Tested: 18639\", \"MN\\nPositive: 1069.0, Deaths: 34.0, Negative: 28191.0, Total Tested: 29260\", \"NC\\nPositive: 3221.0, Deaths: 46.0, Negative: 37861.0, Total Tested: 41082\", \"UT\\nPositive: 1738.0, Deaths: 13.0, Negative: 32909.0, Total Tested: 34647\", \"AZ\\nPositive: 2575.0, Deaths: 73.0, Negative: 30800.0, Total Tested: 33375\", \"IN\\nPositive: 5507.0, Deaths: 173.0, Negative: 23257.0, Total Tested: 28764\", \"RI\\nPositive: 1229.0, Deaths: 30.0, Negative: 7399.0, Total Tested: 8628\", \"CA\\nPositive: 15865.0, Deaths: 374.0, Negative: 115364.0, Total Tested: 145329\", \"WV\\nPositive: 412.0, Deaths: 4.0, Negative: 11647.0, Total Tested: 12059\", \"MS\\nPositive: 1915.0, Deaths: 59.0, Negative: 18632.0, Total Tested: 20547\", \"VT\\nPositive: 575.0, Deaths: 23.0, Negative: 6554.0, Total Tested: 7129\", \"KY\\nPositive: 1008.0, Deaths: 59.0, Negative: 18947.0, Total Tested: 19955\", \"NE\\nPositive: 447.0, Deaths: 10.0, Negative: 6811.0, Total Tested: 7258\", \"OH\\nPositive: 4782.0, Deaths: 167.0, Negative: 46056.0, Total Tested: 50838\", \"DC\\nPositive: 1211.0, Deaths: 22.0, Negative: 6612.0, Total Tested: 7823\", \"NH\\nPositive: 715.0, Deaths: 9.0, Negative: 8019.0, Total Tested: 8783\", \"IA\\nPositive: 1048.0, Deaths: 26.0, Negative: 11670.0, Total Tested: 12718\", \"AL\\nPositive: 2119.0, Deaths: 56.0, Negative: 12797.0, Total Tested: 14916\", \"CO\\nPositive: 5172.0, Deaths: 150.0, Negative: 21703.0, Total Tested: 26875\", \"MO\\nPositive: 3037.0, Deaths: 53.0, Negative: 28932.0, Total Tested: 31969\", \"OR\\nPositive: 1132.0, Deaths: 29.0, Negative: 20669.0, Total Tested: 21801\", \"TN\\nPositive: 4138.0, Deaths: 72.0, Negative: 48736.0, Total Tested: 52874\", \"WA\\nPositive: 8384.0, Deaths: 372.0, Negative: 83391.0, Total Tested: 91775\", \"MA\\nPositive: 15202.0, Deaths: 356.0, Negative: 66142.0, Total Tested: 81344\", \"SD\\nPositive: 320.0, Deaths: 6.0, Negative: 5948.0, Total Tested: 6270\", \"OK\\nPositive: 1472.0, Deaths: 67.0, Negative: 11821.0, Total Tested: 13293\", \"ID\\nPositive: 1170.0, Deaths: 13.0, Negative: 10076.0, Total Tested: 11246\", \"HI\\nPositive: 387.0, Deaths: 5.0, Negative: 13155.0, Total Tested: 13542\", \"KS\\nPositive: 900.0, Deaths: 27.0, Negative: 8614.0, Total Tested: 9514\", \"AR\\nPositive: 946.0, Deaths: 16.0, Negative: 12692.0, Total Tested: 13638\", \"NM\\nPositive: 686.0, Deaths: 12.0, Negative: 21139.0, Total Tested: 21825\", \"ME\\nPositive: 519.0, Deaths: 12.0, Negative: 6088.0, Total Tested: 6607\", \"TX\\nPositive: 8262.0, Deaths: 154.0, Negative: 80387.0, Total Tested: 88649\", \"NY\\nPositive: 138863.0, Deaths: 5489.0, Negative: 201195.0, Total Tested: 340058\", \"WI\\nPositive: 2578.0, Deaths: 92.0, Negative: 28512.0, Total Tested: 31090\", \"VA\\nPositive: 3333.0, Deaths: 63.0, Negative: 25312.0, Total Tested: 28645\", \"SC\\nPositive: 2417.0, Deaths: 51.0, Negative: 21263.0, Total Tested: 23680\", \"AK\\nPositive: 213.0, Deaths: 6.0, Negative: 6700.0, Total Tested: 6913\", \"PA\\nPositive: 14559.0, Deaths: 240.0, Negative: 76719.0, Total Tested: 91278\", \"MI\\nPositive: 18970.0, Deaths: 845.0, Negative: 31362.0, Total Tested: 50332\", \"MT\\nPositive: 319.0, Deaths: 6.0, Negative: 6666.0, Total Tested: 6985\", \"WY\\nPositive: 216.0, Deaths: 0.0, Negative: 3789.0, Total Tested: 4005\"], \"type\": \"choropleth\", \"z\": [80776.0, 28540.0, 6077.0, 49520.0, 74693.0, 11248.0, 17585.0, 125282.0, 124984.0, 98654.0, 119783.0, 97616.0, 22010.0, 33192.0, 64574.0, 36955.0, 243939.0, 5434.0, 6666.0, 4443.0, 54271.0, 16495.0, 203355.0, 15675.0, 30021.0, 43181.0, 12711.0, 22095.0, 46262.0, 38477.0, 40779.0, 150765.0, 155901.0, 1951.0, 21926.0, 14617.0, 11679.0, 25318.0, 10657.0, 18974.0, 21459.0, 171602.0, 108306.0, 56221.0, 48983.0, 33919.0, 8967.0, 405117.0, 133344.0, 16166.0, 4170.0]}],\n",
       "                        {\"geo\": {\"lakecolor\": \"rgb(255, 255, 255)\", \"projection\": {\"type\": \"albers usa\"}, \"scope\": \"usa\", \"showlakes\": true}, \"template\": {\"data\": {\"bar\": [{\"error_x\": {\"color\": \"#2a3f5f\"}, \"error_y\": {\"color\": \"#2a3f5f\"}, \"marker\": {\"line\": {\"color\": \"#E5ECF6\", \"width\": 0.5}}, \"type\": \"bar\"}], \"barpolar\": [{\"marker\": {\"line\": {\"color\": \"#E5ECF6\", \"width\": 0.5}}, \"type\": \"barpolar\"}], \"carpet\": [{\"aaxis\": {\"endlinecolor\": \"#2a3f5f\", \"gridcolor\": \"white\", \"linecolor\": \"white\", \"minorgridcolor\": \"white\", \"startlinecolor\": \"#2a3f5f\"}, \"baxis\": {\"endlinecolor\": \"#2a3f5f\", \"gridcolor\": \"white\", \"linecolor\": \"white\", \"minorgridcolor\": \"white\", \"startlinecolor\": \"#2a3f5f\"}, \"type\": \"carpet\"}], \"choropleth\": [{\"colorbar\": {\"outlinewidth\": 0, \"ticks\": \"\"}, \"type\": \"choropleth\"}], \"contour\": [{\"colorbar\": {\"outlinewidth\": 0, \"ticks\": \"\"}, \"colorscale\": [[0.0, \"#0d0887\"], [0.1111111111111111, \"#46039f\"], [0.2222222222222222, \"#7201a8\"], [0.3333333333333333, \"#9c179e\"], [0.4444444444444444, \"#bd3786\"], [0.5555555555555556, \"#d8576b\"], [0.6666666666666666, \"#ed7953\"], [0.7777777777777778, \"#fb9f3a\"], [0.8888888888888888, \"#fdca26\"], [1.0, \"#f0f921\"]], \"type\": \"contour\"}], \"contourcarpet\": [{\"colorbar\": {\"outlinewidth\": 0, \"ticks\": \"\"}, \"type\": \"contourcarpet\"}], \"heatmap\": [{\"colorbar\": {\"outlinewidth\": 0, \"ticks\": \"\"}, \"colorscale\": [[0.0, \"#0d0887\"], [0.1111111111111111, \"#46039f\"], [0.2222222222222222, \"#7201a8\"], [0.3333333333333333, \"#9c179e\"], [0.4444444444444444, \"#bd3786\"], [0.5555555555555556, \"#d8576b\"], [0.6666666666666666, \"#ed7953\"], [0.7777777777777778, \"#fb9f3a\"], [0.8888888888888888, \"#fdca26\"], [1.0, \"#f0f921\"]], \"type\": \"heatmap\"}], \"heatmapgl\": [{\"colorbar\": {\"outlinewidth\": 0, \"ticks\": \"\"}, \"colorscale\": [[0.0, \"#0d0887\"], [0.1111111111111111, \"#46039f\"], [0.2222222222222222, \"#7201a8\"], [0.3333333333333333, \"#9c179e\"], [0.4444444444444444, \"#bd3786\"], [0.5555555555555556, \"#d8576b\"], [0.6666666666666666, \"#ed7953\"], [0.7777777777777778, \"#fb9f3a\"], [0.8888888888888888, \"#fdca26\"], [1.0, \"#f0f921\"]], \"type\": \"heatmapgl\"}], \"histogram\": [{\"marker\": {\"colorbar\": {\"outlinewidth\": 0, \"ticks\": \"\"}}, \"type\": \"histogram\"}], \"histogram2d\": [{\"colorbar\": {\"outlinewidth\": 0, \"ticks\": \"\"}, \"colorscale\": [[0.0, \"#0d0887\"], [0.1111111111111111, \"#46039f\"], [0.2222222222222222, \"#7201a8\"], [0.3333333333333333, \"#9c179e\"], [0.4444444444444444, \"#bd3786\"], [0.5555555555555556, \"#d8576b\"], [0.6666666666666666, \"#ed7953\"], [0.7777777777777778, \"#fb9f3a\"], [0.8888888888888888, \"#fdca26\"], [1.0, \"#f0f921\"]], \"type\": \"histogram2d\"}], \"histogram2dcontour\": [{\"colorbar\": {\"outlinewidth\": 0, \"ticks\": \"\"}, \"colorscale\": [[0.0, \"#0d0887\"], [0.1111111111111111, \"#46039f\"], [0.2222222222222222, \"#7201a8\"], [0.3333333333333333, \"#9c179e\"], [0.4444444444444444, \"#bd3786\"], [0.5555555555555556, \"#d8576b\"], [0.6666666666666666, \"#ed7953\"], [0.7777777777777778, \"#fb9f3a\"], [0.8888888888888888, \"#fdca26\"], [1.0, \"#f0f921\"]], \"type\": \"histogram2dcontour\"}], \"mesh3d\": [{\"colorbar\": {\"outlinewidth\": 0, \"ticks\": \"\"}, \"type\": \"mesh3d\"}], \"parcoords\": [{\"line\": {\"colorbar\": {\"outlinewidth\": 0, \"ticks\": \"\"}}, \"type\": \"parcoords\"}], \"pie\": [{\"automargin\": true, \"type\": \"pie\"}], \"scatter\": [{\"marker\": {\"colorbar\": {\"outlinewidth\": 0, \"ticks\": \"\"}}, \"type\": \"scatter\"}], \"scatter3d\": [{\"line\": {\"colorbar\": {\"outlinewidth\": 0, \"ticks\": \"\"}}, \"marker\": {\"colorbar\": {\"outlinewidth\": 0, \"ticks\": \"\"}}, \"type\": \"scatter3d\"}], \"scattercarpet\": [{\"marker\": {\"colorbar\": {\"outlinewidth\": 0, \"ticks\": \"\"}}, \"type\": \"scattercarpet\"}], \"scattergeo\": [{\"marker\": {\"colorbar\": {\"outlinewidth\": 0, \"ticks\": \"\"}}, \"type\": \"scattergeo\"}], \"scattergl\": [{\"marker\": {\"colorbar\": {\"outlinewidth\": 0, \"ticks\": \"\"}}, \"type\": \"scattergl\"}], \"scattermapbox\": [{\"marker\": {\"colorbar\": {\"outlinewidth\": 0, \"ticks\": \"\"}}, \"type\": \"scattermapbox\"}], \"scatterpolar\": [{\"marker\": {\"colorbar\": {\"outlinewidth\": 0, \"ticks\": \"\"}}, \"type\": \"scatterpolar\"}], \"scatterpolargl\": [{\"marker\": {\"colorbar\": {\"outlinewidth\": 0, \"ticks\": \"\"}}, \"type\": \"scatterpolargl\"}], \"scatterternary\": [{\"marker\": {\"colorbar\": {\"outlinewidth\": 0, \"ticks\": \"\"}}, \"type\": \"scatterternary\"}], \"surface\": [{\"colorbar\": {\"outlinewidth\": 0, \"ticks\": \"\"}, \"colorscale\": [[0.0, \"#0d0887\"], [0.1111111111111111, \"#46039f\"], [0.2222222222222222, \"#7201a8\"], [0.3333333333333333, \"#9c179e\"], [0.4444444444444444, \"#bd3786\"], [0.5555555555555556, \"#d8576b\"], [0.6666666666666666, \"#ed7953\"], [0.7777777777777778, \"#fb9f3a\"], [0.8888888888888888, \"#fdca26\"], [1.0, \"#f0f921\"]], \"type\": \"surface\"}], \"table\": [{\"cells\": {\"fill\": {\"color\": \"#EBF0F8\"}, \"line\": {\"color\": \"white\"}}, \"header\": {\"fill\": {\"color\": \"#C8D4E3\"}, \"line\": {\"color\": \"white\"}}, \"type\": \"table\"}]}, \"layout\": {\"annotationdefaults\": {\"arrowcolor\": \"#2a3f5f\", \"arrowhead\": 0, \"arrowwidth\": 1}, \"coloraxis\": {\"colorbar\": {\"outlinewidth\": 0, \"ticks\": \"\"}}, \"colorscale\": {\"diverging\": [[0, \"#8e0152\"], [0.1, \"#c51b7d\"], [0.2, \"#de77ae\"], [0.3, \"#f1b6da\"], [0.4, \"#fde0ef\"], [0.5, \"#f7f7f7\"], [0.6, \"#e6f5d0\"], [0.7, \"#b8e186\"], [0.8, \"#7fbc41\"], [0.9, \"#4d9221\"], [1, \"#276419\"]], \"sequential\": [[0.0, \"#0d0887\"], [0.1111111111111111, \"#46039f\"], [0.2222222222222222, \"#7201a8\"], [0.3333333333333333, \"#9c179e\"], [0.4444444444444444, \"#bd3786\"], [0.5555555555555556, \"#d8576b\"], [0.6666666666666666, \"#ed7953\"], [0.7777777777777778, \"#fb9f3a\"], [0.8888888888888888, \"#fdca26\"], [1.0, \"#f0f921\"]], \"sequentialminus\": [[0.0, \"#0d0887\"], [0.1111111111111111, \"#46039f\"], [0.2222222222222222, \"#7201a8\"], [0.3333333333333333, \"#9c179e\"], [0.4444444444444444, \"#bd3786\"], [0.5555555555555556, \"#d8576b\"], [0.6666666666666666, \"#ed7953\"], [0.7777777777777778, \"#fb9f3a\"], [0.8888888888888888, \"#fdca26\"], [1.0, \"#f0f921\"]]}, \"colorway\": [\"#636efa\", \"#EF553B\", \"#00cc96\", \"#ab63fa\", \"#FFA15A\", \"#19d3f3\", \"#FF6692\", \"#B6E880\", \"#FF97FF\", \"#FECB52\"], \"font\": {\"color\": \"#2a3f5f\"}, \"geo\": {\"bgcolor\": \"white\", \"lakecolor\": \"white\", \"landcolor\": \"#E5ECF6\", \"showlakes\": true, \"showland\": true, \"subunitcolor\": \"white\"}, \"hoverlabel\": {\"align\": \"left\"}, \"hovermode\": \"closest\", \"mapbox\": {\"style\": \"light\"}, \"paper_bgcolor\": \"white\", \"plot_bgcolor\": \"#E5ECF6\", \"polar\": {\"angularaxis\": {\"gridcolor\": \"white\", \"linecolor\": \"white\", \"ticks\": \"\"}, \"bgcolor\": \"#E5ECF6\", \"radialaxis\": {\"gridcolor\": \"white\", \"linecolor\": \"white\", \"ticks\": \"\"}}, \"scene\": {\"xaxis\": {\"backgroundcolor\": \"#E5ECF6\", \"gridcolor\": \"white\", \"gridwidth\": 2, \"linecolor\": \"white\", \"showbackground\": true, \"ticks\": \"\", \"zerolinecolor\": \"white\"}, \"yaxis\": {\"backgroundcolor\": \"#E5ECF6\", \"gridcolor\": \"white\", \"gridwidth\": 2, \"linecolor\": \"white\", \"showbackground\": true, \"ticks\": \"\", \"zerolinecolor\": \"white\"}, \"zaxis\": {\"backgroundcolor\": \"#E5ECF6\", \"gridcolor\": \"white\", \"gridwidth\": 2, \"linecolor\": \"white\", \"showbackground\": true, \"ticks\": \"\", \"zerolinecolor\": \"white\"}}, \"shapedefaults\": {\"line\": {\"color\": \"#2a3f5f\"}}, \"ternary\": {\"aaxis\": {\"gridcolor\": \"white\", \"linecolor\": \"white\", \"ticks\": \"\"}, \"baxis\": {\"gridcolor\": \"white\", \"linecolor\": \"white\", \"ticks\": \"\"}, \"bgcolor\": \"#E5ECF6\", \"caxis\": {\"gridcolor\": \"white\", \"linecolor\": \"white\", \"ticks\": \"\"}}, \"title\": {\"x\": 0.05}, \"xaxis\": {\"automargin\": true, \"gridcolor\": \"white\", \"linecolor\": \"white\", \"ticks\": \"\", \"title\": {\"standoff\": 15}, \"zerolinecolor\": \"white\", \"zerolinewidth\": 2}, \"yaxis\": {\"automargin\": true, \"gridcolor\": \"white\", \"linecolor\": \"white\", \"ticks\": \"\", \"title\": {\"standoff\": 15}, \"zerolinecolor\": \"white\", \"zerolinewidth\": 2}}}, \"title\": {\"text\": \"Unemployment Insurance Claims since Emergency Declaration,<br>by State (Hover for breakdown)\"}},\n",
       "                        {\"responsive\": true}\n",
       "                    ).then(function(){\n",
       "                            \n",
       "var gd = document.getElementById('bd433e21-bbb0-4cc8-b97a-1a08376abe1e');\n",
       "var x = new MutationObserver(function (mutations, observer) {{\n",
       "        var display = window.getComputedStyle(gd).display;\n",
       "        if (!display || display === 'none') {{\n",
       "            console.log([gd, 'removed!']);\n",
       "            Plotly.purge(gd);\n",
       "            observer.disconnect();\n",
       "        }}\n",
       "}});\n",
       "\n",
       "// Listen for the removal of the full notebook cells\n",
       "var notebookContainer = gd.closest('#notebook-container');\n",
       "if (notebookContainer) {{\n",
       "    x.observe(notebookContainer, {childList: true});\n",
       "}}\n",
       "\n",
       "// Listen for the clearing of the current output cell\n",
       "var outputEl = gd.closest('.output');\n",
       "if (outputEl) {{\n",
       "    x.observe(outputEl, {childList: true});\n",
       "}}\n",
       "\n",
       "                        })\n",
       "                };\n",
       "                });\n",
       "            </script>\n",
       "        </div>"
      ]
     },
     "metadata": {},
     "output_type": "display_data"
    }
   ],
   "source": [
    "#scale = 1000\n",
    "fig = go.Figure(data=go.Choropleth(\n",
    "    locations=df2['state'],\n",
    "    z=df2['iclaims_since_emergency'],\n",
    "    locationmode='USA-states',\n",
    "    colorscale='Oranges',\n",
    "    autocolorscale=False,\n",
    "    text=df2['text'], # hover text\n",
    "    marker_line_color='white', # line markers between states\n",
    "    colorbar_title=\"Unemployment Insurance Claims\"\n",
    "))\n",
    "\n",
    "fig.update_layout(\n",
    "    title_text='Unemployment Insurance Claims since Emergency Declaration,<br>by State (Hover for breakdown)',\n",
    "    geo = dict(\n",
    "        scope='usa',\n",
    "        projection=go.layout.geo.Projection(type = 'albers usa'),\n",
    "        showlakes=True, # lakes\n",
    "        lakecolor='rgb(255, 255, 255)'),\n",
    ")\n",
    "fig.show();"
   ]
  },
  {
   "cell_type": "code",
   "execution_count": 15,
   "metadata": {
    "ExecuteTime": {
     "end_time": "2020-04-08T00:54:10.283123Z",
     "start_time": "2020-04-08T00:54:10.124097Z"
    }
   },
   "outputs": [
    {
     "data": {
      "application/vnd.plotly.v1+json": {
       "config": {
        "plotlyServerURL": "https://plot.ly"
       },
       "data": [
        {
         "autocolorscale": false,
         "colorbar": {
          "title": {
           "text": "Number of Covid patients in ICU, Cumulative"
          }
         },
         "colorscale": [
          [
           0,
           "rgb(255,245,235)"
          ],
          [
           0.125,
           "rgb(254,230,206)"
          ],
          [
           0.25,
           "rgb(253,208,162)"
          ],
          [
           0.375,
           "rgb(253,174,107)"
          ],
          [
           0.5,
           "rgb(253,141,60)"
          ],
          [
           0.625,
           "rgb(241,105,19)"
          ],
          [
           0.75,
           "rgb(217,72,1)"
          ],
          [
           0.875,
           "rgb(166,54,3)"
          ],
          [
           1,
           "rgb(127,39,4)"
          ]
         ],
         "locationmode": "USA-states",
         "locations": [
          "FL",
          "CT",
          "ND",
          "MD",
          "LA",
          "DE",
          "GA",
          "NJ",
          "IL",
          "NV",
          "MN",
          "NC",
          "UT",
          "AZ",
          "IN",
          "RI",
          "CA",
          "WV",
          "MS",
          "VT",
          "KY",
          "NE",
          "OH",
          "DC",
          "NH",
          "IA",
          "AL",
          "CO",
          "MO",
          "OR",
          "TN",
          "WA",
          "MA",
          "SD",
          "OK",
          "ID",
          "HI",
          "KS",
          "AR",
          "NM",
          "ME",
          "TX",
          "NY",
          "WI",
          "VA",
          "SC",
          "AK",
          "PA",
          "MI",
          "MT",
          "WY"
         ],
         "marker": {
          "line": {
           "color": "white"
          }
         },
         "text": [
          "FL\nPositive: 14747.0, Deaths: 296.0, Negative: 123415.0, Total Tested: 139569",
          "CT\nPositive: 7781.0, Deaths: 277.0, Negative: 21255.0, Total Tested: 29036",
          "ND\nPositive: 237.0, Deaths: 4.0, Negative: 7466.0, Total Tested: 7703",
          "MD\nPositive: 4371.0, Deaths: 103.0, Negative: 27256.0, Total Tested: 31627",
          "LA\nPositive: 16284.0, Deaths: 582.0, Negative: 58371.0, Total Tested: 74655",
          "DE\nPositive: 928.0, Deaths: 16.0, Negative: 7628.0, Total Tested: 8556",
          "GA\nPositive: 8818.0, Deaths: 329.0, Negative: 24895.0, Total Tested: 33713",
          "NJ\nPositive: 44416.0, Deaths: 1232.0, Negative: 50558.0, Total Tested: 94974",
          "IL\nPositive: 13549.0, Deaths: 380.0, Negative: 55183.0, Total Tested: 68732",
          "NV\nPositive: 2087.0, Deaths: 58.0, Negative: 16552.0, Total Tested: 18639",
          "MN\nPositive: 1069.0, Deaths: 34.0, Negative: 28191.0, Total Tested: 29260",
          "NC\nPositive: 3221.0, Deaths: 46.0, Negative: 37861.0, Total Tested: 41082",
          "UT\nPositive: 1738.0, Deaths: 13.0, Negative: 32909.0, Total Tested: 34647",
          "AZ\nPositive: 2575.0, Deaths: 73.0, Negative: 30800.0, Total Tested: 33375",
          "IN\nPositive: 5507.0, Deaths: 173.0, Negative: 23257.0, Total Tested: 28764",
          "RI\nPositive: 1229.0, Deaths: 30.0, Negative: 7399.0, Total Tested: 8628",
          "CA\nPositive: 15865.0, Deaths: 374.0, Negative: 115364.0, Total Tested: 145329",
          "WV\nPositive: 412.0, Deaths: 4.0, Negative: 11647.0, Total Tested: 12059",
          "MS\nPositive: 1915.0, Deaths: 59.0, Negative: 18632.0, Total Tested: 20547",
          "VT\nPositive: 575.0, Deaths: 23.0, Negative: 6554.0, Total Tested: 7129",
          "KY\nPositive: 1008.0, Deaths: 59.0, Negative: 18947.0, Total Tested: 19955",
          "NE\nPositive: 447.0, Deaths: 10.0, Negative: 6811.0, Total Tested: 7258",
          "OH\nPositive: 4782.0, Deaths: 167.0, Negative: 46056.0, Total Tested: 50838",
          "DC\nPositive: 1211.0, Deaths: 22.0, Negative: 6612.0, Total Tested: 7823",
          "NH\nPositive: 715.0, Deaths: 9.0, Negative: 8019.0, Total Tested: 8783",
          "IA\nPositive: 1048.0, Deaths: 26.0, Negative: 11670.0, Total Tested: 12718",
          "AL\nPositive: 2119.0, Deaths: 56.0, Negative: 12797.0, Total Tested: 14916",
          "CO\nPositive: 5172.0, Deaths: 150.0, Negative: 21703.0, Total Tested: 26875",
          "MO\nPositive: 3037.0, Deaths: 53.0, Negative: 28932.0, Total Tested: 31969",
          "OR\nPositive: 1132.0, Deaths: 29.0, Negative: 20669.0, Total Tested: 21801",
          "TN\nPositive: 4138.0, Deaths: 72.0, Negative: 48736.0, Total Tested: 52874",
          "WA\nPositive: 8384.0, Deaths: 372.0, Negative: 83391.0, Total Tested: 91775",
          "MA\nPositive: 15202.0, Deaths: 356.0, Negative: 66142.0, Total Tested: 81344",
          "SD\nPositive: 320.0, Deaths: 6.0, Negative: 5948.0, Total Tested: 6270",
          "OK\nPositive: 1472.0, Deaths: 67.0, Negative: 11821.0, Total Tested: 13293",
          "ID\nPositive: 1170.0, Deaths: 13.0, Negative: 10076.0, Total Tested: 11246",
          "HI\nPositive: 387.0, Deaths: 5.0, Negative: 13155.0, Total Tested: 13542",
          "KS\nPositive: 900.0, Deaths: 27.0, Negative: 8614.0, Total Tested: 9514",
          "AR\nPositive: 946.0, Deaths: 16.0, Negative: 12692.0, Total Tested: 13638",
          "NM\nPositive: 686.0, Deaths: 12.0, Negative: 21139.0, Total Tested: 21825",
          "ME\nPositive: 519.0, Deaths: 12.0, Negative: 6088.0, Total Tested: 6607",
          "TX\nPositive: 8262.0, Deaths: 154.0, Negative: 80387.0, Total Tested: 88649",
          "NY\nPositive: 138863.0, Deaths: 5489.0, Negative: 201195.0, Total Tested: 340058",
          "WI\nPositive: 2578.0, Deaths: 92.0, Negative: 28512.0, Total Tested: 31090",
          "VA\nPositive: 3333.0, Deaths: 63.0, Negative: 25312.0, Total Tested: 28645",
          "SC\nPositive: 2417.0, Deaths: 51.0, Negative: 21263.0, Total Tested: 23680",
          "AK\nPositive: 213.0, Deaths: 6.0, Negative: 6700.0, Total Tested: 6913",
          "PA\nPositive: 14559.0, Deaths: 240.0, Negative: 76719.0, Total Tested: 91278",
          "MI\nPositive: 18970.0, Deaths: 845.0, Negative: 31362.0, Total Tested: 50332",
          "MT\nPositive: 319.0, Deaths: 6.0, Negative: 6666.0, Total Tested: 6985",
          "WY\nPositive: 216.0, Deaths: 0.0, Negative: 3789.0, Total Tested: 4005"
         ],
         "type": "choropleth",
         "z": [
          null,
          null,
          null,
          null,
          null,
          null,
          null,
          null,
          null,
          null,
          100,
          null,
          null,
          null,
          null,
          null,
          null,
          null,
          null,
          null,
          null,
          null,
          417,
          null,
          null,
          null,
          null,
          null,
          null,
          null,
          null,
          null,
          null,
          null,
          null,
          21,
          6,
          null,
          43,
          null,
          null,
          null,
          null,
          200,
          145,
          null,
          null,
          null,
          null,
          null,
          null
         ]
        }
       ],
       "layout": {
        "geo": {
         "lakecolor": "rgb(255, 255, 255)",
         "projection": {
          "type": "albers usa"
         },
         "scope": "usa",
         "showlakes": true
        },
        "template": {
         "data": {
          "bar": [
           {
            "error_x": {
             "color": "#2a3f5f"
            },
            "error_y": {
             "color": "#2a3f5f"
            },
            "marker": {
             "line": {
              "color": "#E5ECF6",
              "width": 0.5
             }
            },
            "type": "bar"
           }
          ],
          "barpolar": [
           {
            "marker": {
             "line": {
              "color": "#E5ECF6",
              "width": 0.5
             }
            },
            "type": "barpolar"
           }
          ],
          "carpet": [
           {
            "aaxis": {
             "endlinecolor": "#2a3f5f",
             "gridcolor": "white",
             "linecolor": "white",
             "minorgridcolor": "white",
             "startlinecolor": "#2a3f5f"
            },
            "baxis": {
             "endlinecolor": "#2a3f5f",
             "gridcolor": "white",
             "linecolor": "white",
             "minorgridcolor": "white",
             "startlinecolor": "#2a3f5f"
            },
            "type": "carpet"
           }
          ],
          "choropleth": [
           {
            "colorbar": {
             "outlinewidth": 0,
             "ticks": ""
            },
            "type": "choropleth"
           }
          ],
          "contour": [
           {
            "colorbar": {
             "outlinewidth": 0,
             "ticks": ""
            },
            "colorscale": [
             [
              0,
              "#0d0887"
             ],
             [
              0.1111111111111111,
              "#46039f"
             ],
             [
              0.2222222222222222,
              "#7201a8"
             ],
             [
              0.3333333333333333,
              "#9c179e"
             ],
             [
              0.4444444444444444,
              "#bd3786"
             ],
             [
              0.5555555555555556,
              "#d8576b"
             ],
             [
              0.6666666666666666,
              "#ed7953"
             ],
             [
              0.7777777777777778,
              "#fb9f3a"
             ],
             [
              0.8888888888888888,
              "#fdca26"
             ],
             [
              1,
              "#f0f921"
             ]
            ],
            "type": "contour"
           }
          ],
          "contourcarpet": [
           {
            "colorbar": {
             "outlinewidth": 0,
             "ticks": ""
            },
            "type": "contourcarpet"
           }
          ],
          "heatmap": [
           {
            "colorbar": {
             "outlinewidth": 0,
             "ticks": ""
            },
            "colorscale": [
             [
              0,
              "#0d0887"
             ],
             [
              0.1111111111111111,
              "#46039f"
             ],
             [
              0.2222222222222222,
              "#7201a8"
             ],
             [
              0.3333333333333333,
              "#9c179e"
             ],
             [
              0.4444444444444444,
              "#bd3786"
             ],
             [
              0.5555555555555556,
              "#d8576b"
             ],
             [
              0.6666666666666666,
              "#ed7953"
             ],
             [
              0.7777777777777778,
              "#fb9f3a"
             ],
             [
              0.8888888888888888,
              "#fdca26"
             ],
             [
              1,
              "#f0f921"
             ]
            ],
            "type": "heatmap"
           }
          ],
          "heatmapgl": [
           {
            "colorbar": {
             "outlinewidth": 0,
             "ticks": ""
            },
            "colorscale": [
             [
              0,
              "#0d0887"
             ],
             [
              0.1111111111111111,
              "#46039f"
             ],
             [
              0.2222222222222222,
              "#7201a8"
             ],
             [
              0.3333333333333333,
              "#9c179e"
             ],
             [
              0.4444444444444444,
              "#bd3786"
             ],
             [
              0.5555555555555556,
              "#d8576b"
             ],
             [
              0.6666666666666666,
              "#ed7953"
             ],
             [
              0.7777777777777778,
              "#fb9f3a"
             ],
             [
              0.8888888888888888,
              "#fdca26"
             ],
             [
              1,
              "#f0f921"
             ]
            ],
            "type": "heatmapgl"
           }
          ],
          "histogram": [
           {
            "marker": {
             "colorbar": {
              "outlinewidth": 0,
              "ticks": ""
             }
            },
            "type": "histogram"
           }
          ],
          "histogram2d": [
           {
            "colorbar": {
             "outlinewidth": 0,
             "ticks": ""
            },
            "colorscale": [
             [
              0,
              "#0d0887"
             ],
             [
              0.1111111111111111,
              "#46039f"
             ],
             [
              0.2222222222222222,
              "#7201a8"
             ],
             [
              0.3333333333333333,
              "#9c179e"
             ],
             [
              0.4444444444444444,
              "#bd3786"
             ],
             [
              0.5555555555555556,
              "#d8576b"
             ],
             [
              0.6666666666666666,
              "#ed7953"
             ],
             [
              0.7777777777777778,
              "#fb9f3a"
             ],
             [
              0.8888888888888888,
              "#fdca26"
             ],
             [
              1,
              "#f0f921"
             ]
            ],
            "type": "histogram2d"
           }
          ],
          "histogram2dcontour": [
           {
            "colorbar": {
             "outlinewidth": 0,
             "ticks": ""
            },
            "colorscale": [
             [
              0,
              "#0d0887"
             ],
             [
              0.1111111111111111,
              "#46039f"
             ],
             [
              0.2222222222222222,
              "#7201a8"
             ],
             [
              0.3333333333333333,
              "#9c179e"
             ],
             [
              0.4444444444444444,
              "#bd3786"
             ],
             [
              0.5555555555555556,
              "#d8576b"
             ],
             [
              0.6666666666666666,
              "#ed7953"
             ],
             [
              0.7777777777777778,
              "#fb9f3a"
             ],
             [
              0.8888888888888888,
              "#fdca26"
             ],
             [
              1,
              "#f0f921"
             ]
            ],
            "type": "histogram2dcontour"
           }
          ],
          "mesh3d": [
           {
            "colorbar": {
             "outlinewidth": 0,
             "ticks": ""
            },
            "type": "mesh3d"
           }
          ],
          "parcoords": [
           {
            "line": {
             "colorbar": {
              "outlinewidth": 0,
              "ticks": ""
             }
            },
            "type": "parcoords"
           }
          ],
          "pie": [
           {
            "automargin": true,
            "type": "pie"
           }
          ],
          "scatter": [
           {
            "marker": {
             "colorbar": {
              "outlinewidth": 0,
              "ticks": ""
             }
            },
            "type": "scatter"
           }
          ],
          "scatter3d": [
           {
            "line": {
             "colorbar": {
              "outlinewidth": 0,
              "ticks": ""
             }
            },
            "marker": {
             "colorbar": {
              "outlinewidth": 0,
              "ticks": ""
             }
            },
            "type": "scatter3d"
           }
          ],
          "scattercarpet": [
           {
            "marker": {
             "colorbar": {
              "outlinewidth": 0,
              "ticks": ""
             }
            },
            "type": "scattercarpet"
           }
          ],
          "scattergeo": [
           {
            "marker": {
             "colorbar": {
              "outlinewidth": 0,
              "ticks": ""
             }
            },
            "type": "scattergeo"
           }
          ],
          "scattergl": [
           {
            "marker": {
             "colorbar": {
              "outlinewidth": 0,
              "ticks": ""
             }
            },
            "type": "scattergl"
           }
          ],
          "scattermapbox": [
           {
            "marker": {
             "colorbar": {
              "outlinewidth": 0,
              "ticks": ""
             }
            },
            "type": "scattermapbox"
           }
          ],
          "scatterpolar": [
           {
            "marker": {
             "colorbar": {
              "outlinewidth": 0,
              "ticks": ""
             }
            },
            "type": "scatterpolar"
           }
          ],
          "scatterpolargl": [
           {
            "marker": {
             "colorbar": {
              "outlinewidth": 0,
              "ticks": ""
             }
            },
            "type": "scatterpolargl"
           }
          ],
          "scatterternary": [
           {
            "marker": {
             "colorbar": {
              "outlinewidth": 0,
              "ticks": ""
             }
            },
            "type": "scatterternary"
           }
          ],
          "surface": [
           {
            "colorbar": {
             "outlinewidth": 0,
             "ticks": ""
            },
            "colorscale": [
             [
              0,
              "#0d0887"
             ],
             [
              0.1111111111111111,
              "#46039f"
             ],
             [
              0.2222222222222222,
              "#7201a8"
             ],
             [
              0.3333333333333333,
              "#9c179e"
             ],
             [
              0.4444444444444444,
              "#bd3786"
             ],
             [
              0.5555555555555556,
              "#d8576b"
             ],
             [
              0.6666666666666666,
              "#ed7953"
             ],
             [
              0.7777777777777778,
              "#fb9f3a"
             ],
             [
              0.8888888888888888,
              "#fdca26"
             ],
             [
              1,
              "#f0f921"
             ]
            ],
            "type": "surface"
           }
          ],
          "table": [
           {
            "cells": {
             "fill": {
              "color": "#EBF0F8"
             },
             "line": {
              "color": "white"
             }
            },
            "header": {
             "fill": {
              "color": "#C8D4E3"
             },
             "line": {
              "color": "white"
             }
            },
            "type": "table"
           }
          ]
         },
         "layout": {
          "annotationdefaults": {
           "arrowcolor": "#2a3f5f",
           "arrowhead": 0,
           "arrowwidth": 1
          },
          "coloraxis": {
           "colorbar": {
            "outlinewidth": 0,
            "ticks": ""
           }
          },
          "colorscale": {
           "diverging": [
            [
             0,
             "#8e0152"
            ],
            [
             0.1,
             "#c51b7d"
            ],
            [
             0.2,
             "#de77ae"
            ],
            [
             0.3,
             "#f1b6da"
            ],
            [
             0.4,
             "#fde0ef"
            ],
            [
             0.5,
             "#f7f7f7"
            ],
            [
             0.6,
             "#e6f5d0"
            ],
            [
             0.7,
             "#b8e186"
            ],
            [
             0.8,
             "#7fbc41"
            ],
            [
             0.9,
             "#4d9221"
            ],
            [
             1,
             "#276419"
            ]
           ],
           "sequential": [
            [
             0,
             "#0d0887"
            ],
            [
             0.1111111111111111,
             "#46039f"
            ],
            [
             0.2222222222222222,
             "#7201a8"
            ],
            [
             0.3333333333333333,
             "#9c179e"
            ],
            [
             0.4444444444444444,
             "#bd3786"
            ],
            [
             0.5555555555555556,
             "#d8576b"
            ],
            [
             0.6666666666666666,
             "#ed7953"
            ],
            [
             0.7777777777777778,
             "#fb9f3a"
            ],
            [
             0.8888888888888888,
             "#fdca26"
            ],
            [
             1,
             "#f0f921"
            ]
           ],
           "sequentialminus": [
            [
             0,
             "#0d0887"
            ],
            [
             0.1111111111111111,
             "#46039f"
            ],
            [
             0.2222222222222222,
             "#7201a8"
            ],
            [
             0.3333333333333333,
             "#9c179e"
            ],
            [
             0.4444444444444444,
             "#bd3786"
            ],
            [
             0.5555555555555556,
             "#d8576b"
            ],
            [
             0.6666666666666666,
             "#ed7953"
            ],
            [
             0.7777777777777778,
             "#fb9f3a"
            ],
            [
             0.8888888888888888,
             "#fdca26"
            ],
            [
             1,
             "#f0f921"
            ]
           ]
          },
          "colorway": [
           "#636efa",
           "#EF553B",
           "#00cc96",
           "#ab63fa",
           "#FFA15A",
           "#19d3f3",
           "#FF6692",
           "#B6E880",
           "#FF97FF",
           "#FECB52"
          ],
          "font": {
           "color": "#2a3f5f"
          },
          "geo": {
           "bgcolor": "white",
           "lakecolor": "white",
           "landcolor": "#E5ECF6",
           "showlakes": true,
           "showland": true,
           "subunitcolor": "white"
          },
          "hoverlabel": {
           "align": "left"
          },
          "hovermode": "closest",
          "mapbox": {
           "style": "light"
          },
          "paper_bgcolor": "white",
          "plot_bgcolor": "#E5ECF6",
          "polar": {
           "angularaxis": {
            "gridcolor": "white",
            "linecolor": "white",
            "ticks": ""
           },
           "bgcolor": "#E5ECF6",
           "radialaxis": {
            "gridcolor": "white",
            "linecolor": "white",
            "ticks": ""
           }
          },
          "scene": {
           "xaxis": {
            "backgroundcolor": "#E5ECF6",
            "gridcolor": "white",
            "gridwidth": 2,
            "linecolor": "white",
            "showbackground": true,
            "ticks": "",
            "zerolinecolor": "white"
           },
           "yaxis": {
            "backgroundcolor": "#E5ECF6",
            "gridcolor": "white",
            "gridwidth": 2,
            "linecolor": "white",
            "showbackground": true,
            "ticks": "",
            "zerolinecolor": "white"
           },
           "zaxis": {
            "backgroundcolor": "#E5ECF6",
            "gridcolor": "white",
            "gridwidth": 2,
            "linecolor": "white",
            "showbackground": true,
            "ticks": "",
            "zerolinecolor": "white"
           }
          },
          "shapedefaults": {
           "line": {
            "color": "#2a3f5f"
           }
          },
          "ternary": {
           "aaxis": {
            "gridcolor": "white",
            "linecolor": "white",
            "ticks": ""
           },
           "baxis": {
            "gridcolor": "white",
            "linecolor": "white",
            "ticks": ""
           },
           "bgcolor": "#E5ECF6",
           "caxis": {
            "gridcolor": "white",
            "linecolor": "white",
            "ticks": ""
           }
          },
          "title": {
           "x": 0.05
          },
          "xaxis": {
           "automargin": true,
           "gridcolor": "white",
           "linecolor": "white",
           "ticks": "",
           "title": {
            "standoff": 15
           },
           "zerolinecolor": "white",
           "zerolinewidth": 2
          },
          "yaxis": {
           "automargin": true,
           "gridcolor": "white",
           "linecolor": "white",
           "ticks": "",
           "title": {
            "standoff": 15
           },
           "zerolinecolor": "white",
           "zerolinewidth": 2
          }
         }
        },
        "title": {
         "text": "Number of Covid patients in ICU, Cumulative,<br>for ID, MN, WI, OH, VA (Hover for breakdown)"
        }
       }
      },
      "text/html": [
       "<div>\n",
       "        \n",
       "        \n",
       "            <div id=\"14f0a490-a616-4afc-87e3-7a590f867a27\" class=\"plotly-graph-div\" style=\"height:525px; width:100%;\"></div>\n",
       "            <script type=\"text/javascript\">\n",
       "                require([\"plotly\"], function(Plotly) {\n",
       "                    window.PLOTLYENV=window.PLOTLYENV || {};\n",
       "                    \n",
       "                if (document.getElementById(\"14f0a490-a616-4afc-87e3-7a590f867a27\")) {\n",
       "                    Plotly.newPlot(\n",
       "                        '14f0a490-a616-4afc-87e3-7a590f867a27',\n",
       "                        [{\"autocolorscale\": false, \"colorbar\": {\"title\": {\"text\": \"Number of Covid patients in ICU, Cumulative\"}}, \"colorscale\": [[0.0, \"rgb(255,245,235)\"], [0.125, \"rgb(254,230,206)\"], [0.25, \"rgb(253,208,162)\"], [0.375, \"rgb(253,174,107)\"], [0.5, \"rgb(253,141,60)\"], [0.625, \"rgb(241,105,19)\"], [0.75, \"rgb(217,72,1)\"], [0.875, \"rgb(166,54,3)\"], [1.0, \"rgb(127,39,4)\"]], \"locationmode\": \"USA-states\", \"locations\": [\"FL\", \"CT\", \"ND\", \"MD\", \"LA\", \"DE\", \"GA\", \"NJ\", \"IL\", \"NV\", \"MN\", \"NC\", \"UT\", \"AZ\", \"IN\", \"RI\", \"CA\", \"WV\", \"MS\", \"VT\", \"KY\", \"NE\", \"OH\", \"DC\", \"NH\", \"IA\", \"AL\", \"CO\", \"MO\", \"OR\", \"TN\", \"WA\", \"MA\", \"SD\", \"OK\", \"ID\", \"HI\", \"KS\", \"AR\", \"NM\", \"ME\", \"TX\", \"NY\", \"WI\", \"VA\", \"SC\", \"AK\", \"PA\", \"MI\", \"MT\", \"WY\"], \"marker\": {\"line\": {\"color\": \"white\"}}, \"text\": [\"FL\\nPositive: 14747.0, Deaths: 296.0, Negative: 123415.0, Total Tested: 139569\", \"CT\\nPositive: 7781.0, Deaths: 277.0, Negative: 21255.0, Total Tested: 29036\", \"ND\\nPositive: 237.0, Deaths: 4.0, Negative: 7466.0, Total Tested: 7703\", \"MD\\nPositive: 4371.0, Deaths: 103.0, Negative: 27256.0, Total Tested: 31627\", \"LA\\nPositive: 16284.0, Deaths: 582.0, Negative: 58371.0, Total Tested: 74655\", \"DE\\nPositive: 928.0, Deaths: 16.0, Negative: 7628.0, Total Tested: 8556\", \"GA\\nPositive: 8818.0, Deaths: 329.0, Negative: 24895.0, Total Tested: 33713\", \"NJ\\nPositive: 44416.0, Deaths: 1232.0, Negative: 50558.0, Total Tested: 94974\", \"IL\\nPositive: 13549.0, Deaths: 380.0, Negative: 55183.0, Total Tested: 68732\", \"NV\\nPositive: 2087.0, Deaths: 58.0, Negative: 16552.0, Total Tested: 18639\", \"MN\\nPositive: 1069.0, Deaths: 34.0, Negative: 28191.0, Total Tested: 29260\", \"NC\\nPositive: 3221.0, Deaths: 46.0, Negative: 37861.0, Total Tested: 41082\", \"UT\\nPositive: 1738.0, Deaths: 13.0, Negative: 32909.0, Total Tested: 34647\", \"AZ\\nPositive: 2575.0, Deaths: 73.0, Negative: 30800.0, Total Tested: 33375\", \"IN\\nPositive: 5507.0, Deaths: 173.0, Negative: 23257.0, Total Tested: 28764\", \"RI\\nPositive: 1229.0, Deaths: 30.0, Negative: 7399.0, Total Tested: 8628\", \"CA\\nPositive: 15865.0, Deaths: 374.0, Negative: 115364.0, Total Tested: 145329\", \"WV\\nPositive: 412.0, Deaths: 4.0, Negative: 11647.0, Total Tested: 12059\", \"MS\\nPositive: 1915.0, Deaths: 59.0, Negative: 18632.0, Total Tested: 20547\", \"VT\\nPositive: 575.0, Deaths: 23.0, Negative: 6554.0, Total Tested: 7129\", \"KY\\nPositive: 1008.0, Deaths: 59.0, Negative: 18947.0, Total Tested: 19955\", \"NE\\nPositive: 447.0, Deaths: 10.0, Negative: 6811.0, Total Tested: 7258\", \"OH\\nPositive: 4782.0, Deaths: 167.0, Negative: 46056.0, Total Tested: 50838\", \"DC\\nPositive: 1211.0, Deaths: 22.0, Negative: 6612.0, Total Tested: 7823\", \"NH\\nPositive: 715.0, Deaths: 9.0, Negative: 8019.0, Total Tested: 8783\", \"IA\\nPositive: 1048.0, Deaths: 26.0, Negative: 11670.0, Total Tested: 12718\", \"AL\\nPositive: 2119.0, Deaths: 56.0, Negative: 12797.0, Total Tested: 14916\", \"CO\\nPositive: 5172.0, Deaths: 150.0, Negative: 21703.0, Total Tested: 26875\", \"MO\\nPositive: 3037.0, Deaths: 53.0, Negative: 28932.0, Total Tested: 31969\", \"OR\\nPositive: 1132.0, Deaths: 29.0, Negative: 20669.0, Total Tested: 21801\", \"TN\\nPositive: 4138.0, Deaths: 72.0, Negative: 48736.0, Total Tested: 52874\", \"WA\\nPositive: 8384.0, Deaths: 372.0, Negative: 83391.0, Total Tested: 91775\", \"MA\\nPositive: 15202.0, Deaths: 356.0, Negative: 66142.0, Total Tested: 81344\", \"SD\\nPositive: 320.0, Deaths: 6.0, Negative: 5948.0, Total Tested: 6270\", \"OK\\nPositive: 1472.0, Deaths: 67.0, Negative: 11821.0, Total Tested: 13293\", \"ID\\nPositive: 1170.0, Deaths: 13.0, Negative: 10076.0, Total Tested: 11246\", \"HI\\nPositive: 387.0, Deaths: 5.0, Negative: 13155.0, Total Tested: 13542\", \"KS\\nPositive: 900.0, Deaths: 27.0, Negative: 8614.0, Total Tested: 9514\", \"AR\\nPositive: 946.0, Deaths: 16.0, Negative: 12692.0, Total Tested: 13638\", \"NM\\nPositive: 686.0, Deaths: 12.0, Negative: 21139.0, Total Tested: 21825\", \"ME\\nPositive: 519.0, Deaths: 12.0, Negative: 6088.0, Total Tested: 6607\", \"TX\\nPositive: 8262.0, Deaths: 154.0, Negative: 80387.0, Total Tested: 88649\", \"NY\\nPositive: 138863.0, Deaths: 5489.0, Negative: 201195.0, Total Tested: 340058\", \"WI\\nPositive: 2578.0, Deaths: 92.0, Negative: 28512.0, Total Tested: 31090\", \"VA\\nPositive: 3333.0, Deaths: 63.0, Negative: 25312.0, Total Tested: 28645\", \"SC\\nPositive: 2417.0, Deaths: 51.0, Negative: 21263.0, Total Tested: 23680\", \"AK\\nPositive: 213.0, Deaths: 6.0, Negative: 6700.0, Total Tested: 6913\", \"PA\\nPositive: 14559.0, Deaths: 240.0, Negative: 76719.0, Total Tested: 91278\", \"MI\\nPositive: 18970.0, Deaths: 845.0, Negative: 31362.0, Total Tested: 50332\", \"MT\\nPositive: 319.0, Deaths: 6.0, Negative: 6666.0, Total Tested: 6985\", \"WY\\nPositive: 216.0, Deaths: 0.0, Negative: 3789.0, Total Tested: 4005\"], \"type\": \"choropleth\", \"z\": [null, null, null, null, null, null, null, null, null, null, 100.0, null, null, null, null, null, null, null, null, null, null, null, 417.0, null, null, null, null, null, null, null, null, null, null, null, null, 21.0, 6.0, null, 43.0, null, null, null, null, 200.0, 145.0, null, null, null, null, null, null]}],\n",
       "                        {\"geo\": {\"lakecolor\": \"rgb(255, 255, 255)\", \"projection\": {\"type\": \"albers usa\"}, \"scope\": \"usa\", \"showlakes\": true}, \"template\": {\"data\": {\"bar\": [{\"error_x\": {\"color\": \"#2a3f5f\"}, \"error_y\": {\"color\": \"#2a3f5f\"}, \"marker\": {\"line\": {\"color\": \"#E5ECF6\", \"width\": 0.5}}, \"type\": \"bar\"}], \"barpolar\": [{\"marker\": {\"line\": {\"color\": \"#E5ECF6\", \"width\": 0.5}}, \"type\": \"barpolar\"}], \"carpet\": [{\"aaxis\": {\"endlinecolor\": \"#2a3f5f\", \"gridcolor\": \"white\", \"linecolor\": \"white\", \"minorgridcolor\": \"white\", \"startlinecolor\": \"#2a3f5f\"}, \"baxis\": {\"endlinecolor\": \"#2a3f5f\", \"gridcolor\": \"white\", \"linecolor\": \"white\", \"minorgridcolor\": \"white\", \"startlinecolor\": \"#2a3f5f\"}, \"type\": \"carpet\"}], \"choropleth\": [{\"colorbar\": {\"outlinewidth\": 0, \"ticks\": \"\"}, \"type\": \"choropleth\"}], \"contour\": [{\"colorbar\": {\"outlinewidth\": 0, \"ticks\": \"\"}, \"colorscale\": [[0.0, \"#0d0887\"], [0.1111111111111111, \"#46039f\"], [0.2222222222222222, \"#7201a8\"], [0.3333333333333333, \"#9c179e\"], [0.4444444444444444, \"#bd3786\"], [0.5555555555555556, \"#d8576b\"], [0.6666666666666666, \"#ed7953\"], [0.7777777777777778, \"#fb9f3a\"], [0.8888888888888888, \"#fdca26\"], [1.0, \"#f0f921\"]], \"type\": \"contour\"}], \"contourcarpet\": [{\"colorbar\": {\"outlinewidth\": 0, \"ticks\": \"\"}, \"type\": \"contourcarpet\"}], \"heatmap\": [{\"colorbar\": {\"outlinewidth\": 0, \"ticks\": \"\"}, \"colorscale\": [[0.0, \"#0d0887\"], [0.1111111111111111, \"#46039f\"], [0.2222222222222222, \"#7201a8\"], [0.3333333333333333, \"#9c179e\"], [0.4444444444444444, \"#bd3786\"], [0.5555555555555556, \"#d8576b\"], [0.6666666666666666, \"#ed7953\"], [0.7777777777777778, \"#fb9f3a\"], [0.8888888888888888, \"#fdca26\"], [1.0, \"#f0f921\"]], \"type\": \"heatmap\"}], \"heatmapgl\": [{\"colorbar\": {\"outlinewidth\": 0, \"ticks\": \"\"}, \"colorscale\": [[0.0, \"#0d0887\"], [0.1111111111111111, \"#46039f\"], [0.2222222222222222, \"#7201a8\"], [0.3333333333333333, \"#9c179e\"], [0.4444444444444444, \"#bd3786\"], [0.5555555555555556, \"#d8576b\"], [0.6666666666666666, \"#ed7953\"], [0.7777777777777778, \"#fb9f3a\"], [0.8888888888888888, \"#fdca26\"], [1.0, \"#f0f921\"]], \"type\": \"heatmapgl\"}], \"histogram\": [{\"marker\": {\"colorbar\": {\"outlinewidth\": 0, \"ticks\": \"\"}}, \"type\": \"histogram\"}], \"histogram2d\": [{\"colorbar\": {\"outlinewidth\": 0, \"ticks\": \"\"}, \"colorscale\": [[0.0, \"#0d0887\"], [0.1111111111111111, \"#46039f\"], [0.2222222222222222, \"#7201a8\"], [0.3333333333333333, \"#9c179e\"], [0.4444444444444444, \"#bd3786\"], [0.5555555555555556, \"#d8576b\"], [0.6666666666666666, \"#ed7953\"], [0.7777777777777778, \"#fb9f3a\"], [0.8888888888888888, \"#fdca26\"], [1.0, \"#f0f921\"]], \"type\": \"histogram2d\"}], \"histogram2dcontour\": [{\"colorbar\": {\"outlinewidth\": 0, \"ticks\": \"\"}, \"colorscale\": [[0.0, \"#0d0887\"], [0.1111111111111111, \"#46039f\"], [0.2222222222222222, \"#7201a8\"], [0.3333333333333333, \"#9c179e\"], [0.4444444444444444, \"#bd3786\"], [0.5555555555555556, \"#d8576b\"], [0.6666666666666666, \"#ed7953\"], [0.7777777777777778, \"#fb9f3a\"], [0.8888888888888888, \"#fdca26\"], [1.0, \"#f0f921\"]], \"type\": \"histogram2dcontour\"}], \"mesh3d\": [{\"colorbar\": {\"outlinewidth\": 0, \"ticks\": \"\"}, \"type\": \"mesh3d\"}], \"parcoords\": [{\"line\": {\"colorbar\": {\"outlinewidth\": 0, \"ticks\": \"\"}}, \"type\": \"parcoords\"}], \"pie\": [{\"automargin\": true, \"type\": \"pie\"}], \"scatter\": [{\"marker\": {\"colorbar\": {\"outlinewidth\": 0, \"ticks\": \"\"}}, \"type\": \"scatter\"}], \"scatter3d\": [{\"line\": {\"colorbar\": {\"outlinewidth\": 0, \"ticks\": \"\"}}, \"marker\": {\"colorbar\": {\"outlinewidth\": 0, \"ticks\": \"\"}}, \"type\": \"scatter3d\"}], \"scattercarpet\": [{\"marker\": {\"colorbar\": {\"outlinewidth\": 0, \"ticks\": \"\"}}, \"type\": \"scattercarpet\"}], \"scattergeo\": [{\"marker\": {\"colorbar\": {\"outlinewidth\": 0, \"ticks\": \"\"}}, \"type\": \"scattergeo\"}], \"scattergl\": [{\"marker\": {\"colorbar\": {\"outlinewidth\": 0, \"ticks\": \"\"}}, \"type\": \"scattergl\"}], \"scattermapbox\": [{\"marker\": {\"colorbar\": {\"outlinewidth\": 0, \"ticks\": \"\"}}, \"type\": \"scattermapbox\"}], \"scatterpolar\": [{\"marker\": {\"colorbar\": {\"outlinewidth\": 0, \"ticks\": \"\"}}, \"type\": \"scatterpolar\"}], \"scatterpolargl\": [{\"marker\": {\"colorbar\": {\"outlinewidth\": 0, \"ticks\": \"\"}}, \"type\": \"scatterpolargl\"}], \"scatterternary\": [{\"marker\": {\"colorbar\": {\"outlinewidth\": 0, \"ticks\": \"\"}}, \"type\": \"scatterternary\"}], \"surface\": [{\"colorbar\": {\"outlinewidth\": 0, \"ticks\": \"\"}, \"colorscale\": [[0.0, \"#0d0887\"], [0.1111111111111111, \"#46039f\"], [0.2222222222222222, \"#7201a8\"], [0.3333333333333333, \"#9c179e\"], [0.4444444444444444, \"#bd3786\"], [0.5555555555555556, \"#d8576b\"], [0.6666666666666666, \"#ed7953\"], [0.7777777777777778, \"#fb9f3a\"], [0.8888888888888888, \"#fdca26\"], [1.0, \"#f0f921\"]], \"type\": \"surface\"}], \"table\": [{\"cells\": {\"fill\": {\"color\": \"#EBF0F8\"}, \"line\": {\"color\": \"white\"}}, \"header\": {\"fill\": {\"color\": \"#C8D4E3\"}, \"line\": {\"color\": \"white\"}}, \"type\": \"table\"}]}, \"layout\": {\"annotationdefaults\": {\"arrowcolor\": \"#2a3f5f\", \"arrowhead\": 0, \"arrowwidth\": 1}, \"coloraxis\": {\"colorbar\": {\"outlinewidth\": 0, \"ticks\": \"\"}}, \"colorscale\": {\"diverging\": [[0, \"#8e0152\"], [0.1, \"#c51b7d\"], [0.2, \"#de77ae\"], [0.3, \"#f1b6da\"], [0.4, \"#fde0ef\"], [0.5, \"#f7f7f7\"], [0.6, \"#e6f5d0\"], [0.7, \"#b8e186\"], [0.8, \"#7fbc41\"], [0.9, \"#4d9221\"], [1, \"#276419\"]], \"sequential\": [[0.0, \"#0d0887\"], [0.1111111111111111, \"#46039f\"], [0.2222222222222222, \"#7201a8\"], [0.3333333333333333, \"#9c179e\"], [0.4444444444444444, \"#bd3786\"], [0.5555555555555556, \"#d8576b\"], [0.6666666666666666, \"#ed7953\"], [0.7777777777777778, \"#fb9f3a\"], [0.8888888888888888, \"#fdca26\"], [1.0, \"#f0f921\"]], \"sequentialminus\": [[0.0, \"#0d0887\"], [0.1111111111111111, \"#46039f\"], [0.2222222222222222, \"#7201a8\"], [0.3333333333333333, \"#9c179e\"], [0.4444444444444444, \"#bd3786\"], [0.5555555555555556, \"#d8576b\"], [0.6666666666666666, \"#ed7953\"], [0.7777777777777778, \"#fb9f3a\"], [0.8888888888888888, \"#fdca26\"], [1.0, \"#f0f921\"]]}, \"colorway\": [\"#636efa\", \"#EF553B\", \"#00cc96\", \"#ab63fa\", \"#FFA15A\", \"#19d3f3\", \"#FF6692\", \"#B6E880\", \"#FF97FF\", \"#FECB52\"], \"font\": {\"color\": \"#2a3f5f\"}, \"geo\": {\"bgcolor\": \"white\", \"lakecolor\": \"white\", \"landcolor\": \"#E5ECF6\", \"showlakes\": true, \"showland\": true, \"subunitcolor\": \"white\"}, \"hoverlabel\": {\"align\": \"left\"}, \"hovermode\": \"closest\", \"mapbox\": {\"style\": \"light\"}, \"paper_bgcolor\": \"white\", \"plot_bgcolor\": \"#E5ECF6\", \"polar\": {\"angularaxis\": {\"gridcolor\": \"white\", \"linecolor\": \"white\", \"ticks\": \"\"}, \"bgcolor\": \"#E5ECF6\", \"radialaxis\": {\"gridcolor\": \"white\", \"linecolor\": \"white\", \"ticks\": \"\"}}, \"scene\": {\"xaxis\": {\"backgroundcolor\": \"#E5ECF6\", \"gridcolor\": \"white\", \"gridwidth\": 2, \"linecolor\": \"white\", \"showbackground\": true, \"ticks\": \"\", \"zerolinecolor\": \"white\"}, \"yaxis\": {\"backgroundcolor\": \"#E5ECF6\", \"gridcolor\": \"white\", \"gridwidth\": 2, \"linecolor\": \"white\", \"showbackground\": true, \"ticks\": \"\", \"zerolinecolor\": \"white\"}, \"zaxis\": {\"backgroundcolor\": \"#E5ECF6\", \"gridcolor\": \"white\", \"gridwidth\": 2, \"linecolor\": \"white\", \"showbackground\": true, \"ticks\": \"\", \"zerolinecolor\": \"white\"}}, \"shapedefaults\": {\"line\": {\"color\": \"#2a3f5f\"}}, \"ternary\": {\"aaxis\": {\"gridcolor\": \"white\", \"linecolor\": \"white\", \"ticks\": \"\"}, \"baxis\": {\"gridcolor\": \"white\", \"linecolor\": \"white\", \"ticks\": \"\"}, \"bgcolor\": \"#E5ECF6\", \"caxis\": {\"gridcolor\": \"white\", \"linecolor\": \"white\", \"ticks\": \"\"}}, \"title\": {\"x\": 0.05}, \"xaxis\": {\"automargin\": true, \"gridcolor\": \"white\", \"linecolor\": \"white\", \"ticks\": \"\", \"title\": {\"standoff\": 15}, \"zerolinecolor\": \"white\", \"zerolinewidth\": 2}, \"yaxis\": {\"automargin\": true, \"gridcolor\": \"white\", \"linecolor\": \"white\", \"ticks\": \"\", \"title\": {\"standoff\": 15}, \"zerolinecolor\": \"white\", \"zerolinewidth\": 2}}}, \"title\": {\"text\": \"Number of Covid patients in ICU, Cumulative,<br>for ID, MN, WI, OH, VA (Hover for breakdown)\"}},\n",
       "                        {\"responsive\": true}\n",
       "                    ).then(function(){\n",
       "                            \n",
       "var gd = document.getElementById('14f0a490-a616-4afc-87e3-7a590f867a27');\n",
       "var x = new MutationObserver(function (mutations, observer) {{\n",
       "        var display = window.getComputedStyle(gd).display;\n",
       "        if (!display || display === 'none') {{\n",
       "            console.log([gd, 'removed!']);\n",
       "            Plotly.purge(gd);\n",
       "            observer.disconnect();\n",
       "        }}\n",
       "}});\n",
       "\n",
       "// Listen for the removal of the full notebook cells\n",
       "var notebookContainer = gd.closest('#notebook-container');\n",
       "if (notebookContainer) {{\n",
       "    x.observe(notebookContainer, {childList: true});\n",
       "}}\n",
       "\n",
       "// Listen for the clearing of the current output cell\n",
       "var outputEl = gd.closest('.output');\n",
       "if (outputEl) {{\n",
       "    x.observe(outputEl, {childList: true});\n",
       "}}\n",
       "\n",
       "                        })\n",
       "                };\n",
       "                });\n",
       "            </script>\n",
       "        </div>"
      ]
     },
     "metadata": {},
     "output_type": "display_data"
    }
   ],
   "source": [
    "#scale = 1000\n",
    "fig = go.Figure(data=go.Choropleth(\n",
    "    locations=df2['state'],\n",
    "    z=df2['inIcuCumulative'],\n",
    "    locationmode='USA-states',\n",
    "    colorscale='Oranges',\n",
    "    autocolorscale=False,\n",
    "    text=df2['text'], # hover text\n",
    "    marker_line_color='white', # line markers between states\n",
    "    colorbar_title=\"Number of Covid patients in ICU, Cumulative\"\n",
    "))\n",
    "\n",
    "fig.update_layout(\n",
    "    title_text='Number of Covid patients in ICU, Cumulative,<br>for ID, MN, WI, OH, VA (Hover for breakdown)',\n",
    "    geo = dict(\n",
    "        scope='usa',\n",
    "        projection=go.layout.geo.Projection(type = 'albers usa'),\n",
    "        showlakes=True, # lakes\n",
    "        lakecolor='rgb(255, 255, 255)'),\n",
    ")\n",
    "fig.show();"
   ]
  },
  {
   "cell_type": "code",
   "execution_count": 16,
   "metadata": {
    "ExecuteTime": {
     "end_time": "2020-04-08T00:54:10.392488Z",
     "start_time": "2020-04-08T00:54:10.285041Z"
    }
   },
   "outputs": [
    {
     "data": {
      "application/vnd.plotly.v1+json": {
       "config": {
        "plotlyServerURL": "https://plot.ly"
       },
       "data": [
        {
         "autocolorscale": false,
         "colorbar": {
          "title": {
           "text": "Number of Covid patients on Ventilators, Cumulative"
          }
         },
         "colorscale": [
          [
           0,
           "rgb(255,245,235)"
          ],
          [
           0.125,
           "rgb(254,230,206)"
          ],
          [
           0.25,
           "rgb(253,208,162)"
          ],
          [
           0.375,
           "rgb(253,174,107)"
          ],
          [
           0.5,
           "rgb(253,141,60)"
          ],
          [
           0.625,
           "rgb(241,105,19)"
          ],
          [
           0.75,
           "rgb(217,72,1)"
          ],
          [
           0.875,
           "rgb(166,54,3)"
          ],
          [
           1,
           "rgb(127,39,4)"
          ]
         ],
         "locationmode": "USA-states",
         "locations": [
          "FL",
          "CT",
          "ND",
          "MD",
          "LA",
          "DE",
          "GA",
          "NJ",
          "IL",
          "NV",
          "MN",
          "NC",
          "UT",
          "AZ",
          "IN",
          "RI",
          "CA",
          "WV",
          "MS",
          "VT",
          "KY",
          "NE",
          "OH",
          "DC",
          "NH",
          "IA",
          "AL",
          "CO",
          "MO",
          "OR",
          "TN",
          "WA",
          "MA",
          "SD",
          "OK",
          "ID",
          "HI",
          "KS",
          "AR",
          "NM",
          "ME",
          "TX",
          "NY",
          "WI",
          "VA",
          "SC",
          "AK",
          "PA",
          "MI",
          "MT",
          "WY"
         ],
         "marker": {
          "line": {
           "color": "white"
          }
         },
         "text": [
          "FL\nPositive: 14747.0, Deaths: 296.0, Negative: 123415.0, Total Tested: 139569",
          "CT\nPositive: 7781.0, Deaths: 277.0, Negative: 21255.0, Total Tested: 29036",
          "ND\nPositive: 237.0, Deaths: 4.0, Negative: 7466.0, Total Tested: 7703",
          "MD\nPositive: 4371.0, Deaths: 103.0, Negative: 27256.0, Total Tested: 31627",
          "LA\nPositive: 16284.0, Deaths: 582.0, Negative: 58371.0, Total Tested: 74655",
          "DE\nPositive: 928.0, Deaths: 16.0, Negative: 7628.0, Total Tested: 8556",
          "GA\nPositive: 8818.0, Deaths: 329.0, Negative: 24895.0, Total Tested: 33713",
          "NJ\nPositive: 44416.0, Deaths: 1232.0, Negative: 50558.0, Total Tested: 94974",
          "IL\nPositive: 13549.0, Deaths: 380.0, Negative: 55183.0, Total Tested: 68732",
          "NV\nPositive: 2087.0, Deaths: 58.0, Negative: 16552.0, Total Tested: 18639",
          "MN\nPositive: 1069.0, Deaths: 34.0, Negative: 28191.0, Total Tested: 29260",
          "NC\nPositive: 3221.0, Deaths: 46.0, Negative: 37861.0, Total Tested: 41082",
          "UT\nPositive: 1738.0, Deaths: 13.0, Negative: 32909.0, Total Tested: 34647",
          "AZ\nPositive: 2575.0, Deaths: 73.0, Negative: 30800.0, Total Tested: 33375",
          "IN\nPositive: 5507.0, Deaths: 173.0, Negative: 23257.0, Total Tested: 28764",
          "RI\nPositive: 1229.0, Deaths: 30.0, Negative: 7399.0, Total Tested: 8628",
          "CA\nPositive: 15865.0, Deaths: 374.0, Negative: 115364.0, Total Tested: 145329",
          "WV\nPositive: 412.0, Deaths: 4.0, Negative: 11647.0, Total Tested: 12059",
          "MS\nPositive: 1915.0, Deaths: 59.0, Negative: 18632.0, Total Tested: 20547",
          "VT\nPositive: 575.0, Deaths: 23.0, Negative: 6554.0, Total Tested: 7129",
          "KY\nPositive: 1008.0, Deaths: 59.0, Negative: 18947.0, Total Tested: 19955",
          "NE\nPositive: 447.0, Deaths: 10.0, Negative: 6811.0, Total Tested: 7258",
          "OH\nPositive: 4782.0, Deaths: 167.0, Negative: 46056.0, Total Tested: 50838",
          "DC\nPositive: 1211.0, Deaths: 22.0, Negative: 6612.0, Total Tested: 7823",
          "NH\nPositive: 715.0, Deaths: 9.0, Negative: 8019.0, Total Tested: 8783",
          "IA\nPositive: 1048.0, Deaths: 26.0, Negative: 11670.0, Total Tested: 12718",
          "AL\nPositive: 2119.0, Deaths: 56.0, Negative: 12797.0, Total Tested: 14916",
          "CO\nPositive: 5172.0, Deaths: 150.0, Negative: 21703.0, Total Tested: 26875",
          "MO\nPositive: 3037.0, Deaths: 53.0, Negative: 28932.0, Total Tested: 31969",
          "OR\nPositive: 1132.0, Deaths: 29.0, Negative: 20669.0, Total Tested: 21801",
          "TN\nPositive: 4138.0, Deaths: 72.0, Negative: 48736.0, Total Tested: 52874",
          "WA\nPositive: 8384.0, Deaths: 372.0, Negative: 83391.0, Total Tested: 91775",
          "MA\nPositive: 15202.0, Deaths: 356.0, Negative: 66142.0, Total Tested: 81344",
          "SD\nPositive: 320.0, Deaths: 6.0, Negative: 5948.0, Total Tested: 6270",
          "OK\nPositive: 1472.0, Deaths: 67.0, Negative: 11821.0, Total Tested: 13293",
          "ID\nPositive: 1170.0, Deaths: 13.0, Negative: 10076.0, Total Tested: 11246",
          "HI\nPositive: 387.0, Deaths: 5.0, Negative: 13155.0, Total Tested: 13542",
          "KS\nPositive: 900.0, Deaths: 27.0, Negative: 8614.0, Total Tested: 9514",
          "AR\nPositive: 946.0, Deaths: 16.0, Negative: 12692.0, Total Tested: 13638",
          "NM\nPositive: 686.0, Deaths: 12.0, Negative: 21139.0, Total Tested: 21825",
          "ME\nPositive: 519.0, Deaths: 12.0, Negative: 6088.0, Total Tested: 6607",
          "TX\nPositive: 8262.0, Deaths: 154.0, Negative: 80387.0, Total Tested: 88649",
          "NY\nPositive: 138863.0, Deaths: 5489.0, Negative: 201195.0, Total Tested: 340058",
          "WI\nPositive: 2578.0, Deaths: 92.0, Negative: 28512.0, Total Tested: 31090",
          "VA\nPositive: 3333.0, Deaths: 63.0, Negative: 25312.0, Total Tested: 28645",
          "SC\nPositive: 2417.0, Deaths: 51.0, Negative: 21263.0, Total Tested: 23680",
          "AK\nPositive: 213.0, Deaths: 6.0, Negative: 6700.0, Total Tested: 6913",
          "PA\nPositive: 14559.0, Deaths: 240.0, Negative: 76719.0, Total Tested: 91278",
          "MI\nPositive: 18970.0, Deaths: 845.0, Negative: 31362.0, Total Tested: 50332",
          "MT\nPositive: 319.0, Deaths: 6.0, Negative: 6666.0, Total Tested: 6985",
          "WY\nPositive: 216.0, Deaths: 0.0, Negative: 3789.0, Total Tested: 4005"
         ],
         "type": "choropleth",
         "z": [
          null,
          null,
          null,
          null,
          null,
          null,
          null,
          null,
          null,
          null,
          null,
          null,
          null,
          null,
          null,
          null,
          null,
          null,
          null,
          null,
          null,
          null,
          null,
          null,
          null,
          null,
          null,
          null,
          null,
          82,
          null,
          null,
          null,
          null,
          null,
          null,
          null,
          null,
          39,
          null,
          null,
          null,
          null,
          null,
          108,
          null,
          null,
          null,
          null,
          null,
          null
         ]
        }
       ],
       "layout": {
        "geo": {
         "lakecolor": "rgb(255, 255, 255)",
         "projection": {
          "type": "albers usa"
         },
         "scope": "usa",
         "showlakes": true
        },
        "template": {
         "data": {
          "bar": [
           {
            "error_x": {
             "color": "#2a3f5f"
            },
            "error_y": {
             "color": "#2a3f5f"
            },
            "marker": {
             "line": {
              "color": "#E5ECF6",
              "width": 0.5
             }
            },
            "type": "bar"
           }
          ],
          "barpolar": [
           {
            "marker": {
             "line": {
              "color": "#E5ECF6",
              "width": 0.5
             }
            },
            "type": "barpolar"
           }
          ],
          "carpet": [
           {
            "aaxis": {
             "endlinecolor": "#2a3f5f",
             "gridcolor": "white",
             "linecolor": "white",
             "minorgridcolor": "white",
             "startlinecolor": "#2a3f5f"
            },
            "baxis": {
             "endlinecolor": "#2a3f5f",
             "gridcolor": "white",
             "linecolor": "white",
             "minorgridcolor": "white",
             "startlinecolor": "#2a3f5f"
            },
            "type": "carpet"
           }
          ],
          "choropleth": [
           {
            "colorbar": {
             "outlinewidth": 0,
             "ticks": ""
            },
            "type": "choropleth"
           }
          ],
          "contour": [
           {
            "colorbar": {
             "outlinewidth": 0,
             "ticks": ""
            },
            "colorscale": [
             [
              0,
              "#0d0887"
             ],
             [
              0.1111111111111111,
              "#46039f"
             ],
             [
              0.2222222222222222,
              "#7201a8"
             ],
             [
              0.3333333333333333,
              "#9c179e"
             ],
             [
              0.4444444444444444,
              "#bd3786"
             ],
             [
              0.5555555555555556,
              "#d8576b"
             ],
             [
              0.6666666666666666,
              "#ed7953"
             ],
             [
              0.7777777777777778,
              "#fb9f3a"
             ],
             [
              0.8888888888888888,
              "#fdca26"
             ],
             [
              1,
              "#f0f921"
             ]
            ],
            "type": "contour"
           }
          ],
          "contourcarpet": [
           {
            "colorbar": {
             "outlinewidth": 0,
             "ticks": ""
            },
            "type": "contourcarpet"
           }
          ],
          "heatmap": [
           {
            "colorbar": {
             "outlinewidth": 0,
             "ticks": ""
            },
            "colorscale": [
             [
              0,
              "#0d0887"
             ],
             [
              0.1111111111111111,
              "#46039f"
             ],
             [
              0.2222222222222222,
              "#7201a8"
             ],
             [
              0.3333333333333333,
              "#9c179e"
             ],
             [
              0.4444444444444444,
              "#bd3786"
             ],
             [
              0.5555555555555556,
              "#d8576b"
             ],
             [
              0.6666666666666666,
              "#ed7953"
             ],
             [
              0.7777777777777778,
              "#fb9f3a"
             ],
             [
              0.8888888888888888,
              "#fdca26"
             ],
             [
              1,
              "#f0f921"
             ]
            ],
            "type": "heatmap"
           }
          ],
          "heatmapgl": [
           {
            "colorbar": {
             "outlinewidth": 0,
             "ticks": ""
            },
            "colorscale": [
             [
              0,
              "#0d0887"
             ],
             [
              0.1111111111111111,
              "#46039f"
             ],
             [
              0.2222222222222222,
              "#7201a8"
             ],
             [
              0.3333333333333333,
              "#9c179e"
             ],
             [
              0.4444444444444444,
              "#bd3786"
             ],
             [
              0.5555555555555556,
              "#d8576b"
             ],
             [
              0.6666666666666666,
              "#ed7953"
             ],
             [
              0.7777777777777778,
              "#fb9f3a"
             ],
             [
              0.8888888888888888,
              "#fdca26"
             ],
             [
              1,
              "#f0f921"
             ]
            ],
            "type": "heatmapgl"
           }
          ],
          "histogram": [
           {
            "marker": {
             "colorbar": {
              "outlinewidth": 0,
              "ticks": ""
             }
            },
            "type": "histogram"
           }
          ],
          "histogram2d": [
           {
            "colorbar": {
             "outlinewidth": 0,
             "ticks": ""
            },
            "colorscale": [
             [
              0,
              "#0d0887"
             ],
             [
              0.1111111111111111,
              "#46039f"
             ],
             [
              0.2222222222222222,
              "#7201a8"
             ],
             [
              0.3333333333333333,
              "#9c179e"
             ],
             [
              0.4444444444444444,
              "#bd3786"
             ],
             [
              0.5555555555555556,
              "#d8576b"
             ],
             [
              0.6666666666666666,
              "#ed7953"
             ],
             [
              0.7777777777777778,
              "#fb9f3a"
             ],
             [
              0.8888888888888888,
              "#fdca26"
             ],
             [
              1,
              "#f0f921"
             ]
            ],
            "type": "histogram2d"
           }
          ],
          "histogram2dcontour": [
           {
            "colorbar": {
             "outlinewidth": 0,
             "ticks": ""
            },
            "colorscale": [
             [
              0,
              "#0d0887"
             ],
             [
              0.1111111111111111,
              "#46039f"
             ],
             [
              0.2222222222222222,
              "#7201a8"
             ],
             [
              0.3333333333333333,
              "#9c179e"
             ],
             [
              0.4444444444444444,
              "#bd3786"
             ],
             [
              0.5555555555555556,
              "#d8576b"
             ],
             [
              0.6666666666666666,
              "#ed7953"
             ],
             [
              0.7777777777777778,
              "#fb9f3a"
             ],
             [
              0.8888888888888888,
              "#fdca26"
             ],
             [
              1,
              "#f0f921"
             ]
            ],
            "type": "histogram2dcontour"
           }
          ],
          "mesh3d": [
           {
            "colorbar": {
             "outlinewidth": 0,
             "ticks": ""
            },
            "type": "mesh3d"
           }
          ],
          "parcoords": [
           {
            "line": {
             "colorbar": {
              "outlinewidth": 0,
              "ticks": ""
             }
            },
            "type": "parcoords"
           }
          ],
          "pie": [
           {
            "automargin": true,
            "type": "pie"
           }
          ],
          "scatter": [
           {
            "marker": {
             "colorbar": {
              "outlinewidth": 0,
              "ticks": ""
             }
            },
            "type": "scatter"
           }
          ],
          "scatter3d": [
           {
            "line": {
             "colorbar": {
              "outlinewidth": 0,
              "ticks": ""
             }
            },
            "marker": {
             "colorbar": {
              "outlinewidth": 0,
              "ticks": ""
             }
            },
            "type": "scatter3d"
           }
          ],
          "scattercarpet": [
           {
            "marker": {
             "colorbar": {
              "outlinewidth": 0,
              "ticks": ""
             }
            },
            "type": "scattercarpet"
           }
          ],
          "scattergeo": [
           {
            "marker": {
             "colorbar": {
              "outlinewidth": 0,
              "ticks": ""
             }
            },
            "type": "scattergeo"
           }
          ],
          "scattergl": [
           {
            "marker": {
             "colorbar": {
              "outlinewidth": 0,
              "ticks": ""
             }
            },
            "type": "scattergl"
           }
          ],
          "scattermapbox": [
           {
            "marker": {
             "colorbar": {
              "outlinewidth": 0,
              "ticks": ""
             }
            },
            "type": "scattermapbox"
           }
          ],
          "scatterpolar": [
           {
            "marker": {
             "colorbar": {
              "outlinewidth": 0,
              "ticks": ""
             }
            },
            "type": "scatterpolar"
           }
          ],
          "scatterpolargl": [
           {
            "marker": {
             "colorbar": {
              "outlinewidth": 0,
              "ticks": ""
             }
            },
            "type": "scatterpolargl"
           }
          ],
          "scatterternary": [
           {
            "marker": {
             "colorbar": {
              "outlinewidth": 0,
              "ticks": ""
             }
            },
            "type": "scatterternary"
           }
          ],
          "surface": [
           {
            "colorbar": {
             "outlinewidth": 0,
             "ticks": ""
            },
            "colorscale": [
             [
              0,
              "#0d0887"
             ],
             [
              0.1111111111111111,
              "#46039f"
             ],
             [
              0.2222222222222222,
              "#7201a8"
             ],
             [
              0.3333333333333333,
              "#9c179e"
             ],
             [
              0.4444444444444444,
              "#bd3786"
             ],
             [
              0.5555555555555556,
              "#d8576b"
             ],
             [
              0.6666666666666666,
              "#ed7953"
             ],
             [
              0.7777777777777778,
              "#fb9f3a"
             ],
             [
              0.8888888888888888,
              "#fdca26"
             ],
             [
              1,
              "#f0f921"
             ]
            ],
            "type": "surface"
           }
          ],
          "table": [
           {
            "cells": {
             "fill": {
              "color": "#EBF0F8"
             },
             "line": {
              "color": "white"
             }
            },
            "header": {
             "fill": {
              "color": "#C8D4E3"
             },
             "line": {
              "color": "white"
             }
            },
            "type": "table"
           }
          ]
         },
         "layout": {
          "annotationdefaults": {
           "arrowcolor": "#2a3f5f",
           "arrowhead": 0,
           "arrowwidth": 1
          },
          "coloraxis": {
           "colorbar": {
            "outlinewidth": 0,
            "ticks": ""
           }
          },
          "colorscale": {
           "diverging": [
            [
             0,
             "#8e0152"
            ],
            [
             0.1,
             "#c51b7d"
            ],
            [
             0.2,
             "#de77ae"
            ],
            [
             0.3,
             "#f1b6da"
            ],
            [
             0.4,
             "#fde0ef"
            ],
            [
             0.5,
             "#f7f7f7"
            ],
            [
             0.6,
             "#e6f5d0"
            ],
            [
             0.7,
             "#b8e186"
            ],
            [
             0.8,
             "#7fbc41"
            ],
            [
             0.9,
             "#4d9221"
            ],
            [
             1,
             "#276419"
            ]
           ],
           "sequential": [
            [
             0,
             "#0d0887"
            ],
            [
             0.1111111111111111,
             "#46039f"
            ],
            [
             0.2222222222222222,
             "#7201a8"
            ],
            [
             0.3333333333333333,
             "#9c179e"
            ],
            [
             0.4444444444444444,
             "#bd3786"
            ],
            [
             0.5555555555555556,
             "#d8576b"
            ],
            [
             0.6666666666666666,
             "#ed7953"
            ],
            [
             0.7777777777777778,
             "#fb9f3a"
            ],
            [
             0.8888888888888888,
             "#fdca26"
            ],
            [
             1,
             "#f0f921"
            ]
           ],
           "sequentialminus": [
            [
             0,
             "#0d0887"
            ],
            [
             0.1111111111111111,
             "#46039f"
            ],
            [
             0.2222222222222222,
             "#7201a8"
            ],
            [
             0.3333333333333333,
             "#9c179e"
            ],
            [
             0.4444444444444444,
             "#bd3786"
            ],
            [
             0.5555555555555556,
             "#d8576b"
            ],
            [
             0.6666666666666666,
             "#ed7953"
            ],
            [
             0.7777777777777778,
             "#fb9f3a"
            ],
            [
             0.8888888888888888,
             "#fdca26"
            ],
            [
             1,
             "#f0f921"
            ]
           ]
          },
          "colorway": [
           "#636efa",
           "#EF553B",
           "#00cc96",
           "#ab63fa",
           "#FFA15A",
           "#19d3f3",
           "#FF6692",
           "#B6E880",
           "#FF97FF",
           "#FECB52"
          ],
          "font": {
           "color": "#2a3f5f"
          },
          "geo": {
           "bgcolor": "white",
           "lakecolor": "white",
           "landcolor": "#E5ECF6",
           "showlakes": true,
           "showland": true,
           "subunitcolor": "white"
          },
          "hoverlabel": {
           "align": "left"
          },
          "hovermode": "closest",
          "mapbox": {
           "style": "light"
          },
          "paper_bgcolor": "white",
          "plot_bgcolor": "#E5ECF6",
          "polar": {
           "angularaxis": {
            "gridcolor": "white",
            "linecolor": "white",
            "ticks": ""
           },
           "bgcolor": "#E5ECF6",
           "radialaxis": {
            "gridcolor": "white",
            "linecolor": "white",
            "ticks": ""
           }
          },
          "scene": {
           "xaxis": {
            "backgroundcolor": "#E5ECF6",
            "gridcolor": "white",
            "gridwidth": 2,
            "linecolor": "white",
            "showbackground": true,
            "ticks": "",
            "zerolinecolor": "white"
           },
           "yaxis": {
            "backgroundcolor": "#E5ECF6",
            "gridcolor": "white",
            "gridwidth": 2,
            "linecolor": "white",
            "showbackground": true,
            "ticks": "",
            "zerolinecolor": "white"
           },
           "zaxis": {
            "backgroundcolor": "#E5ECF6",
            "gridcolor": "white",
            "gridwidth": 2,
            "linecolor": "white",
            "showbackground": true,
            "ticks": "",
            "zerolinecolor": "white"
           }
          },
          "shapedefaults": {
           "line": {
            "color": "#2a3f5f"
           }
          },
          "ternary": {
           "aaxis": {
            "gridcolor": "white",
            "linecolor": "white",
            "ticks": ""
           },
           "baxis": {
            "gridcolor": "white",
            "linecolor": "white",
            "ticks": ""
           },
           "bgcolor": "#E5ECF6",
           "caxis": {
            "gridcolor": "white",
            "linecolor": "white",
            "ticks": ""
           }
          },
          "title": {
           "x": 0.05
          },
          "xaxis": {
           "automargin": true,
           "gridcolor": "white",
           "linecolor": "white",
           "ticks": "",
           "title": {
            "standoff": 15
           },
           "zerolinecolor": "white",
           "zerolinewidth": 2
          },
          "yaxis": {
           "automargin": true,
           "gridcolor": "white",
           "linecolor": "white",
           "ticks": "",
           "title": {
            "standoff": 15
           },
           "zerolinecolor": "white",
           "zerolinewidth": 2
          }
         }
        },
        "title": {
         "text": "Number of Covid patients on Ventilators, Cumulative,<br>for OR, VA, and AR (Hover for breakdown)"
        }
       }
      },
      "text/html": [
       "<div>\n",
       "        \n",
       "        \n",
       "            <div id=\"22752223-4c24-489f-bc32-1860ba4cae73\" class=\"plotly-graph-div\" style=\"height:525px; width:100%;\"></div>\n",
       "            <script type=\"text/javascript\">\n",
       "                require([\"plotly\"], function(Plotly) {\n",
       "                    window.PLOTLYENV=window.PLOTLYENV || {};\n",
       "                    \n",
       "                if (document.getElementById(\"22752223-4c24-489f-bc32-1860ba4cae73\")) {\n",
       "                    Plotly.newPlot(\n",
       "                        '22752223-4c24-489f-bc32-1860ba4cae73',\n",
       "                        [{\"autocolorscale\": false, \"colorbar\": {\"title\": {\"text\": \"Number of Covid patients on Ventilators, Cumulative\"}}, \"colorscale\": [[0.0, \"rgb(255,245,235)\"], [0.125, \"rgb(254,230,206)\"], [0.25, \"rgb(253,208,162)\"], [0.375, \"rgb(253,174,107)\"], [0.5, \"rgb(253,141,60)\"], [0.625, \"rgb(241,105,19)\"], [0.75, \"rgb(217,72,1)\"], [0.875, \"rgb(166,54,3)\"], [1.0, \"rgb(127,39,4)\"]], \"locationmode\": \"USA-states\", \"locations\": [\"FL\", \"CT\", \"ND\", \"MD\", \"LA\", \"DE\", \"GA\", \"NJ\", \"IL\", \"NV\", \"MN\", \"NC\", \"UT\", \"AZ\", \"IN\", \"RI\", \"CA\", \"WV\", \"MS\", \"VT\", \"KY\", \"NE\", \"OH\", \"DC\", \"NH\", \"IA\", \"AL\", \"CO\", \"MO\", \"OR\", \"TN\", \"WA\", \"MA\", \"SD\", \"OK\", \"ID\", \"HI\", \"KS\", \"AR\", \"NM\", \"ME\", \"TX\", \"NY\", \"WI\", \"VA\", \"SC\", \"AK\", \"PA\", \"MI\", \"MT\", \"WY\"], \"marker\": {\"line\": {\"color\": \"white\"}}, \"text\": [\"FL\\nPositive: 14747.0, Deaths: 296.0, Negative: 123415.0, Total Tested: 139569\", \"CT\\nPositive: 7781.0, Deaths: 277.0, Negative: 21255.0, Total Tested: 29036\", \"ND\\nPositive: 237.0, Deaths: 4.0, Negative: 7466.0, Total Tested: 7703\", \"MD\\nPositive: 4371.0, Deaths: 103.0, Negative: 27256.0, Total Tested: 31627\", \"LA\\nPositive: 16284.0, Deaths: 582.0, Negative: 58371.0, Total Tested: 74655\", \"DE\\nPositive: 928.0, Deaths: 16.0, Negative: 7628.0, Total Tested: 8556\", \"GA\\nPositive: 8818.0, Deaths: 329.0, Negative: 24895.0, Total Tested: 33713\", \"NJ\\nPositive: 44416.0, Deaths: 1232.0, Negative: 50558.0, Total Tested: 94974\", \"IL\\nPositive: 13549.0, Deaths: 380.0, Negative: 55183.0, Total Tested: 68732\", \"NV\\nPositive: 2087.0, Deaths: 58.0, Negative: 16552.0, Total Tested: 18639\", \"MN\\nPositive: 1069.0, Deaths: 34.0, Negative: 28191.0, Total Tested: 29260\", \"NC\\nPositive: 3221.0, Deaths: 46.0, Negative: 37861.0, Total Tested: 41082\", \"UT\\nPositive: 1738.0, Deaths: 13.0, Negative: 32909.0, Total Tested: 34647\", \"AZ\\nPositive: 2575.0, Deaths: 73.0, Negative: 30800.0, Total Tested: 33375\", \"IN\\nPositive: 5507.0, Deaths: 173.0, Negative: 23257.0, Total Tested: 28764\", \"RI\\nPositive: 1229.0, Deaths: 30.0, Negative: 7399.0, Total Tested: 8628\", \"CA\\nPositive: 15865.0, Deaths: 374.0, Negative: 115364.0, Total Tested: 145329\", \"WV\\nPositive: 412.0, Deaths: 4.0, Negative: 11647.0, Total Tested: 12059\", \"MS\\nPositive: 1915.0, Deaths: 59.0, Negative: 18632.0, Total Tested: 20547\", \"VT\\nPositive: 575.0, Deaths: 23.0, Negative: 6554.0, Total Tested: 7129\", \"KY\\nPositive: 1008.0, Deaths: 59.0, Negative: 18947.0, Total Tested: 19955\", \"NE\\nPositive: 447.0, Deaths: 10.0, Negative: 6811.0, Total Tested: 7258\", \"OH\\nPositive: 4782.0, Deaths: 167.0, Negative: 46056.0, Total Tested: 50838\", \"DC\\nPositive: 1211.0, Deaths: 22.0, Negative: 6612.0, Total Tested: 7823\", \"NH\\nPositive: 715.0, Deaths: 9.0, Negative: 8019.0, Total Tested: 8783\", \"IA\\nPositive: 1048.0, Deaths: 26.0, Negative: 11670.0, Total Tested: 12718\", \"AL\\nPositive: 2119.0, Deaths: 56.0, Negative: 12797.0, Total Tested: 14916\", \"CO\\nPositive: 5172.0, Deaths: 150.0, Negative: 21703.0, Total Tested: 26875\", \"MO\\nPositive: 3037.0, Deaths: 53.0, Negative: 28932.0, Total Tested: 31969\", \"OR\\nPositive: 1132.0, Deaths: 29.0, Negative: 20669.0, Total Tested: 21801\", \"TN\\nPositive: 4138.0, Deaths: 72.0, Negative: 48736.0, Total Tested: 52874\", \"WA\\nPositive: 8384.0, Deaths: 372.0, Negative: 83391.0, Total Tested: 91775\", \"MA\\nPositive: 15202.0, Deaths: 356.0, Negative: 66142.0, Total Tested: 81344\", \"SD\\nPositive: 320.0, Deaths: 6.0, Negative: 5948.0, Total Tested: 6270\", \"OK\\nPositive: 1472.0, Deaths: 67.0, Negative: 11821.0, Total Tested: 13293\", \"ID\\nPositive: 1170.0, Deaths: 13.0, Negative: 10076.0, Total Tested: 11246\", \"HI\\nPositive: 387.0, Deaths: 5.0, Negative: 13155.0, Total Tested: 13542\", \"KS\\nPositive: 900.0, Deaths: 27.0, Negative: 8614.0, Total Tested: 9514\", \"AR\\nPositive: 946.0, Deaths: 16.0, Negative: 12692.0, Total Tested: 13638\", \"NM\\nPositive: 686.0, Deaths: 12.0, Negative: 21139.0, Total Tested: 21825\", \"ME\\nPositive: 519.0, Deaths: 12.0, Negative: 6088.0, Total Tested: 6607\", \"TX\\nPositive: 8262.0, Deaths: 154.0, Negative: 80387.0, Total Tested: 88649\", \"NY\\nPositive: 138863.0, Deaths: 5489.0, Negative: 201195.0, Total Tested: 340058\", \"WI\\nPositive: 2578.0, Deaths: 92.0, Negative: 28512.0, Total Tested: 31090\", \"VA\\nPositive: 3333.0, Deaths: 63.0, Negative: 25312.0, Total Tested: 28645\", \"SC\\nPositive: 2417.0, Deaths: 51.0, Negative: 21263.0, Total Tested: 23680\", \"AK\\nPositive: 213.0, Deaths: 6.0, Negative: 6700.0, Total Tested: 6913\", \"PA\\nPositive: 14559.0, Deaths: 240.0, Negative: 76719.0, Total Tested: 91278\", \"MI\\nPositive: 18970.0, Deaths: 845.0, Negative: 31362.0, Total Tested: 50332\", \"MT\\nPositive: 319.0, Deaths: 6.0, Negative: 6666.0, Total Tested: 6985\", \"WY\\nPositive: 216.0, Deaths: 0.0, Negative: 3789.0, Total Tested: 4005\"], \"type\": \"choropleth\", \"z\": [null, null, null, null, null, null, null, null, null, null, null, null, null, null, null, null, null, null, null, null, null, null, null, null, null, null, null, null, null, 82.0, null, null, null, null, null, null, null, null, 39.0, null, null, null, null, null, 108.0, null, null, null, null, null, null]}],\n",
       "                        {\"geo\": {\"lakecolor\": \"rgb(255, 255, 255)\", \"projection\": {\"type\": \"albers usa\"}, \"scope\": \"usa\", \"showlakes\": true}, \"template\": {\"data\": {\"bar\": [{\"error_x\": {\"color\": \"#2a3f5f\"}, \"error_y\": {\"color\": \"#2a3f5f\"}, \"marker\": {\"line\": {\"color\": \"#E5ECF6\", \"width\": 0.5}}, \"type\": \"bar\"}], \"barpolar\": [{\"marker\": {\"line\": {\"color\": \"#E5ECF6\", \"width\": 0.5}}, \"type\": \"barpolar\"}], \"carpet\": [{\"aaxis\": {\"endlinecolor\": \"#2a3f5f\", \"gridcolor\": \"white\", \"linecolor\": \"white\", \"minorgridcolor\": \"white\", \"startlinecolor\": \"#2a3f5f\"}, \"baxis\": {\"endlinecolor\": \"#2a3f5f\", \"gridcolor\": \"white\", \"linecolor\": \"white\", \"minorgridcolor\": \"white\", \"startlinecolor\": \"#2a3f5f\"}, \"type\": \"carpet\"}], \"choropleth\": [{\"colorbar\": {\"outlinewidth\": 0, \"ticks\": \"\"}, \"type\": \"choropleth\"}], \"contour\": [{\"colorbar\": {\"outlinewidth\": 0, \"ticks\": \"\"}, \"colorscale\": [[0.0, \"#0d0887\"], [0.1111111111111111, \"#46039f\"], [0.2222222222222222, \"#7201a8\"], [0.3333333333333333, \"#9c179e\"], [0.4444444444444444, \"#bd3786\"], [0.5555555555555556, \"#d8576b\"], [0.6666666666666666, \"#ed7953\"], [0.7777777777777778, \"#fb9f3a\"], [0.8888888888888888, \"#fdca26\"], [1.0, \"#f0f921\"]], \"type\": \"contour\"}], \"contourcarpet\": [{\"colorbar\": {\"outlinewidth\": 0, \"ticks\": \"\"}, \"type\": \"contourcarpet\"}], \"heatmap\": [{\"colorbar\": {\"outlinewidth\": 0, \"ticks\": \"\"}, \"colorscale\": [[0.0, \"#0d0887\"], [0.1111111111111111, \"#46039f\"], [0.2222222222222222, \"#7201a8\"], [0.3333333333333333, \"#9c179e\"], [0.4444444444444444, \"#bd3786\"], [0.5555555555555556, \"#d8576b\"], [0.6666666666666666, \"#ed7953\"], [0.7777777777777778, \"#fb9f3a\"], [0.8888888888888888, \"#fdca26\"], [1.0, \"#f0f921\"]], \"type\": \"heatmap\"}], \"heatmapgl\": [{\"colorbar\": {\"outlinewidth\": 0, \"ticks\": \"\"}, \"colorscale\": [[0.0, \"#0d0887\"], [0.1111111111111111, \"#46039f\"], [0.2222222222222222, \"#7201a8\"], [0.3333333333333333, \"#9c179e\"], [0.4444444444444444, \"#bd3786\"], [0.5555555555555556, \"#d8576b\"], [0.6666666666666666, \"#ed7953\"], [0.7777777777777778, \"#fb9f3a\"], [0.8888888888888888, \"#fdca26\"], [1.0, \"#f0f921\"]], \"type\": \"heatmapgl\"}], \"histogram\": [{\"marker\": {\"colorbar\": {\"outlinewidth\": 0, \"ticks\": \"\"}}, \"type\": \"histogram\"}], \"histogram2d\": [{\"colorbar\": {\"outlinewidth\": 0, \"ticks\": \"\"}, \"colorscale\": [[0.0, \"#0d0887\"], [0.1111111111111111, \"#46039f\"], [0.2222222222222222, \"#7201a8\"], [0.3333333333333333, \"#9c179e\"], [0.4444444444444444, \"#bd3786\"], [0.5555555555555556, \"#d8576b\"], [0.6666666666666666, \"#ed7953\"], [0.7777777777777778, \"#fb9f3a\"], [0.8888888888888888, \"#fdca26\"], [1.0, \"#f0f921\"]], \"type\": \"histogram2d\"}], \"histogram2dcontour\": [{\"colorbar\": {\"outlinewidth\": 0, \"ticks\": \"\"}, \"colorscale\": [[0.0, \"#0d0887\"], [0.1111111111111111, \"#46039f\"], [0.2222222222222222, \"#7201a8\"], [0.3333333333333333, \"#9c179e\"], [0.4444444444444444, \"#bd3786\"], [0.5555555555555556, \"#d8576b\"], [0.6666666666666666, \"#ed7953\"], [0.7777777777777778, \"#fb9f3a\"], [0.8888888888888888, \"#fdca26\"], [1.0, \"#f0f921\"]], \"type\": \"histogram2dcontour\"}], \"mesh3d\": [{\"colorbar\": {\"outlinewidth\": 0, \"ticks\": \"\"}, \"type\": \"mesh3d\"}], \"parcoords\": [{\"line\": {\"colorbar\": {\"outlinewidth\": 0, \"ticks\": \"\"}}, \"type\": \"parcoords\"}], \"pie\": [{\"automargin\": true, \"type\": \"pie\"}], \"scatter\": [{\"marker\": {\"colorbar\": {\"outlinewidth\": 0, \"ticks\": \"\"}}, \"type\": \"scatter\"}], \"scatter3d\": [{\"line\": {\"colorbar\": {\"outlinewidth\": 0, \"ticks\": \"\"}}, \"marker\": {\"colorbar\": {\"outlinewidth\": 0, \"ticks\": \"\"}}, \"type\": \"scatter3d\"}], \"scattercarpet\": [{\"marker\": {\"colorbar\": {\"outlinewidth\": 0, \"ticks\": \"\"}}, \"type\": \"scattercarpet\"}], \"scattergeo\": [{\"marker\": {\"colorbar\": {\"outlinewidth\": 0, \"ticks\": \"\"}}, \"type\": \"scattergeo\"}], \"scattergl\": [{\"marker\": {\"colorbar\": {\"outlinewidth\": 0, \"ticks\": \"\"}}, \"type\": \"scattergl\"}], \"scattermapbox\": [{\"marker\": {\"colorbar\": {\"outlinewidth\": 0, \"ticks\": \"\"}}, \"type\": \"scattermapbox\"}], \"scatterpolar\": [{\"marker\": {\"colorbar\": {\"outlinewidth\": 0, \"ticks\": \"\"}}, \"type\": \"scatterpolar\"}], \"scatterpolargl\": [{\"marker\": {\"colorbar\": {\"outlinewidth\": 0, \"ticks\": \"\"}}, \"type\": \"scatterpolargl\"}], \"scatterternary\": [{\"marker\": {\"colorbar\": {\"outlinewidth\": 0, \"ticks\": \"\"}}, \"type\": \"scatterternary\"}], \"surface\": [{\"colorbar\": {\"outlinewidth\": 0, \"ticks\": \"\"}, \"colorscale\": [[0.0, \"#0d0887\"], [0.1111111111111111, \"#46039f\"], [0.2222222222222222, \"#7201a8\"], [0.3333333333333333, \"#9c179e\"], [0.4444444444444444, \"#bd3786\"], [0.5555555555555556, \"#d8576b\"], [0.6666666666666666, \"#ed7953\"], [0.7777777777777778, \"#fb9f3a\"], [0.8888888888888888, \"#fdca26\"], [1.0, \"#f0f921\"]], \"type\": \"surface\"}], \"table\": [{\"cells\": {\"fill\": {\"color\": \"#EBF0F8\"}, \"line\": {\"color\": \"white\"}}, \"header\": {\"fill\": {\"color\": \"#C8D4E3\"}, \"line\": {\"color\": \"white\"}}, \"type\": \"table\"}]}, \"layout\": {\"annotationdefaults\": {\"arrowcolor\": \"#2a3f5f\", \"arrowhead\": 0, \"arrowwidth\": 1}, \"coloraxis\": {\"colorbar\": {\"outlinewidth\": 0, \"ticks\": \"\"}}, \"colorscale\": {\"diverging\": [[0, \"#8e0152\"], [0.1, \"#c51b7d\"], [0.2, \"#de77ae\"], [0.3, \"#f1b6da\"], [0.4, \"#fde0ef\"], [0.5, \"#f7f7f7\"], [0.6, \"#e6f5d0\"], [0.7, \"#b8e186\"], [0.8, \"#7fbc41\"], [0.9, \"#4d9221\"], [1, \"#276419\"]], \"sequential\": [[0.0, \"#0d0887\"], [0.1111111111111111, \"#46039f\"], [0.2222222222222222, \"#7201a8\"], [0.3333333333333333, \"#9c179e\"], [0.4444444444444444, \"#bd3786\"], [0.5555555555555556, \"#d8576b\"], [0.6666666666666666, \"#ed7953\"], [0.7777777777777778, \"#fb9f3a\"], [0.8888888888888888, \"#fdca26\"], [1.0, \"#f0f921\"]], \"sequentialminus\": [[0.0, \"#0d0887\"], [0.1111111111111111, \"#46039f\"], [0.2222222222222222, \"#7201a8\"], [0.3333333333333333, \"#9c179e\"], [0.4444444444444444, \"#bd3786\"], [0.5555555555555556, \"#d8576b\"], [0.6666666666666666, \"#ed7953\"], [0.7777777777777778, \"#fb9f3a\"], [0.8888888888888888, \"#fdca26\"], [1.0, \"#f0f921\"]]}, \"colorway\": [\"#636efa\", \"#EF553B\", \"#00cc96\", \"#ab63fa\", \"#FFA15A\", \"#19d3f3\", \"#FF6692\", \"#B6E880\", \"#FF97FF\", \"#FECB52\"], \"font\": {\"color\": \"#2a3f5f\"}, \"geo\": {\"bgcolor\": \"white\", \"lakecolor\": \"white\", \"landcolor\": \"#E5ECF6\", \"showlakes\": true, \"showland\": true, \"subunitcolor\": \"white\"}, \"hoverlabel\": {\"align\": \"left\"}, \"hovermode\": \"closest\", \"mapbox\": {\"style\": \"light\"}, \"paper_bgcolor\": \"white\", \"plot_bgcolor\": \"#E5ECF6\", \"polar\": {\"angularaxis\": {\"gridcolor\": \"white\", \"linecolor\": \"white\", \"ticks\": \"\"}, \"bgcolor\": \"#E5ECF6\", \"radialaxis\": {\"gridcolor\": \"white\", \"linecolor\": \"white\", \"ticks\": \"\"}}, \"scene\": {\"xaxis\": {\"backgroundcolor\": \"#E5ECF6\", \"gridcolor\": \"white\", \"gridwidth\": 2, \"linecolor\": \"white\", \"showbackground\": true, \"ticks\": \"\", \"zerolinecolor\": \"white\"}, \"yaxis\": {\"backgroundcolor\": \"#E5ECF6\", \"gridcolor\": \"white\", \"gridwidth\": 2, \"linecolor\": \"white\", \"showbackground\": true, \"ticks\": \"\", \"zerolinecolor\": \"white\"}, \"zaxis\": {\"backgroundcolor\": \"#E5ECF6\", \"gridcolor\": \"white\", \"gridwidth\": 2, \"linecolor\": \"white\", \"showbackground\": true, \"ticks\": \"\", \"zerolinecolor\": \"white\"}}, \"shapedefaults\": {\"line\": {\"color\": \"#2a3f5f\"}}, \"ternary\": {\"aaxis\": {\"gridcolor\": \"white\", \"linecolor\": \"white\", \"ticks\": \"\"}, \"baxis\": {\"gridcolor\": \"white\", \"linecolor\": \"white\", \"ticks\": \"\"}, \"bgcolor\": \"#E5ECF6\", \"caxis\": {\"gridcolor\": \"white\", \"linecolor\": \"white\", \"ticks\": \"\"}}, \"title\": {\"x\": 0.05}, \"xaxis\": {\"automargin\": true, \"gridcolor\": \"white\", \"linecolor\": \"white\", \"ticks\": \"\", \"title\": {\"standoff\": 15}, \"zerolinecolor\": \"white\", \"zerolinewidth\": 2}, \"yaxis\": {\"automargin\": true, \"gridcolor\": \"white\", \"linecolor\": \"white\", \"ticks\": \"\", \"title\": {\"standoff\": 15}, \"zerolinecolor\": \"white\", \"zerolinewidth\": 2}}}, \"title\": {\"text\": \"Number of Covid patients on Ventilators, Cumulative,<br>for OR, VA, and AR (Hover for breakdown)\"}},\n",
       "                        {\"responsive\": true}\n",
       "                    ).then(function(){\n",
       "                            \n",
       "var gd = document.getElementById('22752223-4c24-489f-bc32-1860ba4cae73');\n",
       "var x = new MutationObserver(function (mutations, observer) {{\n",
       "        var display = window.getComputedStyle(gd).display;\n",
       "        if (!display || display === 'none') {{\n",
       "            console.log([gd, 'removed!']);\n",
       "            Plotly.purge(gd);\n",
       "            observer.disconnect();\n",
       "        }}\n",
       "}});\n",
       "\n",
       "// Listen for the removal of the full notebook cells\n",
       "var notebookContainer = gd.closest('#notebook-container');\n",
       "if (notebookContainer) {{\n",
       "    x.observe(notebookContainer, {childList: true});\n",
       "}}\n",
       "\n",
       "// Listen for the clearing of the current output cell\n",
       "var outputEl = gd.closest('.output');\n",
       "if (outputEl) {{\n",
       "    x.observe(outputEl, {childList: true});\n",
       "}}\n",
       "\n",
       "                        })\n",
       "                };\n",
       "                });\n",
       "            </script>\n",
       "        </div>"
      ]
     },
     "metadata": {},
     "output_type": "display_data"
    }
   ],
   "source": [
    "#scale = 1000\n",
    "fig = go.Figure(data=go.Choropleth(\n",
    "    locations=df2['state'],\n",
    "    z=df2['onVentilatorCumulative'],\n",
    "    locationmode='USA-states',\n",
    "    colorscale='Oranges',\n",
    "    autocolorscale=False,\n",
    "    text=df2['text'], # hover text\n",
    "    marker_line_color='white', # line markers between states\n",
    "    colorbar_title=\"Number of Covid patients on Ventilators, Cumulative\"\n",
    "))\n",
    "\n",
    "fig.update_layout(\n",
    "    title_text='Number of Covid patients on Ventilators, Cumulative,<br>for OR, VA, and AR (Hover for breakdown)',\n",
    "    geo = dict(\n",
    "        scope='usa',\n",
    "        projection=go.layout.geo.Projection(type = 'albers usa'),\n",
    "        showlakes=True, # lakes\n",
    "        lakecolor='rgb(255, 255, 255)'),\n",
    ")\n",
    "fig.show();"
   ]
  },
  {
   "cell_type": "code",
   "execution_count": 17,
   "metadata": {
    "ExecuteTime": {
     "end_time": "2020-04-08T00:54:10.498852Z",
     "start_time": "2020-04-08T00:54:10.394479Z"
    }
   },
   "outputs": [
    {
     "data": {
      "application/vnd.plotly.v1+json": {
       "config": {
        "plotlyServerURL": "https://plot.ly"
       },
       "data": [
        {
         "autocolorscale": false,
         "colorbar": {
          "title": {
           "text": "Number of Covid patients Hospitalized, Cumulative"
          }
         },
         "colorscale": [
          [
           0,
           "rgb(255,245,235)"
          ],
          [
           0.125,
           "rgb(254,230,206)"
          ],
          [
           0.25,
           "rgb(253,208,162)"
          ],
          [
           0.375,
           "rgb(253,174,107)"
          ],
          [
           0.5,
           "rgb(253,141,60)"
          ],
          [
           0.625,
           "rgb(241,105,19)"
          ],
          [
           0.75,
           "rgb(217,72,1)"
          ],
          [
           0.875,
           "rgb(166,54,3)"
          ],
          [
           1,
           "rgb(127,39,4)"
          ]
         ],
         "locationmode": "USA-states",
         "locations": [
          "FL",
          "CT",
          "ND",
          "MD",
          "LA",
          "DE",
          "GA",
          "NJ",
          "IL",
          "NV",
          "MN",
          "NC",
          "UT",
          "AZ",
          "IN",
          "RI",
          "CA",
          "WV",
          "MS",
          "VT",
          "KY",
          "NE",
          "OH",
          "DC",
          "NH",
          "IA",
          "AL",
          "CO",
          "MO",
          "OR",
          "TN",
          "WA",
          "MA",
          "SD",
          "OK",
          "ID",
          "HI",
          "KS",
          "AR",
          "NM",
          "ME",
          "TX",
          "NY",
          "WI",
          "VA",
          "SC",
          "AK",
          "PA",
          "MI",
          "MT",
          "WY"
         ],
         "marker": {
          "line": {
           "color": "white"
          }
         },
         "text": [
          "FL\nPositive: 14747.0, Deaths: 296.0, Negative: 123415.0, Total Tested: 139569",
          "CT\nPositive: 7781.0, Deaths: 277.0, Negative: 21255.0, Total Tested: 29036",
          "ND\nPositive: 237.0, Deaths: 4.0, Negative: 7466.0, Total Tested: 7703",
          "MD\nPositive: 4371.0, Deaths: 103.0, Negative: 27256.0, Total Tested: 31627",
          "LA\nPositive: 16284.0, Deaths: 582.0, Negative: 58371.0, Total Tested: 74655",
          "DE\nPositive: 928.0, Deaths: 16.0, Negative: 7628.0, Total Tested: 8556",
          "GA\nPositive: 8818.0, Deaths: 329.0, Negative: 24895.0, Total Tested: 33713",
          "NJ\nPositive: 44416.0, Deaths: 1232.0, Negative: 50558.0, Total Tested: 94974",
          "IL\nPositive: 13549.0, Deaths: 380.0, Negative: 55183.0, Total Tested: 68732",
          "NV\nPositive: 2087.0, Deaths: 58.0, Negative: 16552.0, Total Tested: 18639",
          "MN\nPositive: 1069.0, Deaths: 34.0, Negative: 28191.0, Total Tested: 29260",
          "NC\nPositive: 3221.0, Deaths: 46.0, Negative: 37861.0, Total Tested: 41082",
          "UT\nPositive: 1738.0, Deaths: 13.0, Negative: 32909.0, Total Tested: 34647",
          "AZ\nPositive: 2575.0, Deaths: 73.0, Negative: 30800.0, Total Tested: 33375",
          "IN\nPositive: 5507.0, Deaths: 173.0, Negative: 23257.0, Total Tested: 28764",
          "RI\nPositive: 1229.0, Deaths: 30.0, Negative: 7399.0, Total Tested: 8628",
          "CA\nPositive: 15865.0, Deaths: 374.0, Negative: 115364.0, Total Tested: 145329",
          "WV\nPositive: 412.0, Deaths: 4.0, Negative: 11647.0, Total Tested: 12059",
          "MS\nPositive: 1915.0, Deaths: 59.0, Negative: 18632.0, Total Tested: 20547",
          "VT\nPositive: 575.0, Deaths: 23.0, Negative: 6554.0, Total Tested: 7129",
          "KY\nPositive: 1008.0, Deaths: 59.0, Negative: 18947.0, Total Tested: 19955",
          "NE\nPositive: 447.0, Deaths: 10.0, Negative: 6811.0, Total Tested: 7258",
          "OH\nPositive: 4782.0, Deaths: 167.0, Negative: 46056.0, Total Tested: 50838",
          "DC\nPositive: 1211.0, Deaths: 22.0, Negative: 6612.0, Total Tested: 7823",
          "NH\nPositive: 715.0, Deaths: 9.0, Negative: 8019.0, Total Tested: 8783",
          "IA\nPositive: 1048.0, Deaths: 26.0, Negative: 11670.0, Total Tested: 12718",
          "AL\nPositive: 2119.0, Deaths: 56.0, Negative: 12797.0, Total Tested: 14916",
          "CO\nPositive: 5172.0, Deaths: 150.0, Negative: 21703.0, Total Tested: 26875",
          "MO\nPositive: 3037.0, Deaths: 53.0, Negative: 28932.0, Total Tested: 31969",
          "OR\nPositive: 1132.0, Deaths: 29.0, Negative: 20669.0, Total Tested: 21801",
          "TN\nPositive: 4138.0, Deaths: 72.0, Negative: 48736.0, Total Tested: 52874",
          "WA\nPositive: 8384.0, Deaths: 372.0, Negative: 83391.0, Total Tested: 91775",
          "MA\nPositive: 15202.0, Deaths: 356.0, Negative: 66142.0, Total Tested: 81344",
          "SD\nPositive: 320.0, Deaths: 6.0, Negative: 5948.0, Total Tested: 6270",
          "OK\nPositive: 1472.0, Deaths: 67.0, Negative: 11821.0, Total Tested: 13293",
          "ID\nPositive: 1170.0, Deaths: 13.0, Negative: 10076.0, Total Tested: 11246",
          "HI\nPositive: 387.0, Deaths: 5.0, Negative: 13155.0, Total Tested: 13542",
          "KS\nPositive: 900.0, Deaths: 27.0, Negative: 8614.0, Total Tested: 9514",
          "AR\nPositive: 946.0, Deaths: 16.0, Negative: 12692.0, Total Tested: 13638",
          "NM\nPositive: 686.0, Deaths: 12.0, Negative: 21139.0, Total Tested: 21825",
          "ME\nPositive: 519.0, Deaths: 12.0, Negative: 6088.0, Total Tested: 6607",
          "TX\nPositive: 8262.0, Deaths: 154.0, Negative: 80387.0, Total Tested: 88649",
          "NY\nPositive: 138863.0, Deaths: 5489.0, Negative: 201195.0, Total Tested: 340058",
          "WI\nPositive: 2578.0, Deaths: 92.0, Negative: 28512.0, Total Tested: 31090",
          "VA\nPositive: 3333.0, Deaths: 63.0, Negative: 25312.0, Total Tested: 28645",
          "SC\nPositive: 2417.0, Deaths: 51.0, Negative: 21263.0, Total Tested: 23680",
          "AK\nPositive: 213.0, Deaths: 6.0, Negative: 6700.0, Total Tested: 6913",
          "PA\nPositive: 14559.0, Deaths: 240.0, Negative: 76719.0, Total Tested: 91278",
          "MI\nPositive: 18970.0, Deaths: 845.0, Negative: 31362.0, Total Tested: 50332",
          "MT\nPositive: 319.0, Deaths: 6.0, Negative: 6666.0, Total Tested: 6985",
          "WY\nPositive: 216.0, Deaths: 0.0, Negative: 3789.0, Total Tested: 4005"
         ],
         "type": "choropleth",
         "z": [
          1999,
          null,
          33,
          1106,
          null,
          null,
          1774,
          null,
          null,
          null,
          242,
          null,
          148,
          null,
          null,
          null,
          null,
          null,
          377,
          45,
          null,
          null,
          1354,
          null,
          103,
          193,
          271,
          994,
          null,
          404,
          408,
          null,
          1435,
          23,
          376,
          83,
          26,
          223,
          130,
          null,
          99,
          null,
          32083,
          745,
          563,
          241,
          23,
          null,
          null,
          28,
          33
         ]
        }
       ],
       "layout": {
        "geo": {
         "lakecolor": "rgb(255, 255, 255)",
         "projection": {
          "type": "albers usa"
         },
         "scope": "usa",
         "showlakes": true
        },
        "template": {
         "data": {
          "bar": [
           {
            "error_x": {
             "color": "#2a3f5f"
            },
            "error_y": {
             "color": "#2a3f5f"
            },
            "marker": {
             "line": {
              "color": "#E5ECF6",
              "width": 0.5
             }
            },
            "type": "bar"
           }
          ],
          "barpolar": [
           {
            "marker": {
             "line": {
              "color": "#E5ECF6",
              "width": 0.5
             }
            },
            "type": "barpolar"
           }
          ],
          "carpet": [
           {
            "aaxis": {
             "endlinecolor": "#2a3f5f",
             "gridcolor": "white",
             "linecolor": "white",
             "minorgridcolor": "white",
             "startlinecolor": "#2a3f5f"
            },
            "baxis": {
             "endlinecolor": "#2a3f5f",
             "gridcolor": "white",
             "linecolor": "white",
             "minorgridcolor": "white",
             "startlinecolor": "#2a3f5f"
            },
            "type": "carpet"
           }
          ],
          "choropleth": [
           {
            "colorbar": {
             "outlinewidth": 0,
             "ticks": ""
            },
            "type": "choropleth"
           }
          ],
          "contour": [
           {
            "colorbar": {
             "outlinewidth": 0,
             "ticks": ""
            },
            "colorscale": [
             [
              0,
              "#0d0887"
             ],
             [
              0.1111111111111111,
              "#46039f"
             ],
             [
              0.2222222222222222,
              "#7201a8"
             ],
             [
              0.3333333333333333,
              "#9c179e"
             ],
             [
              0.4444444444444444,
              "#bd3786"
             ],
             [
              0.5555555555555556,
              "#d8576b"
             ],
             [
              0.6666666666666666,
              "#ed7953"
             ],
             [
              0.7777777777777778,
              "#fb9f3a"
             ],
             [
              0.8888888888888888,
              "#fdca26"
             ],
             [
              1,
              "#f0f921"
             ]
            ],
            "type": "contour"
           }
          ],
          "contourcarpet": [
           {
            "colorbar": {
             "outlinewidth": 0,
             "ticks": ""
            },
            "type": "contourcarpet"
           }
          ],
          "heatmap": [
           {
            "colorbar": {
             "outlinewidth": 0,
             "ticks": ""
            },
            "colorscale": [
             [
              0,
              "#0d0887"
             ],
             [
              0.1111111111111111,
              "#46039f"
             ],
             [
              0.2222222222222222,
              "#7201a8"
             ],
             [
              0.3333333333333333,
              "#9c179e"
             ],
             [
              0.4444444444444444,
              "#bd3786"
             ],
             [
              0.5555555555555556,
              "#d8576b"
             ],
             [
              0.6666666666666666,
              "#ed7953"
             ],
             [
              0.7777777777777778,
              "#fb9f3a"
             ],
             [
              0.8888888888888888,
              "#fdca26"
             ],
             [
              1,
              "#f0f921"
             ]
            ],
            "type": "heatmap"
           }
          ],
          "heatmapgl": [
           {
            "colorbar": {
             "outlinewidth": 0,
             "ticks": ""
            },
            "colorscale": [
             [
              0,
              "#0d0887"
             ],
             [
              0.1111111111111111,
              "#46039f"
             ],
             [
              0.2222222222222222,
              "#7201a8"
             ],
             [
              0.3333333333333333,
              "#9c179e"
             ],
             [
              0.4444444444444444,
              "#bd3786"
             ],
             [
              0.5555555555555556,
              "#d8576b"
             ],
             [
              0.6666666666666666,
              "#ed7953"
             ],
             [
              0.7777777777777778,
              "#fb9f3a"
             ],
             [
              0.8888888888888888,
              "#fdca26"
             ],
             [
              1,
              "#f0f921"
             ]
            ],
            "type": "heatmapgl"
           }
          ],
          "histogram": [
           {
            "marker": {
             "colorbar": {
              "outlinewidth": 0,
              "ticks": ""
             }
            },
            "type": "histogram"
           }
          ],
          "histogram2d": [
           {
            "colorbar": {
             "outlinewidth": 0,
             "ticks": ""
            },
            "colorscale": [
             [
              0,
              "#0d0887"
             ],
             [
              0.1111111111111111,
              "#46039f"
             ],
             [
              0.2222222222222222,
              "#7201a8"
             ],
             [
              0.3333333333333333,
              "#9c179e"
             ],
             [
              0.4444444444444444,
              "#bd3786"
             ],
             [
              0.5555555555555556,
              "#d8576b"
             ],
             [
              0.6666666666666666,
              "#ed7953"
             ],
             [
              0.7777777777777778,
              "#fb9f3a"
             ],
             [
              0.8888888888888888,
              "#fdca26"
             ],
             [
              1,
              "#f0f921"
             ]
            ],
            "type": "histogram2d"
           }
          ],
          "histogram2dcontour": [
           {
            "colorbar": {
             "outlinewidth": 0,
             "ticks": ""
            },
            "colorscale": [
             [
              0,
              "#0d0887"
             ],
             [
              0.1111111111111111,
              "#46039f"
             ],
             [
              0.2222222222222222,
              "#7201a8"
             ],
             [
              0.3333333333333333,
              "#9c179e"
             ],
             [
              0.4444444444444444,
              "#bd3786"
             ],
             [
              0.5555555555555556,
              "#d8576b"
             ],
             [
              0.6666666666666666,
              "#ed7953"
             ],
             [
              0.7777777777777778,
              "#fb9f3a"
             ],
             [
              0.8888888888888888,
              "#fdca26"
             ],
             [
              1,
              "#f0f921"
             ]
            ],
            "type": "histogram2dcontour"
           }
          ],
          "mesh3d": [
           {
            "colorbar": {
             "outlinewidth": 0,
             "ticks": ""
            },
            "type": "mesh3d"
           }
          ],
          "parcoords": [
           {
            "line": {
             "colorbar": {
              "outlinewidth": 0,
              "ticks": ""
             }
            },
            "type": "parcoords"
           }
          ],
          "pie": [
           {
            "automargin": true,
            "type": "pie"
           }
          ],
          "scatter": [
           {
            "marker": {
             "colorbar": {
              "outlinewidth": 0,
              "ticks": ""
             }
            },
            "type": "scatter"
           }
          ],
          "scatter3d": [
           {
            "line": {
             "colorbar": {
              "outlinewidth": 0,
              "ticks": ""
             }
            },
            "marker": {
             "colorbar": {
              "outlinewidth": 0,
              "ticks": ""
             }
            },
            "type": "scatter3d"
           }
          ],
          "scattercarpet": [
           {
            "marker": {
             "colorbar": {
              "outlinewidth": 0,
              "ticks": ""
             }
            },
            "type": "scattercarpet"
           }
          ],
          "scattergeo": [
           {
            "marker": {
             "colorbar": {
              "outlinewidth": 0,
              "ticks": ""
             }
            },
            "type": "scattergeo"
           }
          ],
          "scattergl": [
           {
            "marker": {
             "colorbar": {
              "outlinewidth": 0,
              "ticks": ""
             }
            },
            "type": "scattergl"
           }
          ],
          "scattermapbox": [
           {
            "marker": {
             "colorbar": {
              "outlinewidth": 0,
              "ticks": ""
             }
            },
            "type": "scattermapbox"
           }
          ],
          "scatterpolar": [
           {
            "marker": {
             "colorbar": {
              "outlinewidth": 0,
              "ticks": ""
             }
            },
            "type": "scatterpolar"
           }
          ],
          "scatterpolargl": [
           {
            "marker": {
             "colorbar": {
              "outlinewidth": 0,
              "ticks": ""
             }
            },
            "type": "scatterpolargl"
           }
          ],
          "scatterternary": [
           {
            "marker": {
             "colorbar": {
              "outlinewidth": 0,
              "ticks": ""
             }
            },
            "type": "scatterternary"
           }
          ],
          "surface": [
           {
            "colorbar": {
             "outlinewidth": 0,
             "ticks": ""
            },
            "colorscale": [
             [
              0,
              "#0d0887"
             ],
             [
              0.1111111111111111,
              "#46039f"
             ],
             [
              0.2222222222222222,
              "#7201a8"
             ],
             [
              0.3333333333333333,
              "#9c179e"
             ],
             [
              0.4444444444444444,
              "#bd3786"
             ],
             [
              0.5555555555555556,
              "#d8576b"
             ],
             [
              0.6666666666666666,
              "#ed7953"
             ],
             [
              0.7777777777777778,
              "#fb9f3a"
             ],
             [
              0.8888888888888888,
              "#fdca26"
             ],
             [
              1,
              "#f0f921"
             ]
            ],
            "type": "surface"
           }
          ],
          "table": [
           {
            "cells": {
             "fill": {
              "color": "#EBF0F8"
             },
             "line": {
              "color": "white"
             }
            },
            "header": {
             "fill": {
              "color": "#C8D4E3"
             },
             "line": {
              "color": "white"
             }
            },
            "type": "table"
           }
          ]
         },
         "layout": {
          "annotationdefaults": {
           "arrowcolor": "#2a3f5f",
           "arrowhead": 0,
           "arrowwidth": 1
          },
          "coloraxis": {
           "colorbar": {
            "outlinewidth": 0,
            "ticks": ""
           }
          },
          "colorscale": {
           "diverging": [
            [
             0,
             "#8e0152"
            ],
            [
             0.1,
             "#c51b7d"
            ],
            [
             0.2,
             "#de77ae"
            ],
            [
             0.3,
             "#f1b6da"
            ],
            [
             0.4,
             "#fde0ef"
            ],
            [
             0.5,
             "#f7f7f7"
            ],
            [
             0.6,
             "#e6f5d0"
            ],
            [
             0.7,
             "#b8e186"
            ],
            [
             0.8,
             "#7fbc41"
            ],
            [
             0.9,
             "#4d9221"
            ],
            [
             1,
             "#276419"
            ]
           ],
           "sequential": [
            [
             0,
             "#0d0887"
            ],
            [
             0.1111111111111111,
             "#46039f"
            ],
            [
             0.2222222222222222,
             "#7201a8"
            ],
            [
             0.3333333333333333,
             "#9c179e"
            ],
            [
             0.4444444444444444,
             "#bd3786"
            ],
            [
             0.5555555555555556,
             "#d8576b"
            ],
            [
             0.6666666666666666,
             "#ed7953"
            ],
            [
             0.7777777777777778,
             "#fb9f3a"
            ],
            [
             0.8888888888888888,
             "#fdca26"
            ],
            [
             1,
             "#f0f921"
            ]
           ],
           "sequentialminus": [
            [
             0,
             "#0d0887"
            ],
            [
             0.1111111111111111,
             "#46039f"
            ],
            [
             0.2222222222222222,
             "#7201a8"
            ],
            [
             0.3333333333333333,
             "#9c179e"
            ],
            [
             0.4444444444444444,
             "#bd3786"
            ],
            [
             0.5555555555555556,
             "#d8576b"
            ],
            [
             0.6666666666666666,
             "#ed7953"
            ],
            [
             0.7777777777777778,
             "#fb9f3a"
            ],
            [
             0.8888888888888888,
             "#fdca26"
            ],
            [
             1,
             "#f0f921"
            ]
           ]
          },
          "colorway": [
           "#636efa",
           "#EF553B",
           "#00cc96",
           "#ab63fa",
           "#FFA15A",
           "#19d3f3",
           "#FF6692",
           "#B6E880",
           "#FF97FF",
           "#FECB52"
          ],
          "font": {
           "color": "#2a3f5f"
          },
          "geo": {
           "bgcolor": "white",
           "lakecolor": "white",
           "landcolor": "#E5ECF6",
           "showlakes": true,
           "showland": true,
           "subunitcolor": "white"
          },
          "hoverlabel": {
           "align": "left"
          },
          "hovermode": "closest",
          "mapbox": {
           "style": "light"
          },
          "paper_bgcolor": "white",
          "plot_bgcolor": "#E5ECF6",
          "polar": {
           "angularaxis": {
            "gridcolor": "white",
            "linecolor": "white",
            "ticks": ""
           },
           "bgcolor": "#E5ECF6",
           "radialaxis": {
            "gridcolor": "white",
            "linecolor": "white",
            "ticks": ""
           }
          },
          "scene": {
           "xaxis": {
            "backgroundcolor": "#E5ECF6",
            "gridcolor": "white",
            "gridwidth": 2,
            "linecolor": "white",
            "showbackground": true,
            "ticks": "",
            "zerolinecolor": "white"
           },
           "yaxis": {
            "backgroundcolor": "#E5ECF6",
            "gridcolor": "white",
            "gridwidth": 2,
            "linecolor": "white",
            "showbackground": true,
            "ticks": "",
            "zerolinecolor": "white"
           },
           "zaxis": {
            "backgroundcolor": "#E5ECF6",
            "gridcolor": "white",
            "gridwidth": 2,
            "linecolor": "white",
            "showbackground": true,
            "ticks": "",
            "zerolinecolor": "white"
           }
          },
          "shapedefaults": {
           "line": {
            "color": "#2a3f5f"
           }
          },
          "ternary": {
           "aaxis": {
            "gridcolor": "white",
            "linecolor": "white",
            "ticks": ""
           },
           "baxis": {
            "gridcolor": "white",
            "linecolor": "white",
            "ticks": ""
           },
           "bgcolor": "#E5ECF6",
           "caxis": {
            "gridcolor": "white",
            "linecolor": "white",
            "ticks": ""
           }
          },
          "title": {
           "x": 0.05
          },
          "xaxis": {
           "automargin": true,
           "gridcolor": "white",
           "linecolor": "white",
           "ticks": "",
           "title": {
            "standoff": 15
           },
           "zerolinecolor": "white",
           "zerolinewidth": 2
          },
          "yaxis": {
           "automargin": true,
           "gridcolor": "white",
           "linecolor": "white",
           "ticks": "",
           "title": {
            "standoff": 15
           },
           "zerolinecolor": "white",
           "zerolinewidth": 2
          }
         }
        },
        "title": {
         "text": "Number of Covid patients Hospitalized, Cumulative<br>(Hover for breakdown)"
        }
       }
      },
      "text/html": [
       "<div>\n",
       "        \n",
       "        \n",
       "            <div id=\"b1bfe671-23e4-4d67-aea9-7835f2eb9e6c\" class=\"plotly-graph-div\" style=\"height:525px; width:100%;\"></div>\n",
       "            <script type=\"text/javascript\">\n",
       "                require([\"plotly\"], function(Plotly) {\n",
       "                    window.PLOTLYENV=window.PLOTLYENV || {};\n",
       "                    \n",
       "                if (document.getElementById(\"b1bfe671-23e4-4d67-aea9-7835f2eb9e6c\")) {\n",
       "                    Plotly.newPlot(\n",
       "                        'b1bfe671-23e4-4d67-aea9-7835f2eb9e6c',\n",
       "                        [{\"autocolorscale\": false, \"colorbar\": {\"title\": {\"text\": \"Number of Covid patients Hospitalized, Cumulative\"}}, \"colorscale\": [[0.0, \"rgb(255,245,235)\"], [0.125, \"rgb(254,230,206)\"], [0.25, \"rgb(253,208,162)\"], [0.375, \"rgb(253,174,107)\"], [0.5, \"rgb(253,141,60)\"], [0.625, \"rgb(241,105,19)\"], [0.75, \"rgb(217,72,1)\"], [0.875, \"rgb(166,54,3)\"], [1.0, \"rgb(127,39,4)\"]], \"locationmode\": \"USA-states\", \"locations\": [\"FL\", \"CT\", \"ND\", \"MD\", \"LA\", \"DE\", \"GA\", \"NJ\", \"IL\", \"NV\", \"MN\", \"NC\", \"UT\", \"AZ\", \"IN\", \"RI\", \"CA\", \"WV\", \"MS\", \"VT\", \"KY\", \"NE\", \"OH\", \"DC\", \"NH\", \"IA\", \"AL\", \"CO\", \"MO\", \"OR\", \"TN\", \"WA\", \"MA\", \"SD\", \"OK\", \"ID\", \"HI\", \"KS\", \"AR\", \"NM\", \"ME\", \"TX\", \"NY\", \"WI\", \"VA\", \"SC\", \"AK\", \"PA\", \"MI\", \"MT\", \"WY\"], \"marker\": {\"line\": {\"color\": \"white\"}}, \"text\": [\"FL\\nPositive: 14747.0, Deaths: 296.0, Negative: 123415.0, Total Tested: 139569\", \"CT\\nPositive: 7781.0, Deaths: 277.0, Negative: 21255.0, Total Tested: 29036\", \"ND\\nPositive: 237.0, Deaths: 4.0, Negative: 7466.0, Total Tested: 7703\", \"MD\\nPositive: 4371.0, Deaths: 103.0, Negative: 27256.0, Total Tested: 31627\", \"LA\\nPositive: 16284.0, Deaths: 582.0, Negative: 58371.0, Total Tested: 74655\", \"DE\\nPositive: 928.0, Deaths: 16.0, Negative: 7628.0, Total Tested: 8556\", \"GA\\nPositive: 8818.0, Deaths: 329.0, Negative: 24895.0, Total Tested: 33713\", \"NJ\\nPositive: 44416.0, Deaths: 1232.0, Negative: 50558.0, Total Tested: 94974\", \"IL\\nPositive: 13549.0, Deaths: 380.0, Negative: 55183.0, Total Tested: 68732\", \"NV\\nPositive: 2087.0, Deaths: 58.0, Negative: 16552.0, Total Tested: 18639\", \"MN\\nPositive: 1069.0, Deaths: 34.0, Negative: 28191.0, Total Tested: 29260\", \"NC\\nPositive: 3221.0, Deaths: 46.0, Negative: 37861.0, Total Tested: 41082\", \"UT\\nPositive: 1738.0, Deaths: 13.0, Negative: 32909.0, Total Tested: 34647\", \"AZ\\nPositive: 2575.0, Deaths: 73.0, Negative: 30800.0, Total Tested: 33375\", \"IN\\nPositive: 5507.0, Deaths: 173.0, Negative: 23257.0, Total Tested: 28764\", \"RI\\nPositive: 1229.0, Deaths: 30.0, Negative: 7399.0, Total Tested: 8628\", \"CA\\nPositive: 15865.0, Deaths: 374.0, Negative: 115364.0, Total Tested: 145329\", \"WV\\nPositive: 412.0, Deaths: 4.0, Negative: 11647.0, Total Tested: 12059\", \"MS\\nPositive: 1915.0, Deaths: 59.0, Negative: 18632.0, Total Tested: 20547\", \"VT\\nPositive: 575.0, Deaths: 23.0, Negative: 6554.0, Total Tested: 7129\", \"KY\\nPositive: 1008.0, Deaths: 59.0, Negative: 18947.0, Total Tested: 19955\", \"NE\\nPositive: 447.0, Deaths: 10.0, Negative: 6811.0, Total Tested: 7258\", \"OH\\nPositive: 4782.0, Deaths: 167.0, Negative: 46056.0, Total Tested: 50838\", \"DC\\nPositive: 1211.0, Deaths: 22.0, Negative: 6612.0, Total Tested: 7823\", \"NH\\nPositive: 715.0, Deaths: 9.0, Negative: 8019.0, Total Tested: 8783\", \"IA\\nPositive: 1048.0, Deaths: 26.0, Negative: 11670.0, Total Tested: 12718\", \"AL\\nPositive: 2119.0, Deaths: 56.0, Negative: 12797.0, Total Tested: 14916\", \"CO\\nPositive: 5172.0, Deaths: 150.0, Negative: 21703.0, Total Tested: 26875\", \"MO\\nPositive: 3037.0, Deaths: 53.0, Negative: 28932.0, Total Tested: 31969\", \"OR\\nPositive: 1132.0, Deaths: 29.0, Negative: 20669.0, Total Tested: 21801\", \"TN\\nPositive: 4138.0, Deaths: 72.0, Negative: 48736.0, Total Tested: 52874\", \"WA\\nPositive: 8384.0, Deaths: 372.0, Negative: 83391.0, Total Tested: 91775\", \"MA\\nPositive: 15202.0, Deaths: 356.0, Negative: 66142.0, Total Tested: 81344\", \"SD\\nPositive: 320.0, Deaths: 6.0, Negative: 5948.0, Total Tested: 6270\", \"OK\\nPositive: 1472.0, Deaths: 67.0, Negative: 11821.0, Total Tested: 13293\", \"ID\\nPositive: 1170.0, Deaths: 13.0, Negative: 10076.0, Total Tested: 11246\", \"HI\\nPositive: 387.0, Deaths: 5.0, Negative: 13155.0, Total Tested: 13542\", \"KS\\nPositive: 900.0, Deaths: 27.0, Negative: 8614.0, Total Tested: 9514\", \"AR\\nPositive: 946.0, Deaths: 16.0, Negative: 12692.0, Total Tested: 13638\", \"NM\\nPositive: 686.0, Deaths: 12.0, Negative: 21139.0, Total Tested: 21825\", \"ME\\nPositive: 519.0, Deaths: 12.0, Negative: 6088.0, Total Tested: 6607\", \"TX\\nPositive: 8262.0, Deaths: 154.0, Negative: 80387.0, Total Tested: 88649\", \"NY\\nPositive: 138863.0, Deaths: 5489.0, Negative: 201195.0, Total Tested: 340058\", \"WI\\nPositive: 2578.0, Deaths: 92.0, Negative: 28512.0, Total Tested: 31090\", \"VA\\nPositive: 3333.0, Deaths: 63.0, Negative: 25312.0, Total Tested: 28645\", \"SC\\nPositive: 2417.0, Deaths: 51.0, Negative: 21263.0, Total Tested: 23680\", \"AK\\nPositive: 213.0, Deaths: 6.0, Negative: 6700.0, Total Tested: 6913\", \"PA\\nPositive: 14559.0, Deaths: 240.0, Negative: 76719.0, Total Tested: 91278\", \"MI\\nPositive: 18970.0, Deaths: 845.0, Negative: 31362.0, Total Tested: 50332\", \"MT\\nPositive: 319.0, Deaths: 6.0, Negative: 6666.0, Total Tested: 6985\", \"WY\\nPositive: 216.0, Deaths: 0.0, Negative: 3789.0, Total Tested: 4005\"], \"type\": \"choropleth\", \"z\": [1999.0, null, 33.0, 1106.0, null, null, 1774.0, null, null, null, 242.0, null, 148.0, null, null, null, null, null, 377.0, 45.0, null, null, 1354.0, null, 103.0, 193.0, 271.0, 994.0, null, 404.0, 408.0, null, 1435.0, 23.0, 376.0, 83.0, 26.0, 223.0, 130.0, null, 99.0, null, 32083.0, 745.0, 563.0, 241.0, 23.0, null, null, 28.0, 33.0]}],\n",
       "                        {\"geo\": {\"lakecolor\": \"rgb(255, 255, 255)\", \"projection\": {\"type\": \"albers usa\"}, \"scope\": \"usa\", \"showlakes\": true}, \"template\": {\"data\": {\"bar\": [{\"error_x\": {\"color\": \"#2a3f5f\"}, \"error_y\": {\"color\": \"#2a3f5f\"}, \"marker\": {\"line\": {\"color\": \"#E5ECF6\", \"width\": 0.5}}, \"type\": \"bar\"}], \"barpolar\": [{\"marker\": {\"line\": {\"color\": \"#E5ECF6\", \"width\": 0.5}}, \"type\": \"barpolar\"}], \"carpet\": [{\"aaxis\": {\"endlinecolor\": \"#2a3f5f\", \"gridcolor\": \"white\", \"linecolor\": \"white\", \"minorgridcolor\": \"white\", \"startlinecolor\": \"#2a3f5f\"}, \"baxis\": {\"endlinecolor\": \"#2a3f5f\", \"gridcolor\": \"white\", \"linecolor\": \"white\", \"minorgridcolor\": \"white\", \"startlinecolor\": \"#2a3f5f\"}, \"type\": \"carpet\"}], \"choropleth\": [{\"colorbar\": {\"outlinewidth\": 0, \"ticks\": \"\"}, \"type\": \"choropleth\"}], \"contour\": [{\"colorbar\": {\"outlinewidth\": 0, \"ticks\": \"\"}, \"colorscale\": [[0.0, \"#0d0887\"], [0.1111111111111111, \"#46039f\"], [0.2222222222222222, \"#7201a8\"], [0.3333333333333333, \"#9c179e\"], [0.4444444444444444, \"#bd3786\"], [0.5555555555555556, \"#d8576b\"], [0.6666666666666666, \"#ed7953\"], [0.7777777777777778, \"#fb9f3a\"], [0.8888888888888888, \"#fdca26\"], [1.0, \"#f0f921\"]], \"type\": \"contour\"}], \"contourcarpet\": [{\"colorbar\": {\"outlinewidth\": 0, \"ticks\": \"\"}, \"type\": \"contourcarpet\"}], \"heatmap\": [{\"colorbar\": {\"outlinewidth\": 0, \"ticks\": \"\"}, \"colorscale\": [[0.0, \"#0d0887\"], [0.1111111111111111, \"#46039f\"], [0.2222222222222222, \"#7201a8\"], [0.3333333333333333, \"#9c179e\"], [0.4444444444444444, \"#bd3786\"], [0.5555555555555556, \"#d8576b\"], [0.6666666666666666, \"#ed7953\"], [0.7777777777777778, \"#fb9f3a\"], [0.8888888888888888, \"#fdca26\"], [1.0, \"#f0f921\"]], \"type\": \"heatmap\"}], \"heatmapgl\": [{\"colorbar\": {\"outlinewidth\": 0, \"ticks\": \"\"}, \"colorscale\": [[0.0, \"#0d0887\"], [0.1111111111111111, \"#46039f\"], [0.2222222222222222, \"#7201a8\"], [0.3333333333333333, \"#9c179e\"], [0.4444444444444444, \"#bd3786\"], [0.5555555555555556, \"#d8576b\"], [0.6666666666666666, \"#ed7953\"], [0.7777777777777778, \"#fb9f3a\"], [0.8888888888888888, \"#fdca26\"], [1.0, \"#f0f921\"]], \"type\": \"heatmapgl\"}], \"histogram\": [{\"marker\": {\"colorbar\": {\"outlinewidth\": 0, \"ticks\": \"\"}}, \"type\": \"histogram\"}], \"histogram2d\": [{\"colorbar\": {\"outlinewidth\": 0, \"ticks\": \"\"}, \"colorscale\": [[0.0, \"#0d0887\"], [0.1111111111111111, \"#46039f\"], [0.2222222222222222, \"#7201a8\"], [0.3333333333333333, \"#9c179e\"], [0.4444444444444444, \"#bd3786\"], [0.5555555555555556, \"#d8576b\"], [0.6666666666666666, \"#ed7953\"], [0.7777777777777778, \"#fb9f3a\"], [0.8888888888888888, \"#fdca26\"], [1.0, \"#f0f921\"]], \"type\": \"histogram2d\"}], \"histogram2dcontour\": [{\"colorbar\": {\"outlinewidth\": 0, \"ticks\": \"\"}, \"colorscale\": [[0.0, \"#0d0887\"], [0.1111111111111111, \"#46039f\"], [0.2222222222222222, \"#7201a8\"], [0.3333333333333333, \"#9c179e\"], [0.4444444444444444, \"#bd3786\"], [0.5555555555555556, \"#d8576b\"], [0.6666666666666666, \"#ed7953\"], [0.7777777777777778, \"#fb9f3a\"], [0.8888888888888888, \"#fdca26\"], [1.0, \"#f0f921\"]], \"type\": \"histogram2dcontour\"}], \"mesh3d\": [{\"colorbar\": {\"outlinewidth\": 0, \"ticks\": \"\"}, \"type\": \"mesh3d\"}], \"parcoords\": [{\"line\": {\"colorbar\": {\"outlinewidth\": 0, \"ticks\": \"\"}}, \"type\": \"parcoords\"}], \"pie\": [{\"automargin\": true, \"type\": \"pie\"}], \"scatter\": [{\"marker\": {\"colorbar\": {\"outlinewidth\": 0, \"ticks\": \"\"}}, \"type\": \"scatter\"}], \"scatter3d\": [{\"line\": {\"colorbar\": {\"outlinewidth\": 0, \"ticks\": \"\"}}, \"marker\": {\"colorbar\": {\"outlinewidth\": 0, \"ticks\": \"\"}}, \"type\": \"scatter3d\"}], \"scattercarpet\": [{\"marker\": {\"colorbar\": {\"outlinewidth\": 0, \"ticks\": \"\"}}, \"type\": \"scattercarpet\"}], \"scattergeo\": [{\"marker\": {\"colorbar\": {\"outlinewidth\": 0, \"ticks\": \"\"}}, \"type\": \"scattergeo\"}], \"scattergl\": [{\"marker\": {\"colorbar\": {\"outlinewidth\": 0, \"ticks\": \"\"}}, \"type\": \"scattergl\"}], \"scattermapbox\": [{\"marker\": {\"colorbar\": {\"outlinewidth\": 0, \"ticks\": \"\"}}, \"type\": \"scattermapbox\"}], \"scatterpolar\": [{\"marker\": {\"colorbar\": {\"outlinewidth\": 0, \"ticks\": \"\"}}, \"type\": \"scatterpolar\"}], \"scatterpolargl\": [{\"marker\": {\"colorbar\": {\"outlinewidth\": 0, \"ticks\": \"\"}}, \"type\": \"scatterpolargl\"}], \"scatterternary\": [{\"marker\": {\"colorbar\": {\"outlinewidth\": 0, \"ticks\": \"\"}}, \"type\": \"scatterternary\"}], \"surface\": [{\"colorbar\": {\"outlinewidth\": 0, \"ticks\": \"\"}, \"colorscale\": [[0.0, \"#0d0887\"], [0.1111111111111111, \"#46039f\"], [0.2222222222222222, \"#7201a8\"], [0.3333333333333333, \"#9c179e\"], [0.4444444444444444, \"#bd3786\"], [0.5555555555555556, \"#d8576b\"], [0.6666666666666666, \"#ed7953\"], [0.7777777777777778, \"#fb9f3a\"], [0.8888888888888888, \"#fdca26\"], [1.0, \"#f0f921\"]], \"type\": \"surface\"}], \"table\": [{\"cells\": {\"fill\": {\"color\": \"#EBF0F8\"}, \"line\": {\"color\": \"white\"}}, \"header\": {\"fill\": {\"color\": \"#C8D4E3\"}, \"line\": {\"color\": \"white\"}}, \"type\": \"table\"}]}, \"layout\": {\"annotationdefaults\": {\"arrowcolor\": \"#2a3f5f\", \"arrowhead\": 0, \"arrowwidth\": 1}, \"coloraxis\": {\"colorbar\": {\"outlinewidth\": 0, \"ticks\": \"\"}}, \"colorscale\": {\"diverging\": [[0, \"#8e0152\"], [0.1, \"#c51b7d\"], [0.2, \"#de77ae\"], [0.3, \"#f1b6da\"], [0.4, \"#fde0ef\"], [0.5, \"#f7f7f7\"], [0.6, \"#e6f5d0\"], [0.7, \"#b8e186\"], [0.8, \"#7fbc41\"], [0.9, \"#4d9221\"], [1, \"#276419\"]], \"sequential\": [[0.0, \"#0d0887\"], [0.1111111111111111, \"#46039f\"], [0.2222222222222222, \"#7201a8\"], [0.3333333333333333, \"#9c179e\"], [0.4444444444444444, \"#bd3786\"], [0.5555555555555556, \"#d8576b\"], [0.6666666666666666, \"#ed7953\"], [0.7777777777777778, \"#fb9f3a\"], [0.8888888888888888, \"#fdca26\"], [1.0, \"#f0f921\"]], \"sequentialminus\": [[0.0, \"#0d0887\"], [0.1111111111111111, \"#46039f\"], [0.2222222222222222, \"#7201a8\"], [0.3333333333333333, \"#9c179e\"], [0.4444444444444444, \"#bd3786\"], [0.5555555555555556, \"#d8576b\"], [0.6666666666666666, \"#ed7953\"], [0.7777777777777778, \"#fb9f3a\"], [0.8888888888888888, \"#fdca26\"], [1.0, \"#f0f921\"]]}, \"colorway\": [\"#636efa\", \"#EF553B\", \"#00cc96\", \"#ab63fa\", \"#FFA15A\", \"#19d3f3\", \"#FF6692\", \"#B6E880\", \"#FF97FF\", \"#FECB52\"], \"font\": {\"color\": \"#2a3f5f\"}, \"geo\": {\"bgcolor\": \"white\", \"lakecolor\": \"white\", \"landcolor\": \"#E5ECF6\", \"showlakes\": true, \"showland\": true, \"subunitcolor\": \"white\"}, \"hoverlabel\": {\"align\": \"left\"}, \"hovermode\": \"closest\", \"mapbox\": {\"style\": \"light\"}, \"paper_bgcolor\": \"white\", \"plot_bgcolor\": \"#E5ECF6\", \"polar\": {\"angularaxis\": {\"gridcolor\": \"white\", \"linecolor\": \"white\", \"ticks\": \"\"}, \"bgcolor\": \"#E5ECF6\", \"radialaxis\": {\"gridcolor\": \"white\", \"linecolor\": \"white\", \"ticks\": \"\"}}, \"scene\": {\"xaxis\": {\"backgroundcolor\": \"#E5ECF6\", \"gridcolor\": \"white\", \"gridwidth\": 2, \"linecolor\": \"white\", \"showbackground\": true, \"ticks\": \"\", \"zerolinecolor\": \"white\"}, \"yaxis\": {\"backgroundcolor\": \"#E5ECF6\", \"gridcolor\": \"white\", \"gridwidth\": 2, \"linecolor\": \"white\", \"showbackground\": true, \"ticks\": \"\", \"zerolinecolor\": \"white\"}, \"zaxis\": {\"backgroundcolor\": \"#E5ECF6\", \"gridcolor\": \"white\", \"gridwidth\": 2, \"linecolor\": \"white\", \"showbackground\": true, \"ticks\": \"\", \"zerolinecolor\": \"white\"}}, \"shapedefaults\": {\"line\": {\"color\": \"#2a3f5f\"}}, \"ternary\": {\"aaxis\": {\"gridcolor\": \"white\", \"linecolor\": \"white\", \"ticks\": \"\"}, \"baxis\": {\"gridcolor\": \"white\", \"linecolor\": \"white\", \"ticks\": \"\"}, \"bgcolor\": \"#E5ECF6\", \"caxis\": {\"gridcolor\": \"white\", \"linecolor\": \"white\", \"ticks\": \"\"}}, \"title\": {\"x\": 0.05}, \"xaxis\": {\"automargin\": true, \"gridcolor\": \"white\", \"linecolor\": \"white\", \"ticks\": \"\", \"title\": {\"standoff\": 15}, \"zerolinecolor\": \"white\", \"zerolinewidth\": 2}, \"yaxis\": {\"automargin\": true, \"gridcolor\": \"white\", \"linecolor\": \"white\", \"ticks\": \"\", \"title\": {\"standoff\": 15}, \"zerolinecolor\": \"white\", \"zerolinewidth\": 2}}}, \"title\": {\"text\": \"Number of Covid patients Hospitalized, Cumulative<br>(Hover for breakdown)\"}},\n",
       "                        {\"responsive\": true}\n",
       "                    ).then(function(){\n",
       "                            \n",
       "var gd = document.getElementById('b1bfe671-23e4-4d67-aea9-7835f2eb9e6c');\n",
       "var x = new MutationObserver(function (mutations, observer) {{\n",
       "        var display = window.getComputedStyle(gd).display;\n",
       "        if (!display || display === 'none') {{\n",
       "            console.log([gd, 'removed!']);\n",
       "            Plotly.purge(gd);\n",
       "            observer.disconnect();\n",
       "        }}\n",
       "}});\n",
       "\n",
       "// Listen for the removal of the full notebook cells\n",
       "var notebookContainer = gd.closest('#notebook-container');\n",
       "if (notebookContainer) {{\n",
       "    x.observe(notebookContainer, {childList: true});\n",
       "}}\n",
       "\n",
       "// Listen for the clearing of the current output cell\n",
       "var outputEl = gd.closest('.output');\n",
       "if (outputEl) {{\n",
       "    x.observe(outputEl, {childList: true});\n",
       "}}\n",
       "\n",
       "                        })\n",
       "                };\n",
       "                });\n",
       "            </script>\n",
       "        </div>"
      ]
     },
     "metadata": {},
     "output_type": "display_data"
    }
   ],
   "source": [
    "#scale = 1000\n",
    "fig = go.Figure(data=go.Choropleth(\n",
    "    locations=df2['state'],\n",
    "    z=df2['hospitalizedCumulative'],\n",
    "    locationmode='USA-states',\n",
    "    colorscale='Oranges',\n",
    "    autocolorscale=False,\n",
    "    text=df2['text'], # hover text\n",
    "    marker_line_color='white', # line markers between states\n",
    "    colorbar_title=\"Number of Covid patients Hospitalized, Cumulative\"\n",
    "))\n",
    "\n",
    "fig.update_layout(\n",
    "    title_text='Number of Covid patients Hospitalized, Cumulative<br>(Hover for breakdown)',\n",
    "    geo = dict(\n",
    "        scope='usa',\n",
    "        projection=go.layout.geo.Projection(type = 'albers usa'),\n",
    "        showlakes=True, # lakes\n",
    "        lakecolor='rgb(255, 255, 255)'),\n",
    ")\n",
    "fig.show();"
   ]
  },
  {
   "cell_type": "code",
   "execution_count": 18,
   "metadata": {
    "ExecuteTime": {
     "end_time": "2020-04-08T00:54:10.683969Z",
     "start_time": "2020-04-08T00:54:10.500933Z"
    }
   },
   "outputs": [
    {
     "data": {
      "application/vnd.plotly.v1+json": {
       "config": {
        "plotlyServerURL": "https://plot.ly"
       },
       "data": [
        {
         "autocolorscale": false,
         "colorbar": {
          "title": {
           "text": "Hospitalization rate for positive cases (in %)"
          }
         },
         "colorscale": [
          [
           0,
           "rgb(255,245,235)"
          ],
          [
           0.125,
           "rgb(254,230,206)"
          ],
          [
           0.25,
           "rgb(253,208,162)"
          ],
          [
           0.375,
           "rgb(253,174,107)"
          ],
          [
           0.5,
           "rgb(253,141,60)"
          ],
          [
           0.625,
           "rgb(241,105,19)"
          ],
          [
           0.75,
           "rgb(217,72,1)"
          ],
          [
           0.875,
           "rgb(166,54,3)"
          ],
          [
           1,
           "rgb(127,39,4)"
          ]
         ],
         "locationmode": "USA-states",
         "locations": [
          "FL",
          "CT",
          "ND",
          "MD",
          "LA",
          "DE",
          "GA",
          "NJ",
          "IL",
          "NV",
          "MN",
          "NC",
          "UT",
          "AZ",
          "IN",
          "RI",
          "CA",
          "WV",
          "MS",
          "VT",
          "KY",
          "NE",
          "OH",
          "DC",
          "NH",
          "IA",
          "AL",
          "CO",
          "MO",
          "OR",
          "TN",
          "WA",
          "MA",
          "SD",
          "OK",
          "ID",
          "HI",
          "KS",
          "AR",
          "NM",
          "ME",
          "TX",
          "NY",
          "WI",
          "VA",
          "SC",
          "AK",
          "PA",
          "MI",
          "MT",
          "WY"
         ],
         "marker": {
          "line": {
           "color": "white"
          }
         },
         "text": [
          "FL\nPositive: 14747.0, Deaths: 296.0, Negative: 123415.0, Total Tested: 139569",
          "CT\nPositive: 7781.0, Deaths: 277.0, Negative: 21255.0, Total Tested: 29036",
          "ND\nPositive: 237.0, Deaths: 4.0, Negative: 7466.0, Total Tested: 7703",
          "MD\nPositive: 4371.0, Deaths: 103.0, Negative: 27256.0, Total Tested: 31627",
          "LA\nPositive: 16284.0, Deaths: 582.0, Negative: 58371.0, Total Tested: 74655",
          "DE\nPositive: 928.0, Deaths: 16.0, Negative: 7628.0, Total Tested: 8556",
          "GA\nPositive: 8818.0, Deaths: 329.0, Negative: 24895.0, Total Tested: 33713",
          "NJ\nPositive: 44416.0, Deaths: 1232.0, Negative: 50558.0, Total Tested: 94974",
          "IL\nPositive: 13549.0, Deaths: 380.0, Negative: 55183.0, Total Tested: 68732",
          "NV\nPositive: 2087.0, Deaths: 58.0, Negative: 16552.0, Total Tested: 18639",
          "MN\nPositive: 1069.0, Deaths: 34.0, Negative: 28191.0, Total Tested: 29260",
          "NC\nPositive: 3221.0, Deaths: 46.0, Negative: 37861.0, Total Tested: 41082",
          "UT\nPositive: 1738.0, Deaths: 13.0, Negative: 32909.0, Total Tested: 34647",
          "AZ\nPositive: 2575.0, Deaths: 73.0, Negative: 30800.0, Total Tested: 33375",
          "IN\nPositive: 5507.0, Deaths: 173.0, Negative: 23257.0, Total Tested: 28764",
          "RI\nPositive: 1229.0, Deaths: 30.0, Negative: 7399.0, Total Tested: 8628",
          "CA\nPositive: 15865.0, Deaths: 374.0, Negative: 115364.0, Total Tested: 145329",
          "WV\nPositive: 412.0, Deaths: 4.0, Negative: 11647.0, Total Tested: 12059",
          "MS\nPositive: 1915.0, Deaths: 59.0, Negative: 18632.0, Total Tested: 20547",
          "VT\nPositive: 575.0, Deaths: 23.0, Negative: 6554.0, Total Tested: 7129",
          "KY\nPositive: 1008.0, Deaths: 59.0, Negative: 18947.0, Total Tested: 19955",
          "NE\nPositive: 447.0, Deaths: 10.0, Negative: 6811.0, Total Tested: 7258",
          "OH\nPositive: 4782.0, Deaths: 167.0, Negative: 46056.0, Total Tested: 50838",
          "DC\nPositive: 1211.0, Deaths: 22.0, Negative: 6612.0, Total Tested: 7823",
          "NH\nPositive: 715.0, Deaths: 9.0, Negative: 8019.0, Total Tested: 8783",
          "IA\nPositive: 1048.0, Deaths: 26.0, Negative: 11670.0, Total Tested: 12718",
          "AL\nPositive: 2119.0, Deaths: 56.0, Negative: 12797.0, Total Tested: 14916",
          "CO\nPositive: 5172.0, Deaths: 150.0, Negative: 21703.0, Total Tested: 26875",
          "MO\nPositive: 3037.0, Deaths: 53.0, Negative: 28932.0, Total Tested: 31969",
          "OR\nPositive: 1132.0, Deaths: 29.0, Negative: 20669.0, Total Tested: 21801",
          "TN\nPositive: 4138.0, Deaths: 72.0, Negative: 48736.0, Total Tested: 52874",
          "WA\nPositive: 8384.0, Deaths: 372.0, Negative: 83391.0, Total Tested: 91775",
          "MA\nPositive: 15202.0, Deaths: 356.0, Negative: 66142.0, Total Tested: 81344",
          "SD\nPositive: 320.0, Deaths: 6.0, Negative: 5948.0, Total Tested: 6270",
          "OK\nPositive: 1472.0, Deaths: 67.0, Negative: 11821.0, Total Tested: 13293",
          "ID\nPositive: 1170.0, Deaths: 13.0, Negative: 10076.0, Total Tested: 11246",
          "HI\nPositive: 387.0, Deaths: 5.0, Negative: 13155.0, Total Tested: 13542",
          "KS\nPositive: 900.0, Deaths: 27.0, Negative: 8614.0, Total Tested: 9514",
          "AR\nPositive: 946.0, Deaths: 16.0, Negative: 12692.0, Total Tested: 13638",
          "NM\nPositive: 686.0, Deaths: 12.0, Negative: 21139.0, Total Tested: 21825",
          "ME\nPositive: 519.0, Deaths: 12.0, Negative: 6088.0, Total Tested: 6607",
          "TX\nPositive: 8262.0, Deaths: 154.0, Negative: 80387.0, Total Tested: 88649",
          "NY\nPositive: 138863.0, Deaths: 5489.0, Negative: 201195.0, Total Tested: 340058",
          "WI\nPositive: 2578.0, Deaths: 92.0, Negative: 28512.0, Total Tested: 31090",
          "VA\nPositive: 3333.0, Deaths: 63.0, Negative: 25312.0, Total Tested: 28645",
          "SC\nPositive: 2417.0, Deaths: 51.0, Negative: 21263.0, Total Tested: 23680",
          "AK\nPositive: 213.0, Deaths: 6.0, Negative: 6700.0, Total Tested: 6913",
          "PA\nPositive: 14559.0, Deaths: 240.0, Negative: 76719.0, Total Tested: 91278",
          "MI\nPositive: 18970.0, Deaths: 845.0, Negative: 31362.0, Total Tested: 50332",
          "MT\nPositive: 319.0, Deaths: 6.0, Negative: 6666.0, Total Tested: 6985",
          "WY\nPositive: 216.0, Deaths: 0.0, Negative: 3789.0, Total Tested: 4005"
         ],
         "type": "choropleth",
         "z": [
          13.55529938292534,
          null,
          13.924050632911392,
          25.303134294211848,
          null,
          null,
          20.117940576094355,
          null,
          null,
          null,
          22.63797942001871,
          null,
          8.51553509781358,
          null,
          null,
          null,
          null,
          null,
          19.68668407310705,
          7.82608695652174,
          null,
          null,
          28.31451275616897,
          null,
          14.405594405594405,
          18.416030534351144,
          12.789051439358188,
          19.218870843000772,
          null,
          35.68904593639576,
          9.859835669405511,
          null,
          9.439547427970004,
          7.187499999999999,
          25.543478260869566,
          7.094017094017094,
          6.718346253229974,
          24.77777777777778,
          13.742071881606766,
          null,
          19.07514450867052,
          null,
          23.10406659801387,
          28.898370830100855,
          16.891689168916894,
          9.971038477451385,
          10.7981220657277,
          null,
          null,
          8.77742946708464,
          15.277777777777779
         ]
        }
       ],
       "layout": {
        "geo": {
         "lakecolor": "rgb(255, 255, 255)",
         "projection": {
          "type": "albers usa"
         },
         "scope": "usa",
         "showlakes": true
        },
        "template": {
         "data": {
          "bar": [
           {
            "error_x": {
             "color": "#2a3f5f"
            },
            "error_y": {
             "color": "#2a3f5f"
            },
            "marker": {
             "line": {
              "color": "#E5ECF6",
              "width": 0.5
             }
            },
            "type": "bar"
           }
          ],
          "barpolar": [
           {
            "marker": {
             "line": {
              "color": "#E5ECF6",
              "width": 0.5
             }
            },
            "type": "barpolar"
           }
          ],
          "carpet": [
           {
            "aaxis": {
             "endlinecolor": "#2a3f5f",
             "gridcolor": "white",
             "linecolor": "white",
             "minorgridcolor": "white",
             "startlinecolor": "#2a3f5f"
            },
            "baxis": {
             "endlinecolor": "#2a3f5f",
             "gridcolor": "white",
             "linecolor": "white",
             "minorgridcolor": "white",
             "startlinecolor": "#2a3f5f"
            },
            "type": "carpet"
           }
          ],
          "choropleth": [
           {
            "colorbar": {
             "outlinewidth": 0,
             "ticks": ""
            },
            "type": "choropleth"
           }
          ],
          "contour": [
           {
            "colorbar": {
             "outlinewidth": 0,
             "ticks": ""
            },
            "colorscale": [
             [
              0,
              "#0d0887"
             ],
             [
              0.1111111111111111,
              "#46039f"
             ],
             [
              0.2222222222222222,
              "#7201a8"
             ],
             [
              0.3333333333333333,
              "#9c179e"
             ],
             [
              0.4444444444444444,
              "#bd3786"
             ],
             [
              0.5555555555555556,
              "#d8576b"
             ],
             [
              0.6666666666666666,
              "#ed7953"
             ],
             [
              0.7777777777777778,
              "#fb9f3a"
             ],
             [
              0.8888888888888888,
              "#fdca26"
             ],
             [
              1,
              "#f0f921"
             ]
            ],
            "type": "contour"
           }
          ],
          "contourcarpet": [
           {
            "colorbar": {
             "outlinewidth": 0,
             "ticks": ""
            },
            "type": "contourcarpet"
           }
          ],
          "heatmap": [
           {
            "colorbar": {
             "outlinewidth": 0,
             "ticks": ""
            },
            "colorscale": [
             [
              0,
              "#0d0887"
             ],
             [
              0.1111111111111111,
              "#46039f"
             ],
             [
              0.2222222222222222,
              "#7201a8"
             ],
             [
              0.3333333333333333,
              "#9c179e"
             ],
             [
              0.4444444444444444,
              "#bd3786"
             ],
             [
              0.5555555555555556,
              "#d8576b"
             ],
             [
              0.6666666666666666,
              "#ed7953"
             ],
             [
              0.7777777777777778,
              "#fb9f3a"
             ],
             [
              0.8888888888888888,
              "#fdca26"
             ],
             [
              1,
              "#f0f921"
             ]
            ],
            "type": "heatmap"
           }
          ],
          "heatmapgl": [
           {
            "colorbar": {
             "outlinewidth": 0,
             "ticks": ""
            },
            "colorscale": [
             [
              0,
              "#0d0887"
             ],
             [
              0.1111111111111111,
              "#46039f"
             ],
             [
              0.2222222222222222,
              "#7201a8"
             ],
             [
              0.3333333333333333,
              "#9c179e"
             ],
             [
              0.4444444444444444,
              "#bd3786"
             ],
             [
              0.5555555555555556,
              "#d8576b"
             ],
             [
              0.6666666666666666,
              "#ed7953"
             ],
             [
              0.7777777777777778,
              "#fb9f3a"
             ],
             [
              0.8888888888888888,
              "#fdca26"
             ],
             [
              1,
              "#f0f921"
             ]
            ],
            "type": "heatmapgl"
           }
          ],
          "histogram": [
           {
            "marker": {
             "colorbar": {
              "outlinewidth": 0,
              "ticks": ""
             }
            },
            "type": "histogram"
           }
          ],
          "histogram2d": [
           {
            "colorbar": {
             "outlinewidth": 0,
             "ticks": ""
            },
            "colorscale": [
             [
              0,
              "#0d0887"
             ],
             [
              0.1111111111111111,
              "#46039f"
             ],
             [
              0.2222222222222222,
              "#7201a8"
             ],
             [
              0.3333333333333333,
              "#9c179e"
             ],
             [
              0.4444444444444444,
              "#bd3786"
             ],
             [
              0.5555555555555556,
              "#d8576b"
             ],
             [
              0.6666666666666666,
              "#ed7953"
             ],
             [
              0.7777777777777778,
              "#fb9f3a"
             ],
             [
              0.8888888888888888,
              "#fdca26"
             ],
             [
              1,
              "#f0f921"
             ]
            ],
            "type": "histogram2d"
           }
          ],
          "histogram2dcontour": [
           {
            "colorbar": {
             "outlinewidth": 0,
             "ticks": ""
            },
            "colorscale": [
             [
              0,
              "#0d0887"
             ],
             [
              0.1111111111111111,
              "#46039f"
             ],
             [
              0.2222222222222222,
              "#7201a8"
             ],
             [
              0.3333333333333333,
              "#9c179e"
             ],
             [
              0.4444444444444444,
              "#bd3786"
             ],
             [
              0.5555555555555556,
              "#d8576b"
             ],
             [
              0.6666666666666666,
              "#ed7953"
             ],
             [
              0.7777777777777778,
              "#fb9f3a"
             ],
             [
              0.8888888888888888,
              "#fdca26"
             ],
             [
              1,
              "#f0f921"
             ]
            ],
            "type": "histogram2dcontour"
           }
          ],
          "mesh3d": [
           {
            "colorbar": {
             "outlinewidth": 0,
             "ticks": ""
            },
            "type": "mesh3d"
           }
          ],
          "parcoords": [
           {
            "line": {
             "colorbar": {
              "outlinewidth": 0,
              "ticks": ""
             }
            },
            "type": "parcoords"
           }
          ],
          "pie": [
           {
            "automargin": true,
            "type": "pie"
           }
          ],
          "scatter": [
           {
            "marker": {
             "colorbar": {
              "outlinewidth": 0,
              "ticks": ""
             }
            },
            "type": "scatter"
           }
          ],
          "scatter3d": [
           {
            "line": {
             "colorbar": {
              "outlinewidth": 0,
              "ticks": ""
             }
            },
            "marker": {
             "colorbar": {
              "outlinewidth": 0,
              "ticks": ""
             }
            },
            "type": "scatter3d"
           }
          ],
          "scattercarpet": [
           {
            "marker": {
             "colorbar": {
              "outlinewidth": 0,
              "ticks": ""
             }
            },
            "type": "scattercarpet"
           }
          ],
          "scattergeo": [
           {
            "marker": {
             "colorbar": {
              "outlinewidth": 0,
              "ticks": ""
             }
            },
            "type": "scattergeo"
           }
          ],
          "scattergl": [
           {
            "marker": {
             "colorbar": {
              "outlinewidth": 0,
              "ticks": ""
             }
            },
            "type": "scattergl"
           }
          ],
          "scattermapbox": [
           {
            "marker": {
             "colorbar": {
              "outlinewidth": 0,
              "ticks": ""
             }
            },
            "type": "scattermapbox"
           }
          ],
          "scatterpolar": [
           {
            "marker": {
             "colorbar": {
              "outlinewidth": 0,
              "ticks": ""
             }
            },
            "type": "scatterpolar"
           }
          ],
          "scatterpolargl": [
           {
            "marker": {
             "colorbar": {
              "outlinewidth": 0,
              "ticks": ""
             }
            },
            "type": "scatterpolargl"
           }
          ],
          "scatterternary": [
           {
            "marker": {
             "colorbar": {
              "outlinewidth": 0,
              "ticks": ""
             }
            },
            "type": "scatterternary"
           }
          ],
          "surface": [
           {
            "colorbar": {
             "outlinewidth": 0,
             "ticks": ""
            },
            "colorscale": [
             [
              0,
              "#0d0887"
             ],
             [
              0.1111111111111111,
              "#46039f"
             ],
             [
              0.2222222222222222,
              "#7201a8"
             ],
             [
              0.3333333333333333,
              "#9c179e"
             ],
             [
              0.4444444444444444,
              "#bd3786"
             ],
             [
              0.5555555555555556,
              "#d8576b"
             ],
             [
              0.6666666666666666,
              "#ed7953"
             ],
             [
              0.7777777777777778,
              "#fb9f3a"
             ],
             [
              0.8888888888888888,
              "#fdca26"
             ],
             [
              1,
              "#f0f921"
             ]
            ],
            "type": "surface"
           }
          ],
          "table": [
           {
            "cells": {
             "fill": {
              "color": "#EBF0F8"
             },
             "line": {
              "color": "white"
             }
            },
            "header": {
             "fill": {
              "color": "#C8D4E3"
             },
             "line": {
              "color": "white"
             }
            },
            "type": "table"
           }
          ]
         },
         "layout": {
          "annotationdefaults": {
           "arrowcolor": "#2a3f5f",
           "arrowhead": 0,
           "arrowwidth": 1
          },
          "coloraxis": {
           "colorbar": {
            "outlinewidth": 0,
            "ticks": ""
           }
          },
          "colorscale": {
           "diverging": [
            [
             0,
             "#8e0152"
            ],
            [
             0.1,
             "#c51b7d"
            ],
            [
             0.2,
             "#de77ae"
            ],
            [
             0.3,
             "#f1b6da"
            ],
            [
             0.4,
             "#fde0ef"
            ],
            [
             0.5,
             "#f7f7f7"
            ],
            [
             0.6,
             "#e6f5d0"
            ],
            [
             0.7,
             "#b8e186"
            ],
            [
             0.8,
             "#7fbc41"
            ],
            [
             0.9,
             "#4d9221"
            ],
            [
             1,
             "#276419"
            ]
           ],
           "sequential": [
            [
             0,
             "#0d0887"
            ],
            [
             0.1111111111111111,
             "#46039f"
            ],
            [
             0.2222222222222222,
             "#7201a8"
            ],
            [
             0.3333333333333333,
             "#9c179e"
            ],
            [
             0.4444444444444444,
             "#bd3786"
            ],
            [
             0.5555555555555556,
             "#d8576b"
            ],
            [
             0.6666666666666666,
             "#ed7953"
            ],
            [
             0.7777777777777778,
             "#fb9f3a"
            ],
            [
             0.8888888888888888,
             "#fdca26"
            ],
            [
             1,
             "#f0f921"
            ]
           ],
           "sequentialminus": [
            [
             0,
             "#0d0887"
            ],
            [
             0.1111111111111111,
             "#46039f"
            ],
            [
             0.2222222222222222,
             "#7201a8"
            ],
            [
             0.3333333333333333,
             "#9c179e"
            ],
            [
             0.4444444444444444,
             "#bd3786"
            ],
            [
             0.5555555555555556,
             "#d8576b"
            ],
            [
             0.6666666666666666,
             "#ed7953"
            ],
            [
             0.7777777777777778,
             "#fb9f3a"
            ],
            [
             0.8888888888888888,
             "#fdca26"
            ],
            [
             1,
             "#f0f921"
            ]
           ]
          },
          "colorway": [
           "#636efa",
           "#EF553B",
           "#00cc96",
           "#ab63fa",
           "#FFA15A",
           "#19d3f3",
           "#FF6692",
           "#B6E880",
           "#FF97FF",
           "#FECB52"
          ],
          "font": {
           "color": "#2a3f5f"
          },
          "geo": {
           "bgcolor": "white",
           "lakecolor": "white",
           "landcolor": "#E5ECF6",
           "showlakes": true,
           "showland": true,
           "subunitcolor": "white"
          },
          "hoverlabel": {
           "align": "left"
          },
          "hovermode": "closest",
          "mapbox": {
           "style": "light"
          },
          "paper_bgcolor": "white",
          "plot_bgcolor": "#E5ECF6",
          "polar": {
           "angularaxis": {
            "gridcolor": "white",
            "linecolor": "white",
            "ticks": ""
           },
           "bgcolor": "#E5ECF6",
           "radialaxis": {
            "gridcolor": "white",
            "linecolor": "white",
            "ticks": ""
           }
          },
          "scene": {
           "xaxis": {
            "backgroundcolor": "#E5ECF6",
            "gridcolor": "white",
            "gridwidth": 2,
            "linecolor": "white",
            "showbackground": true,
            "ticks": "",
            "zerolinecolor": "white"
           },
           "yaxis": {
            "backgroundcolor": "#E5ECF6",
            "gridcolor": "white",
            "gridwidth": 2,
            "linecolor": "white",
            "showbackground": true,
            "ticks": "",
            "zerolinecolor": "white"
           },
           "zaxis": {
            "backgroundcolor": "#E5ECF6",
            "gridcolor": "white",
            "gridwidth": 2,
            "linecolor": "white",
            "showbackground": true,
            "ticks": "",
            "zerolinecolor": "white"
           }
          },
          "shapedefaults": {
           "line": {
            "color": "#2a3f5f"
           }
          },
          "ternary": {
           "aaxis": {
            "gridcolor": "white",
            "linecolor": "white",
            "ticks": ""
           },
           "baxis": {
            "gridcolor": "white",
            "linecolor": "white",
            "ticks": ""
           },
           "bgcolor": "#E5ECF6",
           "caxis": {
            "gridcolor": "white",
            "linecolor": "white",
            "ticks": ""
           }
          },
          "title": {
           "x": 0.05
          },
          "xaxis": {
           "automargin": true,
           "gridcolor": "white",
           "linecolor": "white",
           "ticks": "",
           "title": {
            "standoff": 15
           },
           "zerolinecolor": "white",
           "zerolinewidth": 2
          },
          "yaxis": {
           "automargin": true,
           "gridcolor": "white",
           "linecolor": "white",
           "ticks": "",
           "title": {
            "standoff": 15
           },
           "zerolinecolor": "white",
           "zerolinewidth": 2
          }
         }
        },
        "title": {
         "text": "Hospitalization rate for positive cases<br>(Hover for breakdown)"
        }
       }
      },
      "text/html": [
       "<div>\n",
       "        \n",
       "        \n",
       "            <div id=\"9244ac2a-07e8-429f-8289-24f4f4dad230\" class=\"plotly-graph-div\" style=\"height:525px; width:100%;\"></div>\n",
       "            <script type=\"text/javascript\">\n",
       "                require([\"plotly\"], function(Plotly) {\n",
       "                    window.PLOTLYENV=window.PLOTLYENV || {};\n",
       "                    \n",
       "                if (document.getElementById(\"9244ac2a-07e8-429f-8289-24f4f4dad230\")) {\n",
       "                    Plotly.newPlot(\n",
       "                        '9244ac2a-07e8-429f-8289-24f4f4dad230',\n",
       "                        [{\"autocolorscale\": false, \"colorbar\": {\"title\": {\"text\": \"Hospitalization rate for positive cases (in %)\"}}, \"colorscale\": [[0.0, \"rgb(255,245,235)\"], [0.125, \"rgb(254,230,206)\"], [0.25, \"rgb(253,208,162)\"], [0.375, \"rgb(253,174,107)\"], [0.5, \"rgb(253,141,60)\"], [0.625, \"rgb(241,105,19)\"], [0.75, \"rgb(217,72,1)\"], [0.875, \"rgb(166,54,3)\"], [1.0, \"rgb(127,39,4)\"]], \"locationmode\": \"USA-states\", \"locations\": [\"FL\", \"CT\", \"ND\", \"MD\", \"LA\", \"DE\", \"GA\", \"NJ\", \"IL\", \"NV\", \"MN\", \"NC\", \"UT\", \"AZ\", \"IN\", \"RI\", \"CA\", \"WV\", \"MS\", \"VT\", \"KY\", \"NE\", \"OH\", \"DC\", \"NH\", \"IA\", \"AL\", \"CO\", \"MO\", \"OR\", \"TN\", \"WA\", \"MA\", \"SD\", \"OK\", \"ID\", \"HI\", \"KS\", \"AR\", \"NM\", \"ME\", \"TX\", \"NY\", \"WI\", \"VA\", \"SC\", \"AK\", \"PA\", \"MI\", \"MT\", \"WY\"], \"marker\": {\"line\": {\"color\": \"white\"}}, \"text\": [\"FL\\nPositive: 14747.0, Deaths: 296.0, Negative: 123415.0, Total Tested: 139569\", \"CT\\nPositive: 7781.0, Deaths: 277.0, Negative: 21255.0, Total Tested: 29036\", \"ND\\nPositive: 237.0, Deaths: 4.0, Negative: 7466.0, Total Tested: 7703\", \"MD\\nPositive: 4371.0, Deaths: 103.0, Negative: 27256.0, Total Tested: 31627\", \"LA\\nPositive: 16284.0, Deaths: 582.0, Negative: 58371.0, Total Tested: 74655\", \"DE\\nPositive: 928.0, Deaths: 16.0, Negative: 7628.0, Total Tested: 8556\", \"GA\\nPositive: 8818.0, Deaths: 329.0, Negative: 24895.0, Total Tested: 33713\", \"NJ\\nPositive: 44416.0, Deaths: 1232.0, Negative: 50558.0, Total Tested: 94974\", \"IL\\nPositive: 13549.0, Deaths: 380.0, Negative: 55183.0, Total Tested: 68732\", \"NV\\nPositive: 2087.0, Deaths: 58.0, Negative: 16552.0, Total Tested: 18639\", \"MN\\nPositive: 1069.0, Deaths: 34.0, Negative: 28191.0, Total Tested: 29260\", \"NC\\nPositive: 3221.0, Deaths: 46.0, Negative: 37861.0, Total Tested: 41082\", \"UT\\nPositive: 1738.0, Deaths: 13.0, Negative: 32909.0, Total Tested: 34647\", \"AZ\\nPositive: 2575.0, Deaths: 73.0, Negative: 30800.0, Total Tested: 33375\", \"IN\\nPositive: 5507.0, Deaths: 173.0, Negative: 23257.0, Total Tested: 28764\", \"RI\\nPositive: 1229.0, Deaths: 30.0, Negative: 7399.0, Total Tested: 8628\", \"CA\\nPositive: 15865.0, Deaths: 374.0, Negative: 115364.0, Total Tested: 145329\", \"WV\\nPositive: 412.0, Deaths: 4.0, Negative: 11647.0, Total Tested: 12059\", \"MS\\nPositive: 1915.0, Deaths: 59.0, Negative: 18632.0, Total Tested: 20547\", \"VT\\nPositive: 575.0, Deaths: 23.0, Negative: 6554.0, Total Tested: 7129\", \"KY\\nPositive: 1008.0, Deaths: 59.0, Negative: 18947.0, Total Tested: 19955\", \"NE\\nPositive: 447.0, Deaths: 10.0, Negative: 6811.0, Total Tested: 7258\", \"OH\\nPositive: 4782.0, Deaths: 167.0, Negative: 46056.0, Total Tested: 50838\", \"DC\\nPositive: 1211.0, Deaths: 22.0, Negative: 6612.0, Total Tested: 7823\", \"NH\\nPositive: 715.0, Deaths: 9.0, Negative: 8019.0, Total Tested: 8783\", \"IA\\nPositive: 1048.0, Deaths: 26.0, Negative: 11670.0, Total Tested: 12718\", \"AL\\nPositive: 2119.0, Deaths: 56.0, Negative: 12797.0, Total Tested: 14916\", \"CO\\nPositive: 5172.0, Deaths: 150.0, Negative: 21703.0, Total Tested: 26875\", \"MO\\nPositive: 3037.0, Deaths: 53.0, Negative: 28932.0, Total Tested: 31969\", \"OR\\nPositive: 1132.0, Deaths: 29.0, Negative: 20669.0, Total Tested: 21801\", \"TN\\nPositive: 4138.0, Deaths: 72.0, Negative: 48736.0, Total Tested: 52874\", \"WA\\nPositive: 8384.0, Deaths: 372.0, Negative: 83391.0, Total Tested: 91775\", \"MA\\nPositive: 15202.0, Deaths: 356.0, Negative: 66142.0, Total Tested: 81344\", \"SD\\nPositive: 320.0, Deaths: 6.0, Negative: 5948.0, Total Tested: 6270\", \"OK\\nPositive: 1472.0, Deaths: 67.0, Negative: 11821.0, Total Tested: 13293\", \"ID\\nPositive: 1170.0, Deaths: 13.0, Negative: 10076.0, Total Tested: 11246\", \"HI\\nPositive: 387.0, Deaths: 5.0, Negative: 13155.0, Total Tested: 13542\", \"KS\\nPositive: 900.0, Deaths: 27.0, Negative: 8614.0, Total Tested: 9514\", \"AR\\nPositive: 946.0, Deaths: 16.0, Negative: 12692.0, Total Tested: 13638\", \"NM\\nPositive: 686.0, Deaths: 12.0, Negative: 21139.0, Total Tested: 21825\", \"ME\\nPositive: 519.0, Deaths: 12.0, Negative: 6088.0, Total Tested: 6607\", \"TX\\nPositive: 8262.0, Deaths: 154.0, Negative: 80387.0, Total Tested: 88649\", \"NY\\nPositive: 138863.0, Deaths: 5489.0, Negative: 201195.0, Total Tested: 340058\", \"WI\\nPositive: 2578.0, Deaths: 92.0, Negative: 28512.0, Total Tested: 31090\", \"VA\\nPositive: 3333.0, Deaths: 63.0, Negative: 25312.0, Total Tested: 28645\", \"SC\\nPositive: 2417.0, Deaths: 51.0, Negative: 21263.0, Total Tested: 23680\", \"AK\\nPositive: 213.0, Deaths: 6.0, Negative: 6700.0, Total Tested: 6913\", \"PA\\nPositive: 14559.0, Deaths: 240.0, Negative: 76719.0, Total Tested: 91278\", \"MI\\nPositive: 18970.0, Deaths: 845.0, Negative: 31362.0, Total Tested: 50332\", \"MT\\nPositive: 319.0, Deaths: 6.0, Negative: 6666.0, Total Tested: 6985\", \"WY\\nPositive: 216.0, Deaths: 0.0, Negative: 3789.0, Total Tested: 4005\"], \"type\": \"choropleth\", \"z\": [13.55529938292534, null, 13.924050632911392, 25.303134294211848, null, null, 20.117940576094355, null, null, null, 22.63797942001871, null, 8.51553509781358, null, null, null, null, null, 19.68668407310705, 7.82608695652174, null, null, 28.31451275616897, null, 14.405594405594405, 18.416030534351144, 12.789051439358188, 19.218870843000772, null, 35.68904593639576, 9.859835669405511, null, 9.439547427970004, 7.187499999999999, 25.543478260869566, 7.094017094017094, 6.718346253229974, 24.77777777777778, 13.742071881606766, null, 19.07514450867052, null, 23.10406659801387, 28.898370830100855, 16.891689168916894, 9.971038477451385, 10.7981220657277, null, null, 8.77742946708464, 15.277777777777779]}],\n",
       "                        {\"geo\": {\"lakecolor\": \"rgb(255, 255, 255)\", \"projection\": {\"type\": \"albers usa\"}, \"scope\": \"usa\", \"showlakes\": true}, \"template\": {\"data\": {\"bar\": [{\"error_x\": {\"color\": \"#2a3f5f\"}, \"error_y\": {\"color\": \"#2a3f5f\"}, \"marker\": {\"line\": {\"color\": \"#E5ECF6\", \"width\": 0.5}}, \"type\": \"bar\"}], \"barpolar\": [{\"marker\": {\"line\": {\"color\": \"#E5ECF6\", \"width\": 0.5}}, \"type\": \"barpolar\"}], \"carpet\": [{\"aaxis\": {\"endlinecolor\": \"#2a3f5f\", \"gridcolor\": \"white\", \"linecolor\": \"white\", \"minorgridcolor\": \"white\", \"startlinecolor\": \"#2a3f5f\"}, \"baxis\": {\"endlinecolor\": \"#2a3f5f\", \"gridcolor\": \"white\", \"linecolor\": \"white\", \"minorgridcolor\": \"white\", \"startlinecolor\": \"#2a3f5f\"}, \"type\": \"carpet\"}], \"choropleth\": [{\"colorbar\": {\"outlinewidth\": 0, \"ticks\": \"\"}, \"type\": \"choropleth\"}], \"contour\": [{\"colorbar\": {\"outlinewidth\": 0, \"ticks\": \"\"}, \"colorscale\": [[0.0, \"#0d0887\"], [0.1111111111111111, \"#46039f\"], [0.2222222222222222, \"#7201a8\"], [0.3333333333333333, \"#9c179e\"], [0.4444444444444444, \"#bd3786\"], [0.5555555555555556, \"#d8576b\"], [0.6666666666666666, \"#ed7953\"], [0.7777777777777778, \"#fb9f3a\"], [0.8888888888888888, \"#fdca26\"], [1.0, \"#f0f921\"]], \"type\": \"contour\"}], \"contourcarpet\": [{\"colorbar\": {\"outlinewidth\": 0, \"ticks\": \"\"}, \"type\": \"contourcarpet\"}], \"heatmap\": [{\"colorbar\": {\"outlinewidth\": 0, \"ticks\": \"\"}, \"colorscale\": [[0.0, \"#0d0887\"], [0.1111111111111111, \"#46039f\"], [0.2222222222222222, \"#7201a8\"], [0.3333333333333333, \"#9c179e\"], [0.4444444444444444, \"#bd3786\"], [0.5555555555555556, \"#d8576b\"], [0.6666666666666666, \"#ed7953\"], [0.7777777777777778, \"#fb9f3a\"], [0.8888888888888888, \"#fdca26\"], [1.0, \"#f0f921\"]], \"type\": \"heatmap\"}], \"heatmapgl\": [{\"colorbar\": {\"outlinewidth\": 0, \"ticks\": \"\"}, \"colorscale\": [[0.0, \"#0d0887\"], [0.1111111111111111, \"#46039f\"], [0.2222222222222222, \"#7201a8\"], [0.3333333333333333, \"#9c179e\"], [0.4444444444444444, \"#bd3786\"], [0.5555555555555556, \"#d8576b\"], [0.6666666666666666, \"#ed7953\"], [0.7777777777777778, \"#fb9f3a\"], [0.8888888888888888, \"#fdca26\"], [1.0, \"#f0f921\"]], \"type\": \"heatmapgl\"}], \"histogram\": [{\"marker\": {\"colorbar\": {\"outlinewidth\": 0, \"ticks\": \"\"}}, \"type\": \"histogram\"}], \"histogram2d\": [{\"colorbar\": {\"outlinewidth\": 0, \"ticks\": \"\"}, \"colorscale\": [[0.0, \"#0d0887\"], [0.1111111111111111, \"#46039f\"], [0.2222222222222222, \"#7201a8\"], [0.3333333333333333, \"#9c179e\"], [0.4444444444444444, \"#bd3786\"], [0.5555555555555556, \"#d8576b\"], [0.6666666666666666, \"#ed7953\"], [0.7777777777777778, \"#fb9f3a\"], [0.8888888888888888, \"#fdca26\"], [1.0, \"#f0f921\"]], \"type\": \"histogram2d\"}], \"histogram2dcontour\": [{\"colorbar\": {\"outlinewidth\": 0, \"ticks\": \"\"}, \"colorscale\": [[0.0, \"#0d0887\"], [0.1111111111111111, \"#46039f\"], [0.2222222222222222, \"#7201a8\"], [0.3333333333333333, \"#9c179e\"], [0.4444444444444444, \"#bd3786\"], [0.5555555555555556, \"#d8576b\"], [0.6666666666666666, \"#ed7953\"], [0.7777777777777778, \"#fb9f3a\"], [0.8888888888888888, \"#fdca26\"], [1.0, \"#f0f921\"]], \"type\": \"histogram2dcontour\"}], \"mesh3d\": [{\"colorbar\": {\"outlinewidth\": 0, \"ticks\": \"\"}, \"type\": \"mesh3d\"}], \"parcoords\": [{\"line\": {\"colorbar\": {\"outlinewidth\": 0, \"ticks\": \"\"}}, \"type\": \"parcoords\"}], \"pie\": [{\"automargin\": true, \"type\": \"pie\"}], \"scatter\": [{\"marker\": {\"colorbar\": {\"outlinewidth\": 0, \"ticks\": \"\"}}, \"type\": \"scatter\"}], \"scatter3d\": [{\"line\": {\"colorbar\": {\"outlinewidth\": 0, \"ticks\": \"\"}}, \"marker\": {\"colorbar\": {\"outlinewidth\": 0, \"ticks\": \"\"}}, \"type\": \"scatter3d\"}], \"scattercarpet\": [{\"marker\": {\"colorbar\": {\"outlinewidth\": 0, \"ticks\": \"\"}}, \"type\": \"scattercarpet\"}], \"scattergeo\": [{\"marker\": {\"colorbar\": {\"outlinewidth\": 0, \"ticks\": \"\"}}, \"type\": \"scattergeo\"}], \"scattergl\": [{\"marker\": {\"colorbar\": {\"outlinewidth\": 0, \"ticks\": \"\"}}, \"type\": \"scattergl\"}], \"scattermapbox\": [{\"marker\": {\"colorbar\": {\"outlinewidth\": 0, \"ticks\": \"\"}}, \"type\": \"scattermapbox\"}], \"scatterpolar\": [{\"marker\": {\"colorbar\": {\"outlinewidth\": 0, \"ticks\": \"\"}}, \"type\": \"scatterpolar\"}], \"scatterpolargl\": [{\"marker\": {\"colorbar\": {\"outlinewidth\": 0, \"ticks\": \"\"}}, \"type\": \"scatterpolargl\"}], \"scatterternary\": [{\"marker\": {\"colorbar\": {\"outlinewidth\": 0, \"ticks\": \"\"}}, \"type\": \"scatterternary\"}], \"surface\": [{\"colorbar\": {\"outlinewidth\": 0, \"ticks\": \"\"}, \"colorscale\": [[0.0, \"#0d0887\"], [0.1111111111111111, \"#46039f\"], [0.2222222222222222, \"#7201a8\"], [0.3333333333333333, \"#9c179e\"], [0.4444444444444444, \"#bd3786\"], [0.5555555555555556, \"#d8576b\"], [0.6666666666666666, \"#ed7953\"], [0.7777777777777778, \"#fb9f3a\"], [0.8888888888888888, \"#fdca26\"], [1.0, \"#f0f921\"]], \"type\": \"surface\"}], \"table\": [{\"cells\": {\"fill\": {\"color\": \"#EBF0F8\"}, \"line\": {\"color\": \"white\"}}, \"header\": {\"fill\": {\"color\": \"#C8D4E3\"}, \"line\": {\"color\": \"white\"}}, \"type\": \"table\"}]}, \"layout\": {\"annotationdefaults\": {\"arrowcolor\": \"#2a3f5f\", \"arrowhead\": 0, \"arrowwidth\": 1}, \"coloraxis\": {\"colorbar\": {\"outlinewidth\": 0, \"ticks\": \"\"}}, \"colorscale\": {\"diverging\": [[0, \"#8e0152\"], [0.1, \"#c51b7d\"], [0.2, \"#de77ae\"], [0.3, \"#f1b6da\"], [0.4, \"#fde0ef\"], [0.5, \"#f7f7f7\"], [0.6, \"#e6f5d0\"], [0.7, \"#b8e186\"], [0.8, \"#7fbc41\"], [0.9, \"#4d9221\"], [1, \"#276419\"]], \"sequential\": [[0.0, \"#0d0887\"], [0.1111111111111111, \"#46039f\"], [0.2222222222222222, \"#7201a8\"], [0.3333333333333333, \"#9c179e\"], [0.4444444444444444, \"#bd3786\"], [0.5555555555555556, \"#d8576b\"], [0.6666666666666666, \"#ed7953\"], [0.7777777777777778, \"#fb9f3a\"], [0.8888888888888888, \"#fdca26\"], [1.0, \"#f0f921\"]], \"sequentialminus\": [[0.0, \"#0d0887\"], [0.1111111111111111, \"#46039f\"], [0.2222222222222222, \"#7201a8\"], [0.3333333333333333, \"#9c179e\"], [0.4444444444444444, \"#bd3786\"], [0.5555555555555556, \"#d8576b\"], [0.6666666666666666, \"#ed7953\"], [0.7777777777777778, \"#fb9f3a\"], [0.8888888888888888, \"#fdca26\"], [1.0, \"#f0f921\"]]}, \"colorway\": [\"#636efa\", \"#EF553B\", \"#00cc96\", \"#ab63fa\", \"#FFA15A\", \"#19d3f3\", \"#FF6692\", \"#B6E880\", \"#FF97FF\", \"#FECB52\"], \"font\": {\"color\": \"#2a3f5f\"}, \"geo\": {\"bgcolor\": \"white\", \"lakecolor\": \"white\", \"landcolor\": \"#E5ECF6\", \"showlakes\": true, \"showland\": true, \"subunitcolor\": \"white\"}, \"hoverlabel\": {\"align\": \"left\"}, \"hovermode\": \"closest\", \"mapbox\": {\"style\": \"light\"}, \"paper_bgcolor\": \"white\", \"plot_bgcolor\": \"#E5ECF6\", \"polar\": {\"angularaxis\": {\"gridcolor\": \"white\", \"linecolor\": \"white\", \"ticks\": \"\"}, \"bgcolor\": \"#E5ECF6\", \"radialaxis\": {\"gridcolor\": \"white\", \"linecolor\": \"white\", \"ticks\": \"\"}}, \"scene\": {\"xaxis\": {\"backgroundcolor\": \"#E5ECF6\", \"gridcolor\": \"white\", \"gridwidth\": 2, \"linecolor\": \"white\", \"showbackground\": true, \"ticks\": \"\", \"zerolinecolor\": \"white\"}, \"yaxis\": {\"backgroundcolor\": \"#E5ECF6\", \"gridcolor\": \"white\", \"gridwidth\": 2, \"linecolor\": \"white\", \"showbackground\": true, \"ticks\": \"\", \"zerolinecolor\": \"white\"}, \"zaxis\": {\"backgroundcolor\": \"#E5ECF6\", \"gridcolor\": \"white\", \"gridwidth\": 2, \"linecolor\": \"white\", \"showbackground\": true, \"ticks\": \"\", \"zerolinecolor\": \"white\"}}, \"shapedefaults\": {\"line\": {\"color\": \"#2a3f5f\"}}, \"ternary\": {\"aaxis\": {\"gridcolor\": \"white\", \"linecolor\": \"white\", \"ticks\": \"\"}, \"baxis\": {\"gridcolor\": \"white\", \"linecolor\": \"white\", \"ticks\": \"\"}, \"bgcolor\": \"#E5ECF6\", \"caxis\": {\"gridcolor\": \"white\", \"linecolor\": \"white\", \"ticks\": \"\"}}, \"title\": {\"x\": 0.05}, \"xaxis\": {\"automargin\": true, \"gridcolor\": \"white\", \"linecolor\": \"white\", \"ticks\": \"\", \"title\": {\"standoff\": 15}, \"zerolinecolor\": \"white\", \"zerolinewidth\": 2}, \"yaxis\": {\"automargin\": true, \"gridcolor\": \"white\", \"linecolor\": \"white\", \"ticks\": \"\", \"title\": {\"standoff\": 15}, \"zerolinecolor\": \"white\", \"zerolinewidth\": 2}}}, \"title\": {\"text\": \"Hospitalization rate for positive cases<br>(Hover for breakdown)\"}},\n",
       "                        {\"responsive\": true}\n",
       "                    ).then(function(){\n",
       "                            \n",
       "var gd = document.getElementById('9244ac2a-07e8-429f-8289-24f4f4dad230');\n",
       "var x = new MutationObserver(function (mutations, observer) {{\n",
       "        var display = window.getComputedStyle(gd).display;\n",
       "        if (!display || display === 'none') {{\n",
       "            console.log([gd, 'removed!']);\n",
       "            Plotly.purge(gd);\n",
       "            observer.disconnect();\n",
       "        }}\n",
       "}});\n",
       "\n",
       "// Listen for the removal of the full notebook cells\n",
       "var notebookContainer = gd.closest('#notebook-container');\n",
       "if (notebookContainer) {{\n",
       "    x.observe(notebookContainer, {childList: true});\n",
       "}}\n",
       "\n",
       "// Listen for the clearing of the current output cell\n",
       "var outputEl = gd.closest('.output');\n",
       "if (outputEl) {{\n",
       "    x.observe(outputEl, {childList: true});\n",
       "}}\n",
       "\n",
       "                        })\n",
       "                };\n",
       "                });\n",
       "            </script>\n",
       "        </div>"
      ]
     },
     "metadata": {},
     "output_type": "display_data"
    }
   ],
   "source": [
    "#scale = 1000\n",
    "fig = go.Figure(data=go.Choropleth(\n",
    "    locations=df2['state'],\n",
    "    z=(df2['hospitalizedCumulative']/df2['positive'])*100,\n",
    "    locationmode='USA-states',\n",
    "    colorscale='Oranges',\n",
    "    autocolorscale=False,\n",
    "    text=df2['text'], # hover text\n",
    "    marker_line_color='white', # line markers between states\n",
    "    colorbar_title=\"Hospitalization rate for positive cases (in %)\"\n",
    "))\n",
    "\n",
    "fig.update_layout(\n",
    "    title_text='Hospitalization rate for positive cases<br>(Hover for breakdown)',\n",
    "    geo = dict(\n",
    "        scope='usa',\n",
    "        projection=go.layout.geo.Projection(type = 'albers usa'),\n",
    "        showlakes=True, # lakes\n",
    "        lakecolor='rgb(255, 255, 255)'),\n",
    ")\n",
    "fig.show();"
   ]
  },
  {
   "cell_type": "code",
   "execution_count": 19,
   "metadata": {
    "ExecuteTime": {
     "end_time": "2020-04-08T00:54:10.788614Z",
     "start_time": "2020-04-08T00:54:10.685632Z"
    }
   },
   "outputs": [
    {
     "data": {
      "application/vnd.plotly.v1+json": {
       "config": {
        "plotlyServerURL": "https://plot.ly"
       },
       "data": [
        {
         "autocolorscale": false,
         "colorbar": {
          "title": {
           "text": "Death rate in %"
          }
         },
         "colorscale": [
          [
           0,
           "rgb(255,245,235)"
          ],
          [
           0.125,
           "rgb(254,230,206)"
          ],
          [
           0.25,
           "rgb(253,208,162)"
          ],
          [
           0.375,
           "rgb(253,174,107)"
          ],
          [
           0.5,
           "rgb(253,141,60)"
          ],
          [
           0.625,
           "rgb(241,105,19)"
          ],
          [
           0.75,
           "rgb(217,72,1)"
          ],
          [
           0.875,
           "rgb(166,54,3)"
          ],
          [
           1,
           "rgb(127,39,4)"
          ]
         ],
         "locationmode": "USA-states",
         "locations": [
          "FL",
          "CT",
          "ND",
          "MD",
          "LA",
          "DE",
          "GA",
          "NJ",
          "IL",
          "NV",
          "MN",
          "NC",
          "UT",
          "AZ",
          "IN",
          "RI",
          "CA",
          "WV",
          "MS",
          "VT",
          "KY",
          "NE",
          "OH",
          "DC",
          "NH",
          "IA",
          "AL",
          "CO",
          "MO",
          "OR",
          "TN",
          "WA",
          "MA",
          "SD",
          "OK",
          "ID",
          "HI",
          "KS",
          "AR",
          "NM",
          "ME",
          "TX",
          "NY",
          "WI",
          "VA",
          "SC",
          "AK",
          "PA",
          "MI",
          "MT",
          "WY"
         ],
         "marker": {
          "line": {
           "color": "white"
          }
         },
         "text": [
          "FL\nPositive: 14747.0, Deaths: 296.0, Negative: 123415.0, Total Tested: 139569",
          "CT\nPositive: 7781.0, Deaths: 277.0, Negative: 21255.0, Total Tested: 29036",
          "ND\nPositive: 237.0, Deaths: 4.0, Negative: 7466.0, Total Tested: 7703",
          "MD\nPositive: 4371.0, Deaths: 103.0, Negative: 27256.0, Total Tested: 31627",
          "LA\nPositive: 16284.0, Deaths: 582.0, Negative: 58371.0, Total Tested: 74655",
          "DE\nPositive: 928.0, Deaths: 16.0, Negative: 7628.0, Total Tested: 8556",
          "GA\nPositive: 8818.0, Deaths: 329.0, Negative: 24895.0, Total Tested: 33713",
          "NJ\nPositive: 44416.0, Deaths: 1232.0, Negative: 50558.0, Total Tested: 94974",
          "IL\nPositive: 13549.0, Deaths: 380.0, Negative: 55183.0, Total Tested: 68732",
          "NV\nPositive: 2087.0, Deaths: 58.0, Negative: 16552.0, Total Tested: 18639",
          "MN\nPositive: 1069.0, Deaths: 34.0, Negative: 28191.0, Total Tested: 29260",
          "NC\nPositive: 3221.0, Deaths: 46.0, Negative: 37861.0, Total Tested: 41082",
          "UT\nPositive: 1738.0, Deaths: 13.0, Negative: 32909.0, Total Tested: 34647",
          "AZ\nPositive: 2575.0, Deaths: 73.0, Negative: 30800.0, Total Tested: 33375",
          "IN\nPositive: 5507.0, Deaths: 173.0, Negative: 23257.0, Total Tested: 28764",
          "RI\nPositive: 1229.0, Deaths: 30.0, Negative: 7399.0, Total Tested: 8628",
          "CA\nPositive: 15865.0, Deaths: 374.0, Negative: 115364.0, Total Tested: 145329",
          "WV\nPositive: 412.0, Deaths: 4.0, Negative: 11647.0, Total Tested: 12059",
          "MS\nPositive: 1915.0, Deaths: 59.0, Negative: 18632.0, Total Tested: 20547",
          "VT\nPositive: 575.0, Deaths: 23.0, Negative: 6554.0, Total Tested: 7129",
          "KY\nPositive: 1008.0, Deaths: 59.0, Negative: 18947.0, Total Tested: 19955",
          "NE\nPositive: 447.0, Deaths: 10.0, Negative: 6811.0, Total Tested: 7258",
          "OH\nPositive: 4782.0, Deaths: 167.0, Negative: 46056.0, Total Tested: 50838",
          "DC\nPositive: 1211.0, Deaths: 22.0, Negative: 6612.0, Total Tested: 7823",
          "NH\nPositive: 715.0, Deaths: 9.0, Negative: 8019.0, Total Tested: 8783",
          "IA\nPositive: 1048.0, Deaths: 26.0, Negative: 11670.0, Total Tested: 12718",
          "AL\nPositive: 2119.0, Deaths: 56.0, Negative: 12797.0, Total Tested: 14916",
          "CO\nPositive: 5172.0, Deaths: 150.0, Negative: 21703.0, Total Tested: 26875",
          "MO\nPositive: 3037.0, Deaths: 53.0, Negative: 28932.0, Total Tested: 31969",
          "OR\nPositive: 1132.0, Deaths: 29.0, Negative: 20669.0, Total Tested: 21801",
          "TN\nPositive: 4138.0, Deaths: 72.0, Negative: 48736.0, Total Tested: 52874",
          "WA\nPositive: 8384.0, Deaths: 372.0, Negative: 83391.0, Total Tested: 91775",
          "MA\nPositive: 15202.0, Deaths: 356.0, Negative: 66142.0, Total Tested: 81344",
          "SD\nPositive: 320.0, Deaths: 6.0, Negative: 5948.0, Total Tested: 6270",
          "OK\nPositive: 1472.0, Deaths: 67.0, Negative: 11821.0, Total Tested: 13293",
          "ID\nPositive: 1170.0, Deaths: 13.0, Negative: 10076.0, Total Tested: 11246",
          "HI\nPositive: 387.0, Deaths: 5.0, Negative: 13155.0, Total Tested: 13542",
          "KS\nPositive: 900.0, Deaths: 27.0, Negative: 8614.0, Total Tested: 9514",
          "AR\nPositive: 946.0, Deaths: 16.0, Negative: 12692.0, Total Tested: 13638",
          "NM\nPositive: 686.0, Deaths: 12.0, Negative: 21139.0, Total Tested: 21825",
          "ME\nPositive: 519.0, Deaths: 12.0, Negative: 6088.0, Total Tested: 6607",
          "TX\nPositive: 8262.0, Deaths: 154.0, Negative: 80387.0, Total Tested: 88649",
          "NY\nPositive: 138863.0, Deaths: 5489.0, Negative: 201195.0, Total Tested: 340058",
          "WI\nPositive: 2578.0, Deaths: 92.0, Negative: 28512.0, Total Tested: 31090",
          "VA\nPositive: 3333.0, Deaths: 63.0, Negative: 25312.0, Total Tested: 28645",
          "SC\nPositive: 2417.0, Deaths: 51.0, Negative: 21263.0, Total Tested: 23680",
          "AK\nPositive: 213.0, Deaths: 6.0, Negative: 6700.0, Total Tested: 6913",
          "PA\nPositive: 14559.0, Deaths: 240.0, Negative: 76719.0, Total Tested: 91278",
          "MI\nPositive: 18970.0, Deaths: 845.0, Negative: 31362.0, Total Tested: 50332",
          "MT\nPositive: 319.0, Deaths: 6.0, Negative: 6666.0, Total Tested: 6985",
          "WY\nPositive: 216.0, Deaths: 0.0, Negative: 3789.0, Total Tested: 4005"
         ],
         "type": "choropleth",
         "z": [
          2.0071879026242625,
          3.559953733453284,
          1.6877637130801686,
          2.3564401738732554,
          3.574060427413412,
          1.7241379310344827,
          3.731004762984804,
          2.7737752161383287,
          2.8046350284153814,
          2.7791087685673217,
          3.1805425631431246,
          1.4281279105867744,
          0.7479861910241657,
          2.8349514563106797,
          3.1414563283094243,
          2.4410089503661516,
          2.357390482193508,
          0.9708737864077669,
          3.0809399477806787,
          4,
          5.853174603174603,
          2.237136465324385,
          3.4922626516102047,
          1.8166804293971925,
          1.2587412587412588,
          2.480916030534351,
          2.642756016989146,
          2.9002320185614847,
          1.7451432334540666,
          2.5618374558303887,
          1.7399710004833253,
          4.437022900763359,
          2.3417971319563216,
          1.875,
          4.551630434782608,
          1.1111111111111112,
          1.2919896640826873,
          3,
          1.6913319238900635,
          1.749271137026239,
          2.312138728323699,
          1.8639554587267004,
          3.9528168050524615,
          3.5686578743211794,
          1.8901890189018902,
          2.110053785684733,
          2.8169014084507045,
          1.6484648670925202,
          4.454401686874012,
          1.8808777429467085,
          0
         ]
        }
       ],
       "layout": {
        "geo": {
         "lakecolor": "rgb(255, 255, 255)",
         "projection": {
          "type": "albers usa"
         },
         "scope": "usa",
         "showlakes": true
        },
        "template": {
         "data": {
          "bar": [
           {
            "error_x": {
             "color": "#2a3f5f"
            },
            "error_y": {
             "color": "#2a3f5f"
            },
            "marker": {
             "line": {
              "color": "#E5ECF6",
              "width": 0.5
             }
            },
            "type": "bar"
           }
          ],
          "barpolar": [
           {
            "marker": {
             "line": {
              "color": "#E5ECF6",
              "width": 0.5
             }
            },
            "type": "barpolar"
           }
          ],
          "carpet": [
           {
            "aaxis": {
             "endlinecolor": "#2a3f5f",
             "gridcolor": "white",
             "linecolor": "white",
             "minorgridcolor": "white",
             "startlinecolor": "#2a3f5f"
            },
            "baxis": {
             "endlinecolor": "#2a3f5f",
             "gridcolor": "white",
             "linecolor": "white",
             "minorgridcolor": "white",
             "startlinecolor": "#2a3f5f"
            },
            "type": "carpet"
           }
          ],
          "choropleth": [
           {
            "colorbar": {
             "outlinewidth": 0,
             "ticks": ""
            },
            "type": "choropleth"
           }
          ],
          "contour": [
           {
            "colorbar": {
             "outlinewidth": 0,
             "ticks": ""
            },
            "colorscale": [
             [
              0,
              "#0d0887"
             ],
             [
              0.1111111111111111,
              "#46039f"
             ],
             [
              0.2222222222222222,
              "#7201a8"
             ],
             [
              0.3333333333333333,
              "#9c179e"
             ],
             [
              0.4444444444444444,
              "#bd3786"
             ],
             [
              0.5555555555555556,
              "#d8576b"
             ],
             [
              0.6666666666666666,
              "#ed7953"
             ],
             [
              0.7777777777777778,
              "#fb9f3a"
             ],
             [
              0.8888888888888888,
              "#fdca26"
             ],
             [
              1,
              "#f0f921"
             ]
            ],
            "type": "contour"
           }
          ],
          "contourcarpet": [
           {
            "colorbar": {
             "outlinewidth": 0,
             "ticks": ""
            },
            "type": "contourcarpet"
           }
          ],
          "heatmap": [
           {
            "colorbar": {
             "outlinewidth": 0,
             "ticks": ""
            },
            "colorscale": [
             [
              0,
              "#0d0887"
             ],
             [
              0.1111111111111111,
              "#46039f"
             ],
             [
              0.2222222222222222,
              "#7201a8"
             ],
             [
              0.3333333333333333,
              "#9c179e"
             ],
             [
              0.4444444444444444,
              "#bd3786"
             ],
             [
              0.5555555555555556,
              "#d8576b"
             ],
             [
              0.6666666666666666,
              "#ed7953"
             ],
             [
              0.7777777777777778,
              "#fb9f3a"
             ],
             [
              0.8888888888888888,
              "#fdca26"
             ],
             [
              1,
              "#f0f921"
             ]
            ],
            "type": "heatmap"
           }
          ],
          "heatmapgl": [
           {
            "colorbar": {
             "outlinewidth": 0,
             "ticks": ""
            },
            "colorscale": [
             [
              0,
              "#0d0887"
             ],
             [
              0.1111111111111111,
              "#46039f"
             ],
             [
              0.2222222222222222,
              "#7201a8"
             ],
             [
              0.3333333333333333,
              "#9c179e"
             ],
             [
              0.4444444444444444,
              "#bd3786"
             ],
             [
              0.5555555555555556,
              "#d8576b"
             ],
             [
              0.6666666666666666,
              "#ed7953"
             ],
             [
              0.7777777777777778,
              "#fb9f3a"
             ],
             [
              0.8888888888888888,
              "#fdca26"
             ],
             [
              1,
              "#f0f921"
             ]
            ],
            "type": "heatmapgl"
           }
          ],
          "histogram": [
           {
            "marker": {
             "colorbar": {
              "outlinewidth": 0,
              "ticks": ""
             }
            },
            "type": "histogram"
           }
          ],
          "histogram2d": [
           {
            "colorbar": {
             "outlinewidth": 0,
             "ticks": ""
            },
            "colorscale": [
             [
              0,
              "#0d0887"
             ],
             [
              0.1111111111111111,
              "#46039f"
             ],
             [
              0.2222222222222222,
              "#7201a8"
             ],
             [
              0.3333333333333333,
              "#9c179e"
             ],
             [
              0.4444444444444444,
              "#bd3786"
             ],
             [
              0.5555555555555556,
              "#d8576b"
             ],
             [
              0.6666666666666666,
              "#ed7953"
             ],
             [
              0.7777777777777778,
              "#fb9f3a"
             ],
             [
              0.8888888888888888,
              "#fdca26"
             ],
             [
              1,
              "#f0f921"
             ]
            ],
            "type": "histogram2d"
           }
          ],
          "histogram2dcontour": [
           {
            "colorbar": {
             "outlinewidth": 0,
             "ticks": ""
            },
            "colorscale": [
             [
              0,
              "#0d0887"
             ],
             [
              0.1111111111111111,
              "#46039f"
             ],
             [
              0.2222222222222222,
              "#7201a8"
             ],
             [
              0.3333333333333333,
              "#9c179e"
             ],
             [
              0.4444444444444444,
              "#bd3786"
             ],
             [
              0.5555555555555556,
              "#d8576b"
             ],
             [
              0.6666666666666666,
              "#ed7953"
             ],
             [
              0.7777777777777778,
              "#fb9f3a"
             ],
             [
              0.8888888888888888,
              "#fdca26"
             ],
             [
              1,
              "#f0f921"
             ]
            ],
            "type": "histogram2dcontour"
           }
          ],
          "mesh3d": [
           {
            "colorbar": {
             "outlinewidth": 0,
             "ticks": ""
            },
            "type": "mesh3d"
           }
          ],
          "parcoords": [
           {
            "line": {
             "colorbar": {
              "outlinewidth": 0,
              "ticks": ""
             }
            },
            "type": "parcoords"
           }
          ],
          "pie": [
           {
            "automargin": true,
            "type": "pie"
           }
          ],
          "scatter": [
           {
            "marker": {
             "colorbar": {
              "outlinewidth": 0,
              "ticks": ""
             }
            },
            "type": "scatter"
           }
          ],
          "scatter3d": [
           {
            "line": {
             "colorbar": {
              "outlinewidth": 0,
              "ticks": ""
             }
            },
            "marker": {
             "colorbar": {
              "outlinewidth": 0,
              "ticks": ""
             }
            },
            "type": "scatter3d"
           }
          ],
          "scattercarpet": [
           {
            "marker": {
             "colorbar": {
              "outlinewidth": 0,
              "ticks": ""
             }
            },
            "type": "scattercarpet"
           }
          ],
          "scattergeo": [
           {
            "marker": {
             "colorbar": {
              "outlinewidth": 0,
              "ticks": ""
             }
            },
            "type": "scattergeo"
           }
          ],
          "scattergl": [
           {
            "marker": {
             "colorbar": {
              "outlinewidth": 0,
              "ticks": ""
             }
            },
            "type": "scattergl"
           }
          ],
          "scattermapbox": [
           {
            "marker": {
             "colorbar": {
              "outlinewidth": 0,
              "ticks": ""
             }
            },
            "type": "scattermapbox"
           }
          ],
          "scatterpolar": [
           {
            "marker": {
             "colorbar": {
              "outlinewidth": 0,
              "ticks": ""
             }
            },
            "type": "scatterpolar"
           }
          ],
          "scatterpolargl": [
           {
            "marker": {
             "colorbar": {
              "outlinewidth": 0,
              "ticks": ""
             }
            },
            "type": "scatterpolargl"
           }
          ],
          "scatterternary": [
           {
            "marker": {
             "colorbar": {
              "outlinewidth": 0,
              "ticks": ""
             }
            },
            "type": "scatterternary"
           }
          ],
          "surface": [
           {
            "colorbar": {
             "outlinewidth": 0,
             "ticks": ""
            },
            "colorscale": [
             [
              0,
              "#0d0887"
             ],
             [
              0.1111111111111111,
              "#46039f"
             ],
             [
              0.2222222222222222,
              "#7201a8"
             ],
             [
              0.3333333333333333,
              "#9c179e"
             ],
             [
              0.4444444444444444,
              "#bd3786"
             ],
             [
              0.5555555555555556,
              "#d8576b"
             ],
             [
              0.6666666666666666,
              "#ed7953"
             ],
             [
              0.7777777777777778,
              "#fb9f3a"
             ],
             [
              0.8888888888888888,
              "#fdca26"
             ],
             [
              1,
              "#f0f921"
             ]
            ],
            "type": "surface"
           }
          ],
          "table": [
           {
            "cells": {
             "fill": {
              "color": "#EBF0F8"
             },
             "line": {
              "color": "white"
             }
            },
            "header": {
             "fill": {
              "color": "#C8D4E3"
             },
             "line": {
              "color": "white"
             }
            },
            "type": "table"
           }
          ]
         },
         "layout": {
          "annotationdefaults": {
           "arrowcolor": "#2a3f5f",
           "arrowhead": 0,
           "arrowwidth": 1
          },
          "coloraxis": {
           "colorbar": {
            "outlinewidth": 0,
            "ticks": ""
           }
          },
          "colorscale": {
           "diverging": [
            [
             0,
             "#8e0152"
            ],
            [
             0.1,
             "#c51b7d"
            ],
            [
             0.2,
             "#de77ae"
            ],
            [
             0.3,
             "#f1b6da"
            ],
            [
             0.4,
             "#fde0ef"
            ],
            [
             0.5,
             "#f7f7f7"
            ],
            [
             0.6,
             "#e6f5d0"
            ],
            [
             0.7,
             "#b8e186"
            ],
            [
             0.8,
             "#7fbc41"
            ],
            [
             0.9,
             "#4d9221"
            ],
            [
             1,
             "#276419"
            ]
           ],
           "sequential": [
            [
             0,
             "#0d0887"
            ],
            [
             0.1111111111111111,
             "#46039f"
            ],
            [
             0.2222222222222222,
             "#7201a8"
            ],
            [
             0.3333333333333333,
             "#9c179e"
            ],
            [
             0.4444444444444444,
             "#bd3786"
            ],
            [
             0.5555555555555556,
             "#d8576b"
            ],
            [
             0.6666666666666666,
             "#ed7953"
            ],
            [
             0.7777777777777778,
             "#fb9f3a"
            ],
            [
             0.8888888888888888,
             "#fdca26"
            ],
            [
             1,
             "#f0f921"
            ]
           ],
           "sequentialminus": [
            [
             0,
             "#0d0887"
            ],
            [
             0.1111111111111111,
             "#46039f"
            ],
            [
             0.2222222222222222,
             "#7201a8"
            ],
            [
             0.3333333333333333,
             "#9c179e"
            ],
            [
             0.4444444444444444,
             "#bd3786"
            ],
            [
             0.5555555555555556,
             "#d8576b"
            ],
            [
             0.6666666666666666,
             "#ed7953"
            ],
            [
             0.7777777777777778,
             "#fb9f3a"
            ],
            [
             0.8888888888888888,
             "#fdca26"
            ],
            [
             1,
             "#f0f921"
            ]
           ]
          },
          "colorway": [
           "#636efa",
           "#EF553B",
           "#00cc96",
           "#ab63fa",
           "#FFA15A",
           "#19d3f3",
           "#FF6692",
           "#B6E880",
           "#FF97FF",
           "#FECB52"
          ],
          "font": {
           "color": "#2a3f5f"
          },
          "geo": {
           "bgcolor": "white",
           "lakecolor": "white",
           "landcolor": "#E5ECF6",
           "showlakes": true,
           "showland": true,
           "subunitcolor": "white"
          },
          "hoverlabel": {
           "align": "left"
          },
          "hovermode": "closest",
          "mapbox": {
           "style": "light"
          },
          "paper_bgcolor": "white",
          "plot_bgcolor": "#E5ECF6",
          "polar": {
           "angularaxis": {
            "gridcolor": "white",
            "linecolor": "white",
            "ticks": ""
           },
           "bgcolor": "#E5ECF6",
           "radialaxis": {
            "gridcolor": "white",
            "linecolor": "white",
            "ticks": ""
           }
          },
          "scene": {
           "xaxis": {
            "backgroundcolor": "#E5ECF6",
            "gridcolor": "white",
            "gridwidth": 2,
            "linecolor": "white",
            "showbackground": true,
            "ticks": "",
            "zerolinecolor": "white"
           },
           "yaxis": {
            "backgroundcolor": "#E5ECF6",
            "gridcolor": "white",
            "gridwidth": 2,
            "linecolor": "white",
            "showbackground": true,
            "ticks": "",
            "zerolinecolor": "white"
           },
           "zaxis": {
            "backgroundcolor": "#E5ECF6",
            "gridcolor": "white",
            "gridwidth": 2,
            "linecolor": "white",
            "showbackground": true,
            "ticks": "",
            "zerolinecolor": "white"
           }
          },
          "shapedefaults": {
           "line": {
            "color": "#2a3f5f"
           }
          },
          "ternary": {
           "aaxis": {
            "gridcolor": "white",
            "linecolor": "white",
            "ticks": ""
           },
           "baxis": {
            "gridcolor": "white",
            "linecolor": "white",
            "ticks": ""
           },
           "bgcolor": "#E5ECF6",
           "caxis": {
            "gridcolor": "white",
            "linecolor": "white",
            "ticks": ""
           }
          },
          "title": {
           "x": 0.05
          },
          "xaxis": {
           "automargin": true,
           "gridcolor": "white",
           "linecolor": "white",
           "ticks": "",
           "title": {
            "standoff": 15
           },
           "zerolinecolor": "white",
           "zerolinewidth": 2
          },
          "yaxis": {
           "automargin": true,
           "gridcolor": "white",
           "linecolor": "white",
           "ticks": "",
           "title": {
            "standoff": 15
           },
           "zerolinecolor": "white",
           "zerolinewidth": 2
          }
         }
        },
        "title": {
         "text": "Death rate by state<br>(Hover for breakdown)"
        }
       }
      },
      "text/html": [
       "<div>\n",
       "        \n",
       "        \n",
       "            <div id=\"8a6c2323-c64f-47af-8d63-017213e05cfd\" class=\"plotly-graph-div\" style=\"height:525px; width:100%;\"></div>\n",
       "            <script type=\"text/javascript\">\n",
       "                require([\"plotly\"], function(Plotly) {\n",
       "                    window.PLOTLYENV=window.PLOTLYENV || {};\n",
       "                    \n",
       "                if (document.getElementById(\"8a6c2323-c64f-47af-8d63-017213e05cfd\")) {\n",
       "                    Plotly.newPlot(\n",
       "                        '8a6c2323-c64f-47af-8d63-017213e05cfd',\n",
       "                        [{\"autocolorscale\": false, \"colorbar\": {\"title\": {\"text\": \"Death rate in %\"}}, \"colorscale\": [[0.0, \"rgb(255,245,235)\"], [0.125, \"rgb(254,230,206)\"], [0.25, \"rgb(253,208,162)\"], [0.375, \"rgb(253,174,107)\"], [0.5, \"rgb(253,141,60)\"], [0.625, \"rgb(241,105,19)\"], [0.75, \"rgb(217,72,1)\"], [0.875, \"rgb(166,54,3)\"], [1.0, \"rgb(127,39,4)\"]], \"locationmode\": \"USA-states\", \"locations\": [\"FL\", \"CT\", \"ND\", \"MD\", \"LA\", \"DE\", \"GA\", \"NJ\", \"IL\", \"NV\", \"MN\", \"NC\", \"UT\", \"AZ\", \"IN\", \"RI\", \"CA\", \"WV\", \"MS\", \"VT\", \"KY\", \"NE\", \"OH\", \"DC\", \"NH\", \"IA\", \"AL\", \"CO\", \"MO\", \"OR\", \"TN\", \"WA\", \"MA\", \"SD\", \"OK\", \"ID\", \"HI\", \"KS\", \"AR\", \"NM\", \"ME\", \"TX\", \"NY\", \"WI\", \"VA\", \"SC\", \"AK\", \"PA\", \"MI\", \"MT\", \"WY\"], \"marker\": {\"line\": {\"color\": \"white\"}}, \"text\": [\"FL\\nPositive: 14747.0, Deaths: 296.0, Negative: 123415.0, Total Tested: 139569\", \"CT\\nPositive: 7781.0, Deaths: 277.0, Negative: 21255.0, Total Tested: 29036\", \"ND\\nPositive: 237.0, Deaths: 4.0, Negative: 7466.0, Total Tested: 7703\", \"MD\\nPositive: 4371.0, Deaths: 103.0, Negative: 27256.0, Total Tested: 31627\", \"LA\\nPositive: 16284.0, Deaths: 582.0, Negative: 58371.0, Total Tested: 74655\", \"DE\\nPositive: 928.0, Deaths: 16.0, Negative: 7628.0, Total Tested: 8556\", \"GA\\nPositive: 8818.0, Deaths: 329.0, Negative: 24895.0, Total Tested: 33713\", \"NJ\\nPositive: 44416.0, Deaths: 1232.0, Negative: 50558.0, Total Tested: 94974\", \"IL\\nPositive: 13549.0, Deaths: 380.0, Negative: 55183.0, Total Tested: 68732\", \"NV\\nPositive: 2087.0, Deaths: 58.0, Negative: 16552.0, Total Tested: 18639\", \"MN\\nPositive: 1069.0, Deaths: 34.0, Negative: 28191.0, Total Tested: 29260\", \"NC\\nPositive: 3221.0, Deaths: 46.0, Negative: 37861.0, Total Tested: 41082\", \"UT\\nPositive: 1738.0, Deaths: 13.0, Negative: 32909.0, Total Tested: 34647\", \"AZ\\nPositive: 2575.0, Deaths: 73.0, Negative: 30800.0, Total Tested: 33375\", \"IN\\nPositive: 5507.0, Deaths: 173.0, Negative: 23257.0, Total Tested: 28764\", \"RI\\nPositive: 1229.0, Deaths: 30.0, Negative: 7399.0, Total Tested: 8628\", \"CA\\nPositive: 15865.0, Deaths: 374.0, Negative: 115364.0, Total Tested: 145329\", \"WV\\nPositive: 412.0, Deaths: 4.0, Negative: 11647.0, Total Tested: 12059\", \"MS\\nPositive: 1915.0, Deaths: 59.0, Negative: 18632.0, Total Tested: 20547\", \"VT\\nPositive: 575.0, Deaths: 23.0, Negative: 6554.0, Total Tested: 7129\", \"KY\\nPositive: 1008.0, Deaths: 59.0, Negative: 18947.0, Total Tested: 19955\", \"NE\\nPositive: 447.0, Deaths: 10.0, Negative: 6811.0, Total Tested: 7258\", \"OH\\nPositive: 4782.0, Deaths: 167.0, Negative: 46056.0, Total Tested: 50838\", \"DC\\nPositive: 1211.0, Deaths: 22.0, Negative: 6612.0, Total Tested: 7823\", \"NH\\nPositive: 715.0, Deaths: 9.0, Negative: 8019.0, Total Tested: 8783\", \"IA\\nPositive: 1048.0, Deaths: 26.0, Negative: 11670.0, Total Tested: 12718\", \"AL\\nPositive: 2119.0, Deaths: 56.0, Negative: 12797.0, Total Tested: 14916\", \"CO\\nPositive: 5172.0, Deaths: 150.0, Negative: 21703.0, Total Tested: 26875\", \"MO\\nPositive: 3037.0, Deaths: 53.0, Negative: 28932.0, Total Tested: 31969\", \"OR\\nPositive: 1132.0, Deaths: 29.0, Negative: 20669.0, Total Tested: 21801\", \"TN\\nPositive: 4138.0, Deaths: 72.0, Negative: 48736.0, Total Tested: 52874\", \"WA\\nPositive: 8384.0, Deaths: 372.0, Negative: 83391.0, Total Tested: 91775\", \"MA\\nPositive: 15202.0, Deaths: 356.0, Negative: 66142.0, Total Tested: 81344\", \"SD\\nPositive: 320.0, Deaths: 6.0, Negative: 5948.0, Total Tested: 6270\", \"OK\\nPositive: 1472.0, Deaths: 67.0, Negative: 11821.0, Total Tested: 13293\", \"ID\\nPositive: 1170.0, Deaths: 13.0, Negative: 10076.0, Total Tested: 11246\", \"HI\\nPositive: 387.0, Deaths: 5.0, Negative: 13155.0, Total Tested: 13542\", \"KS\\nPositive: 900.0, Deaths: 27.0, Negative: 8614.0, Total Tested: 9514\", \"AR\\nPositive: 946.0, Deaths: 16.0, Negative: 12692.0, Total Tested: 13638\", \"NM\\nPositive: 686.0, Deaths: 12.0, Negative: 21139.0, Total Tested: 21825\", \"ME\\nPositive: 519.0, Deaths: 12.0, Negative: 6088.0, Total Tested: 6607\", \"TX\\nPositive: 8262.0, Deaths: 154.0, Negative: 80387.0, Total Tested: 88649\", \"NY\\nPositive: 138863.0, Deaths: 5489.0, Negative: 201195.0, Total Tested: 340058\", \"WI\\nPositive: 2578.0, Deaths: 92.0, Negative: 28512.0, Total Tested: 31090\", \"VA\\nPositive: 3333.0, Deaths: 63.0, Negative: 25312.0, Total Tested: 28645\", \"SC\\nPositive: 2417.0, Deaths: 51.0, Negative: 21263.0, Total Tested: 23680\", \"AK\\nPositive: 213.0, Deaths: 6.0, Negative: 6700.0, Total Tested: 6913\", \"PA\\nPositive: 14559.0, Deaths: 240.0, Negative: 76719.0, Total Tested: 91278\", \"MI\\nPositive: 18970.0, Deaths: 845.0, Negative: 31362.0, Total Tested: 50332\", \"MT\\nPositive: 319.0, Deaths: 6.0, Negative: 6666.0, Total Tested: 6985\", \"WY\\nPositive: 216.0, Deaths: 0.0, Negative: 3789.0, Total Tested: 4005\"], \"type\": \"choropleth\", \"z\": [2.0071879026242625, 3.559953733453284, 1.6877637130801686, 2.3564401738732554, 3.574060427413412, 1.7241379310344827, 3.731004762984804, 2.7737752161383287, 2.8046350284153814, 2.7791087685673217, 3.1805425631431246, 1.4281279105867744, 0.7479861910241657, 2.8349514563106797, 3.1414563283094243, 2.4410089503661516, 2.357390482193508, 0.9708737864077669, 3.0809399477806787, 4.0, 5.853174603174603, 2.237136465324385, 3.4922626516102047, 1.8166804293971925, 1.2587412587412588, 2.480916030534351, 2.642756016989146, 2.9002320185614847, 1.7451432334540666, 2.5618374558303887, 1.7399710004833253, 4.437022900763359, 2.3417971319563216, 1.875, 4.551630434782608, 1.1111111111111112, 1.2919896640826873, 3.0, 1.6913319238900635, 1.749271137026239, 2.312138728323699, 1.8639554587267004, 3.9528168050524615, 3.5686578743211794, 1.8901890189018902, 2.110053785684733, 2.8169014084507045, 1.6484648670925202, 4.454401686874012, 1.8808777429467085, 0.0]}],\n",
       "                        {\"geo\": {\"lakecolor\": \"rgb(255, 255, 255)\", \"projection\": {\"type\": \"albers usa\"}, \"scope\": \"usa\", \"showlakes\": true}, \"template\": {\"data\": {\"bar\": [{\"error_x\": {\"color\": \"#2a3f5f\"}, \"error_y\": {\"color\": \"#2a3f5f\"}, \"marker\": {\"line\": {\"color\": \"#E5ECF6\", \"width\": 0.5}}, \"type\": \"bar\"}], \"barpolar\": [{\"marker\": {\"line\": {\"color\": \"#E5ECF6\", \"width\": 0.5}}, \"type\": \"barpolar\"}], \"carpet\": [{\"aaxis\": {\"endlinecolor\": \"#2a3f5f\", \"gridcolor\": \"white\", \"linecolor\": \"white\", \"minorgridcolor\": \"white\", \"startlinecolor\": \"#2a3f5f\"}, \"baxis\": {\"endlinecolor\": \"#2a3f5f\", \"gridcolor\": \"white\", \"linecolor\": \"white\", \"minorgridcolor\": \"white\", \"startlinecolor\": \"#2a3f5f\"}, \"type\": \"carpet\"}], \"choropleth\": [{\"colorbar\": {\"outlinewidth\": 0, \"ticks\": \"\"}, \"type\": \"choropleth\"}], \"contour\": [{\"colorbar\": {\"outlinewidth\": 0, \"ticks\": \"\"}, \"colorscale\": [[0.0, \"#0d0887\"], [0.1111111111111111, \"#46039f\"], [0.2222222222222222, \"#7201a8\"], [0.3333333333333333, \"#9c179e\"], [0.4444444444444444, \"#bd3786\"], [0.5555555555555556, \"#d8576b\"], [0.6666666666666666, \"#ed7953\"], [0.7777777777777778, \"#fb9f3a\"], [0.8888888888888888, \"#fdca26\"], [1.0, \"#f0f921\"]], \"type\": \"contour\"}], \"contourcarpet\": [{\"colorbar\": {\"outlinewidth\": 0, \"ticks\": \"\"}, \"type\": \"contourcarpet\"}], \"heatmap\": [{\"colorbar\": {\"outlinewidth\": 0, \"ticks\": \"\"}, \"colorscale\": [[0.0, \"#0d0887\"], [0.1111111111111111, \"#46039f\"], [0.2222222222222222, \"#7201a8\"], [0.3333333333333333, \"#9c179e\"], [0.4444444444444444, \"#bd3786\"], [0.5555555555555556, \"#d8576b\"], [0.6666666666666666, \"#ed7953\"], [0.7777777777777778, \"#fb9f3a\"], [0.8888888888888888, \"#fdca26\"], [1.0, \"#f0f921\"]], \"type\": \"heatmap\"}], \"heatmapgl\": [{\"colorbar\": {\"outlinewidth\": 0, \"ticks\": \"\"}, \"colorscale\": [[0.0, \"#0d0887\"], [0.1111111111111111, \"#46039f\"], [0.2222222222222222, \"#7201a8\"], [0.3333333333333333, \"#9c179e\"], [0.4444444444444444, \"#bd3786\"], [0.5555555555555556, \"#d8576b\"], [0.6666666666666666, \"#ed7953\"], [0.7777777777777778, \"#fb9f3a\"], [0.8888888888888888, \"#fdca26\"], [1.0, \"#f0f921\"]], \"type\": \"heatmapgl\"}], \"histogram\": [{\"marker\": {\"colorbar\": {\"outlinewidth\": 0, \"ticks\": \"\"}}, \"type\": \"histogram\"}], \"histogram2d\": [{\"colorbar\": {\"outlinewidth\": 0, \"ticks\": \"\"}, \"colorscale\": [[0.0, \"#0d0887\"], [0.1111111111111111, \"#46039f\"], [0.2222222222222222, \"#7201a8\"], [0.3333333333333333, \"#9c179e\"], [0.4444444444444444, \"#bd3786\"], [0.5555555555555556, \"#d8576b\"], [0.6666666666666666, \"#ed7953\"], [0.7777777777777778, \"#fb9f3a\"], [0.8888888888888888, \"#fdca26\"], [1.0, \"#f0f921\"]], \"type\": \"histogram2d\"}], \"histogram2dcontour\": [{\"colorbar\": {\"outlinewidth\": 0, \"ticks\": \"\"}, \"colorscale\": [[0.0, \"#0d0887\"], [0.1111111111111111, \"#46039f\"], [0.2222222222222222, \"#7201a8\"], [0.3333333333333333, \"#9c179e\"], [0.4444444444444444, \"#bd3786\"], [0.5555555555555556, \"#d8576b\"], [0.6666666666666666, \"#ed7953\"], [0.7777777777777778, \"#fb9f3a\"], [0.8888888888888888, \"#fdca26\"], [1.0, \"#f0f921\"]], \"type\": \"histogram2dcontour\"}], \"mesh3d\": [{\"colorbar\": {\"outlinewidth\": 0, \"ticks\": \"\"}, \"type\": \"mesh3d\"}], \"parcoords\": [{\"line\": {\"colorbar\": {\"outlinewidth\": 0, \"ticks\": \"\"}}, \"type\": \"parcoords\"}], \"pie\": [{\"automargin\": true, \"type\": \"pie\"}], \"scatter\": [{\"marker\": {\"colorbar\": {\"outlinewidth\": 0, \"ticks\": \"\"}}, \"type\": \"scatter\"}], \"scatter3d\": [{\"line\": {\"colorbar\": {\"outlinewidth\": 0, \"ticks\": \"\"}}, \"marker\": {\"colorbar\": {\"outlinewidth\": 0, \"ticks\": \"\"}}, \"type\": \"scatter3d\"}], \"scattercarpet\": [{\"marker\": {\"colorbar\": {\"outlinewidth\": 0, \"ticks\": \"\"}}, \"type\": \"scattercarpet\"}], \"scattergeo\": [{\"marker\": {\"colorbar\": {\"outlinewidth\": 0, \"ticks\": \"\"}}, \"type\": \"scattergeo\"}], \"scattergl\": [{\"marker\": {\"colorbar\": {\"outlinewidth\": 0, \"ticks\": \"\"}}, \"type\": \"scattergl\"}], \"scattermapbox\": [{\"marker\": {\"colorbar\": {\"outlinewidth\": 0, \"ticks\": \"\"}}, \"type\": \"scattermapbox\"}], \"scatterpolar\": [{\"marker\": {\"colorbar\": {\"outlinewidth\": 0, \"ticks\": \"\"}}, \"type\": \"scatterpolar\"}], \"scatterpolargl\": [{\"marker\": {\"colorbar\": {\"outlinewidth\": 0, \"ticks\": \"\"}}, \"type\": \"scatterpolargl\"}], \"scatterternary\": [{\"marker\": {\"colorbar\": {\"outlinewidth\": 0, \"ticks\": \"\"}}, \"type\": \"scatterternary\"}], \"surface\": [{\"colorbar\": {\"outlinewidth\": 0, \"ticks\": \"\"}, \"colorscale\": [[0.0, \"#0d0887\"], [0.1111111111111111, \"#46039f\"], [0.2222222222222222, \"#7201a8\"], [0.3333333333333333, \"#9c179e\"], [0.4444444444444444, \"#bd3786\"], [0.5555555555555556, \"#d8576b\"], [0.6666666666666666, \"#ed7953\"], [0.7777777777777778, \"#fb9f3a\"], [0.8888888888888888, \"#fdca26\"], [1.0, \"#f0f921\"]], \"type\": \"surface\"}], \"table\": [{\"cells\": {\"fill\": {\"color\": \"#EBF0F8\"}, \"line\": {\"color\": \"white\"}}, \"header\": {\"fill\": {\"color\": \"#C8D4E3\"}, \"line\": {\"color\": \"white\"}}, \"type\": \"table\"}]}, \"layout\": {\"annotationdefaults\": {\"arrowcolor\": \"#2a3f5f\", \"arrowhead\": 0, \"arrowwidth\": 1}, \"coloraxis\": {\"colorbar\": {\"outlinewidth\": 0, \"ticks\": \"\"}}, \"colorscale\": {\"diverging\": [[0, \"#8e0152\"], [0.1, \"#c51b7d\"], [0.2, \"#de77ae\"], [0.3, \"#f1b6da\"], [0.4, \"#fde0ef\"], [0.5, \"#f7f7f7\"], [0.6, \"#e6f5d0\"], [0.7, \"#b8e186\"], [0.8, \"#7fbc41\"], [0.9, \"#4d9221\"], [1, \"#276419\"]], \"sequential\": [[0.0, \"#0d0887\"], [0.1111111111111111, \"#46039f\"], [0.2222222222222222, \"#7201a8\"], [0.3333333333333333, \"#9c179e\"], [0.4444444444444444, \"#bd3786\"], [0.5555555555555556, \"#d8576b\"], [0.6666666666666666, \"#ed7953\"], [0.7777777777777778, \"#fb9f3a\"], [0.8888888888888888, \"#fdca26\"], [1.0, \"#f0f921\"]], \"sequentialminus\": [[0.0, \"#0d0887\"], [0.1111111111111111, \"#46039f\"], [0.2222222222222222, \"#7201a8\"], [0.3333333333333333, \"#9c179e\"], [0.4444444444444444, \"#bd3786\"], [0.5555555555555556, \"#d8576b\"], [0.6666666666666666, \"#ed7953\"], [0.7777777777777778, \"#fb9f3a\"], [0.8888888888888888, \"#fdca26\"], [1.0, \"#f0f921\"]]}, \"colorway\": [\"#636efa\", \"#EF553B\", \"#00cc96\", \"#ab63fa\", \"#FFA15A\", \"#19d3f3\", \"#FF6692\", \"#B6E880\", \"#FF97FF\", \"#FECB52\"], \"font\": {\"color\": \"#2a3f5f\"}, \"geo\": {\"bgcolor\": \"white\", \"lakecolor\": \"white\", \"landcolor\": \"#E5ECF6\", \"showlakes\": true, \"showland\": true, \"subunitcolor\": \"white\"}, \"hoverlabel\": {\"align\": \"left\"}, \"hovermode\": \"closest\", \"mapbox\": {\"style\": \"light\"}, \"paper_bgcolor\": \"white\", \"plot_bgcolor\": \"#E5ECF6\", \"polar\": {\"angularaxis\": {\"gridcolor\": \"white\", \"linecolor\": \"white\", \"ticks\": \"\"}, \"bgcolor\": \"#E5ECF6\", \"radialaxis\": {\"gridcolor\": \"white\", \"linecolor\": \"white\", \"ticks\": \"\"}}, \"scene\": {\"xaxis\": {\"backgroundcolor\": \"#E5ECF6\", \"gridcolor\": \"white\", \"gridwidth\": 2, \"linecolor\": \"white\", \"showbackground\": true, \"ticks\": \"\", \"zerolinecolor\": \"white\"}, \"yaxis\": {\"backgroundcolor\": \"#E5ECF6\", \"gridcolor\": \"white\", \"gridwidth\": 2, \"linecolor\": \"white\", \"showbackground\": true, \"ticks\": \"\", \"zerolinecolor\": \"white\"}, \"zaxis\": {\"backgroundcolor\": \"#E5ECF6\", \"gridcolor\": \"white\", \"gridwidth\": 2, \"linecolor\": \"white\", \"showbackground\": true, \"ticks\": \"\", \"zerolinecolor\": \"white\"}}, \"shapedefaults\": {\"line\": {\"color\": \"#2a3f5f\"}}, \"ternary\": {\"aaxis\": {\"gridcolor\": \"white\", \"linecolor\": \"white\", \"ticks\": \"\"}, \"baxis\": {\"gridcolor\": \"white\", \"linecolor\": \"white\", \"ticks\": \"\"}, \"bgcolor\": \"#E5ECF6\", \"caxis\": {\"gridcolor\": \"white\", \"linecolor\": \"white\", \"ticks\": \"\"}}, \"title\": {\"x\": 0.05}, \"xaxis\": {\"automargin\": true, \"gridcolor\": \"white\", \"linecolor\": \"white\", \"ticks\": \"\", \"title\": {\"standoff\": 15}, \"zerolinecolor\": \"white\", \"zerolinewidth\": 2}, \"yaxis\": {\"automargin\": true, \"gridcolor\": \"white\", \"linecolor\": \"white\", \"ticks\": \"\", \"title\": {\"standoff\": 15}, \"zerolinecolor\": \"white\", \"zerolinewidth\": 2}}}, \"title\": {\"text\": \"Death rate by state<br>(Hover for breakdown)\"}},\n",
       "                        {\"responsive\": true}\n",
       "                    ).then(function(){\n",
       "                            \n",
       "var gd = document.getElementById('8a6c2323-c64f-47af-8d63-017213e05cfd');\n",
       "var x = new MutationObserver(function (mutations, observer) {{\n",
       "        var display = window.getComputedStyle(gd).display;\n",
       "        if (!display || display === 'none') {{\n",
       "            console.log([gd, 'removed!']);\n",
       "            Plotly.purge(gd);\n",
       "            observer.disconnect();\n",
       "        }}\n",
       "}});\n",
       "\n",
       "// Listen for the removal of the full notebook cells\n",
       "var notebookContainer = gd.closest('#notebook-container');\n",
       "if (notebookContainer) {{\n",
       "    x.observe(notebookContainer, {childList: true});\n",
       "}}\n",
       "\n",
       "// Listen for the clearing of the current output cell\n",
       "var outputEl = gd.closest('.output');\n",
       "if (outputEl) {{\n",
       "    x.observe(outputEl, {childList: true});\n",
       "}}\n",
       "\n",
       "                        })\n",
       "                };\n",
       "                });\n",
       "            </script>\n",
       "        </div>"
      ]
     },
     "metadata": {},
     "output_type": "display_data"
    }
   ],
   "source": [
    "#scale = 1000\n",
    "fig = go.Figure(data=go.Choropleth(\n",
    "    locations=df2['state'],\n",
    "    z=df2['pct_death_over_positive'],\n",
    "    locationmode='USA-states',\n",
    "    colorscale='Oranges',\n",
    "    autocolorscale=False,\n",
    "    text=df2['text'], # hover text\n",
    "    marker_line_color='white', # line markers between states\n",
    "    colorbar_title=\"Death rate in %\"\n",
    "))\n",
    "\n",
    "fig.update_layout(\n",
    "    title_text='Death rate by state<br>(Hover for breakdown)',\n",
    "    geo = dict(\n",
    "        scope='usa',\n",
    "        projection=go.layout.geo.Projection(type = 'albers usa'),\n",
    "        showlakes=True, # lakes\n",
    "        lakecolor='rgb(255, 255, 255)'),\n",
    ")\n",
    "fig.show();"
   ]
  },
  {
   "cell_type": "code",
   "execution_count": 20,
   "metadata": {
    "ExecuteTime": {
     "end_time": "2020-04-08T00:54:10.900172Z",
     "start_time": "2020-04-08T00:54:10.790428Z"
    }
   },
   "outputs": [
    {
     "data": {
      "application/vnd.plotly.v1+json": {
       "config": {
        "plotlyServerURL": "https://plot.ly"
       },
       "data": [
        {
         "autocolorscale": false,
         "colorbar": {
          "title": {
           "text": "Percent of state population tested (in %)"
          }
         },
         "colorscale": [
          [
           0,
           "rgb(255,245,235)"
          ],
          [
           0.125,
           "rgb(254,230,206)"
          ],
          [
           0.25,
           "rgb(253,208,162)"
          ],
          [
           0.375,
           "rgb(253,174,107)"
          ],
          [
           0.5,
           "rgb(253,141,60)"
          ],
          [
           0.625,
           "rgb(241,105,19)"
          ],
          [
           0.75,
           "rgb(217,72,1)"
          ],
          [
           0.875,
           "rgb(166,54,3)"
          ],
          [
           1,
           "rgb(127,39,4)"
          ]
         ],
         "locationmode": "USA-states",
         "locations": [
          "FL",
          "CT",
          "ND",
          "MD",
          "LA",
          "DE",
          "GA",
          "NJ",
          "IL",
          "NV",
          "MN",
          "NC",
          "UT",
          "AZ",
          "IN",
          "RI",
          "CA",
          "WV",
          "MS",
          "VT",
          "KY",
          "NE",
          "OH",
          "DC",
          "NH",
          "IA",
          "AL",
          "CO",
          "MO",
          "OR",
          "TN",
          "WA",
          "MA",
          "SD",
          "OK",
          "ID",
          "HI",
          "KS",
          "AR",
          "NM",
          "ME",
          "TX",
          "NY",
          "WI",
          "VA",
          "SC",
          "AK",
          "PA",
          "MI",
          "MT",
          "WY"
         ],
         "marker": {
          "line": {
           "color": "white"
          }
         },
         "text": [
          "FL\nPositive: 14747.0, Deaths: 296.0, Negative: 123415.0, Total Tested: 139569",
          "CT\nPositive: 7781.0, Deaths: 277.0, Negative: 21255.0, Total Tested: 29036",
          "ND\nPositive: 237.0, Deaths: 4.0, Negative: 7466.0, Total Tested: 7703",
          "MD\nPositive: 4371.0, Deaths: 103.0, Negative: 27256.0, Total Tested: 31627",
          "LA\nPositive: 16284.0, Deaths: 582.0, Negative: 58371.0, Total Tested: 74655",
          "DE\nPositive: 928.0, Deaths: 16.0, Negative: 7628.0, Total Tested: 8556",
          "GA\nPositive: 8818.0, Deaths: 329.0, Negative: 24895.0, Total Tested: 33713",
          "NJ\nPositive: 44416.0, Deaths: 1232.0, Negative: 50558.0, Total Tested: 94974",
          "IL\nPositive: 13549.0, Deaths: 380.0, Negative: 55183.0, Total Tested: 68732",
          "NV\nPositive: 2087.0, Deaths: 58.0, Negative: 16552.0, Total Tested: 18639",
          "MN\nPositive: 1069.0, Deaths: 34.0, Negative: 28191.0, Total Tested: 29260",
          "NC\nPositive: 3221.0, Deaths: 46.0, Negative: 37861.0, Total Tested: 41082",
          "UT\nPositive: 1738.0, Deaths: 13.0, Negative: 32909.0, Total Tested: 34647",
          "AZ\nPositive: 2575.0, Deaths: 73.0, Negative: 30800.0, Total Tested: 33375",
          "IN\nPositive: 5507.0, Deaths: 173.0, Negative: 23257.0, Total Tested: 28764",
          "RI\nPositive: 1229.0, Deaths: 30.0, Negative: 7399.0, Total Tested: 8628",
          "CA\nPositive: 15865.0, Deaths: 374.0, Negative: 115364.0, Total Tested: 145329",
          "WV\nPositive: 412.0, Deaths: 4.0, Negative: 11647.0, Total Tested: 12059",
          "MS\nPositive: 1915.0, Deaths: 59.0, Negative: 18632.0, Total Tested: 20547",
          "VT\nPositive: 575.0, Deaths: 23.0, Negative: 6554.0, Total Tested: 7129",
          "KY\nPositive: 1008.0, Deaths: 59.0, Negative: 18947.0, Total Tested: 19955",
          "NE\nPositive: 447.0, Deaths: 10.0, Negative: 6811.0, Total Tested: 7258",
          "OH\nPositive: 4782.0, Deaths: 167.0, Negative: 46056.0, Total Tested: 50838",
          "DC\nPositive: 1211.0, Deaths: 22.0, Negative: 6612.0, Total Tested: 7823",
          "NH\nPositive: 715.0, Deaths: 9.0, Negative: 8019.0, Total Tested: 8783",
          "IA\nPositive: 1048.0, Deaths: 26.0, Negative: 11670.0, Total Tested: 12718",
          "AL\nPositive: 2119.0, Deaths: 56.0, Negative: 12797.0, Total Tested: 14916",
          "CO\nPositive: 5172.0, Deaths: 150.0, Negative: 21703.0, Total Tested: 26875",
          "MO\nPositive: 3037.0, Deaths: 53.0, Negative: 28932.0, Total Tested: 31969",
          "OR\nPositive: 1132.0, Deaths: 29.0, Negative: 20669.0, Total Tested: 21801",
          "TN\nPositive: 4138.0, Deaths: 72.0, Negative: 48736.0, Total Tested: 52874",
          "WA\nPositive: 8384.0, Deaths: 372.0, Negative: 83391.0, Total Tested: 91775",
          "MA\nPositive: 15202.0, Deaths: 356.0, Negative: 66142.0, Total Tested: 81344",
          "SD\nPositive: 320.0, Deaths: 6.0, Negative: 5948.0, Total Tested: 6270",
          "OK\nPositive: 1472.0, Deaths: 67.0, Negative: 11821.0, Total Tested: 13293",
          "ID\nPositive: 1170.0, Deaths: 13.0, Negative: 10076.0, Total Tested: 11246",
          "HI\nPositive: 387.0, Deaths: 5.0, Negative: 13155.0, Total Tested: 13542",
          "KS\nPositive: 900.0, Deaths: 27.0, Negative: 8614.0, Total Tested: 9514",
          "AR\nPositive: 946.0, Deaths: 16.0, Negative: 12692.0, Total Tested: 13638",
          "NM\nPositive: 686.0, Deaths: 12.0, Negative: 21139.0, Total Tested: 21825",
          "ME\nPositive: 519.0, Deaths: 12.0, Negative: 6088.0, Total Tested: 6607",
          "TX\nPositive: 8262.0, Deaths: 154.0, Negative: 80387.0, Total Tested: 88649",
          "NY\nPositive: 138863.0, Deaths: 5489.0, Negative: 201195.0, Total Tested: 340058",
          "WI\nPositive: 2578.0, Deaths: 92.0, Negative: 28512.0, Total Tested: 31090",
          "VA\nPositive: 3333.0, Deaths: 63.0, Negative: 25312.0, Total Tested: 28645",
          "SC\nPositive: 2417.0, Deaths: 51.0, Negative: 21263.0, Total Tested: 23680",
          "AK\nPositive: 213.0, Deaths: 6.0, Negative: 6700.0, Total Tested: 6913",
          "PA\nPositive: 14559.0, Deaths: 240.0, Negative: 76719.0, Total Tested: 91278",
          "MI\nPositive: 18970.0, Deaths: 845.0, Negative: 31362.0, Total Tested: 50332",
          "MT\nPositive: 319.0, Deaths: 6.0, Negative: 6666.0, Total Tested: 6985",
          "WY\nPositive: 216.0, Deaths: 0.0, Negative: 3789.0, Total Tested: 4005"
         ],
         "type": "choropleth",
         "z": [
          0.6498310320123577,
          0.8144084894147372,
          1.0108101440565203,
          0.5231338741051462,
          1.6059003689989275,
          0.8786523223286136,
          0.3175252601313897,
          1.069263323572227,
          0.5424003385148827,
          0.6051316881352763,
          0.5188281788598972,
          0.3917016682932746,
          1.0807066093816575,
          0.458528611567121,
          0.4272588280327779,
          0.8144532411519775,
          0.3678077034541944,
          0.6728800706638463,
          0.690388821258613,
          1.1424880887323334,
          0.4466531010662598,
          0.3752052307475982,
          0.43491800053040863,
          1.1084677413641393,
          0.6459460870729148,
          0.40309723714529316,
          0.3042104264880889,
          0.4666822719430097,
          0.5208859476640704,
          0.516888558959461,
          0.7742371185739301,
          1.2052040652442524,
          1.1801808428665175,
          0.7087476643542879,
          0.33593877741332956,
          0.6292999974819047,
          0.9564423902725671,
          0.32656967288798944,
          0.45191801720721425,
          1.0408574089732638,
          0.4915147313072641,
          0.30572963104656137,
          1.7480501384810732,
          0.5339691270008385,
          0.33559763618357596,
          0.4599206714531046,
          0.9449862961266908,
          0.7129985817047647,
          0.5039823840473534,
          0.653550129212989,
          0.6919978782187405
         ]
        }
       ],
       "layout": {
        "geo": {
         "lakecolor": "rgb(255, 255, 255)",
         "projection": {
          "type": "albers usa"
         },
         "scope": "usa",
         "showlakes": true
        },
        "template": {
         "data": {
          "bar": [
           {
            "error_x": {
             "color": "#2a3f5f"
            },
            "error_y": {
             "color": "#2a3f5f"
            },
            "marker": {
             "line": {
              "color": "#E5ECF6",
              "width": 0.5
             }
            },
            "type": "bar"
           }
          ],
          "barpolar": [
           {
            "marker": {
             "line": {
              "color": "#E5ECF6",
              "width": 0.5
             }
            },
            "type": "barpolar"
           }
          ],
          "carpet": [
           {
            "aaxis": {
             "endlinecolor": "#2a3f5f",
             "gridcolor": "white",
             "linecolor": "white",
             "minorgridcolor": "white",
             "startlinecolor": "#2a3f5f"
            },
            "baxis": {
             "endlinecolor": "#2a3f5f",
             "gridcolor": "white",
             "linecolor": "white",
             "minorgridcolor": "white",
             "startlinecolor": "#2a3f5f"
            },
            "type": "carpet"
           }
          ],
          "choropleth": [
           {
            "colorbar": {
             "outlinewidth": 0,
             "ticks": ""
            },
            "type": "choropleth"
           }
          ],
          "contour": [
           {
            "colorbar": {
             "outlinewidth": 0,
             "ticks": ""
            },
            "colorscale": [
             [
              0,
              "#0d0887"
             ],
             [
              0.1111111111111111,
              "#46039f"
             ],
             [
              0.2222222222222222,
              "#7201a8"
             ],
             [
              0.3333333333333333,
              "#9c179e"
             ],
             [
              0.4444444444444444,
              "#bd3786"
             ],
             [
              0.5555555555555556,
              "#d8576b"
             ],
             [
              0.6666666666666666,
              "#ed7953"
             ],
             [
              0.7777777777777778,
              "#fb9f3a"
             ],
             [
              0.8888888888888888,
              "#fdca26"
             ],
             [
              1,
              "#f0f921"
             ]
            ],
            "type": "contour"
           }
          ],
          "contourcarpet": [
           {
            "colorbar": {
             "outlinewidth": 0,
             "ticks": ""
            },
            "type": "contourcarpet"
           }
          ],
          "heatmap": [
           {
            "colorbar": {
             "outlinewidth": 0,
             "ticks": ""
            },
            "colorscale": [
             [
              0,
              "#0d0887"
             ],
             [
              0.1111111111111111,
              "#46039f"
             ],
             [
              0.2222222222222222,
              "#7201a8"
             ],
             [
              0.3333333333333333,
              "#9c179e"
             ],
             [
              0.4444444444444444,
              "#bd3786"
             ],
             [
              0.5555555555555556,
              "#d8576b"
             ],
             [
              0.6666666666666666,
              "#ed7953"
             ],
             [
              0.7777777777777778,
              "#fb9f3a"
             ],
             [
              0.8888888888888888,
              "#fdca26"
             ],
             [
              1,
              "#f0f921"
             ]
            ],
            "type": "heatmap"
           }
          ],
          "heatmapgl": [
           {
            "colorbar": {
             "outlinewidth": 0,
             "ticks": ""
            },
            "colorscale": [
             [
              0,
              "#0d0887"
             ],
             [
              0.1111111111111111,
              "#46039f"
             ],
             [
              0.2222222222222222,
              "#7201a8"
             ],
             [
              0.3333333333333333,
              "#9c179e"
             ],
             [
              0.4444444444444444,
              "#bd3786"
             ],
             [
              0.5555555555555556,
              "#d8576b"
             ],
             [
              0.6666666666666666,
              "#ed7953"
             ],
             [
              0.7777777777777778,
              "#fb9f3a"
             ],
             [
              0.8888888888888888,
              "#fdca26"
             ],
             [
              1,
              "#f0f921"
             ]
            ],
            "type": "heatmapgl"
           }
          ],
          "histogram": [
           {
            "marker": {
             "colorbar": {
              "outlinewidth": 0,
              "ticks": ""
             }
            },
            "type": "histogram"
           }
          ],
          "histogram2d": [
           {
            "colorbar": {
             "outlinewidth": 0,
             "ticks": ""
            },
            "colorscale": [
             [
              0,
              "#0d0887"
             ],
             [
              0.1111111111111111,
              "#46039f"
             ],
             [
              0.2222222222222222,
              "#7201a8"
             ],
             [
              0.3333333333333333,
              "#9c179e"
             ],
             [
              0.4444444444444444,
              "#bd3786"
             ],
             [
              0.5555555555555556,
              "#d8576b"
             ],
             [
              0.6666666666666666,
              "#ed7953"
             ],
             [
              0.7777777777777778,
              "#fb9f3a"
             ],
             [
              0.8888888888888888,
              "#fdca26"
             ],
             [
              1,
              "#f0f921"
             ]
            ],
            "type": "histogram2d"
           }
          ],
          "histogram2dcontour": [
           {
            "colorbar": {
             "outlinewidth": 0,
             "ticks": ""
            },
            "colorscale": [
             [
              0,
              "#0d0887"
             ],
             [
              0.1111111111111111,
              "#46039f"
             ],
             [
              0.2222222222222222,
              "#7201a8"
             ],
             [
              0.3333333333333333,
              "#9c179e"
             ],
             [
              0.4444444444444444,
              "#bd3786"
             ],
             [
              0.5555555555555556,
              "#d8576b"
             ],
             [
              0.6666666666666666,
              "#ed7953"
             ],
             [
              0.7777777777777778,
              "#fb9f3a"
             ],
             [
              0.8888888888888888,
              "#fdca26"
             ],
             [
              1,
              "#f0f921"
             ]
            ],
            "type": "histogram2dcontour"
           }
          ],
          "mesh3d": [
           {
            "colorbar": {
             "outlinewidth": 0,
             "ticks": ""
            },
            "type": "mesh3d"
           }
          ],
          "parcoords": [
           {
            "line": {
             "colorbar": {
              "outlinewidth": 0,
              "ticks": ""
             }
            },
            "type": "parcoords"
           }
          ],
          "pie": [
           {
            "automargin": true,
            "type": "pie"
           }
          ],
          "scatter": [
           {
            "marker": {
             "colorbar": {
              "outlinewidth": 0,
              "ticks": ""
             }
            },
            "type": "scatter"
           }
          ],
          "scatter3d": [
           {
            "line": {
             "colorbar": {
              "outlinewidth": 0,
              "ticks": ""
             }
            },
            "marker": {
             "colorbar": {
              "outlinewidth": 0,
              "ticks": ""
             }
            },
            "type": "scatter3d"
           }
          ],
          "scattercarpet": [
           {
            "marker": {
             "colorbar": {
              "outlinewidth": 0,
              "ticks": ""
             }
            },
            "type": "scattercarpet"
           }
          ],
          "scattergeo": [
           {
            "marker": {
             "colorbar": {
              "outlinewidth": 0,
              "ticks": ""
             }
            },
            "type": "scattergeo"
           }
          ],
          "scattergl": [
           {
            "marker": {
             "colorbar": {
              "outlinewidth": 0,
              "ticks": ""
             }
            },
            "type": "scattergl"
           }
          ],
          "scattermapbox": [
           {
            "marker": {
             "colorbar": {
              "outlinewidth": 0,
              "ticks": ""
             }
            },
            "type": "scattermapbox"
           }
          ],
          "scatterpolar": [
           {
            "marker": {
             "colorbar": {
              "outlinewidth": 0,
              "ticks": ""
             }
            },
            "type": "scatterpolar"
           }
          ],
          "scatterpolargl": [
           {
            "marker": {
             "colorbar": {
              "outlinewidth": 0,
              "ticks": ""
             }
            },
            "type": "scatterpolargl"
           }
          ],
          "scatterternary": [
           {
            "marker": {
             "colorbar": {
              "outlinewidth": 0,
              "ticks": ""
             }
            },
            "type": "scatterternary"
           }
          ],
          "surface": [
           {
            "colorbar": {
             "outlinewidth": 0,
             "ticks": ""
            },
            "colorscale": [
             [
              0,
              "#0d0887"
             ],
             [
              0.1111111111111111,
              "#46039f"
             ],
             [
              0.2222222222222222,
              "#7201a8"
             ],
             [
              0.3333333333333333,
              "#9c179e"
             ],
             [
              0.4444444444444444,
              "#bd3786"
             ],
             [
              0.5555555555555556,
              "#d8576b"
             ],
             [
              0.6666666666666666,
              "#ed7953"
             ],
             [
              0.7777777777777778,
              "#fb9f3a"
             ],
             [
              0.8888888888888888,
              "#fdca26"
             ],
             [
              1,
              "#f0f921"
             ]
            ],
            "type": "surface"
           }
          ],
          "table": [
           {
            "cells": {
             "fill": {
              "color": "#EBF0F8"
             },
             "line": {
              "color": "white"
             }
            },
            "header": {
             "fill": {
              "color": "#C8D4E3"
             },
             "line": {
              "color": "white"
             }
            },
            "type": "table"
           }
          ]
         },
         "layout": {
          "annotationdefaults": {
           "arrowcolor": "#2a3f5f",
           "arrowhead": 0,
           "arrowwidth": 1
          },
          "coloraxis": {
           "colorbar": {
            "outlinewidth": 0,
            "ticks": ""
           }
          },
          "colorscale": {
           "diverging": [
            [
             0,
             "#8e0152"
            ],
            [
             0.1,
             "#c51b7d"
            ],
            [
             0.2,
             "#de77ae"
            ],
            [
             0.3,
             "#f1b6da"
            ],
            [
             0.4,
             "#fde0ef"
            ],
            [
             0.5,
             "#f7f7f7"
            ],
            [
             0.6,
             "#e6f5d0"
            ],
            [
             0.7,
             "#b8e186"
            ],
            [
             0.8,
             "#7fbc41"
            ],
            [
             0.9,
             "#4d9221"
            ],
            [
             1,
             "#276419"
            ]
           ],
           "sequential": [
            [
             0,
             "#0d0887"
            ],
            [
             0.1111111111111111,
             "#46039f"
            ],
            [
             0.2222222222222222,
             "#7201a8"
            ],
            [
             0.3333333333333333,
             "#9c179e"
            ],
            [
             0.4444444444444444,
             "#bd3786"
            ],
            [
             0.5555555555555556,
             "#d8576b"
            ],
            [
             0.6666666666666666,
             "#ed7953"
            ],
            [
             0.7777777777777778,
             "#fb9f3a"
            ],
            [
             0.8888888888888888,
             "#fdca26"
            ],
            [
             1,
             "#f0f921"
            ]
           ],
           "sequentialminus": [
            [
             0,
             "#0d0887"
            ],
            [
             0.1111111111111111,
             "#46039f"
            ],
            [
             0.2222222222222222,
             "#7201a8"
            ],
            [
             0.3333333333333333,
             "#9c179e"
            ],
            [
             0.4444444444444444,
             "#bd3786"
            ],
            [
             0.5555555555555556,
             "#d8576b"
            ],
            [
             0.6666666666666666,
             "#ed7953"
            ],
            [
             0.7777777777777778,
             "#fb9f3a"
            ],
            [
             0.8888888888888888,
             "#fdca26"
            ],
            [
             1,
             "#f0f921"
            ]
           ]
          },
          "colorway": [
           "#636efa",
           "#EF553B",
           "#00cc96",
           "#ab63fa",
           "#FFA15A",
           "#19d3f3",
           "#FF6692",
           "#B6E880",
           "#FF97FF",
           "#FECB52"
          ],
          "font": {
           "color": "#2a3f5f"
          },
          "geo": {
           "bgcolor": "white",
           "lakecolor": "white",
           "landcolor": "#E5ECF6",
           "showlakes": true,
           "showland": true,
           "subunitcolor": "white"
          },
          "hoverlabel": {
           "align": "left"
          },
          "hovermode": "closest",
          "mapbox": {
           "style": "light"
          },
          "paper_bgcolor": "white",
          "plot_bgcolor": "#E5ECF6",
          "polar": {
           "angularaxis": {
            "gridcolor": "white",
            "linecolor": "white",
            "ticks": ""
           },
           "bgcolor": "#E5ECF6",
           "radialaxis": {
            "gridcolor": "white",
            "linecolor": "white",
            "ticks": ""
           }
          },
          "scene": {
           "xaxis": {
            "backgroundcolor": "#E5ECF6",
            "gridcolor": "white",
            "gridwidth": 2,
            "linecolor": "white",
            "showbackground": true,
            "ticks": "",
            "zerolinecolor": "white"
           },
           "yaxis": {
            "backgroundcolor": "#E5ECF6",
            "gridcolor": "white",
            "gridwidth": 2,
            "linecolor": "white",
            "showbackground": true,
            "ticks": "",
            "zerolinecolor": "white"
           },
           "zaxis": {
            "backgroundcolor": "#E5ECF6",
            "gridcolor": "white",
            "gridwidth": 2,
            "linecolor": "white",
            "showbackground": true,
            "ticks": "",
            "zerolinecolor": "white"
           }
          },
          "shapedefaults": {
           "line": {
            "color": "#2a3f5f"
           }
          },
          "ternary": {
           "aaxis": {
            "gridcolor": "white",
            "linecolor": "white",
            "ticks": ""
           },
           "baxis": {
            "gridcolor": "white",
            "linecolor": "white",
            "ticks": ""
           },
           "bgcolor": "#E5ECF6",
           "caxis": {
            "gridcolor": "white",
            "linecolor": "white",
            "ticks": ""
           }
          },
          "title": {
           "x": 0.05
          },
          "xaxis": {
           "automargin": true,
           "gridcolor": "white",
           "linecolor": "white",
           "ticks": "",
           "title": {
            "standoff": 15
           },
           "zerolinecolor": "white",
           "zerolinewidth": 2
          },
          "yaxis": {
           "automargin": true,
           "gridcolor": "white",
           "linecolor": "white",
           "ticks": "",
           "title": {
            "standoff": 15
           },
           "zerolinecolor": "white",
           "zerolinewidth": 2
          }
         }
        },
        "title": {
         "text": "Percent of State Population tested<br>(Hover for breakdown)"
        }
       }
      },
      "text/html": [
       "<div>\n",
       "        \n",
       "        \n",
       "            <div id=\"96ab4d64-8f87-4ea4-897f-bc7b3f18636f\" class=\"plotly-graph-div\" style=\"height:525px; width:100%;\"></div>\n",
       "            <script type=\"text/javascript\">\n",
       "                require([\"plotly\"], function(Plotly) {\n",
       "                    window.PLOTLYENV=window.PLOTLYENV || {};\n",
       "                    \n",
       "                if (document.getElementById(\"96ab4d64-8f87-4ea4-897f-bc7b3f18636f\")) {\n",
       "                    Plotly.newPlot(\n",
       "                        '96ab4d64-8f87-4ea4-897f-bc7b3f18636f',\n",
       "                        [{\"autocolorscale\": false, \"colorbar\": {\"title\": {\"text\": \"Percent of state population tested (in %)\"}}, \"colorscale\": [[0.0, \"rgb(255,245,235)\"], [0.125, \"rgb(254,230,206)\"], [0.25, \"rgb(253,208,162)\"], [0.375, \"rgb(253,174,107)\"], [0.5, \"rgb(253,141,60)\"], [0.625, \"rgb(241,105,19)\"], [0.75, \"rgb(217,72,1)\"], [0.875, \"rgb(166,54,3)\"], [1.0, \"rgb(127,39,4)\"]], \"locationmode\": \"USA-states\", \"locations\": [\"FL\", \"CT\", \"ND\", \"MD\", \"LA\", \"DE\", \"GA\", \"NJ\", \"IL\", \"NV\", \"MN\", \"NC\", \"UT\", \"AZ\", \"IN\", \"RI\", \"CA\", \"WV\", \"MS\", \"VT\", \"KY\", \"NE\", \"OH\", \"DC\", \"NH\", \"IA\", \"AL\", \"CO\", \"MO\", \"OR\", \"TN\", \"WA\", \"MA\", \"SD\", \"OK\", \"ID\", \"HI\", \"KS\", \"AR\", \"NM\", \"ME\", \"TX\", \"NY\", \"WI\", \"VA\", \"SC\", \"AK\", \"PA\", \"MI\", \"MT\", \"WY\"], \"marker\": {\"line\": {\"color\": \"white\"}}, \"text\": [\"FL\\nPositive: 14747.0, Deaths: 296.0, Negative: 123415.0, Total Tested: 139569\", \"CT\\nPositive: 7781.0, Deaths: 277.0, Negative: 21255.0, Total Tested: 29036\", \"ND\\nPositive: 237.0, Deaths: 4.0, Negative: 7466.0, Total Tested: 7703\", \"MD\\nPositive: 4371.0, Deaths: 103.0, Negative: 27256.0, Total Tested: 31627\", \"LA\\nPositive: 16284.0, Deaths: 582.0, Negative: 58371.0, Total Tested: 74655\", \"DE\\nPositive: 928.0, Deaths: 16.0, Negative: 7628.0, Total Tested: 8556\", \"GA\\nPositive: 8818.0, Deaths: 329.0, Negative: 24895.0, Total Tested: 33713\", \"NJ\\nPositive: 44416.0, Deaths: 1232.0, Negative: 50558.0, Total Tested: 94974\", \"IL\\nPositive: 13549.0, Deaths: 380.0, Negative: 55183.0, Total Tested: 68732\", \"NV\\nPositive: 2087.0, Deaths: 58.0, Negative: 16552.0, Total Tested: 18639\", \"MN\\nPositive: 1069.0, Deaths: 34.0, Negative: 28191.0, Total Tested: 29260\", \"NC\\nPositive: 3221.0, Deaths: 46.0, Negative: 37861.0, Total Tested: 41082\", \"UT\\nPositive: 1738.0, Deaths: 13.0, Negative: 32909.0, Total Tested: 34647\", \"AZ\\nPositive: 2575.0, Deaths: 73.0, Negative: 30800.0, Total Tested: 33375\", \"IN\\nPositive: 5507.0, Deaths: 173.0, Negative: 23257.0, Total Tested: 28764\", \"RI\\nPositive: 1229.0, Deaths: 30.0, Negative: 7399.0, Total Tested: 8628\", \"CA\\nPositive: 15865.0, Deaths: 374.0, Negative: 115364.0, Total Tested: 145329\", \"WV\\nPositive: 412.0, Deaths: 4.0, Negative: 11647.0, Total Tested: 12059\", \"MS\\nPositive: 1915.0, Deaths: 59.0, Negative: 18632.0, Total Tested: 20547\", \"VT\\nPositive: 575.0, Deaths: 23.0, Negative: 6554.0, Total Tested: 7129\", \"KY\\nPositive: 1008.0, Deaths: 59.0, Negative: 18947.0, Total Tested: 19955\", \"NE\\nPositive: 447.0, Deaths: 10.0, Negative: 6811.0, Total Tested: 7258\", \"OH\\nPositive: 4782.0, Deaths: 167.0, Negative: 46056.0, Total Tested: 50838\", \"DC\\nPositive: 1211.0, Deaths: 22.0, Negative: 6612.0, Total Tested: 7823\", \"NH\\nPositive: 715.0, Deaths: 9.0, Negative: 8019.0, Total Tested: 8783\", \"IA\\nPositive: 1048.0, Deaths: 26.0, Negative: 11670.0, Total Tested: 12718\", \"AL\\nPositive: 2119.0, Deaths: 56.0, Negative: 12797.0, Total Tested: 14916\", \"CO\\nPositive: 5172.0, Deaths: 150.0, Negative: 21703.0, Total Tested: 26875\", \"MO\\nPositive: 3037.0, Deaths: 53.0, Negative: 28932.0, Total Tested: 31969\", \"OR\\nPositive: 1132.0, Deaths: 29.0, Negative: 20669.0, Total Tested: 21801\", \"TN\\nPositive: 4138.0, Deaths: 72.0, Negative: 48736.0, Total Tested: 52874\", \"WA\\nPositive: 8384.0, Deaths: 372.0, Negative: 83391.0, Total Tested: 91775\", \"MA\\nPositive: 15202.0, Deaths: 356.0, Negative: 66142.0, Total Tested: 81344\", \"SD\\nPositive: 320.0, Deaths: 6.0, Negative: 5948.0, Total Tested: 6270\", \"OK\\nPositive: 1472.0, Deaths: 67.0, Negative: 11821.0, Total Tested: 13293\", \"ID\\nPositive: 1170.0, Deaths: 13.0, Negative: 10076.0, Total Tested: 11246\", \"HI\\nPositive: 387.0, Deaths: 5.0, Negative: 13155.0, Total Tested: 13542\", \"KS\\nPositive: 900.0, Deaths: 27.0, Negative: 8614.0, Total Tested: 9514\", \"AR\\nPositive: 946.0, Deaths: 16.0, Negative: 12692.0, Total Tested: 13638\", \"NM\\nPositive: 686.0, Deaths: 12.0, Negative: 21139.0, Total Tested: 21825\", \"ME\\nPositive: 519.0, Deaths: 12.0, Negative: 6088.0, Total Tested: 6607\", \"TX\\nPositive: 8262.0, Deaths: 154.0, Negative: 80387.0, Total Tested: 88649\", \"NY\\nPositive: 138863.0, Deaths: 5489.0, Negative: 201195.0, Total Tested: 340058\", \"WI\\nPositive: 2578.0, Deaths: 92.0, Negative: 28512.0, Total Tested: 31090\", \"VA\\nPositive: 3333.0, Deaths: 63.0, Negative: 25312.0, Total Tested: 28645\", \"SC\\nPositive: 2417.0, Deaths: 51.0, Negative: 21263.0, Total Tested: 23680\", \"AK\\nPositive: 213.0, Deaths: 6.0, Negative: 6700.0, Total Tested: 6913\", \"PA\\nPositive: 14559.0, Deaths: 240.0, Negative: 76719.0, Total Tested: 91278\", \"MI\\nPositive: 18970.0, Deaths: 845.0, Negative: 31362.0, Total Tested: 50332\", \"MT\\nPositive: 319.0, Deaths: 6.0, Negative: 6666.0, Total Tested: 6985\", \"WY\\nPositive: 216.0, Deaths: 0.0, Negative: 3789.0, Total Tested: 4005\"], \"type\": \"choropleth\", \"z\": [0.6498310320123577, 0.8144084894147372, 1.0108101440565203, 0.5231338741051462, 1.6059003689989275, 0.8786523223286136, 0.3175252601313897, 1.069263323572227, 0.5424003385148827, 0.6051316881352763, 0.5188281788598972, 0.3917016682932746, 1.0807066093816575, 0.458528611567121, 0.4272588280327779, 0.8144532411519775, 0.3678077034541944, 0.6728800706638463, 0.690388821258613, 1.1424880887323334, 0.4466531010662598, 0.3752052307475982, 0.43491800053040863, 1.1084677413641393, 0.6459460870729148, 0.40309723714529316, 0.3042104264880889, 0.4666822719430097, 0.5208859476640704, 0.516888558959461, 0.7742371185739301, 1.2052040652442524, 1.1801808428665175, 0.7087476643542879, 0.33593877741332956, 0.6292999974819047, 0.9564423902725671, 0.32656967288798944, 0.45191801720721425, 1.0408574089732638, 0.4915147313072641, 0.30572963104656137, 1.7480501384810732, 0.5339691270008385, 0.33559763618357596, 0.4599206714531046, 0.9449862961266908, 0.7129985817047647, 0.5039823840473534, 0.653550129212989, 0.6919978782187405]}],\n",
       "                        {\"geo\": {\"lakecolor\": \"rgb(255, 255, 255)\", \"projection\": {\"type\": \"albers usa\"}, \"scope\": \"usa\", \"showlakes\": true}, \"template\": {\"data\": {\"bar\": [{\"error_x\": {\"color\": \"#2a3f5f\"}, \"error_y\": {\"color\": \"#2a3f5f\"}, \"marker\": {\"line\": {\"color\": \"#E5ECF6\", \"width\": 0.5}}, \"type\": \"bar\"}], \"barpolar\": [{\"marker\": {\"line\": {\"color\": \"#E5ECF6\", \"width\": 0.5}}, \"type\": \"barpolar\"}], \"carpet\": [{\"aaxis\": {\"endlinecolor\": \"#2a3f5f\", \"gridcolor\": \"white\", \"linecolor\": \"white\", \"minorgridcolor\": \"white\", \"startlinecolor\": \"#2a3f5f\"}, \"baxis\": {\"endlinecolor\": \"#2a3f5f\", \"gridcolor\": \"white\", \"linecolor\": \"white\", \"minorgridcolor\": \"white\", \"startlinecolor\": \"#2a3f5f\"}, \"type\": \"carpet\"}], \"choropleth\": [{\"colorbar\": {\"outlinewidth\": 0, \"ticks\": \"\"}, \"type\": \"choropleth\"}], \"contour\": [{\"colorbar\": {\"outlinewidth\": 0, \"ticks\": \"\"}, \"colorscale\": [[0.0, \"#0d0887\"], [0.1111111111111111, \"#46039f\"], [0.2222222222222222, \"#7201a8\"], [0.3333333333333333, \"#9c179e\"], [0.4444444444444444, \"#bd3786\"], [0.5555555555555556, \"#d8576b\"], [0.6666666666666666, \"#ed7953\"], [0.7777777777777778, \"#fb9f3a\"], [0.8888888888888888, \"#fdca26\"], [1.0, \"#f0f921\"]], \"type\": \"contour\"}], \"contourcarpet\": [{\"colorbar\": {\"outlinewidth\": 0, \"ticks\": \"\"}, \"type\": \"contourcarpet\"}], \"heatmap\": [{\"colorbar\": {\"outlinewidth\": 0, \"ticks\": \"\"}, \"colorscale\": [[0.0, \"#0d0887\"], [0.1111111111111111, \"#46039f\"], [0.2222222222222222, \"#7201a8\"], [0.3333333333333333, \"#9c179e\"], [0.4444444444444444, \"#bd3786\"], [0.5555555555555556, \"#d8576b\"], [0.6666666666666666, \"#ed7953\"], [0.7777777777777778, \"#fb9f3a\"], [0.8888888888888888, \"#fdca26\"], [1.0, \"#f0f921\"]], \"type\": \"heatmap\"}], \"heatmapgl\": [{\"colorbar\": {\"outlinewidth\": 0, \"ticks\": \"\"}, \"colorscale\": [[0.0, \"#0d0887\"], [0.1111111111111111, \"#46039f\"], [0.2222222222222222, \"#7201a8\"], [0.3333333333333333, \"#9c179e\"], [0.4444444444444444, \"#bd3786\"], [0.5555555555555556, \"#d8576b\"], [0.6666666666666666, \"#ed7953\"], [0.7777777777777778, \"#fb9f3a\"], [0.8888888888888888, \"#fdca26\"], [1.0, \"#f0f921\"]], \"type\": \"heatmapgl\"}], \"histogram\": [{\"marker\": {\"colorbar\": {\"outlinewidth\": 0, \"ticks\": \"\"}}, \"type\": \"histogram\"}], \"histogram2d\": [{\"colorbar\": {\"outlinewidth\": 0, \"ticks\": \"\"}, \"colorscale\": [[0.0, \"#0d0887\"], [0.1111111111111111, \"#46039f\"], [0.2222222222222222, \"#7201a8\"], [0.3333333333333333, \"#9c179e\"], [0.4444444444444444, \"#bd3786\"], [0.5555555555555556, \"#d8576b\"], [0.6666666666666666, \"#ed7953\"], [0.7777777777777778, \"#fb9f3a\"], [0.8888888888888888, \"#fdca26\"], [1.0, \"#f0f921\"]], \"type\": \"histogram2d\"}], \"histogram2dcontour\": [{\"colorbar\": {\"outlinewidth\": 0, \"ticks\": \"\"}, \"colorscale\": [[0.0, \"#0d0887\"], [0.1111111111111111, \"#46039f\"], [0.2222222222222222, \"#7201a8\"], [0.3333333333333333, \"#9c179e\"], [0.4444444444444444, \"#bd3786\"], [0.5555555555555556, \"#d8576b\"], [0.6666666666666666, \"#ed7953\"], [0.7777777777777778, \"#fb9f3a\"], [0.8888888888888888, \"#fdca26\"], [1.0, \"#f0f921\"]], \"type\": \"histogram2dcontour\"}], \"mesh3d\": [{\"colorbar\": {\"outlinewidth\": 0, \"ticks\": \"\"}, \"type\": \"mesh3d\"}], \"parcoords\": [{\"line\": {\"colorbar\": {\"outlinewidth\": 0, \"ticks\": \"\"}}, \"type\": \"parcoords\"}], \"pie\": [{\"automargin\": true, \"type\": \"pie\"}], \"scatter\": [{\"marker\": {\"colorbar\": {\"outlinewidth\": 0, \"ticks\": \"\"}}, \"type\": \"scatter\"}], \"scatter3d\": [{\"line\": {\"colorbar\": {\"outlinewidth\": 0, \"ticks\": \"\"}}, \"marker\": {\"colorbar\": {\"outlinewidth\": 0, \"ticks\": \"\"}}, \"type\": \"scatter3d\"}], \"scattercarpet\": [{\"marker\": {\"colorbar\": {\"outlinewidth\": 0, \"ticks\": \"\"}}, \"type\": \"scattercarpet\"}], \"scattergeo\": [{\"marker\": {\"colorbar\": {\"outlinewidth\": 0, \"ticks\": \"\"}}, \"type\": \"scattergeo\"}], \"scattergl\": [{\"marker\": {\"colorbar\": {\"outlinewidth\": 0, \"ticks\": \"\"}}, \"type\": \"scattergl\"}], \"scattermapbox\": [{\"marker\": {\"colorbar\": {\"outlinewidth\": 0, \"ticks\": \"\"}}, \"type\": \"scattermapbox\"}], \"scatterpolar\": [{\"marker\": {\"colorbar\": {\"outlinewidth\": 0, \"ticks\": \"\"}}, \"type\": \"scatterpolar\"}], \"scatterpolargl\": [{\"marker\": {\"colorbar\": {\"outlinewidth\": 0, \"ticks\": \"\"}}, \"type\": \"scatterpolargl\"}], \"scatterternary\": [{\"marker\": {\"colorbar\": {\"outlinewidth\": 0, \"ticks\": \"\"}}, \"type\": \"scatterternary\"}], \"surface\": [{\"colorbar\": {\"outlinewidth\": 0, \"ticks\": \"\"}, \"colorscale\": [[0.0, \"#0d0887\"], [0.1111111111111111, \"#46039f\"], [0.2222222222222222, \"#7201a8\"], [0.3333333333333333, \"#9c179e\"], [0.4444444444444444, \"#bd3786\"], [0.5555555555555556, \"#d8576b\"], [0.6666666666666666, \"#ed7953\"], [0.7777777777777778, \"#fb9f3a\"], [0.8888888888888888, \"#fdca26\"], [1.0, \"#f0f921\"]], \"type\": \"surface\"}], \"table\": [{\"cells\": {\"fill\": {\"color\": \"#EBF0F8\"}, \"line\": {\"color\": \"white\"}}, \"header\": {\"fill\": {\"color\": \"#C8D4E3\"}, \"line\": {\"color\": \"white\"}}, \"type\": \"table\"}]}, \"layout\": {\"annotationdefaults\": {\"arrowcolor\": \"#2a3f5f\", \"arrowhead\": 0, \"arrowwidth\": 1}, \"coloraxis\": {\"colorbar\": {\"outlinewidth\": 0, \"ticks\": \"\"}}, \"colorscale\": {\"diverging\": [[0, \"#8e0152\"], [0.1, \"#c51b7d\"], [0.2, \"#de77ae\"], [0.3, \"#f1b6da\"], [0.4, \"#fde0ef\"], [0.5, \"#f7f7f7\"], [0.6, \"#e6f5d0\"], [0.7, \"#b8e186\"], [0.8, \"#7fbc41\"], [0.9, \"#4d9221\"], [1, \"#276419\"]], \"sequential\": [[0.0, \"#0d0887\"], [0.1111111111111111, \"#46039f\"], [0.2222222222222222, \"#7201a8\"], [0.3333333333333333, \"#9c179e\"], [0.4444444444444444, \"#bd3786\"], [0.5555555555555556, \"#d8576b\"], [0.6666666666666666, \"#ed7953\"], [0.7777777777777778, \"#fb9f3a\"], [0.8888888888888888, \"#fdca26\"], [1.0, \"#f0f921\"]], \"sequentialminus\": [[0.0, \"#0d0887\"], [0.1111111111111111, \"#46039f\"], [0.2222222222222222, \"#7201a8\"], [0.3333333333333333, \"#9c179e\"], [0.4444444444444444, \"#bd3786\"], [0.5555555555555556, \"#d8576b\"], [0.6666666666666666, \"#ed7953\"], [0.7777777777777778, \"#fb9f3a\"], [0.8888888888888888, \"#fdca26\"], [1.0, \"#f0f921\"]]}, \"colorway\": [\"#636efa\", \"#EF553B\", \"#00cc96\", \"#ab63fa\", \"#FFA15A\", \"#19d3f3\", \"#FF6692\", \"#B6E880\", \"#FF97FF\", \"#FECB52\"], \"font\": {\"color\": \"#2a3f5f\"}, \"geo\": {\"bgcolor\": \"white\", \"lakecolor\": \"white\", \"landcolor\": \"#E5ECF6\", \"showlakes\": true, \"showland\": true, \"subunitcolor\": \"white\"}, \"hoverlabel\": {\"align\": \"left\"}, \"hovermode\": \"closest\", \"mapbox\": {\"style\": \"light\"}, \"paper_bgcolor\": \"white\", \"plot_bgcolor\": \"#E5ECF6\", \"polar\": {\"angularaxis\": {\"gridcolor\": \"white\", \"linecolor\": \"white\", \"ticks\": \"\"}, \"bgcolor\": \"#E5ECF6\", \"radialaxis\": {\"gridcolor\": \"white\", \"linecolor\": \"white\", \"ticks\": \"\"}}, \"scene\": {\"xaxis\": {\"backgroundcolor\": \"#E5ECF6\", \"gridcolor\": \"white\", \"gridwidth\": 2, \"linecolor\": \"white\", \"showbackground\": true, \"ticks\": \"\", \"zerolinecolor\": \"white\"}, \"yaxis\": {\"backgroundcolor\": \"#E5ECF6\", \"gridcolor\": \"white\", \"gridwidth\": 2, \"linecolor\": \"white\", \"showbackground\": true, \"ticks\": \"\", \"zerolinecolor\": \"white\"}, \"zaxis\": {\"backgroundcolor\": \"#E5ECF6\", \"gridcolor\": \"white\", \"gridwidth\": 2, \"linecolor\": \"white\", \"showbackground\": true, \"ticks\": \"\", \"zerolinecolor\": \"white\"}}, \"shapedefaults\": {\"line\": {\"color\": \"#2a3f5f\"}}, \"ternary\": {\"aaxis\": {\"gridcolor\": \"white\", \"linecolor\": \"white\", \"ticks\": \"\"}, \"baxis\": {\"gridcolor\": \"white\", \"linecolor\": \"white\", \"ticks\": \"\"}, \"bgcolor\": \"#E5ECF6\", \"caxis\": {\"gridcolor\": \"white\", \"linecolor\": \"white\", \"ticks\": \"\"}}, \"title\": {\"x\": 0.05}, \"xaxis\": {\"automargin\": true, \"gridcolor\": \"white\", \"linecolor\": \"white\", \"ticks\": \"\", \"title\": {\"standoff\": 15}, \"zerolinecolor\": \"white\", \"zerolinewidth\": 2}, \"yaxis\": {\"automargin\": true, \"gridcolor\": \"white\", \"linecolor\": \"white\", \"ticks\": \"\", \"title\": {\"standoff\": 15}, \"zerolinecolor\": \"white\", \"zerolinewidth\": 2}}}, \"title\": {\"text\": \"Percent of State Population tested<br>(Hover for breakdown)\"}},\n",
       "                        {\"responsive\": true}\n",
       "                    ).then(function(){\n",
       "                            \n",
       "var gd = document.getElementById('96ab4d64-8f87-4ea4-897f-bc7b3f18636f');\n",
       "var x = new MutationObserver(function (mutations, observer) {{\n",
       "        var display = window.getComputedStyle(gd).display;\n",
       "        if (!display || display === 'none') {{\n",
       "            console.log([gd, 'removed!']);\n",
       "            Plotly.purge(gd);\n",
       "            observer.disconnect();\n",
       "        }}\n",
       "}});\n",
       "\n",
       "// Listen for the removal of the full notebook cells\n",
       "var notebookContainer = gd.closest('#notebook-container');\n",
       "if (notebookContainer) {{\n",
       "    x.observe(notebookContainer, {childList: true});\n",
       "}}\n",
       "\n",
       "// Listen for the clearing of the current output cell\n",
       "var outputEl = gd.closest('.output');\n",
       "if (outputEl) {{\n",
       "    x.observe(outputEl, {childList: true});\n",
       "}}\n",
       "\n",
       "                        })\n",
       "                };\n",
       "                });\n",
       "            </script>\n",
       "        </div>"
      ]
     },
     "metadata": {},
     "output_type": "display_data"
    }
   ],
   "source": [
    "#scale = 1000\n",
    "fig = go.Figure(data=go.Choropleth(\n",
    "    locations=df2['state'],\n",
    "    z=df2['pct_pop_tested'],\n",
    "    locationmode='USA-states',\n",
    "    colorscale='Oranges',\n",
    "    autocolorscale=False,\n",
    "    text=df2['text'], # hover text\n",
    "    marker_line_color='white', # line markers between states\n",
    "    colorbar_title=\"Percent of state population tested (in %)\"\n",
    "))\n",
    "\n",
    "fig.update_layout(\n",
    "    title_text='Percent of State Population tested<br>(Hover for breakdown)',\n",
    "    geo = dict(\n",
    "        scope='usa',\n",
    "        projection=go.layout.geo.Projection(type = 'albers usa'),\n",
    "        showlakes=True, # lakes\n",
    "        lakecolor='rgb(255, 255, 255)'),\n",
    ")\n",
    "fig.show();"
   ]
  },
  {
   "cell_type": "code",
   "execution_count": 22,
   "metadata": {
    "ExecuteTime": {
     "end_time": "2020-04-08T01:15:04.418767Z",
     "start_time": "2020-04-08T01:15:03.939736Z"
    }
   },
   "outputs": [
    {
     "data": {
      "application/vnd.plotly.v1+json": {
       "config": {
        "linkText": "Export to plot.ly",
        "plotlyServerURL": "https://plot.ly",
        "showLink": false
       },
       "data": [
        {
         "autocolorscale": false,
         "colorbar": {
          "title": {
           "text": "Number of Unemp. Ins. Claims since Stay-at-home Orders"
          }
         },
         "colorscale": [
          [
           0,
           "rgb(255,245,235)"
          ],
          [
           0.125,
           "rgb(254,230,206)"
          ],
          [
           0.25,
           "rgb(253,208,162)"
          ],
          [
           0.375,
           "rgb(253,174,107)"
          ],
          [
           0.5,
           "rgb(253,141,60)"
          ],
          [
           0.625,
           "rgb(241,105,19)"
          ],
          [
           0.75,
           "rgb(217,72,1)"
          ],
          [
           0.875,
           "rgb(166,54,3)"
          ],
          [
           1,
           "rgb(127,39,4)"
          ]
         ],
         "locationmode": "USA-states",
         "locations": [
          "FL",
          "CT",
          "ND",
          "MD",
          "LA",
          "DE",
          "GA",
          "NJ",
          "IL",
          "NV",
          "MN",
          "NC",
          "UT",
          "AZ",
          "IN",
          "RI",
          "CA",
          "WV",
          "MS",
          "VT",
          "KY",
          "NE",
          "OH",
          "DC",
          "NH",
          "IA",
          "AL",
          "CO",
          "MO",
          "OR",
          "TN",
          "WA",
          "MA",
          "SD",
          "OK",
          "ID",
          "HI",
          "KS",
          "AR",
          "NM",
          "ME",
          "TX",
          "NY",
          "WI",
          "VA",
          "SC",
          "AK",
          "PA",
          "MI",
          "MT",
          "WY"
         ],
         "marker": {
          "line": {
           "color": "white"
          }
         },
         "text": [
          "FL\nPositive: 14747.0, Deaths: 296.0, Negative: 123415.0, Total Tested: 139569",
          "CT\nPositive: 7781.0, Deaths: 277.0, Negative: 21255.0, Total Tested: 29036",
          "ND\nPositive: 237.0, Deaths: 4.0, Negative: 7466.0, Total Tested: 7703",
          "MD\nPositive: 4371.0, Deaths: 103.0, Negative: 27256.0, Total Tested: 31627",
          "LA\nPositive: 16284.0, Deaths: 582.0, Negative: 58371.0, Total Tested: 74655",
          "DE\nPositive: 928.0, Deaths: 16.0, Negative: 7628.0, Total Tested: 8556",
          "GA\nPositive: 8818.0, Deaths: 329.0, Negative: 24895.0, Total Tested: 33713",
          "NJ\nPositive: 44416.0, Deaths: 1232.0, Negative: 50558.0, Total Tested: 94974",
          "IL\nPositive: 13549.0, Deaths: 380.0, Negative: 55183.0, Total Tested: 68732",
          "NV\nPositive: 2087.0, Deaths: 58.0, Negative: 16552.0, Total Tested: 18639",
          "MN\nPositive: 1069.0, Deaths: 34.0, Negative: 28191.0, Total Tested: 29260",
          "NC\nPositive: 3221.0, Deaths: 46.0, Negative: 37861.0, Total Tested: 41082",
          "UT\nPositive: 1738.0, Deaths: 13.0, Negative: 32909.0, Total Tested: 34647",
          "AZ\nPositive: 2575.0, Deaths: 73.0, Negative: 30800.0, Total Tested: 33375",
          "IN\nPositive: 5507.0, Deaths: 173.0, Negative: 23257.0, Total Tested: 28764",
          "RI\nPositive: 1229.0, Deaths: 30.0, Negative: 7399.0, Total Tested: 8628",
          "CA\nPositive: 15865.0, Deaths: 374.0, Negative: 115364.0, Total Tested: 145329",
          "WV\nPositive: 412.0, Deaths: 4.0, Negative: 11647.0, Total Tested: 12059",
          "MS\nPositive: 1915.0, Deaths: 59.0, Negative: 18632.0, Total Tested: 20547",
          "VT\nPositive: 575.0, Deaths: 23.0, Negative: 6554.0, Total Tested: 7129",
          "KY\nPositive: 1008.0, Deaths: 59.0, Negative: 18947.0, Total Tested: 19955",
          "NE\nPositive: 447.0, Deaths: 10.0, Negative: 6811.0, Total Tested: 7258",
          "OH\nPositive: 4782.0, Deaths: 167.0, Negative: 46056.0, Total Tested: 50838",
          "DC\nPositive: 1211.0, Deaths: 22.0, Negative: 6612.0, Total Tested: 7823",
          "NH\nPositive: 715.0, Deaths: 9.0, Negative: 8019.0, Total Tested: 8783",
          "IA\nPositive: 1048.0, Deaths: 26.0, Negative: 11670.0, Total Tested: 12718",
          "AL\nPositive: 2119.0, Deaths: 56.0, Negative: 12797.0, Total Tested: 14916",
          "CO\nPositive: 5172.0, Deaths: 150.0, Negative: 21703.0, Total Tested: 26875",
          "MO\nPositive: 3037.0, Deaths: 53.0, Negative: 28932.0, Total Tested: 31969",
          "OR\nPositive: 1132.0, Deaths: 29.0, Negative: 20669.0, Total Tested: 21801",
          "TN\nPositive: 4138.0, Deaths: 72.0, Negative: 48736.0, Total Tested: 52874",
          "WA\nPositive: 8384.0, Deaths: 372.0, Negative: 83391.0, Total Tested: 91775",
          "MA\nPositive: 15202.0, Deaths: 356.0, Negative: 66142.0, Total Tested: 81344",
          "SD\nPositive: 320.0, Deaths: 6.0, Negative: 5948.0, Total Tested: 6270",
          "OK\nPositive: 1472.0, Deaths: 67.0, Negative: 11821.0, Total Tested: 13293",
          "ID\nPositive: 1170.0, Deaths: 13.0, Negative: 10076.0, Total Tested: 11246",
          "HI\nPositive: 387.0, Deaths: 5.0, Negative: 13155.0, Total Tested: 13542",
          "KS\nPositive: 900.0, Deaths: 27.0, Negative: 8614.0, Total Tested: 9514",
          "AR\nPositive: 946.0, Deaths: 16.0, Negative: 12692.0, Total Tested: 13638",
          "NM\nPositive: 686.0, Deaths: 12.0, Negative: 21139.0, Total Tested: 21825",
          "ME\nPositive: 519.0, Deaths: 12.0, Negative: 6088.0, Total Tested: 6607",
          "TX\nPositive: 8262.0, Deaths: 154.0, Negative: 80387.0, Total Tested: 88649",
          "NY\nPositive: 138863.0, Deaths: 5489.0, Negative: 201195.0, Total Tested: 340058",
          "WI\nPositive: 2578.0, Deaths: 92.0, Negative: 28512.0, Total Tested: 31090",
          "VA\nPositive: 3333.0, Deaths: 63.0, Negative: 25312.0, Total Tested: 28645",
          "SC\nPositive: 2417.0, Deaths: 51.0, Negative: 21263.0, Total Tested: 23680",
          "AK\nPositive: 213.0, Deaths: 6.0, Negative: 6700.0, Total Tested: 6913",
          "PA\nPositive: 14559.0, Deaths: 240.0, Negative: 76719.0, Total Tested: 91278",
          "MI\nPositive: 18970.0, Deaths: 845.0, Negative: 31362.0, Total Tested: 50332",
          "MT\nPositive: 319.0, Deaths: 6.0, Negative: 6666.0, Total Tested: 6985",
          "WY\nPositive: 216.0, Deaths: 0.0, Negative: 3789.0, Total Tested: 4005"
         ],
         "type": "choropleth",
         "z": [
          0,
          0,
          0,
          0,
          0,
          0,
          0,
          115815,
          114114,
          0,
          0,
          0,
          0,
          0,
          0,
          0,
          186333,
          0,
          0,
          0,
          0,
          0,
          0,
          0,
          0,
          0,
          0,
          0,
          0,
          0,
          0,
          0,
          0,
          0,
          0,
          0,
          0,
          0,
          0,
          0,
          0,
          0,
          79999,
          0,
          0,
          0,
          0,
          0,
          0,
          0,
          0
         ]
        }
       ],
       "layout": {
        "geo": {
         "lakecolor": "rgb(255, 255, 255)",
         "projection": {
          "type": "albers usa"
         },
         "scope": "usa",
         "showlakes": true
        },
        "template": {
         "data": {
          "bar": [
           {
            "error_x": {
             "color": "#2a3f5f"
            },
            "error_y": {
             "color": "#2a3f5f"
            },
            "marker": {
             "line": {
              "color": "#E5ECF6",
              "width": 0.5
             }
            },
            "type": "bar"
           }
          ],
          "barpolar": [
           {
            "marker": {
             "line": {
              "color": "#E5ECF6",
              "width": 0.5
             }
            },
            "type": "barpolar"
           }
          ],
          "carpet": [
           {
            "aaxis": {
             "endlinecolor": "#2a3f5f",
             "gridcolor": "white",
             "linecolor": "white",
             "minorgridcolor": "white",
             "startlinecolor": "#2a3f5f"
            },
            "baxis": {
             "endlinecolor": "#2a3f5f",
             "gridcolor": "white",
             "linecolor": "white",
             "minorgridcolor": "white",
             "startlinecolor": "#2a3f5f"
            },
            "type": "carpet"
           }
          ],
          "choropleth": [
           {
            "colorbar": {
             "outlinewidth": 0,
             "ticks": ""
            },
            "type": "choropleth"
           }
          ],
          "contour": [
           {
            "colorbar": {
             "outlinewidth": 0,
             "ticks": ""
            },
            "colorscale": [
             [
              0,
              "#0d0887"
             ],
             [
              0.1111111111111111,
              "#46039f"
             ],
             [
              0.2222222222222222,
              "#7201a8"
             ],
             [
              0.3333333333333333,
              "#9c179e"
             ],
             [
              0.4444444444444444,
              "#bd3786"
             ],
             [
              0.5555555555555556,
              "#d8576b"
             ],
             [
              0.6666666666666666,
              "#ed7953"
             ],
             [
              0.7777777777777778,
              "#fb9f3a"
             ],
             [
              0.8888888888888888,
              "#fdca26"
             ],
             [
              1,
              "#f0f921"
             ]
            ],
            "type": "contour"
           }
          ],
          "contourcarpet": [
           {
            "colorbar": {
             "outlinewidth": 0,
             "ticks": ""
            },
            "type": "contourcarpet"
           }
          ],
          "heatmap": [
           {
            "colorbar": {
             "outlinewidth": 0,
             "ticks": ""
            },
            "colorscale": [
             [
              0,
              "#0d0887"
             ],
             [
              0.1111111111111111,
              "#46039f"
             ],
             [
              0.2222222222222222,
              "#7201a8"
             ],
             [
              0.3333333333333333,
              "#9c179e"
             ],
             [
              0.4444444444444444,
              "#bd3786"
             ],
             [
              0.5555555555555556,
              "#d8576b"
             ],
             [
              0.6666666666666666,
              "#ed7953"
             ],
             [
              0.7777777777777778,
              "#fb9f3a"
             ],
             [
              0.8888888888888888,
              "#fdca26"
             ],
             [
              1,
              "#f0f921"
             ]
            ],
            "type": "heatmap"
           }
          ],
          "heatmapgl": [
           {
            "colorbar": {
             "outlinewidth": 0,
             "ticks": ""
            },
            "colorscale": [
             [
              0,
              "#0d0887"
             ],
             [
              0.1111111111111111,
              "#46039f"
             ],
             [
              0.2222222222222222,
              "#7201a8"
             ],
             [
              0.3333333333333333,
              "#9c179e"
             ],
             [
              0.4444444444444444,
              "#bd3786"
             ],
             [
              0.5555555555555556,
              "#d8576b"
             ],
             [
              0.6666666666666666,
              "#ed7953"
             ],
             [
              0.7777777777777778,
              "#fb9f3a"
             ],
             [
              0.8888888888888888,
              "#fdca26"
             ],
             [
              1,
              "#f0f921"
             ]
            ],
            "type": "heatmapgl"
           }
          ],
          "histogram": [
           {
            "marker": {
             "colorbar": {
              "outlinewidth": 0,
              "ticks": ""
             }
            },
            "type": "histogram"
           }
          ],
          "histogram2d": [
           {
            "colorbar": {
             "outlinewidth": 0,
             "ticks": ""
            },
            "colorscale": [
             [
              0,
              "#0d0887"
             ],
             [
              0.1111111111111111,
              "#46039f"
             ],
             [
              0.2222222222222222,
              "#7201a8"
             ],
             [
              0.3333333333333333,
              "#9c179e"
             ],
             [
              0.4444444444444444,
              "#bd3786"
             ],
             [
              0.5555555555555556,
              "#d8576b"
             ],
             [
              0.6666666666666666,
              "#ed7953"
             ],
             [
              0.7777777777777778,
              "#fb9f3a"
             ],
             [
              0.8888888888888888,
              "#fdca26"
             ],
             [
              1,
              "#f0f921"
             ]
            ],
            "type": "histogram2d"
           }
          ],
          "histogram2dcontour": [
           {
            "colorbar": {
             "outlinewidth": 0,
             "ticks": ""
            },
            "colorscale": [
             [
              0,
              "#0d0887"
             ],
             [
              0.1111111111111111,
              "#46039f"
             ],
             [
              0.2222222222222222,
              "#7201a8"
             ],
             [
              0.3333333333333333,
              "#9c179e"
             ],
             [
              0.4444444444444444,
              "#bd3786"
             ],
             [
              0.5555555555555556,
              "#d8576b"
             ],
             [
              0.6666666666666666,
              "#ed7953"
             ],
             [
              0.7777777777777778,
              "#fb9f3a"
             ],
             [
              0.8888888888888888,
              "#fdca26"
             ],
             [
              1,
              "#f0f921"
             ]
            ],
            "type": "histogram2dcontour"
           }
          ],
          "mesh3d": [
           {
            "colorbar": {
             "outlinewidth": 0,
             "ticks": ""
            },
            "type": "mesh3d"
           }
          ],
          "parcoords": [
           {
            "line": {
             "colorbar": {
              "outlinewidth": 0,
              "ticks": ""
             }
            },
            "type": "parcoords"
           }
          ],
          "pie": [
           {
            "automargin": true,
            "type": "pie"
           }
          ],
          "scatter": [
           {
            "marker": {
             "colorbar": {
              "outlinewidth": 0,
              "ticks": ""
             }
            },
            "type": "scatter"
           }
          ],
          "scatter3d": [
           {
            "line": {
             "colorbar": {
              "outlinewidth": 0,
              "ticks": ""
             }
            },
            "marker": {
             "colorbar": {
              "outlinewidth": 0,
              "ticks": ""
             }
            },
            "type": "scatter3d"
           }
          ],
          "scattercarpet": [
           {
            "marker": {
             "colorbar": {
              "outlinewidth": 0,
              "ticks": ""
             }
            },
            "type": "scattercarpet"
           }
          ],
          "scattergeo": [
           {
            "marker": {
             "colorbar": {
              "outlinewidth": 0,
              "ticks": ""
             }
            },
            "type": "scattergeo"
           }
          ],
          "scattergl": [
           {
            "marker": {
             "colorbar": {
              "outlinewidth": 0,
              "ticks": ""
             }
            },
            "type": "scattergl"
           }
          ],
          "scattermapbox": [
           {
            "marker": {
             "colorbar": {
              "outlinewidth": 0,
              "ticks": ""
             }
            },
            "type": "scattermapbox"
           }
          ],
          "scatterpolar": [
           {
            "marker": {
             "colorbar": {
              "outlinewidth": 0,
              "ticks": ""
             }
            },
            "type": "scatterpolar"
           }
          ],
          "scatterpolargl": [
           {
            "marker": {
             "colorbar": {
              "outlinewidth": 0,
              "ticks": ""
             }
            },
            "type": "scatterpolargl"
           }
          ],
          "scatterternary": [
           {
            "marker": {
             "colorbar": {
              "outlinewidth": 0,
              "ticks": ""
             }
            },
            "type": "scatterternary"
           }
          ],
          "surface": [
           {
            "colorbar": {
             "outlinewidth": 0,
             "ticks": ""
            },
            "colorscale": [
             [
              0,
              "#0d0887"
             ],
             [
              0.1111111111111111,
              "#46039f"
             ],
             [
              0.2222222222222222,
              "#7201a8"
             ],
             [
              0.3333333333333333,
              "#9c179e"
             ],
             [
              0.4444444444444444,
              "#bd3786"
             ],
             [
              0.5555555555555556,
              "#d8576b"
             ],
             [
              0.6666666666666666,
              "#ed7953"
             ],
             [
              0.7777777777777778,
              "#fb9f3a"
             ],
             [
              0.8888888888888888,
              "#fdca26"
             ],
             [
              1,
              "#f0f921"
             ]
            ],
            "type": "surface"
           }
          ],
          "table": [
           {
            "cells": {
             "fill": {
              "color": "#EBF0F8"
             },
             "line": {
              "color": "white"
             }
            },
            "header": {
             "fill": {
              "color": "#C8D4E3"
             },
             "line": {
              "color": "white"
             }
            },
            "type": "table"
           }
          ]
         },
         "layout": {
          "annotationdefaults": {
           "arrowcolor": "#2a3f5f",
           "arrowhead": 0,
           "arrowwidth": 1
          },
          "coloraxis": {
           "colorbar": {
            "outlinewidth": 0,
            "ticks": ""
           }
          },
          "colorscale": {
           "diverging": [
            [
             0,
             "#8e0152"
            ],
            [
             0.1,
             "#c51b7d"
            ],
            [
             0.2,
             "#de77ae"
            ],
            [
             0.3,
             "#f1b6da"
            ],
            [
             0.4,
             "#fde0ef"
            ],
            [
             0.5,
             "#f7f7f7"
            ],
            [
             0.6,
             "#e6f5d0"
            ],
            [
             0.7,
             "#b8e186"
            ],
            [
             0.8,
             "#7fbc41"
            ],
            [
             0.9,
             "#4d9221"
            ],
            [
             1,
             "#276419"
            ]
           ],
           "sequential": [
            [
             0,
             "#0d0887"
            ],
            [
             0.1111111111111111,
             "#46039f"
            ],
            [
             0.2222222222222222,
             "#7201a8"
            ],
            [
             0.3333333333333333,
             "#9c179e"
            ],
            [
             0.4444444444444444,
             "#bd3786"
            ],
            [
             0.5555555555555556,
             "#d8576b"
            ],
            [
             0.6666666666666666,
             "#ed7953"
            ],
            [
             0.7777777777777778,
             "#fb9f3a"
            ],
            [
             0.8888888888888888,
             "#fdca26"
            ],
            [
             1,
             "#f0f921"
            ]
           ],
           "sequentialminus": [
            [
             0,
             "#0d0887"
            ],
            [
             0.1111111111111111,
             "#46039f"
            ],
            [
             0.2222222222222222,
             "#7201a8"
            ],
            [
             0.3333333333333333,
             "#9c179e"
            ],
            [
             0.4444444444444444,
             "#bd3786"
            ],
            [
             0.5555555555555556,
             "#d8576b"
            ],
            [
             0.6666666666666666,
             "#ed7953"
            ],
            [
             0.7777777777777778,
             "#fb9f3a"
            ],
            [
             0.8888888888888888,
             "#fdca26"
            ],
            [
             1,
             "#f0f921"
            ]
           ]
          },
          "colorway": [
           "#636efa",
           "#EF553B",
           "#00cc96",
           "#ab63fa",
           "#FFA15A",
           "#19d3f3",
           "#FF6692",
           "#B6E880",
           "#FF97FF",
           "#FECB52"
          ],
          "font": {
           "color": "#2a3f5f"
          },
          "geo": {
           "bgcolor": "white",
           "lakecolor": "white",
           "landcolor": "#E5ECF6",
           "showlakes": true,
           "showland": true,
           "subunitcolor": "white"
          },
          "hoverlabel": {
           "align": "left"
          },
          "hovermode": "closest",
          "mapbox": {
           "style": "light"
          },
          "paper_bgcolor": "white",
          "plot_bgcolor": "#E5ECF6",
          "polar": {
           "angularaxis": {
            "gridcolor": "white",
            "linecolor": "white",
            "ticks": ""
           },
           "bgcolor": "#E5ECF6",
           "radialaxis": {
            "gridcolor": "white",
            "linecolor": "white",
            "ticks": ""
           }
          },
          "scene": {
           "xaxis": {
            "backgroundcolor": "#E5ECF6",
            "gridcolor": "white",
            "gridwidth": 2,
            "linecolor": "white",
            "showbackground": true,
            "ticks": "",
            "zerolinecolor": "white"
           },
           "yaxis": {
            "backgroundcolor": "#E5ECF6",
            "gridcolor": "white",
            "gridwidth": 2,
            "linecolor": "white",
            "showbackground": true,
            "ticks": "",
            "zerolinecolor": "white"
           },
           "zaxis": {
            "backgroundcolor": "#E5ECF6",
            "gridcolor": "white",
            "gridwidth": 2,
            "linecolor": "white",
            "showbackground": true,
            "ticks": "",
            "zerolinecolor": "white"
           }
          },
          "shapedefaults": {
           "line": {
            "color": "#2a3f5f"
           }
          },
          "ternary": {
           "aaxis": {
            "gridcolor": "white",
            "linecolor": "white",
            "ticks": ""
           },
           "baxis": {
            "gridcolor": "white",
            "linecolor": "white",
            "ticks": ""
           },
           "bgcolor": "#E5ECF6",
           "caxis": {
            "gridcolor": "white",
            "linecolor": "white",
            "ticks": ""
           }
          },
          "title": {
           "x": 0.05
          },
          "xaxis": {
           "automargin": true,
           "gridcolor": "white",
           "linecolor": "white",
           "ticks": "",
           "title": {
            "standoff": 15
           },
           "zerolinecolor": "white",
           "zerolinewidth": 2
          },
          "yaxis": {
           "automargin": true,
           "gridcolor": "white",
           "linecolor": "white",
           "ticks": "",
           "title": {
            "standoff": 15
           },
           "zerolinecolor": "white",
           "zerolinewidth": 2
          }
         }
        },
        "title": {
         "text": "Number of Unemp. Ins. Claims since Stay-at-home Orders, by State<br>(Hover for breakdown)"
        }
       }
      },
      "text/html": [
       "<div>\n",
       "        \n",
       "        \n",
       "            <div id=\"f7e24939-05d6-490f-8ffd-60a8a7d102f8\" class=\"plotly-graph-div\" style=\"height:525px; width:100%;\"></div>\n",
       "            <script type=\"text/javascript\">\n",
       "                require([\"plotly\"], function(Plotly) {\n",
       "                    window.PLOTLYENV=window.PLOTLYENV || {};\n",
       "                    \n",
       "                if (document.getElementById(\"f7e24939-05d6-490f-8ffd-60a8a7d102f8\")) {\n",
       "                    Plotly.newPlot(\n",
       "                        'f7e24939-05d6-490f-8ffd-60a8a7d102f8',\n",
       "                        [{\"autocolorscale\": false, \"colorbar\": {\"title\": {\"text\": \"Number of Unemp. Ins. Claims since Stay-at-home Orders\"}}, \"colorscale\": [[0.0, \"rgb(255,245,235)\"], [0.125, \"rgb(254,230,206)\"], [0.25, \"rgb(253,208,162)\"], [0.375, \"rgb(253,174,107)\"], [0.5, \"rgb(253,141,60)\"], [0.625, \"rgb(241,105,19)\"], [0.75, \"rgb(217,72,1)\"], [0.875, \"rgb(166,54,3)\"], [1.0, \"rgb(127,39,4)\"]], \"locationmode\": \"USA-states\", \"locations\": [\"FL\", \"CT\", \"ND\", \"MD\", \"LA\", \"DE\", \"GA\", \"NJ\", \"IL\", \"NV\", \"MN\", \"NC\", \"UT\", \"AZ\", \"IN\", \"RI\", \"CA\", \"WV\", \"MS\", \"VT\", \"KY\", \"NE\", \"OH\", \"DC\", \"NH\", \"IA\", \"AL\", \"CO\", \"MO\", \"OR\", \"TN\", \"WA\", \"MA\", \"SD\", \"OK\", \"ID\", \"HI\", \"KS\", \"AR\", \"NM\", \"ME\", \"TX\", \"NY\", \"WI\", \"VA\", \"SC\", \"AK\", \"PA\", \"MI\", \"MT\", \"WY\"], \"marker\": {\"line\": {\"color\": \"white\"}}, \"text\": [\"FL\\nPositive: 14747.0, Deaths: 296.0, Negative: 123415.0, Total Tested: 139569\", \"CT\\nPositive: 7781.0, Deaths: 277.0, Negative: 21255.0, Total Tested: 29036\", \"ND\\nPositive: 237.0, Deaths: 4.0, Negative: 7466.0, Total Tested: 7703\", \"MD\\nPositive: 4371.0, Deaths: 103.0, Negative: 27256.0, Total Tested: 31627\", \"LA\\nPositive: 16284.0, Deaths: 582.0, Negative: 58371.0, Total Tested: 74655\", \"DE\\nPositive: 928.0, Deaths: 16.0, Negative: 7628.0, Total Tested: 8556\", \"GA\\nPositive: 8818.0, Deaths: 329.0, Negative: 24895.0, Total Tested: 33713\", \"NJ\\nPositive: 44416.0, Deaths: 1232.0, Negative: 50558.0, Total Tested: 94974\", \"IL\\nPositive: 13549.0, Deaths: 380.0, Negative: 55183.0, Total Tested: 68732\", \"NV\\nPositive: 2087.0, Deaths: 58.0, Negative: 16552.0, Total Tested: 18639\", \"MN\\nPositive: 1069.0, Deaths: 34.0, Negative: 28191.0, Total Tested: 29260\", \"NC\\nPositive: 3221.0, Deaths: 46.0, Negative: 37861.0, Total Tested: 41082\", \"UT\\nPositive: 1738.0, Deaths: 13.0, Negative: 32909.0, Total Tested: 34647\", \"AZ\\nPositive: 2575.0, Deaths: 73.0, Negative: 30800.0, Total Tested: 33375\", \"IN\\nPositive: 5507.0, Deaths: 173.0, Negative: 23257.0, Total Tested: 28764\", \"RI\\nPositive: 1229.0, Deaths: 30.0, Negative: 7399.0, Total Tested: 8628\", \"CA\\nPositive: 15865.0, Deaths: 374.0, Negative: 115364.0, Total Tested: 145329\", \"WV\\nPositive: 412.0, Deaths: 4.0, Negative: 11647.0, Total Tested: 12059\", \"MS\\nPositive: 1915.0, Deaths: 59.0, Negative: 18632.0, Total Tested: 20547\", \"VT\\nPositive: 575.0, Deaths: 23.0, Negative: 6554.0, Total Tested: 7129\", \"KY\\nPositive: 1008.0, Deaths: 59.0, Negative: 18947.0, Total Tested: 19955\", \"NE\\nPositive: 447.0, Deaths: 10.0, Negative: 6811.0, Total Tested: 7258\", \"OH\\nPositive: 4782.0, Deaths: 167.0, Negative: 46056.0, Total Tested: 50838\", \"DC\\nPositive: 1211.0, Deaths: 22.0, Negative: 6612.0, Total Tested: 7823\", \"NH\\nPositive: 715.0, Deaths: 9.0, Negative: 8019.0, Total Tested: 8783\", \"IA\\nPositive: 1048.0, Deaths: 26.0, Negative: 11670.0, Total Tested: 12718\", \"AL\\nPositive: 2119.0, Deaths: 56.0, Negative: 12797.0, Total Tested: 14916\", \"CO\\nPositive: 5172.0, Deaths: 150.0, Negative: 21703.0, Total Tested: 26875\", \"MO\\nPositive: 3037.0, Deaths: 53.0, Negative: 28932.0, Total Tested: 31969\", \"OR\\nPositive: 1132.0, Deaths: 29.0, Negative: 20669.0, Total Tested: 21801\", \"TN\\nPositive: 4138.0, Deaths: 72.0, Negative: 48736.0, Total Tested: 52874\", \"WA\\nPositive: 8384.0, Deaths: 372.0, Negative: 83391.0, Total Tested: 91775\", \"MA\\nPositive: 15202.0, Deaths: 356.0, Negative: 66142.0, Total Tested: 81344\", \"SD\\nPositive: 320.0, Deaths: 6.0, Negative: 5948.0, Total Tested: 6270\", \"OK\\nPositive: 1472.0, Deaths: 67.0, Negative: 11821.0, Total Tested: 13293\", \"ID\\nPositive: 1170.0, Deaths: 13.0, Negative: 10076.0, Total Tested: 11246\", \"HI\\nPositive: 387.0, Deaths: 5.0, Negative: 13155.0, Total Tested: 13542\", \"KS\\nPositive: 900.0, Deaths: 27.0, Negative: 8614.0, Total Tested: 9514\", \"AR\\nPositive: 946.0, Deaths: 16.0, Negative: 12692.0, Total Tested: 13638\", \"NM\\nPositive: 686.0, Deaths: 12.0, Negative: 21139.0, Total Tested: 21825\", \"ME\\nPositive: 519.0, Deaths: 12.0, Negative: 6088.0, Total Tested: 6607\", \"TX\\nPositive: 8262.0, Deaths: 154.0, Negative: 80387.0, Total Tested: 88649\", \"NY\\nPositive: 138863.0, Deaths: 5489.0, Negative: 201195.0, Total Tested: 340058\", \"WI\\nPositive: 2578.0, Deaths: 92.0, Negative: 28512.0, Total Tested: 31090\", \"VA\\nPositive: 3333.0, Deaths: 63.0, Negative: 25312.0, Total Tested: 28645\", \"SC\\nPositive: 2417.0, Deaths: 51.0, Negative: 21263.0, Total Tested: 23680\", \"AK\\nPositive: 213.0, Deaths: 6.0, Negative: 6700.0, Total Tested: 6913\", \"PA\\nPositive: 14559.0, Deaths: 240.0, Negative: 76719.0, Total Tested: 91278\", \"MI\\nPositive: 18970.0, Deaths: 845.0, Negative: 31362.0, Total Tested: 50332\", \"MT\\nPositive: 319.0, Deaths: 6.0, Negative: 6666.0, Total Tested: 6985\", \"WY\\nPositive: 216.0, Deaths: 0.0, Negative: 3789.0, Total Tested: 4005\"], \"type\": \"choropleth\", \"z\": [0.0, 0.0, 0.0, 0.0, 0.0, 0.0, 0.0, 115815.0, 114114.0, 0.0, 0.0, 0.0, 0.0, 0.0, 0.0, 0.0, 186333.0, 0.0, 0.0, 0.0, 0.0, 0.0, 0.0, 0.0, 0.0, 0.0, 0.0, 0.0, 0.0, 0.0, 0.0, 0.0, 0.0, 0.0, 0.0, 0.0, 0.0, 0.0, 0.0, 0.0, 0.0, 0.0, 79999.0, 0.0, 0.0, 0.0, 0.0, 0.0, 0.0, 0.0, 0.0]}],\n",
       "                        {\"geo\": {\"lakecolor\": \"rgb(255, 255, 255)\", \"projection\": {\"type\": \"albers usa\"}, \"scope\": \"usa\", \"showlakes\": true}, \"template\": {\"data\": {\"bar\": [{\"error_x\": {\"color\": \"#2a3f5f\"}, \"error_y\": {\"color\": \"#2a3f5f\"}, \"marker\": {\"line\": {\"color\": \"#E5ECF6\", \"width\": 0.5}}, \"type\": \"bar\"}], \"barpolar\": [{\"marker\": {\"line\": {\"color\": \"#E5ECF6\", \"width\": 0.5}}, \"type\": \"barpolar\"}], \"carpet\": [{\"aaxis\": {\"endlinecolor\": \"#2a3f5f\", \"gridcolor\": \"white\", \"linecolor\": \"white\", \"minorgridcolor\": \"white\", \"startlinecolor\": \"#2a3f5f\"}, \"baxis\": {\"endlinecolor\": \"#2a3f5f\", \"gridcolor\": \"white\", \"linecolor\": \"white\", \"minorgridcolor\": \"white\", \"startlinecolor\": \"#2a3f5f\"}, \"type\": \"carpet\"}], \"choropleth\": [{\"colorbar\": {\"outlinewidth\": 0, \"ticks\": \"\"}, \"type\": \"choropleth\"}], \"contour\": [{\"colorbar\": {\"outlinewidth\": 0, \"ticks\": \"\"}, \"colorscale\": [[0.0, \"#0d0887\"], [0.1111111111111111, \"#46039f\"], [0.2222222222222222, \"#7201a8\"], [0.3333333333333333, \"#9c179e\"], [0.4444444444444444, \"#bd3786\"], [0.5555555555555556, \"#d8576b\"], [0.6666666666666666, \"#ed7953\"], [0.7777777777777778, \"#fb9f3a\"], [0.8888888888888888, \"#fdca26\"], [1.0, \"#f0f921\"]], \"type\": \"contour\"}], \"contourcarpet\": [{\"colorbar\": {\"outlinewidth\": 0, \"ticks\": \"\"}, \"type\": \"contourcarpet\"}], \"heatmap\": [{\"colorbar\": {\"outlinewidth\": 0, \"ticks\": \"\"}, \"colorscale\": [[0.0, \"#0d0887\"], [0.1111111111111111, \"#46039f\"], [0.2222222222222222, \"#7201a8\"], [0.3333333333333333, \"#9c179e\"], [0.4444444444444444, \"#bd3786\"], [0.5555555555555556, \"#d8576b\"], [0.6666666666666666, \"#ed7953\"], [0.7777777777777778, \"#fb9f3a\"], [0.8888888888888888, \"#fdca26\"], [1.0, \"#f0f921\"]], \"type\": \"heatmap\"}], \"heatmapgl\": [{\"colorbar\": {\"outlinewidth\": 0, \"ticks\": \"\"}, \"colorscale\": [[0.0, \"#0d0887\"], [0.1111111111111111, \"#46039f\"], [0.2222222222222222, \"#7201a8\"], [0.3333333333333333, \"#9c179e\"], [0.4444444444444444, \"#bd3786\"], [0.5555555555555556, \"#d8576b\"], [0.6666666666666666, \"#ed7953\"], [0.7777777777777778, \"#fb9f3a\"], [0.8888888888888888, \"#fdca26\"], [1.0, \"#f0f921\"]], \"type\": \"heatmapgl\"}], \"histogram\": [{\"marker\": {\"colorbar\": {\"outlinewidth\": 0, \"ticks\": \"\"}}, \"type\": \"histogram\"}], \"histogram2d\": [{\"colorbar\": {\"outlinewidth\": 0, \"ticks\": \"\"}, \"colorscale\": [[0.0, \"#0d0887\"], [0.1111111111111111, \"#46039f\"], [0.2222222222222222, \"#7201a8\"], [0.3333333333333333, \"#9c179e\"], [0.4444444444444444, \"#bd3786\"], [0.5555555555555556, \"#d8576b\"], [0.6666666666666666, \"#ed7953\"], [0.7777777777777778, \"#fb9f3a\"], [0.8888888888888888, \"#fdca26\"], [1.0, \"#f0f921\"]], \"type\": \"histogram2d\"}], \"histogram2dcontour\": [{\"colorbar\": {\"outlinewidth\": 0, \"ticks\": \"\"}, \"colorscale\": [[0.0, \"#0d0887\"], [0.1111111111111111, \"#46039f\"], [0.2222222222222222, \"#7201a8\"], [0.3333333333333333, \"#9c179e\"], [0.4444444444444444, \"#bd3786\"], [0.5555555555555556, \"#d8576b\"], [0.6666666666666666, \"#ed7953\"], [0.7777777777777778, \"#fb9f3a\"], [0.8888888888888888, \"#fdca26\"], [1.0, \"#f0f921\"]], \"type\": \"histogram2dcontour\"}], \"mesh3d\": [{\"colorbar\": {\"outlinewidth\": 0, \"ticks\": \"\"}, \"type\": \"mesh3d\"}], \"parcoords\": [{\"line\": {\"colorbar\": {\"outlinewidth\": 0, \"ticks\": \"\"}}, \"type\": \"parcoords\"}], \"pie\": [{\"automargin\": true, \"type\": \"pie\"}], \"scatter\": [{\"marker\": {\"colorbar\": {\"outlinewidth\": 0, \"ticks\": \"\"}}, \"type\": \"scatter\"}], \"scatter3d\": [{\"line\": {\"colorbar\": {\"outlinewidth\": 0, \"ticks\": \"\"}}, \"marker\": {\"colorbar\": {\"outlinewidth\": 0, \"ticks\": \"\"}}, \"type\": \"scatter3d\"}], \"scattercarpet\": [{\"marker\": {\"colorbar\": {\"outlinewidth\": 0, \"ticks\": \"\"}}, \"type\": \"scattercarpet\"}], \"scattergeo\": [{\"marker\": {\"colorbar\": {\"outlinewidth\": 0, \"ticks\": \"\"}}, \"type\": \"scattergeo\"}], \"scattergl\": [{\"marker\": {\"colorbar\": {\"outlinewidth\": 0, \"ticks\": \"\"}}, \"type\": \"scattergl\"}], \"scattermapbox\": [{\"marker\": {\"colorbar\": {\"outlinewidth\": 0, \"ticks\": \"\"}}, \"type\": \"scattermapbox\"}], \"scatterpolar\": [{\"marker\": {\"colorbar\": {\"outlinewidth\": 0, \"ticks\": \"\"}}, \"type\": \"scatterpolar\"}], \"scatterpolargl\": [{\"marker\": {\"colorbar\": {\"outlinewidth\": 0, \"ticks\": \"\"}}, \"type\": \"scatterpolargl\"}], \"scatterternary\": [{\"marker\": {\"colorbar\": {\"outlinewidth\": 0, \"ticks\": \"\"}}, \"type\": \"scatterternary\"}], \"surface\": [{\"colorbar\": {\"outlinewidth\": 0, \"ticks\": \"\"}, \"colorscale\": [[0.0, \"#0d0887\"], [0.1111111111111111, \"#46039f\"], [0.2222222222222222, \"#7201a8\"], [0.3333333333333333, \"#9c179e\"], [0.4444444444444444, \"#bd3786\"], [0.5555555555555556, \"#d8576b\"], [0.6666666666666666, \"#ed7953\"], [0.7777777777777778, \"#fb9f3a\"], [0.8888888888888888, \"#fdca26\"], [1.0, \"#f0f921\"]], \"type\": \"surface\"}], \"table\": [{\"cells\": {\"fill\": {\"color\": \"#EBF0F8\"}, \"line\": {\"color\": \"white\"}}, \"header\": {\"fill\": {\"color\": \"#C8D4E3\"}, \"line\": {\"color\": \"white\"}}, \"type\": \"table\"}]}, \"layout\": {\"annotationdefaults\": {\"arrowcolor\": \"#2a3f5f\", \"arrowhead\": 0, \"arrowwidth\": 1}, \"coloraxis\": {\"colorbar\": {\"outlinewidth\": 0, \"ticks\": \"\"}}, \"colorscale\": {\"diverging\": [[0, \"#8e0152\"], [0.1, \"#c51b7d\"], [0.2, \"#de77ae\"], [0.3, \"#f1b6da\"], [0.4, \"#fde0ef\"], [0.5, \"#f7f7f7\"], [0.6, \"#e6f5d0\"], [0.7, \"#b8e186\"], [0.8, \"#7fbc41\"], [0.9, \"#4d9221\"], [1, \"#276419\"]], \"sequential\": [[0.0, \"#0d0887\"], [0.1111111111111111, \"#46039f\"], [0.2222222222222222, \"#7201a8\"], [0.3333333333333333, \"#9c179e\"], [0.4444444444444444, \"#bd3786\"], [0.5555555555555556, \"#d8576b\"], [0.6666666666666666, \"#ed7953\"], [0.7777777777777778, \"#fb9f3a\"], [0.8888888888888888, \"#fdca26\"], [1.0, \"#f0f921\"]], \"sequentialminus\": [[0.0, \"#0d0887\"], [0.1111111111111111, \"#46039f\"], [0.2222222222222222, \"#7201a8\"], [0.3333333333333333, \"#9c179e\"], [0.4444444444444444, \"#bd3786\"], [0.5555555555555556, \"#d8576b\"], [0.6666666666666666, \"#ed7953\"], [0.7777777777777778, \"#fb9f3a\"], [0.8888888888888888, \"#fdca26\"], [1.0, \"#f0f921\"]]}, \"colorway\": [\"#636efa\", \"#EF553B\", \"#00cc96\", \"#ab63fa\", \"#FFA15A\", \"#19d3f3\", \"#FF6692\", \"#B6E880\", \"#FF97FF\", \"#FECB52\"], \"font\": {\"color\": \"#2a3f5f\"}, \"geo\": {\"bgcolor\": \"white\", \"lakecolor\": \"white\", \"landcolor\": \"#E5ECF6\", \"showlakes\": true, \"showland\": true, \"subunitcolor\": \"white\"}, \"hoverlabel\": {\"align\": \"left\"}, \"hovermode\": \"closest\", \"mapbox\": {\"style\": \"light\"}, \"paper_bgcolor\": \"white\", \"plot_bgcolor\": \"#E5ECF6\", \"polar\": {\"angularaxis\": {\"gridcolor\": \"white\", \"linecolor\": \"white\", \"ticks\": \"\"}, \"bgcolor\": \"#E5ECF6\", \"radialaxis\": {\"gridcolor\": \"white\", \"linecolor\": \"white\", \"ticks\": \"\"}}, \"scene\": {\"xaxis\": {\"backgroundcolor\": \"#E5ECF6\", \"gridcolor\": \"white\", \"gridwidth\": 2, \"linecolor\": \"white\", \"showbackground\": true, \"ticks\": \"\", \"zerolinecolor\": \"white\"}, \"yaxis\": {\"backgroundcolor\": \"#E5ECF6\", \"gridcolor\": \"white\", \"gridwidth\": 2, \"linecolor\": \"white\", \"showbackground\": true, \"ticks\": \"\", \"zerolinecolor\": \"white\"}, \"zaxis\": {\"backgroundcolor\": \"#E5ECF6\", \"gridcolor\": \"white\", \"gridwidth\": 2, \"linecolor\": \"white\", \"showbackground\": true, \"ticks\": \"\", \"zerolinecolor\": \"white\"}}, \"shapedefaults\": {\"line\": {\"color\": \"#2a3f5f\"}}, \"ternary\": {\"aaxis\": {\"gridcolor\": \"white\", \"linecolor\": \"white\", \"ticks\": \"\"}, \"baxis\": {\"gridcolor\": \"white\", \"linecolor\": \"white\", \"ticks\": \"\"}, \"bgcolor\": \"#E5ECF6\", \"caxis\": {\"gridcolor\": \"white\", \"linecolor\": \"white\", \"ticks\": \"\"}}, \"title\": {\"x\": 0.05}, \"xaxis\": {\"automargin\": true, \"gridcolor\": \"white\", \"linecolor\": \"white\", \"ticks\": \"\", \"title\": {\"standoff\": 15}, \"zerolinecolor\": \"white\", \"zerolinewidth\": 2}, \"yaxis\": {\"automargin\": true, \"gridcolor\": \"white\", \"linecolor\": \"white\", \"ticks\": \"\", \"title\": {\"standoff\": 15}, \"zerolinecolor\": \"white\", \"zerolinewidth\": 2}}}, \"title\": {\"text\": \"Number of Unemp. Ins. Claims since Stay-at-home Orders, by State<br>(Hover for breakdown)\"}},\n",
       "                        {\"responsive\": true}\n",
       "                    ).then(function(){\n",
       "                            \n",
       "var gd = document.getElementById('f7e24939-05d6-490f-8ffd-60a8a7d102f8');\n",
       "var x = new MutationObserver(function (mutations, observer) {{\n",
       "        var display = window.getComputedStyle(gd).display;\n",
       "        if (!display || display === 'none') {{\n",
       "            console.log([gd, 'removed!']);\n",
       "            Plotly.purge(gd);\n",
       "            observer.disconnect();\n",
       "        }}\n",
       "}});\n",
       "\n",
       "// Listen for the removal of the full notebook cells\n",
       "var notebookContainer = gd.closest('#notebook-container');\n",
       "if (notebookContainer) {{\n",
       "    x.observe(notebookContainer, {childList: true});\n",
       "}}\n",
       "\n",
       "// Listen for the clearing of the current output cell\n",
       "var outputEl = gd.closest('.output');\n",
       "if (outputEl) {{\n",
       "    x.observe(outputEl, {childList: true});\n",
       "}}\n",
       "\n",
       "                        })\n",
       "                };\n",
       "                });\n",
       "            </script>\n",
       "        </div>"
      ]
     },
     "metadata": {},
     "output_type": "display_data"
    }
   ],
   "source": [
    "#scale = 1000\n",
    "fig = go.Figure(data=go.Choropleth(\n",
    "    locations=df2['state'],\n",
    "    z=df2['iclaims_since_stayathome'],\n",
    "    locationmode='USA-states',\n",
    "    colorscale='Oranges',\n",
    "    autocolorscale=False,\n",
    "    text=df2['text'], # hover text\n",
    "    marker_line_color='white', # line markers between states\n",
    "    colorbar_title=\"Number of Unemp. Ins. Claims since Stay-at-home Orders\"\n",
    "))\n",
    "\n",
    "fig.update_layout(\n",
    "    title_text='Number of Unemp. Ins. Claims since Stay-at-home Orders, by State<br>(Hover for breakdown)',\n",
    "    geo = dict(\n",
    "        scope='usa',\n",
    "        projection=go.layout.geo.Projection(type = 'albers usa'),\n",
    "        showlakes=True, # lakes\n",
    "        lakecolor='rgb(255, 255, 255)'),\n",
    ")\n",
    "#fig.show();\n",
    "plotly.offline.iplot(fig)"
   ]
  },
  {
   "cell_type": "code",
   "execution_count": null,
   "metadata": {},
   "outputs": [],
   "source": []
  }
 ],
 "metadata": {
  "kernelspec": {
   "display_name": "Python 3",
   "language": "python",
   "name": "python3"
  },
  "language_info": {
   "codemirror_mode": {
    "name": "ipython",
    "version": 3
   },
   "file_extension": ".py",
   "mimetype": "text/x-python",
   "name": "python",
   "nbconvert_exporter": "python",
   "pygments_lexer": "ipython3",
   "version": "3.7.4"
  },
  "toc": {
   "base_numbering": 1,
   "nav_menu": {},
   "number_sections": true,
   "sideBar": true,
   "skip_h1_title": false,
   "title_cell": "Table of Contents",
   "title_sidebar": "Contents",
   "toc_cell": false,
   "toc_position": {},
   "toc_section_display": true,
   "toc_window_display": false
  }
 },
 "nbformat": 4,
 "nbformat_minor": 2
}
