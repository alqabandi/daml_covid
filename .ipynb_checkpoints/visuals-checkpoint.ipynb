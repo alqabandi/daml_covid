{
 "cells": [
  {
   "cell_type": "code",
   "execution_count": 21,
   "metadata": {
    "ExecuteTime": {
     "end_time": "2020-04-09T15:49:51.227727Z",
     "start_time": "2020-04-09T15:49:51.224238Z"
    }
   },
   "outputs": [],
   "source": [
    "import plotly \n",
    "import chart_studio.plotly as py\n",
    "import numpy as np\n",
    "import pandas as pd\n",
    "import matplotlib.pyplot as plt\n",
    "import plotly.graph_objects as go\n",
    "import plotly.express as px\n",
    "import plotly.io as pio\n",
    "#pio.renderers.default = \"iframe_connected\"\n",
    "import IPython\n",
    "from IPython.display import IFrame\n",
    "from IPython.display import HTML, display"
   ]
  },
  {
   "cell_type": "markdown",
   "metadata": {},
   "source": [
    "## Downloading and combining latest data"
   ]
  },
  {
   "cell_type": "code",
   "execution_count": null,
   "metadata": {
    "ExecuteTime": {
     "end_time": "2020-04-09T15:10:37.765351Z",
     "start_time": "2020-04-09T15:10:22.456734Z"
    }
   },
   "outputs": [],
   "source": [
    "%run ./data_collection/00-daily-download.py"
   ]
  },
  {
   "cell_type": "code",
   "execution_count": null,
   "metadata": {
    "ExecuteTime": {
     "end_time": "2020-04-09T15:10:38.544977Z",
     "start_time": "2020-04-09T15:10:37.766860Z"
    }
   },
   "outputs": [],
   "source": [
    "%run ./data_collection/01-daily-combine.py"
   ]
  },
  {
   "cell_type": "markdown",
   "metadata": {},
   "source": [
    "## Load data"
   ]
  },
  {
   "cell_type": "code",
   "execution_count": 22,
   "metadata": {
    "ExecuteTime": {
     "end_time": "2020-04-09T15:49:55.339761Z",
     "start_time": "2020-04-09T15:49:55.328919Z"
    }
   },
   "outputs": [],
   "source": [
    "df = pd.read_csv('./data/combined/combined.csv')"
   ]
  },
  {
   "cell_type": "markdown",
   "metadata": {},
   "source": [
    "## Create Variables"
   ]
  },
  {
   "cell_type": "code",
   "execution_count": 23,
   "metadata": {
    "ExecuteTime": {
     "end_time": "2020-04-09T15:49:57.211920Z",
     "start_time": "2020-04-09T15:49:57.187594Z"
    }
   },
   "outputs": [],
   "source": [
    "df['text'] = df['state'].astype(str) + '\\n' + 'Positive: ' + df['positive'].astype(str) + ', ' + 'Deaths: '+ df['death'].astype(str) + ', ' + 'Negative: '+ df['negative'].astype(str) + ', ' + 'Total Tested: '+ df['total'].astype(str)\n",
    "df = df[df['state'] !=(\"GU\")]\n",
    "df = df[df['state'] !=(\"PR\")]\n",
    "df = df[df['state'] !=(\"AS\")]\n",
    "df = df[df['state'] !=(\"MP\")]\n",
    "df = df[df['state'] !=(\"PRI\")]\n",
    "df = df[df['state'] !=(\"VIR\")]\n",
    "df = df[df['state'] !=(\"VI\")]"
   ]
  },
  {
   "cell_type": "code",
   "execution_count": 24,
   "metadata": {
    "ExecuteTime": {
     "end_time": "2020-04-09T15:49:57.560901Z",
     "start_time": "2020-04-09T15:49:57.557929Z"
    }
   },
   "outputs": [],
   "source": [
    "def calculate_num_claims_since_emergency_declaration(x: pd.DataFrame) -> int:    \n",
    "    declaration_date = x[\"Emergency Declaration Date\"].values[0]\n",
    "    return x[x.date >= declaration_date].number_of_iclaims.sum()\n"
   ]
  },
  {
   "cell_type": "code",
   "execution_count": 25,
   "metadata": {
    "ExecuteTime": {
     "end_time": "2020-04-09T15:49:57.920907Z",
     "start_time": "2020-04-09T15:49:57.872146Z"
    }
   },
   "outputs": [],
   "source": [
    "iclaims_since_emergency_by_state = df.groupby(\"state\").apply(calculate_num_claims_since_emergency_declaration)"
   ]
  },
  {
   "cell_type": "code",
   "execution_count": 26,
   "metadata": {
    "ExecuteTime": {
     "end_time": "2020-04-09T15:49:58.171201Z",
     "start_time": "2020-04-09T15:49:58.154721Z"
    }
   },
   "outputs": [],
   "source": [
    "df['iclaims_since_emergency'] = df.state.apply(\n",
    "    lambda x: iclaims_since_emergency_by_state[x] if x in iclaims_since_emergency_by_state else None)"
   ]
  },
  {
   "cell_type": "code",
   "execution_count": 27,
   "metadata": {
    "ExecuteTime": {
     "end_time": "2020-04-09T15:49:58.430988Z",
     "start_time": "2020-04-09T15:49:58.381393Z"
    }
   },
   "outputs": [],
   "source": [
    "def calculate_num_claims_since_stayathome_order(x: pd.DataFrame) -> int:    \n",
    "    stayathome_date = x[\"Stay At Home Order Date\"].values[0]\n",
    "    return x[x.date >= stayathome_date].number_of_iclaims.sum()\n",
    "iclaims_since_stayathome_by_state = df.groupby(\"state\").apply(calculate_num_claims_since_stayathome_order)"
   ]
  },
  {
   "cell_type": "code",
   "execution_count": 28,
   "metadata": {
    "ExecuteTime": {
     "end_time": "2020-04-09T15:49:58.634286Z",
     "start_time": "2020-04-09T15:49:58.617484Z"
    }
   },
   "outputs": [],
   "source": [
    "df['iclaims_since_stayathome'] = df.state.apply(lambda x: iclaims_since_stayathome_by_state[x] if x in iclaims_since_stayathome_by_state else None)\n"
   ]
  },
  {
   "cell_type": "code",
   "execution_count": 29,
   "metadata": {
    "ExecuteTime": {
     "end_time": "2020-04-09T15:49:59.093089Z",
     "start_time": "2020-04-09T15:49:59.076087Z"
    }
   },
   "outputs": [],
   "source": [
    "df = df.sort_values(by=['date'])\n",
    "df = df[df[\"date\"]>=\"2020-01-30\"]\n",
    "df = df[df[\"death\"].isna()==False]\n",
    "df = df[df[\"positive\"].isna()==False]\n",
    "df['pct_death_over_positive'] = 100*(df['death']/df['positive'])\n",
    "df['death_rate'] = df['death']/df['positive']\n",
    "df['high_pct_death'] = df['pct_death_over_positive'].apply(lambda x: '1%+ death rate' if x >= 1 else \"below 1% death rate\")\n",
    "df['pct_positive_out_of_total_tested'] = 100*(df['positive']/df['total'])\n",
    "df['positive_over_pop'] = (df['positive']/df['POPESTIMATE2019'])*100\n",
    "df['positive_per_100k'] = (df['positive_over_pop']/100)*100000\n",
    "df['pct_pop_tested'] = (df['total']/df['POPESTIMATE2019'])*100"
   ]
  },
  {
   "cell_type": "markdown",
   "metadata": {},
   "source": [
    "## Chloropleth maps"
   ]
  },
  {
   "cell_type": "code",
   "execution_count": 30,
   "metadata": {
    "ExecuteTime": {
     "end_time": "2020-04-09T15:49:59.895466Z",
     "start_time": "2020-04-09T15:49:59.888467Z"
    }
   },
   "outputs": [],
   "source": [
    "df2 = df[df.date == max(df['date'])]\n",
    "df3 = df[df.state != \"NY\"]"
   ]
  },
  {
   "cell_type": "code",
   "execution_count": 31,
   "metadata": {
    "ExecuteTime": {
     "end_time": "2020-04-09T15:50:04.746665Z",
     "start_time": "2020-04-09T15:50:04.533488Z"
    },
    "scrolled": false
   },
   "outputs": [
    {
     "data": {
      "application/vnd.plotly.v1+json": {
       "config": {
        "plotlyServerURL": "https://plot.ly"
       },
       "data": [
        {
         "autocolorscale": false,
         "colorbar": {
          "title": {
           "text": "Positive per 100,000 people"
          }
         },
         "colorscale": [
          [
           0,
           "rgb(255,245,235)"
          ],
          [
           0.125,
           "rgb(254,230,206)"
          ],
          [
           0.25,
           "rgb(253,208,162)"
          ],
          [
           0.375,
           "rgb(253,174,107)"
          ],
          [
           0.5,
           "rgb(253,141,60)"
          ],
          [
           0.625,
           "rgb(241,105,19)"
          ],
          [
           0.75,
           "rgb(217,72,1)"
          ],
          [
           0.875,
           "rgb(166,54,3)"
          ],
          [
           1,
           "rgb(127,39,4)"
          ]
         ],
         "locationmode": "USA-states",
         "locations": [
          "AR",
          "TX",
          "OR",
          "ME",
          "AK",
          "MI",
          "ND",
          "NM",
          "MS",
          "AZ",
          "FL",
          "MN",
          "NY",
          "SD",
          "UT",
          "MT",
          "CA",
          "LA",
          "DE",
          "WA",
          "NV",
          "IL",
          "ID",
          "DC",
          "RI",
          "AL",
          "OK",
          "NH",
          "TN",
          "WY",
          "CT",
          "KY",
          "VT",
          "IN",
          "SC",
          "OH",
          "MA",
          "NE",
          "WV",
          "NC",
          "MO",
          "NJ",
          "MD",
          "KS",
          "CO",
          "HI",
          "PA",
          "IA",
          "GA",
          "VA",
          "WI"
         ],
         "marker": {
          "line": {
           "color": "white"
          }
         },
         "text": [
          "AR\nPositive: 1000.0, Deaths: 18.0, Negative: 13530.0, Total Tested: 14530",
          "TX\nPositive: 9353.0, Deaths: 177.0, Negative: 86905.0, Total Tested: 96258",
          "OR\nPositive: 1181.0, Deaths: 33.0, Negative: 21826.0, Total Tested: 23007",
          "ME\nPositive: 537.0, Deaths: 14.0, Negative: 6088.0, Total Tested: 6625",
          "AK\nPositive: 226.0, Deaths: 7.0, Negative: 6842.0, Total Tested: 7068",
          "MI\nPositive: 20346.0, Deaths: 959.0, Negative: 31362.0, Total Tested: 51708",
          "ND\nPositive: 251.0, Deaths: 4.0, Negative: 8301.0, Total Tested: 8552",
          "NM\nPositive: 794.0, Deaths: 13.0, Negative: 21451.0, Total Tested: 22245",
          "MS\nPositive: 2003.0, Deaths: 67.0, Negative: 18632.0, Total Tested: 20635",
          "AZ\nPositive: 2726.0, Deaths: 80.0, Negative: 31838.0, Total Tested: 34564",
          "FL\nPositive: 15455.0, Deaths: 309.0, Negative: 127679.0, Total Tested: 144458",
          "MN\nPositive: 1154.0, Deaths: 39.0, Negative: 29599.0, Total Tested: 30753",
          "NY\nPositive: 149316.0, Deaths: 6268.0, Negative: 215837.0, Total Tested: 365153",
          "SD\nPositive: 393.0, Deaths: 6.0, Negative: 6355.0, Total Tested: 6748",
          "UT\nPositive: 1846.0, Deaths: 13.0, Negative: 34270.0, Total Tested: 36116",
          "MT\nPositive: 332.0, Deaths: 6.0, Negative: 7066.0, Total Tested: 7398",
          "CA\nPositive: 16957.0, Deaths: 442.0, Negative: 127307.0, Total Tested: 158864",
          "LA\nPositive: 17030.0, Deaths: 652.0, Negative: 64376.0, Total Tested: 81406",
          "DE\nPositive: 928.0, Deaths: 16.0, Negative: 7628.0, Total Tested: 8556",
          "WA\nPositive: 8682.0, Deaths: 394.0, Negative: 83391.0, Total Tested: 92073",
          "NV\nPositive: 2318.0, Deaths: 71.0, Negative: 18248.0, Total Tested: 20566",
          "IL\nPositive: 15078.0, Deaths: 462.0, Negative: 59988.0, Total Tested: 75066",
          "ID\nPositive: 1210.0, Deaths: 15.0, Negative: 10688.0, Total Tested: 11898",
          "DC\nPositive: 1440.0, Deaths: 27.0, Negative: 6843.0, Total Tested: 8283",
          "RI\nPositive: 1450.0, Deaths: 35.0, Negative: 10682.0, Total Tested: 12132",
          "AL\nPositive: 2369.0, Deaths: 66.0, Negative: 16753.0, Total Tested: 19122",
          "OK\nPositive: 1524.0, Deaths: 79.0, Negative: 11821.0, Total Tested: 13345",
          "NH\nPositive: 788.0, Deaths: 18.0, Negative: 8389.0, Total Tested: 9266",
          "TN\nPositive: 4362.0, Deaths: 79.0, Negative: 52256.0, Total Tested: 56618",
          "WY\nPositive: 221.0, Deaths: 0.0, Negative: 3843.0, Total Tested: 4064",
          "CT\nPositive: 7781.0, Deaths: 277.0, Negative: 21255.0, Total Tested: 29036",
          "KY\nPositive: 1149.0, Deaths: 65.0, Negative: 20455.0, Total Tested: 21604",
          "VT\nPositive: 605.0, Deaths: 23.0, Negative: 7144.0, Total Tested: 7749",
          "IN\nPositive: 5943.0, Deaths: 203.0, Negative: 24926.0, Total Tested: 30869",
          "SC\nPositive: 2552.0, Deaths: 63.0, Negative: 22082.0, Total Tested: 24634",
          "OH\nPositive: 5148.0, Deaths: 193.0, Negative: 48193.0, Total Tested: 53341",
          "MA\nPositive: 16790.0, Deaths: 433.0, Negative: 70721.0, Total Tested: 87511",
          "NE\nPositive: 519.0, Deaths: 12.0, Negative: 7442.0, Total Tested: 7961",
          "WV\nPositive: 462.0, Deaths: 4.0, Negative: 12083.0, Total Tested: 12545",
          "NC\nPositive: 3426.0, Deaths: 53.0, Negative: 39561.0, Total Tested: 42987",
          "MO\nPositive: 3327.0, Deaths: 58.0, Negative: 30783.0, Total Tested: 34110",
          "NJ\nPositive: 47437.0, Deaths: 1504.0, Negative: 52979.0, Total Tested: 100416",
          "MD\nPositive: 5529.0, Deaths: 124.0, Negative: 32933.0, Total Tested: 38462",
          "KS\nPositive: 900.0, Deaths: 27.0, Negative: 8614.0, Total Tested: 9514",
          "CO\nPositive: 5429.0, Deaths: 179.0, Negative: 22665.0, Total Tested: 28094",
          "HI\nPositive: 410.0, Deaths: 5.0, Negative: 14739.0, Total Tested: 15149",
          "PA\nPositive: 16239.0, Deaths: 309.0, Negative: 82299.0, Total Tested: 98538",
          "IA\nPositive: 1145.0, Deaths: 27.0, Negative: 12821.0, Total Tested: 13966",
          "GA\nPositive: 9901.0, Deaths: 362.0, Negative: 28886.0, Total Tested: 38787",
          "VA\nPositive: 3645.0, Deaths: 75.0, Negative: 27000.0, Total Tested: 30645",
          "WI\nPositive: 2756.0, Deaths: 99.0, Negative: 30115.0, Total Tested: 32871"
         ],
         "type": "choropleth",
         "z": [
          33.13667819381245,
          32.256305645619115,
          28.000797584107307,
          39.949055654911575,
          30.89351987915986,
          203.72775939417176,
          32.93695263639967,
          37.86670253034463,
          67.30173791701961,
          37.45165528485309,
          71.95823284361849,
          20.462328038425202,
          767.5509897648045,
          44.42389666526877,
          57.580292692543075,
          31.063513657653886,
          42.915833918025825,
          366.33156900477843,
          95.30029863498754,
          114.01342080578152,
          75.25592859582437,
          118.98842321083924,
          67.70878507496931,
          204.0385462820351,
          136.8749651912804,
          48.315533678619104,
          38.51430804016507,
          57.95349158755059,
          63.873024761120455,
          38.185151332419885,
          218.24329990825422,
          25.718086350545352,
          96.95683738014613,
          88.27698564173268,
          49.56577506538526,
          44.041029677220656,
          243.59800786448696,
          26.829913854781413,
          25.779135305306983,
          32.66564226602305,
          54.20837523470743,
          534.0687375523378,
          91.45373225178972,
          30.892653521041673,
          94.27416016292464,
          28.957419879763144,
          126.8474765913328,
          36.29079544986323,
          93.25238337023966,
          42.70390587848261,
          47.33415612783245
         ]
        }
       ],
       "layout": {
        "geo": {
         "lakecolor": "rgb(255, 255, 255)",
         "projection": {
          "type": "albers usa"
         },
         "scope": "usa",
         "showlakes": true
        },
        "template": {
         "data": {
          "bar": [
           {
            "error_x": {
             "color": "#2a3f5f"
            },
            "error_y": {
             "color": "#2a3f5f"
            },
            "marker": {
             "line": {
              "color": "#E5ECF6",
              "width": 0.5
             }
            },
            "type": "bar"
           }
          ],
          "barpolar": [
           {
            "marker": {
             "line": {
              "color": "#E5ECF6",
              "width": 0.5
             }
            },
            "type": "barpolar"
           }
          ],
          "carpet": [
           {
            "aaxis": {
             "endlinecolor": "#2a3f5f",
             "gridcolor": "white",
             "linecolor": "white",
             "minorgridcolor": "white",
             "startlinecolor": "#2a3f5f"
            },
            "baxis": {
             "endlinecolor": "#2a3f5f",
             "gridcolor": "white",
             "linecolor": "white",
             "minorgridcolor": "white",
             "startlinecolor": "#2a3f5f"
            },
            "type": "carpet"
           }
          ],
          "choropleth": [
           {
            "colorbar": {
             "outlinewidth": 0,
             "ticks": ""
            },
            "type": "choropleth"
           }
          ],
          "contour": [
           {
            "colorbar": {
             "outlinewidth": 0,
             "ticks": ""
            },
            "colorscale": [
             [
              0,
              "#0d0887"
             ],
             [
              0.1111111111111111,
              "#46039f"
             ],
             [
              0.2222222222222222,
              "#7201a8"
             ],
             [
              0.3333333333333333,
              "#9c179e"
             ],
             [
              0.4444444444444444,
              "#bd3786"
             ],
             [
              0.5555555555555556,
              "#d8576b"
             ],
             [
              0.6666666666666666,
              "#ed7953"
             ],
             [
              0.7777777777777778,
              "#fb9f3a"
             ],
             [
              0.8888888888888888,
              "#fdca26"
             ],
             [
              1,
              "#f0f921"
             ]
            ],
            "type": "contour"
           }
          ],
          "contourcarpet": [
           {
            "colorbar": {
             "outlinewidth": 0,
             "ticks": ""
            },
            "type": "contourcarpet"
           }
          ],
          "heatmap": [
           {
            "colorbar": {
             "outlinewidth": 0,
             "ticks": ""
            },
            "colorscale": [
             [
              0,
              "#0d0887"
             ],
             [
              0.1111111111111111,
              "#46039f"
             ],
             [
              0.2222222222222222,
              "#7201a8"
             ],
             [
              0.3333333333333333,
              "#9c179e"
             ],
             [
              0.4444444444444444,
              "#bd3786"
             ],
             [
              0.5555555555555556,
              "#d8576b"
             ],
             [
              0.6666666666666666,
              "#ed7953"
             ],
             [
              0.7777777777777778,
              "#fb9f3a"
             ],
             [
              0.8888888888888888,
              "#fdca26"
             ],
             [
              1,
              "#f0f921"
             ]
            ],
            "type": "heatmap"
           }
          ],
          "heatmapgl": [
           {
            "colorbar": {
             "outlinewidth": 0,
             "ticks": ""
            },
            "colorscale": [
             [
              0,
              "#0d0887"
             ],
             [
              0.1111111111111111,
              "#46039f"
             ],
             [
              0.2222222222222222,
              "#7201a8"
             ],
             [
              0.3333333333333333,
              "#9c179e"
             ],
             [
              0.4444444444444444,
              "#bd3786"
             ],
             [
              0.5555555555555556,
              "#d8576b"
             ],
             [
              0.6666666666666666,
              "#ed7953"
             ],
             [
              0.7777777777777778,
              "#fb9f3a"
             ],
             [
              0.8888888888888888,
              "#fdca26"
             ],
             [
              1,
              "#f0f921"
             ]
            ],
            "type": "heatmapgl"
           }
          ],
          "histogram": [
           {
            "marker": {
             "colorbar": {
              "outlinewidth": 0,
              "ticks": ""
             }
            },
            "type": "histogram"
           }
          ],
          "histogram2d": [
           {
            "colorbar": {
             "outlinewidth": 0,
             "ticks": ""
            },
            "colorscale": [
             [
              0,
              "#0d0887"
             ],
             [
              0.1111111111111111,
              "#46039f"
             ],
             [
              0.2222222222222222,
              "#7201a8"
             ],
             [
              0.3333333333333333,
              "#9c179e"
             ],
             [
              0.4444444444444444,
              "#bd3786"
             ],
             [
              0.5555555555555556,
              "#d8576b"
             ],
             [
              0.6666666666666666,
              "#ed7953"
             ],
             [
              0.7777777777777778,
              "#fb9f3a"
             ],
             [
              0.8888888888888888,
              "#fdca26"
             ],
             [
              1,
              "#f0f921"
             ]
            ],
            "type": "histogram2d"
           }
          ],
          "histogram2dcontour": [
           {
            "colorbar": {
             "outlinewidth": 0,
             "ticks": ""
            },
            "colorscale": [
             [
              0,
              "#0d0887"
             ],
             [
              0.1111111111111111,
              "#46039f"
             ],
             [
              0.2222222222222222,
              "#7201a8"
             ],
             [
              0.3333333333333333,
              "#9c179e"
             ],
             [
              0.4444444444444444,
              "#bd3786"
             ],
             [
              0.5555555555555556,
              "#d8576b"
             ],
             [
              0.6666666666666666,
              "#ed7953"
             ],
             [
              0.7777777777777778,
              "#fb9f3a"
             ],
             [
              0.8888888888888888,
              "#fdca26"
             ],
             [
              1,
              "#f0f921"
             ]
            ],
            "type": "histogram2dcontour"
           }
          ],
          "mesh3d": [
           {
            "colorbar": {
             "outlinewidth": 0,
             "ticks": ""
            },
            "type": "mesh3d"
           }
          ],
          "parcoords": [
           {
            "line": {
             "colorbar": {
              "outlinewidth": 0,
              "ticks": ""
             }
            },
            "type": "parcoords"
           }
          ],
          "pie": [
           {
            "automargin": true,
            "type": "pie"
           }
          ],
          "scatter": [
           {
            "marker": {
             "colorbar": {
              "outlinewidth": 0,
              "ticks": ""
             }
            },
            "type": "scatter"
           }
          ],
          "scatter3d": [
           {
            "line": {
             "colorbar": {
              "outlinewidth": 0,
              "ticks": ""
             }
            },
            "marker": {
             "colorbar": {
              "outlinewidth": 0,
              "ticks": ""
             }
            },
            "type": "scatter3d"
           }
          ],
          "scattercarpet": [
           {
            "marker": {
             "colorbar": {
              "outlinewidth": 0,
              "ticks": ""
             }
            },
            "type": "scattercarpet"
           }
          ],
          "scattergeo": [
           {
            "marker": {
             "colorbar": {
              "outlinewidth": 0,
              "ticks": ""
             }
            },
            "type": "scattergeo"
           }
          ],
          "scattergl": [
           {
            "marker": {
             "colorbar": {
              "outlinewidth": 0,
              "ticks": ""
             }
            },
            "type": "scattergl"
           }
          ],
          "scattermapbox": [
           {
            "marker": {
             "colorbar": {
              "outlinewidth": 0,
              "ticks": ""
             }
            },
            "type": "scattermapbox"
           }
          ],
          "scatterpolar": [
           {
            "marker": {
             "colorbar": {
              "outlinewidth": 0,
              "ticks": ""
             }
            },
            "type": "scatterpolar"
           }
          ],
          "scatterpolargl": [
           {
            "marker": {
             "colorbar": {
              "outlinewidth": 0,
              "ticks": ""
             }
            },
            "type": "scatterpolargl"
           }
          ],
          "scatterternary": [
           {
            "marker": {
             "colorbar": {
              "outlinewidth": 0,
              "ticks": ""
             }
            },
            "type": "scatterternary"
           }
          ],
          "surface": [
           {
            "colorbar": {
             "outlinewidth": 0,
             "ticks": ""
            },
            "colorscale": [
             [
              0,
              "#0d0887"
             ],
             [
              0.1111111111111111,
              "#46039f"
             ],
             [
              0.2222222222222222,
              "#7201a8"
             ],
             [
              0.3333333333333333,
              "#9c179e"
             ],
             [
              0.4444444444444444,
              "#bd3786"
             ],
             [
              0.5555555555555556,
              "#d8576b"
             ],
             [
              0.6666666666666666,
              "#ed7953"
             ],
             [
              0.7777777777777778,
              "#fb9f3a"
             ],
             [
              0.8888888888888888,
              "#fdca26"
             ],
             [
              1,
              "#f0f921"
             ]
            ],
            "type": "surface"
           }
          ],
          "table": [
           {
            "cells": {
             "fill": {
              "color": "#EBF0F8"
             },
             "line": {
              "color": "white"
             }
            },
            "header": {
             "fill": {
              "color": "#C8D4E3"
             },
             "line": {
              "color": "white"
             }
            },
            "type": "table"
           }
          ]
         },
         "layout": {
          "annotationdefaults": {
           "arrowcolor": "#2a3f5f",
           "arrowhead": 0,
           "arrowwidth": 1
          },
          "coloraxis": {
           "colorbar": {
            "outlinewidth": 0,
            "ticks": ""
           }
          },
          "colorscale": {
           "diverging": [
            [
             0,
             "#8e0152"
            ],
            [
             0.1,
             "#c51b7d"
            ],
            [
             0.2,
             "#de77ae"
            ],
            [
             0.3,
             "#f1b6da"
            ],
            [
             0.4,
             "#fde0ef"
            ],
            [
             0.5,
             "#f7f7f7"
            ],
            [
             0.6,
             "#e6f5d0"
            ],
            [
             0.7,
             "#b8e186"
            ],
            [
             0.8,
             "#7fbc41"
            ],
            [
             0.9,
             "#4d9221"
            ],
            [
             1,
             "#276419"
            ]
           ],
           "sequential": [
            [
             0,
             "#0d0887"
            ],
            [
             0.1111111111111111,
             "#46039f"
            ],
            [
             0.2222222222222222,
             "#7201a8"
            ],
            [
             0.3333333333333333,
             "#9c179e"
            ],
            [
             0.4444444444444444,
             "#bd3786"
            ],
            [
             0.5555555555555556,
             "#d8576b"
            ],
            [
             0.6666666666666666,
             "#ed7953"
            ],
            [
             0.7777777777777778,
             "#fb9f3a"
            ],
            [
             0.8888888888888888,
             "#fdca26"
            ],
            [
             1,
             "#f0f921"
            ]
           ],
           "sequentialminus": [
            [
             0,
             "#0d0887"
            ],
            [
             0.1111111111111111,
             "#46039f"
            ],
            [
             0.2222222222222222,
             "#7201a8"
            ],
            [
             0.3333333333333333,
             "#9c179e"
            ],
            [
             0.4444444444444444,
             "#bd3786"
            ],
            [
             0.5555555555555556,
             "#d8576b"
            ],
            [
             0.6666666666666666,
             "#ed7953"
            ],
            [
             0.7777777777777778,
             "#fb9f3a"
            ],
            [
             0.8888888888888888,
             "#fdca26"
            ],
            [
             1,
             "#f0f921"
            ]
           ]
          },
          "colorway": [
           "#636efa",
           "#EF553B",
           "#00cc96",
           "#ab63fa",
           "#FFA15A",
           "#19d3f3",
           "#FF6692",
           "#B6E880",
           "#FF97FF",
           "#FECB52"
          ],
          "font": {
           "color": "#2a3f5f"
          },
          "geo": {
           "bgcolor": "white",
           "lakecolor": "white",
           "landcolor": "#E5ECF6",
           "showlakes": true,
           "showland": true,
           "subunitcolor": "white"
          },
          "hoverlabel": {
           "align": "left"
          },
          "hovermode": "closest",
          "mapbox": {
           "style": "light"
          },
          "paper_bgcolor": "white",
          "plot_bgcolor": "#E5ECF6",
          "polar": {
           "angularaxis": {
            "gridcolor": "white",
            "linecolor": "white",
            "ticks": ""
           },
           "bgcolor": "#E5ECF6",
           "radialaxis": {
            "gridcolor": "white",
            "linecolor": "white",
            "ticks": ""
           }
          },
          "scene": {
           "xaxis": {
            "backgroundcolor": "#E5ECF6",
            "gridcolor": "white",
            "gridwidth": 2,
            "linecolor": "white",
            "showbackground": true,
            "ticks": "",
            "zerolinecolor": "white"
           },
           "yaxis": {
            "backgroundcolor": "#E5ECF6",
            "gridcolor": "white",
            "gridwidth": 2,
            "linecolor": "white",
            "showbackground": true,
            "ticks": "",
            "zerolinecolor": "white"
           },
           "zaxis": {
            "backgroundcolor": "#E5ECF6",
            "gridcolor": "white",
            "gridwidth": 2,
            "linecolor": "white",
            "showbackground": true,
            "ticks": "",
            "zerolinecolor": "white"
           }
          },
          "shapedefaults": {
           "line": {
            "color": "#2a3f5f"
           }
          },
          "ternary": {
           "aaxis": {
            "gridcolor": "white",
            "linecolor": "white",
            "ticks": ""
           },
           "baxis": {
            "gridcolor": "white",
            "linecolor": "white",
            "ticks": ""
           },
           "bgcolor": "#E5ECF6",
           "caxis": {
            "gridcolor": "white",
            "linecolor": "white",
            "ticks": ""
           }
          },
          "title": {
           "x": 0.05
          },
          "xaxis": {
           "automargin": true,
           "gridcolor": "white",
           "linecolor": "white",
           "ticks": "",
           "title": {
            "standoff": 15
           },
           "zerolinecolor": "white",
           "zerolinewidth": 2
          },
          "yaxis": {
           "automargin": true,
           "gridcolor": "white",
           "linecolor": "white",
           "ticks": "",
           "title": {
            "standoff": 15
           },
           "zerolinecolor": "white",
           "zerolinewidth": 2
          }
         }
        },
        "title": {
         "text": "Positive Covid-19 cases per 100,000 people, by State<br>(Hover for breakdown)"
        }
       }
      },
      "text/html": [
       "<div>\n",
       "        \n",
       "        \n",
       "            <div id=\"1b3b37bb-d2d9-4df7-91f8-f802818973a7\" class=\"plotly-graph-div\" style=\"height:525px; width:100%;\"></div>\n",
       "            <script type=\"text/javascript\">\n",
       "                require([\"plotly\"], function(Plotly) {\n",
       "                    window.PLOTLYENV=window.PLOTLYENV || {};\n",
       "                    \n",
       "                if (document.getElementById(\"1b3b37bb-d2d9-4df7-91f8-f802818973a7\")) {\n",
       "                    Plotly.newPlot(\n",
       "                        '1b3b37bb-d2d9-4df7-91f8-f802818973a7',\n",
       "                        [{\"autocolorscale\": false, \"colorbar\": {\"title\": {\"text\": \"Positive per 100,000 people\"}}, \"colorscale\": [[0.0, \"rgb(255,245,235)\"], [0.125, \"rgb(254,230,206)\"], [0.25, \"rgb(253,208,162)\"], [0.375, \"rgb(253,174,107)\"], [0.5, \"rgb(253,141,60)\"], [0.625, \"rgb(241,105,19)\"], [0.75, \"rgb(217,72,1)\"], [0.875, \"rgb(166,54,3)\"], [1.0, \"rgb(127,39,4)\"]], \"locationmode\": \"USA-states\", \"locations\": [\"AR\", \"TX\", \"OR\", \"ME\", \"AK\", \"MI\", \"ND\", \"NM\", \"MS\", \"AZ\", \"FL\", \"MN\", \"NY\", \"SD\", \"UT\", \"MT\", \"CA\", \"LA\", \"DE\", \"WA\", \"NV\", \"IL\", \"ID\", \"DC\", \"RI\", \"AL\", \"OK\", \"NH\", \"TN\", \"WY\", \"CT\", \"KY\", \"VT\", \"IN\", \"SC\", \"OH\", \"MA\", \"NE\", \"WV\", \"NC\", \"MO\", \"NJ\", \"MD\", \"KS\", \"CO\", \"HI\", \"PA\", \"IA\", \"GA\", \"VA\", \"WI\"], \"marker\": {\"line\": {\"color\": \"white\"}}, \"text\": [\"AR\\nPositive: 1000.0, Deaths: 18.0, Negative: 13530.0, Total Tested: 14530\", \"TX\\nPositive: 9353.0, Deaths: 177.0, Negative: 86905.0, Total Tested: 96258\", \"OR\\nPositive: 1181.0, Deaths: 33.0, Negative: 21826.0, Total Tested: 23007\", \"ME\\nPositive: 537.0, Deaths: 14.0, Negative: 6088.0, Total Tested: 6625\", \"AK\\nPositive: 226.0, Deaths: 7.0, Negative: 6842.0, Total Tested: 7068\", \"MI\\nPositive: 20346.0, Deaths: 959.0, Negative: 31362.0, Total Tested: 51708\", \"ND\\nPositive: 251.0, Deaths: 4.0, Negative: 8301.0, Total Tested: 8552\", \"NM\\nPositive: 794.0, Deaths: 13.0, Negative: 21451.0, Total Tested: 22245\", \"MS\\nPositive: 2003.0, Deaths: 67.0, Negative: 18632.0, Total Tested: 20635\", \"AZ\\nPositive: 2726.0, Deaths: 80.0, Negative: 31838.0, Total Tested: 34564\", \"FL\\nPositive: 15455.0, Deaths: 309.0, Negative: 127679.0, Total Tested: 144458\", \"MN\\nPositive: 1154.0, Deaths: 39.0, Negative: 29599.0, Total Tested: 30753\", \"NY\\nPositive: 149316.0, Deaths: 6268.0, Negative: 215837.0, Total Tested: 365153\", \"SD\\nPositive: 393.0, Deaths: 6.0, Negative: 6355.0, Total Tested: 6748\", \"UT\\nPositive: 1846.0, Deaths: 13.0, Negative: 34270.0, Total Tested: 36116\", \"MT\\nPositive: 332.0, Deaths: 6.0, Negative: 7066.0, Total Tested: 7398\", \"CA\\nPositive: 16957.0, Deaths: 442.0, Negative: 127307.0, Total Tested: 158864\", \"LA\\nPositive: 17030.0, Deaths: 652.0, Negative: 64376.0, Total Tested: 81406\", \"DE\\nPositive: 928.0, Deaths: 16.0, Negative: 7628.0, Total Tested: 8556\", \"WA\\nPositive: 8682.0, Deaths: 394.0, Negative: 83391.0, Total Tested: 92073\", \"NV\\nPositive: 2318.0, Deaths: 71.0, Negative: 18248.0, Total Tested: 20566\", \"IL\\nPositive: 15078.0, Deaths: 462.0, Negative: 59988.0, Total Tested: 75066\", \"ID\\nPositive: 1210.0, Deaths: 15.0, Negative: 10688.0, Total Tested: 11898\", \"DC\\nPositive: 1440.0, Deaths: 27.0, Negative: 6843.0, Total Tested: 8283\", \"RI\\nPositive: 1450.0, Deaths: 35.0, Negative: 10682.0, Total Tested: 12132\", \"AL\\nPositive: 2369.0, Deaths: 66.0, Negative: 16753.0, Total Tested: 19122\", \"OK\\nPositive: 1524.0, Deaths: 79.0, Negative: 11821.0, Total Tested: 13345\", \"NH\\nPositive: 788.0, Deaths: 18.0, Negative: 8389.0, Total Tested: 9266\", \"TN\\nPositive: 4362.0, Deaths: 79.0, Negative: 52256.0, Total Tested: 56618\", \"WY\\nPositive: 221.0, Deaths: 0.0, Negative: 3843.0, Total Tested: 4064\", \"CT\\nPositive: 7781.0, Deaths: 277.0, Negative: 21255.0, Total Tested: 29036\", \"KY\\nPositive: 1149.0, Deaths: 65.0, Negative: 20455.0, Total Tested: 21604\", \"VT\\nPositive: 605.0, Deaths: 23.0, Negative: 7144.0, Total Tested: 7749\", \"IN\\nPositive: 5943.0, Deaths: 203.0, Negative: 24926.0, Total Tested: 30869\", \"SC\\nPositive: 2552.0, Deaths: 63.0, Negative: 22082.0, Total Tested: 24634\", \"OH\\nPositive: 5148.0, Deaths: 193.0, Negative: 48193.0, Total Tested: 53341\", \"MA\\nPositive: 16790.0, Deaths: 433.0, Negative: 70721.0, Total Tested: 87511\", \"NE\\nPositive: 519.0, Deaths: 12.0, Negative: 7442.0, Total Tested: 7961\", \"WV\\nPositive: 462.0, Deaths: 4.0, Negative: 12083.0, Total Tested: 12545\", \"NC\\nPositive: 3426.0, Deaths: 53.0, Negative: 39561.0, Total Tested: 42987\", \"MO\\nPositive: 3327.0, Deaths: 58.0, Negative: 30783.0, Total Tested: 34110\", \"NJ\\nPositive: 47437.0, Deaths: 1504.0, Negative: 52979.0, Total Tested: 100416\", \"MD\\nPositive: 5529.0, Deaths: 124.0, Negative: 32933.0, Total Tested: 38462\", \"KS\\nPositive: 900.0, Deaths: 27.0, Negative: 8614.0, Total Tested: 9514\", \"CO\\nPositive: 5429.0, Deaths: 179.0, Negative: 22665.0, Total Tested: 28094\", \"HI\\nPositive: 410.0, Deaths: 5.0, Negative: 14739.0, Total Tested: 15149\", \"PA\\nPositive: 16239.0, Deaths: 309.0, Negative: 82299.0, Total Tested: 98538\", \"IA\\nPositive: 1145.0, Deaths: 27.0, Negative: 12821.0, Total Tested: 13966\", \"GA\\nPositive: 9901.0, Deaths: 362.0, Negative: 28886.0, Total Tested: 38787\", \"VA\\nPositive: 3645.0, Deaths: 75.0, Negative: 27000.0, Total Tested: 30645\", \"WI\\nPositive: 2756.0, Deaths: 99.0, Negative: 30115.0, Total Tested: 32871\"], \"type\": \"choropleth\", \"z\": [33.13667819381245, 32.256305645619115, 28.000797584107307, 39.949055654911575, 30.89351987915986, 203.72775939417176, 32.93695263639967, 37.86670253034463, 67.30173791701961, 37.45165528485309, 71.95823284361849, 20.462328038425202, 767.5509897648045, 44.42389666526877, 57.580292692543075, 31.063513657653886, 42.915833918025825, 366.33156900477843, 95.30029863498754, 114.01342080578152, 75.25592859582437, 118.98842321083924, 67.70878507496931, 204.0385462820351, 136.8749651912804, 48.315533678619104, 38.51430804016507, 57.95349158755059, 63.873024761120455, 38.185151332419885, 218.24329990825422, 25.718086350545352, 96.95683738014613, 88.27698564173268, 49.56577506538526, 44.041029677220656, 243.59800786448696, 26.829913854781413, 25.779135305306983, 32.66564226602305, 54.20837523470743, 534.0687375523378, 91.45373225178972, 30.892653521041673, 94.27416016292464, 28.957419879763144, 126.8474765913328, 36.29079544986323, 93.25238337023966, 42.70390587848261, 47.33415612783245]}],\n",
       "                        {\"geo\": {\"lakecolor\": \"rgb(255, 255, 255)\", \"projection\": {\"type\": \"albers usa\"}, \"scope\": \"usa\", \"showlakes\": true}, \"template\": {\"data\": {\"bar\": [{\"error_x\": {\"color\": \"#2a3f5f\"}, \"error_y\": {\"color\": \"#2a3f5f\"}, \"marker\": {\"line\": {\"color\": \"#E5ECF6\", \"width\": 0.5}}, \"type\": \"bar\"}], \"barpolar\": [{\"marker\": {\"line\": {\"color\": \"#E5ECF6\", \"width\": 0.5}}, \"type\": \"barpolar\"}], \"carpet\": [{\"aaxis\": {\"endlinecolor\": \"#2a3f5f\", \"gridcolor\": \"white\", \"linecolor\": \"white\", \"minorgridcolor\": \"white\", \"startlinecolor\": \"#2a3f5f\"}, \"baxis\": {\"endlinecolor\": \"#2a3f5f\", \"gridcolor\": \"white\", \"linecolor\": \"white\", \"minorgridcolor\": \"white\", \"startlinecolor\": \"#2a3f5f\"}, \"type\": \"carpet\"}], \"choropleth\": [{\"colorbar\": {\"outlinewidth\": 0, \"ticks\": \"\"}, \"type\": \"choropleth\"}], \"contour\": [{\"colorbar\": {\"outlinewidth\": 0, \"ticks\": \"\"}, \"colorscale\": [[0.0, \"#0d0887\"], [0.1111111111111111, \"#46039f\"], [0.2222222222222222, \"#7201a8\"], [0.3333333333333333, \"#9c179e\"], [0.4444444444444444, \"#bd3786\"], [0.5555555555555556, \"#d8576b\"], [0.6666666666666666, \"#ed7953\"], [0.7777777777777778, \"#fb9f3a\"], [0.8888888888888888, \"#fdca26\"], [1.0, \"#f0f921\"]], \"type\": \"contour\"}], \"contourcarpet\": [{\"colorbar\": {\"outlinewidth\": 0, \"ticks\": \"\"}, \"type\": \"contourcarpet\"}], \"heatmap\": [{\"colorbar\": {\"outlinewidth\": 0, \"ticks\": \"\"}, \"colorscale\": [[0.0, \"#0d0887\"], [0.1111111111111111, \"#46039f\"], [0.2222222222222222, \"#7201a8\"], [0.3333333333333333, \"#9c179e\"], [0.4444444444444444, \"#bd3786\"], [0.5555555555555556, \"#d8576b\"], [0.6666666666666666, \"#ed7953\"], [0.7777777777777778, \"#fb9f3a\"], [0.8888888888888888, \"#fdca26\"], [1.0, \"#f0f921\"]], \"type\": \"heatmap\"}], \"heatmapgl\": [{\"colorbar\": {\"outlinewidth\": 0, \"ticks\": \"\"}, \"colorscale\": [[0.0, \"#0d0887\"], [0.1111111111111111, \"#46039f\"], [0.2222222222222222, \"#7201a8\"], [0.3333333333333333, \"#9c179e\"], [0.4444444444444444, \"#bd3786\"], [0.5555555555555556, \"#d8576b\"], [0.6666666666666666, \"#ed7953\"], [0.7777777777777778, \"#fb9f3a\"], [0.8888888888888888, \"#fdca26\"], [1.0, \"#f0f921\"]], \"type\": \"heatmapgl\"}], \"histogram\": [{\"marker\": {\"colorbar\": {\"outlinewidth\": 0, \"ticks\": \"\"}}, \"type\": \"histogram\"}], \"histogram2d\": [{\"colorbar\": {\"outlinewidth\": 0, \"ticks\": \"\"}, \"colorscale\": [[0.0, \"#0d0887\"], [0.1111111111111111, \"#46039f\"], [0.2222222222222222, \"#7201a8\"], [0.3333333333333333, \"#9c179e\"], [0.4444444444444444, \"#bd3786\"], [0.5555555555555556, \"#d8576b\"], [0.6666666666666666, \"#ed7953\"], [0.7777777777777778, \"#fb9f3a\"], [0.8888888888888888, \"#fdca26\"], [1.0, \"#f0f921\"]], \"type\": \"histogram2d\"}], \"histogram2dcontour\": [{\"colorbar\": {\"outlinewidth\": 0, \"ticks\": \"\"}, \"colorscale\": [[0.0, \"#0d0887\"], [0.1111111111111111, \"#46039f\"], [0.2222222222222222, \"#7201a8\"], [0.3333333333333333, \"#9c179e\"], [0.4444444444444444, \"#bd3786\"], [0.5555555555555556, \"#d8576b\"], [0.6666666666666666, \"#ed7953\"], [0.7777777777777778, \"#fb9f3a\"], [0.8888888888888888, \"#fdca26\"], [1.0, \"#f0f921\"]], \"type\": \"histogram2dcontour\"}], \"mesh3d\": [{\"colorbar\": {\"outlinewidth\": 0, \"ticks\": \"\"}, \"type\": \"mesh3d\"}], \"parcoords\": [{\"line\": {\"colorbar\": {\"outlinewidth\": 0, \"ticks\": \"\"}}, \"type\": \"parcoords\"}], \"pie\": [{\"automargin\": true, \"type\": \"pie\"}], \"scatter\": [{\"marker\": {\"colorbar\": {\"outlinewidth\": 0, \"ticks\": \"\"}}, \"type\": \"scatter\"}], \"scatter3d\": [{\"line\": {\"colorbar\": {\"outlinewidth\": 0, \"ticks\": \"\"}}, \"marker\": {\"colorbar\": {\"outlinewidth\": 0, \"ticks\": \"\"}}, \"type\": \"scatter3d\"}], \"scattercarpet\": [{\"marker\": {\"colorbar\": {\"outlinewidth\": 0, \"ticks\": \"\"}}, \"type\": \"scattercarpet\"}], \"scattergeo\": [{\"marker\": {\"colorbar\": {\"outlinewidth\": 0, \"ticks\": \"\"}}, \"type\": \"scattergeo\"}], \"scattergl\": [{\"marker\": {\"colorbar\": {\"outlinewidth\": 0, \"ticks\": \"\"}}, \"type\": \"scattergl\"}], \"scattermapbox\": [{\"marker\": {\"colorbar\": {\"outlinewidth\": 0, \"ticks\": \"\"}}, \"type\": \"scattermapbox\"}], \"scatterpolar\": [{\"marker\": {\"colorbar\": {\"outlinewidth\": 0, \"ticks\": \"\"}}, \"type\": \"scatterpolar\"}], \"scatterpolargl\": [{\"marker\": {\"colorbar\": {\"outlinewidth\": 0, \"ticks\": \"\"}}, \"type\": \"scatterpolargl\"}], \"scatterternary\": [{\"marker\": {\"colorbar\": {\"outlinewidth\": 0, \"ticks\": \"\"}}, \"type\": \"scatterternary\"}], \"surface\": [{\"colorbar\": {\"outlinewidth\": 0, \"ticks\": \"\"}, \"colorscale\": [[0.0, \"#0d0887\"], [0.1111111111111111, \"#46039f\"], [0.2222222222222222, \"#7201a8\"], [0.3333333333333333, \"#9c179e\"], [0.4444444444444444, \"#bd3786\"], [0.5555555555555556, \"#d8576b\"], [0.6666666666666666, \"#ed7953\"], [0.7777777777777778, \"#fb9f3a\"], [0.8888888888888888, \"#fdca26\"], [1.0, \"#f0f921\"]], \"type\": \"surface\"}], \"table\": [{\"cells\": {\"fill\": {\"color\": \"#EBF0F8\"}, \"line\": {\"color\": \"white\"}}, \"header\": {\"fill\": {\"color\": \"#C8D4E3\"}, \"line\": {\"color\": \"white\"}}, \"type\": \"table\"}]}, \"layout\": {\"annotationdefaults\": {\"arrowcolor\": \"#2a3f5f\", \"arrowhead\": 0, \"arrowwidth\": 1}, \"coloraxis\": {\"colorbar\": {\"outlinewidth\": 0, \"ticks\": \"\"}}, \"colorscale\": {\"diverging\": [[0, \"#8e0152\"], [0.1, \"#c51b7d\"], [0.2, \"#de77ae\"], [0.3, \"#f1b6da\"], [0.4, \"#fde0ef\"], [0.5, \"#f7f7f7\"], [0.6, \"#e6f5d0\"], [0.7, \"#b8e186\"], [0.8, \"#7fbc41\"], [0.9, \"#4d9221\"], [1, \"#276419\"]], \"sequential\": [[0.0, \"#0d0887\"], [0.1111111111111111, \"#46039f\"], [0.2222222222222222, \"#7201a8\"], [0.3333333333333333, \"#9c179e\"], [0.4444444444444444, \"#bd3786\"], [0.5555555555555556, \"#d8576b\"], [0.6666666666666666, \"#ed7953\"], [0.7777777777777778, \"#fb9f3a\"], [0.8888888888888888, \"#fdca26\"], [1.0, \"#f0f921\"]], \"sequentialminus\": [[0.0, \"#0d0887\"], [0.1111111111111111, \"#46039f\"], [0.2222222222222222, \"#7201a8\"], [0.3333333333333333, \"#9c179e\"], [0.4444444444444444, \"#bd3786\"], [0.5555555555555556, \"#d8576b\"], [0.6666666666666666, \"#ed7953\"], [0.7777777777777778, \"#fb9f3a\"], [0.8888888888888888, \"#fdca26\"], [1.0, \"#f0f921\"]]}, \"colorway\": [\"#636efa\", \"#EF553B\", \"#00cc96\", \"#ab63fa\", \"#FFA15A\", \"#19d3f3\", \"#FF6692\", \"#B6E880\", \"#FF97FF\", \"#FECB52\"], \"font\": {\"color\": \"#2a3f5f\"}, \"geo\": {\"bgcolor\": \"white\", \"lakecolor\": \"white\", \"landcolor\": \"#E5ECF6\", \"showlakes\": true, \"showland\": true, \"subunitcolor\": \"white\"}, \"hoverlabel\": {\"align\": \"left\"}, \"hovermode\": \"closest\", \"mapbox\": {\"style\": \"light\"}, \"paper_bgcolor\": \"white\", \"plot_bgcolor\": \"#E5ECF6\", \"polar\": {\"angularaxis\": {\"gridcolor\": \"white\", \"linecolor\": \"white\", \"ticks\": \"\"}, \"bgcolor\": \"#E5ECF6\", \"radialaxis\": {\"gridcolor\": \"white\", \"linecolor\": \"white\", \"ticks\": \"\"}}, \"scene\": {\"xaxis\": {\"backgroundcolor\": \"#E5ECF6\", \"gridcolor\": \"white\", \"gridwidth\": 2, \"linecolor\": \"white\", \"showbackground\": true, \"ticks\": \"\", \"zerolinecolor\": \"white\"}, \"yaxis\": {\"backgroundcolor\": \"#E5ECF6\", \"gridcolor\": \"white\", \"gridwidth\": 2, \"linecolor\": \"white\", \"showbackground\": true, \"ticks\": \"\", \"zerolinecolor\": \"white\"}, \"zaxis\": {\"backgroundcolor\": \"#E5ECF6\", \"gridcolor\": \"white\", \"gridwidth\": 2, \"linecolor\": \"white\", \"showbackground\": true, \"ticks\": \"\", \"zerolinecolor\": \"white\"}}, \"shapedefaults\": {\"line\": {\"color\": \"#2a3f5f\"}}, \"ternary\": {\"aaxis\": {\"gridcolor\": \"white\", \"linecolor\": \"white\", \"ticks\": \"\"}, \"baxis\": {\"gridcolor\": \"white\", \"linecolor\": \"white\", \"ticks\": \"\"}, \"bgcolor\": \"#E5ECF6\", \"caxis\": {\"gridcolor\": \"white\", \"linecolor\": \"white\", \"ticks\": \"\"}}, \"title\": {\"x\": 0.05}, \"xaxis\": {\"automargin\": true, \"gridcolor\": \"white\", \"linecolor\": \"white\", \"ticks\": \"\", \"title\": {\"standoff\": 15}, \"zerolinecolor\": \"white\", \"zerolinewidth\": 2}, \"yaxis\": {\"automargin\": true, \"gridcolor\": \"white\", \"linecolor\": \"white\", \"ticks\": \"\", \"title\": {\"standoff\": 15}, \"zerolinecolor\": \"white\", \"zerolinewidth\": 2}}}, \"title\": {\"text\": \"Positive Covid-19 cases per 100,000 people, by State<br>(Hover for breakdown)\"}},\n",
       "                        {\"responsive\": true}\n",
       "                    ).then(function(){\n",
       "                            \n",
       "var gd = document.getElementById('1b3b37bb-d2d9-4df7-91f8-f802818973a7');\n",
       "var x = new MutationObserver(function (mutations, observer) {{\n",
       "        var display = window.getComputedStyle(gd).display;\n",
       "        if (!display || display === 'none') {{\n",
       "            console.log([gd, 'removed!']);\n",
       "            Plotly.purge(gd);\n",
       "            observer.disconnect();\n",
       "        }}\n",
       "}});\n",
       "\n",
       "// Listen for the removal of the full notebook cells\n",
       "var notebookContainer = gd.closest('#notebook-container');\n",
       "if (notebookContainer) {{\n",
       "    x.observe(notebookContainer, {childList: true});\n",
       "}}\n",
       "\n",
       "// Listen for the clearing of the current output cell\n",
       "var outputEl = gd.closest('.output');\n",
       "if (outputEl) {{\n",
       "    x.observe(outputEl, {childList: true});\n",
       "}}\n",
       "\n",
       "                        })\n",
       "                };\n",
       "                });\n",
       "            </script>\n",
       "        </div>"
      ]
     },
     "metadata": {},
     "output_type": "display_data"
    }
   ],
   "source": [
    "fig = go.Figure(data=go.Choropleth(\n",
    "    locations=df2['state'],\n",
    "    z=df2['positive_per_100k'].astype(float),\n",
    "    locationmode='USA-states',\n",
    "    colorscale='Oranges',\n",
    "    autocolorscale=False,\n",
    "    text=df2['text'],  # hover text\n",
    "    marker_line_color='white',  # line markers between states\n",
    "    colorbar_title=\"Positive per 100,000 people\"\n",
    "))\n",
    "\n",
    "fig.update_layout(\n",
    "    title_text='Positive Covid-19 cases per 100,000 people, by State<br>(Hover for breakdown)',\n",
    "    geo=dict(\n",
    "        scope='usa',\n",
    "        projection=go.layout.geo.Projection(type='albers usa'),\n",
    "        showlakes=True,  # lakes\n",
    "        lakecolor='rgb(255, 255, 255)'),\n",
    ")\n",
    "fig.show();"
   ]
  },
  {
   "cell_type": "code",
   "execution_count": 32,
   "metadata": {
    "ExecuteTime": {
     "end_time": "2020-04-09T15:50:05.586578Z",
     "start_time": "2020-04-09T15:50:05.469959Z"
    }
   },
   "outputs": [
    {
     "data": {
      "application/vnd.plotly.v1+json": {
       "config": {
        "plotlyServerURL": "https://plot.ly"
       },
       "data": [
        {
         "autocolorscale": false,
         "colorbar": {
          "title": {
           "text": "Unemployment Insurance Claims"
          }
         },
         "colorscale": [
          [
           0,
           "rgb(255,245,235)"
          ],
          [
           0.125,
           "rgb(254,230,206)"
          ],
          [
           0.25,
           "rgb(253,208,162)"
          ],
          [
           0.375,
           "rgb(253,174,107)"
          ],
          [
           0.5,
           "rgb(253,141,60)"
          ],
          [
           0.625,
           "rgb(241,105,19)"
          ],
          [
           0.75,
           "rgb(217,72,1)"
          ],
          [
           0.875,
           "rgb(166,54,3)"
          ],
          [
           1,
           "rgb(127,39,4)"
          ]
         ],
         "locationmode": "USA-states",
         "locations": [
          "AR",
          "TX",
          "OR",
          "ME",
          "AK",
          "MI",
          "ND",
          "NM",
          "MS",
          "AZ",
          "FL",
          "MN",
          "NY",
          "SD",
          "UT",
          "MT",
          "CA",
          "LA",
          "DE",
          "WA",
          "NV",
          "IL",
          "ID",
          "DC",
          "RI",
          "AL",
          "OK",
          "NH",
          "TN",
          "WY",
          "CT",
          "KY",
          "VT",
          "IN",
          "SC",
          "OH",
          "MA",
          "NE",
          "WV",
          "NC",
          "MO",
          "NJ",
          "MD",
          "KS",
          "CO",
          "HI",
          "PA",
          "IA",
          "GA",
          "VA",
          "WI"
         ],
         "marker": {
          "line": {
           "color": "white"
          }
         },
         "text": [
          "AR\nPositive: 1000.0, Deaths: 18.0, Negative: 13530.0, Total Tested: 14530",
          "TX\nPositive: 9353.0, Deaths: 177.0, Negative: 86905.0, Total Tested: 96258",
          "OR\nPositive: 1181.0, Deaths: 33.0, Negative: 21826.0, Total Tested: 23007",
          "ME\nPositive: 537.0, Deaths: 14.0, Negative: 6088.0, Total Tested: 6625",
          "AK\nPositive: 226.0, Deaths: 7.0, Negative: 6842.0, Total Tested: 7068",
          "MI\nPositive: 20346.0, Deaths: 959.0, Negative: 31362.0, Total Tested: 51708",
          "ND\nPositive: 251.0, Deaths: 4.0, Negative: 8301.0, Total Tested: 8552",
          "NM\nPositive: 794.0, Deaths: 13.0, Negative: 21451.0, Total Tested: 22245",
          "MS\nPositive: 2003.0, Deaths: 67.0, Negative: 18632.0, Total Tested: 20635",
          "AZ\nPositive: 2726.0, Deaths: 80.0, Negative: 31838.0, Total Tested: 34564",
          "FL\nPositive: 15455.0, Deaths: 309.0, Negative: 127679.0, Total Tested: 144458",
          "MN\nPositive: 1154.0, Deaths: 39.0, Negative: 29599.0, Total Tested: 30753",
          "NY\nPositive: 149316.0, Deaths: 6268.0, Negative: 215837.0, Total Tested: 365153",
          "SD\nPositive: 393.0, Deaths: 6.0, Negative: 6355.0, Total Tested: 6748",
          "UT\nPositive: 1846.0, Deaths: 13.0, Negative: 34270.0, Total Tested: 36116",
          "MT\nPositive: 332.0, Deaths: 6.0, Negative: 7066.0, Total Tested: 7398",
          "CA\nPositive: 16957.0, Deaths: 442.0, Negative: 127307.0, Total Tested: 158864",
          "LA\nPositive: 17030.0, Deaths: 652.0, Negative: 64376.0, Total Tested: 81406",
          "DE\nPositive: 928.0, Deaths: 16.0, Negative: 7628.0, Total Tested: 8556",
          "WA\nPositive: 8682.0, Deaths: 394.0, Negative: 83391.0, Total Tested: 92073",
          "NV\nPositive: 2318.0, Deaths: 71.0, Negative: 18248.0, Total Tested: 20566",
          "IL\nPositive: 15078.0, Deaths: 462.0, Negative: 59988.0, Total Tested: 75066",
          "ID\nPositive: 1210.0, Deaths: 15.0, Negative: 10688.0, Total Tested: 11898",
          "DC\nPositive: 1440.0, Deaths: 27.0, Negative: 6843.0, Total Tested: 8283",
          "RI\nPositive: 1450.0, Deaths: 35.0, Negative: 10682.0, Total Tested: 12132",
          "AL\nPositive: 2369.0, Deaths: 66.0, Negative: 16753.0, Total Tested: 19122",
          "OK\nPositive: 1524.0, Deaths: 79.0, Negative: 11821.0, Total Tested: 13345",
          "NH\nPositive: 788.0, Deaths: 18.0, Negative: 8389.0, Total Tested: 9266",
          "TN\nPositive: 4362.0, Deaths: 79.0, Negative: 52256.0, Total Tested: 56618",
          "WY\nPositive: 221.0, Deaths: 0.0, Negative: 3843.0, Total Tested: 4064",
          "CT\nPositive: 7781.0, Deaths: 277.0, Negative: 21255.0, Total Tested: 29036",
          "KY\nPositive: 1149.0, Deaths: 65.0, Negative: 20455.0, Total Tested: 21604",
          "VT\nPositive: 605.0, Deaths: 23.0, Negative: 7144.0, Total Tested: 7749",
          "IN\nPositive: 5943.0, Deaths: 203.0, Negative: 24926.0, Total Tested: 30869",
          "SC\nPositive: 2552.0, Deaths: 63.0, Negative: 22082.0, Total Tested: 24634",
          "OH\nPositive: 5148.0, Deaths: 193.0, Negative: 48193.0, Total Tested: 53341",
          "MA\nPositive: 16790.0, Deaths: 433.0, Negative: 70721.0, Total Tested: 87511",
          "NE\nPositive: 519.0, Deaths: 12.0, Negative: 7442.0, Total Tested: 7961",
          "WV\nPositive: 462.0, Deaths: 4.0, Negative: 12083.0, Total Tested: 12545",
          "NC\nPositive: 3426.0, Deaths: 53.0, Negative: 39561.0, Total Tested: 42987",
          "MO\nPositive: 3327.0, Deaths: 58.0, Negative: 30783.0, Total Tested: 34110",
          "NJ\nPositive: 47437.0, Deaths: 1504.0, Negative: 52979.0, Total Tested: 100416",
          "MD\nPositive: 5529.0, Deaths: 124.0, Negative: 32933.0, Total Tested: 38462",
          "KS\nPositive: 900.0, Deaths: 27.0, Negative: 8614.0, Total Tested: 9514",
          "CO\nPositive: 5429.0, Deaths: 179.0, Negative: 22665.0, Total Tested: 28094",
          "HI\nPositive: 410.0, Deaths: 5.0, Negative: 14739.0, Total Tested: 15149",
          "PA\nPositive: 16239.0, Deaths: 309.0, Negative: 82299.0, Total Tested: 98538",
          "IA\nPositive: 1145.0, Deaths: 27.0, Negative: 12821.0, Total Tested: 13966",
          "GA\nPositive: 9901.0, Deaths: 362.0, Negative: 28886.0, Total Tested: 38787",
          "VA\nPositive: 3645.0, Deaths: 75.0, Negative: 27000.0, Total Tested: 30645",
          "WI\nPositive: 2756.0, Deaths: 99.0, Negative: 30115.0, Total Tested: 32871"
         ],
         "type": "choropleth",
         "z": [
          38413,
          447787,
          85975,
          45229,
          22741,
          437679,
          17895,
          46823,
          38681,
          122132,
          309260,
          228878,
          474901,
          8752,
          50542,
          36929,
          1302264,
          172093,
          30385,
          333614,
          170596,
          303405,
          47558,
          31544,
          64755,
          93695,
          69670,
          61399,
          133279,
          10566,
          61767,
          167420,
          19076,
          203748,
          100394,
          477643,
          337324,
          41220,
          19957,
          269761,
          150553,
          331535,
          134837,
          79648,
          83933,
          60277,
          809794,
          99147,
          151405,
          161480,
          167155
         ]
        }
       ],
       "layout": {
        "geo": {
         "lakecolor": "rgb(255, 255, 255)",
         "projection": {
          "type": "albers usa"
         },
         "scope": "usa",
         "showlakes": true
        },
        "template": {
         "data": {
          "bar": [
           {
            "error_x": {
             "color": "#2a3f5f"
            },
            "error_y": {
             "color": "#2a3f5f"
            },
            "marker": {
             "line": {
              "color": "#E5ECF6",
              "width": 0.5
             }
            },
            "type": "bar"
           }
          ],
          "barpolar": [
           {
            "marker": {
             "line": {
              "color": "#E5ECF6",
              "width": 0.5
             }
            },
            "type": "barpolar"
           }
          ],
          "carpet": [
           {
            "aaxis": {
             "endlinecolor": "#2a3f5f",
             "gridcolor": "white",
             "linecolor": "white",
             "minorgridcolor": "white",
             "startlinecolor": "#2a3f5f"
            },
            "baxis": {
             "endlinecolor": "#2a3f5f",
             "gridcolor": "white",
             "linecolor": "white",
             "minorgridcolor": "white",
             "startlinecolor": "#2a3f5f"
            },
            "type": "carpet"
           }
          ],
          "choropleth": [
           {
            "colorbar": {
             "outlinewidth": 0,
             "ticks": ""
            },
            "type": "choropleth"
           }
          ],
          "contour": [
           {
            "colorbar": {
             "outlinewidth": 0,
             "ticks": ""
            },
            "colorscale": [
             [
              0,
              "#0d0887"
             ],
             [
              0.1111111111111111,
              "#46039f"
             ],
             [
              0.2222222222222222,
              "#7201a8"
             ],
             [
              0.3333333333333333,
              "#9c179e"
             ],
             [
              0.4444444444444444,
              "#bd3786"
             ],
             [
              0.5555555555555556,
              "#d8576b"
             ],
             [
              0.6666666666666666,
              "#ed7953"
             ],
             [
              0.7777777777777778,
              "#fb9f3a"
             ],
             [
              0.8888888888888888,
              "#fdca26"
             ],
             [
              1,
              "#f0f921"
             ]
            ],
            "type": "contour"
           }
          ],
          "contourcarpet": [
           {
            "colorbar": {
             "outlinewidth": 0,
             "ticks": ""
            },
            "type": "contourcarpet"
           }
          ],
          "heatmap": [
           {
            "colorbar": {
             "outlinewidth": 0,
             "ticks": ""
            },
            "colorscale": [
             [
              0,
              "#0d0887"
             ],
             [
              0.1111111111111111,
              "#46039f"
             ],
             [
              0.2222222222222222,
              "#7201a8"
             ],
             [
              0.3333333333333333,
              "#9c179e"
             ],
             [
              0.4444444444444444,
              "#bd3786"
             ],
             [
              0.5555555555555556,
              "#d8576b"
             ],
             [
              0.6666666666666666,
              "#ed7953"
             ],
             [
              0.7777777777777778,
              "#fb9f3a"
             ],
             [
              0.8888888888888888,
              "#fdca26"
             ],
             [
              1,
              "#f0f921"
             ]
            ],
            "type": "heatmap"
           }
          ],
          "heatmapgl": [
           {
            "colorbar": {
             "outlinewidth": 0,
             "ticks": ""
            },
            "colorscale": [
             [
              0,
              "#0d0887"
             ],
             [
              0.1111111111111111,
              "#46039f"
             ],
             [
              0.2222222222222222,
              "#7201a8"
             ],
             [
              0.3333333333333333,
              "#9c179e"
             ],
             [
              0.4444444444444444,
              "#bd3786"
             ],
             [
              0.5555555555555556,
              "#d8576b"
             ],
             [
              0.6666666666666666,
              "#ed7953"
             ],
             [
              0.7777777777777778,
              "#fb9f3a"
             ],
             [
              0.8888888888888888,
              "#fdca26"
             ],
             [
              1,
              "#f0f921"
             ]
            ],
            "type": "heatmapgl"
           }
          ],
          "histogram": [
           {
            "marker": {
             "colorbar": {
              "outlinewidth": 0,
              "ticks": ""
             }
            },
            "type": "histogram"
           }
          ],
          "histogram2d": [
           {
            "colorbar": {
             "outlinewidth": 0,
             "ticks": ""
            },
            "colorscale": [
             [
              0,
              "#0d0887"
             ],
             [
              0.1111111111111111,
              "#46039f"
             ],
             [
              0.2222222222222222,
              "#7201a8"
             ],
             [
              0.3333333333333333,
              "#9c179e"
             ],
             [
              0.4444444444444444,
              "#bd3786"
             ],
             [
              0.5555555555555556,
              "#d8576b"
             ],
             [
              0.6666666666666666,
              "#ed7953"
             ],
             [
              0.7777777777777778,
              "#fb9f3a"
             ],
             [
              0.8888888888888888,
              "#fdca26"
             ],
             [
              1,
              "#f0f921"
             ]
            ],
            "type": "histogram2d"
           }
          ],
          "histogram2dcontour": [
           {
            "colorbar": {
             "outlinewidth": 0,
             "ticks": ""
            },
            "colorscale": [
             [
              0,
              "#0d0887"
             ],
             [
              0.1111111111111111,
              "#46039f"
             ],
             [
              0.2222222222222222,
              "#7201a8"
             ],
             [
              0.3333333333333333,
              "#9c179e"
             ],
             [
              0.4444444444444444,
              "#bd3786"
             ],
             [
              0.5555555555555556,
              "#d8576b"
             ],
             [
              0.6666666666666666,
              "#ed7953"
             ],
             [
              0.7777777777777778,
              "#fb9f3a"
             ],
             [
              0.8888888888888888,
              "#fdca26"
             ],
             [
              1,
              "#f0f921"
             ]
            ],
            "type": "histogram2dcontour"
           }
          ],
          "mesh3d": [
           {
            "colorbar": {
             "outlinewidth": 0,
             "ticks": ""
            },
            "type": "mesh3d"
           }
          ],
          "parcoords": [
           {
            "line": {
             "colorbar": {
              "outlinewidth": 0,
              "ticks": ""
             }
            },
            "type": "parcoords"
           }
          ],
          "pie": [
           {
            "automargin": true,
            "type": "pie"
           }
          ],
          "scatter": [
           {
            "marker": {
             "colorbar": {
              "outlinewidth": 0,
              "ticks": ""
             }
            },
            "type": "scatter"
           }
          ],
          "scatter3d": [
           {
            "line": {
             "colorbar": {
              "outlinewidth": 0,
              "ticks": ""
             }
            },
            "marker": {
             "colorbar": {
              "outlinewidth": 0,
              "ticks": ""
             }
            },
            "type": "scatter3d"
           }
          ],
          "scattercarpet": [
           {
            "marker": {
             "colorbar": {
              "outlinewidth": 0,
              "ticks": ""
             }
            },
            "type": "scattercarpet"
           }
          ],
          "scattergeo": [
           {
            "marker": {
             "colorbar": {
              "outlinewidth": 0,
              "ticks": ""
             }
            },
            "type": "scattergeo"
           }
          ],
          "scattergl": [
           {
            "marker": {
             "colorbar": {
              "outlinewidth": 0,
              "ticks": ""
             }
            },
            "type": "scattergl"
           }
          ],
          "scattermapbox": [
           {
            "marker": {
             "colorbar": {
              "outlinewidth": 0,
              "ticks": ""
             }
            },
            "type": "scattermapbox"
           }
          ],
          "scatterpolar": [
           {
            "marker": {
             "colorbar": {
              "outlinewidth": 0,
              "ticks": ""
             }
            },
            "type": "scatterpolar"
           }
          ],
          "scatterpolargl": [
           {
            "marker": {
             "colorbar": {
              "outlinewidth": 0,
              "ticks": ""
             }
            },
            "type": "scatterpolargl"
           }
          ],
          "scatterternary": [
           {
            "marker": {
             "colorbar": {
              "outlinewidth": 0,
              "ticks": ""
             }
            },
            "type": "scatterternary"
           }
          ],
          "surface": [
           {
            "colorbar": {
             "outlinewidth": 0,
             "ticks": ""
            },
            "colorscale": [
             [
              0,
              "#0d0887"
             ],
             [
              0.1111111111111111,
              "#46039f"
             ],
             [
              0.2222222222222222,
              "#7201a8"
             ],
             [
              0.3333333333333333,
              "#9c179e"
             ],
             [
              0.4444444444444444,
              "#bd3786"
             ],
             [
              0.5555555555555556,
              "#d8576b"
             ],
             [
              0.6666666666666666,
              "#ed7953"
             ],
             [
              0.7777777777777778,
              "#fb9f3a"
             ],
             [
              0.8888888888888888,
              "#fdca26"
             ],
             [
              1,
              "#f0f921"
             ]
            ],
            "type": "surface"
           }
          ],
          "table": [
           {
            "cells": {
             "fill": {
              "color": "#EBF0F8"
             },
             "line": {
              "color": "white"
             }
            },
            "header": {
             "fill": {
              "color": "#C8D4E3"
             },
             "line": {
              "color": "white"
             }
            },
            "type": "table"
           }
          ]
         },
         "layout": {
          "annotationdefaults": {
           "arrowcolor": "#2a3f5f",
           "arrowhead": 0,
           "arrowwidth": 1
          },
          "coloraxis": {
           "colorbar": {
            "outlinewidth": 0,
            "ticks": ""
           }
          },
          "colorscale": {
           "diverging": [
            [
             0,
             "#8e0152"
            ],
            [
             0.1,
             "#c51b7d"
            ],
            [
             0.2,
             "#de77ae"
            ],
            [
             0.3,
             "#f1b6da"
            ],
            [
             0.4,
             "#fde0ef"
            ],
            [
             0.5,
             "#f7f7f7"
            ],
            [
             0.6,
             "#e6f5d0"
            ],
            [
             0.7,
             "#b8e186"
            ],
            [
             0.8,
             "#7fbc41"
            ],
            [
             0.9,
             "#4d9221"
            ],
            [
             1,
             "#276419"
            ]
           ],
           "sequential": [
            [
             0,
             "#0d0887"
            ],
            [
             0.1111111111111111,
             "#46039f"
            ],
            [
             0.2222222222222222,
             "#7201a8"
            ],
            [
             0.3333333333333333,
             "#9c179e"
            ],
            [
             0.4444444444444444,
             "#bd3786"
            ],
            [
             0.5555555555555556,
             "#d8576b"
            ],
            [
             0.6666666666666666,
             "#ed7953"
            ],
            [
             0.7777777777777778,
             "#fb9f3a"
            ],
            [
             0.8888888888888888,
             "#fdca26"
            ],
            [
             1,
             "#f0f921"
            ]
           ],
           "sequentialminus": [
            [
             0,
             "#0d0887"
            ],
            [
             0.1111111111111111,
             "#46039f"
            ],
            [
             0.2222222222222222,
             "#7201a8"
            ],
            [
             0.3333333333333333,
             "#9c179e"
            ],
            [
             0.4444444444444444,
             "#bd3786"
            ],
            [
             0.5555555555555556,
             "#d8576b"
            ],
            [
             0.6666666666666666,
             "#ed7953"
            ],
            [
             0.7777777777777778,
             "#fb9f3a"
            ],
            [
             0.8888888888888888,
             "#fdca26"
            ],
            [
             1,
             "#f0f921"
            ]
           ]
          },
          "colorway": [
           "#636efa",
           "#EF553B",
           "#00cc96",
           "#ab63fa",
           "#FFA15A",
           "#19d3f3",
           "#FF6692",
           "#B6E880",
           "#FF97FF",
           "#FECB52"
          ],
          "font": {
           "color": "#2a3f5f"
          },
          "geo": {
           "bgcolor": "white",
           "lakecolor": "white",
           "landcolor": "#E5ECF6",
           "showlakes": true,
           "showland": true,
           "subunitcolor": "white"
          },
          "hoverlabel": {
           "align": "left"
          },
          "hovermode": "closest",
          "mapbox": {
           "style": "light"
          },
          "paper_bgcolor": "white",
          "plot_bgcolor": "#E5ECF6",
          "polar": {
           "angularaxis": {
            "gridcolor": "white",
            "linecolor": "white",
            "ticks": ""
           },
           "bgcolor": "#E5ECF6",
           "radialaxis": {
            "gridcolor": "white",
            "linecolor": "white",
            "ticks": ""
           }
          },
          "scene": {
           "xaxis": {
            "backgroundcolor": "#E5ECF6",
            "gridcolor": "white",
            "gridwidth": 2,
            "linecolor": "white",
            "showbackground": true,
            "ticks": "",
            "zerolinecolor": "white"
           },
           "yaxis": {
            "backgroundcolor": "#E5ECF6",
            "gridcolor": "white",
            "gridwidth": 2,
            "linecolor": "white",
            "showbackground": true,
            "ticks": "",
            "zerolinecolor": "white"
           },
           "zaxis": {
            "backgroundcolor": "#E5ECF6",
            "gridcolor": "white",
            "gridwidth": 2,
            "linecolor": "white",
            "showbackground": true,
            "ticks": "",
            "zerolinecolor": "white"
           }
          },
          "shapedefaults": {
           "line": {
            "color": "#2a3f5f"
           }
          },
          "ternary": {
           "aaxis": {
            "gridcolor": "white",
            "linecolor": "white",
            "ticks": ""
           },
           "baxis": {
            "gridcolor": "white",
            "linecolor": "white",
            "ticks": ""
           },
           "bgcolor": "#E5ECF6",
           "caxis": {
            "gridcolor": "white",
            "linecolor": "white",
            "ticks": ""
           }
          },
          "title": {
           "x": 0.05
          },
          "xaxis": {
           "automargin": true,
           "gridcolor": "white",
           "linecolor": "white",
           "ticks": "",
           "title": {
            "standoff": 15
           },
           "zerolinecolor": "white",
           "zerolinewidth": 2
          },
          "yaxis": {
           "automargin": true,
           "gridcolor": "white",
           "linecolor": "white",
           "ticks": "",
           "title": {
            "standoff": 15
           },
           "zerolinecolor": "white",
           "zerolinewidth": 2
          }
         }
        },
        "title": {
         "text": "Unemployment Insurance Claims since Emergency Declaration,<br>by State (Hover for breakdown)"
        }
       }
      },
      "text/html": [
       "<div>\n",
       "        \n",
       "        \n",
       "            <div id=\"93a3f7af-ba5a-483a-b952-9cc0a996851d\" class=\"plotly-graph-div\" style=\"height:525px; width:100%;\"></div>\n",
       "            <script type=\"text/javascript\">\n",
       "                require([\"plotly\"], function(Plotly) {\n",
       "                    window.PLOTLYENV=window.PLOTLYENV || {};\n",
       "                    \n",
       "                if (document.getElementById(\"93a3f7af-ba5a-483a-b952-9cc0a996851d\")) {\n",
       "                    Plotly.newPlot(\n",
       "                        '93a3f7af-ba5a-483a-b952-9cc0a996851d',\n",
       "                        [{\"autocolorscale\": false, \"colorbar\": {\"title\": {\"text\": \"Unemployment Insurance Claims\"}}, \"colorscale\": [[0.0, \"rgb(255,245,235)\"], [0.125, \"rgb(254,230,206)\"], [0.25, \"rgb(253,208,162)\"], [0.375, \"rgb(253,174,107)\"], [0.5, \"rgb(253,141,60)\"], [0.625, \"rgb(241,105,19)\"], [0.75, \"rgb(217,72,1)\"], [0.875, \"rgb(166,54,3)\"], [1.0, \"rgb(127,39,4)\"]], \"locationmode\": \"USA-states\", \"locations\": [\"AR\", \"TX\", \"OR\", \"ME\", \"AK\", \"MI\", \"ND\", \"NM\", \"MS\", \"AZ\", \"FL\", \"MN\", \"NY\", \"SD\", \"UT\", \"MT\", \"CA\", \"LA\", \"DE\", \"WA\", \"NV\", \"IL\", \"ID\", \"DC\", \"RI\", \"AL\", \"OK\", \"NH\", \"TN\", \"WY\", \"CT\", \"KY\", \"VT\", \"IN\", \"SC\", \"OH\", \"MA\", \"NE\", \"WV\", \"NC\", \"MO\", \"NJ\", \"MD\", \"KS\", \"CO\", \"HI\", \"PA\", \"IA\", \"GA\", \"VA\", \"WI\"], \"marker\": {\"line\": {\"color\": \"white\"}}, \"text\": [\"AR\\nPositive: 1000.0, Deaths: 18.0, Negative: 13530.0, Total Tested: 14530\", \"TX\\nPositive: 9353.0, Deaths: 177.0, Negative: 86905.0, Total Tested: 96258\", \"OR\\nPositive: 1181.0, Deaths: 33.0, Negative: 21826.0, Total Tested: 23007\", \"ME\\nPositive: 537.0, Deaths: 14.0, Negative: 6088.0, Total Tested: 6625\", \"AK\\nPositive: 226.0, Deaths: 7.0, Negative: 6842.0, Total Tested: 7068\", \"MI\\nPositive: 20346.0, Deaths: 959.0, Negative: 31362.0, Total Tested: 51708\", \"ND\\nPositive: 251.0, Deaths: 4.0, Negative: 8301.0, Total Tested: 8552\", \"NM\\nPositive: 794.0, Deaths: 13.0, Negative: 21451.0, Total Tested: 22245\", \"MS\\nPositive: 2003.0, Deaths: 67.0, Negative: 18632.0, Total Tested: 20635\", \"AZ\\nPositive: 2726.0, Deaths: 80.0, Negative: 31838.0, Total Tested: 34564\", \"FL\\nPositive: 15455.0, Deaths: 309.0, Negative: 127679.0, Total Tested: 144458\", \"MN\\nPositive: 1154.0, Deaths: 39.0, Negative: 29599.0, Total Tested: 30753\", \"NY\\nPositive: 149316.0, Deaths: 6268.0, Negative: 215837.0, Total Tested: 365153\", \"SD\\nPositive: 393.0, Deaths: 6.0, Negative: 6355.0, Total Tested: 6748\", \"UT\\nPositive: 1846.0, Deaths: 13.0, Negative: 34270.0, Total Tested: 36116\", \"MT\\nPositive: 332.0, Deaths: 6.0, Negative: 7066.0, Total Tested: 7398\", \"CA\\nPositive: 16957.0, Deaths: 442.0, Negative: 127307.0, Total Tested: 158864\", \"LA\\nPositive: 17030.0, Deaths: 652.0, Negative: 64376.0, Total Tested: 81406\", \"DE\\nPositive: 928.0, Deaths: 16.0, Negative: 7628.0, Total Tested: 8556\", \"WA\\nPositive: 8682.0, Deaths: 394.0, Negative: 83391.0, Total Tested: 92073\", \"NV\\nPositive: 2318.0, Deaths: 71.0, Negative: 18248.0, Total Tested: 20566\", \"IL\\nPositive: 15078.0, Deaths: 462.0, Negative: 59988.0, Total Tested: 75066\", \"ID\\nPositive: 1210.0, Deaths: 15.0, Negative: 10688.0, Total Tested: 11898\", \"DC\\nPositive: 1440.0, Deaths: 27.0, Negative: 6843.0, Total Tested: 8283\", \"RI\\nPositive: 1450.0, Deaths: 35.0, Negative: 10682.0, Total Tested: 12132\", \"AL\\nPositive: 2369.0, Deaths: 66.0, Negative: 16753.0, Total Tested: 19122\", \"OK\\nPositive: 1524.0, Deaths: 79.0, Negative: 11821.0, Total Tested: 13345\", \"NH\\nPositive: 788.0, Deaths: 18.0, Negative: 8389.0, Total Tested: 9266\", \"TN\\nPositive: 4362.0, Deaths: 79.0, Negative: 52256.0, Total Tested: 56618\", \"WY\\nPositive: 221.0, Deaths: 0.0, Negative: 3843.0, Total Tested: 4064\", \"CT\\nPositive: 7781.0, Deaths: 277.0, Negative: 21255.0, Total Tested: 29036\", \"KY\\nPositive: 1149.0, Deaths: 65.0, Negative: 20455.0, Total Tested: 21604\", \"VT\\nPositive: 605.0, Deaths: 23.0, Negative: 7144.0, Total Tested: 7749\", \"IN\\nPositive: 5943.0, Deaths: 203.0, Negative: 24926.0, Total Tested: 30869\", \"SC\\nPositive: 2552.0, Deaths: 63.0, Negative: 22082.0, Total Tested: 24634\", \"OH\\nPositive: 5148.0, Deaths: 193.0, Negative: 48193.0, Total Tested: 53341\", \"MA\\nPositive: 16790.0, Deaths: 433.0, Negative: 70721.0, Total Tested: 87511\", \"NE\\nPositive: 519.0, Deaths: 12.0, Negative: 7442.0, Total Tested: 7961\", \"WV\\nPositive: 462.0, Deaths: 4.0, Negative: 12083.0, Total Tested: 12545\", \"NC\\nPositive: 3426.0, Deaths: 53.0, Negative: 39561.0, Total Tested: 42987\", \"MO\\nPositive: 3327.0, Deaths: 58.0, Negative: 30783.0, Total Tested: 34110\", \"NJ\\nPositive: 47437.0, Deaths: 1504.0, Negative: 52979.0, Total Tested: 100416\", \"MD\\nPositive: 5529.0, Deaths: 124.0, Negative: 32933.0, Total Tested: 38462\", \"KS\\nPositive: 900.0, Deaths: 27.0, Negative: 8614.0, Total Tested: 9514\", \"CO\\nPositive: 5429.0, Deaths: 179.0, Negative: 22665.0, Total Tested: 28094\", \"HI\\nPositive: 410.0, Deaths: 5.0, Negative: 14739.0, Total Tested: 15149\", \"PA\\nPositive: 16239.0, Deaths: 309.0, Negative: 82299.0, Total Tested: 98538\", \"IA\\nPositive: 1145.0, Deaths: 27.0, Negative: 12821.0, Total Tested: 13966\", \"GA\\nPositive: 9901.0, Deaths: 362.0, Negative: 28886.0, Total Tested: 38787\", \"VA\\nPositive: 3645.0, Deaths: 75.0, Negative: 27000.0, Total Tested: 30645\", \"WI\\nPositive: 2756.0, Deaths: 99.0, Negative: 30115.0, Total Tested: 32871\"], \"type\": \"choropleth\", \"z\": [38413.0, 447787.0, 85975.0, 45229.0, 22741.0, 437679.0, 17895.0, 46823.0, 38681.0, 122132.0, 309260.0, 228878.0, 474901.0, 8752.0, 50542.0, 36929.0, 1302264.0, 172093.0, 30385.0, 333614.0, 170596.0, 303405.0, 47558.0, 31544.0, 64755.0, 93695.0, 69670.0, 61399.0, 133279.0, 10566.0, 61767.0, 167420.0, 19076.0, 203748.0, 100394.0, 477643.0, 337324.0, 41220.0, 19957.0, 269761.0, 150553.0, 331535.0, 134837.0, 79648.0, 83933.0, 60277.0, 809794.0, 99147.0, 151405.0, 161480.0, 167155.0]}],\n",
       "                        {\"geo\": {\"lakecolor\": \"rgb(255, 255, 255)\", \"projection\": {\"type\": \"albers usa\"}, \"scope\": \"usa\", \"showlakes\": true}, \"template\": {\"data\": {\"bar\": [{\"error_x\": {\"color\": \"#2a3f5f\"}, \"error_y\": {\"color\": \"#2a3f5f\"}, \"marker\": {\"line\": {\"color\": \"#E5ECF6\", \"width\": 0.5}}, \"type\": \"bar\"}], \"barpolar\": [{\"marker\": {\"line\": {\"color\": \"#E5ECF6\", \"width\": 0.5}}, \"type\": \"barpolar\"}], \"carpet\": [{\"aaxis\": {\"endlinecolor\": \"#2a3f5f\", \"gridcolor\": \"white\", \"linecolor\": \"white\", \"minorgridcolor\": \"white\", \"startlinecolor\": \"#2a3f5f\"}, \"baxis\": {\"endlinecolor\": \"#2a3f5f\", \"gridcolor\": \"white\", \"linecolor\": \"white\", \"minorgridcolor\": \"white\", \"startlinecolor\": \"#2a3f5f\"}, \"type\": \"carpet\"}], \"choropleth\": [{\"colorbar\": {\"outlinewidth\": 0, \"ticks\": \"\"}, \"type\": \"choropleth\"}], \"contour\": [{\"colorbar\": {\"outlinewidth\": 0, \"ticks\": \"\"}, \"colorscale\": [[0.0, \"#0d0887\"], [0.1111111111111111, \"#46039f\"], [0.2222222222222222, \"#7201a8\"], [0.3333333333333333, \"#9c179e\"], [0.4444444444444444, \"#bd3786\"], [0.5555555555555556, \"#d8576b\"], [0.6666666666666666, \"#ed7953\"], [0.7777777777777778, \"#fb9f3a\"], [0.8888888888888888, \"#fdca26\"], [1.0, \"#f0f921\"]], \"type\": \"contour\"}], \"contourcarpet\": [{\"colorbar\": {\"outlinewidth\": 0, \"ticks\": \"\"}, \"type\": \"contourcarpet\"}], \"heatmap\": [{\"colorbar\": {\"outlinewidth\": 0, \"ticks\": \"\"}, \"colorscale\": [[0.0, \"#0d0887\"], [0.1111111111111111, \"#46039f\"], [0.2222222222222222, \"#7201a8\"], [0.3333333333333333, \"#9c179e\"], [0.4444444444444444, \"#bd3786\"], [0.5555555555555556, \"#d8576b\"], [0.6666666666666666, \"#ed7953\"], [0.7777777777777778, \"#fb9f3a\"], [0.8888888888888888, \"#fdca26\"], [1.0, \"#f0f921\"]], \"type\": \"heatmap\"}], \"heatmapgl\": [{\"colorbar\": {\"outlinewidth\": 0, \"ticks\": \"\"}, \"colorscale\": [[0.0, \"#0d0887\"], [0.1111111111111111, \"#46039f\"], [0.2222222222222222, \"#7201a8\"], [0.3333333333333333, \"#9c179e\"], [0.4444444444444444, \"#bd3786\"], [0.5555555555555556, \"#d8576b\"], [0.6666666666666666, \"#ed7953\"], [0.7777777777777778, \"#fb9f3a\"], [0.8888888888888888, \"#fdca26\"], [1.0, \"#f0f921\"]], \"type\": \"heatmapgl\"}], \"histogram\": [{\"marker\": {\"colorbar\": {\"outlinewidth\": 0, \"ticks\": \"\"}}, \"type\": \"histogram\"}], \"histogram2d\": [{\"colorbar\": {\"outlinewidth\": 0, \"ticks\": \"\"}, \"colorscale\": [[0.0, \"#0d0887\"], [0.1111111111111111, \"#46039f\"], [0.2222222222222222, \"#7201a8\"], [0.3333333333333333, \"#9c179e\"], [0.4444444444444444, \"#bd3786\"], [0.5555555555555556, \"#d8576b\"], [0.6666666666666666, \"#ed7953\"], [0.7777777777777778, \"#fb9f3a\"], [0.8888888888888888, \"#fdca26\"], [1.0, \"#f0f921\"]], \"type\": \"histogram2d\"}], \"histogram2dcontour\": [{\"colorbar\": {\"outlinewidth\": 0, \"ticks\": \"\"}, \"colorscale\": [[0.0, \"#0d0887\"], [0.1111111111111111, \"#46039f\"], [0.2222222222222222, \"#7201a8\"], [0.3333333333333333, \"#9c179e\"], [0.4444444444444444, \"#bd3786\"], [0.5555555555555556, \"#d8576b\"], [0.6666666666666666, \"#ed7953\"], [0.7777777777777778, \"#fb9f3a\"], [0.8888888888888888, \"#fdca26\"], [1.0, \"#f0f921\"]], \"type\": \"histogram2dcontour\"}], \"mesh3d\": [{\"colorbar\": {\"outlinewidth\": 0, \"ticks\": \"\"}, \"type\": \"mesh3d\"}], \"parcoords\": [{\"line\": {\"colorbar\": {\"outlinewidth\": 0, \"ticks\": \"\"}}, \"type\": \"parcoords\"}], \"pie\": [{\"automargin\": true, \"type\": \"pie\"}], \"scatter\": [{\"marker\": {\"colorbar\": {\"outlinewidth\": 0, \"ticks\": \"\"}}, \"type\": \"scatter\"}], \"scatter3d\": [{\"line\": {\"colorbar\": {\"outlinewidth\": 0, \"ticks\": \"\"}}, \"marker\": {\"colorbar\": {\"outlinewidth\": 0, \"ticks\": \"\"}}, \"type\": \"scatter3d\"}], \"scattercarpet\": [{\"marker\": {\"colorbar\": {\"outlinewidth\": 0, \"ticks\": \"\"}}, \"type\": \"scattercarpet\"}], \"scattergeo\": [{\"marker\": {\"colorbar\": {\"outlinewidth\": 0, \"ticks\": \"\"}}, \"type\": \"scattergeo\"}], \"scattergl\": [{\"marker\": {\"colorbar\": {\"outlinewidth\": 0, \"ticks\": \"\"}}, \"type\": \"scattergl\"}], \"scattermapbox\": [{\"marker\": {\"colorbar\": {\"outlinewidth\": 0, \"ticks\": \"\"}}, \"type\": \"scattermapbox\"}], \"scatterpolar\": [{\"marker\": {\"colorbar\": {\"outlinewidth\": 0, \"ticks\": \"\"}}, \"type\": \"scatterpolar\"}], \"scatterpolargl\": [{\"marker\": {\"colorbar\": {\"outlinewidth\": 0, \"ticks\": \"\"}}, \"type\": \"scatterpolargl\"}], \"scatterternary\": [{\"marker\": {\"colorbar\": {\"outlinewidth\": 0, \"ticks\": \"\"}}, \"type\": \"scatterternary\"}], \"surface\": [{\"colorbar\": {\"outlinewidth\": 0, \"ticks\": \"\"}, \"colorscale\": [[0.0, \"#0d0887\"], [0.1111111111111111, \"#46039f\"], [0.2222222222222222, \"#7201a8\"], [0.3333333333333333, \"#9c179e\"], [0.4444444444444444, \"#bd3786\"], [0.5555555555555556, \"#d8576b\"], [0.6666666666666666, \"#ed7953\"], [0.7777777777777778, \"#fb9f3a\"], [0.8888888888888888, \"#fdca26\"], [1.0, \"#f0f921\"]], \"type\": \"surface\"}], \"table\": [{\"cells\": {\"fill\": {\"color\": \"#EBF0F8\"}, \"line\": {\"color\": \"white\"}}, \"header\": {\"fill\": {\"color\": \"#C8D4E3\"}, \"line\": {\"color\": \"white\"}}, \"type\": \"table\"}]}, \"layout\": {\"annotationdefaults\": {\"arrowcolor\": \"#2a3f5f\", \"arrowhead\": 0, \"arrowwidth\": 1}, \"coloraxis\": {\"colorbar\": {\"outlinewidth\": 0, \"ticks\": \"\"}}, \"colorscale\": {\"diverging\": [[0, \"#8e0152\"], [0.1, \"#c51b7d\"], [0.2, \"#de77ae\"], [0.3, \"#f1b6da\"], [0.4, \"#fde0ef\"], [0.5, \"#f7f7f7\"], [0.6, \"#e6f5d0\"], [0.7, \"#b8e186\"], [0.8, \"#7fbc41\"], [0.9, \"#4d9221\"], [1, \"#276419\"]], \"sequential\": [[0.0, \"#0d0887\"], [0.1111111111111111, \"#46039f\"], [0.2222222222222222, \"#7201a8\"], [0.3333333333333333, \"#9c179e\"], [0.4444444444444444, \"#bd3786\"], [0.5555555555555556, \"#d8576b\"], [0.6666666666666666, \"#ed7953\"], [0.7777777777777778, \"#fb9f3a\"], [0.8888888888888888, \"#fdca26\"], [1.0, \"#f0f921\"]], \"sequentialminus\": [[0.0, \"#0d0887\"], [0.1111111111111111, \"#46039f\"], [0.2222222222222222, \"#7201a8\"], [0.3333333333333333, \"#9c179e\"], [0.4444444444444444, \"#bd3786\"], [0.5555555555555556, \"#d8576b\"], [0.6666666666666666, \"#ed7953\"], [0.7777777777777778, \"#fb9f3a\"], [0.8888888888888888, \"#fdca26\"], [1.0, \"#f0f921\"]]}, \"colorway\": [\"#636efa\", \"#EF553B\", \"#00cc96\", \"#ab63fa\", \"#FFA15A\", \"#19d3f3\", \"#FF6692\", \"#B6E880\", \"#FF97FF\", \"#FECB52\"], \"font\": {\"color\": \"#2a3f5f\"}, \"geo\": {\"bgcolor\": \"white\", \"lakecolor\": \"white\", \"landcolor\": \"#E5ECF6\", \"showlakes\": true, \"showland\": true, \"subunitcolor\": \"white\"}, \"hoverlabel\": {\"align\": \"left\"}, \"hovermode\": \"closest\", \"mapbox\": {\"style\": \"light\"}, \"paper_bgcolor\": \"white\", \"plot_bgcolor\": \"#E5ECF6\", \"polar\": {\"angularaxis\": {\"gridcolor\": \"white\", \"linecolor\": \"white\", \"ticks\": \"\"}, \"bgcolor\": \"#E5ECF6\", \"radialaxis\": {\"gridcolor\": \"white\", \"linecolor\": \"white\", \"ticks\": \"\"}}, \"scene\": {\"xaxis\": {\"backgroundcolor\": \"#E5ECF6\", \"gridcolor\": \"white\", \"gridwidth\": 2, \"linecolor\": \"white\", \"showbackground\": true, \"ticks\": \"\", \"zerolinecolor\": \"white\"}, \"yaxis\": {\"backgroundcolor\": \"#E5ECF6\", \"gridcolor\": \"white\", \"gridwidth\": 2, \"linecolor\": \"white\", \"showbackground\": true, \"ticks\": \"\", \"zerolinecolor\": \"white\"}, \"zaxis\": {\"backgroundcolor\": \"#E5ECF6\", \"gridcolor\": \"white\", \"gridwidth\": 2, \"linecolor\": \"white\", \"showbackground\": true, \"ticks\": \"\", \"zerolinecolor\": \"white\"}}, \"shapedefaults\": {\"line\": {\"color\": \"#2a3f5f\"}}, \"ternary\": {\"aaxis\": {\"gridcolor\": \"white\", \"linecolor\": \"white\", \"ticks\": \"\"}, \"baxis\": {\"gridcolor\": \"white\", \"linecolor\": \"white\", \"ticks\": \"\"}, \"bgcolor\": \"#E5ECF6\", \"caxis\": {\"gridcolor\": \"white\", \"linecolor\": \"white\", \"ticks\": \"\"}}, \"title\": {\"x\": 0.05}, \"xaxis\": {\"automargin\": true, \"gridcolor\": \"white\", \"linecolor\": \"white\", \"ticks\": \"\", \"title\": {\"standoff\": 15}, \"zerolinecolor\": \"white\", \"zerolinewidth\": 2}, \"yaxis\": {\"automargin\": true, \"gridcolor\": \"white\", \"linecolor\": \"white\", \"ticks\": \"\", \"title\": {\"standoff\": 15}, \"zerolinecolor\": \"white\", \"zerolinewidth\": 2}}}, \"title\": {\"text\": \"Unemployment Insurance Claims since Emergency Declaration,<br>by State (Hover for breakdown)\"}},\n",
       "                        {\"responsive\": true}\n",
       "                    ).then(function(){\n",
       "                            \n",
       "var gd = document.getElementById('93a3f7af-ba5a-483a-b952-9cc0a996851d');\n",
       "var x = new MutationObserver(function (mutations, observer) {{\n",
       "        var display = window.getComputedStyle(gd).display;\n",
       "        if (!display || display === 'none') {{\n",
       "            console.log([gd, 'removed!']);\n",
       "            Plotly.purge(gd);\n",
       "            observer.disconnect();\n",
       "        }}\n",
       "}});\n",
       "\n",
       "// Listen for the removal of the full notebook cells\n",
       "var notebookContainer = gd.closest('#notebook-container');\n",
       "if (notebookContainer) {{\n",
       "    x.observe(notebookContainer, {childList: true});\n",
       "}}\n",
       "\n",
       "// Listen for the clearing of the current output cell\n",
       "var outputEl = gd.closest('.output');\n",
       "if (outputEl) {{\n",
       "    x.observe(outputEl, {childList: true});\n",
       "}}\n",
       "\n",
       "                        })\n",
       "                };\n",
       "                });\n",
       "            </script>\n",
       "        </div>"
      ]
     },
     "metadata": {},
     "output_type": "display_data"
    }
   ],
   "source": [
    "#scale = 1000\n",
    "fig = go.Figure(data=go.Choropleth(\n",
    "    locations=df2['state'],\n",
    "    z=df2['iclaims_since_emergency'],\n",
    "    locationmode='USA-states',\n",
    "    colorscale='Oranges',\n",
    "    autocolorscale=False,\n",
    "    text=df2['text'], # hover text\n",
    "    marker_line_color='white', # line markers between states\n",
    "    colorbar_title=\"Unemployment Insurance Claims\"\n",
    "))\n",
    "\n",
    "fig.update_layout(\n",
    "    title_text='Unemployment Insurance Claims since Emergency Declaration,<br>by State (Hover for breakdown)',\n",
    "    geo = dict(\n",
    "        scope='usa',\n",
    "        projection=go.layout.geo.Projection(type = 'albers usa'),\n",
    "        showlakes=True, # lakes\n",
    "        lakecolor='rgb(255, 255, 255)'),\n",
    ")\n",
    "fig.show();"
   ]
  },
  {
   "cell_type": "code",
   "execution_count": 33,
   "metadata": {
    "ExecuteTime": {
     "end_time": "2020-04-09T15:50:06.109722Z",
     "start_time": "2020-04-09T15:50:05.995661Z"
    }
   },
   "outputs": [
    {
     "data": {
      "application/vnd.plotly.v1+json": {
       "config": {
        "plotlyServerURL": "https://plot.ly"
       },
       "data": [
        {
         "autocolorscale": false,
         "colorbar": {
          "title": {
           "text": "Number of Covid patients in ICU, Cumulative"
          }
         },
         "colorscale": [
          [
           0,
           "rgb(255,245,235)"
          ],
          [
           0.125,
           "rgb(254,230,206)"
          ],
          [
           0.25,
           "rgb(253,208,162)"
          ],
          [
           0.375,
           "rgb(253,174,107)"
          ],
          [
           0.5,
           "rgb(253,141,60)"
          ],
          [
           0.625,
           "rgb(241,105,19)"
          ],
          [
           0.75,
           "rgb(217,72,1)"
          ],
          [
           0.875,
           "rgb(166,54,3)"
          ],
          [
           1,
           "rgb(127,39,4)"
          ]
         ],
         "locationmode": "USA-states",
         "locations": [
          "AR",
          "TX",
          "OR",
          "ME",
          "AK",
          "MI",
          "ND",
          "NM",
          "MS",
          "AZ",
          "FL",
          "MN",
          "NY",
          "SD",
          "UT",
          "MT",
          "CA",
          "LA",
          "DE",
          "WA",
          "NV",
          "IL",
          "ID",
          "DC",
          "RI",
          "AL",
          "OK",
          "NH",
          "TN",
          "WY",
          "CT",
          "KY",
          "VT",
          "IN",
          "SC",
          "OH",
          "MA",
          "NE",
          "WV",
          "NC",
          "MO",
          "NJ",
          "MD",
          "KS",
          "CO",
          "HI",
          "PA",
          "IA",
          "GA",
          "VA",
          "WI"
         ],
         "marker": {
          "line": {
           "color": "white"
          }
         },
         "text": [
          "AR\nPositive: 1000.0, Deaths: 18.0, Negative: 13530.0, Total Tested: 14530",
          "TX\nPositive: 9353.0, Deaths: 177.0, Negative: 86905.0, Total Tested: 96258",
          "OR\nPositive: 1181.0, Deaths: 33.0, Negative: 21826.0, Total Tested: 23007",
          "ME\nPositive: 537.0, Deaths: 14.0, Negative: 6088.0, Total Tested: 6625",
          "AK\nPositive: 226.0, Deaths: 7.0, Negative: 6842.0, Total Tested: 7068",
          "MI\nPositive: 20346.0, Deaths: 959.0, Negative: 31362.0, Total Tested: 51708",
          "ND\nPositive: 251.0, Deaths: 4.0, Negative: 8301.0, Total Tested: 8552",
          "NM\nPositive: 794.0, Deaths: 13.0, Negative: 21451.0, Total Tested: 22245",
          "MS\nPositive: 2003.0, Deaths: 67.0, Negative: 18632.0, Total Tested: 20635",
          "AZ\nPositive: 2726.0, Deaths: 80.0, Negative: 31838.0, Total Tested: 34564",
          "FL\nPositive: 15455.0, Deaths: 309.0, Negative: 127679.0, Total Tested: 144458",
          "MN\nPositive: 1154.0, Deaths: 39.0, Negative: 29599.0, Total Tested: 30753",
          "NY\nPositive: 149316.0, Deaths: 6268.0, Negative: 215837.0, Total Tested: 365153",
          "SD\nPositive: 393.0, Deaths: 6.0, Negative: 6355.0, Total Tested: 6748",
          "UT\nPositive: 1846.0, Deaths: 13.0, Negative: 34270.0, Total Tested: 36116",
          "MT\nPositive: 332.0, Deaths: 6.0, Negative: 7066.0, Total Tested: 7398",
          "CA\nPositive: 16957.0, Deaths: 442.0, Negative: 127307.0, Total Tested: 158864",
          "LA\nPositive: 17030.0, Deaths: 652.0, Negative: 64376.0, Total Tested: 81406",
          "DE\nPositive: 928.0, Deaths: 16.0, Negative: 7628.0, Total Tested: 8556",
          "WA\nPositive: 8682.0, Deaths: 394.0, Negative: 83391.0, Total Tested: 92073",
          "NV\nPositive: 2318.0, Deaths: 71.0, Negative: 18248.0, Total Tested: 20566",
          "IL\nPositive: 15078.0, Deaths: 462.0, Negative: 59988.0, Total Tested: 75066",
          "ID\nPositive: 1210.0, Deaths: 15.0, Negative: 10688.0, Total Tested: 11898",
          "DC\nPositive: 1440.0, Deaths: 27.0, Negative: 6843.0, Total Tested: 8283",
          "RI\nPositive: 1450.0, Deaths: 35.0, Negative: 10682.0, Total Tested: 12132",
          "AL\nPositive: 2369.0, Deaths: 66.0, Negative: 16753.0, Total Tested: 19122",
          "OK\nPositive: 1524.0, Deaths: 79.0, Negative: 11821.0, Total Tested: 13345",
          "NH\nPositive: 788.0, Deaths: 18.0, Negative: 8389.0, Total Tested: 9266",
          "TN\nPositive: 4362.0, Deaths: 79.0, Negative: 52256.0, Total Tested: 56618",
          "WY\nPositive: 221.0, Deaths: 0.0, Negative: 3843.0, Total Tested: 4064",
          "CT\nPositive: 7781.0, Deaths: 277.0, Negative: 21255.0, Total Tested: 29036",
          "KY\nPositive: 1149.0, Deaths: 65.0, Negative: 20455.0, Total Tested: 21604",
          "VT\nPositive: 605.0, Deaths: 23.0, Negative: 7144.0, Total Tested: 7749",
          "IN\nPositive: 5943.0, Deaths: 203.0, Negative: 24926.0, Total Tested: 30869",
          "SC\nPositive: 2552.0, Deaths: 63.0, Negative: 22082.0, Total Tested: 24634",
          "OH\nPositive: 5148.0, Deaths: 193.0, Negative: 48193.0, Total Tested: 53341",
          "MA\nPositive: 16790.0, Deaths: 433.0, Negative: 70721.0, Total Tested: 87511",
          "NE\nPositive: 519.0, Deaths: 12.0, Negative: 7442.0, Total Tested: 7961",
          "WV\nPositive: 462.0, Deaths: 4.0, Negative: 12083.0, Total Tested: 12545",
          "NC\nPositive: 3426.0, Deaths: 53.0, Negative: 39561.0, Total Tested: 42987",
          "MO\nPositive: 3327.0, Deaths: 58.0, Negative: 30783.0, Total Tested: 34110",
          "NJ\nPositive: 47437.0, Deaths: 1504.0, Negative: 52979.0, Total Tested: 100416",
          "MD\nPositive: 5529.0, Deaths: 124.0, Negative: 32933.0, Total Tested: 38462",
          "KS\nPositive: 900.0, Deaths: 27.0, Negative: 8614.0, Total Tested: 9514",
          "CO\nPositive: 5429.0, Deaths: 179.0, Negative: 22665.0, Total Tested: 28094",
          "HI\nPositive: 410.0, Deaths: 5.0, Negative: 14739.0, Total Tested: 15149",
          "PA\nPositive: 16239.0, Deaths: 309.0, Negative: 82299.0, Total Tested: 98538",
          "IA\nPositive: 1145.0, Deaths: 27.0, Negative: 12821.0, Total Tested: 13966",
          "GA\nPositive: 9901.0, Deaths: 362.0, Negative: 28886.0, Total Tested: 38787",
          "VA\nPositive: 3645.0, Deaths: 75.0, Negative: 27000.0, Total Tested: 30645",
          "WI\nPositive: 2756.0, Deaths: 99.0, Negative: 30115.0, Total Tested: 32871"
         ],
         "type": "choropleth",
         "z": [
          43,
          null,
          null,
          null,
          null,
          null,
          null,
          null,
          null,
          null,
          null,
          105,
          null,
          null,
          null,
          null,
          null,
          null,
          null,
          null,
          null,
          null,
          24,
          null,
          null,
          null,
          null,
          null,
          null,
          null,
          null,
          null,
          null,
          null,
          null,
          472,
          null,
          null,
          null,
          null,
          null,
          null,
          null,
          null,
          null,
          6,
          null,
          null,
          null,
          145,
          218
         ]
        }
       ],
       "layout": {
        "geo": {
         "lakecolor": "rgb(255, 255, 255)",
         "projection": {
          "type": "albers usa"
         },
         "scope": "usa",
         "showlakes": true
        },
        "template": {
         "data": {
          "bar": [
           {
            "error_x": {
             "color": "#2a3f5f"
            },
            "error_y": {
             "color": "#2a3f5f"
            },
            "marker": {
             "line": {
              "color": "#E5ECF6",
              "width": 0.5
             }
            },
            "type": "bar"
           }
          ],
          "barpolar": [
           {
            "marker": {
             "line": {
              "color": "#E5ECF6",
              "width": 0.5
             }
            },
            "type": "barpolar"
           }
          ],
          "carpet": [
           {
            "aaxis": {
             "endlinecolor": "#2a3f5f",
             "gridcolor": "white",
             "linecolor": "white",
             "minorgridcolor": "white",
             "startlinecolor": "#2a3f5f"
            },
            "baxis": {
             "endlinecolor": "#2a3f5f",
             "gridcolor": "white",
             "linecolor": "white",
             "minorgridcolor": "white",
             "startlinecolor": "#2a3f5f"
            },
            "type": "carpet"
           }
          ],
          "choropleth": [
           {
            "colorbar": {
             "outlinewidth": 0,
             "ticks": ""
            },
            "type": "choropleth"
           }
          ],
          "contour": [
           {
            "colorbar": {
             "outlinewidth": 0,
             "ticks": ""
            },
            "colorscale": [
             [
              0,
              "#0d0887"
             ],
             [
              0.1111111111111111,
              "#46039f"
             ],
             [
              0.2222222222222222,
              "#7201a8"
             ],
             [
              0.3333333333333333,
              "#9c179e"
             ],
             [
              0.4444444444444444,
              "#bd3786"
             ],
             [
              0.5555555555555556,
              "#d8576b"
             ],
             [
              0.6666666666666666,
              "#ed7953"
             ],
             [
              0.7777777777777778,
              "#fb9f3a"
             ],
             [
              0.8888888888888888,
              "#fdca26"
             ],
             [
              1,
              "#f0f921"
             ]
            ],
            "type": "contour"
           }
          ],
          "contourcarpet": [
           {
            "colorbar": {
             "outlinewidth": 0,
             "ticks": ""
            },
            "type": "contourcarpet"
           }
          ],
          "heatmap": [
           {
            "colorbar": {
             "outlinewidth": 0,
             "ticks": ""
            },
            "colorscale": [
             [
              0,
              "#0d0887"
             ],
             [
              0.1111111111111111,
              "#46039f"
             ],
             [
              0.2222222222222222,
              "#7201a8"
             ],
             [
              0.3333333333333333,
              "#9c179e"
             ],
             [
              0.4444444444444444,
              "#bd3786"
             ],
             [
              0.5555555555555556,
              "#d8576b"
             ],
             [
              0.6666666666666666,
              "#ed7953"
             ],
             [
              0.7777777777777778,
              "#fb9f3a"
             ],
             [
              0.8888888888888888,
              "#fdca26"
             ],
             [
              1,
              "#f0f921"
             ]
            ],
            "type": "heatmap"
           }
          ],
          "heatmapgl": [
           {
            "colorbar": {
             "outlinewidth": 0,
             "ticks": ""
            },
            "colorscale": [
             [
              0,
              "#0d0887"
             ],
             [
              0.1111111111111111,
              "#46039f"
             ],
             [
              0.2222222222222222,
              "#7201a8"
             ],
             [
              0.3333333333333333,
              "#9c179e"
             ],
             [
              0.4444444444444444,
              "#bd3786"
             ],
             [
              0.5555555555555556,
              "#d8576b"
             ],
             [
              0.6666666666666666,
              "#ed7953"
             ],
             [
              0.7777777777777778,
              "#fb9f3a"
             ],
             [
              0.8888888888888888,
              "#fdca26"
             ],
             [
              1,
              "#f0f921"
             ]
            ],
            "type": "heatmapgl"
           }
          ],
          "histogram": [
           {
            "marker": {
             "colorbar": {
              "outlinewidth": 0,
              "ticks": ""
             }
            },
            "type": "histogram"
           }
          ],
          "histogram2d": [
           {
            "colorbar": {
             "outlinewidth": 0,
             "ticks": ""
            },
            "colorscale": [
             [
              0,
              "#0d0887"
             ],
             [
              0.1111111111111111,
              "#46039f"
             ],
             [
              0.2222222222222222,
              "#7201a8"
             ],
             [
              0.3333333333333333,
              "#9c179e"
             ],
             [
              0.4444444444444444,
              "#bd3786"
             ],
             [
              0.5555555555555556,
              "#d8576b"
             ],
             [
              0.6666666666666666,
              "#ed7953"
             ],
             [
              0.7777777777777778,
              "#fb9f3a"
             ],
             [
              0.8888888888888888,
              "#fdca26"
             ],
             [
              1,
              "#f0f921"
             ]
            ],
            "type": "histogram2d"
           }
          ],
          "histogram2dcontour": [
           {
            "colorbar": {
             "outlinewidth": 0,
             "ticks": ""
            },
            "colorscale": [
             [
              0,
              "#0d0887"
             ],
             [
              0.1111111111111111,
              "#46039f"
             ],
             [
              0.2222222222222222,
              "#7201a8"
             ],
             [
              0.3333333333333333,
              "#9c179e"
             ],
             [
              0.4444444444444444,
              "#bd3786"
             ],
             [
              0.5555555555555556,
              "#d8576b"
             ],
             [
              0.6666666666666666,
              "#ed7953"
             ],
             [
              0.7777777777777778,
              "#fb9f3a"
             ],
             [
              0.8888888888888888,
              "#fdca26"
             ],
             [
              1,
              "#f0f921"
             ]
            ],
            "type": "histogram2dcontour"
           }
          ],
          "mesh3d": [
           {
            "colorbar": {
             "outlinewidth": 0,
             "ticks": ""
            },
            "type": "mesh3d"
           }
          ],
          "parcoords": [
           {
            "line": {
             "colorbar": {
              "outlinewidth": 0,
              "ticks": ""
             }
            },
            "type": "parcoords"
           }
          ],
          "pie": [
           {
            "automargin": true,
            "type": "pie"
           }
          ],
          "scatter": [
           {
            "marker": {
             "colorbar": {
              "outlinewidth": 0,
              "ticks": ""
             }
            },
            "type": "scatter"
           }
          ],
          "scatter3d": [
           {
            "line": {
             "colorbar": {
              "outlinewidth": 0,
              "ticks": ""
             }
            },
            "marker": {
             "colorbar": {
              "outlinewidth": 0,
              "ticks": ""
             }
            },
            "type": "scatter3d"
           }
          ],
          "scattercarpet": [
           {
            "marker": {
             "colorbar": {
              "outlinewidth": 0,
              "ticks": ""
             }
            },
            "type": "scattercarpet"
           }
          ],
          "scattergeo": [
           {
            "marker": {
             "colorbar": {
              "outlinewidth": 0,
              "ticks": ""
             }
            },
            "type": "scattergeo"
           }
          ],
          "scattergl": [
           {
            "marker": {
             "colorbar": {
              "outlinewidth": 0,
              "ticks": ""
             }
            },
            "type": "scattergl"
           }
          ],
          "scattermapbox": [
           {
            "marker": {
             "colorbar": {
              "outlinewidth": 0,
              "ticks": ""
             }
            },
            "type": "scattermapbox"
           }
          ],
          "scatterpolar": [
           {
            "marker": {
             "colorbar": {
              "outlinewidth": 0,
              "ticks": ""
             }
            },
            "type": "scatterpolar"
           }
          ],
          "scatterpolargl": [
           {
            "marker": {
             "colorbar": {
              "outlinewidth": 0,
              "ticks": ""
             }
            },
            "type": "scatterpolargl"
           }
          ],
          "scatterternary": [
           {
            "marker": {
             "colorbar": {
              "outlinewidth": 0,
              "ticks": ""
             }
            },
            "type": "scatterternary"
           }
          ],
          "surface": [
           {
            "colorbar": {
             "outlinewidth": 0,
             "ticks": ""
            },
            "colorscale": [
             [
              0,
              "#0d0887"
             ],
             [
              0.1111111111111111,
              "#46039f"
             ],
             [
              0.2222222222222222,
              "#7201a8"
             ],
             [
              0.3333333333333333,
              "#9c179e"
             ],
             [
              0.4444444444444444,
              "#bd3786"
             ],
             [
              0.5555555555555556,
              "#d8576b"
             ],
             [
              0.6666666666666666,
              "#ed7953"
             ],
             [
              0.7777777777777778,
              "#fb9f3a"
             ],
             [
              0.8888888888888888,
              "#fdca26"
             ],
             [
              1,
              "#f0f921"
             ]
            ],
            "type": "surface"
           }
          ],
          "table": [
           {
            "cells": {
             "fill": {
              "color": "#EBF0F8"
             },
             "line": {
              "color": "white"
             }
            },
            "header": {
             "fill": {
              "color": "#C8D4E3"
             },
             "line": {
              "color": "white"
             }
            },
            "type": "table"
           }
          ]
         },
         "layout": {
          "annotationdefaults": {
           "arrowcolor": "#2a3f5f",
           "arrowhead": 0,
           "arrowwidth": 1
          },
          "coloraxis": {
           "colorbar": {
            "outlinewidth": 0,
            "ticks": ""
           }
          },
          "colorscale": {
           "diverging": [
            [
             0,
             "#8e0152"
            ],
            [
             0.1,
             "#c51b7d"
            ],
            [
             0.2,
             "#de77ae"
            ],
            [
             0.3,
             "#f1b6da"
            ],
            [
             0.4,
             "#fde0ef"
            ],
            [
             0.5,
             "#f7f7f7"
            ],
            [
             0.6,
             "#e6f5d0"
            ],
            [
             0.7,
             "#b8e186"
            ],
            [
             0.8,
             "#7fbc41"
            ],
            [
             0.9,
             "#4d9221"
            ],
            [
             1,
             "#276419"
            ]
           ],
           "sequential": [
            [
             0,
             "#0d0887"
            ],
            [
             0.1111111111111111,
             "#46039f"
            ],
            [
             0.2222222222222222,
             "#7201a8"
            ],
            [
             0.3333333333333333,
             "#9c179e"
            ],
            [
             0.4444444444444444,
             "#bd3786"
            ],
            [
             0.5555555555555556,
             "#d8576b"
            ],
            [
             0.6666666666666666,
             "#ed7953"
            ],
            [
             0.7777777777777778,
             "#fb9f3a"
            ],
            [
             0.8888888888888888,
             "#fdca26"
            ],
            [
             1,
             "#f0f921"
            ]
           ],
           "sequentialminus": [
            [
             0,
             "#0d0887"
            ],
            [
             0.1111111111111111,
             "#46039f"
            ],
            [
             0.2222222222222222,
             "#7201a8"
            ],
            [
             0.3333333333333333,
             "#9c179e"
            ],
            [
             0.4444444444444444,
             "#bd3786"
            ],
            [
             0.5555555555555556,
             "#d8576b"
            ],
            [
             0.6666666666666666,
             "#ed7953"
            ],
            [
             0.7777777777777778,
             "#fb9f3a"
            ],
            [
             0.8888888888888888,
             "#fdca26"
            ],
            [
             1,
             "#f0f921"
            ]
           ]
          },
          "colorway": [
           "#636efa",
           "#EF553B",
           "#00cc96",
           "#ab63fa",
           "#FFA15A",
           "#19d3f3",
           "#FF6692",
           "#B6E880",
           "#FF97FF",
           "#FECB52"
          ],
          "font": {
           "color": "#2a3f5f"
          },
          "geo": {
           "bgcolor": "white",
           "lakecolor": "white",
           "landcolor": "#E5ECF6",
           "showlakes": true,
           "showland": true,
           "subunitcolor": "white"
          },
          "hoverlabel": {
           "align": "left"
          },
          "hovermode": "closest",
          "mapbox": {
           "style": "light"
          },
          "paper_bgcolor": "white",
          "plot_bgcolor": "#E5ECF6",
          "polar": {
           "angularaxis": {
            "gridcolor": "white",
            "linecolor": "white",
            "ticks": ""
           },
           "bgcolor": "#E5ECF6",
           "radialaxis": {
            "gridcolor": "white",
            "linecolor": "white",
            "ticks": ""
           }
          },
          "scene": {
           "xaxis": {
            "backgroundcolor": "#E5ECF6",
            "gridcolor": "white",
            "gridwidth": 2,
            "linecolor": "white",
            "showbackground": true,
            "ticks": "",
            "zerolinecolor": "white"
           },
           "yaxis": {
            "backgroundcolor": "#E5ECF6",
            "gridcolor": "white",
            "gridwidth": 2,
            "linecolor": "white",
            "showbackground": true,
            "ticks": "",
            "zerolinecolor": "white"
           },
           "zaxis": {
            "backgroundcolor": "#E5ECF6",
            "gridcolor": "white",
            "gridwidth": 2,
            "linecolor": "white",
            "showbackground": true,
            "ticks": "",
            "zerolinecolor": "white"
           }
          },
          "shapedefaults": {
           "line": {
            "color": "#2a3f5f"
           }
          },
          "ternary": {
           "aaxis": {
            "gridcolor": "white",
            "linecolor": "white",
            "ticks": ""
           },
           "baxis": {
            "gridcolor": "white",
            "linecolor": "white",
            "ticks": ""
           },
           "bgcolor": "#E5ECF6",
           "caxis": {
            "gridcolor": "white",
            "linecolor": "white",
            "ticks": ""
           }
          },
          "title": {
           "x": 0.05
          },
          "xaxis": {
           "automargin": true,
           "gridcolor": "white",
           "linecolor": "white",
           "ticks": "",
           "title": {
            "standoff": 15
           },
           "zerolinecolor": "white",
           "zerolinewidth": 2
          },
          "yaxis": {
           "automargin": true,
           "gridcolor": "white",
           "linecolor": "white",
           "ticks": "",
           "title": {
            "standoff": 15
           },
           "zerolinecolor": "white",
           "zerolinewidth": 2
          }
         }
        },
        "title": {
         "text": "Number of Covid patients in ICU, Cumulative,<br>for ID, MN, WI, OH, VA (Hover for breakdown)"
        }
       }
      },
      "text/html": [
       "<div>\n",
       "        \n",
       "        \n",
       "            <div id=\"75e5fa5d-ee51-434c-9fc7-cc46d24fb93a\" class=\"plotly-graph-div\" style=\"height:525px; width:100%;\"></div>\n",
       "            <script type=\"text/javascript\">\n",
       "                require([\"plotly\"], function(Plotly) {\n",
       "                    window.PLOTLYENV=window.PLOTLYENV || {};\n",
       "                    \n",
       "                if (document.getElementById(\"75e5fa5d-ee51-434c-9fc7-cc46d24fb93a\")) {\n",
       "                    Plotly.newPlot(\n",
       "                        '75e5fa5d-ee51-434c-9fc7-cc46d24fb93a',\n",
       "                        [{\"autocolorscale\": false, \"colorbar\": {\"title\": {\"text\": \"Number of Covid patients in ICU, Cumulative\"}}, \"colorscale\": [[0.0, \"rgb(255,245,235)\"], [0.125, \"rgb(254,230,206)\"], [0.25, \"rgb(253,208,162)\"], [0.375, \"rgb(253,174,107)\"], [0.5, \"rgb(253,141,60)\"], [0.625, \"rgb(241,105,19)\"], [0.75, \"rgb(217,72,1)\"], [0.875, \"rgb(166,54,3)\"], [1.0, \"rgb(127,39,4)\"]], \"locationmode\": \"USA-states\", \"locations\": [\"AR\", \"TX\", \"OR\", \"ME\", \"AK\", \"MI\", \"ND\", \"NM\", \"MS\", \"AZ\", \"FL\", \"MN\", \"NY\", \"SD\", \"UT\", \"MT\", \"CA\", \"LA\", \"DE\", \"WA\", \"NV\", \"IL\", \"ID\", \"DC\", \"RI\", \"AL\", \"OK\", \"NH\", \"TN\", \"WY\", \"CT\", \"KY\", \"VT\", \"IN\", \"SC\", \"OH\", \"MA\", \"NE\", \"WV\", \"NC\", \"MO\", \"NJ\", \"MD\", \"KS\", \"CO\", \"HI\", \"PA\", \"IA\", \"GA\", \"VA\", \"WI\"], \"marker\": {\"line\": {\"color\": \"white\"}}, \"text\": [\"AR\\nPositive: 1000.0, Deaths: 18.0, Negative: 13530.0, Total Tested: 14530\", \"TX\\nPositive: 9353.0, Deaths: 177.0, Negative: 86905.0, Total Tested: 96258\", \"OR\\nPositive: 1181.0, Deaths: 33.0, Negative: 21826.0, Total Tested: 23007\", \"ME\\nPositive: 537.0, Deaths: 14.0, Negative: 6088.0, Total Tested: 6625\", \"AK\\nPositive: 226.0, Deaths: 7.0, Negative: 6842.0, Total Tested: 7068\", \"MI\\nPositive: 20346.0, Deaths: 959.0, Negative: 31362.0, Total Tested: 51708\", \"ND\\nPositive: 251.0, Deaths: 4.0, Negative: 8301.0, Total Tested: 8552\", \"NM\\nPositive: 794.0, Deaths: 13.0, Negative: 21451.0, Total Tested: 22245\", \"MS\\nPositive: 2003.0, Deaths: 67.0, Negative: 18632.0, Total Tested: 20635\", \"AZ\\nPositive: 2726.0, Deaths: 80.0, Negative: 31838.0, Total Tested: 34564\", \"FL\\nPositive: 15455.0, Deaths: 309.0, Negative: 127679.0, Total Tested: 144458\", \"MN\\nPositive: 1154.0, Deaths: 39.0, Negative: 29599.0, Total Tested: 30753\", \"NY\\nPositive: 149316.0, Deaths: 6268.0, Negative: 215837.0, Total Tested: 365153\", \"SD\\nPositive: 393.0, Deaths: 6.0, Negative: 6355.0, Total Tested: 6748\", \"UT\\nPositive: 1846.0, Deaths: 13.0, Negative: 34270.0, Total Tested: 36116\", \"MT\\nPositive: 332.0, Deaths: 6.0, Negative: 7066.0, Total Tested: 7398\", \"CA\\nPositive: 16957.0, Deaths: 442.0, Negative: 127307.0, Total Tested: 158864\", \"LA\\nPositive: 17030.0, Deaths: 652.0, Negative: 64376.0, Total Tested: 81406\", \"DE\\nPositive: 928.0, Deaths: 16.0, Negative: 7628.0, Total Tested: 8556\", \"WA\\nPositive: 8682.0, Deaths: 394.0, Negative: 83391.0, Total Tested: 92073\", \"NV\\nPositive: 2318.0, Deaths: 71.0, Negative: 18248.0, Total Tested: 20566\", \"IL\\nPositive: 15078.0, Deaths: 462.0, Negative: 59988.0, Total Tested: 75066\", \"ID\\nPositive: 1210.0, Deaths: 15.0, Negative: 10688.0, Total Tested: 11898\", \"DC\\nPositive: 1440.0, Deaths: 27.0, Negative: 6843.0, Total Tested: 8283\", \"RI\\nPositive: 1450.0, Deaths: 35.0, Negative: 10682.0, Total Tested: 12132\", \"AL\\nPositive: 2369.0, Deaths: 66.0, Negative: 16753.0, Total Tested: 19122\", \"OK\\nPositive: 1524.0, Deaths: 79.0, Negative: 11821.0, Total Tested: 13345\", \"NH\\nPositive: 788.0, Deaths: 18.0, Negative: 8389.0, Total Tested: 9266\", \"TN\\nPositive: 4362.0, Deaths: 79.0, Negative: 52256.0, Total Tested: 56618\", \"WY\\nPositive: 221.0, Deaths: 0.0, Negative: 3843.0, Total Tested: 4064\", \"CT\\nPositive: 7781.0, Deaths: 277.0, Negative: 21255.0, Total Tested: 29036\", \"KY\\nPositive: 1149.0, Deaths: 65.0, Negative: 20455.0, Total Tested: 21604\", \"VT\\nPositive: 605.0, Deaths: 23.0, Negative: 7144.0, Total Tested: 7749\", \"IN\\nPositive: 5943.0, Deaths: 203.0, Negative: 24926.0, Total Tested: 30869\", \"SC\\nPositive: 2552.0, Deaths: 63.0, Negative: 22082.0, Total Tested: 24634\", \"OH\\nPositive: 5148.0, Deaths: 193.0, Negative: 48193.0, Total Tested: 53341\", \"MA\\nPositive: 16790.0, Deaths: 433.0, Negative: 70721.0, Total Tested: 87511\", \"NE\\nPositive: 519.0, Deaths: 12.0, Negative: 7442.0, Total Tested: 7961\", \"WV\\nPositive: 462.0, Deaths: 4.0, Negative: 12083.0, Total Tested: 12545\", \"NC\\nPositive: 3426.0, Deaths: 53.0, Negative: 39561.0, Total Tested: 42987\", \"MO\\nPositive: 3327.0, Deaths: 58.0, Negative: 30783.0, Total Tested: 34110\", \"NJ\\nPositive: 47437.0, Deaths: 1504.0, Negative: 52979.0, Total Tested: 100416\", \"MD\\nPositive: 5529.0, Deaths: 124.0, Negative: 32933.0, Total Tested: 38462\", \"KS\\nPositive: 900.0, Deaths: 27.0, Negative: 8614.0, Total Tested: 9514\", \"CO\\nPositive: 5429.0, Deaths: 179.0, Negative: 22665.0, Total Tested: 28094\", \"HI\\nPositive: 410.0, Deaths: 5.0, Negative: 14739.0, Total Tested: 15149\", \"PA\\nPositive: 16239.0, Deaths: 309.0, Negative: 82299.0, Total Tested: 98538\", \"IA\\nPositive: 1145.0, Deaths: 27.0, Negative: 12821.0, Total Tested: 13966\", \"GA\\nPositive: 9901.0, Deaths: 362.0, Negative: 28886.0, Total Tested: 38787\", \"VA\\nPositive: 3645.0, Deaths: 75.0, Negative: 27000.0, Total Tested: 30645\", \"WI\\nPositive: 2756.0, Deaths: 99.0, Negative: 30115.0, Total Tested: 32871\"], \"type\": \"choropleth\", \"z\": [43.0, null, null, null, null, null, null, null, null, null, null, 105.0, null, null, null, null, null, null, null, null, null, null, 24.0, null, null, null, null, null, null, null, null, null, null, null, null, 472.0, null, null, null, null, null, null, null, null, null, 6.0, null, null, null, 145.0, 218.0]}],\n",
       "                        {\"geo\": {\"lakecolor\": \"rgb(255, 255, 255)\", \"projection\": {\"type\": \"albers usa\"}, \"scope\": \"usa\", \"showlakes\": true}, \"template\": {\"data\": {\"bar\": [{\"error_x\": {\"color\": \"#2a3f5f\"}, \"error_y\": {\"color\": \"#2a3f5f\"}, \"marker\": {\"line\": {\"color\": \"#E5ECF6\", \"width\": 0.5}}, \"type\": \"bar\"}], \"barpolar\": [{\"marker\": {\"line\": {\"color\": \"#E5ECF6\", \"width\": 0.5}}, \"type\": \"barpolar\"}], \"carpet\": [{\"aaxis\": {\"endlinecolor\": \"#2a3f5f\", \"gridcolor\": \"white\", \"linecolor\": \"white\", \"minorgridcolor\": \"white\", \"startlinecolor\": \"#2a3f5f\"}, \"baxis\": {\"endlinecolor\": \"#2a3f5f\", \"gridcolor\": \"white\", \"linecolor\": \"white\", \"minorgridcolor\": \"white\", \"startlinecolor\": \"#2a3f5f\"}, \"type\": \"carpet\"}], \"choropleth\": [{\"colorbar\": {\"outlinewidth\": 0, \"ticks\": \"\"}, \"type\": \"choropleth\"}], \"contour\": [{\"colorbar\": {\"outlinewidth\": 0, \"ticks\": \"\"}, \"colorscale\": [[0.0, \"#0d0887\"], [0.1111111111111111, \"#46039f\"], [0.2222222222222222, \"#7201a8\"], [0.3333333333333333, \"#9c179e\"], [0.4444444444444444, \"#bd3786\"], [0.5555555555555556, \"#d8576b\"], [0.6666666666666666, \"#ed7953\"], [0.7777777777777778, \"#fb9f3a\"], [0.8888888888888888, \"#fdca26\"], [1.0, \"#f0f921\"]], \"type\": \"contour\"}], \"contourcarpet\": [{\"colorbar\": {\"outlinewidth\": 0, \"ticks\": \"\"}, \"type\": \"contourcarpet\"}], \"heatmap\": [{\"colorbar\": {\"outlinewidth\": 0, \"ticks\": \"\"}, \"colorscale\": [[0.0, \"#0d0887\"], [0.1111111111111111, \"#46039f\"], [0.2222222222222222, \"#7201a8\"], [0.3333333333333333, \"#9c179e\"], [0.4444444444444444, \"#bd3786\"], [0.5555555555555556, \"#d8576b\"], [0.6666666666666666, \"#ed7953\"], [0.7777777777777778, \"#fb9f3a\"], [0.8888888888888888, \"#fdca26\"], [1.0, \"#f0f921\"]], \"type\": \"heatmap\"}], \"heatmapgl\": [{\"colorbar\": {\"outlinewidth\": 0, \"ticks\": \"\"}, \"colorscale\": [[0.0, \"#0d0887\"], [0.1111111111111111, \"#46039f\"], [0.2222222222222222, \"#7201a8\"], [0.3333333333333333, \"#9c179e\"], [0.4444444444444444, \"#bd3786\"], [0.5555555555555556, \"#d8576b\"], [0.6666666666666666, \"#ed7953\"], [0.7777777777777778, \"#fb9f3a\"], [0.8888888888888888, \"#fdca26\"], [1.0, \"#f0f921\"]], \"type\": \"heatmapgl\"}], \"histogram\": [{\"marker\": {\"colorbar\": {\"outlinewidth\": 0, \"ticks\": \"\"}}, \"type\": \"histogram\"}], \"histogram2d\": [{\"colorbar\": {\"outlinewidth\": 0, \"ticks\": \"\"}, \"colorscale\": [[0.0, \"#0d0887\"], [0.1111111111111111, \"#46039f\"], [0.2222222222222222, \"#7201a8\"], [0.3333333333333333, \"#9c179e\"], [0.4444444444444444, \"#bd3786\"], [0.5555555555555556, \"#d8576b\"], [0.6666666666666666, \"#ed7953\"], [0.7777777777777778, \"#fb9f3a\"], [0.8888888888888888, \"#fdca26\"], [1.0, \"#f0f921\"]], \"type\": \"histogram2d\"}], \"histogram2dcontour\": [{\"colorbar\": {\"outlinewidth\": 0, \"ticks\": \"\"}, \"colorscale\": [[0.0, \"#0d0887\"], [0.1111111111111111, \"#46039f\"], [0.2222222222222222, \"#7201a8\"], [0.3333333333333333, \"#9c179e\"], [0.4444444444444444, \"#bd3786\"], [0.5555555555555556, \"#d8576b\"], [0.6666666666666666, \"#ed7953\"], [0.7777777777777778, \"#fb9f3a\"], [0.8888888888888888, \"#fdca26\"], [1.0, \"#f0f921\"]], \"type\": \"histogram2dcontour\"}], \"mesh3d\": [{\"colorbar\": {\"outlinewidth\": 0, \"ticks\": \"\"}, \"type\": \"mesh3d\"}], \"parcoords\": [{\"line\": {\"colorbar\": {\"outlinewidth\": 0, \"ticks\": \"\"}}, \"type\": \"parcoords\"}], \"pie\": [{\"automargin\": true, \"type\": \"pie\"}], \"scatter\": [{\"marker\": {\"colorbar\": {\"outlinewidth\": 0, \"ticks\": \"\"}}, \"type\": \"scatter\"}], \"scatter3d\": [{\"line\": {\"colorbar\": {\"outlinewidth\": 0, \"ticks\": \"\"}}, \"marker\": {\"colorbar\": {\"outlinewidth\": 0, \"ticks\": \"\"}}, \"type\": \"scatter3d\"}], \"scattercarpet\": [{\"marker\": {\"colorbar\": {\"outlinewidth\": 0, \"ticks\": \"\"}}, \"type\": \"scattercarpet\"}], \"scattergeo\": [{\"marker\": {\"colorbar\": {\"outlinewidth\": 0, \"ticks\": \"\"}}, \"type\": \"scattergeo\"}], \"scattergl\": [{\"marker\": {\"colorbar\": {\"outlinewidth\": 0, \"ticks\": \"\"}}, \"type\": \"scattergl\"}], \"scattermapbox\": [{\"marker\": {\"colorbar\": {\"outlinewidth\": 0, \"ticks\": \"\"}}, \"type\": \"scattermapbox\"}], \"scatterpolar\": [{\"marker\": {\"colorbar\": {\"outlinewidth\": 0, \"ticks\": \"\"}}, \"type\": \"scatterpolar\"}], \"scatterpolargl\": [{\"marker\": {\"colorbar\": {\"outlinewidth\": 0, \"ticks\": \"\"}}, \"type\": \"scatterpolargl\"}], \"scatterternary\": [{\"marker\": {\"colorbar\": {\"outlinewidth\": 0, \"ticks\": \"\"}}, \"type\": \"scatterternary\"}], \"surface\": [{\"colorbar\": {\"outlinewidth\": 0, \"ticks\": \"\"}, \"colorscale\": [[0.0, \"#0d0887\"], [0.1111111111111111, \"#46039f\"], [0.2222222222222222, \"#7201a8\"], [0.3333333333333333, \"#9c179e\"], [0.4444444444444444, \"#bd3786\"], [0.5555555555555556, \"#d8576b\"], [0.6666666666666666, \"#ed7953\"], [0.7777777777777778, \"#fb9f3a\"], [0.8888888888888888, \"#fdca26\"], [1.0, \"#f0f921\"]], \"type\": \"surface\"}], \"table\": [{\"cells\": {\"fill\": {\"color\": \"#EBF0F8\"}, \"line\": {\"color\": \"white\"}}, \"header\": {\"fill\": {\"color\": \"#C8D4E3\"}, \"line\": {\"color\": \"white\"}}, \"type\": \"table\"}]}, \"layout\": {\"annotationdefaults\": {\"arrowcolor\": \"#2a3f5f\", \"arrowhead\": 0, \"arrowwidth\": 1}, \"coloraxis\": {\"colorbar\": {\"outlinewidth\": 0, \"ticks\": \"\"}}, \"colorscale\": {\"diverging\": [[0, \"#8e0152\"], [0.1, \"#c51b7d\"], [0.2, \"#de77ae\"], [0.3, \"#f1b6da\"], [0.4, \"#fde0ef\"], [0.5, \"#f7f7f7\"], [0.6, \"#e6f5d0\"], [0.7, \"#b8e186\"], [0.8, \"#7fbc41\"], [0.9, \"#4d9221\"], [1, \"#276419\"]], \"sequential\": [[0.0, \"#0d0887\"], [0.1111111111111111, \"#46039f\"], [0.2222222222222222, \"#7201a8\"], [0.3333333333333333, \"#9c179e\"], [0.4444444444444444, \"#bd3786\"], [0.5555555555555556, \"#d8576b\"], [0.6666666666666666, \"#ed7953\"], [0.7777777777777778, \"#fb9f3a\"], [0.8888888888888888, \"#fdca26\"], [1.0, \"#f0f921\"]], \"sequentialminus\": [[0.0, \"#0d0887\"], [0.1111111111111111, \"#46039f\"], [0.2222222222222222, \"#7201a8\"], [0.3333333333333333, \"#9c179e\"], [0.4444444444444444, \"#bd3786\"], [0.5555555555555556, \"#d8576b\"], [0.6666666666666666, \"#ed7953\"], [0.7777777777777778, \"#fb9f3a\"], [0.8888888888888888, \"#fdca26\"], [1.0, \"#f0f921\"]]}, \"colorway\": [\"#636efa\", \"#EF553B\", \"#00cc96\", \"#ab63fa\", \"#FFA15A\", \"#19d3f3\", \"#FF6692\", \"#B6E880\", \"#FF97FF\", \"#FECB52\"], \"font\": {\"color\": \"#2a3f5f\"}, \"geo\": {\"bgcolor\": \"white\", \"lakecolor\": \"white\", \"landcolor\": \"#E5ECF6\", \"showlakes\": true, \"showland\": true, \"subunitcolor\": \"white\"}, \"hoverlabel\": {\"align\": \"left\"}, \"hovermode\": \"closest\", \"mapbox\": {\"style\": \"light\"}, \"paper_bgcolor\": \"white\", \"plot_bgcolor\": \"#E5ECF6\", \"polar\": {\"angularaxis\": {\"gridcolor\": \"white\", \"linecolor\": \"white\", \"ticks\": \"\"}, \"bgcolor\": \"#E5ECF6\", \"radialaxis\": {\"gridcolor\": \"white\", \"linecolor\": \"white\", \"ticks\": \"\"}}, \"scene\": {\"xaxis\": {\"backgroundcolor\": \"#E5ECF6\", \"gridcolor\": \"white\", \"gridwidth\": 2, \"linecolor\": \"white\", \"showbackground\": true, \"ticks\": \"\", \"zerolinecolor\": \"white\"}, \"yaxis\": {\"backgroundcolor\": \"#E5ECF6\", \"gridcolor\": \"white\", \"gridwidth\": 2, \"linecolor\": \"white\", \"showbackground\": true, \"ticks\": \"\", \"zerolinecolor\": \"white\"}, \"zaxis\": {\"backgroundcolor\": \"#E5ECF6\", \"gridcolor\": \"white\", \"gridwidth\": 2, \"linecolor\": \"white\", \"showbackground\": true, \"ticks\": \"\", \"zerolinecolor\": \"white\"}}, \"shapedefaults\": {\"line\": {\"color\": \"#2a3f5f\"}}, \"ternary\": {\"aaxis\": {\"gridcolor\": \"white\", \"linecolor\": \"white\", \"ticks\": \"\"}, \"baxis\": {\"gridcolor\": \"white\", \"linecolor\": \"white\", \"ticks\": \"\"}, \"bgcolor\": \"#E5ECF6\", \"caxis\": {\"gridcolor\": \"white\", \"linecolor\": \"white\", \"ticks\": \"\"}}, \"title\": {\"x\": 0.05}, \"xaxis\": {\"automargin\": true, \"gridcolor\": \"white\", \"linecolor\": \"white\", \"ticks\": \"\", \"title\": {\"standoff\": 15}, \"zerolinecolor\": \"white\", \"zerolinewidth\": 2}, \"yaxis\": {\"automargin\": true, \"gridcolor\": \"white\", \"linecolor\": \"white\", \"ticks\": \"\", \"title\": {\"standoff\": 15}, \"zerolinecolor\": \"white\", \"zerolinewidth\": 2}}}, \"title\": {\"text\": \"Number of Covid patients in ICU, Cumulative,<br>for ID, MN, WI, OH, VA (Hover for breakdown)\"}},\n",
       "                        {\"responsive\": true}\n",
       "                    ).then(function(){\n",
       "                            \n",
       "var gd = document.getElementById('75e5fa5d-ee51-434c-9fc7-cc46d24fb93a');\n",
       "var x = new MutationObserver(function (mutations, observer) {{\n",
       "        var display = window.getComputedStyle(gd).display;\n",
       "        if (!display || display === 'none') {{\n",
       "            console.log([gd, 'removed!']);\n",
       "            Plotly.purge(gd);\n",
       "            observer.disconnect();\n",
       "        }}\n",
       "}});\n",
       "\n",
       "// Listen for the removal of the full notebook cells\n",
       "var notebookContainer = gd.closest('#notebook-container');\n",
       "if (notebookContainer) {{\n",
       "    x.observe(notebookContainer, {childList: true});\n",
       "}}\n",
       "\n",
       "// Listen for the clearing of the current output cell\n",
       "var outputEl = gd.closest('.output');\n",
       "if (outputEl) {{\n",
       "    x.observe(outputEl, {childList: true});\n",
       "}}\n",
       "\n",
       "                        })\n",
       "                };\n",
       "                });\n",
       "            </script>\n",
       "        </div>"
      ]
     },
     "metadata": {},
     "output_type": "display_data"
    }
   ],
   "source": [
    "#scale = 1000\n",
    "fig = go.Figure(data=go.Choropleth(\n",
    "    locations=df2['state'],\n",
    "    z=df2['inIcuCumulative'],\n",
    "    locationmode='USA-states',\n",
    "    colorscale='Oranges',\n",
    "    autocolorscale=False,\n",
    "    text=df2['text'], # hover text\n",
    "    marker_line_color='white', # line markers between states\n",
    "    colorbar_title=\"Number of Covid patients in ICU, Cumulative\"\n",
    "))\n",
    "\n",
    "fig.update_layout(\n",
    "    title_text='Number of Covid patients in ICU, Cumulative,<br>for ID, MN, WI, OH, VA (Hover for breakdown)',\n",
    "    geo = dict(\n",
    "        scope='usa',\n",
    "        projection=go.layout.geo.Projection(type = 'albers usa'),\n",
    "        showlakes=True, # lakes\n",
    "        lakecolor='rgb(255, 255, 255)'),\n",
    ")\n",
    "fig.show();"
   ]
  },
  {
   "cell_type": "code",
   "execution_count": 34,
   "metadata": {
    "ExecuteTime": {
     "end_time": "2020-04-09T15:50:06.690227Z",
     "start_time": "2020-04-09T15:50:06.573300Z"
    }
   },
   "outputs": [
    {
     "data": {
      "application/vnd.plotly.v1+json": {
       "config": {
        "plotlyServerURL": "https://plot.ly"
       },
       "data": [
        {
         "autocolorscale": false,
         "colorbar": {
          "title": {
           "text": "Number of Covid patients on Ventilators, Cumulative"
          }
         },
         "colorscale": [
          [
           0,
           "rgb(255,245,235)"
          ],
          [
           0.125,
           "rgb(254,230,206)"
          ],
          [
           0.25,
           "rgb(253,208,162)"
          ],
          [
           0.375,
           "rgb(253,174,107)"
          ],
          [
           0.5,
           "rgb(253,141,60)"
          ],
          [
           0.625,
           "rgb(241,105,19)"
          ],
          [
           0.75,
           "rgb(217,72,1)"
          ],
          [
           0.875,
           "rgb(166,54,3)"
          ],
          [
           1,
           "rgb(127,39,4)"
          ]
         ],
         "locationmode": "USA-states",
         "locations": [
          "AR",
          "TX",
          "OR",
          "ME",
          "AK",
          "MI",
          "ND",
          "NM",
          "MS",
          "AZ",
          "FL",
          "MN",
          "NY",
          "SD",
          "UT",
          "MT",
          "CA",
          "LA",
          "DE",
          "WA",
          "NV",
          "IL",
          "ID",
          "DC",
          "RI",
          "AL",
          "OK",
          "NH",
          "TN",
          "WY",
          "CT",
          "KY",
          "VT",
          "IN",
          "SC",
          "OH",
          "MA",
          "NE",
          "WV",
          "NC",
          "MO",
          "NJ",
          "MD",
          "KS",
          "CO",
          "HI",
          "PA",
          "IA",
          "GA",
          "VA",
          "WI"
         ],
         "marker": {
          "line": {
           "color": "white"
          }
         },
         "text": [
          "AR\nPositive: 1000.0, Deaths: 18.0, Negative: 13530.0, Total Tested: 14530",
          "TX\nPositive: 9353.0, Deaths: 177.0, Negative: 86905.0, Total Tested: 96258",
          "OR\nPositive: 1181.0, Deaths: 33.0, Negative: 21826.0, Total Tested: 23007",
          "ME\nPositive: 537.0, Deaths: 14.0, Negative: 6088.0, Total Tested: 6625",
          "AK\nPositive: 226.0, Deaths: 7.0, Negative: 6842.0, Total Tested: 7068",
          "MI\nPositive: 20346.0, Deaths: 959.0, Negative: 31362.0, Total Tested: 51708",
          "ND\nPositive: 251.0, Deaths: 4.0, Negative: 8301.0, Total Tested: 8552",
          "NM\nPositive: 794.0, Deaths: 13.0, Negative: 21451.0, Total Tested: 22245",
          "MS\nPositive: 2003.0, Deaths: 67.0, Negative: 18632.0, Total Tested: 20635",
          "AZ\nPositive: 2726.0, Deaths: 80.0, Negative: 31838.0, Total Tested: 34564",
          "FL\nPositive: 15455.0, Deaths: 309.0, Negative: 127679.0, Total Tested: 144458",
          "MN\nPositive: 1154.0, Deaths: 39.0, Negative: 29599.0, Total Tested: 30753",
          "NY\nPositive: 149316.0, Deaths: 6268.0, Negative: 215837.0, Total Tested: 365153",
          "SD\nPositive: 393.0, Deaths: 6.0, Negative: 6355.0, Total Tested: 6748",
          "UT\nPositive: 1846.0, Deaths: 13.0, Negative: 34270.0, Total Tested: 36116",
          "MT\nPositive: 332.0, Deaths: 6.0, Negative: 7066.0, Total Tested: 7398",
          "CA\nPositive: 16957.0, Deaths: 442.0, Negative: 127307.0, Total Tested: 158864",
          "LA\nPositive: 17030.0, Deaths: 652.0, Negative: 64376.0, Total Tested: 81406",
          "DE\nPositive: 928.0, Deaths: 16.0, Negative: 7628.0, Total Tested: 8556",
          "WA\nPositive: 8682.0, Deaths: 394.0, Negative: 83391.0, Total Tested: 92073",
          "NV\nPositive: 2318.0, Deaths: 71.0, Negative: 18248.0, Total Tested: 20566",
          "IL\nPositive: 15078.0, Deaths: 462.0, Negative: 59988.0, Total Tested: 75066",
          "ID\nPositive: 1210.0, Deaths: 15.0, Negative: 10688.0, Total Tested: 11898",
          "DC\nPositive: 1440.0, Deaths: 27.0, Negative: 6843.0, Total Tested: 8283",
          "RI\nPositive: 1450.0, Deaths: 35.0, Negative: 10682.0, Total Tested: 12132",
          "AL\nPositive: 2369.0, Deaths: 66.0, Negative: 16753.0, Total Tested: 19122",
          "OK\nPositive: 1524.0, Deaths: 79.0, Negative: 11821.0, Total Tested: 13345",
          "NH\nPositive: 788.0, Deaths: 18.0, Negative: 8389.0, Total Tested: 9266",
          "TN\nPositive: 4362.0, Deaths: 79.0, Negative: 52256.0, Total Tested: 56618",
          "WY\nPositive: 221.0, Deaths: 0.0, Negative: 3843.0, Total Tested: 4064",
          "CT\nPositive: 7781.0, Deaths: 277.0, Negative: 21255.0, Total Tested: 29036",
          "KY\nPositive: 1149.0, Deaths: 65.0, Negative: 20455.0, Total Tested: 21604",
          "VT\nPositive: 605.0, Deaths: 23.0, Negative: 7144.0, Total Tested: 7749",
          "IN\nPositive: 5943.0, Deaths: 203.0, Negative: 24926.0, Total Tested: 30869",
          "SC\nPositive: 2552.0, Deaths: 63.0, Negative: 22082.0, Total Tested: 24634",
          "OH\nPositive: 5148.0, Deaths: 193.0, Negative: 48193.0, Total Tested: 53341",
          "MA\nPositive: 16790.0, Deaths: 433.0, Negative: 70721.0, Total Tested: 87511",
          "NE\nPositive: 519.0, Deaths: 12.0, Negative: 7442.0, Total Tested: 7961",
          "WV\nPositive: 462.0, Deaths: 4.0, Negative: 12083.0, Total Tested: 12545",
          "NC\nPositive: 3426.0, Deaths: 53.0, Negative: 39561.0, Total Tested: 42987",
          "MO\nPositive: 3327.0, Deaths: 58.0, Negative: 30783.0, Total Tested: 34110",
          "NJ\nPositive: 47437.0, Deaths: 1504.0, Negative: 52979.0, Total Tested: 100416",
          "MD\nPositive: 5529.0, Deaths: 124.0, Negative: 32933.0, Total Tested: 38462",
          "KS\nPositive: 900.0, Deaths: 27.0, Negative: 8614.0, Total Tested: 9514",
          "CO\nPositive: 5429.0, Deaths: 179.0, Negative: 22665.0, Total Tested: 28094",
          "HI\nPositive: 410.0, Deaths: 5.0, Negative: 14739.0, Total Tested: 15149",
          "PA\nPositive: 16239.0, Deaths: 309.0, Negative: 82299.0, Total Tested: 98538",
          "IA\nPositive: 1145.0, Deaths: 27.0, Negative: 12821.0, Total Tested: 13966",
          "GA\nPositive: 9901.0, Deaths: 362.0, Negative: 28886.0, Total Tested: 38787",
          "VA\nPositive: 3645.0, Deaths: 75.0, Negative: 27000.0, Total Tested: 30645",
          "WI\nPositive: 2756.0, Deaths: 99.0, Negative: 30115.0, Total Tested: 32871"
         ],
         "type": "choropleth",
         "z": [
          39,
          null,
          69,
          null,
          null,
          null,
          null,
          null,
          null,
          null,
          null,
          null,
          null,
          null,
          null,
          null,
          null,
          null,
          null,
          null,
          null,
          null,
          null,
          null,
          null,
          null,
          null,
          null,
          null,
          null,
          null,
          null,
          null,
          null,
          null,
          null,
          null,
          null,
          null,
          null,
          null,
          null,
          null,
          null,
          null,
          null,
          null,
          null,
          null,
          108,
          null
         ]
        }
       ],
       "layout": {
        "geo": {
         "lakecolor": "rgb(255, 255, 255)",
         "projection": {
          "type": "albers usa"
         },
         "scope": "usa",
         "showlakes": true
        },
        "template": {
         "data": {
          "bar": [
           {
            "error_x": {
             "color": "#2a3f5f"
            },
            "error_y": {
             "color": "#2a3f5f"
            },
            "marker": {
             "line": {
              "color": "#E5ECF6",
              "width": 0.5
             }
            },
            "type": "bar"
           }
          ],
          "barpolar": [
           {
            "marker": {
             "line": {
              "color": "#E5ECF6",
              "width": 0.5
             }
            },
            "type": "barpolar"
           }
          ],
          "carpet": [
           {
            "aaxis": {
             "endlinecolor": "#2a3f5f",
             "gridcolor": "white",
             "linecolor": "white",
             "minorgridcolor": "white",
             "startlinecolor": "#2a3f5f"
            },
            "baxis": {
             "endlinecolor": "#2a3f5f",
             "gridcolor": "white",
             "linecolor": "white",
             "minorgridcolor": "white",
             "startlinecolor": "#2a3f5f"
            },
            "type": "carpet"
           }
          ],
          "choropleth": [
           {
            "colorbar": {
             "outlinewidth": 0,
             "ticks": ""
            },
            "type": "choropleth"
           }
          ],
          "contour": [
           {
            "colorbar": {
             "outlinewidth": 0,
             "ticks": ""
            },
            "colorscale": [
             [
              0,
              "#0d0887"
             ],
             [
              0.1111111111111111,
              "#46039f"
             ],
             [
              0.2222222222222222,
              "#7201a8"
             ],
             [
              0.3333333333333333,
              "#9c179e"
             ],
             [
              0.4444444444444444,
              "#bd3786"
             ],
             [
              0.5555555555555556,
              "#d8576b"
             ],
             [
              0.6666666666666666,
              "#ed7953"
             ],
             [
              0.7777777777777778,
              "#fb9f3a"
             ],
             [
              0.8888888888888888,
              "#fdca26"
             ],
             [
              1,
              "#f0f921"
             ]
            ],
            "type": "contour"
           }
          ],
          "contourcarpet": [
           {
            "colorbar": {
             "outlinewidth": 0,
             "ticks": ""
            },
            "type": "contourcarpet"
           }
          ],
          "heatmap": [
           {
            "colorbar": {
             "outlinewidth": 0,
             "ticks": ""
            },
            "colorscale": [
             [
              0,
              "#0d0887"
             ],
             [
              0.1111111111111111,
              "#46039f"
             ],
             [
              0.2222222222222222,
              "#7201a8"
             ],
             [
              0.3333333333333333,
              "#9c179e"
             ],
             [
              0.4444444444444444,
              "#bd3786"
             ],
             [
              0.5555555555555556,
              "#d8576b"
             ],
             [
              0.6666666666666666,
              "#ed7953"
             ],
             [
              0.7777777777777778,
              "#fb9f3a"
             ],
             [
              0.8888888888888888,
              "#fdca26"
             ],
             [
              1,
              "#f0f921"
             ]
            ],
            "type": "heatmap"
           }
          ],
          "heatmapgl": [
           {
            "colorbar": {
             "outlinewidth": 0,
             "ticks": ""
            },
            "colorscale": [
             [
              0,
              "#0d0887"
             ],
             [
              0.1111111111111111,
              "#46039f"
             ],
             [
              0.2222222222222222,
              "#7201a8"
             ],
             [
              0.3333333333333333,
              "#9c179e"
             ],
             [
              0.4444444444444444,
              "#bd3786"
             ],
             [
              0.5555555555555556,
              "#d8576b"
             ],
             [
              0.6666666666666666,
              "#ed7953"
             ],
             [
              0.7777777777777778,
              "#fb9f3a"
             ],
             [
              0.8888888888888888,
              "#fdca26"
             ],
             [
              1,
              "#f0f921"
             ]
            ],
            "type": "heatmapgl"
           }
          ],
          "histogram": [
           {
            "marker": {
             "colorbar": {
              "outlinewidth": 0,
              "ticks": ""
             }
            },
            "type": "histogram"
           }
          ],
          "histogram2d": [
           {
            "colorbar": {
             "outlinewidth": 0,
             "ticks": ""
            },
            "colorscale": [
             [
              0,
              "#0d0887"
             ],
             [
              0.1111111111111111,
              "#46039f"
             ],
             [
              0.2222222222222222,
              "#7201a8"
             ],
             [
              0.3333333333333333,
              "#9c179e"
             ],
             [
              0.4444444444444444,
              "#bd3786"
             ],
             [
              0.5555555555555556,
              "#d8576b"
             ],
             [
              0.6666666666666666,
              "#ed7953"
             ],
             [
              0.7777777777777778,
              "#fb9f3a"
             ],
             [
              0.8888888888888888,
              "#fdca26"
             ],
             [
              1,
              "#f0f921"
             ]
            ],
            "type": "histogram2d"
           }
          ],
          "histogram2dcontour": [
           {
            "colorbar": {
             "outlinewidth": 0,
             "ticks": ""
            },
            "colorscale": [
             [
              0,
              "#0d0887"
             ],
             [
              0.1111111111111111,
              "#46039f"
             ],
             [
              0.2222222222222222,
              "#7201a8"
             ],
             [
              0.3333333333333333,
              "#9c179e"
             ],
             [
              0.4444444444444444,
              "#bd3786"
             ],
             [
              0.5555555555555556,
              "#d8576b"
             ],
             [
              0.6666666666666666,
              "#ed7953"
             ],
             [
              0.7777777777777778,
              "#fb9f3a"
             ],
             [
              0.8888888888888888,
              "#fdca26"
             ],
             [
              1,
              "#f0f921"
             ]
            ],
            "type": "histogram2dcontour"
           }
          ],
          "mesh3d": [
           {
            "colorbar": {
             "outlinewidth": 0,
             "ticks": ""
            },
            "type": "mesh3d"
           }
          ],
          "parcoords": [
           {
            "line": {
             "colorbar": {
              "outlinewidth": 0,
              "ticks": ""
             }
            },
            "type": "parcoords"
           }
          ],
          "pie": [
           {
            "automargin": true,
            "type": "pie"
           }
          ],
          "scatter": [
           {
            "marker": {
             "colorbar": {
              "outlinewidth": 0,
              "ticks": ""
             }
            },
            "type": "scatter"
           }
          ],
          "scatter3d": [
           {
            "line": {
             "colorbar": {
              "outlinewidth": 0,
              "ticks": ""
             }
            },
            "marker": {
             "colorbar": {
              "outlinewidth": 0,
              "ticks": ""
             }
            },
            "type": "scatter3d"
           }
          ],
          "scattercarpet": [
           {
            "marker": {
             "colorbar": {
              "outlinewidth": 0,
              "ticks": ""
             }
            },
            "type": "scattercarpet"
           }
          ],
          "scattergeo": [
           {
            "marker": {
             "colorbar": {
              "outlinewidth": 0,
              "ticks": ""
             }
            },
            "type": "scattergeo"
           }
          ],
          "scattergl": [
           {
            "marker": {
             "colorbar": {
              "outlinewidth": 0,
              "ticks": ""
             }
            },
            "type": "scattergl"
           }
          ],
          "scattermapbox": [
           {
            "marker": {
             "colorbar": {
              "outlinewidth": 0,
              "ticks": ""
             }
            },
            "type": "scattermapbox"
           }
          ],
          "scatterpolar": [
           {
            "marker": {
             "colorbar": {
              "outlinewidth": 0,
              "ticks": ""
             }
            },
            "type": "scatterpolar"
           }
          ],
          "scatterpolargl": [
           {
            "marker": {
             "colorbar": {
              "outlinewidth": 0,
              "ticks": ""
             }
            },
            "type": "scatterpolargl"
           }
          ],
          "scatterternary": [
           {
            "marker": {
             "colorbar": {
              "outlinewidth": 0,
              "ticks": ""
             }
            },
            "type": "scatterternary"
           }
          ],
          "surface": [
           {
            "colorbar": {
             "outlinewidth": 0,
             "ticks": ""
            },
            "colorscale": [
             [
              0,
              "#0d0887"
             ],
             [
              0.1111111111111111,
              "#46039f"
             ],
             [
              0.2222222222222222,
              "#7201a8"
             ],
             [
              0.3333333333333333,
              "#9c179e"
             ],
             [
              0.4444444444444444,
              "#bd3786"
             ],
             [
              0.5555555555555556,
              "#d8576b"
             ],
             [
              0.6666666666666666,
              "#ed7953"
             ],
             [
              0.7777777777777778,
              "#fb9f3a"
             ],
             [
              0.8888888888888888,
              "#fdca26"
             ],
             [
              1,
              "#f0f921"
             ]
            ],
            "type": "surface"
           }
          ],
          "table": [
           {
            "cells": {
             "fill": {
              "color": "#EBF0F8"
             },
             "line": {
              "color": "white"
             }
            },
            "header": {
             "fill": {
              "color": "#C8D4E3"
             },
             "line": {
              "color": "white"
             }
            },
            "type": "table"
           }
          ]
         },
         "layout": {
          "annotationdefaults": {
           "arrowcolor": "#2a3f5f",
           "arrowhead": 0,
           "arrowwidth": 1
          },
          "coloraxis": {
           "colorbar": {
            "outlinewidth": 0,
            "ticks": ""
           }
          },
          "colorscale": {
           "diverging": [
            [
             0,
             "#8e0152"
            ],
            [
             0.1,
             "#c51b7d"
            ],
            [
             0.2,
             "#de77ae"
            ],
            [
             0.3,
             "#f1b6da"
            ],
            [
             0.4,
             "#fde0ef"
            ],
            [
             0.5,
             "#f7f7f7"
            ],
            [
             0.6,
             "#e6f5d0"
            ],
            [
             0.7,
             "#b8e186"
            ],
            [
             0.8,
             "#7fbc41"
            ],
            [
             0.9,
             "#4d9221"
            ],
            [
             1,
             "#276419"
            ]
           ],
           "sequential": [
            [
             0,
             "#0d0887"
            ],
            [
             0.1111111111111111,
             "#46039f"
            ],
            [
             0.2222222222222222,
             "#7201a8"
            ],
            [
             0.3333333333333333,
             "#9c179e"
            ],
            [
             0.4444444444444444,
             "#bd3786"
            ],
            [
             0.5555555555555556,
             "#d8576b"
            ],
            [
             0.6666666666666666,
             "#ed7953"
            ],
            [
             0.7777777777777778,
             "#fb9f3a"
            ],
            [
             0.8888888888888888,
             "#fdca26"
            ],
            [
             1,
             "#f0f921"
            ]
           ],
           "sequentialminus": [
            [
             0,
             "#0d0887"
            ],
            [
             0.1111111111111111,
             "#46039f"
            ],
            [
             0.2222222222222222,
             "#7201a8"
            ],
            [
             0.3333333333333333,
             "#9c179e"
            ],
            [
             0.4444444444444444,
             "#bd3786"
            ],
            [
             0.5555555555555556,
             "#d8576b"
            ],
            [
             0.6666666666666666,
             "#ed7953"
            ],
            [
             0.7777777777777778,
             "#fb9f3a"
            ],
            [
             0.8888888888888888,
             "#fdca26"
            ],
            [
             1,
             "#f0f921"
            ]
           ]
          },
          "colorway": [
           "#636efa",
           "#EF553B",
           "#00cc96",
           "#ab63fa",
           "#FFA15A",
           "#19d3f3",
           "#FF6692",
           "#B6E880",
           "#FF97FF",
           "#FECB52"
          ],
          "font": {
           "color": "#2a3f5f"
          },
          "geo": {
           "bgcolor": "white",
           "lakecolor": "white",
           "landcolor": "#E5ECF6",
           "showlakes": true,
           "showland": true,
           "subunitcolor": "white"
          },
          "hoverlabel": {
           "align": "left"
          },
          "hovermode": "closest",
          "mapbox": {
           "style": "light"
          },
          "paper_bgcolor": "white",
          "plot_bgcolor": "#E5ECF6",
          "polar": {
           "angularaxis": {
            "gridcolor": "white",
            "linecolor": "white",
            "ticks": ""
           },
           "bgcolor": "#E5ECF6",
           "radialaxis": {
            "gridcolor": "white",
            "linecolor": "white",
            "ticks": ""
           }
          },
          "scene": {
           "xaxis": {
            "backgroundcolor": "#E5ECF6",
            "gridcolor": "white",
            "gridwidth": 2,
            "linecolor": "white",
            "showbackground": true,
            "ticks": "",
            "zerolinecolor": "white"
           },
           "yaxis": {
            "backgroundcolor": "#E5ECF6",
            "gridcolor": "white",
            "gridwidth": 2,
            "linecolor": "white",
            "showbackground": true,
            "ticks": "",
            "zerolinecolor": "white"
           },
           "zaxis": {
            "backgroundcolor": "#E5ECF6",
            "gridcolor": "white",
            "gridwidth": 2,
            "linecolor": "white",
            "showbackground": true,
            "ticks": "",
            "zerolinecolor": "white"
           }
          },
          "shapedefaults": {
           "line": {
            "color": "#2a3f5f"
           }
          },
          "ternary": {
           "aaxis": {
            "gridcolor": "white",
            "linecolor": "white",
            "ticks": ""
           },
           "baxis": {
            "gridcolor": "white",
            "linecolor": "white",
            "ticks": ""
           },
           "bgcolor": "#E5ECF6",
           "caxis": {
            "gridcolor": "white",
            "linecolor": "white",
            "ticks": ""
           }
          },
          "title": {
           "x": 0.05
          },
          "xaxis": {
           "automargin": true,
           "gridcolor": "white",
           "linecolor": "white",
           "ticks": "",
           "title": {
            "standoff": 15
           },
           "zerolinecolor": "white",
           "zerolinewidth": 2
          },
          "yaxis": {
           "automargin": true,
           "gridcolor": "white",
           "linecolor": "white",
           "ticks": "",
           "title": {
            "standoff": 15
           },
           "zerolinecolor": "white",
           "zerolinewidth": 2
          }
         }
        },
        "title": {
         "text": "Number of Covid patients on Ventilators, Cumulative,<br>for OR, VA, and AR (Hover for breakdown)"
        }
       }
      },
      "text/html": [
       "<div>\n",
       "        \n",
       "        \n",
       "            <div id=\"0a6fbee9-8d61-4718-90f1-1ea325058fa3\" class=\"plotly-graph-div\" style=\"height:525px; width:100%;\"></div>\n",
       "            <script type=\"text/javascript\">\n",
       "                require([\"plotly\"], function(Plotly) {\n",
       "                    window.PLOTLYENV=window.PLOTLYENV || {};\n",
       "                    \n",
       "                if (document.getElementById(\"0a6fbee9-8d61-4718-90f1-1ea325058fa3\")) {\n",
       "                    Plotly.newPlot(\n",
       "                        '0a6fbee9-8d61-4718-90f1-1ea325058fa3',\n",
       "                        [{\"autocolorscale\": false, \"colorbar\": {\"title\": {\"text\": \"Number of Covid patients on Ventilators, Cumulative\"}}, \"colorscale\": [[0.0, \"rgb(255,245,235)\"], [0.125, \"rgb(254,230,206)\"], [0.25, \"rgb(253,208,162)\"], [0.375, \"rgb(253,174,107)\"], [0.5, \"rgb(253,141,60)\"], [0.625, \"rgb(241,105,19)\"], [0.75, \"rgb(217,72,1)\"], [0.875, \"rgb(166,54,3)\"], [1.0, \"rgb(127,39,4)\"]], \"locationmode\": \"USA-states\", \"locations\": [\"AR\", \"TX\", \"OR\", \"ME\", \"AK\", \"MI\", \"ND\", \"NM\", \"MS\", \"AZ\", \"FL\", \"MN\", \"NY\", \"SD\", \"UT\", \"MT\", \"CA\", \"LA\", \"DE\", \"WA\", \"NV\", \"IL\", \"ID\", \"DC\", \"RI\", \"AL\", \"OK\", \"NH\", \"TN\", \"WY\", \"CT\", \"KY\", \"VT\", \"IN\", \"SC\", \"OH\", \"MA\", \"NE\", \"WV\", \"NC\", \"MO\", \"NJ\", \"MD\", \"KS\", \"CO\", \"HI\", \"PA\", \"IA\", \"GA\", \"VA\", \"WI\"], \"marker\": {\"line\": {\"color\": \"white\"}}, \"text\": [\"AR\\nPositive: 1000.0, Deaths: 18.0, Negative: 13530.0, Total Tested: 14530\", \"TX\\nPositive: 9353.0, Deaths: 177.0, Negative: 86905.0, Total Tested: 96258\", \"OR\\nPositive: 1181.0, Deaths: 33.0, Negative: 21826.0, Total Tested: 23007\", \"ME\\nPositive: 537.0, Deaths: 14.0, Negative: 6088.0, Total Tested: 6625\", \"AK\\nPositive: 226.0, Deaths: 7.0, Negative: 6842.0, Total Tested: 7068\", \"MI\\nPositive: 20346.0, Deaths: 959.0, Negative: 31362.0, Total Tested: 51708\", \"ND\\nPositive: 251.0, Deaths: 4.0, Negative: 8301.0, Total Tested: 8552\", \"NM\\nPositive: 794.0, Deaths: 13.0, Negative: 21451.0, Total Tested: 22245\", \"MS\\nPositive: 2003.0, Deaths: 67.0, Negative: 18632.0, Total Tested: 20635\", \"AZ\\nPositive: 2726.0, Deaths: 80.0, Negative: 31838.0, Total Tested: 34564\", \"FL\\nPositive: 15455.0, Deaths: 309.0, Negative: 127679.0, Total Tested: 144458\", \"MN\\nPositive: 1154.0, Deaths: 39.0, Negative: 29599.0, Total Tested: 30753\", \"NY\\nPositive: 149316.0, Deaths: 6268.0, Negative: 215837.0, Total Tested: 365153\", \"SD\\nPositive: 393.0, Deaths: 6.0, Negative: 6355.0, Total Tested: 6748\", \"UT\\nPositive: 1846.0, Deaths: 13.0, Negative: 34270.0, Total Tested: 36116\", \"MT\\nPositive: 332.0, Deaths: 6.0, Negative: 7066.0, Total Tested: 7398\", \"CA\\nPositive: 16957.0, Deaths: 442.0, Negative: 127307.0, Total Tested: 158864\", \"LA\\nPositive: 17030.0, Deaths: 652.0, Negative: 64376.0, Total Tested: 81406\", \"DE\\nPositive: 928.0, Deaths: 16.0, Negative: 7628.0, Total Tested: 8556\", \"WA\\nPositive: 8682.0, Deaths: 394.0, Negative: 83391.0, Total Tested: 92073\", \"NV\\nPositive: 2318.0, Deaths: 71.0, Negative: 18248.0, Total Tested: 20566\", \"IL\\nPositive: 15078.0, Deaths: 462.0, Negative: 59988.0, Total Tested: 75066\", \"ID\\nPositive: 1210.0, Deaths: 15.0, Negative: 10688.0, Total Tested: 11898\", \"DC\\nPositive: 1440.0, Deaths: 27.0, Negative: 6843.0, Total Tested: 8283\", \"RI\\nPositive: 1450.0, Deaths: 35.0, Negative: 10682.0, Total Tested: 12132\", \"AL\\nPositive: 2369.0, Deaths: 66.0, Negative: 16753.0, Total Tested: 19122\", \"OK\\nPositive: 1524.0, Deaths: 79.0, Negative: 11821.0, Total Tested: 13345\", \"NH\\nPositive: 788.0, Deaths: 18.0, Negative: 8389.0, Total Tested: 9266\", \"TN\\nPositive: 4362.0, Deaths: 79.0, Negative: 52256.0, Total Tested: 56618\", \"WY\\nPositive: 221.0, Deaths: 0.0, Negative: 3843.0, Total Tested: 4064\", \"CT\\nPositive: 7781.0, Deaths: 277.0, Negative: 21255.0, Total Tested: 29036\", \"KY\\nPositive: 1149.0, Deaths: 65.0, Negative: 20455.0, Total Tested: 21604\", \"VT\\nPositive: 605.0, Deaths: 23.0, Negative: 7144.0, Total Tested: 7749\", \"IN\\nPositive: 5943.0, Deaths: 203.0, Negative: 24926.0, Total Tested: 30869\", \"SC\\nPositive: 2552.0, Deaths: 63.0, Negative: 22082.0, Total Tested: 24634\", \"OH\\nPositive: 5148.0, Deaths: 193.0, Negative: 48193.0, Total Tested: 53341\", \"MA\\nPositive: 16790.0, Deaths: 433.0, Negative: 70721.0, Total Tested: 87511\", \"NE\\nPositive: 519.0, Deaths: 12.0, Negative: 7442.0, Total Tested: 7961\", \"WV\\nPositive: 462.0, Deaths: 4.0, Negative: 12083.0, Total Tested: 12545\", \"NC\\nPositive: 3426.0, Deaths: 53.0, Negative: 39561.0, Total Tested: 42987\", \"MO\\nPositive: 3327.0, Deaths: 58.0, Negative: 30783.0, Total Tested: 34110\", \"NJ\\nPositive: 47437.0, Deaths: 1504.0, Negative: 52979.0, Total Tested: 100416\", \"MD\\nPositive: 5529.0, Deaths: 124.0, Negative: 32933.0, Total Tested: 38462\", \"KS\\nPositive: 900.0, Deaths: 27.0, Negative: 8614.0, Total Tested: 9514\", \"CO\\nPositive: 5429.0, Deaths: 179.0, Negative: 22665.0, Total Tested: 28094\", \"HI\\nPositive: 410.0, Deaths: 5.0, Negative: 14739.0, Total Tested: 15149\", \"PA\\nPositive: 16239.0, Deaths: 309.0, Negative: 82299.0, Total Tested: 98538\", \"IA\\nPositive: 1145.0, Deaths: 27.0, Negative: 12821.0, Total Tested: 13966\", \"GA\\nPositive: 9901.0, Deaths: 362.0, Negative: 28886.0, Total Tested: 38787\", \"VA\\nPositive: 3645.0, Deaths: 75.0, Negative: 27000.0, Total Tested: 30645\", \"WI\\nPositive: 2756.0, Deaths: 99.0, Negative: 30115.0, Total Tested: 32871\"], \"type\": \"choropleth\", \"z\": [39.0, null, 69.0, null, null, null, null, null, null, null, null, null, null, null, null, null, null, null, null, null, null, null, null, null, null, null, null, null, null, null, null, null, null, null, null, null, null, null, null, null, null, null, null, null, null, null, null, null, null, 108.0, null]}],\n",
       "                        {\"geo\": {\"lakecolor\": \"rgb(255, 255, 255)\", \"projection\": {\"type\": \"albers usa\"}, \"scope\": \"usa\", \"showlakes\": true}, \"template\": {\"data\": {\"bar\": [{\"error_x\": {\"color\": \"#2a3f5f\"}, \"error_y\": {\"color\": \"#2a3f5f\"}, \"marker\": {\"line\": {\"color\": \"#E5ECF6\", \"width\": 0.5}}, \"type\": \"bar\"}], \"barpolar\": [{\"marker\": {\"line\": {\"color\": \"#E5ECF6\", \"width\": 0.5}}, \"type\": \"barpolar\"}], \"carpet\": [{\"aaxis\": {\"endlinecolor\": \"#2a3f5f\", \"gridcolor\": \"white\", \"linecolor\": \"white\", \"minorgridcolor\": \"white\", \"startlinecolor\": \"#2a3f5f\"}, \"baxis\": {\"endlinecolor\": \"#2a3f5f\", \"gridcolor\": \"white\", \"linecolor\": \"white\", \"minorgridcolor\": \"white\", \"startlinecolor\": \"#2a3f5f\"}, \"type\": \"carpet\"}], \"choropleth\": [{\"colorbar\": {\"outlinewidth\": 0, \"ticks\": \"\"}, \"type\": \"choropleth\"}], \"contour\": [{\"colorbar\": {\"outlinewidth\": 0, \"ticks\": \"\"}, \"colorscale\": [[0.0, \"#0d0887\"], [0.1111111111111111, \"#46039f\"], [0.2222222222222222, \"#7201a8\"], [0.3333333333333333, \"#9c179e\"], [0.4444444444444444, \"#bd3786\"], [0.5555555555555556, \"#d8576b\"], [0.6666666666666666, \"#ed7953\"], [0.7777777777777778, \"#fb9f3a\"], [0.8888888888888888, \"#fdca26\"], [1.0, \"#f0f921\"]], \"type\": \"contour\"}], \"contourcarpet\": [{\"colorbar\": {\"outlinewidth\": 0, \"ticks\": \"\"}, \"type\": \"contourcarpet\"}], \"heatmap\": [{\"colorbar\": {\"outlinewidth\": 0, \"ticks\": \"\"}, \"colorscale\": [[0.0, \"#0d0887\"], [0.1111111111111111, \"#46039f\"], [0.2222222222222222, \"#7201a8\"], [0.3333333333333333, \"#9c179e\"], [0.4444444444444444, \"#bd3786\"], [0.5555555555555556, \"#d8576b\"], [0.6666666666666666, \"#ed7953\"], [0.7777777777777778, \"#fb9f3a\"], [0.8888888888888888, \"#fdca26\"], [1.0, \"#f0f921\"]], \"type\": \"heatmap\"}], \"heatmapgl\": [{\"colorbar\": {\"outlinewidth\": 0, \"ticks\": \"\"}, \"colorscale\": [[0.0, \"#0d0887\"], [0.1111111111111111, \"#46039f\"], [0.2222222222222222, \"#7201a8\"], [0.3333333333333333, \"#9c179e\"], [0.4444444444444444, \"#bd3786\"], [0.5555555555555556, \"#d8576b\"], [0.6666666666666666, \"#ed7953\"], [0.7777777777777778, \"#fb9f3a\"], [0.8888888888888888, \"#fdca26\"], [1.0, \"#f0f921\"]], \"type\": \"heatmapgl\"}], \"histogram\": [{\"marker\": {\"colorbar\": {\"outlinewidth\": 0, \"ticks\": \"\"}}, \"type\": \"histogram\"}], \"histogram2d\": [{\"colorbar\": {\"outlinewidth\": 0, \"ticks\": \"\"}, \"colorscale\": [[0.0, \"#0d0887\"], [0.1111111111111111, \"#46039f\"], [0.2222222222222222, \"#7201a8\"], [0.3333333333333333, \"#9c179e\"], [0.4444444444444444, \"#bd3786\"], [0.5555555555555556, \"#d8576b\"], [0.6666666666666666, \"#ed7953\"], [0.7777777777777778, \"#fb9f3a\"], [0.8888888888888888, \"#fdca26\"], [1.0, \"#f0f921\"]], \"type\": \"histogram2d\"}], \"histogram2dcontour\": [{\"colorbar\": {\"outlinewidth\": 0, \"ticks\": \"\"}, \"colorscale\": [[0.0, \"#0d0887\"], [0.1111111111111111, \"#46039f\"], [0.2222222222222222, \"#7201a8\"], [0.3333333333333333, \"#9c179e\"], [0.4444444444444444, \"#bd3786\"], [0.5555555555555556, \"#d8576b\"], [0.6666666666666666, \"#ed7953\"], [0.7777777777777778, \"#fb9f3a\"], [0.8888888888888888, \"#fdca26\"], [1.0, \"#f0f921\"]], \"type\": \"histogram2dcontour\"}], \"mesh3d\": [{\"colorbar\": {\"outlinewidth\": 0, \"ticks\": \"\"}, \"type\": \"mesh3d\"}], \"parcoords\": [{\"line\": {\"colorbar\": {\"outlinewidth\": 0, \"ticks\": \"\"}}, \"type\": \"parcoords\"}], \"pie\": [{\"automargin\": true, \"type\": \"pie\"}], \"scatter\": [{\"marker\": {\"colorbar\": {\"outlinewidth\": 0, \"ticks\": \"\"}}, \"type\": \"scatter\"}], \"scatter3d\": [{\"line\": {\"colorbar\": {\"outlinewidth\": 0, \"ticks\": \"\"}}, \"marker\": {\"colorbar\": {\"outlinewidth\": 0, \"ticks\": \"\"}}, \"type\": \"scatter3d\"}], \"scattercarpet\": [{\"marker\": {\"colorbar\": {\"outlinewidth\": 0, \"ticks\": \"\"}}, \"type\": \"scattercarpet\"}], \"scattergeo\": [{\"marker\": {\"colorbar\": {\"outlinewidth\": 0, \"ticks\": \"\"}}, \"type\": \"scattergeo\"}], \"scattergl\": [{\"marker\": {\"colorbar\": {\"outlinewidth\": 0, \"ticks\": \"\"}}, \"type\": \"scattergl\"}], \"scattermapbox\": [{\"marker\": {\"colorbar\": {\"outlinewidth\": 0, \"ticks\": \"\"}}, \"type\": \"scattermapbox\"}], \"scatterpolar\": [{\"marker\": {\"colorbar\": {\"outlinewidth\": 0, \"ticks\": \"\"}}, \"type\": \"scatterpolar\"}], \"scatterpolargl\": [{\"marker\": {\"colorbar\": {\"outlinewidth\": 0, \"ticks\": \"\"}}, \"type\": \"scatterpolargl\"}], \"scatterternary\": [{\"marker\": {\"colorbar\": {\"outlinewidth\": 0, \"ticks\": \"\"}}, \"type\": \"scatterternary\"}], \"surface\": [{\"colorbar\": {\"outlinewidth\": 0, \"ticks\": \"\"}, \"colorscale\": [[0.0, \"#0d0887\"], [0.1111111111111111, \"#46039f\"], [0.2222222222222222, \"#7201a8\"], [0.3333333333333333, \"#9c179e\"], [0.4444444444444444, \"#bd3786\"], [0.5555555555555556, \"#d8576b\"], [0.6666666666666666, \"#ed7953\"], [0.7777777777777778, \"#fb9f3a\"], [0.8888888888888888, \"#fdca26\"], [1.0, \"#f0f921\"]], \"type\": \"surface\"}], \"table\": [{\"cells\": {\"fill\": {\"color\": \"#EBF0F8\"}, \"line\": {\"color\": \"white\"}}, \"header\": {\"fill\": {\"color\": \"#C8D4E3\"}, \"line\": {\"color\": \"white\"}}, \"type\": \"table\"}]}, \"layout\": {\"annotationdefaults\": {\"arrowcolor\": \"#2a3f5f\", \"arrowhead\": 0, \"arrowwidth\": 1}, \"coloraxis\": {\"colorbar\": {\"outlinewidth\": 0, \"ticks\": \"\"}}, \"colorscale\": {\"diverging\": [[0, \"#8e0152\"], [0.1, \"#c51b7d\"], [0.2, \"#de77ae\"], [0.3, \"#f1b6da\"], [0.4, \"#fde0ef\"], [0.5, \"#f7f7f7\"], [0.6, \"#e6f5d0\"], [0.7, \"#b8e186\"], [0.8, \"#7fbc41\"], [0.9, \"#4d9221\"], [1, \"#276419\"]], \"sequential\": [[0.0, \"#0d0887\"], [0.1111111111111111, \"#46039f\"], [0.2222222222222222, \"#7201a8\"], [0.3333333333333333, \"#9c179e\"], [0.4444444444444444, \"#bd3786\"], [0.5555555555555556, \"#d8576b\"], [0.6666666666666666, \"#ed7953\"], [0.7777777777777778, \"#fb9f3a\"], [0.8888888888888888, \"#fdca26\"], [1.0, \"#f0f921\"]], \"sequentialminus\": [[0.0, \"#0d0887\"], [0.1111111111111111, \"#46039f\"], [0.2222222222222222, \"#7201a8\"], [0.3333333333333333, \"#9c179e\"], [0.4444444444444444, \"#bd3786\"], [0.5555555555555556, \"#d8576b\"], [0.6666666666666666, \"#ed7953\"], [0.7777777777777778, \"#fb9f3a\"], [0.8888888888888888, \"#fdca26\"], [1.0, \"#f0f921\"]]}, \"colorway\": [\"#636efa\", \"#EF553B\", \"#00cc96\", \"#ab63fa\", \"#FFA15A\", \"#19d3f3\", \"#FF6692\", \"#B6E880\", \"#FF97FF\", \"#FECB52\"], \"font\": {\"color\": \"#2a3f5f\"}, \"geo\": {\"bgcolor\": \"white\", \"lakecolor\": \"white\", \"landcolor\": \"#E5ECF6\", \"showlakes\": true, \"showland\": true, \"subunitcolor\": \"white\"}, \"hoverlabel\": {\"align\": \"left\"}, \"hovermode\": \"closest\", \"mapbox\": {\"style\": \"light\"}, \"paper_bgcolor\": \"white\", \"plot_bgcolor\": \"#E5ECF6\", \"polar\": {\"angularaxis\": {\"gridcolor\": \"white\", \"linecolor\": \"white\", \"ticks\": \"\"}, \"bgcolor\": \"#E5ECF6\", \"radialaxis\": {\"gridcolor\": \"white\", \"linecolor\": \"white\", \"ticks\": \"\"}}, \"scene\": {\"xaxis\": {\"backgroundcolor\": \"#E5ECF6\", \"gridcolor\": \"white\", \"gridwidth\": 2, \"linecolor\": \"white\", \"showbackground\": true, \"ticks\": \"\", \"zerolinecolor\": \"white\"}, \"yaxis\": {\"backgroundcolor\": \"#E5ECF6\", \"gridcolor\": \"white\", \"gridwidth\": 2, \"linecolor\": \"white\", \"showbackground\": true, \"ticks\": \"\", \"zerolinecolor\": \"white\"}, \"zaxis\": {\"backgroundcolor\": \"#E5ECF6\", \"gridcolor\": \"white\", \"gridwidth\": 2, \"linecolor\": \"white\", \"showbackground\": true, \"ticks\": \"\", \"zerolinecolor\": \"white\"}}, \"shapedefaults\": {\"line\": {\"color\": \"#2a3f5f\"}}, \"ternary\": {\"aaxis\": {\"gridcolor\": \"white\", \"linecolor\": \"white\", \"ticks\": \"\"}, \"baxis\": {\"gridcolor\": \"white\", \"linecolor\": \"white\", \"ticks\": \"\"}, \"bgcolor\": \"#E5ECF6\", \"caxis\": {\"gridcolor\": \"white\", \"linecolor\": \"white\", \"ticks\": \"\"}}, \"title\": {\"x\": 0.05}, \"xaxis\": {\"automargin\": true, \"gridcolor\": \"white\", \"linecolor\": \"white\", \"ticks\": \"\", \"title\": {\"standoff\": 15}, \"zerolinecolor\": \"white\", \"zerolinewidth\": 2}, \"yaxis\": {\"automargin\": true, \"gridcolor\": \"white\", \"linecolor\": \"white\", \"ticks\": \"\", \"title\": {\"standoff\": 15}, \"zerolinecolor\": \"white\", \"zerolinewidth\": 2}}}, \"title\": {\"text\": \"Number of Covid patients on Ventilators, Cumulative,<br>for OR, VA, and AR (Hover for breakdown)\"}},\n",
       "                        {\"responsive\": true}\n",
       "                    ).then(function(){\n",
       "                            \n",
       "var gd = document.getElementById('0a6fbee9-8d61-4718-90f1-1ea325058fa3');\n",
       "var x = new MutationObserver(function (mutations, observer) {{\n",
       "        var display = window.getComputedStyle(gd).display;\n",
       "        if (!display || display === 'none') {{\n",
       "            console.log([gd, 'removed!']);\n",
       "            Plotly.purge(gd);\n",
       "            observer.disconnect();\n",
       "        }}\n",
       "}});\n",
       "\n",
       "// Listen for the removal of the full notebook cells\n",
       "var notebookContainer = gd.closest('#notebook-container');\n",
       "if (notebookContainer) {{\n",
       "    x.observe(notebookContainer, {childList: true});\n",
       "}}\n",
       "\n",
       "// Listen for the clearing of the current output cell\n",
       "var outputEl = gd.closest('.output');\n",
       "if (outputEl) {{\n",
       "    x.observe(outputEl, {childList: true});\n",
       "}}\n",
       "\n",
       "                        })\n",
       "                };\n",
       "                });\n",
       "            </script>\n",
       "        </div>"
      ]
     },
     "metadata": {},
     "output_type": "display_data"
    }
   ],
   "source": [
    "#scale = 1000\n",
    "fig = go.Figure(data=go.Choropleth(\n",
    "    locations=df2['state'],\n",
    "    z=df2['onVentilatorCumulative'],\n",
    "    locationmode='USA-states',\n",
    "    colorscale='Oranges',\n",
    "    autocolorscale=False,\n",
    "    text=df2['text'], # hover text\n",
    "    marker_line_color='white', # line markers between states\n",
    "    colorbar_title=\"Number of Covid patients on Ventilators, Cumulative\"\n",
    "))\n",
    "\n",
    "fig.update_layout(\n",
    "    title_text='Number of Covid patients on Ventilators, Cumulative,<br>for OR, VA, and AR (Hover for breakdown)',\n",
    "    geo = dict(\n",
    "        scope='usa',\n",
    "        projection=go.layout.geo.Projection(type = 'albers usa'),\n",
    "        showlakes=True, # lakes\n",
    "        lakecolor='rgb(255, 255, 255)'),\n",
    ")\n",
    "fig.show();"
   ]
  },
  {
   "cell_type": "code",
   "execution_count": 35,
   "metadata": {
    "ExecuteTime": {
     "end_time": "2020-04-09T15:50:07.417592Z",
     "start_time": "2020-04-09T15:50:07.200347Z"
    },
    "scrolled": false
   },
   "outputs": [
    {
     "data": {
      "application/vnd.plotly.v1+json": {
       "config": {
        "plotlyServerURL": "https://plot.ly"
       },
       "data": [
        {
         "autocolorscale": false,
         "colorbar": {
          "title": {
           "text": "Number of Covid patients Hospitalized, Cumulative"
          }
         },
         "colorscale": [
          [
           0,
           "rgb(255,245,235)"
          ],
          [
           0.125,
           "rgb(254,230,206)"
          ],
          [
           0.25,
           "rgb(253,208,162)"
          ],
          [
           0.375,
           "rgb(253,174,107)"
          ],
          [
           0.5,
           "rgb(253,141,60)"
          ],
          [
           0.625,
           "rgb(241,105,19)"
          ],
          [
           0.75,
           "rgb(217,72,1)"
          ],
          [
           0.875,
           "rgb(166,54,3)"
          ],
          [
           1,
           "rgb(127,39,4)"
          ]
         ],
         "locationmode": "USA-states",
         "locations": [
          "AR",
          "TX",
          "OR",
          "ME",
          "AK",
          "MI",
          "ND",
          "NM",
          "MS",
          "AZ",
          "FL",
          "MN",
          "NY",
          "SD",
          "UT",
          "MT",
          "CA",
          "LA",
          "DE",
          "WA",
          "NV",
          "IL",
          "ID",
          "DC",
          "RI",
          "AL",
          "OK",
          "NH",
          "TN",
          "WY",
          "CT",
          "KY",
          "VT",
          "IN",
          "SC",
          "OH",
          "MA",
          "NE",
          "WV",
          "NC",
          "MO",
          "NJ",
          "MD",
          "KS",
          "CO",
          "HI",
          "PA",
          "IA",
          "GA",
          "VA",
          "WI"
         ],
         "marker": {
          "line": {
           "color": "white"
          }
         },
         "text": [
          "AR\nPositive: 1000.0, Deaths: 18.0, Negative: 13530.0, Total Tested: 14530",
          "TX\nPositive: 9353.0, Deaths: 177.0, Negative: 86905.0, Total Tested: 96258",
          "OR\nPositive: 1181.0, Deaths: 33.0, Negative: 21826.0, Total Tested: 23007",
          "ME\nPositive: 537.0, Deaths: 14.0, Negative: 6088.0, Total Tested: 6625",
          "AK\nPositive: 226.0, Deaths: 7.0, Negative: 6842.0, Total Tested: 7068",
          "MI\nPositive: 20346.0, Deaths: 959.0, Negative: 31362.0, Total Tested: 51708",
          "ND\nPositive: 251.0, Deaths: 4.0, Negative: 8301.0, Total Tested: 8552",
          "NM\nPositive: 794.0, Deaths: 13.0, Negative: 21451.0, Total Tested: 22245",
          "MS\nPositive: 2003.0, Deaths: 67.0, Negative: 18632.0, Total Tested: 20635",
          "AZ\nPositive: 2726.0, Deaths: 80.0, Negative: 31838.0, Total Tested: 34564",
          "FL\nPositive: 15455.0, Deaths: 309.0, Negative: 127679.0, Total Tested: 144458",
          "MN\nPositive: 1154.0, Deaths: 39.0, Negative: 29599.0, Total Tested: 30753",
          "NY\nPositive: 149316.0, Deaths: 6268.0, Negative: 215837.0, Total Tested: 365153",
          "SD\nPositive: 393.0, Deaths: 6.0, Negative: 6355.0, Total Tested: 6748",
          "UT\nPositive: 1846.0, Deaths: 13.0, Negative: 34270.0, Total Tested: 36116",
          "MT\nPositive: 332.0, Deaths: 6.0, Negative: 7066.0, Total Tested: 7398",
          "CA\nPositive: 16957.0, Deaths: 442.0, Negative: 127307.0, Total Tested: 158864",
          "LA\nPositive: 17030.0, Deaths: 652.0, Negative: 64376.0, Total Tested: 81406",
          "DE\nPositive: 928.0, Deaths: 16.0, Negative: 7628.0, Total Tested: 8556",
          "WA\nPositive: 8682.0, Deaths: 394.0, Negative: 83391.0, Total Tested: 92073",
          "NV\nPositive: 2318.0, Deaths: 71.0, Negative: 18248.0, Total Tested: 20566",
          "IL\nPositive: 15078.0, Deaths: 462.0, Negative: 59988.0, Total Tested: 75066",
          "ID\nPositive: 1210.0, Deaths: 15.0, Negative: 10688.0, Total Tested: 11898",
          "DC\nPositive: 1440.0, Deaths: 27.0, Negative: 6843.0, Total Tested: 8283",
          "RI\nPositive: 1450.0, Deaths: 35.0, Negative: 10682.0, Total Tested: 12132",
          "AL\nPositive: 2369.0, Deaths: 66.0, Negative: 16753.0, Total Tested: 19122",
          "OK\nPositive: 1524.0, Deaths: 79.0, Negative: 11821.0, Total Tested: 13345",
          "NH\nPositive: 788.0, Deaths: 18.0, Negative: 8389.0, Total Tested: 9266",
          "TN\nPositive: 4362.0, Deaths: 79.0, Negative: 52256.0, Total Tested: 56618",
          "WY\nPositive: 221.0, Deaths: 0.0, Negative: 3843.0, Total Tested: 4064",
          "CT\nPositive: 7781.0, Deaths: 277.0, Negative: 21255.0, Total Tested: 29036",
          "KY\nPositive: 1149.0, Deaths: 65.0, Negative: 20455.0, Total Tested: 21604",
          "VT\nPositive: 605.0, Deaths: 23.0, Negative: 7144.0, Total Tested: 7749",
          "IN\nPositive: 5943.0, Deaths: 203.0, Negative: 24926.0, Total Tested: 30869",
          "SC\nPositive: 2552.0, Deaths: 63.0, Negative: 22082.0, Total Tested: 24634",
          "OH\nPositive: 5148.0, Deaths: 193.0, Negative: 48193.0, Total Tested: 53341",
          "MA\nPositive: 16790.0, Deaths: 433.0, Negative: 70721.0, Total Tested: 87511",
          "NE\nPositive: 519.0, Deaths: 12.0, Negative: 7442.0, Total Tested: 7961",
          "WV\nPositive: 462.0, Deaths: 4.0, Negative: 12083.0, Total Tested: 12545",
          "NC\nPositive: 3426.0, Deaths: 53.0, Negative: 39561.0, Total Tested: 42987",
          "MO\nPositive: 3327.0, Deaths: 58.0, Negative: 30783.0, Total Tested: 34110",
          "NJ\nPositive: 47437.0, Deaths: 1504.0, Negative: 52979.0, Total Tested: 100416",
          "MD\nPositive: 5529.0, Deaths: 124.0, Negative: 32933.0, Total Tested: 38462",
          "KS\nPositive: 900.0, Deaths: 27.0, Negative: 8614.0, Total Tested: 9514",
          "CO\nPositive: 5429.0, Deaths: 179.0, Negative: 22665.0, Total Tested: 28094",
          "HI\nPositive: 410.0, Deaths: 5.0, Negative: 14739.0, Total Tested: 15149",
          "PA\nPositive: 16239.0, Deaths: 309.0, Negative: 82299.0, Total Tested: 98538",
          "IA\nPositive: 1145.0, Deaths: 27.0, Negative: 12821.0, Total Tested: 13966",
          "GA\nPositive: 9901.0, Deaths: 362.0, Negative: 28886.0, Total Tested: 38787",
          "VA\nPositive: 3645.0, Deaths: 75.0, Negative: 27000.0, Total Tested: 30645",
          "WI\nPositive: 2756.0, Deaths: 99.0, Negative: 30115.0, Total Tested: 32871"
         ],
         "type": "choropleth",
         "z": [
          130,
          null,
          329,
          101,
          27,
          null,
          34,
          null,
          410,
          null,
          2062,
          271,
          32669,
          26,
          158,
          31,
          null,
          null,
          null,
          null,
          null,
          null,
          93,
          null,
          null,
          314,
          390,
          118,
          449,
          33,
          null,
          null,
          50,
          null,
          241,
          1495,
          1583,
          null,
          null,
          null,
          null,
          null,
          1210,
          223,
          1079,
          42,
          null,
          193,
          1993,
          615,
          790
         ]
        }
       ],
       "layout": {
        "geo": {
         "lakecolor": "rgb(255, 255, 255)",
         "projection": {
          "type": "albers usa"
         },
         "scope": "usa",
         "showlakes": true
        },
        "template": {
         "data": {
          "bar": [
           {
            "error_x": {
             "color": "#2a3f5f"
            },
            "error_y": {
             "color": "#2a3f5f"
            },
            "marker": {
             "line": {
              "color": "#E5ECF6",
              "width": 0.5
             }
            },
            "type": "bar"
           }
          ],
          "barpolar": [
           {
            "marker": {
             "line": {
              "color": "#E5ECF6",
              "width": 0.5
             }
            },
            "type": "barpolar"
           }
          ],
          "carpet": [
           {
            "aaxis": {
             "endlinecolor": "#2a3f5f",
             "gridcolor": "white",
             "linecolor": "white",
             "minorgridcolor": "white",
             "startlinecolor": "#2a3f5f"
            },
            "baxis": {
             "endlinecolor": "#2a3f5f",
             "gridcolor": "white",
             "linecolor": "white",
             "minorgridcolor": "white",
             "startlinecolor": "#2a3f5f"
            },
            "type": "carpet"
           }
          ],
          "choropleth": [
           {
            "colorbar": {
             "outlinewidth": 0,
             "ticks": ""
            },
            "type": "choropleth"
           }
          ],
          "contour": [
           {
            "colorbar": {
             "outlinewidth": 0,
             "ticks": ""
            },
            "colorscale": [
             [
              0,
              "#0d0887"
             ],
             [
              0.1111111111111111,
              "#46039f"
             ],
             [
              0.2222222222222222,
              "#7201a8"
             ],
             [
              0.3333333333333333,
              "#9c179e"
             ],
             [
              0.4444444444444444,
              "#bd3786"
             ],
             [
              0.5555555555555556,
              "#d8576b"
             ],
             [
              0.6666666666666666,
              "#ed7953"
             ],
             [
              0.7777777777777778,
              "#fb9f3a"
             ],
             [
              0.8888888888888888,
              "#fdca26"
             ],
             [
              1,
              "#f0f921"
             ]
            ],
            "type": "contour"
           }
          ],
          "contourcarpet": [
           {
            "colorbar": {
             "outlinewidth": 0,
             "ticks": ""
            },
            "type": "contourcarpet"
           }
          ],
          "heatmap": [
           {
            "colorbar": {
             "outlinewidth": 0,
             "ticks": ""
            },
            "colorscale": [
             [
              0,
              "#0d0887"
             ],
             [
              0.1111111111111111,
              "#46039f"
             ],
             [
              0.2222222222222222,
              "#7201a8"
             ],
             [
              0.3333333333333333,
              "#9c179e"
             ],
             [
              0.4444444444444444,
              "#bd3786"
             ],
             [
              0.5555555555555556,
              "#d8576b"
             ],
             [
              0.6666666666666666,
              "#ed7953"
             ],
             [
              0.7777777777777778,
              "#fb9f3a"
             ],
             [
              0.8888888888888888,
              "#fdca26"
             ],
             [
              1,
              "#f0f921"
             ]
            ],
            "type": "heatmap"
           }
          ],
          "heatmapgl": [
           {
            "colorbar": {
             "outlinewidth": 0,
             "ticks": ""
            },
            "colorscale": [
             [
              0,
              "#0d0887"
             ],
             [
              0.1111111111111111,
              "#46039f"
             ],
             [
              0.2222222222222222,
              "#7201a8"
             ],
             [
              0.3333333333333333,
              "#9c179e"
             ],
             [
              0.4444444444444444,
              "#bd3786"
             ],
             [
              0.5555555555555556,
              "#d8576b"
             ],
             [
              0.6666666666666666,
              "#ed7953"
             ],
             [
              0.7777777777777778,
              "#fb9f3a"
             ],
             [
              0.8888888888888888,
              "#fdca26"
             ],
             [
              1,
              "#f0f921"
             ]
            ],
            "type": "heatmapgl"
           }
          ],
          "histogram": [
           {
            "marker": {
             "colorbar": {
              "outlinewidth": 0,
              "ticks": ""
             }
            },
            "type": "histogram"
           }
          ],
          "histogram2d": [
           {
            "colorbar": {
             "outlinewidth": 0,
             "ticks": ""
            },
            "colorscale": [
             [
              0,
              "#0d0887"
             ],
             [
              0.1111111111111111,
              "#46039f"
             ],
             [
              0.2222222222222222,
              "#7201a8"
             ],
             [
              0.3333333333333333,
              "#9c179e"
             ],
             [
              0.4444444444444444,
              "#bd3786"
             ],
             [
              0.5555555555555556,
              "#d8576b"
             ],
             [
              0.6666666666666666,
              "#ed7953"
             ],
             [
              0.7777777777777778,
              "#fb9f3a"
             ],
             [
              0.8888888888888888,
              "#fdca26"
             ],
             [
              1,
              "#f0f921"
             ]
            ],
            "type": "histogram2d"
           }
          ],
          "histogram2dcontour": [
           {
            "colorbar": {
             "outlinewidth": 0,
             "ticks": ""
            },
            "colorscale": [
             [
              0,
              "#0d0887"
             ],
             [
              0.1111111111111111,
              "#46039f"
             ],
             [
              0.2222222222222222,
              "#7201a8"
             ],
             [
              0.3333333333333333,
              "#9c179e"
             ],
             [
              0.4444444444444444,
              "#bd3786"
             ],
             [
              0.5555555555555556,
              "#d8576b"
             ],
             [
              0.6666666666666666,
              "#ed7953"
             ],
             [
              0.7777777777777778,
              "#fb9f3a"
             ],
             [
              0.8888888888888888,
              "#fdca26"
             ],
             [
              1,
              "#f0f921"
             ]
            ],
            "type": "histogram2dcontour"
           }
          ],
          "mesh3d": [
           {
            "colorbar": {
             "outlinewidth": 0,
             "ticks": ""
            },
            "type": "mesh3d"
           }
          ],
          "parcoords": [
           {
            "line": {
             "colorbar": {
              "outlinewidth": 0,
              "ticks": ""
             }
            },
            "type": "parcoords"
           }
          ],
          "pie": [
           {
            "automargin": true,
            "type": "pie"
           }
          ],
          "scatter": [
           {
            "marker": {
             "colorbar": {
              "outlinewidth": 0,
              "ticks": ""
             }
            },
            "type": "scatter"
           }
          ],
          "scatter3d": [
           {
            "line": {
             "colorbar": {
              "outlinewidth": 0,
              "ticks": ""
             }
            },
            "marker": {
             "colorbar": {
              "outlinewidth": 0,
              "ticks": ""
             }
            },
            "type": "scatter3d"
           }
          ],
          "scattercarpet": [
           {
            "marker": {
             "colorbar": {
              "outlinewidth": 0,
              "ticks": ""
             }
            },
            "type": "scattercarpet"
           }
          ],
          "scattergeo": [
           {
            "marker": {
             "colorbar": {
              "outlinewidth": 0,
              "ticks": ""
             }
            },
            "type": "scattergeo"
           }
          ],
          "scattergl": [
           {
            "marker": {
             "colorbar": {
              "outlinewidth": 0,
              "ticks": ""
             }
            },
            "type": "scattergl"
           }
          ],
          "scattermapbox": [
           {
            "marker": {
             "colorbar": {
              "outlinewidth": 0,
              "ticks": ""
             }
            },
            "type": "scattermapbox"
           }
          ],
          "scatterpolar": [
           {
            "marker": {
             "colorbar": {
              "outlinewidth": 0,
              "ticks": ""
             }
            },
            "type": "scatterpolar"
           }
          ],
          "scatterpolargl": [
           {
            "marker": {
             "colorbar": {
              "outlinewidth": 0,
              "ticks": ""
             }
            },
            "type": "scatterpolargl"
           }
          ],
          "scatterternary": [
           {
            "marker": {
             "colorbar": {
              "outlinewidth": 0,
              "ticks": ""
             }
            },
            "type": "scatterternary"
           }
          ],
          "surface": [
           {
            "colorbar": {
             "outlinewidth": 0,
             "ticks": ""
            },
            "colorscale": [
             [
              0,
              "#0d0887"
             ],
             [
              0.1111111111111111,
              "#46039f"
             ],
             [
              0.2222222222222222,
              "#7201a8"
             ],
             [
              0.3333333333333333,
              "#9c179e"
             ],
             [
              0.4444444444444444,
              "#bd3786"
             ],
             [
              0.5555555555555556,
              "#d8576b"
             ],
             [
              0.6666666666666666,
              "#ed7953"
             ],
             [
              0.7777777777777778,
              "#fb9f3a"
             ],
             [
              0.8888888888888888,
              "#fdca26"
             ],
             [
              1,
              "#f0f921"
             ]
            ],
            "type": "surface"
           }
          ],
          "table": [
           {
            "cells": {
             "fill": {
              "color": "#EBF0F8"
             },
             "line": {
              "color": "white"
             }
            },
            "header": {
             "fill": {
              "color": "#C8D4E3"
             },
             "line": {
              "color": "white"
             }
            },
            "type": "table"
           }
          ]
         },
         "layout": {
          "annotationdefaults": {
           "arrowcolor": "#2a3f5f",
           "arrowhead": 0,
           "arrowwidth": 1
          },
          "coloraxis": {
           "colorbar": {
            "outlinewidth": 0,
            "ticks": ""
           }
          },
          "colorscale": {
           "diverging": [
            [
             0,
             "#8e0152"
            ],
            [
             0.1,
             "#c51b7d"
            ],
            [
             0.2,
             "#de77ae"
            ],
            [
             0.3,
             "#f1b6da"
            ],
            [
             0.4,
             "#fde0ef"
            ],
            [
             0.5,
             "#f7f7f7"
            ],
            [
             0.6,
             "#e6f5d0"
            ],
            [
             0.7,
             "#b8e186"
            ],
            [
             0.8,
             "#7fbc41"
            ],
            [
             0.9,
             "#4d9221"
            ],
            [
             1,
             "#276419"
            ]
           ],
           "sequential": [
            [
             0,
             "#0d0887"
            ],
            [
             0.1111111111111111,
             "#46039f"
            ],
            [
             0.2222222222222222,
             "#7201a8"
            ],
            [
             0.3333333333333333,
             "#9c179e"
            ],
            [
             0.4444444444444444,
             "#bd3786"
            ],
            [
             0.5555555555555556,
             "#d8576b"
            ],
            [
             0.6666666666666666,
             "#ed7953"
            ],
            [
             0.7777777777777778,
             "#fb9f3a"
            ],
            [
             0.8888888888888888,
             "#fdca26"
            ],
            [
             1,
             "#f0f921"
            ]
           ],
           "sequentialminus": [
            [
             0,
             "#0d0887"
            ],
            [
             0.1111111111111111,
             "#46039f"
            ],
            [
             0.2222222222222222,
             "#7201a8"
            ],
            [
             0.3333333333333333,
             "#9c179e"
            ],
            [
             0.4444444444444444,
             "#bd3786"
            ],
            [
             0.5555555555555556,
             "#d8576b"
            ],
            [
             0.6666666666666666,
             "#ed7953"
            ],
            [
             0.7777777777777778,
             "#fb9f3a"
            ],
            [
             0.8888888888888888,
             "#fdca26"
            ],
            [
             1,
             "#f0f921"
            ]
           ]
          },
          "colorway": [
           "#636efa",
           "#EF553B",
           "#00cc96",
           "#ab63fa",
           "#FFA15A",
           "#19d3f3",
           "#FF6692",
           "#B6E880",
           "#FF97FF",
           "#FECB52"
          ],
          "font": {
           "color": "#2a3f5f"
          },
          "geo": {
           "bgcolor": "white",
           "lakecolor": "white",
           "landcolor": "#E5ECF6",
           "showlakes": true,
           "showland": true,
           "subunitcolor": "white"
          },
          "hoverlabel": {
           "align": "left"
          },
          "hovermode": "closest",
          "mapbox": {
           "style": "light"
          },
          "paper_bgcolor": "white",
          "plot_bgcolor": "#E5ECF6",
          "polar": {
           "angularaxis": {
            "gridcolor": "white",
            "linecolor": "white",
            "ticks": ""
           },
           "bgcolor": "#E5ECF6",
           "radialaxis": {
            "gridcolor": "white",
            "linecolor": "white",
            "ticks": ""
           }
          },
          "scene": {
           "xaxis": {
            "backgroundcolor": "#E5ECF6",
            "gridcolor": "white",
            "gridwidth": 2,
            "linecolor": "white",
            "showbackground": true,
            "ticks": "",
            "zerolinecolor": "white"
           },
           "yaxis": {
            "backgroundcolor": "#E5ECF6",
            "gridcolor": "white",
            "gridwidth": 2,
            "linecolor": "white",
            "showbackground": true,
            "ticks": "",
            "zerolinecolor": "white"
           },
           "zaxis": {
            "backgroundcolor": "#E5ECF6",
            "gridcolor": "white",
            "gridwidth": 2,
            "linecolor": "white",
            "showbackground": true,
            "ticks": "",
            "zerolinecolor": "white"
           }
          },
          "shapedefaults": {
           "line": {
            "color": "#2a3f5f"
           }
          },
          "ternary": {
           "aaxis": {
            "gridcolor": "white",
            "linecolor": "white",
            "ticks": ""
           },
           "baxis": {
            "gridcolor": "white",
            "linecolor": "white",
            "ticks": ""
           },
           "bgcolor": "#E5ECF6",
           "caxis": {
            "gridcolor": "white",
            "linecolor": "white",
            "ticks": ""
           }
          },
          "title": {
           "x": 0.05
          },
          "xaxis": {
           "automargin": true,
           "gridcolor": "white",
           "linecolor": "white",
           "ticks": "",
           "title": {
            "standoff": 15
           },
           "zerolinecolor": "white",
           "zerolinewidth": 2
          },
          "yaxis": {
           "automargin": true,
           "gridcolor": "white",
           "linecolor": "white",
           "ticks": "",
           "title": {
            "standoff": 15
           },
           "zerolinecolor": "white",
           "zerolinewidth": 2
          }
         }
        },
        "title": {
         "text": "Number of Covid patients Hospitalized, Cumulative<br>(Hover for breakdown)"
        }
       }
      },
      "text/html": [
       "<div>\n",
       "        \n",
       "        \n",
       "            <div id=\"35bea86e-7eca-47ff-a4fc-9769b46a2609\" class=\"plotly-graph-div\" style=\"height:525px; width:100%;\"></div>\n",
       "            <script type=\"text/javascript\">\n",
       "                require([\"plotly\"], function(Plotly) {\n",
       "                    window.PLOTLYENV=window.PLOTLYENV || {};\n",
       "                    \n",
       "                if (document.getElementById(\"35bea86e-7eca-47ff-a4fc-9769b46a2609\")) {\n",
       "                    Plotly.newPlot(\n",
       "                        '35bea86e-7eca-47ff-a4fc-9769b46a2609',\n",
       "                        [{\"autocolorscale\": false, \"colorbar\": {\"title\": {\"text\": \"Number of Covid patients Hospitalized, Cumulative\"}}, \"colorscale\": [[0.0, \"rgb(255,245,235)\"], [0.125, \"rgb(254,230,206)\"], [0.25, \"rgb(253,208,162)\"], [0.375, \"rgb(253,174,107)\"], [0.5, \"rgb(253,141,60)\"], [0.625, \"rgb(241,105,19)\"], [0.75, \"rgb(217,72,1)\"], [0.875, \"rgb(166,54,3)\"], [1.0, \"rgb(127,39,4)\"]], \"locationmode\": \"USA-states\", \"locations\": [\"AR\", \"TX\", \"OR\", \"ME\", \"AK\", \"MI\", \"ND\", \"NM\", \"MS\", \"AZ\", \"FL\", \"MN\", \"NY\", \"SD\", \"UT\", \"MT\", \"CA\", \"LA\", \"DE\", \"WA\", \"NV\", \"IL\", \"ID\", \"DC\", \"RI\", \"AL\", \"OK\", \"NH\", \"TN\", \"WY\", \"CT\", \"KY\", \"VT\", \"IN\", \"SC\", \"OH\", \"MA\", \"NE\", \"WV\", \"NC\", \"MO\", \"NJ\", \"MD\", \"KS\", \"CO\", \"HI\", \"PA\", \"IA\", \"GA\", \"VA\", \"WI\"], \"marker\": {\"line\": {\"color\": \"white\"}}, \"text\": [\"AR\\nPositive: 1000.0, Deaths: 18.0, Negative: 13530.0, Total Tested: 14530\", \"TX\\nPositive: 9353.0, Deaths: 177.0, Negative: 86905.0, Total Tested: 96258\", \"OR\\nPositive: 1181.0, Deaths: 33.0, Negative: 21826.0, Total Tested: 23007\", \"ME\\nPositive: 537.0, Deaths: 14.0, Negative: 6088.0, Total Tested: 6625\", \"AK\\nPositive: 226.0, Deaths: 7.0, Negative: 6842.0, Total Tested: 7068\", \"MI\\nPositive: 20346.0, Deaths: 959.0, Negative: 31362.0, Total Tested: 51708\", \"ND\\nPositive: 251.0, Deaths: 4.0, Negative: 8301.0, Total Tested: 8552\", \"NM\\nPositive: 794.0, Deaths: 13.0, Negative: 21451.0, Total Tested: 22245\", \"MS\\nPositive: 2003.0, Deaths: 67.0, Negative: 18632.0, Total Tested: 20635\", \"AZ\\nPositive: 2726.0, Deaths: 80.0, Negative: 31838.0, Total Tested: 34564\", \"FL\\nPositive: 15455.0, Deaths: 309.0, Negative: 127679.0, Total Tested: 144458\", \"MN\\nPositive: 1154.0, Deaths: 39.0, Negative: 29599.0, Total Tested: 30753\", \"NY\\nPositive: 149316.0, Deaths: 6268.0, Negative: 215837.0, Total Tested: 365153\", \"SD\\nPositive: 393.0, Deaths: 6.0, Negative: 6355.0, Total Tested: 6748\", \"UT\\nPositive: 1846.0, Deaths: 13.0, Negative: 34270.0, Total Tested: 36116\", \"MT\\nPositive: 332.0, Deaths: 6.0, Negative: 7066.0, Total Tested: 7398\", \"CA\\nPositive: 16957.0, Deaths: 442.0, Negative: 127307.0, Total Tested: 158864\", \"LA\\nPositive: 17030.0, Deaths: 652.0, Negative: 64376.0, Total Tested: 81406\", \"DE\\nPositive: 928.0, Deaths: 16.0, Negative: 7628.0, Total Tested: 8556\", \"WA\\nPositive: 8682.0, Deaths: 394.0, Negative: 83391.0, Total Tested: 92073\", \"NV\\nPositive: 2318.0, Deaths: 71.0, Negative: 18248.0, Total Tested: 20566\", \"IL\\nPositive: 15078.0, Deaths: 462.0, Negative: 59988.0, Total Tested: 75066\", \"ID\\nPositive: 1210.0, Deaths: 15.0, Negative: 10688.0, Total Tested: 11898\", \"DC\\nPositive: 1440.0, Deaths: 27.0, Negative: 6843.0, Total Tested: 8283\", \"RI\\nPositive: 1450.0, Deaths: 35.0, Negative: 10682.0, Total Tested: 12132\", \"AL\\nPositive: 2369.0, Deaths: 66.0, Negative: 16753.0, Total Tested: 19122\", \"OK\\nPositive: 1524.0, Deaths: 79.0, Negative: 11821.0, Total Tested: 13345\", \"NH\\nPositive: 788.0, Deaths: 18.0, Negative: 8389.0, Total Tested: 9266\", \"TN\\nPositive: 4362.0, Deaths: 79.0, Negative: 52256.0, Total Tested: 56618\", \"WY\\nPositive: 221.0, Deaths: 0.0, Negative: 3843.0, Total Tested: 4064\", \"CT\\nPositive: 7781.0, Deaths: 277.0, Negative: 21255.0, Total Tested: 29036\", \"KY\\nPositive: 1149.0, Deaths: 65.0, Negative: 20455.0, Total Tested: 21604\", \"VT\\nPositive: 605.0, Deaths: 23.0, Negative: 7144.0, Total Tested: 7749\", \"IN\\nPositive: 5943.0, Deaths: 203.0, Negative: 24926.0, Total Tested: 30869\", \"SC\\nPositive: 2552.0, Deaths: 63.0, Negative: 22082.0, Total Tested: 24634\", \"OH\\nPositive: 5148.0, Deaths: 193.0, Negative: 48193.0, Total Tested: 53341\", \"MA\\nPositive: 16790.0, Deaths: 433.0, Negative: 70721.0, Total Tested: 87511\", \"NE\\nPositive: 519.0, Deaths: 12.0, Negative: 7442.0, Total Tested: 7961\", \"WV\\nPositive: 462.0, Deaths: 4.0, Negative: 12083.0, Total Tested: 12545\", \"NC\\nPositive: 3426.0, Deaths: 53.0, Negative: 39561.0, Total Tested: 42987\", \"MO\\nPositive: 3327.0, Deaths: 58.0, Negative: 30783.0, Total Tested: 34110\", \"NJ\\nPositive: 47437.0, Deaths: 1504.0, Negative: 52979.0, Total Tested: 100416\", \"MD\\nPositive: 5529.0, Deaths: 124.0, Negative: 32933.0, Total Tested: 38462\", \"KS\\nPositive: 900.0, Deaths: 27.0, Negative: 8614.0, Total Tested: 9514\", \"CO\\nPositive: 5429.0, Deaths: 179.0, Negative: 22665.0, Total Tested: 28094\", \"HI\\nPositive: 410.0, Deaths: 5.0, Negative: 14739.0, Total Tested: 15149\", \"PA\\nPositive: 16239.0, Deaths: 309.0, Negative: 82299.0, Total Tested: 98538\", \"IA\\nPositive: 1145.0, Deaths: 27.0, Negative: 12821.0, Total Tested: 13966\", \"GA\\nPositive: 9901.0, Deaths: 362.0, Negative: 28886.0, Total Tested: 38787\", \"VA\\nPositive: 3645.0, Deaths: 75.0, Negative: 27000.0, Total Tested: 30645\", \"WI\\nPositive: 2756.0, Deaths: 99.0, Negative: 30115.0, Total Tested: 32871\"], \"type\": \"choropleth\", \"z\": [130.0, null, 329.0, 101.0, 27.0, null, 34.0, null, 410.0, null, 2062.0, 271.0, 32669.0, 26.0, 158.0, 31.0, null, null, null, null, null, null, 93.0, null, null, 314.0, 390.0, 118.0, 449.0, 33.0, null, null, 50.0, null, 241.0, 1495.0, 1583.0, null, null, null, null, null, 1210.0, 223.0, 1079.0, 42.0, null, 193.0, 1993.0, 615.0, 790.0]}],\n",
       "                        {\"geo\": {\"lakecolor\": \"rgb(255, 255, 255)\", \"projection\": {\"type\": \"albers usa\"}, \"scope\": \"usa\", \"showlakes\": true}, \"template\": {\"data\": {\"bar\": [{\"error_x\": {\"color\": \"#2a3f5f\"}, \"error_y\": {\"color\": \"#2a3f5f\"}, \"marker\": {\"line\": {\"color\": \"#E5ECF6\", \"width\": 0.5}}, \"type\": \"bar\"}], \"barpolar\": [{\"marker\": {\"line\": {\"color\": \"#E5ECF6\", \"width\": 0.5}}, \"type\": \"barpolar\"}], \"carpet\": [{\"aaxis\": {\"endlinecolor\": \"#2a3f5f\", \"gridcolor\": \"white\", \"linecolor\": \"white\", \"minorgridcolor\": \"white\", \"startlinecolor\": \"#2a3f5f\"}, \"baxis\": {\"endlinecolor\": \"#2a3f5f\", \"gridcolor\": \"white\", \"linecolor\": \"white\", \"minorgridcolor\": \"white\", \"startlinecolor\": \"#2a3f5f\"}, \"type\": \"carpet\"}], \"choropleth\": [{\"colorbar\": {\"outlinewidth\": 0, \"ticks\": \"\"}, \"type\": \"choropleth\"}], \"contour\": [{\"colorbar\": {\"outlinewidth\": 0, \"ticks\": \"\"}, \"colorscale\": [[0.0, \"#0d0887\"], [0.1111111111111111, \"#46039f\"], [0.2222222222222222, \"#7201a8\"], [0.3333333333333333, \"#9c179e\"], [0.4444444444444444, \"#bd3786\"], [0.5555555555555556, \"#d8576b\"], [0.6666666666666666, \"#ed7953\"], [0.7777777777777778, \"#fb9f3a\"], [0.8888888888888888, \"#fdca26\"], [1.0, \"#f0f921\"]], \"type\": \"contour\"}], \"contourcarpet\": [{\"colorbar\": {\"outlinewidth\": 0, \"ticks\": \"\"}, \"type\": \"contourcarpet\"}], \"heatmap\": [{\"colorbar\": {\"outlinewidth\": 0, \"ticks\": \"\"}, \"colorscale\": [[0.0, \"#0d0887\"], [0.1111111111111111, \"#46039f\"], [0.2222222222222222, \"#7201a8\"], [0.3333333333333333, \"#9c179e\"], [0.4444444444444444, \"#bd3786\"], [0.5555555555555556, \"#d8576b\"], [0.6666666666666666, \"#ed7953\"], [0.7777777777777778, \"#fb9f3a\"], [0.8888888888888888, \"#fdca26\"], [1.0, \"#f0f921\"]], \"type\": \"heatmap\"}], \"heatmapgl\": [{\"colorbar\": {\"outlinewidth\": 0, \"ticks\": \"\"}, \"colorscale\": [[0.0, \"#0d0887\"], [0.1111111111111111, \"#46039f\"], [0.2222222222222222, \"#7201a8\"], [0.3333333333333333, \"#9c179e\"], [0.4444444444444444, \"#bd3786\"], [0.5555555555555556, \"#d8576b\"], [0.6666666666666666, \"#ed7953\"], [0.7777777777777778, \"#fb9f3a\"], [0.8888888888888888, \"#fdca26\"], [1.0, \"#f0f921\"]], \"type\": \"heatmapgl\"}], \"histogram\": [{\"marker\": {\"colorbar\": {\"outlinewidth\": 0, \"ticks\": \"\"}}, \"type\": \"histogram\"}], \"histogram2d\": [{\"colorbar\": {\"outlinewidth\": 0, \"ticks\": \"\"}, \"colorscale\": [[0.0, \"#0d0887\"], [0.1111111111111111, \"#46039f\"], [0.2222222222222222, \"#7201a8\"], [0.3333333333333333, \"#9c179e\"], [0.4444444444444444, \"#bd3786\"], [0.5555555555555556, \"#d8576b\"], [0.6666666666666666, \"#ed7953\"], [0.7777777777777778, \"#fb9f3a\"], [0.8888888888888888, \"#fdca26\"], [1.0, \"#f0f921\"]], \"type\": \"histogram2d\"}], \"histogram2dcontour\": [{\"colorbar\": {\"outlinewidth\": 0, \"ticks\": \"\"}, \"colorscale\": [[0.0, \"#0d0887\"], [0.1111111111111111, \"#46039f\"], [0.2222222222222222, \"#7201a8\"], [0.3333333333333333, \"#9c179e\"], [0.4444444444444444, \"#bd3786\"], [0.5555555555555556, \"#d8576b\"], [0.6666666666666666, \"#ed7953\"], [0.7777777777777778, \"#fb9f3a\"], [0.8888888888888888, \"#fdca26\"], [1.0, \"#f0f921\"]], \"type\": \"histogram2dcontour\"}], \"mesh3d\": [{\"colorbar\": {\"outlinewidth\": 0, \"ticks\": \"\"}, \"type\": \"mesh3d\"}], \"parcoords\": [{\"line\": {\"colorbar\": {\"outlinewidth\": 0, \"ticks\": \"\"}}, \"type\": \"parcoords\"}], \"pie\": [{\"automargin\": true, \"type\": \"pie\"}], \"scatter\": [{\"marker\": {\"colorbar\": {\"outlinewidth\": 0, \"ticks\": \"\"}}, \"type\": \"scatter\"}], \"scatter3d\": [{\"line\": {\"colorbar\": {\"outlinewidth\": 0, \"ticks\": \"\"}}, \"marker\": {\"colorbar\": {\"outlinewidth\": 0, \"ticks\": \"\"}}, \"type\": \"scatter3d\"}], \"scattercarpet\": [{\"marker\": {\"colorbar\": {\"outlinewidth\": 0, \"ticks\": \"\"}}, \"type\": \"scattercarpet\"}], \"scattergeo\": [{\"marker\": {\"colorbar\": {\"outlinewidth\": 0, \"ticks\": \"\"}}, \"type\": \"scattergeo\"}], \"scattergl\": [{\"marker\": {\"colorbar\": {\"outlinewidth\": 0, \"ticks\": \"\"}}, \"type\": \"scattergl\"}], \"scattermapbox\": [{\"marker\": {\"colorbar\": {\"outlinewidth\": 0, \"ticks\": \"\"}}, \"type\": \"scattermapbox\"}], \"scatterpolar\": [{\"marker\": {\"colorbar\": {\"outlinewidth\": 0, \"ticks\": \"\"}}, \"type\": \"scatterpolar\"}], \"scatterpolargl\": [{\"marker\": {\"colorbar\": {\"outlinewidth\": 0, \"ticks\": \"\"}}, \"type\": \"scatterpolargl\"}], \"scatterternary\": [{\"marker\": {\"colorbar\": {\"outlinewidth\": 0, \"ticks\": \"\"}}, \"type\": \"scatterternary\"}], \"surface\": [{\"colorbar\": {\"outlinewidth\": 0, \"ticks\": \"\"}, \"colorscale\": [[0.0, \"#0d0887\"], [0.1111111111111111, \"#46039f\"], [0.2222222222222222, \"#7201a8\"], [0.3333333333333333, \"#9c179e\"], [0.4444444444444444, \"#bd3786\"], [0.5555555555555556, \"#d8576b\"], [0.6666666666666666, \"#ed7953\"], [0.7777777777777778, \"#fb9f3a\"], [0.8888888888888888, \"#fdca26\"], [1.0, \"#f0f921\"]], \"type\": \"surface\"}], \"table\": [{\"cells\": {\"fill\": {\"color\": \"#EBF0F8\"}, \"line\": {\"color\": \"white\"}}, \"header\": {\"fill\": {\"color\": \"#C8D4E3\"}, \"line\": {\"color\": \"white\"}}, \"type\": \"table\"}]}, \"layout\": {\"annotationdefaults\": {\"arrowcolor\": \"#2a3f5f\", \"arrowhead\": 0, \"arrowwidth\": 1}, \"coloraxis\": {\"colorbar\": {\"outlinewidth\": 0, \"ticks\": \"\"}}, \"colorscale\": {\"diverging\": [[0, \"#8e0152\"], [0.1, \"#c51b7d\"], [0.2, \"#de77ae\"], [0.3, \"#f1b6da\"], [0.4, \"#fde0ef\"], [0.5, \"#f7f7f7\"], [0.6, \"#e6f5d0\"], [0.7, \"#b8e186\"], [0.8, \"#7fbc41\"], [0.9, \"#4d9221\"], [1, \"#276419\"]], \"sequential\": [[0.0, \"#0d0887\"], [0.1111111111111111, \"#46039f\"], [0.2222222222222222, \"#7201a8\"], [0.3333333333333333, \"#9c179e\"], [0.4444444444444444, \"#bd3786\"], [0.5555555555555556, \"#d8576b\"], [0.6666666666666666, \"#ed7953\"], [0.7777777777777778, \"#fb9f3a\"], [0.8888888888888888, \"#fdca26\"], [1.0, \"#f0f921\"]], \"sequentialminus\": [[0.0, \"#0d0887\"], [0.1111111111111111, \"#46039f\"], [0.2222222222222222, \"#7201a8\"], [0.3333333333333333, \"#9c179e\"], [0.4444444444444444, \"#bd3786\"], [0.5555555555555556, \"#d8576b\"], [0.6666666666666666, \"#ed7953\"], [0.7777777777777778, \"#fb9f3a\"], [0.8888888888888888, \"#fdca26\"], [1.0, \"#f0f921\"]]}, \"colorway\": [\"#636efa\", \"#EF553B\", \"#00cc96\", \"#ab63fa\", \"#FFA15A\", \"#19d3f3\", \"#FF6692\", \"#B6E880\", \"#FF97FF\", \"#FECB52\"], \"font\": {\"color\": \"#2a3f5f\"}, \"geo\": {\"bgcolor\": \"white\", \"lakecolor\": \"white\", \"landcolor\": \"#E5ECF6\", \"showlakes\": true, \"showland\": true, \"subunitcolor\": \"white\"}, \"hoverlabel\": {\"align\": \"left\"}, \"hovermode\": \"closest\", \"mapbox\": {\"style\": \"light\"}, \"paper_bgcolor\": \"white\", \"plot_bgcolor\": \"#E5ECF6\", \"polar\": {\"angularaxis\": {\"gridcolor\": \"white\", \"linecolor\": \"white\", \"ticks\": \"\"}, \"bgcolor\": \"#E5ECF6\", \"radialaxis\": {\"gridcolor\": \"white\", \"linecolor\": \"white\", \"ticks\": \"\"}}, \"scene\": {\"xaxis\": {\"backgroundcolor\": \"#E5ECF6\", \"gridcolor\": \"white\", \"gridwidth\": 2, \"linecolor\": \"white\", \"showbackground\": true, \"ticks\": \"\", \"zerolinecolor\": \"white\"}, \"yaxis\": {\"backgroundcolor\": \"#E5ECF6\", \"gridcolor\": \"white\", \"gridwidth\": 2, \"linecolor\": \"white\", \"showbackground\": true, \"ticks\": \"\", \"zerolinecolor\": \"white\"}, \"zaxis\": {\"backgroundcolor\": \"#E5ECF6\", \"gridcolor\": \"white\", \"gridwidth\": 2, \"linecolor\": \"white\", \"showbackground\": true, \"ticks\": \"\", \"zerolinecolor\": \"white\"}}, \"shapedefaults\": {\"line\": {\"color\": \"#2a3f5f\"}}, \"ternary\": {\"aaxis\": {\"gridcolor\": \"white\", \"linecolor\": \"white\", \"ticks\": \"\"}, \"baxis\": {\"gridcolor\": \"white\", \"linecolor\": \"white\", \"ticks\": \"\"}, \"bgcolor\": \"#E5ECF6\", \"caxis\": {\"gridcolor\": \"white\", \"linecolor\": \"white\", \"ticks\": \"\"}}, \"title\": {\"x\": 0.05}, \"xaxis\": {\"automargin\": true, \"gridcolor\": \"white\", \"linecolor\": \"white\", \"ticks\": \"\", \"title\": {\"standoff\": 15}, \"zerolinecolor\": \"white\", \"zerolinewidth\": 2}, \"yaxis\": {\"automargin\": true, \"gridcolor\": \"white\", \"linecolor\": \"white\", \"ticks\": \"\", \"title\": {\"standoff\": 15}, \"zerolinecolor\": \"white\", \"zerolinewidth\": 2}}}, \"title\": {\"text\": \"Number of Covid patients Hospitalized, Cumulative<br>(Hover for breakdown)\"}},\n",
       "                        {\"responsive\": true}\n",
       "                    ).then(function(){\n",
       "                            \n",
       "var gd = document.getElementById('35bea86e-7eca-47ff-a4fc-9769b46a2609');\n",
       "var x = new MutationObserver(function (mutations, observer) {{\n",
       "        var display = window.getComputedStyle(gd).display;\n",
       "        if (!display || display === 'none') {{\n",
       "            console.log([gd, 'removed!']);\n",
       "            Plotly.purge(gd);\n",
       "            observer.disconnect();\n",
       "        }}\n",
       "}});\n",
       "\n",
       "// Listen for the removal of the full notebook cells\n",
       "var notebookContainer = gd.closest('#notebook-container');\n",
       "if (notebookContainer) {{\n",
       "    x.observe(notebookContainer, {childList: true});\n",
       "}}\n",
       "\n",
       "// Listen for the clearing of the current output cell\n",
       "var outputEl = gd.closest('.output');\n",
       "if (outputEl) {{\n",
       "    x.observe(outputEl, {childList: true});\n",
       "}}\n",
       "\n",
       "                        })\n",
       "                };\n",
       "                });\n",
       "            </script>\n",
       "        </div>"
      ]
     },
     "metadata": {},
     "output_type": "display_data"
    }
   ],
   "source": [
    "#scale = 1000\n",
    "fig = go.Figure(data=go.Choropleth(\n",
    "    locations=df2['state'],\n",
    "    z=df2['hospitalizedCumulative'],\n",
    "    locationmode='USA-states',\n",
    "    colorscale='Oranges',\n",
    "    autocolorscale=False,\n",
    "    text=df2['text'], # hover text\n",
    "    marker_line_color='white', # line markers between states\n",
    "    colorbar_title=\"Number of Covid patients Hospitalized, Cumulative\"\n",
    "))\n",
    "\n",
    "fig.update_layout(\n",
    "    title_text='Number of Covid patients Hospitalized, Cumulative<br>(Hover for breakdown)',\n",
    "    geo = dict(\n",
    "        scope='usa',\n",
    "        projection=go.layout.geo.Projection(type = 'albers usa'),\n",
    "        showlakes=True, # lakes\n",
    "        lakecolor='rgb(255, 255, 255)'),\n",
    ")\n",
    "fig.show();"
   ]
  },
  {
   "cell_type": "code",
   "execution_count": 36,
   "metadata": {
    "ExecuteTime": {
     "end_time": "2020-04-09T15:50:07.779384Z",
     "start_time": "2020-04-09T15:50:07.662742Z"
    }
   },
   "outputs": [
    {
     "data": {
      "application/vnd.plotly.v1+json": {
       "config": {
        "plotlyServerURL": "https://plot.ly"
       },
       "data": [
        {
         "autocolorscale": false,
         "colorbar": {
          "title": {
           "text": "Hospitalization per 100,000 people"
          }
         },
         "colorscale": [
          [
           0,
           "rgb(255,245,235)"
          ],
          [
           0.125,
           "rgb(254,230,206)"
          ],
          [
           0.25,
           "rgb(253,208,162)"
          ],
          [
           0.375,
           "rgb(253,174,107)"
          ],
          [
           0.5,
           "rgb(253,141,60)"
          ],
          [
           0.625,
           "rgb(241,105,19)"
          ],
          [
           0.75,
           "rgb(217,72,1)"
          ],
          [
           0.875,
           "rgb(166,54,3)"
          ],
          [
           1,
           "rgb(127,39,4)"
          ]
         ],
         "locationmode": "USA-states",
         "locations": [
          "AR",
          "TX",
          "OR",
          "ME",
          "AK",
          "MI",
          "ND",
          "NM",
          "MS",
          "AZ",
          "FL",
          "MN",
          "NY",
          "SD",
          "UT",
          "MT",
          "CA",
          "LA",
          "DE",
          "WA",
          "NV",
          "IL",
          "ID",
          "DC",
          "RI",
          "AL",
          "OK",
          "NH",
          "TN",
          "WY",
          "CT",
          "KY",
          "VT",
          "IN",
          "SC",
          "OH",
          "MA",
          "NE",
          "WV",
          "NC",
          "MO",
          "NJ",
          "MD",
          "KS",
          "CO",
          "HI",
          "PA",
          "IA",
          "GA",
          "VA",
          "WI"
         ],
         "marker": {
          "line": {
           "color": "white"
          }
         },
         "text": [
          "AR\nPositive: 1000.0, Deaths: 18.0, Negative: 13530.0, Total Tested: 14530",
          "TX\nPositive: 9353.0, Deaths: 177.0, Negative: 86905.0, Total Tested: 96258",
          "OR\nPositive: 1181.0, Deaths: 33.0, Negative: 21826.0, Total Tested: 23007",
          "ME\nPositive: 537.0, Deaths: 14.0, Negative: 6088.0, Total Tested: 6625",
          "AK\nPositive: 226.0, Deaths: 7.0, Negative: 6842.0, Total Tested: 7068",
          "MI\nPositive: 20346.0, Deaths: 959.0, Negative: 31362.0, Total Tested: 51708",
          "ND\nPositive: 251.0, Deaths: 4.0, Negative: 8301.0, Total Tested: 8552",
          "NM\nPositive: 794.0, Deaths: 13.0, Negative: 21451.0, Total Tested: 22245",
          "MS\nPositive: 2003.0, Deaths: 67.0, Negative: 18632.0, Total Tested: 20635",
          "AZ\nPositive: 2726.0, Deaths: 80.0, Negative: 31838.0, Total Tested: 34564",
          "FL\nPositive: 15455.0, Deaths: 309.0, Negative: 127679.0, Total Tested: 144458",
          "MN\nPositive: 1154.0, Deaths: 39.0, Negative: 29599.0, Total Tested: 30753",
          "NY\nPositive: 149316.0, Deaths: 6268.0, Negative: 215837.0, Total Tested: 365153",
          "SD\nPositive: 393.0, Deaths: 6.0, Negative: 6355.0, Total Tested: 6748",
          "UT\nPositive: 1846.0, Deaths: 13.0, Negative: 34270.0, Total Tested: 36116",
          "MT\nPositive: 332.0, Deaths: 6.0, Negative: 7066.0, Total Tested: 7398",
          "CA\nPositive: 16957.0, Deaths: 442.0, Negative: 127307.0, Total Tested: 158864",
          "LA\nPositive: 17030.0, Deaths: 652.0, Negative: 64376.0, Total Tested: 81406",
          "DE\nPositive: 928.0, Deaths: 16.0, Negative: 7628.0, Total Tested: 8556",
          "WA\nPositive: 8682.0, Deaths: 394.0, Negative: 83391.0, Total Tested: 92073",
          "NV\nPositive: 2318.0, Deaths: 71.0, Negative: 18248.0, Total Tested: 20566",
          "IL\nPositive: 15078.0, Deaths: 462.0, Negative: 59988.0, Total Tested: 75066",
          "ID\nPositive: 1210.0, Deaths: 15.0, Negative: 10688.0, Total Tested: 11898",
          "DC\nPositive: 1440.0, Deaths: 27.0, Negative: 6843.0, Total Tested: 8283",
          "RI\nPositive: 1450.0, Deaths: 35.0, Negative: 10682.0, Total Tested: 12132",
          "AL\nPositive: 2369.0, Deaths: 66.0, Negative: 16753.0, Total Tested: 19122",
          "OK\nPositive: 1524.0, Deaths: 79.0, Negative: 11821.0, Total Tested: 13345",
          "NH\nPositive: 788.0, Deaths: 18.0, Negative: 8389.0, Total Tested: 9266",
          "TN\nPositive: 4362.0, Deaths: 79.0, Negative: 52256.0, Total Tested: 56618",
          "WY\nPositive: 221.0, Deaths: 0.0, Negative: 3843.0, Total Tested: 4064",
          "CT\nPositive: 7781.0, Deaths: 277.0, Negative: 21255.0, Total Tested: 29036",
          "KY\nPositive: 1149.0, Deaths: 65.0, Negative: 20455.0, Total Tested: 21604",
          "VT\nPositive: 605.0, Deaths: 23.0, Negative: 7144.0, Total Tested: 7749",
          "IN\nPositive: 5943.0, Deaths: 203.0, Negative: 24926.0, Total Tested: 30869",
          "SC\nPositive: 2552.0, Deaths: 63.0, Negative: 22082.0, Total Tested: 24634",
          "OH\nPositive: 5148.0, Deaths: 193.0, Negative: 48193.0, Total Tested: 53341",
          "MA\nPositive: 16790.0, Deaths: 433.0, Negative: 70721.0, Total Tested: 87511",
          "NE\nPositive: 519.0, Deaths: 12.0, Negative: 7442.0, Total Tested: 7961",
          "WV\nPositive: 462.0, Deaths: 4.0, Negative: 12083.0, Total Tested: 12545",
          "NC\nPositive: 3426.0, Deaths: 53.0, Negative: 39561.0, Total Tested: 42987",
          "MO\nPositive: 3327.0, Deaths: 58.0, Negative: 30783.0, Total Tested: 34110",
          "NJ\nPositive: 47437.0, Deaths: 1504.0, Negative: 52979.0, Total Tested: 100416",
          "MD\nPositive: 5529.0, Deaths: 124.0, Negative: 32933.0, Total Tested: 38462",
          "KS\nPositive: 900.0, Deaths: 27.0, Negative: 8614.0, Total Tested: 9514",
          "CO\nPositive: 5429.0, Deaths: 179.0, Negative: 22665.0, Total Tested: 28094",
          "HI\nPositive: 410.0, Deaths: 5.0, Negative: 14739.0, Total Tested: 15149",
          "PA\nPositive: 16239.0, Deaths: 309.0, Negative: 82299.0, Total Tested: 98538",
          "IA\nPositive: 1145.0, Deaths: 27.0, Negative: 12821.0, Total Tested: 13966",
          "GA\nPositive: 9901.0, Deaths: 362.0, Negative: 28886.0, Total Tested: 38787",
          "VA\nPositive: 3645.0, Deaths: 75.0, Negative: 27000.0, Total Tested: 30645",
          "WI\nPositive: 2756.0, Deaths: 99.0, Negative: 30115.0, Total Tested: 32871"
         ],
         "type": "choropleth",
         "z": [
          4.307768165195619,
          null,
          7.800391536978242,
          7.513695756324152,
          3.690818746625293,
          null,
          4.461579241584018,
          null,
          13.776191985011502,
          null,
          9.60063902449313,
          4.805278074881482,
          167.93326424915213,
          2.938985530017781,
          4.928324076609862,
          2.9005088053833443,
          null,
          null,
          null,
          null,
          null,
          null,
          5.20406364625797,
          null,
          null,
          6.404000664873955,
          9.856023711065863,
          8.678314730115444,
          6.574733635429409,
          5.701855176334191,
          null,
          null,
          8.012961766954225,
          null,
          4.680780482271884,
          12.78969296181913,
          22.966983111940614,
          null,
          null,
          null,
          null,
          null,
          20.014291196358393,
          7.654513039102548,
          18.736750564707254,
          2.9663698413415904,
          null,
          6.117138447007515,
          18.771033234712416,
          7.205185765505297,
          13.568208759429476
         ]
        }
       ],
       "layout": {
        "geo": {
         "lakecolor": "rgb(255, 255, 255)",
         "projection": {
          "type": "albers usa"
         },
         "scope": "usa",
         "showlakes": true
        },
        "template": {
         "data": {
          "bar": [
           {
            "error_x": {
             "color": "#2a3f5f"
            },
            "error_y": {
             "color": "#2a3f5f"
            },
            "marker": {
             "line": {
              "color": "#E5ECF6",
              "width": 0.5
             }
            },
            "type": "bar"
           }
          ],
          "barpolar": [
           {
            "marker": {
             "line": {
              "color": "#E5ECF6",
              "width": 0.5
             }
            },
            "type": "barpolar"
           }
          ],
          "carpet": [
           {
            "aaxis": {
             "endlinecolor": "#2a3f5f",
             "gridcolor": "white",
             "linecolor": "white",
             "minorgridcolor": "white",
             "startlinecolor": "#2a3f5f"
            },
            "baxis": {
             "endlinecolor": "#2a3f5f",
             "gridcolor": "white",
             "linecolor": "white",
             "minorgridcolor": "white",
             "startlinecolor": "#2a3f5f"
            },
            "type": "carpet"
           }
          ],
          "choropleth": [
           {
            "colorbar": {
             "outlinewidth": 0,
             "ticks": ""
            },
            "type": "choropleth"
           }
          ],
          "contour": [
           {
            "colorbar": {
             "outlinewidth": 0,
             "ticks": ""
            },
            "colorscale": [
             [
              0,
              "#0d0887"
             ],
             [
              0.1111111111111111,
              "#46039f"
             ],
             [
              0.2222222222222222,
              "#7201a8"
             ],
             [
              0.3333333333333333,
              "#9c179e"
             ],
             [
              0.4444444444444444,
              "#bd3786"
             ],
             [
              0.5555555555555556,
              "#d8576b"
             ],
             [
              0.6666666666666666,
              "#ed7953"
             ],
             [
              0.7777777777777778,
              "#fb9f3a"
             ],
             [
              0.8888888888888888,
              "#fdca26"
             ],
             [
              1,
              "#f0f921"
             ]
            ],
            "type": "contour"
           }
          ],
          "contourcarpet": [
           {
            "colorbar": {
             "outlinewidth": 0,
             "ticks": ""
            },
            "type": "contourcarpet"
           }
          ],
          "heatmap": [
           {
            "colorbar": {
             "outlinewidth": 0,
             "ticks": ""
            },
            "colorscale": [
             [
              0,
              "#0d0887"
             ],
             [
              0.1111111111111111,
              "#46039f"
             ],
             [
              0.2222222222222222,
              "#7201a8"
             ],
             [
              0.3333333333333333,
              "#9c179e"
             ],
             [
              0.4444444444444444,
              "#bd3786"
             ],
             [
              0.5555555555555556,
              "#d8576b"
             ],
             [
              0.6666666666666666,
              "#ed7953"
             ],
             [
              0.7777777777777778,
              "#fb9f3a"
             ],
             [
              0.8888888888888888,
              "#fdca26"
             ],
             [
              1,
              "#f0f921"
             ]
            ],
            "type": "heatmap"
           }
          ],
          "heatmapgl": [
           {
            "colorbar": {
             "outlinewidth": 0,
             "ticks": ""
            },
            "colorscale": [
             [
              0,
              "#0d0887"
             ],
             [
              0.1111111111111111,
              "#46039f"
             ],
             [
              0.2222222222222222,
              "#7201a8"
             ],
             [
              0.3333333333333333,
              "#9c179e"
             ],
             [
              0.4444444444444444,
              "#bd3786"
             ],
             [
              0.5555555555555556,
              "#d8576b"
             ],
             [
              0.6666666666666666,
              "#ed7953"
             ],
             [
              0.7777777777777778,
              "#fb9f3a"
             ],
             [
              0.8888888888888888,
              "#fdca26"
             ],
             [
              1,
              "#f0f921"
             ]
            ],
            "type": "heatmapgl"
           }
          ],
          "histogram": [
           {
            "marker": {
             "colorbar": {
              "outlinewidth": 0,
              "ticks": ""
             }
            },
            "type": "histogram"
           }
          ],
          "histogram2d": [
           {
            "colorbar": {
             "outlinewidth": 0,
             "ticks": ""
            },
            "colorscale": [
             [
              0,
              "#0d0887"
             ],
             [
              0.1111111111111111,
              "#46039f"
             ],
             [
              0.2222222222222222,
              "#7201a8"
             ],
             [
              0.3333333333333333,
              "#9c179e"
             ],
             [
              0.4444444444444444,
              "#bd3786"
             ],
             [
              0.5555555555555556,
              "#d8576b"
             ],
             [
              0.6666666666666666,
              "#ed7953"
             ],
             [
              0.7777777777777778,
              "#fb9f3a"
             ],
             [
              0.8888888888888888,
              "#fdca26"
             ],
             [
              1,
              "#f0f921"
             ]
            ],
            "type": "histogram2d"
           }
          ],
          "histogram2dcontour": [
           {
            "colorbar": {
             "outlinewidth": 0,
             "ticks": ""
            },
            "colorscale": [
             [
              0,
              "#0d0887"
             ],
             [
              0.1111111111111111,
              "#46039f"
             ],
             [
              0.2222222222222222,
              "#7201a8"
             ],
             [
              0.3333333333333333,
              "#9c179e"
             ],
             [
              0.4444444444444444,
              "#bd3786"
             ],
             [
              0.5555555555555556,
              "#d8576b"
             ],
             [
              0.6666666666666666,
              "#ed7953"
             ],
             [
              0.7777777777777778,
              "#fb9f3a"
             ],
             [
              0.8888888888888888,
              "#fdca26"
             ],
             [
              1,
              "#f0f921"
             ]
            ],
            "type": "histogram2dcontour"
           }
          ],
          "mesh3d": [
           {
            "colorbar": {
             "outlinewidth": 0,
             "ticks": ""
            },
            "type": "mesh3d"
           }
          ],
          "parcoords": [
           {
            "line": {
             "colorbar": {
              "outlinewidth": 0,
              "ticks": ""
             }
            },
            "type": "parcoords"
           }
          ],
          "pie": [
           {
            "automargin": true,
            "type": "pie"
           }
          ],
          "scatter": [
           {
            "marker": {
             "colorbar": {
              "outlinewidth": 0,
              "ticks": ""
             }
            },
            "type": "scatter"
           }
          ],
          "scatter3d": [
           {
            "line": {
             "colorbar": {
              "outlinewidth": 0,
              "ticks": ""
             }
            },
            "marker": {
             "colorbar": {
              "outlinewidth": 0,
              "ticks": ""
             }
            },
            "type": "scatter3d"
           }
          ],
          "scattercarpet": [
           {
            "marker": {
             "colorbar": {
              "outlinewidth": 0,
              "ticks": ""
             }
            },
            "type": "scattercarpet"
           }
          ],
          "scattergeo": [
           {
            "marker": {
             "colorbar": {
              "outlinewidth": 0,
              "ticks": ""
             }
            },
            "type": "scattergeo"
           }
          ],
          "scattergl": [
           {
            "marker": {
             "colorbar": {
              "outlinewidth": 0,
              "ticks": ""
             }
            },
            "type": "scattergl"
           }
          ],
          "scattermapbox": [
           {
            "marker": {
             "colorbar": {
              "outlinewidth": 0,
              "ticks": ""
             }
            },
            "type": "scattermapbox"
           }
          ],
          "scatterpolar": [
           {
            "marker": {
             "colorbar": {
              "outlinewidth": 0,
              "ticks": ""
             }
            },
            "type": "scatterpolar"
           }
          ],
          "scatterpolargl": [
           {
            "marker": {
             "colorbar": {
              "outlinewidth": 0,
              "ticks": ""
             }
            },
            "type": "scatterpolargl"
           }
          ],
          "scatterternary": [
           {
            "marker": {
             "colorbar": {
              "outlinewidth": 0,
              "ticks": ""
             }
            },
            "type": "scatterternary"
           }
          ],
          "surface": [
           {
            "colorbar": {
             "outlinewidth": 0,
             "ticks": ""
            },
            "colorscale": [
             [
              0,
              "#0d0887"
             ],
             [
              0.1111111111111111,
              "#46039f"
             ],
             [
              0.2222222222222222,
              "#7201a8"
             ],
             [
              0.3333333333333333,
              "#9c179e"
             ],
             [
              0.4444444444444444,
              "#bd3786"
             ],
             [
              0.5555555555555556,
              "#d8576b"
             ],
             [
              0.6666666666666666,
              "#ed7953"
             ],
             [
              0.7777777777777778,
              "#fb9f3a"
             ],
             [
              0.8888888888888888,
              "#fdca26"
             ],
             [
              1,
              "#f0f921"
             ]
            ],
            "type": "surface"
           }
          ],
          "table": [
           {
            "cells": {
             "fill": {
              "color": "#EBF0F8"
             },
             "line": {
              "color": "white"
             }
            },
            "header": {
             "fill": {
              "color": "#C8D4E3"
             },
             "line": {
              "color": "white"
             }
            },
            "type": "table"
           }
          ]
         },
         "layout": {
          "annotationdefaults": {
           "arrowcolor": "#2a3f5f",
           "arrowhead": 0,
           "arrowwidth": 1
          },
          "coloraxis": {
           "colorbar": {
            "outlinewidth": 0,
            "ticks": ""
           }
          },
          "colorscale": {
           "diverging": [
            [
             0,
             "#8e0152"
            ],
            [
             0.1,
             "#c51b7d"
            ],
            [
             0.2,
             "#de77ae"
            ],
            [
             0.3,
             "#f1b6da"
            ],
            [
             0.4,
             "#fde0ef"
            ],
            [
             0.5,
             "#f7f7f7"
            ],
            [
             0.6,
             "#e6f5d0"
            ],
            [
             0.7,
             "#b8e186"
            ],
            [
             0.8,
             "#7fbc41"
            ],
            [
             0.9,
             "#4d9221"
            ],
            [
             1,
             "#276419"
            ]
           ],
           "sequential": [
            [
             0,
             "#0d0887"
            ],
            [
             0.1111111111111111,
             "#46039f"
            ],
            [
             0.2222222222222222,
             "#7201a8"
            ],
            [
             0.3333333333333333,
             "#9c179e"
            ],
            [
             0.4444444444444444,
             "#bd3786"
            ],
            [
             0.5555555555555556,
             "#d8576b"
            ],
            [
             0.6666666666666666,
             "#ed7953"
            ],
            [
             0.7777777777777778,
             "#fb9f3a"
            ],
            [
             0.8888888888888888,
             "#fdca26"
            ],
            [
             1,
             "#f0f921"
            ]
           ],
           "sequentialminus": [
            [
             0,
             "#0d0887"
            ],
            [
             0.1111111111111111,
             "#46039f"
            ],
            [
             0.2222222222222222,
             "#7201a8"
            ],
            [
             0.3333333333333333,
             "#9c179e"
            ],
            [
             0.4444444444444444,
             "#bd3786"
            ],
            [
             0.5555555555555556,
             "#d8576b"
            ],
            [
             0.6666666666666666,
             "#ed7953"
            ],
            [
             0.7777777777777778,
             "#fb9f3a"
            ],
            [
             0.8888888888888888,
             "#fdca26"
            ],
            [
             1,
             "#f0f921"
            ]
           ]
          },
          "colorway": [
           "#636efa",
           "#EF553B",
           "#00cc96",
           "#ab63fa",
           "#FFA15A",
           "#19d3f3",
           "#FF6692",
           "#B6E880",
           "#FF97FF",
           "#FECB52"
          ],
          "font": {
           "color": "#2a3f5f"
          },
          "geo": {
           "bgcolor": "white",
           "lakecolor": "white",
           "landcolor": "#E5ECF6",
           "showlakes": true,
           "showland": true,
           "subunitcolor": "white"
          },
          "hoverlabel": {
           "align": "left"
          },
          "hovermode": "closest",
          "mapbox": {
           "style": "light"
          },
          "paper_bgcolor": "white",
          "plot_bgcolor": "#E5ECF6",
          "polar": {
           "angularaxis": {
            "gridcolor": "white",
            "linecolor": "white",
            "ticks": ""
           },
           "bgcolor": "#E5ECF6",
           "radialaxis": {
            "gridcolor": "white",
            "linecolor": "white",
            "ticks": ""
           }
          },
          "scene": {
           "xaxis": {
            "backgroundcolor": "#E5ECF6",
            "gridcolor": "white",
            "gridwidth": 2,
            "linecolor": "white",
            "showbackground": true,
            "ticks": "",
            "zerolinecolor": "white"
           },
           "yaxis": {
            "backgroundcolor": "#E5ECF6",
            "gridcolor": "white",
            "gridwidth": 2,
            "linecolor": "white",
            "showbackground": true,
            "ticks": "",
            "zerolinecolor": "white"
           },
           "zaxis": {
            "backgroundcolor": "#E5ECF6",
            "gridcolor": "white",
            "gridwidth": 2,
            "linecolor": "white",
            "showbackground": true,
            "ticks": "",
            "zerolinecolor": "white"
           }
          },
          "shapedefaults": {
           "line": {
            "color": "#2a3f5f"
           }
          },
          "ternary": {
           "aaxis": {
            "gridcolor": "white",
            "linecolor": "white",
            "ticks": ""
           },
           "baxis": {
            "gridcolor": "white",
            "linecolor": "white",
            "ticks": ""
           },
           "bgcolor": "#E5ECF6",
           "caxis": {
            "gridcolor": "white",
            "linecolor": "white",
            "ticks": ""
           }
          },
          "title": {
           "x": 0.05
          },
          "xaxis": {
           "automargin": true,
           "gridcolor": "white",
           "linecolor": "white",
           "ticks": "",
           "title": {
            "standoff": 15
           },
           "zerolinecolor": "white",
           "zerolinewidth": 2
          },
          "yaxis": {
           "automargin": true,
           "gridcolor": "white",
           "linecolor": "white",
           "ticks": "",
           "title": {
            "standoff": 15
           },
           "zerolinecolor": "white",
           "zerolinewidth": 2
          }
         }
        },
        "title": {
         "text": "Hospitalization per 100,000 people<br>(Hover for breakdown)"
        }
       }
      },
      "text/html": [
       "<div>\n",
       "        \n",
       "        \n",
       "            <div id=\"68a16b8a-eb10-481a-b885-9c82c081b370\" class=\"plotly-graph-div\" style=\"height:525px; width:100%;\"></div>\n",
       "            <script type=\"text/javascript\">\n",
       "                require([\"plotly\"], function(Plotly) {\n",
       "                    window.PLOTLYENV=window.PLOTLYENV || {};\n",
       "                    \n",
       "                if (document.getElementById(\"68a16b8a-eb10-481a-b885-9c82c081b370\")) {\n",
       "                    Plotly.newPlot(\n",
       "                        '68a16b8a-eb10-481a-b885-9c82c081b370',\n",
       "                        [{\"autocolorscale\": false, \"colorbar\": {\"title\": {\"text\": \"Hospitalization per 100,000 people\"}}, \"colorscale\": [[0.0, \"rgb(255,245,235)\"], [0.125, \"rgb(254,230,206)\"], [0.25, \"rgb(253,208,162)\"], [0.375, \"rgb(253,174,107)\"], [0.5, \"rgb(253,141,60)\"], [0.625, \"rgb(241,105,19)\"], [0.75, \"rgb(217,72,1)\"], [0.875, \"rgb(166,54,3)\"], [1.0, \"rgb(127,39,4)\"]], \"locationmode\": \"USA-states\", \"locations\": [\"AR\", \"TX\", \"OR\", \"ME\", \"AK\", \"MI\", \"ND\", \"NM\", \"MS\", \"AZ\", \"FL\", \"MN\", \"NY\", \"SD\", \"UT\", \"MT\", \"CA\", \"LA\", \"DE\", \"WA\", \"NV\", \"IL\", \"ID\", \"DC\", \"RI\", \"AL\", \"OK\", \"NH\", \"TN\", \"WY\", \"CT\", \"KY\", \"VT\", \"IN\", \"SC\", \"OH\", \"MA\", \"NE\", \"WV\", \"NC\", \"MO\", \"NJ\", \"MD\", \"KS\", \"CO\", \"HI\", \"PA\", \"IA\", \"GA\", \"VA\", \"WI\"], \"marker\": {\"line\": {\"color\": \"white\"}}, \"text\": [\"AR\\nPositive: 1000.0, Deaths: 18.0, Negative: 13530.0, Total Tested: 14530\", \"TX\\nPositive: 9353.0, Deaths: 177.0, Negative: 86905.0, Total Tested: 96258\", \"OR\\nPositive: 1181.0, Deaths: 33.0, Negative: 21826.0, Total Tested: 23007\", \"ME\\nPositive: 537.0, Deaths: 14.0, Negative: 6088.0, Total Tested: 6625\", \"AK\\nPositive: 226.0, Deaths: 7.0, Negative: 6842.0, Total Tested: 7068\", \"MI\\nPositive: 20346.0, Deaths: 959.0, Negative: 31362.0, Total Tested: 51708\", \"ND\\nPositive: 251.0, Deaths: 4.0, Negative: 8301.0, Total Tested: 8552\", \"NM\\nPositive: 794.0, Deaths: 13.0, Negative: 21451.0, Total Tested: 22245\", \"MS\\nPositive: 2003.0, Deaths: 67.0, Negative: 18632.0, Total Tested: 20635\", \"AZ\\nPositive: 2726.0, Deaths: 80.0, Negative: 31838.0, Total Tested: 34564\", \"FL\\nPositive: 15455.0, Deaths: 309.0, Negative: 127679.0, Total Tested: 144458\", \"MN\\nPositive: 1154.0, Deaths: 39.0, Negative: 29599.0, Total Tested: 30753\", \"NY\\nPositive: 149316.0, Deaths: 6268.0, Negative: 215837.0, Total Tested: 365153\", \"SD\\nPositive: 393.0, Deaths: 6.0, Negative: 6355.0, Total Tested: 6748\", \"UT\\nPositive: 1846.0, Deaths: 13.0, Negative: 34270.0, Total Tested: 36116\", \"MT\\nPositive: 332.0, Deaths: 6.0, Negative: 7066.0, Total Tested: 7398\", \"CA\\nPositive: 16957.0, Deaths: 442.0, Negative: 127307.0, Total Tested: 158864\", \"LA\\nPositive: 17030.0, Deaths: 652.0, Negative: 64376.0, Total Tested: 81406\", \"DE\\nPositive: 928.0, Deaths: 16.0, Negative: 7628.0, Total Tested: 8556\", \"WA\\nPositive: 8682.0, Deaths: 394.0, Negative: 83391.0, Total Tested: 92073\", \"NV\\nPositive: 2318.0, Deaths: 71.0, Negative: 18248.0, Total Tested: 20566\", \"IL\\nPositive: 15078.0, Deaths: 462.0, Negative: 59988.0, Total Tested: 75066\", \"ID\\nPositive: 1210.0, Deaths: 15.0, Negative: 10688.0, Total Tested: 11898\", \"DC\\nPositive: 1440.0, Deaths: 27.0, Negative: 6843.0, Total Tested: 8283\", \"RI\\nPositive: 1450.0, Deaths: 35.0, Negative: 10682.0, Total Tested: 12132\", \"AL\\nPositive: 2369.0, Deaths: 66.0, Negative: 16753.0, Total Tested: 19122\", \"OK\\nPositive: 1524.0, Deaths: 79.0, Negative: 11821.0, Total Tested: 13345\", \"NH\\nPositive: 788.0, Deaths: 18.0, Negative: 8389.0, Total Tested: 9266\", \"TN\\nPositive: 4362.0, Deaths: 79.0, Negative: 52256.0, Total Tested: 56618\", \"WY\\nPositive: 221.0, Deaths: 0.0, Negative: 3843.0, Total Tested: 4064\", \"CT\\nPositive: 7781.0, Deaths: 277.0, Negative: 21255.0, Total Tested: 29036\", \"KY\\nPositive: 1149.0, Deaths: 65.0, Negative: 20455.0, Total Tested: 21604\", \"VT\\nPositive: 605.0, Deaths: 23.0, Negative: 7144.0, Total Tested: 7749\", \"IN\\nPositive: 5943.0, Deaths: 203.0, Negative: 24926.0, Total Tested: 30869\", \"SC\\nPositive: 2552.0, Deaths: 63.0, Negative: 22082.0, Total Tested: 24634\", \"OH\\nPositive: 5148.0, Deaths: 193.0, Negative: 48193.0, Total Tested: 53341\", \"MA\\nPositive: 16790.0, Deaths: 433.0, Negative: 70721.0, Total Tested: 87511\", \"NE\\nPositive: 519.0, Deaths: 12.0, Negative: 7442.0, Total Tested: 7961\", \"WV\\nPositive: 462.0, Deaths: 4.0, Negative: 12083.0, Total Tested: 12545\", \"NC\\nPositive: 3426.0, Deaths: 53.0, Negative: 39561.0, Total Tested: 42987\", \"MO\\nPositive: 3327.0, Deaths: 58.0, Negative: 30783.0, Total Tested: 34110\", \"NJ\\nPositive: 47437.0, Deaths: 1504.0, Negative: 52979.0, Total Tested: 100416\", \"MD\\nPositive: 5529.0, Deaths: 124.0, Negative: 32933.0, Total Tested: 38462\", \"KS\\nPositive: 900.0, Deaths: 27.0, Negative: 8614.0, Total Tested: 9514\", \"CO\\nPositive: 5429.0, Deaths: 179.0, Negative: 22665.0, Total Tested: 28094\", \"HI\\nPositive: 410.0, Deaths: 5.0, Negative: 14739.0, Total Tested: 15149\", \"PA\\nPositive: 16239.0, Deaths: 309.0, Negative: 82299.0, Total Tested: 98538\", \"IA\\nPositive: 1145.0, Deaths: 27.0, Negative: 12821.0, Total Tested: 13966\", \"GA\\nPositive: 9901.0, Deaths: 362.0, Negative: 28886.0, Total Tested: 38787\", \"VA\\nPositive: 3645.0, Deaths: 75.0, Negative: 27000.0, Total Tested: 30645\", \"WI\\nPositive: 2756.0, Deaths: 99.0, Negative: 30115.0, Total Tested: 32871\"], \"type\": \"choropleth\", \"z\": [4.307768165195619, null, 7.800391536978242, 7.513695756324152, 3.690818746625293, null, 4.461579241584018, null, 13.776191985011502, null, 9.60063902449313, 4.805278074881482, 167.93326424915213, 2.938985530017781, 4.928324076609862, 2.9005088053833443, null, null, null, null, null, null, 5.20406364625797, null, null, 6.404000664873955, 9.856023711065863, 8.678314730115444, 6.574733635429409, 5.701855176334191, null, null, 8.012961766954225, null, 4.680780482271884, 12.78969296181913, 22.966983111940614, null, null, null, null, null, 20.014291196358393, 7.654513039102548, 18.736750564707254, 2.9663698413415904, null, 6.117138447007515, 18.771033234712416, 7.205185765505297, 13.568208759429476]}],\n",
       "                        {\"geo\": {\"lakecolor\": \"rgb(255, 255, 255)\", \"projection\": {\"type\": \"albers usa\"}, \"scope\": \"usa\", \"showlakes\": true}, \"template\": {\"data\": {\"bar\": [{\"error_x\": {\"color\": \"#2a3f5f\"}, \"error_y\": {\"color\": \"#2a3f5f\"}, \"marker\": {\"line\": {\"color\": \"#E5ECF6\", \"width\": 0.5}}, \"type\": \"bar\"}], \"barpolar\": [{\"marker\": {\"line\": {\"color\": \"#E5ECF6\", \"width\": 0.5}}, \"type\": \"barpolar\"}], \"carpet\": [{\"aaxis\": {\"endlinecolor\": \"#2a3f5f\", \"gridcolor\": \"white\", \"linecolor\": \"white\", \"minorgridcolor\": \"white\", \"startlinecolor\": \"#2a3f5f\"}, \"baxis\": {\"endlinecolor\": \"#2a3f5f\", \"gridcolor\": \"white\", \"linecolor\": \"white\", \"minorgridcolor\": \"white\", \"startlinecolor\": \"#2a3f5f\"}, \"type\": \"carpet\"}], \"choropleth\": [{\"colorbar\": {\"outlinewidth\": 0, \"ticks\": \"\"}, \"type\": \"choropleth\"}], \"contour\": [{\"colorbar\": {\"outlinewidth\": 0, \"ticks\": \"\"}, \"colorscale\": [[0.0, \"#0d0887\"], [0.1111111111111111, \"#46039f\"], [0.2222222222222222, \"#7201a8\"], [0.3333333333333333, \"#9c179e\"], [0.4444444444444444, \"#bd3786\"], [0.5555555555555556, \"#d8576b\"], [0.6666666666666666, \"#ed7953\"], [0.7777777777777778, \"#fb9f3a\"], [0.8888888888888888, \"#fdca26\"], [1.0, \"#f0f921\"]], \"type\": \"contour\"}], \"contourcarpet\": [{\"colorbar\": {\"outlinewidth\": 0, \"ticks\": \"\"}, \"type\": \"contourcarpet\"}], \"heatmap\": [{\"colorbar\": {\"outlinewidth\": 0, \"ticks\": \"\"}, \"colorscale\": [[0.0, \"#0d0887\"], [0.1111111111111111, \"#46039f\"], [0.2222222222222222, \"#7201a8\"], [0.3333333333333333, \"#9c179e\"], [0.4444444444444444, \"#bd3786\"], [0.5555555555555556, \"#d8576b\"], [0.6666666666666666, \"#ed7953\"], [0.7777777777777778, \"#fb9f3a\"], [0.8888888888888888, \"#fdca26\"], [1.0, \"#f0f921\"]], \"type\": \"heatmap\"}], \"heatmapgl\": [{\"colorbar\": {\"outlinewidth\": 0, \"ticks\": \"\"}, \"colorscale\": [[0.0, \"#0d0887\"], [0.1111111111111111, \"#46039f\"], [0.2222222222222222, \"#7201a8\"], [0.3333333333333333, \"#9c179e\"], [0.4444444444444444, \"#bd3786\"], [0.5555555555555556, \"#d8576b\"], [0.6666666666666666, \"#ed7953\"], [0.7777777777777778, \"#fb9f3a\"], [0.8888888888888888, \"#fdca26\"], [1.0, \"#f0f921\"]], \"type\": \"heatmapgl\"}], \"histogram\": [{\"marker\": {\"colorbar\": {\"outlinewidth\": 0, \"ticks\": \"\"}}, \"type\": \"histogram\"}], \"histogram2d\": [{\"colorbar\": {\"outlinewidth\": 0, \"ticks\": \"\"}, \"colorscale\": [[0.0, \"#0d0887\"], [0.1111111111111111, \"#46039f\"], [0.2222222222222222, \"#7201a8\"], [0.3333333333333333, \"#9c179e\"], [0.4444444444444444, \"#bd3786\"], [0.5555555555555556, \"#d8576b\"], [0.6666666666666666, \"#ed7953\"], [0.7777777777777778, \"#fb9f3a\"], [0.8888888888888888, \"#fdca26\"], [1.0, \"#f0f921\"]], \"type\": \"histogram2d\"}], \"histogram2dcontour\": [{\"colorbar\": {\"outlinewidth\": 0, \"ticks\": \"\"}, \"colorscale\": [[0.0, \"#0d0887\"], [0.1111111111111111, \"#46039f\"], [0.2222222222222222, \"#7201a8\"], [0.3333333333333333, \"#9c179e\"], [0.4444444444444444, \"#bd3786\"], [0.5555555555555556, \"#d8576b\"], [0.6666666666666666, \"#ed7953\"], [0.7777777777777778, \"#fb9f3a\"], [0.8888888888888888, \"#fdca26\"], [1.0, \"#f0f921\"]], \"type\": \"histogram2dcontour\"}], \"mesh3d\": [{\"colorbar\": {\"outlinewidth\": 0, \"ticks\": \"\"}, \"type\": \"mesh3d\"}], \"parcoords\": [{\"line\": {\"colorbar\": {\"outlinewidth\": 0, \"ticks\": \"\"}}, \"type\": \"parcoords\"}], \"pie\": [{\"automargin\": true, \"type\": \"pie\"}], \"scatter\": [{\"marker\": {\"colorbar\": {\"outlinewidth\": 0, \"ticks\": \"\"}}, \"type\": \"scatter\"}], \"scatter3d\": [{\"line\": {\"colorbar\": {\"outlinewidth\": 0, \"ticks\": \"\"}}, \"marker\": {\"colorbar\": {\"outlinewidth\": 0, \"ticks\": \"\"}}, \"type\": \"scatter3d\"}], \"scattercarpet\": [{\"marker\": {\"colorbar\": {\"outlinewidth\": 0, \"ticks\": \"\"}}, \"type\": \"scattercarpet\"}], \"scattergeo\": [{\"marker\": {\"colorbar\": {\"outlinewidth\": 0, \"ticks\": \"\"}}, \"type\": \"scattergeo\"}], \"scattergl\": [{\"marker\": {\"colorbar\": {\"outlinewidth\": 0, \"ticks\": \"\"}}, \"type\": \"scattergl\"}], \"scattermapbox\": [{\"marker\": {\"colorbar\": {\"outlinewidth\": 0, \"ticks\": \"\"}}, \"type\": \"scattermapbox\"}], \"scatterpolar\": [{\"marker\": {\"colorbar\": {\"outlinewidth\": 0, \"ticks\": \"\"}}, \"type\": \"scatterpolar\"}], \"scatterpolargl\": [{\"marker\": {\"colorbar\": {\"outlinewidth\": 0, \"ticks\": \"\"}}, \"type\": \"scatterpolargl\"}], \"scatterternary\": [{\"marker\": {\"colorbar\": {\"outlinewidth\": 0, \"ticks\": \"\"}}, \"type\": \"scatterternary\"}], \"surface\": [{\"colorbar\": {\"outlinewidth\": 0, \"ticks\": \"\"}, \"colorscale\": [[0.0, \"#0d0887\"], [0.1111111111111111, \"#46039f\"], [0.2222222222222222, \"#7201a8\"], [0.3333333333333333, \"#9c179e\"], [0.4444444444444444, \"#bd3786\"], [0.5555555555555556, \"#d8576b\"], [0.6666666666666666, \"#ed7953\"], [0.7777777777777778, \"#fb9f3a\"], [0.8888888888888888, \"#fdca26\"], [1.0, \"#f0f921\"]], \"type\": \"surface\"}], \"table\": [{\"cells\": {\"fill\": {\"color\": \"#EBF0F8\"}, \"line\": {\"color\": \"white\"}}, \"header\": {\"fill\": {\"color\": \"#C8D4E3\"}, \"line\": {\"color\": \"white\"}}, \"type\": \"table\"}]}, \"layout\": {\"annotationdefaults\": {\"arrowcolor\": \"#2a3f5f\", \"arrowhead\": 0, \"arrowwidth\": 1}, \"coloraxis\": {\"colorbar\": {\"outlinewidth\": 0, \"ticks\": \"\"}}, \"colorscale\": {\"diverging\": [[0, \"#8e0152\"], [0.1, \"#c51b7d\"], [0.2, \"#de77ae\"], [0.3, \"#f1b6da\"], [0.4, \"#fde0ef\"], [0.5, \"#f7f7f7\"], [0.6, \"#e6f5d0\"], [0.7, \"#b8e186\"], [0.8, \"#7fbc41\"], [0.9, \"#4d9221\"], [1, \"#276419\"]], \"sequential\": [[0.0, \"#0d0887\"], [0.1111111111111111, \"#46039f\"], [0.2222222222222222, \"#7201a8\"], [0.3333333333333333, \"#9c179e\"], [0.4444444444444444, \"#bd3786\"], [0.5555555555555556, \"#d8576b\"], [0.6666666666666666, \"#ed7953\"], [0.7777777777777778, \"#fb9f3a\"], [0.8888888888888888, \"#fdca26\"], [1.0, \"#f0f921\"]], \"sequentialminus\": [[0.0, \"#0d0887\"], [0.1111111111111111, \"#46039f\"], [0.2222222222222222, \"#7201a8\"], [0.3333333333333333, \"#9c179e\"], [0.4444444444444444, \"#bd3786\"], [0.5555555555555556, \"#d8576b\"], [0.6666666666666666, \"#ed7953\"], [0.7777777777777778, \"#fb9f3a\"], [0.8888888888888888, \"#fdca26\"], [1.0, \"#f0f921\"]]}, \"colorway\": [\"#636efa\", \"#EF553B\", \"#00cc96\", \"#ab63fa\", \"#FFA15A\", \"#19d3f3\", \"#FF6692\", \"#B6E880\", \"#FF97FF\", \"#FECB52\"], \"font\": {\"color\": \"#2a3f5f\"}, \"geo\": {\"bgcolor\": \"white\", \"lakecolor\": \"white\", \"landcolor\": \"#E5ECF6\", \"showlakes\": true, \"showland\": true, \"subunitcolor\": \"white\"}, \"hoverlabel\": {\"align\": \"left\"}, \"hovermode\": \"closest\", \"mapbox\": {\"style\": \"light\"}, \"paper_bgcolor\": \"white\", \"plot_bgcolor\": \"#E5ECF6\", \"polar\": {\"angularaxis\": {\"gridcolor\": \"white\", \"linecolor\": \"white\", \"ticks\": \"\"}, \"bgcolor\": \"#E5ECF6\", \"radialaxis\": {\"gridcolor\": \"white\", \"linecolor\": \"white\", \"ticks\": \"\"}}, \"scene\": {\"xaxis\": {\"backgroundcolor\": \"#E5ECF6\", \"gridcolor\": \"white\", \"gridwidth\": 2, \"linecolor\": \"white\", \"showbackground\": true, \"ticks\": \"\", \"zerolinecolor\": \"white\"}, \"yaxis\": {\"backgroundcolor\": \"#E5ECF6\", \"gridcolor\": \"white\", \"gridwidth\": 2, \"linecolor\": \"white\", \"showbackground\": true, \"ticks\": \"\", \"zerolinecolor\": \"white\"}, \"zaxis\": {\"backgroundcolor\": \"#E5ECF6\", \"gridcolor\": \"white\", \"gridwidth\": 2, \"linecolor\": \"white\", \"showbackground\": true, \"ticks\": \"\", \"zerolinecolor\": \"white\"}}, \"shapedefaults\": {\"line\": {\"color\": \"#2a3f5f\"}}, \"ternary\": {\"aaxis\": {\"gridcolor\": \"white\", \"linecolor\": \"white\", \"ticks\": \"\"}, \"baxis\": {\"gridcolor\": \"white\", \"linecolor\": \"white\", \"ticks\": \"\"}, \"bgcolor\": \"#E5ECF6\", \"caxis\": {\"gridcolor\": \"white\", \"linecolor\": \"white\", \"ticks\": \"\"}}, \"title\": {\"x\": 0.05}, \"xaxis\": {\"automargin\": true, \"gridcolor\": \"white\", \"linecolor\": \"white\", \"ticks\": \"\", \"title\": {\"standoff\": 15}, \"zerolinecolor\": \"white\", \"zerolinewidth\": 2}, \"yaxis\": {\"automargin\": true, \"gridcolor\": \"white\", \"linecolor\": \"white\", \"ticks\": \"\", \"title\": {\"standoff\": 15}, \"zerolinecolor\": \"white\", \"zerolinewidth\": 2}}}, \"title\": {\"text\": \"Hospitalization per 100,000 people<br>(Hover for breakdown)\"}},\n",
       "                        {\"responsive\": true}\n",
       "                    ).then(function(){\n",
       "                            \n",
       "var gd = document.getElementById('68a16b8a-eb10-481a-b885-9c82c081b370');\n",
       "var x = new MutationObserver(function (mutations, observer) {{\n",
       "        var display = window.getComputedStyle(gd).display;\n",
       "        if (!display || display === 'none') {{\n",
       "            console.log([gd, 'removed!']);\n",
       "            Plotly.purge(gd);\n",
       "            observer.disconnect();\n",
       "        }}\n",
       "}});\n",
       "\n",
       "// Listen for the removal of the full notebook cells\n",
       "var notebookContainer = gd.closest('#notebook-container');\n",
       "if (notebookContainer) {{\n",
       "    x.observe(notebookContainer, {childList: true});\n",
       "}}\n",
       "\n",
       "// Listen for the clearing of the current output cell\n",
       "var outputEl = gd.closest('.output');\n",
       "if (outputEl) {{\n",
       "    x.observe(outputEl, {childList: true});\n",
       "}}\n",
       "\n",
       "                        })\n",
       "                };\n",
       "                });\n",
       "            </script>\n",
       "        </div>"
      ]
     },
     "metadata": {},
     "output_type": "display_data"
    }
   ],
   "source": [
    "#scale = 1000\n",
    "fig = go.Figure(data=go.Choropleth(\n",
    "    locations=df2['state'],\n",
    "    z=(df2['hospitalizedCumulative']/df2['POPESTIMATE2019'])*100000,\n",
    "    locationmode='USA-states',\n",
    "    colorscale='Oranges',\n",
    "    autocolorscale=False,\n",
    "    text=df2['text'], # hover text\n",
    "    marker_line_color='white', # line markers between states\n",
    "    colorbar_title=\"Hospitalization per 100,000 people\"\n",
    "))\n",
    "\n",
    "fig.update_layout(\n",
    "    title_text='Hospitalization per 100,000 people<br>(Hover for breakdown)',\n",
    "    geo = dict(\n",
    "        scope='usa',\n",
    "        projection=go.layout.geo.Projection(type = 'albers usa'),\n",
    "        showlakes=True, # lakes\n",
    "        lakecolor='rgb(255, 255, 255)'),\n",
    ")\n",
    "fig.show();"
   ]
  },
  {
   "cell_type": "code",
   "execution_count": 37,
   "metadata": {
    "ExecuteTime": {
     "end_time": "2020-04-09T15:50:08.467005Z",
     "start_time": "2020-04-09T15:50:08.349817Z"
    }
   },
   "outputs": [
    {
     "data": {
      "application/vnd.plotly.v1+json": {
       "config": {
        "plotlyServerURL": "https://plot.ly"
       },
       "data": [
        {
         "autocolorscale": false,
         "colorbar": {
          "title": {
           "text": "Hospitalization rate of positive cases (in %)"
          }
         },
         "colorscale": [
          [
           0,
           "rgb(255,245,235)"
          ],
          [
           0.125,
           "rgb(254,230,206)"
          ],
          [
           0.25,
           "rgb(253,208,162)"
          ],
          [
           0.375,
           "rgb(253,174,107)"
          ],
          [
           0.5,
           "rgb(253,141,60)"
          ],
          [
           0.625,
           "rgb(241,105,19)"
          ],
          [
           0.75,
           "rgb(217,72,1)"
          ],
          [
           0.875,
           "rgb(166,54,3)"
          ],
          [
           1,
           "rgb(127,39,4)"
          ]
         ],
         "locationmode": "USA-states",
         "locations": [
          "AR",
          "TX",
          "OR",
          "ME",
          "AK",
          "MI",
          "ND",
          "NM",
          "MS",
          "AZ",
          "FL",
          "MN",
          "NY",
          "SD",
          "UT",
          "MT",
          "CA",
          "LA",
          "DE",
          "WA",
          "NV",
          "IL",
          "ID",
          "DC",
          "RI",
          "AL",
          "OK",
          "NH",
          "TN",
          "WY",
          "CT",
          "KY",
          "VT",
          "IN",
          "SC",
          "OH",
          "MA",
          "NE",
          "WV",
          "NC",
          "MO",
          "NJ",
          "MD",
          "KS",
          "CO",
          "HI",
          "PA",
          "IA",
          "GA",
          "VA",
          "WI"
         ],
         "marker": {
          "line": {
           "color": "white"
          }
         },
         "text": [
          "AR\nPositive: 1000.0, Deaths: 18.0, Negative: 13530.0, Total Tested: 14530",
          "TX\nPositive: 9353.0, Deaths: 177.0, Negative: 86905.0, Total Tested: 96258",
          "OR\nPositive: 1181.0, Deaths: 33.0, Negative: 21826.0, Total Tested: 23007",
          "ME\nPositive: 537.0, Deaths: 14.0, Negative: 6088.0, Total Tested: 6625",
          "AK\nPositive: 226.0, Deaths: 7.0, Negative: 6842.0, Total Tested: 7068",
          "MI\nPositive: 20346.0, Deaths: 959.0, Negative: 31362.0, Total Tested: 51708",
          "ND\nPositive: 251.0, Deaths: 4.0, Negative: 8301.0, Total Tested: 8552",
          "NM\nPositive: 794.0, Deaths: 13.0, Negative: 21451.0, Total Tested: 22245",
          "MS\nPositive: 2003.0, Deaths: 67.0, Negative: 18632.0, Total Tested: 20635",
          "AZ\nPositive: 2726.0, Deaths: 80.0, Negative: 31838.0, Total Tested: 34564",
          "FL\nPositive: 15455.0, Deaths: 309.0, Negative: 127679.0, Total Tested: 144458",
          "MN\nPositive: 1154.0, Deaths: 39.0, Negative: 29599.0, Total Tested: 30753",
          "NY\nPositive: 149316.0, Deaths: 6268.0, Negative: 215837.0, Total Tested: 365153",
          "SD\nPositive: 393.0, Deaths: 6.0, Negative: 6355.0, Total Tested: 6748",
          "UT\nPositive: 1846.0, Deaths: 13.0, Negative: 34270.0, Total Tested: 36116",
          "MT\nPositive: 332.0, Deaths: 6.0, Negative: 7066.0, Total Tested: 7398",
          "CA\nPositive: 16957.0, Deaths: 442.0, Negative: 127307.0, Total Tested: 158864",
          "LA\nPositive: 17030.0, Deaths: 652.0, Negative: 64376.0, Total Tested: 81406",
          "DE\nPositive: 928.0, Deaths: 16.0, Negative: 7628.0, Total Tested: 8556",
          "WA\nPositive: 8682.0, Deaths: 394.0, Negative: 83391.0, Total Tested: 92073",
          "NV\nPositive: 2318.0, Deaths: 71.0, Negative: 18248.0, Total Tested: 20566",
          "IL\nPositive: 15078.0, Deaths: 462.0, Negative: 59988.0, Total Tested: 75066",
          "ID\nPositive: 1210.0, Deaths: 15.0, Negative: 10688.0, Total Tested: 11898",
          "DC\nPositive: 1440.0, Deaths: 27.0, Negative: 6843.0, Total Tested: 8283",
          "RI\nPositive: 1450.0, Deaths: 35.0, Negative: 10682.0, Total Tested: 12132",
          "AL\nPositive: 2369.0, Deaths: 66.0, Negative: 16753.0, Total Tested: 19122",
          "OK\nPositive: 1524.0, Deaths: 79.0, Negative: 11821.0, Total Tested: 13345",
          "NH\nPositive: 788.0, Deaths: 18.0, Negative: 8389.0, Total Tested: 9266",
          "TN\nPositive: 4362.0, Deaths: 79.0, Negative: 52256.0, Total Tested: 56618",
          "WY\nPositive: 221.0, Deaths: 0.0, Negative: 3843.0, Total Tested: 4064",
          "CT\nPositive: 7781.0, Deaths: 277.0, Negative: 21255.0, Total Tested: 29036",
          "KY\nPositive: 1149.0, Deaths: 65.0, Negative: 20455.0, Total Tested: 21604",
          "VT\nPositive: 605.0, Deaths: 23.0, Negative: 7144.0, Total Tested: 7749",
          "IN\nPositive: 5943.0, Deaths: 203.0, Negative: 24926.0, Total Tested: 30869",
          "SC\nPositive: 2552.0, Deaths: 63.0, Negative: 22082.0, Total Tested: 24634",
          "OH\nPositive: 5148.0, Deaths: 193.0, Negative: 48193.0, Total Tested: 53341",
          "MA\nPositive: 16790.0, Deaths: 433.0, Negative: 70721.0, Total Tested: 87511",
          "NE\nPositive: 519.0, Deaths: 12.0, Negative: 7442.0, Total Tested: 7961",
          "WV\nPositive: 462.0, Deaths: 4.0, Negative: 12083.0, Total Tested: 12545",
          "NC\nPositive: 3426.0, Deaths: 53.0, Negative: 39561.0, Total Tested: 42987",
          "MO\nPositive: 3327.0, Deaths: 58.0, Negative: 30783.0, Total Tested: 34110",
          "NJ\nPositive: 47437.0, Deaths: 1504.0, Negative: 52979.0, Total Tested: 100416",
          "MD\nPositive: 5529.0, Deaths: 124.0, Negative: 32933.0, Total Tested: 38462",
          "KS\nPositive: 900.0, Deaths: 27.0, Negative: 8614.0, Total Tested: 9514",
          "CO\nPositive: 5429.0, Deaths: 179.0, Negative: 22665.0, Total Tested: 28094",
          "HI\nPositive: 410.0, Deaths: 5.0, Negative: 14739.0, Total Tested: 15149",
          "PA\nPositive: 16239.0, Deaths: 309.0, Negative: 82299.0, Total Tested: 98538",
          "IA\nPositive: 1145.0, Deaths: 27.0, Negative: 12821.0, Total Tested: 13966",
          "GA\nPositive: 9901.0, Deaths: 362.0, Negative: 28886.0, Total Tested: 38787",
          "VA\nPositive: 3645.0, Deaths: 75.0, Negative: 27000.0, Total Tested: 30645",
          "WI\nPositive: 2756.0, Deaths: 99.0, Negative: 30115.0, Total Tested: 32871"
         ],
         "type": "choropleth",
         "z": [
          13,
          null,
          27.85774767146486,
          18.808193668528865,
          11.946902654867257,
          null,
          13.545816733067728,
          null,
          20.469296055916125,
          null,
          13.34196053057263,
          23.483535528596185,
          21.879102038629483,
          6.615776081424936,
          8.559046587215601,
          9.33734939759036,
          null,
          null,
          null,
          null,
          null,
          null,
          7.68595041322314,
          null,
          null,
          13.254537779653862,
          25.590551181102363,
          14.974619289340103,
          10.293443374598809,
          14.93212669683258,
          null,
          null,
          8.264462809917356,
          null,
          9.443573667711599,
          29.040404040404038,
          9.428231089934485,
          null,
          null,
          null,
          null,
          null,
          21.884608428287216,
          24.77777777777778,
          19.874746730521274,
          10.24390243902439,
          null,
          16.85589519650655,
          20.12927987072013,
          16.872427983539097,
          28.664731494920176
         ]
        }
       ],
       "layout": {
        "geo": {
         "lakecolor": "rgb(255, 255, 255)",
         "projection": {
          "type": "albers usa"
         },
         "scope": "usa",
         "showlakes": true
        },
        "template": {
         "data": {
          "bar": [
           {
            "error_x": {
             "color": "#2a3f5f"
            },
            "error_y": {
             "color": "#2a3f5f"
            },
            "marker": {
             "line": {
              "color": "#E5ECF6",
              "width": 0.5
             }
            },
            "type": "bar"
           }
          ],
          "barpolar": [
           {
            "marker": {
             "line": {
              "color": "#E5ECF6",
              "width": 0.5
             }
            },
            "type": "barpolar"
           }
          ],
          "carpet": [
           {
            "aaxis": {
             "endlinecolor": "#2a3f5f",
             "gridcolor": "white",
             "linecolor": "white",
             "minorgridcolor": "white",
             "startlinecolor": "#2a3f5f"
            },
            "baxis": {
             "endlinecolor": "#2a3f5f",
             "gridcolor": "white",
             "linecolor": "white",
             "minorgridcolor": "white",
             "startlinecolor": "#2a3f5f"
            },
            "type": "carpet"
           }
          ],
          "choropleth": [
           {
            "colorbar": {
             "outlinewidth": 0,
             "ticks": ""
            },
            "type": "choropleth"
           }
          ],
          "contour": [
           {
            "colorbar": {
             "outlinewidth": 0,
             "ticks": ""
            },
            "colorscale": [
             [
              0,
              "#0d0887"
             ],
             [
              0.1111111111111111,
              "#46039f"
             ],
             [
              0.2222222222222222,
              "#7201a8"
             ],
             [
              0.3333333333333333,
              "#9c179e"
             ],
             [
              0.4444444444444444,
              "#bd3786"
             ],
             [
              0.5555555555555556,
              "#d8576b"
             ],
             [
              0.6666666666666666,
              "#ed7953"
             ],
             [
              0.7777777777777778,
              "#fb9f3a"
             ],
             [
              0.8888888888888888,
              "#fdca26"
             ],
             [
              1,
              "#f0f921"
             ]
            ],
            "type": "contour"
           }
          ],
          "contourcarpet": [
           {
            "colorbar": {
             "outlinewidth": 0,
             "ticks": ""
            },
            "type": "contourcarpet"
           }
          ],
          "heatmap": [
           {
            "colorbar": {
             "outlinewidth": 0,
             "ticks": ""
            },
            "colorscale": [
             [
              0,
              "#0d0887"
             ],
             [
              0.1111111111111111,
              "#46039f"
             ],
             [
              0.2222222222222222,
              "#7201a8"
             ],
             [
              0.3333333333333333,
              "#9c179e"
             ],
             [
              0.4444444444444444,
              "#bd3786"
             ],
             [
              0.5555555555555556,
              "#d8576b"
             ],
             [
              0.6666666666666666,
              "#ed7953"
             ],
             [
              0.7777777777777778,
              "#fb9f3a"
             ],
             [
              0.8888888888888888,
              "#fdca26"
             ],
             [
              1,
              "#f0f921"
             ]
            ],
            "type": "heatmap"
           }
          ],
          "heatmapgl": [
           {
            "colorbar": {
             "outlinewidth": 0,
             "ticks": ""
            },
            "colorscale": [
             [
              0,
              "#0d0887"
             ],
             [
              0.1111111111111111,
              "#46039f"
             ],
             [
              0.2222222222222222,
              "#7201a8"
             ],
             [
              0.3333333333333333,
              "#9c179e"
             ],
             [
              0.4444444444444444,
              "#bd3786"
             ],
             [
              0.5555555555555556,
              "#d8576b"
             ],
             [
              0.6666666666666666,
              "#ed7953"
             ],
             [
              0.7777777777777778,
              "#fb9f3a"
             ],
             [
              0.8888888888888888,
              "#fdca26"
             ],
             [
              1,
              "#f0f921"
             ]
            ],
            "type": "heatmapgl"
           }
          ],
          "histogram": [
           {
            "marker": {
             "colorbar": {
              "outlinewidth": 0,
              "ticks": ""
             }
            },
            "type": "histogram"
           }
          ],
          "histogram2d": [
           {
            "colorbar": {
             "outlinewidth": 0,
             "ticks": ""
            },
            "colorscale": [
             [
              0,
              "#0d0887"
             ],
             [
              0.1111111111111111,
              "#46039f"
             ],
             [
              0.2222222222222222,
              "#7201a8"
             ],
             [
              0.3333333333333333,
              "#9c179e"
             ],
             [
              0.4444444444444444,
              "#bd3786"
             ],
             [
              0.5555555555555556,
              "#d8576b"
             ],
             [
              0.6666666666666666,
              "#ed7953"
             ],
             [
              0.7777777777777778,
              "#fb9f3a"
             ],
             [
              0.8888888888888888,
              "#fdca26"
             ],
             [
              1,
              "#f0f921"
             ]
            ],
            "type": "histogram2d"
           }
          ],
          "histogram2dcontour": [
           {
            "colorbar": {
             "outlinewidth": 0,
             "ticks": ""
            },
            "colorscale": [
             [
              0,
              "#0d0887"
             ],
             [
              0.1111111111111111,
              "#46039f"
             ],
             [
              0.2222222222222222,
              "#7201a8"
             ],
             [
              0.3333333333333333,
              "#9c179e"
             ],
             [
              0.4444444444444444,
              "#bd3786"
             ],
             [
              0.5555555555555556,
              "#d8576b"
             ],
             [
              0.6666666666666666,
              "#ed7953"
             ],
             [
              0.7777777777777778,
              "#fb9f3a"
             ],
             [
              0.8888888888888888,
              "#fdca26"
             ],
             [
              1,
              "#f0f921"
             ]
            ],
            "type": "histogram2dcontour"
           }
          ],
          "mesh3d": [
           {
            "colorbar": {
             "outlinewidth": 0,
             "ticks": ""
            },
            "type": "mesh3d"
           }
          ],
          "parcoords": [
           {
            "line": {
             "colorbar": {
              "outlinewidth": 0,
              "ticks": ""
             }
            },
            "type": "parcoords"
           }
          ],
          "pie": [
           {
            "automargin": true,
            "type": "pie"
           }
          ],
          "scatter": [
           {
            "marker": {
             "colorbar": {
              "outlinewidth": 0,
              "ticks": ""
             }
            },
            "type": "scatter"
           }
          ],
          "scatter3d": [
           {
            "line": {
             "colorbar": {
              "outlinewidth": 0,
              "ticks": ""
             }
            },
            "marker": {
             "colorbar": {
              "outlinewidth": 0,
              "ticks": ""
             }
            },
            "type": "scatter3d"
           }
          ],
          "scattercarpet": [
           {
            "marker": {
             "colorbar": {
              "outlinewidth": 0,
              "ticks": ""
             }
            },
            "type": "scattercarpet"
           }
          ],
          "scattergeo": [
           {
            "marker": {
             "colorbar": {
              "outlinewidth": 0,
              "ticks": ""
             }
            },
            "type": "scattergeo"
           }
          ],
          "scattergl": [
           {
            "marker": {
             "colorbar": {
              "outlinewidth": 0,
              "ticks": ""
             }
            },
            "type": "scattergl"
           }
          ],
          "scattermapbox": [
           {
            "marker": {
             "colorbar": {
              "outlinewidth": 0,
              "ticks": ""
             }
            },
            "type": "scattermapbox"
           }
          ],
          "scatterpolar": [
           {
            "marker": {
             "colorbar": {
              "outlinewidth": 0,
              "ticks": ""
             }
            },
            "type": "scatterpolar"
           }
          ],
          "scatterpolargl": [
           {
            "marker": {
             "colorbar": {
              "outlinewidth": 0,
              "ticks": ""
             }
            },
            "type": "scatterpolargl"
           }
          ],
          "scatterternary": [
           {
            "marker": {
             "colorbar": {
              "outlinewidth": 0,
              "ticks": ""
             }
            },
            "type": "scatterternary"
           }
          ],
          "surface": [
           {
            "colorbar": {
             "outlinewidth": 0,
             "ticks": ""
            },
            "colorscale": [
             [
              0,
              "#0d0887"
             ],
             [
              0.1111111111111111,
              "#46039f"
             ],
             [
              0.2222222222222222,
              "#7201a8"
             ],
             [
              0.3333333333333333,
              "#9c179e"
             ],
             [
              0.4444444444444444,
              "#bd3786"
             ],
             [
              0.5555555555555556,
              "#d8576b"
             ],
             [
              0.6666666666666666,
              "#ed7953"
             ],
             [
              0.7777777777777778,
              "#fb9f3a"
             ],
             [
              0.8888888888888888,
              "#fdca26"
             ],
             [
              1,
              "#f0f921"
             ]
            ],
            "type": "surface"
           }
          ],
          "table": [
           {
            "cells": {
             "fill": {
              "color": "#EBF0F8"
             },
             "line": {
              "color": "white"
             }
            },
            "header": {
             "fill": {
              "color": "#C8D4E3"
             },
             "line": {
              "color": "white"
             }
            },
            "type": "table"
           }
          ]
         },
         "layout": {
          "annotationdefaults": {
           "arrowcolor": "#2a3f5f",
           "arrowhead": 0,
           "arrowwidth": 1
          },
          "coloraxis": {
           "colorbar": {
            "outlinewidth": 0,
            "ticks": ""
           }
          },
          "colorscale": {
           "diverging": [
            [
             0,
             "#8e0152"
            ],
            [
             0.1,
             "#c51b7d"
            ],
            [
             0.2,
             "#de77ae"
            ],
            [
             0.3,
             "#f1b6da"
            ],
            [
             0.4,
             "#fde0ef"
            ],
            [
             0.5,
             "#f7f7f7"
            ],
            [
             0.6,
             "#e6f5d0"
            ],
            [
             0.7,
             "#b8e186"
            ],
            [
             0.8,
             "#7fbc41"
            ],
            [
             0.9,
             "#4d9221"
            ],
            [
             1,
             "#276419"
            ]
           ],
           "sequential": [
            [
             0,
             "#0d0887"
            ],
            [
             0.1111111111111111,
             "#46039f"
            ],
            [
             0.2222222222222222,
             "#7201a8"
            ],
            [
             0.3333333333333333,
             "#9c179e"
            ],
            [
             0.4444444444444444,
             "#bd3786"
            ],
            [
             0.5555555555555556,
             "#d8576b"
            ],
            [
             0.6666666666666666,
             "#ed7953"
            ],
            [
             0.7777777777777778,
             "#fb9f3a"
            ],
            [
             0.8888888888888888,
             "#fdca26"
            ],
            [
             1,
             "#f0f921"
            ]
           ],
           "sequentialminus": [
            [
             0,
             "#0d0887"
            ],
            [
             0.1111111111111111,
             "#46039f"
            ],
            [
             0.2222222222222222,
             "#7201a8"
            ],
            [
             0.3333333333333333,
             "#9c179e"
            ],
            [
             0.4444444444444444,
             "#bd3786"
            ],
            [
             0.5555555555555556,
             "#d8576b"
            ],
            [
             0.6666666666666666,
             "#ed7953"
            ],
            [
             0.7777777777777778,
             "#fb9f3a"
            ],
            [
             0.8888888888888888,
             "#fdca26"
            ],
            [
             1,
             "#f0f921"
            ]
           ]
          },
          "colorway": [
           "#636efa",
           "#EF553B",
           "#00cc96",
           "#ab63fa",
           "#FFA15A",
           "#19d3f3",
           "#FF6692",
           "#B6E880",
           "#FF97FF",
           "#FECB52"
          ],
          "font": {
           "color": "#2a3f5f"
          },
          "geo": {
           "bgcolor": "white",
           "lakecolor": "white",
           "landcolor": "#E5ECF6",
           "showlakes": true,
           "showland": true,
           "subunitcolor": "white"
          },
          "hoverlabel": {
           "align": "left"
          },
          "hovermode": "closest",
          "mapbox": {
           "style": "light"
          },
          "paper_bgcolor": "white",
          "plot_bgcolor": "#E5ECF6",
          "polar": {
           "angularaxis": {
            "gridcolor": "white",
            "linecolor": "white",
            "ticks": ""
           },
           "bgcolor": "#E5ECF6",
           "radialaxis": {
            "gridcolor": "white",
            "linecolor": "white",
            "ticks": ""
           }
          },
          "scene": {
           "xaxis": {
            "backgroundcolor": "#E5ECF6",
            "gridcolor": "white",
            "gridwidth": 2,
            "linecolor": "white",
            "showbackground": true,
            "ticks": "",
            "zerolinecolor": "white"
           },
           "yaxis": {
            "backgroundcolor": "#E5ECF6",
            "gridcolor": "white",
            "gridwidth": 2,
            "linecolor": "white",
            "showbackground": true,
            "ticks": "",
            "zerolinecolor": "white"
           },
           "zaxis": {
            "backgroundcolor": "#E5ECF6",
            "gridcolor": "white",
            "gridwidth": 2,
            "linecolor": "white",
            "showbackground": true,
            "ticks": "",
            "zerolinecolor": "white"
           }
          },
          "shapedefaults": {
           "line": {
            "color": "#2a3f5f"
           }
          },
          "ternary": {
           "aaxis": {
            "gridcolor": "white",
            "linecolor": "white",
            "ticks": ""
           },
           "baxis": {
            "gridcolor": "white",
            "linecolor": "white",
            "ticks": ""
           },
           "bgcolor": "#E5ECF6",
           "caxis": {
            "gridcolor": "white",
            "linecolor": "white",
            "ticks": ""
           }
          },
          "title": {
           "x": 0.05
          },
          "xaxis": {
           "automargin": true,
           "gridcolor": "white",
           "linecolor": "white",
           "ticks": "",
           "title": {
            "standoff": 15
           },
           "zerolinecolor": "white",
           "zerolinewidth": 2
          },
          "yaxis": {
           "automargin": true,
           "gridcolor": "white",
           "linecolor": "white",
           "ticks": "",
           "title": {
            "standoff": 15
           },
           "zerolinecolor": "white",
           "zerolinewidth": 2
          }
         }
        },
        "title": {
         "text": "Hospitalization rate of positive cases<br>(Hover for breakdown)"
        }
       }
      },
      "text/html": [
       "<div>\n",
       "        \n",
       "        \n",
       "            <div id=\"d429ba67-d916-467f-96d8-6d5abc9e7477\" class=\"plotly-graph-div\" style=\"height:525px; width:100%;\"></div>\n",
       "            <script type=\"text/javascript\">\n",
       "                require([\"plotly\"], function(Plotly) {\n",
       "                    window.PLOTLYENV=window.PLOTLYENV || {};\n",
       "                    \n",
       "                if (document.getElementById(\"d429ba67-d916-467f-96d8-6d5abc9e7477\")) {\n",
       "                    Plotly.newPlot(\n",
       "                        'd429ba67-d916-467f-96d8-6d5abc9e7477',\n",
       "                        [{\"autocolorscale\": false, \"colorbar\": {\"title\": {\"text\": \"Hospitalization rate of positive cases (in %)\"}}, \"colorscale\": [[0.0, \"rgb(255,245,235)\"], [0.125, \"rgb(254,230,206)\"], [0.25, \"rgb(253,208,162)\"], [0.375, \"rgb(253,174,107)\"], [0.5, \"rgb(253,141,60)\"], [0.625, \"rgb(241,105,19)\"], [0.75, \"rgb(217,72,1)\"], [0.875, \"rgb(166,54,3)\"], [1.0, \"rgb(127,39,4)\"]], \"locationmode\": \"USA-states\", \"locations\": [\"AR\", \"TX\", \"OR\", \"ME\", \"AK\", \"MI\", \"ND\", \"NM\", \"MS\", \"AZ\", \"FL\", \"MN\", \"NY\", \"SD\", \"UT\", \"MT\", \"CA\", \"LA\", \"DE\", \"WA\", \"NV\", \"IL\", \"ID\", \"DC\", \"RI\", \"AL\", \"OK\", \"NH\", \"TN\", \"WY\", \"CT\", \"KY\", \"VT\", \"IN\", \"SC\", \"OH\", \"MA\", \"NE\", \"WV\", \"NC\", \"MO\", \"NJ\", \"MD\", \"KS\", \"CO\", \"HI\", \"PA\", \"IA\", \"GA\", \"VA\", \"WI\"], \"marker\": {\"line\": {\"color\": \"white\"}}, \"text\": [\"AR\\nPositive: 1000.0, Deaths: 18.0, Negative: 13530.0, Total Tested: 14530\", \"TX\\nPositive: 9353.0, Deaths: 177.0, Negative: 86905.0, Total Tested: 96258\", \"OR\\nPositive: 1181.0, Deaths: 33.0, Negative: 21826.0, Total Tested: 23007\", \"ME\\nPositive: 537.0, Deaths: 14.0, Negative: 6088.0, Total Tested: 6625\", \"AK\\nPositive: 226.0, Deaths: 7.0, Negative: 6842.0, Total Tested: 7068\", \"MI\\nPositive: 20346.0, Deaths: 959.0, Negative: 31362.0, Total Tested: 51708\", \"ND\\nPositive: 251.0, Deaths: 4.0, Negative: 8301.0, Total Tested: 8552\", \"NM\\nPositive: 794.0, Deaths: 13.0, Negative: 21451.0, Total Tested: 22245\", \"MS\\nPositive: 2003.0, Deaths: 67.0, Negative: 18632.0, Total Tested: 20635\", \"AZ\\nPositive: 2726.0, Deaths: 80.0, Negative: 31838.0, Total Tested: 34564\", \"FL\\nPositive: 15455.0, Deaths: 309.0, Negative: 127679.0, Total Tested: 144458\", \"MN\\nPositive: 1154.0, Deaths: 39.0, Negative: 29599.0, Total Tested: 30753\", \"NY\\nPositive: 149316.0, Deaths: 6268.0, Negative: 215837.0, Total Tested: 365153\", \"SD\\nPositive: 393.0, Deaths: 6.0, Negative: 6355.0, Total Tested: 6748\", \"UT\\nPositive: 1846.0, Deaths: 13.0, Negative: 34270.0, Total Tested: 36116\", \"MT\\nPositive: 332.0, Deaths: 6.0, Negative: 7066.0, Total Tested: 7398\", \"CA\\nPositive: 16957.0, Deaths: 442.0, Negative: 127307.0, Total Tested: 158864\", \"LA\\nPositive: 17030.0, Deaths: 652.0, Negative: 64376.0, Total Tested: 81406\", \"DE\\nPositive: 928.0, Deaths: 16.0, Negative: 7628.0, Total Tested: 8556\", \"WA\\nPositive: 8682.0, Deaths: 394.0, Negative: 83391.0, Total Tested: 92073\", \"NV\\nPositive: 2318.0, Deaths: 71.0, Negative: 18248.0, Total Tested: 20566\", \"IL\\nPositive: 15078.0, Deaths: 462.0, Negative: 59988.0, Total Tested: 75066\", \"ID\\nPositive: 1210.0, Deaths: 15.0, Negative: 10688.0, Total Tested: 11898\", \"DC\\nPositive: 1440.0, Deaths: 27.0, Negative: 6843.0, Total Tested: 8283\", \"RI\\nPositive: 1450.0, Deaths: 35.0, Negative: 10682.0, Total Tested: 12132\", \"AL\\nPositive: 2369.0, Deaths: 66.0, Negative: 16753.0, Total Tested: 19122\", \"OK\\nPositive: 1524.0, Deaths: 79.0, Negative: 11821.0, Total Tested: 13345\", \"NH\\nPositive: 788.0, Deaths: 18.0, Negative: 8389.0, Total Tested: 9266\", \"TN\\nPositive: 4362.0, Deaths: 79.0, Negative: 52256.0, Total Tested: 56618\", \"WY\\nPositive: 221.0, Deaths: 0.0, Negative: 3843.0, Total Tested: 4064\", \"CT\\nPositive: 7781.0, Deaths: 277.0, Negative: 21255.0, Total Tested: 29036\", \"KY\\nPositive: 1149.0, Deaths: 65.0, Negative: 20455.0, Total Tested: 21604\", \"VT\\nPositive: 605.0, Deaths: 23.0, Negative: 7144.0, Total Tested: 7749\", \"IN\\nPositive: 5943.0, Deaths: 203.0, Negative: 24926.0, Total Tested: 30869\", \"SC\\nPositive: 2552.0, Deaths: 63.0, Negative: 22082.0, Total Tested: 24634\", \"OH\\nPositive: 5148.0, Deaths: 193.0, Negative: 48193.0, Total Tested: 53341\", \"MA\\nPositive: 16790.0, Deaths: 433.0, Negative: 70721.0, Total Tested: 87511\", \"NE\\nPositive: 519.0, Deaths: 12.0, Negative: 7442.0, Total Tested: 7961\", \"WV\\nPositive: 462.0, Deaths: 4.0, Negative: 12083.0, Total Tested: 12545\", \"NC\\nPositive: 3426.0, Deaths: 53.0, Negative: 39561.0, Total Tested: 42987\", \"MO\\nPositive: 3327.0, Deaths: 58.0, Negative: 30783.0, Total Tested: 34110\", \"NJ\\nPositive: 47437.0, Deaths: 1504.0, Negative: 52979.0, Total Tested: 100416\", \"MD\\nPositive: 5529.0, Deaths: 124.0, Negative: 32933.0, Total Tested: 38462\", \"KS\\nPositive: 900.0, Deaths: 27.0, Negative: 8614.0, Total Tested: 9514\", \"CO\\nPositive: 5429.0, Deaths: 179.0, Negative: 22665.0, Total Tested: 28094\", \"HI\\nPositive: 410.0, Deaths: 5.0, Negative: 14739.0, Total Tested: 15149\", \"PA\\nPositive: 16239.0, Deaths: 309.0, Negative: 82299.0, Total Tested: 98538\", \"IA\\nPositive: 1145.0, Deaths: 27.0, Negative: 12821.0, Total Tested: 13966\", \"GA\\nPositive: 9901.0, Deaths: 362.0, Negative: 28886.0, Total Tested: 38787\", \"VA\\nPositive: 3645.0, Deaths: 75.0, Negative: 27000.0, Total Tested: 30645\", \"WI\\nPositive: 2756.0, Deaths: 99.0, Negative: 30115.0, Total Tested: 32871\"], \"type\": \"choropleth\", \"z\": [13.0, null, 27.85774767146486, 18.808193668528865, 11.946902654867257, null, 13.545816733067728, null, 20.469296055916125, null, 13.34196053057263, 23.483535528596185, 21.879102038629483, 6.615776081424936, 8.559046587215601, 9.33734939759036, null, null, null, null, null, null, 7.68595041322314, null, null, 13.254537779653862, 25.590551181102363, 14.974619289340103, 10.293443374598809, 14.93212669683258, null, null, 8.264462809917356, null, 9.443573667711599, 29.040404040404038, 9.428231089934485, null, null, null, null, null, 21.884608428287216, 24.77777777777778, 19.874746730521274, 10.24390243902439, null, 16.85589519650655, 20.12927987072013, 16.872427983539097, 28.664731494920176]}],\n",
       "                        {\"geo\": {\"lakecolor\": \"rgb(255, 255, 255)\", \"projection\": {\"type\": \"albers usa\"}, \"scope\": \"usa\", \"showlakes\": true}, \"template\": {\"data\": {\"bar\": [{\"error_x\": {\"color\": \"#2a3f5f\"}, \"error_y\": {\"color\": \"#2a3f5f\"}, \"marker\": {\"line\": {\"color\": \"#E5ECF6\", \"width\": 0.5}}, \"type\": \"bar\"}], \"barpolar\": [{\"marker\": {\"line\": {\"color\": \"#E5ECF6\", \"width\": 0.5}}, \"type\": \"barpolar\"}], \"carpet\": [{\"aaxis\": {\"endlinecolor\": \"#2a3f5f\", \"gridcolor\": \"white\", \"linecolor\": \"white\", \"minorgridcolor\": \"white\", \"startlinecolor\": \"#2a3f5f\"}, \"baxis\": {\"endlinecolor\": \"#2a3f5f\", \"gridcolor\": \"white\", \"linecolor\": \"white\", \"minorgridcolor\": \"white\", \"startlinecolor\": \"#2a3f5f\"}, \"type\": \"carpet\"}], \"choropleth\": [{\"colorbar\": {\"outlinewidth\": 0, \"ticks\": \"\"}, \"type\": \"choropleth\"}], \"contour\": [{\"colorbar\": {\"outlinewidth\": 0, \"ticks\": \"\"}, \"colorscale\": [[0.0, \"#0d0887\"], [0.1111111111111111, \"#46039f\"], [0.2222222222222222, \"#7201a8\"], [0.3333333333333333, \"#9c179e\"], [0.4444444444444444, \"#bd3786\"], [0.5555555555555556, \"#d8576b\"], [0.6666666666666666, \"#ed7953\"], [0.7777777777777778, \"#fb9f3a\"], [0.8888888888888888, \"#fdca26\"], [1.0, \"#f0f921\"]], \"type\": \"contour\"}], \"contourcarpet\": [{\"colorbar\": {\"outlinewidth\": 0, \"ticks\": \"\"}, \"type\": \"contourcarpet\"}], \"heatmap\": [{\"colorbar\": {\"outlinewidth\": 0, \"ticks\": \"\"}, \"colorscale\": [[0.0, \"#0d0887\"], [0.1111111111111111, \"#46039f\"], [0.2222222222222222, \"#7201a8\"], [0.3333333333333333, \"#9c179e\"], [0.4444444444444444, \"#bd3786\"], [0.5555555555555556, \"#d8576b\"], [0.6666666666666666, \"#ed7953\"], [0.7777777777777778, \"#fb9f3a\"], [0.8888888888888888, \"#fdca26\"], [1.0, \"#f0f921\"]], \"type\": \"heatmap\"}], \"heatmapgl\": [{\"colorbar\": {\"outlinewidth\": 0, \"ticks\": \"\"}, \"colorscale\": [[0.0, \"#0d0887\"], [0.1111111111111111, \"#46039f\"], [0.2222222222222222, \"#7201a8\"], [0.3333333333333333, \"#9c179e\"], [0.4444444444444444, \"#bd3786\"], [0.5555555555555556, \"#d8576b\"], [0.6666666666666666, \"#ed7953\"], [0.7777777777777778, \"#fb9f3a\"], [0.8888888888888888, \"#fdca26\"], [1.0, \"#f0f921\"]], \"type\": \"heatmapgl\"}], \"histogram\": [{\"marker\": {\"colorbar\": {\"outlinewidth\": 0, \"ticks\": \"\"}}, \"type\": \"histogram\"}], \"histogram2d\": [{\"colorbar\": {\"outlinewidth\": 0, \"ticks\": \"\"}, \"colorscale\": [[0.0, \"#0d0887\"], [0.1111111111111111, \"#46039f\"], [0.2222222222222222, \"#7201a8\"], [0.3333333333333333, \"#9c179e\"], [0.4444444444444444, \"#bd3786\"], [0.5555555555555556, \"#d8576b\"], [0.6666666666666666, \"#ed7953\"], [0.7777777777777778, \"#fb9f3a\"], [0.8888888888888888, \"#fdca26\"], [1.0, \"#f0f921\"]], \"type\": \"histogram2d\"}], \"histogram2dcontour\": [{\"colorbar\": {\"outlinewidth\": 0, \"ticks\": \"\"}, \"colorscale\": [[0.0, \"#0d0887\"], [0.1111111111111111, \"#46039f\"], [0.2222222222222222, \"#7201a8\"], [0.3333333333333333, \"#9c179e\"], [0.4444444444444444, \"#bd3786\"], [0.5555555555555556, \"#d8576b\"], [0.6666666666666666, \"#ed7953\"], [0.7777777777777778, \"#fb9f3a\"], [0.8888888888888888, \"#fdca26\"], [1.0, \"#f0f921\"]], \"type\": \"histogram2dcontour\"}], \"mesh3d\": [{\"colorbar\": {\"outlinewidth\": 0, \"ticks\": \"\"}, \"type\": \"mesh3d\"}], \"parcoords\": [{\"line\": {\"colorbar\": {\"outlinewidth\": 0, \"ticks\": \"\"}}, \"type\": \"parcoords\"}], \"pie\": [{\"automargin\": true, \"type\": \"pie\"}], \"scatter\": [{\"marker\": {\"colorbar\": {\"outlinewidth\": 0, \"ticks\": \"\"}}, \"type\": \"scatter\"}], \"scatter3d\": [{\"line\": {\"colorbar\": {\"outlinewidth\": 0, \"ticks\": \"\"}}, \"marker\": {\"colorbar\": {\"outlinewidth\": 0, \"ticks\": \"\"}}, \"type\": \"scatter3d\"}], \"scattercarpet\": [{\"marker\": {\"colorbar\": {\"outlinewidth\": 0, \"ticks\": \"\"}}, \"type\": \"scattercarpet\"}], \"scattergeo\": [{\"marker\": {\"colorbar\": {\"outlinewidth\": 0, \"ticks\": \"\"}}, \"type\": \"scattergeo\"}], \"scattergl\": [{\"marker\": {\"colorbar\": {\"outlinewidth\": 0, \"ticks\": \"\"}}, \"type\": \"scattergl\"}], \"scattermapbox\": [{\"marker\": {\"colorbar\": {\"outlinewidth\": 0, \"ticks\": \"\"}}, \"type\": \"scattermapbox\"}], \"scatterpolar\": [{\"marker\": {\"colorbar\": {\"outlinewidth\": 0, \"ticks\": \"\"}}, \"type\": \"scatterpolar\"}], \"scatterpolargl\": [{\"marker\": {\"colorbar\": {\"outlinewidth\": 0, \"ticks\": \"\"}}, \"type\": \"scatterpolargl\"}], \"scatterternary\": [{\"marker\": {\"colorbar\": {\"outlinewidth\": 0, \"ticks\": \"\"}}, \"type\": \"scatterternary\"}], \"surface\": [{\"colorbar\": {\"outlinewidth\": 0, \"ticks\": \"\"}, \"colorscale\": [[0.0, \"#0d0887\"], [0.1111111111111111, \"#46039f\"], [0.2222222222222222, \"#7201a8\"], [0.3333333333333333, \"#9c179e\"], [0.4444444444444444, \"#bd3786\"], [0.5555555555555556, \"#d8576b\"], [0.6666666666666666, \"#ed7953\"], [0.7777777777777778, \"#fb9f3a\"], [0.8888888888888888, \"#fdca26\"], [1.0, \"#f0f921\"]], \"type\": \"surface\"}], \"table\": [{\"cells\": {\"fill\": {\"color\": \"#EBF0F8\"}, \"line\": {\"color\": \"white\"}}, \"header\": {\"fill\": {\"color\": \"#C8D4E3\"}, \"line\": {\"color\": \"white\"}}, \"type\": \"table\"}]}, \"layout\": {\"annotationdefaults\": {\"arrowcolor\": \"#2a3f5f\", \"arrowhead\": 0, \"arrowwidth\": 1}, \"coloraxis\": {\"colorbar\": {\"outlinewidth\": 0, \"ticks\": \"\"}}, \"colorscale\": {\"diverging\": [[0, \"#8e0152\"], [0.1, \"#c51b7d\"], [0.2, \"#de77ae\"], [0.3, \"#f1b6da\"], [0.4, \"#fde0ef\"], [0.5, \"#f7f7f7\"], [0.6, \"#e6f5d0\"], [0.7, \"#b8e186\"], [0.8, \"#7fbc41\"], [0.9, \"#4d9221\"], [1, \"#276419\"]], \"sequential\": [[0.0, \"#0d0887\"], [0.1111111111111111, \"#46039f\"], [0.2222222222222222, \"#7201a8\"], [0.3333333333333333, \"#9c179e\"], [0.4444444444444444, \"#bd3786\"], [0.5555555555555556, \"#d8576b\"], [0.6666666666666666, \"#ed7953\"], [0.7777777777777778, \"#fb9f3a\"], [0.8888888888888888, \"#fdca26\"], [1.0, \"#f0f921\"]], \"sequentialminus\": [[0.0, \"#0d0887\"], [0.1111111111111111, \"#46039f\"], [0.2222222222222222, \"#7201a8\"], [0.3333333333333333, \"#9c179e\"], [0.4444444444444444, \"#bd3786\"], [0.5555555555555556, \"#d8576b\"], [0.6666666666666666, \"#ed7953\"], [0.7777777777777778, \"#fb9f3a\"], [0.8888888888888888, \"#fdca26\"], [1.0, \"#f0f921\"]]}, \"colorway\": [\"#636efa\", \"#EF553B\", \"#00cc96\", \"#ab63fa\", \"#FFA15A\", \"#19d3f3\", \"#FF6692\", \"#B6E880\", \"#FF97FF\", \"#FECB52\"], \"font\": {\"color\": \"#2a3f5f\"}, \"geo\": {\"bgcolor\": \"white\", \"lakecolor\": \"white\", \"landcolor\": \"#E5ECF6\", \"showlakes\": true, \"showland\": true, \"subunitcolor\": \"white\"}, \"hoverlabel\": {\"align\": \"left\"}, \"hovermode\": \"closest\", \"mapbox\": {\"style\": \"light\"}, \"paper_bgcolor\": \"white\", \"plot_bgcolor\": \"#E5ECF6\", \"polar\": {\"angularaxis\": {\"gridcolor\": \"white\", \"linecolor\": \"white\", \"ticks\": \"\"}, \"bgcolor\": \"#E5ECF6\", \"radialaxis\": {\"gridcolor\": \"white\", \"linecolor\": \"white\", \"ticks\": \"\"}}, \"scene\": {\"xaxis\": {\"backgroundcolor\": \"#E5ECF6\", \"gridcolor\": \"white\", \"gridwidth\": 2, \"linecolor\": \"white\", \"showbackground\": true, \"ticks\": \"\", \"zerolinecolor\": \"white\"}, \"yaxis\": {\"backgroundcolor\": \"#E5ECF6\", \"gridcolor\": \"white\", \"gridwidth\": 2, \"linecolor\": \"white\", \"showbackground\": true, \"ticks\": \"\", \"zerolinecolor\": \"white\"}, \"zaxis\": {\"backgroundcolor\": \"#E5ECF6\", \"gridcolor\": \"white\", \"gridwidth\": 2, \"linecolor\": \"white\", \"showbackground\": true, \"ticks\": \"\", \"zerolinecolor\": \"white\"}}, \"shapedefaults\": {\"line\": {\"color\": \"#2a3f5f\"}}, \"ternary\": {\"aaxis\": {\"gridcolor\": \"white\", \"linecolor\": \"white\", \"ticks\": \"\"}, \"baxis\": {\"gridcolor\": \"white\", \"linecolor\": \"white\", \"ticks\": \"\"}, \"bgcolor\": \"#E5ECF6\", \"caxis\": {\"gridcolor\": \"white\", \"linecolor\": \"white\", \"ticks\": \"\"}}, \"title\": {\"x\": 0.05}, \"xaxis\": {\"automargin\": true, \"gridcolor\": \"white\", \"linecolor\": \"white\", \"ticks\": \"\", \"title\": {\"standoff\": 15}, \"zerolinecolor\": \"white\", \"zerolinewidth\": 2}, \"yaxis\": {\"automargin\": true, \"gridcolor\": \"white\", \"linecolor\": \"white\", \"ticks\": \"\", \"title\": {\"standoff\": 15}, \"zerolinecolor\": \"white\", \"zerolinewidth\": 2}}}, \"title\": {\"text\": \"Hospitalization rate of positive cases<br>(Hover for breakdown)\"}},\n",
       "                        {\"responsive\": true}\n",
       "                    ).then(function(){\n",
       "                            \n",
       "var gd = document.getElementById('d429ba67-d916-467f-96d8-6d5abc9e7477');\n",
       "var x = new MutationObserver(function (mutations, observer) {{\n",
       "        var display = window.getComputedStyle(gd).display;\n",
       "        if (!display || display === 'none') {{\n",
       "            console.log([gd, 'removed!']);\n",
       "            Plotly.purge(gd);\n",
       "            observer.disconnect();\n",
       "        }}\n",
       "}});\n",
       "\n",
       "// Listen for the removal of the full notebook cells\n",
       "var notebookContainer = gd.closest('#notebook-container');\n",
       "if (notebookContainer) {{\n",
       "    x.observe(notebookContainer, {childList: true});\n",
       "}}\n",
       "\n",
       "// Listen for the clearing of the current output cell\n",
       "var outputEl = gd.closest('.output');\n",
       "if (outputEl) {{\n",
       "    x.observe(outputEl, {childList: true});\n",
       "}}\n",
       "\n",
       "                        })\n",
       "                };\n",
       "                });\n",
       "            </script>\n",
       "        </div>"
      ]
     },
     "metadata": {},
     "output_type": "display_data"
    }
   ],
   "source": [
    "#scale = 1000\n",
    "fig = go.Figure(data=go.Choropleth(\n",
    "    locations=df2['state'],\n",
    "    z=(df2['hospitalizedCumulative']/df2['positive'])*100,\n",
    "    locationmode='USA-states',\n",
    "    colorscale='Oranges',\n",
    "    autocolorscale=False,\n",
    "    text=df2['text'], # hover text\n",
    "    marker_line_color='white', # line markers between states\n",
    "    colorbar_title=\"Hospitalization rate of positive cases (in %)\"\n",
    "))\n",
    "\n",
    "fig.update_layout(\n",
    "    title_text='Hospitalization rate of positive cases<br>(Hover for breakdown)',\n",
    "    geo = dict(\n",
    "        scope='usa',\n",
    "        projection=go.layout.geo.Projection(type = 'albers usa'),\n",
    "        showlakes=True, # lakes\n",
    "        lakecolor='rgb(255, 255, 255)'),\n",
    ")\n",
    "fig.show();"
   ]
  },
  {
   "cell_type": "code",
   "execution_count": 38,
   "metadata": {
    "ExecuteTime": {
     "end_time": "2020-04-09T15:50:09.030923Z",
     "start_time": "2020-04-09T15:50:08.899357Z"
    }
   },
   "outputs": [
    {
     "data": {
      "application/vnd.plotly.v1+json": {
       "config": {
        "plotlyServerURL": "https://plot.ly"
       },
       "data": [
        {
         "autocolorscale": false,
         "colorbar": {
          "title": {
           "text": "Death rate in %"
          }
         },
         "colorscale": [
          [
           0,
           "rgb(255,245,235)"
          ],
          [
           0.125,
           "rgb(254,230,206)"
          ],
          [
           0.25,
           "rgb(253,208,162)"
          ],
          [
           0.375,
           "rgb(253,174,107)"
          ],
          [
           0.5,
           "rgb(253,141,60)"
          ],
          [
           0.625,
           "rgb(241,105,19)"
          ],
          [
           0.75,
           "rgb(217,72,1)"
          ],
          [
           0.875,
           "rgb(166,54,3)"
          ],
          [
           1,
           "rgb(127,39,4)"
          ]
         ],
         "locationmode": "USA-states",
         "locations": [
          "AR",
          "TX",
          "OR",
          "ME",
          "AK",
          "MI",
          "ND",
          "NM",
          "MS",
          "AZ",
          "FL",
          "MN",
          "NY",
          "SD",
          "UT",
          "MT",
          "CA",
          "LA",
          "DE",
          "WA",
          "NV",
          "IL",
          "ID",
          "DC",
          "RI",
          "AL",
          "OK",
          "NH",
          "TN",
          "WY",
          "CT",
          "KY",
          "VT",
          "IN",
          "SC",
          "OH",
          "MA",
          "NE",
          "WV",
          "NC",
          "MO",
          "NJ",
          "MD",
          "KS",
          "CO",
          "HI",
          "PA",
          "IA",
          "GA",
          "VA",
          "WI"
         ],
         "marker": {
          "line": {
           "color": "white"
          }
         },
         "text": [
          "AR\nPositive: 1000.0, Deaths: 18.0, Negative: 13530.0, Total Tested: 14530",
          "TX\nPositive: 9353.0, Deaths: 177.0, Negative: 86905.0, Total Tested: 96258",
          "OR\nPositive: 1181.0, Deaths: 33.0, Negative: 21826.0, Total Tested: 23007",
          "ME\nPositive: 537.0, Deaths: 14.0, Negative: 6088.0, Total Tested: 6625",
          "AK\nPositive: 226.0, Deaths: 7.0, Negative: 6842.0, Total Tested: 7068",
          "MI\nPositive: 20346.0, Deaths: 959.0, Negative: 31362.0, Total Tested: 51708",
          "ND\nPositive: 251.0, Deaths: 4.0, Negative: 8301.0, Total Tested: 8552",
          "NM\nPositive: 794.0, Deaths: 13.0, Negative: 21451.0, Total Tested: 22245",
          "MS\nPositive: 2003.0, Deaths: 67.0, Negative: 18632.0, Total Tested: 20635",
          "AZ\nPositive: 2726.0, Deaths: 80.0, Negative: 31838.0, Total Tested: 34564",
          "FL\nPositive: 15455.0, Deaths: 309.0, Negative: 127679.0, Total Tested: 144458",
          "MN\nPositive: 1154.0, Deaths: 39.0, Negative: 29599.0, Total Tested: 30753",
          "NY\nPositive: 149316.0, Deaths: 6268.0, Negative: 215837.0, Total Tested: 365153",
          "SD\nPositive: 393.0, Deaths: 6.0, Negative: 6355.0, Total Tested: 6748",
          "UT\nPositive: 1846.0, Deaths: 13.0, Negative: 34270.0, Total Tested: 36116",
          "MT\nPositive: 332.0, Deaths: 6.0, Negative: 7066.0, Total Tested: 7398",
          "CA\nPositive: 16957.0, Deaths: 442.0, Negative: 127307.0, Total Tested: 158864",
          "LA\nPositive: 17030.0, Deaths: 652.0, Negative: 64376.0, Total Tested: 81406",
          "DE\nPositive: 928.0, Deaths: 16.0, Negative: 7628.0, Total Tested: 8556",
          "WA\nPositive: 8682.0, Deaths: 394.0, Negative: 83391.0, Total Tested: 92073",
          "NV\nPositive: 2318.0, Deaths: 71.0, Negative: 18248.0, Total Tested: 20566",
          "IL\nPositive: 15078.0, Deaths: 462.0, Negative: 59988.0, Total Tested: 75066",
          "ID\nPositive: 1210.0, Deaths: 15.0, Negative: 10688.0, Total Tested: 11898",
          "DC\nPositive: 1440.0, Deaths: 27.0, Negative: 6843.0, Total Tested: 8283",
          "RI\nPositive: 1450.0, Deaths: 35.0, Negative: 10682.0, Total Tested: 12132",
          "AL\nPositive: 2369.0, Deaths: 66.0, Negative: 16753.0, Total Tested: 19122",
          "OK\nPositive: 1524.0, Deaths: 79.0, Negative: 11821.0, Total Tested: 13345",
          "NH\nPositive: 788.0, Deaths: 18.0, Negative: 8389.0, Total Tested: 9266",
          "TN\nPositive: 4362.0, Deaths: 79.0, Negative: 52256.0, Total Tested: 56618",
          "WY\nPositive: 221.0, Deaths: 0.0, Negative: 3843.0, Total Tested: 4064",
          "CT\nPositive: 7781.0, Deaths: 277.0, Negative: 21255.0, Total Tested: 29036",
          "KY\nPositive: 1149.0, Deaths: 65.0, Negative: 20455.0, Total Tested: 21604",
          "VT\nPositive: 605.0, Deaths: 23.0, Negative: 7144.0, Total Tested: 7749",
          "IN\nPositive: 5943.0, Deaths: 203.0, Negative: 24926.0, Total Tested: 30869",
          "SC\nPositive: 2552.0, Deaths: 63.0, Negative: 22082.0, Total Tested: 24634",
          "OH\nPositive: 5148.0, Deaths: 193.0, Negative: 48193.0, Total Tested: 53341",
          "MA\nPositive: 16790.0, Deaths: 433.0, Negative: 70721.0, Total Tested: 87511",
          "NE\nPositive: 519.0, Deaths: 12.0, Negative: 7442.0, Total Tested: 7961",
          "WV\nPositive: 462.0, Deaths: 4.0, Negative: 12083.0, Total Tested: 12545",
          "NC\nPositive: 3426.0, Deaths: 53.0, Negative: 39561.0, Total Tested: 42987",
          "MO\nPositive: 3327.0, Deaths: 58.0, Negative: 30783.0, Total Tested: 34110",
          "NJ\nPositive: 47437.0, Deaths: 1504.0, Negative: 52979.0, Total Tested: 100416",
          "MD\nPositive: 5529.0, Deaths: 124.0, Negative: 32933.0, Total Tested: 38462",
          "KS\nPositive: 900.0, Deaths: 27.0, Negative: 8614.0, Total Tested: 9514",
          "CO\nPositive: 5429.0, Deaths: 179.0, Negative: 22665.0, Total Tested: 28094",
          "HI\nPositive: 410.0, Deaths: 5.0, Negative: 14739.0, Total Tested: 15149",
          "PA\nPositive: 16239.0, Deaths: 309.0, Negative: 82299.0, Total Tested: 98538",
          "IA\nPositive: 1145.0, Deaths: 27.0, Negative: 12821.0, Total Tested: 13966",
          "GA\nPositive: 9901.0, Deaths: 362.0, Negative: 28886.0, Total Tested: 38787",
          "VA\nPositive: 3645.0, Deaths: 75.0, Negative: 27000.0, Total Tested: 30645",
          "WI\nPositive: 2756.0, Deaths: 99.0, Negative: 30115.0, Total Tested: 32871"
         ],
         "type": "choropleth",
         "z": [
          1.7999999999999998,
          1.8924409280444778,
          2.79424216765453,
          2.60707635009311,
          3.0973451327433628,
          4.7134571906025755,
          1.593625498007968,
          1.63727959697733,
          3.344982526210684,
          2.93470286133529,
          1.9993529602070528,
          3.3795493934142113,
          4.197808674221115,
          1.5267175572519083,
          0.7042253521126761,
          1.8072289156626504,
          2.6065931473727666,
          3.8285378743394007,
          1.7241379310344827,
          4.538124856023957,
          3.062985332182916,
          3.064066852367688,
          1.2396694214876034,
          1.875,
          2.413793103448276,
          2.7859856479527227,
          5.183727034120735,
          2.284263959390863,
          1.8110958276020175,
          0,
          3.559953733453284,
          5.657093124456049,
          3.8016528925619832,
          3.415783274440518,
          2.468652037617555,
          3.749028749028749,
          2.578916021441334,
          2.312138728323699,
          0.8658008658008658,
          1.5469935785172213,
          1.743312293357379,
          3.170520901406076,
          2.2427202025682766,
          3,
          3.2971081230429173,
          1.2195121951219512,
          1.9028265287271382,
          2.3580786026200875,
          3.656196343803656,
          2.05761316872428,
          3.5921625544267055
         ]
        }
       ],
       "layout": {
        "geo": {
         "lakecolor": "rgb(255, 255, 255)",
         "projection": {
          "type": "albers usa"
         },
         "scope": "usa",
         "showlakes": true
        },
        "template": {
         "data": {
          "bar": [
           {
            "error_x": {
             "color": "#2a3f5f"
            },
            "error_y": {
             "color": "#2a3f5f"
            },
            "marker": {
             "line": {
              "color": "#E5ECF6",
              "width": 0.5
             }
            },
            "type": "bar"
           }
          ],
          "barpolar": [
           {
            "marker": {
             "line": {
              "color": "#E5ECF6",
              "width": 0.5
             }
            },
            "type": "barpolar"
           }
          ],
          "carpet": [
           {
            "aaxis": {
             "endlinecolor": "#2a3f5f",
             "gridcolor": "white",
             "linecolor": "white",
             "minorgridcolor": "white",
             "startlinecolor": "#2a3f5f"
            },
            "baxis": {
             "endlinecolor": "#2a3f5f",
             "gridcolor": "white",
             "linecolor": "white",
             "minorgridcolor": "white",
             "startlinecolor": "#2a3f5f"
            },
            "type": "carpet"
           }
          ],
          "choropleth": [
           {
            "colorbar": {
             "outlinewidth": 0,
             "ticks": ""
            },
            "type": "choropleth"
           }
          ],
          "contour": [
           {
            "colorbar": {
             "outlinewidth": 0,
             "ticks": ""
            },
            "colorscale": [
             [
              0,
              "#0d0887"
             ],
             [
              0.1111111111111111,
              "#46039f"
             ],
             [
              0.2222222222222222,
              "#7201a8"
             ],
             [
              0.3333333333333333,
              "#9c179e"
             ],
             [
              0.4444444444444444,
              "#bd3786"
             ],
             [
              0.5555555555555556,
              "#d8576b"
             ],
             [
              0.6666666666666666,
              "#ed7953"
             ],
             [
              0.7777777777777778,
              "#fb9f3a"
             ],
             [
              0.8888888888888888,
              "#fdca26"
             ],
             [
              1,
              "#f0f921"
             ]
            ],
            "type": "contour"
           }
          ],
          "contourcarpet": [
           {
            "colorbar": {
             "outlinewidth": 0,
             "ticks": ""
            },
            "type": "contourcarpet"
           }
          ],
          "heatmap": [
           {
            "colorbar": {
             "outlinewidth": 0,
             "ticks": ""
            },
            "colorscale": [
             [
              0,
              "#0d0887"
             ],
             [
              0.1111111111111111,
              "#46039f"
             ],
             [
              0.2222222222222222,
              "#7201a8"
             ],
             [
              0.3333333333333333,
              "#9c179e"
             ],
             [
              0.4444444444444444,
              "#bd3786"
             ],
             [
              0.5555555555555556,
              "#d8576b"
             ],
             [
              0.6666666666666666,
              "#ed7953"
             ],
             [
              0.7777777777777778,
              "#fb9f3a"
             ],
             [
              0.8888888888888888,
              "#fdca26"
             ],
             [
              1,
              "#f0f921"
             ]
            ],
            "type": "heatmap"
           }
          ],
          "heatmapgl": [
           {
            "colorbar": {
             "outlinewidth": 0,
             "ticks": ""
            },
            "colorscale": [
             [
              0,
              "#0d0887"
             ],
             [
              0.1111111111111111,
              "#46039f"
             ],
             [
              0.2222222222222222,
              "#7201a8"
             ],
             [
              0.3333333333333333,
              "#9c179e"
             ],
             [
              0.4444444444444444,
              "#bd3786"
             ],
             [
              0.5555555555555556,
              "#d8576b"
             ],
             [
              0.6666666666666666,
              "#ed7953"
             ],
             [
              0.7777777777777778,
              "#fb9f3a"
             ],
             [
              0.8888888888888888,
              "#fdca26"
             ],
             [
              1,
              "#f0f921"
             ]
            ],
            "type": "heatmapgl"
           }
          ],
          "histogram": [
           {
            "marker": {
             "colorbar": {
              "outlinewidth": 0,
              "ticks": ""
             }
            },
            "type": "histogram"
           }
          ],
          "histogram2d": [
           {
            "colorbar": {
             "outlinewidth": 0,
             "ticks": ""
            },
            "colorscale": [
             [
              0,
              "#0d0887"
             ],
             [
              0.1111111111111111,
              "#46039f"
             ],
             [
              0.2222222222222222,
              "#7201a8"
             ],
             [
              0.3333333333333333,
              "#9c179e"
             ],
             [
              0.4444444444444444,
              "#bd3786"
             ],
             [
              0.5555555555555556,
              "#d8576b"
             ],
             [
              0.6666666666666666,
              "#ed7953"
             ],
             [
              0.7777777777777778,
              "#fb9f3a"
             ],
             [
              0.8888888888888888,
              "#fdca26"
             ],
             [
              1,
              "#f0f921"
             ]
            ],
            "type": "histogram2d"
           }
          ],
          "histogram2dcontour": [
           {
            "colorbar": {
             "outlinewidth": 0,
             "ticks": ""
            },
            "colorscale": [
             [
              0,
              "#0d0887"
             ],
             [
              0.1111111111111111,
              "#46039f"
             ],
             [
              0.2222222222222222,
              "#7201a8"
             ],
             [
              0.3333333333333333,
              "#9c179e"
             ],
             [
              0.4444444444444444,
              "#bd3786"
             ],
             [
              0.5555555555555556,
              "#d8576b"
             ],
             [
              0.6666666666666666,
              "#ed7953"
             ],
             [
              0.7777777777777778,
              "#fb9f3a"
             ],
             [
              0.8888888888888888,
              "#fdca26"
             ],
             [
              1,
              "#f0f921"
             ]
            ],
            "type": "histogram2dcontour"
           }
          ],
          "mesh3d": [
           {
            "colorbar": {
             "outlinewidth": 0,
             "ticks": ""
            },
            "type": "mesh3d"
           }
          ],
          "parcoords": [
           {
            "line": {
             "colorbar": {
              "outlinewidth": 0,
              "ticks": ""
             }
            },
            "type": "parcoords"
           }
          ],
          "pie": [
           {
            "automargin": true,
            "type": "pie"
           }
          ],
          "scatter": [
           {
            "marker": {
             "colorbar": {
              "outlinewidth": 0,
              "ticks": ""
             }
            },
            "type": "scatter"
           }
          ],
          "scatter3d": [
           {
            "line": {
             "colorbar": {
              "outlinewidth": 0,
              "ticks": ""
             }
            },
            "marker": {
             "colorbar": {
              "outlinewidth": 0,
              "ticks": ""
             }
            },
            "type": "scatter3d"
           }
          ],
          "scattercarpet": [
           {
            "marker": {
             "colorbar": {
              "outlinewidth": 0,
              "ticks": ""
             }
            },
            "type": "scattercarpet"
           }
          ],
          "scattergeo": [
           {
            "marker": {
             "colorbar": {
              "outlinewidth": 0,
              "ticks": ""
             }
            },
            "type": "scattergeo"
           }
          ],
          "scattergl": [
           {
            "marker": {
             "colorbar": {
              "outlinewidth": 0,
              "ticks": ""
             }
            },
            "type": "scattergl"
           }
          ],
          "scattermapbox": [
           {
            "marker": {
             "colorbar": {
              "outlinewidth": 0,
              "ticks": ""
             }
            },
            "type": "scattermapbox"
           }
          ],
          "scatterpolar": [
           {
            "marker": {
             "colorbar": {
              "outlinewidth": 0,
              "ticks": ""
             }
            },
            "type": "scatterpolar"
           }
          ],
          "scatterpolargl": [
           {
            "marker": {
             "colorbar": {
              "outlinewidth": 0,
              "ticks": ""
             }
            },
            "type": "scatterpolargl"
           }
          ],
          "scatterternary": [
           {
            "marker": {
             "colorbar": {
              "outlinewidth": 0,
              "ticks": ""
             }
            },
            "type": "scatterternary"
           }
          ],
          "surface": [
           {
            "colorbar": {
             "outlinewidth": 0,
             "ticks": ""
            },
            "colorscale": [
             [
              0,
              "#0d0887"
             ],
             [
              0.1111111111111111,
              "#46039f"
             ],
             [
              0.2222222222222222,
              "#7201a8"
             ],
             [
              0.3333333333333333,
              "#9c179e"
             ],
             [
              0.4444444444444444,
              "#bd3786"
             ],
             [
              0.5555555555555556,
              "#d8576b"
             ],
             [
              0.6666666666666666,
              "#ed7953"
             ],
             [
              0.7777777777777778,
              "#fb9f3a"
             ],
             [
              0.8888888888888888,
              "#fdca26"
             ],
             [
              1,
              "#f0f921"
             ]
            ],
            "type": "surface"
           }
          ],
          "table": [
           {
            "cells": {
             "fill": {
              "color": "#EBF0F8"
             },
             "line": {
              "color": "white"
             }
            },
            "header": {
             "fill": {
              "color": "#C8D4E3"
             },
             "line": {
              "color": "white"
             }
            },
            "type": "table"
           }
          ]
         },
         "layout": {
          "annotationdefaults": {
           "arrowcolor": "#2a3f5f",
           "arrowhead": 0,
           "arrowwidth": 1
          },
          "coloraxis": {
           "colorbar": {
            "outlinewidth": 0,
            "ticks": ""
           }
          },
          "colorscale": {
           "diverging": [
            [
             0,
             "#8e0152"
            ],
            [
             0.1,
             "#c51b7d"
            ],
            [
             0.2,
             "#de77ae"
            ],
            [
             0.3,
             "#f1b6da"
            ],
            [
             0.4,
             "#fde0ef"
            ],
            [
             0.5,
             "#f7f7f7"
            ],
            [
             0.6,
             "#e6f5d0"
            ],
            [
             0.7,
             "#b8e186"
            ],
            [
             0.8,
             "#7fbc41"
            ],
            [
             0.9,
             "#4d9221"
            ],
            [
             1,
             "#276419"
            ]
           ],
           "sequential": [
            [
             0,
             "#0d0887"
            ],
            [
             0.1111111111111111,
             "#46039f"
            ],
            [
             0.2222222222222222,
             "#7201a8"
            ],
            [
             0.3333333333333333,
             "#9c179e"
            ],
            [
             0.4444444444444444,
             "#bd3786"
            ],
            [
             0.5555555555555556,
             "#d8576b"
            ],
            [
             0.6666666666666666,
             "#ed7953"
            ],
            [
             0.7777777777777778,
             "#fb9f3a"
            ],
            [
             0.8888888888888888,
             "#fdca26"
            ],
            [
             1,
             "#f0f921"
            ]
           ],
           "sequentialminus": [
            [
             0,
             "#0d0887"
            ],
            [
             0.1111111111111111,
             "#46039f"
            ],
            [
             0.2222222222222222,
             "#7201a8"
            ],
            [
             0.3333333333333333,
             "#9c179e"
            ],
            [
             0.4444444444444444,
             "#bd3786"
            ],
            [
             0.5555555555555556,
             "#d8576b"
            ],
            [
             0.6666666666666666,
             "#ed7953"
            ],
            [
             0.7777777777777778,
             "#fb9f3a"
            ],
            [
             0.8888888888888888,
             "#fdca26"
            ],
            [
             1,
             "#f0f921"
            ]
           ]
          },
          "colorway": [
           "#636efa",
           "#EF553B",
           "#00cc96",
           "#ab63fa",
           "#FFA15A",
           "#19d3f3",
           "#FF6692",
           "#B6E880",
           "#FF97FF",
           "#FECB52"
          ],
          "font": {
           "color": "#2a3f5f"
          },
          "geo": {
           "bgcolor": "white",
           "lakecolor": "white",
           "landcolor": "#E5ECF6",
           "showlakes": true,
           "showland": true,
           "subunitcolor": "white"
          },
          "hoverlabel": {
           "align": "left"
          },
          "hovermode": "closest",
          "mapbox": {
           "style": "light"
          },
          "paper_bgcolor": "white",
          "plot_bgcolor": "#E5ECF6",
          "polar": {
           "angularaxis": {
            "gridcolor": "white",
            "linecolor": "white",
            "ticks": ""
           },
           "bgcolor": "#E5ECF6",
           "radialaxis": {
            "gridcolor": "white",
            "linecolor": "white",
            "ticks": ""
           }
          },
          "scene": {
           "xaxis": {
            "backgroundcolor": "#E5ECF6",
            "gridcolor": "white",
            "gridwidth": 2,
            "linecolor": "white",
            "showbackground": true,
            "ticks": "",
            "zerolinecolor": "white"
           },
           "yaxis": {
            "backgroundcolor": "#E5ECF6",
            "gridcolor": "white",
            "gridwidth": 2,
            "linecolor": "white",
            "showbackground": true,
            "ticks": "",
            "zerolinecolor": "white"
           },
           "zaxis": {
            "backgroundcolor": "#E5ECF6",
            "gridcolor": "white",
            "gridwidth": 2,
            "linecolor": "white",
            "showbackground": true,
            "ticks": "",
            "zerolinecolor": "white"
           }
          },
          "shapedefaults": {
           "line": {
            "color": "#2a3f5f"
           }
          },
          "ternary": {
           "aaxis": {
            "gridcolor": "white",
            "linecolor": "white",
            "ticks": ""
           },
           "baxis": {
            "gridcolor": "white",
            "linecolor": "white",
            "ticks": ""
           },
           "bgcolor": "#E5ECF6",
           "caxis": {
            "gridcolor": "white",
            "linecolor": "white",
            "ticks": ""
           }
          },
          "title": {
           "x": 0.05
          },
          "xaxis": {
           "automargin": true,
           "gridcolor": "white",
           "linecolor": "white",
           "ticks": "",
           "title": {
            "standoff": 15
           },
           "zerolinecolor": "white",
           "zerolinewidth": 2
          },
          "yaxis": {
           "automargin": true,
           "gridcolor": "white",
           "linecolor": "white",
           "ticks": "",
           "title": {
            "standoff": 15
           },
           "zerolinecolor": "white",
           "zerolinewidth": 2
          }
         }
        },
        "title": {
         "text": "Death rate by state<br>(Hover for breakdown)"
        }
       }
      },
      "text/html": [
       "<div>\n",
       "        \n",
       "        \n",
       "            <div id=\"068af14c-f87e-4e0d-b4ed-273bbb49f93a\" class=\"plotly-graph-div\" style=\"height:525px; width:100%;\"></div>\n",
       "            <script type=\"text/javascript\">\n",
       "                require([\"plotly\"], function(Plotly) {\n",
       "                    window.PLOTLYENV=window.PLOTLYENV || {};\n",
       "                    \n",
       "                if (document.getElementById(\"068af14c-f87e-4e0d-b4ed-273bbb49f93a\")) {\n",
       "                    Plotly.newPlot(\n",
       "                        '068af14c-f87e-4e0d-b4ed-273bbb49f93a',\n",
       "                        [{\"autocolorscale\": false, \"colorbar\": {\"title\": {\"text\": \"Death rate in %\"}}, \"colorscale\": [[0.0, \"rgb(255,245,235)\"], [0.125, \"rgb(254,230,206)\"], [0.25, \"rgb(253,208,162)\"], [0.375, \"rgb(253,174,107)\"], [0.5, \"rgb(253,141,60)\"], [0.625, \"rgb(241,105,19)\"], [0.75, \"rgb(217,72,1)\"], [0.875, \"rgb(166,54,3)\"], [1.0, \"rgb(127,39,4)\"]], \"locationmode\": \"USA-states\", \"locations\": [\"AR\", \"TX\", \"OR\", \"ME\", \"AK\", \"MI\", \"ND\", \"NM\", \"MS\", \"AZ\", \"FL\", \"MN\", \"NY\", \"SD\", \"UT\", \"MT\", \"CA\", \"LA\", \"DE\", \"WA\", \"NV\", \"IL\", \"ID\", \"DC\", \"RI\", \"AL\", \"OK\", \"NH\", \"TN\", \"WY\", \"CT\", \"KY\", \"VT\", \"IN\", \"SC\", \"OH\", \"MA\", \"NE\", \"WV\", \"NC\", \"MO\", \"NJ\", \"MD\", \"KS\", \"CO\", \"HI\", \"PA\", \"IA\", \"GA\", \"VA\", \"WI\"], \"marker\": {\"line\": {\"color\": \"white\"}}, \"text\": [\"AR\\nPositive: 1000.0, Deaths: 18.0, Negative: 13530.0, Total Tested: 14530\", \"TX\\nPositive: 9353.0, Deaths: 177.0, Negative: 86905.0, Total Tested: 96258\", \"OR\\nPositive: 1181.0, Deaths: 33.0, Negative: 21826.0, Total Tested: 23007\", \"ME\\nPositive: 537.0, Deaths: 14.0, Negative: 6088.0, Total Tested: 6625\", \"AK\\nPositive: 226.0, Deaths: 7.0, Negative: 6842.0, Total Tested: 7068\", \"MI\\nPositive: 20346.0, Deaths: 959.0, Negative: 31362.0, Total Tested: 51708\", \"ND\\nPositive: 251.0, Deaths: 4.0, Negative: 8301.0, Total Tested: 8552\", \"NM\\nPositive: 794.0, Deaths: 13.0, Negative: 21451.0, Total Tested: 22245\", \"MS\\nPositive: 2003.0, Deaths: 67.0, Negative: 18632.0, Total Tested: 20635\", \"AZ\\nPositive: 2726.0, Deaths: 80.0, Negative: 31838.0, Total Tested: 34564\", \"FL\\nPositive: 15455.0, Deaths: 309.0, Negative: 127679.0, Total Tested: 144458\", \"MN\\nPositive: 1154.0, Deaths: 39.0, Negative: 29599.0, Total Tested: 30753\", \"NY\\nPositive: 149316.0, Deaths: 6268.0, Negative: 215837.0, Total Tested: 365153\", \"SD\\nPositive: 393.0, Deaths: 6.0, Negative: 6355.0, Total Tested: 6748\", \"UT\\nPositive: 1846.0, Deaths: 13.0, Negative: 34270.0, Total Tested: 36116\", \"MT\\nPositive: 332.0, Deaths: 6.0, Negative: 7066.0, Total Tested: 7398\", \"CA\\nPositive: 16957.0, Deaths: 442.0, Negative: 127307.0, Total Tested: 158864\", \"LA\\nPositive: 17030.0, Deaths: 652.0, Negative: 64376.0, Total Tested: 81406\", \"DE\\nPositive: 928.0, Deaths: 16.0, Negative: 7628.0, Total Tested: 8556\", \"WA\\nPositive: 8682.0, Deaths: 394.0, Negative: 83391.0, Total Tested: 92073\", \"NV\\nPositive: 2318.0, Deaths: 71.0, Negative: 18248.0, Total Tested: 20566\", \"IL\\nPositive: 15078.0, Deaths: 462.0, Negative: 59988.0, Total Tested: 75066\", \"ID\\nPositive: 1210.0, Deaths: 15.0, Negative: 10688.0, Total Tested: 11898\", \"DC\\nPositive: 1440.0, Deaths: 27.0, Negative: 6843.0, Total Tested: 8283\", \"RI\\nPositive: 1450.0, Deaths: 35.0, Negative: 10682.0, Total Tested: 12132\", \"AL\\nPositive: 2369.0, Deaths: 66.0, Negative: 16753.0, Total Tested: 19122\", \"OK\\nPositive: 1524.0, Deaths: 79.0, Negative: 11821.0, Total Tested: 13345\", \"NH\\nPositive: 788.0, Deaths: 18.0, Negative: 8389.0, Total Tested: 9266\", \"TN\\nPositive: 4362.0, Deaths: 79.0, Negative: 52256.0, Total Tested: 56618\", \"WY\\nPositive: 221.0, Deaths: 0.0, Negative: 3843.0, Total Tested: 4064\", \"CT\\nPositive: 7781.0, Deaths: 277.0, Negative: 21255.0, Total Tested: 29036\", \"KY\\nPositive: 1149.0, Deaths: 65.0, Negative: 20455.0, Total Tested: 21604\", \"VT\\nPositive: 605.0, Deaths: 23.0, Negative: 7144.0, Total Tested: 7749\", \"IN\\nPositive: 5943.0, Deaths: 203.0, Negative: 24926.0, Total Tested: 30869\", \"SC\\nPositive: 2552.0, Deaths: 63.0, Negative: 22082.0, Total Tested: 24634\", \"OH\\nPositive: 5148.0, Deaths: 193.0, Negative: 48193.0, Total Tested: 53341\", \"MA\\nPositive: 16790.0, Deaths: 433.0, Negative: 70721.0, Total Tested: 87511\", \"NE\\nPositive: 519.0, Deaths: 12.0, Negative: 7442.0, Total Tested: 7961\", \"WV\\nPositive: 462.0, Deaths: 4.0, Negative: 12083.0, Total Tested: 12545\", \"NC\\nPositive: 3426.0, Deaths: 53.0, Negative: 39561.0, Total Tested: 42987\", \"MO\\nPositive: 3327.0, Deaths: 58.0, Negative: 30783.0, Total Tested: 34110\", \"NJ\\nPositive: 47437.0, Deaths: 1504.0, Negative: 52979.0, Total Tested: 100416\", \"MD\\nPositive: 5529.0, Deaths: 124.0, Negative: 32933.0, Total Tested: 38462\", \"KS\\nPositive: 900.0, Deaths: 27.0, Negative: 8614.0, Total Tested: 9514\", \"CO\\nPositive: 5429.0, Deaths: 179.0, Negative: 22665.0, Total Tested: 28094\", \"HI\\nPositive: 410.0, Deaths: 5.0, Negative: 14739.0, Total Tested: 15149\", \"PA\\nPositive: 16239.0, Deaths: 309.0, Negative: 82299.0, Total Tested: 98538\", \"IA\\nPositive: 1145.0, Deaths: 27.0, Negative: 12821.0, Total Tested: 13966\", \"GA\\nPositive: 9901.0, Deaths: 362.0, Negative: 28886.0, Total Tested: 38787\", \"VA\\nPositive: 3645.0, Deaths: 75.0, Negative: 27000.0, Total Tested: 30645\", \"WI\\nPositive: 2756.0, Deaths: 99.0, Negative: 30115.0, Total Tested: 32871\"], \"type\": \"choropleth\", \"z\": [1.7999999999999998, 1.8924409280444778, 2.79424216765453, 2.60707635009311, 3.0973451327433628, 4.7134571906025755, 1.593625498007968, 1.63727959697733, 3.344982526210684, 2.93470286133529, 1.9993529602070528, 3.3795493934142113, 4.197808674221115, 1.5267175572519083, 0.7042253521126761, 1.8072289156626504, 2.6065931473727666, 3.8285378743394007, 1.7241379310344827, 4.538124856023957, 3.062985332182916, 3.064066852367688, 1.2396694214876034, 1.875, 2.413793103448276, 2.7859856479527227, 5.183727034120735, 2.284263959390863, 1.8110958276020175, 0.0, 3.559953733453284, 5.657093124456049, 3.8016528925619832, 3.415783274440518, 2.468652037617555, 3.749028749028749, 2.578916021441334, 2.312138728323699, 0.8658008658008658, 1.5469935785172213, 1.743312293357379, 3.170520901406076, 2.2427202025682766, 3.0, 3.2971081230429173, 1.2195121951219512, 1.9028265287271382, 2.3580786026200875, 3.656196343803656, 2.05761316872428, 3.5921625544267055]}],\n",
       "                        {\"geo\": {\"lakecolor\": \"rgb(255, 255, 255)\", \"projection\": {\"type\": \"albers usa\"}, \"scope\": \"usa\", \"showlakes\": true}, \"template\": {\"data\": {\"bar\": [{\"error_x\": {\"color\": \"#2a3f5f\"}, \"error_y\": {\"color\": \"#2a3f5f\"}, \"marker\": {\"line\": {\"color\": \"#E5ECF6\", \"width\": 0.5}}, \"type\": \"bar\"}], \"barpolar\": [{\"marker\": {\"line\": {\"color\": \"#E5ECF6\", \"width\": 0.5}}, \"type\": \"barpolar\"}], \"carpet\": [{\"aaxis\": {\"endlinecolor\": \"#2a3f5f\", \"gridcolor\": \"white\", \"linecolor\": \"white\", \"minorgridcolor\": \"white\", \"startlinecolor\": \"#2a3f5f\"}, \"baxis\": {\"endlinecolor\": \"#2a3f5f\", \"gridcolor\": \"white\", \"linecolor\": \"white\", \"minorgridcolor\": \"white\", \"startlinecolor\": \"#2a3f5f\"}, \"type\": \"carpet\"}], \"choropleth\": [{\"colorbar\": {\"outlinewidth\": 0, \"ticks\": \"\"}, \"type\": \"choropleth\"}], \"contour\": [{\"colorbar\": {\"outlinewidth\": 0, \"ticks\": \"\"}, \"colorscale\": [[0.0, \"#0d0887\"], [0.1111111111111111, \"#46039f\"], [0.2222222222222222, \"#7201a8\"], [0.3333333333333333, \"#9c179e\"], [0.4444444444444444, \"#bd3786\"], [0.5555555555555556, \"#d8576b\"], [0.6666666666666666, \"#ed7953\"], [0.7777777777777778, \"#fb9f3a\"], [0.8888888888888888, \"#fdca26\"], [1.0, \"#f0f921\"]], \"type\": \"contour\"}], \"contourcarpet\": [{\"colorbar\": {\"outlinewidth\": 0, \"ticks\": \"\"}, \"type\": \"contourcarpet\"}], \"heatmap\": [{\"colorbar\": {\"outlinewidth\": 0, \"ticks\": \"\"}, \"colorscale\": [[0.0, \"#0d0887\"], [0.1111111111111111, \"#46039f\"], [0.2222222222222222, \"#7201a8\"], [0.3333333333333333, \"#9c179e\"], [0.4444444444444444, \"#bd3786\"], [0.5555555555555556, \"#d8576b\"], [0.6666666666666666, \"#ed7953\"], [0.7777777777777778, \"#fb9f3a\"], [0.8888888888888888, \"#fdca26\"], [1.0, \"#f0f921\"]], \"type\": \"heatmap\"}], \"heatmapgl\": [{\"colorbar\": {\"outlinewidth\": 0, \"ticks\": \"\"}, \"colorscale\": [[0.0, \"#0d0887\"], [0.1111111111111111, \"#46039f\"], [0.2222222222222222, \"#7201a8\"], [0.3333333333333333, \"#9c179e\"], [0.4444444444444444, \"#bd3786\"], [0.5555555555555556, \"#d8576b\"], [0.6666666666666666, \"#ed7953\"], [0.7777777777777778, \"#fb9f3a\"], [0.8888888888888888, \"#fdca26\"], [1.0, \"#f0f921\"]], \"type\": \"heatmapgl\"}], \"histogram\": [{\"marker\": {\"colorbar\": {\"outlinewidth\": 0, \"ticks\": \"\"}}, \"type\": \"histogram\"}], \"histogram2d\": [{\"colorbar\": {\"outlinewidth\": 0, \"ticks\": \"\"}, \"colorscale\": [[0.0, \"#0d0887\"], [0.1111111111111111, \"#46039f\"], [0.2222222222222222, \"#7201a8\"], [0.3333333333333333, \"#9c179e\"], [0.4444444444444444, \"#bd3786\"], [0.5555555555555556, \"#d8576b\"], [0.6666666666666666, \"#ed7953\"], [0.7777777777777778, \"#fb9f3a\"], [0.8888888888888888, \"#fdca26\"], [1.0, \"#f0f921\"]], \"type\": \"histogram2d\"}], \"histogram2dcontour\": [{\"colorbar\": {\"outlinewidth\": 0, \"ticks\": \"\"}, \"colorscale\": [[0.0, \"#0d0887\"], [0.1111111111111111, \"#46039f\"], [0.2222222222222222, \"#7201a8\"], [0.3333333333333333, \"#9c179e\"], [0.4444444444444444, \"#bd3786\"], [0.5555555555555556, \"#d8576b\"], [0.6666666666666666, \"#ed7953\"], [0.7777777777777778, \"#fb9f3a\"], [0.8888888888888888, \"#fdca26\"], [1.0, \"#f0f921\"]], \"type\": \"histogram2dcontour\"}], \"mesh3d\": [{\"colorbar\": {\"outlinewidth\": 0, \"ticks\": \"\"}, \"type\": \"mesh3d\"}], \"parcoords\": [{\"line\": {\"colorbar\": {\"outlinewidth\": 0, \"ticks\": \"\"}}, \"type\": \"parcoords\"}], \"pie\": [{\"automargin\": true, \"type\": \"pie\"}], \"scatter\": [{\"marker\": {\"colorbar\": {\"outlinewidth\": 0, \"ticks\": \"\"}}, \"type\": \"scatter\"}], \"scatter3d\": [{\"line\": {\"colorbar\": {\"outlinewidth\": 0, \"ticks\": \"\"}}, \"marker\": {\"colorbar\": {\"outlinewidth\": 0, \"ticks\": \"\"}}, \"type\": \"scatter3d\"}], \"scattercarpet\": [{\"marker\": {\"colorbar\": {\"outlinewidth\": 0, \"ticks\": \"\"}}, \"type\": \"scattercarpet\"}], \"scattergeo\": [{\"marker\": {\"colorbar\": {\"outlinewidth\": 0, \"ticks\": \"\"}}, \"type\": \"scattergeo\"}], \"scattergl\": [{\"marker\": {\"colorbar\": {\"outlinewidth\": 0, \"ticks\": \"\"}}, \"type\": \"scattergl\"}], \"scattermapbox\": [{\"marker\": {\"colorbar\": {\"outlinewidth\": 0, \"ticks\": \"\"}}, \"type\": \"scattermapbox\"}], \"scatterpolar\": [{\"marker\": {\"colorbar\": {\"outlinewidth\": 0, \"ticks\": \"\"}}, \"type\": \"scatterpolar\"}], \"scatterpolargl\": [{\"marker\": {\"colorbar\": {\"outlinewidth\": 0, \"ticks\": \"\"}}, \"type\": \"scatterpolargl\"}], \"scatterternary\": [{\"marker\": {\"colorbar\": {\"outlinewidth\": 0, \"ticks\": \"\"}}, \"type\": \"scatterternary\"}], \"surface\": [{\"colorbar\": {\"outlinewidth\": 0, \"ticks\": \"\"}, \"colorscale\": [[0.0, \"#0d0887\"], [0.1111111111111111, \"#46039f\"], [0.2222222222222222, \"#7201a8\"], [0.3333333333333333, \"#9c179e\"], [0.4444444444444444, \"#bd3786\"], [0.5555555555555556, \"#d8576b\"], [0.6666666666666666, \"#ed7953\"], [0.7777777777777778, \"#fb9f3a\"], [0.8888888888888888, \"#fdca26\"], [1.0, \"#f0f921\"]], \"type\": \"surface\"}], \"table\": [{\"cells\": {\"fill\": {\"color\": \"#EBF0F8\"}, \"line\": {\"color\": \"white\"}}, \"header\": {\"fill\": {\"color\": \"#C8D4E3\"}, \"line\": {\"color\": \"white\"}}, \"type\": \"table\"}]}, \"layout\": {\"annotationdefaults\": {\"arrowcolor\": \"#2a3f5f\", \"arrowhead\": 0, \"arrowwidth\": 1}, \"coloraxis\": {\"colorbar\": {\"outlinewidth\": 0, \"ticks\": \"\"}}, \"colorscale\": {\"diverging\": [[0, \"#8e0152\"], [0.1, \"#c51b7d\"], [0.2, \"#de77ae\"], [0.3, \"#f1b6da\"], [0.4, \"#fde0ef\"], [0.5, \"#f7f7f7\"], [0.6, \"#e6f5d0\"], [0.7, \"#b8e186\"], [0.8, \"#7fbc41\"], [0.9, \"#4d9221\"], [1, \"#276419\"]], \"sequential\": [[0.0, \"#0d0887\"], [0.1111111111111111, \"#46039f\"], [0.2222222222222222, \"#7201a8\"], [0.3333333333333333, \"#9c179e\"], [0.4444444444444444, \"#bd3786\"], [0.5555555555555556, \"#d8576b\"], [0.6666666666666666, \"#ed7953\"], [0.7777777777777778, \"#fb9f3a\"], [0.8888888888888888, \"#fdca26\"], [1.0, \"#f0f921\"]], \"sequentialminus\": [[0.0, \"#0d0887\"], [0.1111111111111111, \"#46039f\"], [0.2222222222222222, \"#7201a8\"], [0.3333333333333333, \"#9c179e\"], [0.4444444444444444, \"#bd3786\"], [0.5555555555555556, \"#d8576b\"], [0.6666666666666666, \"#ed7953\"], [0.7777777777777778, \"#fb9f3a\"], [0.8888888888888888, \"#fdca26\"], [1.0, \"#f0f921\"]]}, \"colorway\": [\"#636efa\", \"#EF553B\", \"#00cc96\", \"#ab63fa\", \"#FFA15A\", \"#19d3f3\", \"#FF6692\", \"#B6E880\", \"#FF97FF\", \"#FECB52\"], \"font\": {\"color\": \"#2a3f5f\"}, \"geo\": {\"bgcolor\": \"white\", \"lakecolor\": \"white\", \"landcolor\": \"#E5ECF6\", \"showlakes\": true, \"showland\": true, \"subunitcolor\": \"white\"}, \"hoverlabel\": {\"align\": \"left\"}, \"hovermode\": \"closest\", \"mapbox\": {\"style\": \"light\"}, \"paper_bgcolor\": \"white\", \"plot_bgcolor\": \"#E5ECF6\", \"polar\": {\"angularaxis\": {\"gridcolor\": \"white\", \"linecolor\": \"white\", \"ticks\": \"\"}, \"bgcolor\": \"#E5ECF6\", \"radialaxis\": {\"gridcolor\": \"white\", \"linecolor\": \"white\", \"ticks\": \"\"}}, \"scene\": {\"xaxis\": {\"backgroundcolor\": \"#E5ECF6\", \"gridcolor\": \"white\", \"gridwidth\": 2, \"linecolor\": \"white\", \"showbackground\": true, \"ticks\": \"\", \"zerolinecolor\": \"white\"}, \"yaxis\": {\"backgroundcolor\": \"#E5ECF6\", \"gridcolor\": \"white\", \"gridwidth\": 2, \"linecolor\": \"white\", \"showbackground\": true, \"ticks\": \"\", \"zerolinecolor\": \"white\"}, \"zaxis\": {\"backgroundcolor\": \"#E5ECF6\", \"gridcolor\": \"white\", \"gridwidth\": 2, \"linecolor\": \"white\", \"showbackground\": true, \"ticks\": \"\", \"zerolinecolor\": \"white\"}}, \"shapedefaults\": {\"line\": {\"color\": \"#2a3f5f\"}}, \"ternary\": {\"aaxis\": {\"gridcolor\": \"white\", \"linecolor\": \"white\", \"ticks\": \"\"}, \"baxis\": {\"gridcolor\": \"white\", \"linecolor\": \"white\", \"ticks\": \"\"}, \"bgcolor\": \"#E5ECF6\", \"caxis\": {\"gridcolor\": \"white\", \"linecolor\": \"white\", \"ticks\": \"\"}}, \"title\": {\"x\": 0.05}, \"xaxis\": {\"automargin\": true, \"gridcolor\": \"white\", \"linecolor\": \"white\", \"ticks\": \"\", \"title\": {\"standoff\": 15}, \"zerolinecolor\": \"white\", \"zerolinewidth\": 2}, \"yaxis\": {\"automargin\": true, \"gridcolor\": \"white\", \"linecolor\": \"white\", \"ticks\": \"\", \"title\": {\"standoff\": 15}, \"zerolinecolor\": \"white\", \"zerolinewidth\": 2}}}, \"title\": {\"text\": \"Death rate by state<br>(Hover for breakdown)\"}},\n",
       "                        {\"responsive\": true}\n",
       "                    ).then(function(){\n",
       "                            \n",
       "var gd = document.getElementById('068af14c-f87e-4e0d-b4ed-273bbb49f93a');\n",
       "var x = new MutationObserver(function (mutations, observer) {{\n",
       "        var display = window.getComputedStyle(gd).display;\n",
       "        if (!display || display === 'none') {{\n",
       "            console.log([gd, 'removed!']);\n",
       "            Plotly.purge(gd);\n",
       "            observer.disconnect();\n",
       "        }}\n",
       "}});\n",
       "\n",
       "// Listen for the removal of the full notebook cells\n",
       "var notebookContainer = gd.closest('#notebook-container');\n",
       "if (notebookContainer) {{\n",
       "    x.observe(notebookContainer, {childList: true});\n",
       "}}\n",
       "\n",
       "// Listen for the clearing of the current output cell\n",
       "var outputEl = gd.closest('.output');\n",
       "if (outputEl) {{\n",
       "    x.observe(outputEl, {childList: true});\n",
       "}}\n",
       "\n",
       "                        })\n",
       "                };\n",
       "                });\n",
       "            </script>\n",
       "        </div>"
      ]
     },
     "metadata": {},
     "output_type": "display_data"
    }
   ],
   "source": [
    "#scale = 1000\n",
    "fig = go.Figure(data=go.Choropleth(\n",
    "    locations=df2['state'],\n",
    "    z=df2['pct_death_over_positive'],\n",
    "    locationmode='USA-states',\n",
    "    colorscale='Oranges',\n",
    "    autocolorscale=False,\n",
    "    text=df2['text'], # hover text\n",
    "    marker_line_color='white', # line markers between states\n",
    "    colorbar_title=\"Death rate in %\"\n",
    "))\n",
    "\n",
    "fig.update_layout(\n",
    "    title_text='Death rate by state<br>(Hover for breakdown)',\n",
    "    geo = dict(\n",
    "        scope='usa',\n",
    "        projection=go.layout.geo.Projection(type = 'albers usa'),\n",
    "        showlakes=True, # lakes\n",
    "        lakecolor='rgb(255, 255, 255)'),\n",
    ")\n",
    "fig.show();"
   ]
  },
  {
   "cell_type": "code",
   "execution_count": 39,
   "metadata": {
    "ExecuteTime": {
     "end_time": "2020-04-09T15:50:09.748334Z",
     "start_time": "2020-04-09T15:50:09.529973Z"
    }
   },
   "outputs": [
    {
     "data": {
      "application/vnd.plotly.v1+json": {
       "config": {
        "plotlyServerURL": "https://plot.ly"
       },
       "data": [
        {
         "autocolorscale": false,
         "colorbar": {
          "title": {
           "text": "Percent of state population tested (in %)"
          }
         },
         "colorscale": [
          [
           0,
           "rgb(255,245,235)"
          ],
          [
           0.125,
           "rgb(254,230,206)"
          ],
          [
           0.25,
           "rgb(253,208,162)"
          ],
          [
           0.375,
           "rgb(253,174,107)"
          ],
          [
           0.5,
           "rgb(253,141,60)"
          ],
          [
           0.625,
           "rgb(241,105,19)"
          ],
          [
           0.75,
           "rgb(217,72,1)"
          ],
          [
           0.875,
           "rgb(166,54,3)"
          ],
          [
           1,
           "rgb(127,39,4)"
          ]
         ],
         "locationmode": "USA-states",
         "locations": [
          "AR",
          "TX",
          "OR",
          "ME",
          "AK",
          "MI",
          "ND",
          "NM",
          "MS",
          "AZ",
          "FL",
          "MN",
          "NY",
          "SD",
          "UT",
          "MT",
          "CA",
          "LA",
          "DE",
          "WA",
          "NV",
          "IL",
          "ID",
          "DC",
          "RI",
          "AL",
          "OK",
          "NH",
          "TN",
          "WY",
          "CT",
          "KY",
          "VT",
          "IN",
          "SC",
          "OH",
          "MA",
          "NE",
          "WV",
          "NC",
          "MO",
          "NJ",
          "MD",
          "KS",
          "CO",
          "HI",
          "PA",
          "IA",
          "GA",
          "VA",
          "WI"
         ],
         "marker": {
          "line": {
           "color": "white"
          }
         },
         "text": [
          "AR\nPositive: 1000.0, Deaths: 18.0, Negative: 13530.0, Total Tested: 14530",
          "TX\nPositive: 9353.0, Deaths: 177.0, Negative: 86905.0, Total Tested: 96258",
          "OR\nPositive: 1181.0, Deaths: 33.0, Negative: 21826.0, Total Tested: 23007",
          "ME\nPositive: 537.0, Deaths: 14.0, Negative: 6088.0, Total Tested: 6625",
          "AK\nPositive: 226.0, Deaths: 7.0, Negative: 6842.0, Total Tested: 7068",
          "MI\nPositive: 20346.0, Deaths: 959.0, Negative: 31362.0, Total Tested: 51708",
          "ND\nPositive: 251.0, Deaths: 4.0, Negative: 8301.0, Total Tested: 8552",
          "NM\nPositive: 794.0, Deaths: 13.0, Negative: 21451.0, Total Tested: 22245",
          "MS\nPositive: 2003.0, Deaths: 67.0, Negative: 18632.0, Total Tested: 20635",
          "AZ\nPositive: 2726.0, Deaths: 80.0, Negative: 31838.0, Total Tested: 34564",
          "FL\nPositive: 15455.0, Deaths: 309.0, Negative: 127679.0, Total Tested: 144458",
          "MN\nPositive: 1154.0, Deaths: 39.0, Negative: 29599.0, Total Tested: 30753",
          "NY\nPositive: 149316.0, Deaths: 6268.0, Negative: 215837.0, Total Tested: 365153",
          "SD\nPositive: 393.0, Deaths: 6.0, Negative: 6355.0, Total Tested: 6748",
          "UT\nPositive: 1846.0, Deaths: 13.0, Negative: 34270.0, Total Tested: 36116",
          "MT\nPositive: 332.0, Deaths: 6.0, Negative: 7066.0, Total Tested: 7398",
          "CA\nPositive: 16957.0, Deaths: 442.0, Negative: 127307.0, Total Tested: 158864",
          "LA\nPositive: 17030.0, Deaths: 652.0, Negative: 64376.0, Total Tested: 81406",
          "DE\nPositive: 928.0, Deaths: 16.0, Negative: 7628.0, Total Tested: 8556",
          "WA\nPositive: 8682.0, Deaths: 394.0, Negative: 83391.0, Total Tested: 92073",
          "NV\nPositive: 2318.0, Deaths: 71.0, Negative: 18248.0, Total Tested: 20566",
          "IL\nPositive: 15078.0, Deaths: 462.0, Negative: 59988.0, Total Tested: 75066",
          "ID\nPositive: 1210.0, Deaths: 15.0, Negative: 10688.0, Total Tested: 11898",
          "DC\nPositive: 1440.0, Deaths: 27.0, Negative: 6843.0, Total Tested: 8283",
          "RI\nPositive: 1450.0, Deaths: 35.0, Negative: 10682.0, Total Tested: 12132",
          "AL\nPositive: 2369.0, Deaths: 66.0, Negative: 16753.0, Total Tested: 19122",
          "OK\nPositive: 1524.0, Deaths: 79.0, Negative: 11821.0, Total Tested: 13345",
          "NH\nPositive: 788.0, Deaths: 18.0, Negative: 8389.0, Total Tested: 9266",
          "TN\nPositive: 4362.0, Deaths: 79.0, Negative: 52256.0, Total Tested: 56618",
          "WY\nPositive: 221.0, Deaths: 0.0, Negative: 3843.0, Total Tested: 4064",
          "CT\nPositive: 7781.0, Deaths: 277.0, Negative: 21255.0, Total Tested: 29036",
          "KY\nPositive: 1149.0, Deaths: 65.0, Negative: 20455.0, Total Tested: 21604",
          "VT\nPositive: 605.0, Deaths: 23.0, Negative: 7144.0, Total Tested: 7749",
          "IN\nPositive: 5943.0, Deaths: 203.0, Negative: 24926.0, Total Tested: 30869",
          "SC\nPositive: 2552.0, Deaths: 63.0, Negative: 22082.0, Total Tested: 24634",
          "OH\nPositive: 5148.0, Deaths: 193.0, Negative: 48193.0, Total Tested: 53341",
          "MA\nPositive: 16790.0, Deaths: 433.0, Negative: 70721.0, Total Tested: 87511",
          "NE\nPositive: 519.0, Deaths: 12.0, Negative: 7442.0, Total Tested: 7961",
          "WV\nPositive: 462.0, Deaths: 4.0, Negative: 12083.0, Total Tested: 12545",
          "NC\nPositive: 3426.0, Deaths: 53.0, Negative: 39561.0, Total Tested: 42987",
          "MO\nPositive: 3327.0, Deaths: 58.0, Negative: 30783.0, Total Tested: 34110",
          "NJ\nPositive: 47437.0, Deaths: 1504.0, Negative: 52979.0, Total Tested: 100416",
          "MD\nPositive: 5529.0, Deaths: 124.0, Negative: 32933.0, Total Tested: 38462",
          "KS\nPositive: 900.0, Deaths: 27.0, Negative: 8614.0, Total Tested: 9514",
          "CO\nPositive: 5429.0, Deaths: 179.0, Negative: 22665.0, Total Tested: 28094",
          "HI\nPositive: 410.0, Deaths: 5.0, Negative: 14739.0, Total Tested: 15149",
          "PA\nPositive: 16239.0, Deaths: 309.0, Negative: 82299.0, Total Tested: 98538",
          "IA\nPositive: 1145.0, Deaths: 27.0, Negative: 12821.0, Total Tested: 13966",
          "GA\nPositive: 9901.0, Deaths: 362.0, Negative: 28886.0, Total Tested: 38787",
          "VA\nPositive: 3645.0, Deaths: 75.0, Negative: 27000.0, Total Tested: 30645",
          "WI\nPositive: 2756.0, Deaths: 99.0, Negative: 30115.0, Total Tested: 32871"
         ],
         "type": "choropleth",
         "z": [
          0.48147593415609496,
          0.33197128930140113,
          0.5454820914627915,
          0.49285380579849014,
          0.9661743296721323,
          0.5177604926154444,
          1.1222184021772508,
          1.0608876546442272,
          0.6933456624651521,
          0.47486390802115264,
          0.6725941378274629,
          0.5453015374052775,
          1.87704965687259,
          0.7627797829446148,
          1.1265275465243152,
          0.692192391684709,
          0.4020629261988119,
          1.7511208283266584,
          0.8786523223286136,
          1.209117449188058,
          0.6676934544873702,
          0.5923852617551968,
          0.6657844006793262,
          1.173646721426456,
          1.1452186742762853,
          0.3899914035468782,
          0.33725291390813833,
          0.6814683414343196,
          0.829060732674259,
          0.7021921041400653,
          0.8144084894147372,
          0.48356269583740796,
          1.241848814642566,
          0.45852637889527953,
          0.47844957012566636,
          0.4563311118905647,
          1.2696548699362191,
          0.4115470986472347,
          0.6999983818291692,
          0.4098651383798986,
          0.555770267284602,
          1.130531997176372,
          0.6361898082597822,
          0.32656967288798944,
          0.48785011155225727,
          1.0699413506305655,
          0.7697085195120852,
          0.44265261943475104,
          0.36531463425729577,
          0.3590291346079834,
          0.5645577090268434
         ]
        }
       ],
       "layout": {
        "geo": {
         "lakecolor": "rgb(255, 255, 255)",
         "projection": {
          "type": "albers usa"
         },
         "scope": "usa",
         "showlakes": true
        },
        "template": {
         "data": {
          "bar": [
           {
            "error_x": {
             "color": "#2a3f5f"
            },
            "error_y": {
             "color": "#2a3f5f"
            },
            "marker": {
             "line": {
              "color": "#E5ECF6",
              "width": 0.5
             }
            },
            "type": "bar"
           }
          ],
          "barpolar": [
           {
            "marker": {
             "line": {
              "color": "#E5ECF6",
              "width": 0.5
             }
            },
            "type": "barpolar"
           }
          ],
          "carpet": [
           {
            "aaxis": {
             "endlinecolor": "#2a3f5f",
             "gridcolor": "white",
             "linecolor": "white",
             "minorgridcolor": "white",
             "startlinecolor": "#2a3f5f"
            },
            "baxis": {
             "endlinecolor": "#2a3f5f",
             "gridcolor": "white",
             "linecolor": "white",
             "minorgridcolor": "white",
             "startlinecolor": "#2a3f5f"
            },
            "type": "carpet"
           }
          ],
          "choropleth": [
           {
            "colorbar": {
             "outlinewidth": 0,
             "ticks": ""
            },
            "type": "choropleth"
           }
          ],
          "contour": [
           {
            "colorbar": {
             "outlinewidth": 0,
             "ticks": ""
            },
            "colorscale": [
             [
              0,
              "#0d0887"
             ],
             [
              0.1111111111111111,
              "#46039f"
             ],
             [
              0.2222222222222222,
              "#7201a8"
             ],
             [
              0.3333333333333333,
              "#9c179e"
             ],
             [
              0.4444444444444444,
              "#bd3786"
             ],
             [
              0.5555555555555556,
              "#d8576b"
             ],
             [
              0.6666666666666666,
              "#ed7953"
             ],
             [
              0.7777777777777778,
              "#fb9f3a"
             ],
             [
              0.8888888888888888,
              "#fdca26"
             ],
             [
              1,
              "#f0f921"
             ]
            ],
            "type": "contour"
           }
          ],
          "contourcarpet": [
           {
            "colorbar": {
             "outlinewidth": 0,
             "ticks": ""
            },
            "type": "contourcarpet"
           }
          ],
          "heatmap": [
           {
            "colorbar": {
             "outlinewidth": 0,
             "ticks": ""
            },
            "colorscale": [
             [
              0,
              "#0d0887"
             ],
             [
              0.1111111111111111,
              "#46039f"
             ],
             [
              0.2222222222222222,
              "#7201a8"
             ],
             [
              0.3333333333333333,
              "#9c179e"
             ],
             [
              0.4444444444444444,
              "#bd3786"
             ],
             [
              0.5555555555555556,
              "#d8576b"
             ],
             [
              0.6666666666666666,
              "#ed7953"
             ],
             [
              0.7777777777777778,
              "#fb9f3a"
             ],
             [
              0.8888888888888888,
              "#fdca26"
             ],
             [
              1,
              "#f0f921"
             ]
            ],
            "type": "heatmap"
           }
          ],
          "heatmapgl": [
           {
            "colorbar": {
             "outlinewidth": 0,
             "ticks": ""
            },
            "colorscale": [
             [
              0,
              "#0d0887"
             ],
             [
              0.1111111111111111,
              "#46039f"
             ],
             [
              0.2222222222222222,
              "#7201a8"
             ],
             [
              0.3333333333333333,
              "#9c179e"
             ],
             [
              0.4444444444444444,
              "#bd3786"
             ],
             [
              0.5555555555555556,
              "#d8576b"
             ],
             [
              0.6666666666666666,
              "#ed7953"
             ],
             [
              0.7777777777777778,
              "#fb9f3a"
             ],
             [
              0.8888888888888888,
              "#fdca26"
             ],
             [
              1,
              "#f0f921"
             ]
            ],
            "type": "heatmapgl"
           }
          ],
          "histogram": [
           {
            "marker": {
             "colorbar": {
              "outlinewidth": 0,
              "ticks": ""
             }
            },
            "type": "histogram"
           }
          ],
          "histogram2d": [
           {
            "colorbar": {
             "outlinewidth": 0,
             "ticks": ""
            },
            "colorscale": [
             [
              0,
              "#0d0887"
             ],
             [
              0.1111111111111111,
              "#46039f"
             ],
             [
              0.2222222222222222,
              "#7201a8"
             ],
             [
              0.3333333333333333,
              "#9c179e"
             ],
             [
              0.4444444444444444,
              "#bd3786"
             ],
             [
              0.5555555555555556,
              "#d8576b"
             ],
             [
              0.6666666666666666,
              "#ed7953"
             ],
             [
              0.7777777777777778,
              "#fb9f3a"
             ],
             [
              0.8888888888888888,
              "#fdca26"
             ],
             [
              1,
              "#f0f921"
             ]
            ],
            "type": "histogram2d"
           }
          ],
          "histogram2dcontour": [
           {
            "colorbar": {
             "outlinewidth": 0,
             "ticks": ""
            },
            "colorscale": [
             [
              0,
              "#0d0887"
             ],
             [
              0.1111111111111111,
              "#46039f"
             ],
             [
              0.2222222222222222,
              "#7201a8"
             ],
             [
              0.3333333333333333,
              "#9c179e"
             ],
             [
              0.4444444444444444,
              "#bd3786"
             ],
             [
              0.5555555555555556,
              "#d8576b"
             ],
             [
              0.6666666666666666,
              "#ed7953"
             ],
             [
              0.7777777777777778,
              "#fb9f3a"
             ],
             [
              0.8888888888888888,
              "#fdca26"
             ],
             [
              1,
              "#f0f921"
             ]
            ],
            "type": "histogram2dcontour"
           }
          ],
          "mesh3d": [
           {
            "colorbar": {
             "outlinewidth": 0,
             "ticks": ""
            },
            "type": "mesh3d"
           }
          ],
          "parcoords": [
           {
            "line": {
             "colorbar": {
              "outlinewidth": 0,
              "ticks": ""
             }
            },
            "type": "parcoords"
           }
          ],
          "pie": [
           {
            "automargin": true,
            "type": "pie"
           }
          ],
          "scatter": [
           {
            "marker": {
             "colorbar": {
              "outlinewidth": 0,
              "ticks": ""
             }
            },
            "type": "scatter"
           }
          ],
          "scatter3d": [
           {
            "line": {
             "colorbar": {
              "outlinewidth": 0,
              "ticks": ""
             }
            },
            "marker": {
             "colorbar": {
              "outlinewidth": 0,
              "ticks": ""
             }
            },
            "type": "scatter3d"
           }
          ],
          "scattercarpet": [
           {
            "marker": {
             "colorbar": {
              "outlinewidth": 0,
              "ticks": ""
             }
            },
            "type": "scattercarpet"
           }
          ],
          "scattergeo": [
           {
            "marker": {
             "colorbar": {
              "outlinewidth": 0,
              "ticks": ""
             }
            },
            "type": "scattergeo"
           }
          ],
          "scattergl": [
           {
            "marker": {
             "colorbar": {
              "outlinewidth": 0,
              "ticks": ""
             }
            },
            "type": "scattergl"
           }
          ],
          "scattermapbox": [
           {
            "marker": {
             "colorbar": {
              "outlinewidth": 0,
              "ticks": ""
             }
            },
            "type": "scattermapbox"
           }
          ],
          "scatterpolar": [
           {
            "marker": {
             "colorbar": {
              "outlinewidth": 0,
              "ticks": ""
             }
            },
            "type": "scatterpolar"
           }
          ],
          "scatterpolargl": [
           {
            "marker": {
             "colorbar": {
              "outlinewidth": 0,
              "ticks": ""
             }
            },
            "type": "scatterpolargl"
           }
          ],
          "scatterternary": [
           {
            "marker": {
             "colorbar": {
              "outlinewidth": 0,
              "ticks": ""
             }
            },
            "type": "scatterternary"
           }
          ],
          "surface": [
           {
            "colorbar": {
             "outlinewidth": 0,
             "ticks": ""
            },
            "colorscale": [
             [
              0,
              "#0d0887"
             ],
             [
              0.1111111111111111,
              "#46039f"
             ],
             [
              0.2222222222222222,
              "#7201a8"
             ],
             [
              0.3333333333333333,
              "#9c179e"
             ],
             [
              0.4444444444444444,
              "#bd3786"
             ],
             [
              0.5555555555555556,
              "#d8576b"
             ],
             [
              0.6666666666666666,
              "#ed7953"
             ],
             [
              0.7777777777777778,
              "#fb9f3a"
             ],
             [
              0.8888888888888888,
              "#fdca26"
             ],
             [
              1,
              "#f0f921"
             ]
            ],
            "type": "surface"
           }
          ],
          "table": [
           {
            "cells": {
             "fill": {
              "color": "#EBF0F8"
             },
             "line": {
              "color": "white"
             }
            },
            "header": {
             "fill": {
              "color": "#C8D4E3"
             },
             "line": {
              "color": "white"
             }
            },
            "type": "table"
           }
          ]
         },
         "layout": {
          "annotationdefaults": {
           "arrowcolor": "#2a3f5f",
           "arrowhead": 0,
           "arrowwidth": 1
          },
          "coloraxis": {
           "colorbar": {
            "outlinewidth": 0,
            "ticks": ""
           }
          },
          "colorscale": {
           "diverging": [
            [
             0,
             "#8e0152"
            ],
            [
             0.1,
             "#c51b7d"
            ],
            [
             0.2,
             "#de77ae"
            ],
            [
             0.3,
             "#f1b6da"
            ],
            [
             0.4,
             "#fde0ef"
            ],
            [
             0.5,
             "#f7f7f7"
            ],
            [
             0.6,
             "#e6f5d0"
            ],
            [
             0.7,
             "#b8e186"
            ],
            [
             0.8,
             "#7fbc41"
            ],
            [
             0.9,
             "#4d9221"
            ],
            [
             1,
             "#276419"
            ]
           ],
           "sequential": [
            [
             0,
             "#0d0887"
            ],
            [
             0.1111111111111111,
             "#46039f"
            ],
            [
             0.2222222222222222,
             "#7201a8"
            ],
            [
             0.3333333333333333,
             "#9c179e"
            ],
            [
             0.4444444444444444,
             "#bd3786"
            ],
            [
             0.5555555555555556,
             "#d8576b"
            ],
            [
             0.6666666666666666,
             "#ed7953"
            ],
            [
             0.7777777777777778,
             "#fb9f3a"
            ],
            [
             0.8888888888888888,
             "#fdca26"
            ],
            [
             1,
             "#f0f921"
            ]
           ],
           "sequentialminus": [
            [
             0,
             "#0d0887"
            ],
            [
             0.1111111111111111,
             "#46039f"
            ],
            [
             0.2222222222222222,
             "#7201a8"
            ],
            [
             0.3333333333333333,
             "#9c179e"
            ],
            [
             0.4444444444444444,
             "#bd3786"
            ],
            [
             0.5555555555555556,
             "#d8576b"
            ],
            [
             0.6666666666666666,
             "#ed7953"
            ],
            [
             0.7777777777777778,
             "#fb9f3a"
            ],
            [
             0.8888888888888888,
             "#fdca26"
            ],
            [
             1,
             "#f0f921"
            ]
           ]
          },
          "colorway": [
           "#636efa",
           "#EF553B",
           "#00cc96",
           "#ab63fa",
           "#FFA15A",
           "#19d3f3",
           "#FF6692",
           "#B6E880",
           "#FF97FF",
           "#FECB52"
          ],
          "font": {
           "color": "#2a3f5f"
          },
          "geo": {
           "bgcolor": "white",
           "lakecolor": "white",
           "landcolor": "#E5ECF6",
           "showlakes": true,
           "showland": true,
           "subunitcolor": "white"
          },
          "hoverlabel": {
           "align": "left"
          },
          "hovermode": "closest",
          "mapbox": {
           "style": "light"
          },
          "paper_bgcolor": "white",
          "plot_bgcolor": "#E5ECF6",
          "polar": {
           "angularaxis": {
            "gridcolor": "white",
            "linecolor": "white",
            "ticks": ""
           },
           "bgcolor": "#E5ECF6",
           "radialaxis": {
            "gridcolor": "white",
            "linecolor": "white",
            "ticks": ""
           }
          },
          "scene": {
           "xaxis": {
            "backgroundcolor": "#E5ECF6",
            "gridcolor": "white",
            "gridwidth": 2,
            "linecolor": "white",
            "showbackground": true,
            "ticks": "",
            "zerolinecolor": "white"
           },
           "yaxis": {
            "backgroundcolor": "#E5ECF6",
            "gridcolor": "white",
            "gridwidth": 2,
            "linecolor": "white",
            "showbackground": true,
            "ticks": "",
            "zerolinecolor": "white"
           },
           "zaxis": {
            "backgroundcolor": "#E5ECF6",
            "gridcolor": "white",
            "gridwidth": 2,
            "linecolor": "white",
            "showbackground": true,
            "ticks": "",
            "zerolinecolor": "white"
           }
          },
          "shapedefaults": {
           "line": {
            "color": "#2a3f5f"
           }
          },
          "ternary": {
           "aaxis": {
            "gridcolor": "white",
            "linecolor": "white",
            "ticks": ""
           },
           "baxis": {
            "gridcolor": "white",
            "linecolor": "white",
            "ticks": ""
           },
           "bgcolor": "#E5ECF6",
           "caxis": {
            "gridcolor": "white",
            "linecolor": "white",
            "ticks": ""
           }
          },
          "title": {
           "x": 0.05
          },
          "xaxis": {
           "automargin": true,
           "gridcolor": "white",
           "linecolor": "white",
           "ticks": "",
           "title": {
            "standoff": 15
           },
           "zerolinecolor": "white",
           "zerolinewidth": 2
          },
          "yaxis": {
           "automargin": true,
           "gridcolor": "white",
           "linecolor": "white",
           "ticks": "",
           "title": {
            "standoff": 15
           },
           "zerolinecolor": "white",
           "zerolinewidth": 2
          }
         }
        },
        "title": {
         "text": "Percent of State Population tested<br>(Hover for breakdown)"
        }
       }
      },
      "text/html": [
       "<div>\n",
       "        \n",
       "        \n",
       "            <div id=\"465bf254-714b-4158-9a89-d18b1ab59a18\" class=\"plotly-graph-div\" style=\"height:525px; width:100%;\"></div>\n",
       "            <script type=\"text/javascript\">\n",
       "                require([\"plotly\"], function(Plotly) {\n",
       "                    window.PLOTLYENV=window.PLOTLYENV || {};\n",
       "                    \n",
       "                if (document.getElementById(\"465bf254-714b-4158-9a89-d18b1ab59a18\")) {\n",
       "                    Plotly.newPlot(\n",
       "                        '465bf254-714b-4158-9a89-d18b1ab59a18',\n",
       "                        [{\"autocolorscale\": false, \"colorbar\": {\"title\": {\"text\": \"Percent of state population tested (in %)\"}}, \"colorscale\": [[0.0, \"rgb(255,245,235)\"], [0.125, \"rgb(254,230,206)\"], [0.25, \"rgb(253,208,162)\"], [0.375, \"rgb(253,174,107)\"], [0.5, \"rgb(253,141,60)\"], [0.625, \"rgb(241,105,19)\"], [0.75, \"rgb(217,72,1)\"], [0.875, \"rgb(166,54,3)\"], [1.0, \"rgb(127,39,4)\"]], \"locationmode\": \"USA-states\", \"locations\": [\"AR\", \"TX\", \"OR\", \"ME\", \"AK\", \"MI\", \"ND\", \"NM\", \"MS\", \"AZ\", \"FL\", \"MN\", \"NY\", \"SD\", \"UT\", \"MT\", \"CA\", \"LA\", \"DE\", \"WA\", \"NV\", \"IL\", \"ID\", \"DC\", \"RI\", \"AL\", \"OK\", \"NH\", \"TN\", \"WY\", \"CT\", \"KY\", \"VT\", \"IN\", \"SC\", \"OH\", \"MA\", \"NE\", \"WV\", \"NC\", \"MO\", \"NJ\", \"MD\", \"KS\", \"CO\", \"HI\", \"PA\", \"IA\", \"GA\", \"VA\", \"WI\"], \"marker\": {\"line\": {\"color\": \"white\"}}, \"text\": [\"AR\\nPositive: 1000.0, Deaths: 18.0, Negative: 13530.0, Total Tested: 14530\", \"TX\\nPositive: 9353.0, Deaths: 177.0, Negative: 86905.0, Total Tested: 96258\", \"OR\\nPositive: 1181.0, Deaths: 33.0, Negative: 21826.0, Total Tested: 23007\", \"ME\\nPositive: 537.0, Deaths: 14.0, Negative: 6088.0, Total Tested: 6625\", \"AK\\nPositive: 226.0, Deaths: 7.0, Negative: 6842.0, Total Tested: 7068\", \"MI\\nPositive: 20346.0, Deaths: 959.0, Negative: 31362.0, Total Tested: 51708\", \"ND\\nPositive: 251.0, Deaths: 4.0, Negative: 8301.0, Total Tested: 8552\", \"NM\\nPositive: 794.0, Deaths: 13.0, Negative: 21451.0, Total Tested: 22245\", \"MS\\nPositive: 2003.0, Deaths: 67.0, Negative: 18632.0, Total Tested: 20635\", \"AZ\\nPositive: 2726.0, Deaths: 80.0, Negative: 31838.0, Total Tested: 34564\", \"FL\\nPositive: 15455.0, Deaths: 309.0, Negative: 127679.0, Total Tested: 144458\", \"MN\\nPositive: 1154.0, Deaths: 39.0, Negative: 29599.0, Total Tested: 30753\", \"NY\\nPositive: 149316.0, Deaths: 6268.0, Negative: 215837.0, Total Tested: 365153\", \"SD\\nPositive: 393.0, Deaths: 6.0, Negative: 6355.0, Total Tested: 6748\", \"UT\\nPositive: 1846.0, Deaths: 13.0, Negative: 34270.0, Total Tested: 36116\", \"MT\\nPositive: 332.0, Deaths: 6.0, Negative: 7066.0, Total Tested: 7398\", \"CA\\nPositive: 16957.0, Deaths: 442.0, Negative: 127307.0, Total Tested: 158864\", \"LA\\nPositive: 17030.0, Deaths: 652.0, Negative: 64376.0, Total Tested: 81406\", \"DE\\nPositive: 928.0, Deaths: 16.0, Negative: 7628.0, Total Tested: 8556\", \"WA\\nPositive: 8682.0, Deaths: 394.0, Negative: 83391.0, Total Tested: 92073\", \"NV\\nPositive: 2318.0, Deaths: 71.0, Negative: 18248.0, Total Tested: 20566\", \"IL\\nPositive: 15078.0, Deaths: 462.0, Negative: 59988.0, Total Tested: 75066\", \"ID\\nPositive: 1210.0, Deaths: 15.0, Negative: 10688.0, Total Tested: 11898\", \"DC\\nPositive: 1440.0, Deaths: 27.0, Negative: 6843.0, Total Tested: 8283\", \"RI\\nPositive: 1450.0, Deaths: 35.0, Negative: 10682.0, Total Tested: 12132\", \"AL\\nPositive: 2369.0, Deaths: 66.0, Negative: 16753.0, Total Tested: 19122\", \"OK\\nPositive: 1524.0, Deaths: 79.0, Negative: 11821.0, Total Tested: 13345\", \"NH\\nPositive: 788.0, Deaths: 18.0, Negative: 8389.0, Total Tested: 9266\", \"TN\\nPositive: 4362.0, Deaths: 79.0, Negative: 52256.0, Total Tested: 56618\", \"WY\\nPositive: 221.0, Deaths: 0.0, Negative: 3843.0, Total Tested: 4064\", \"CT\\nPositive: 7781.0, Deaths: 277.0, Negative: 21255.0, Total Tested: 29036\", \"KY\\nPositive: 1149.0, Deaths: 65.0, Negative: 20455.0, Total Tested: 21604\", \"VT\\nPositive: 605.0, Deaths: 23.0, Negative: 7144.0, Total Tested: 7749\", \"IN\\nPositive: 5943.0, Deaths: 203.0, Negative: 24926.0, Total Tested: 30869\", \"SC\\nPositive: 2552.0, Deaths: 63.0, Negative: 22082.0, Total Tested: 24634\", \"OH\\nPositive: 5148.0, Deaths: 193.0, Negative: 48193.0, Total Tested: 53341\", \"MA\\nPositive: 16790.0, Deaths: 433.0, Negative: 70721.0, Total Tested: 87511\", \"NE\\nPositive: 519.0, Deaths: 12.0, Negative: 7442.0, Total Tested: 7961\", \"WV\\nPositive: 462.0, Deaths: 4.0, Negative: 12083.0, Total Tested: 12545\", \"NC\\nPositive: 3426.0, Deaths: 53.0, Negative: 39561.0, Total Tested: 42987\", \"MO\\nPositive: 3327.0, Deaths: 58.0, Negative: 30783.0, Total Tested: 34110\", \"NJ\\nPositive: 47437.0, Deaths: 1504.0, Negative: 52979.0, Total Tested: 100416\", \"MD\\nPositive: 5529.0, Deaths: 124.0, Negative: 32933.0, Total Tested: 38462\", \"KS\\nPositive: 900.0, Deaths: 27.0, Negative: 8614.0, Total Tested: 9514\", \"CO\\nPositive: 5429.0, Deaths: 179.0, Negative: 22665.0, Total Tested: 28094\", \"HI\\nPositive: 410.0, Deaths: 5.0, Negative: 14739.0, Total Tested: 15149\", \"PA\\nPositive: 16239.0, Deaths: 309.0, Negative: 82299.0, Total Tested: 98538\", \"IA\\nPositive: 1145.0, Deaths: 27.0, Negative: 12821.0, Total Tested: 13966\", \"GA\\nPositive: 9901.0, Deaths: 362.0, Negative: 28886.0, Total Tested: 38787\", \"VA\\nPositive: 3645.0, Deaths: 75.0, Negative: 27000.0, Total Tested: 30645\", \"WI\\nPositive: 2756.0, Deaths: 99.0, Negative: 30115.0, Total Tested: 32871\"], \"type\": \"choropleth\", \"z\": [0.48147593415609496, 0.33197128930140113, 0.5454820914627915, 0.49285380579849014, 0.9661743296721323, 0.5177604926154444, 1.1222184021772508, 1.0608876546442272, 0.6933456624651521, 0.47486390802115264, 0.6725941378274629, 0.5453015374052775, 1.87704965687259, 0.7627797829446148, 1.1265275465243152, 0.692192391684709, 0.4020629261988119, 1.7511208283266584, 0.8786523223286136, 1.209117449188058, 0.6676934544873702, 0.5923852617551968, 0.6657844006793262, 1.173646721426456, 1.1452186742762853, 0.3899914035468782, 0.33725291390813833, 0.6814683414343196, 0.829060732674259, 0.7021921041400653, 0.8144084894147372, 0.48356269583740796, 1.241848814642566, 0.45852637889527953, 0.47844957012566636, 0.4563311118905647, 1.2696548699362191, 0.4115470986472347, 0.6999983818291692, 0.4098651383798986, 0.555770267284602, 1.130531997176372, 0.6361898082597822, 0.32656967288798944, 0.48785011155225727, 1.0699413506305655, 0.7697085195120852, 0.44265261943475104, 0.36531463425729577, 0.3590291346079834, 0.5645577090268434]}],\n",
       "                        {\"geo\": {\"lakecolor\": \"rgb(255, 255, 255)\", \"projection\": {\"type\": \"albers usa\"}, \"scope\": \"usa\", \"showlakes\": true}, \"template\": {\"data\": {\"bar\": [{\"error_x\": {\"color\": \"#2a3f5f\"}, \"error_y\": {\"color\": \"#2a3f5f\"}, \"marker\": {\"line\": {\"color\": \"#E5ECF6\", \"width\": 0.5}}, \"type\": \"bar\"}], \"barpolar\": [{\"marker\": {\"line\": {\"color\": \"#E5ECF6\", \"width\": 0.5}}, \"type\": \"barpolar\"}], \"carpet\": [{\"aaxis\": {\"endlinecolor\": \"#2a3f5f\", \"gridcolor\": \"white\", \"linecolor\": \"white\", \"minorgridcolor\": \"white\", \"startlinecolor\": \"#2a3f5f\"}, \"baxis\": {\"endlinecolor\": \"#2a3f5f\", \"gridcolor\": \"white\", \"linecolor\": \"white\", \"minorgridcolor\": \"white\", \"startlinecolor\": \"#2a3f5f\"}, \"type\": \"carpet\"}], \"choropleth\": [{\"colorbar\": {\"outlinewidth\": 0, \"ticks\": \"\"}, \"type\": \"choropleth\"}], \"contour\": [{\"colorbar\": {\"outlinewidth\": 0, \"ticks\": \"\"}, \"colorscale\": [[0.0, \"#0d0887\"], [0.1111111111111111, \"#46039f\"], [0.2222222222222222, \"#7201a8\"], [0.3333333333333333, \"#9c179e\"], [0.4444444444444444, \"#bd3786\"], [0.5555555555555556, \"#d8576b\"], [0.6666666666666666, \"#ed7953\"], [0.7777777777777778, \"#fb9f3a\"], [0.8888888888888888, \"#fdca26\"], [1.0, \"#f0f921\"]], \"type\": \"contour\"}], \"contourcarpet\": [{\"colorbar\": {\"outlinewidth\": 0, \"ticks\": \"\"}, \"type\": \"contourcarpet\"}], \"heatmap\": [{\"colorbar\": {\"outlinewidth\": 0, \"ticks\": \"\"}, \"colorscale\": [[0.0, \"#0d0887\"], [0.1111111111111111, \"#46039f\"], [0.2222222222222222, \"#7201a8\"], [0.3333333333333333, \"#9c179e\"], [0.4444444444444444, \"#bd3786\"], [0.5555555555555556, \"#d8576b\"], [0.6666666666666666, \"#ed7953\"], [0.7777777777777778, \"#fb9f3a\"], [0.8888888888888888, \"#fdca26\"], [1.0, \"#f0f921\"]], \"type\": \"heatmap\"}], \"heatmapgl\": [{\"colorbar\": {\"outlinewidth\": 0, \"ticks\": \"\"}, \"colorscale\": [[0.0, \"#0d0887\"], [0.1111111111111111, \"#46039f\"], [0.2222222222222222, \"#7201a8\"], [0.3333333333333333, \"#9c179e\"], [0.4444444444444444, \"#bd3786\"], [0.5555555555555556, \"#d8576b\"], [0.6666666666666666, \"#ed7953\"], [0.7777777777777778, \"#fb9f3a\"], [0.8888888888888888, \"#fdca26\"], [1.0, \"#f0f921\"]], \"type\": \"heatmapgl\"}], \"histogram\": [{\"marker\": {\"colorbar\": {\"outlinewidth\": 0, \"ticks\": \"\"}}, \"type\": \"histogram\"}], \"histogram2d\": [{\"colorbar\": {\"outlinewidth\": 0, \"ticks\": \"\"}, \"colorscale\": [[0.0, \"#0d0887\"], [0.1111111111111111, \"#46039f\"], [0.2222222222222222, \"#7201a8\"], [0.3333333333333333, \"#9c179e\"], [0.4444444444444444, \"#bd3786\"], [0.5555555555555556, \"#d8576b\"], [0.6666666666666666, \"#ed7953\"], [0.7777777777777778, \"#fb9f3a\"], [0.8888888888888888, \"#fdca26\"], [1.0, \"#f0f921\"]], \"type\": \"histogram2d\"}], \"histogram2dcontour\": [{\"colorbar\": {\"outlinewidth\": 0, \"ticks\": \"\"}, \"colorscale\": [[0.0, \"#0d0887\"], [0.1111111111111111, \"#46039f\"], [0.2222222222222222, \"#7201a8\"], [0.3333333333333333, \"#9c179e\"], [0.4444444444444444, \"#bd3786\"], [0.5555555555555556, \"#d8576b\"], [0.6666666666666666, \"#ed7953\"], [0.7777777777777778, \"#fb9f3a\"], [0.8888888888888888, \"#fdca26\"], [1.0, \"#f0f921\"]], \"type\": \"histogram2dcontour\"}], \"mesh3d\": [{\"colorbar\": {\"outlinewidth\": 0, \"ticks\": \"\"}, \"type\": \"mesh3d\"}], \"parcoords\": [{\"line\": {\"colorbar\": {\"outlinewidth\": 0, \"ticks\": \"\"}}, \"type\": \"parcoords\"}], \"pie\": [{\"automargin\": true, \"type\": \"pie\"}], \"scatter\": [{\"marker\": {\"colorbar\": {\"outlinewidth\": 0, \"ticks\": \"\"}}, \"type\": \"scatter\"}], \"scatter3d\": [{\"line\": {\"colorbar\": {\"outlinewidth\": 0, \"ticks\": \"\"}}, \"marker\": {\"colorbar\": {\"outlinewidth\": 0, \"ticks\": \"\"}}, \"type\": \"scatter3d\"}], \"scattercarpet\": [{\"marker\": {\"colorbar\": {\"outlinewidth\": 0, \"ticks\": \"\"}}, \"type\": \"scattercarpet\"}], \"scattergeo\": [{\"marker\": {\"colorbar\": {\"outlinewidth\": 0, \"ticks\": \"\"}}, \"type\": \"scattergeo\"}], \"scattergl\": [{\"marker\": {\"colorbar\": {\"outlinewidth\": 0, \"ticks\": \"\"}}, \"type\": \"scattergl\"}], \"scattermapbox\": [{\"marker\": {\"colorbar\": {\"outlinewidth\": 0, \"ticks\": \"\"}}, \"type\": \"scattermapbox\"}], \"scatterpolar\": [{\"marker\": {\"colorbar\": {\"outlinewidth\": 0, \"ticks\": \"\"}}, \"type\": \"scatterpolar\"}], \"scatterpolargl\": [{\"marker\": {\"colorbar\": {\"outlinewidth\": 0, \"ticks\": \"\"}}, \"type\": \"scatterpolargl\"}], \"scatterternary\": [{\"marker\": {\"colorbar\": {\"outlinewidth\": 0, \"ticks\": \"\"}}, \"type\": \"scatterternary\"}], \"surface\": [{\"colorbar\": {\"outlinewidth\": 0, \"ticks\": \"\"}, \"colorscale\": [[0.0, \"#0d0887\"], [0.1111111111111111, \"#46039f\"], [0.2222222222222222, \"#7201a8\"], [0.3333333333333333, \"#9c179e\"], [0.4444444444444444, \"#bd3786\"], [0.5555555555555556, \"#d8576b\"], [0.6666666666666666, \"#ed7953\"], [0.7777777777777778, \"#fb9f3a\"], [0.8888888888888888, \"#fdca26\"], [1.0, \"#f0f921\"]], \"type\": \"surface\"}], \"table\": [{\"cells\": {\"fill\": {\"color\": \"#EBF0F8\"}, \"line\": {\"color\": \"white\"}}, \"header\": {\"fill\": {\"color\": \"#C8D4E3\"}, \"line\": {\"color\": \"white\"}}, \"type\": \"table\"}]}, \"layout\": {\"annotationdefaults\": {\"arrowcolor\": \"#2a3f5f\", \"arrowhead\": 0, \"arrowwidth\": 1}, \"coloraxis\": {\"colorbar\": {\"outlinewidth\": 0, \"ticks\": \"\"}}, \"colorscale\": {\"diverging\": [[0, \"#8e0152\"], [0.1, \"#c51b7d\"], [0.2, \"#de77ae\"], [0.3, \"#f1b6da\"], [0.4, \"#fde0ef\"], [0.5, \"#f7f7f7\"], [0.6, \"#e6f5d0\"], [0.7, \"#b8e186\"], [0.8, \"#7fbc41\"], [0.9, \"#4d9221\"], [1, \"#276419\"]], \"sequential\": [[0.0, \"#0d0887\"], [0.1111111111111111, \"#46039f\"], [0.2222222222222222, \"#7201a8\"], [0.3333333333333333, \"#9c179e\"], [0.4444444444444444, \"#bd3786\"], [0.5555555555555556, \"#d8576b\"], [0.6666666666666666, \"#ed7953\"], [0.7777777777777778, \"#fb9f3a\"], [0.8888888888888888, \"#fdca26\"], [1.0, \"#f0f921\"]], \"sequentialminus\": [[0.0, \"#0d0887\"], [0.1111111111111111, \"#46039f\"], [0.2222222222222222, \"#7201a8\"], [0.3333333333333333, \"#9c179e\"], [0.4444444444444444, \"#bd3786\"], [0.5555555555555556, \"#d8576b\"], [0.6666666666666666, \"#ed7953\"], [0.7777777777777778, \"#fb9f3a\"], [0.8888888888888888, \"#fdca26\"], [1.0, \"#f0f921\"]]}, \"colorway\": [\"#636efa\", \"#EF553B\", \"#00cc96\", \"#ab63fa\", \"#FFA15A\", \"#19d3f3\", \"#FF6692\", \"#B6E880\", \"#FF97FF\", \"#FECB52\"], \"font\": {\"color\": \"#2a3f5f\"}, \"geo\": {\"bgcolor\": \"white\", \"lakecolor\": \"white\", \"landcolor\": \"#E5ECF6\", \"showlakes\": true, \"showland\": true, \"subunitcolor\": \"white\"}, \"hoverlabel\": {\"align\": \"left\"}, \"hovermode\": \"closest\", \"mapbox\": {\"style\": \"light\"}, \"paper_bgcolor\": \"white\", \"plot_bgcolor\": \"#E5ECF6\", \"polar\": {\"angularaxis\": {\"gridcolor\": \"white\", \"linecolor\": \"white\", \"ticks\": \"\"}, \"bgcolor\": \"#E5ECF6\", \"radialaxis\": {\"gridcolor\": \"white\", \"linecolor\": \"white\", \"ticks\": \"\"}}, \"scene\": {\"xaxis\": {\"backgroundcolor\": \"#E5ECF6\", \"gridcolor\": \"white\", \"gridwidth\": 2, \"linecolor\": \"white\", \"showbackground\": true, \"ticks\": \"\", \"zerolinecolor\": \"white\"}, \"yaxis\": {\"backgroundcolor\": \"#E5ECF6\", \"gridcolor\": \"white\", \"gridwidth\": 2, \"linecolor\": \"white\", \"showbackground\": true, \"ticks\": \"\", \"zerolinecolor\": \"white\"}, \"zaxis\": {\"backgroundcolor\": \"#E5ECF6\", \"gridcolor\": \"white\", \"gridwidth\": 2, \"linecolor\": \"white\", \"showbackground\": true, \"ticks\": \"\", \"zerolinecolor\": \"white\"}}, \"shapedefaults\": {\"line\": {\"color\": \"#2a3f5f\"}}, \"ternary\": {\"aaxis\": {\"gridcolor\": \"white\", \"linecolor\": \"white\", \"ticks\": \"\"}, \"baxis\": {\"gridcolor\": \"white\", \"linecolor\": \"white\", \"ticks\": \"\"}, \"bgcolor\": \"#E5ECF6\", \"caxis\": {\"gridcolor\": \"white\", \"linecolor\": \"white\", \"ticks\": \"\"}}, \"title\": {\"x\": 0.05}, \"xaxis\": {\"automargin\": true, \"gridcolor\": \"white\", \"linecolor\": \"white\", \"ticks\": \"\", \"title\": {\"standoff\": 15}, \"zerolinecolor\": \"white\", \"zerolinewidth\": 2}, \"yaxis\": {\"automargin\": true, \"gridcolor\": \"white\", \"linecolor\": \"white\", \"ticks\": \"\", \"title\": {\"standoff\": 15}, \"zerolinecolor\": \"white\", \"zerolinewidth\": 2}}}, \"title\": {\"text\": \"Percent of State Population tested<br>(Hover for breakdown)\"}},\n",
       "                        {\"responsive\": true}\n",
       "                    ).then(function(){\n",
       "                            \n",
       "var gd = document.getElementById('465bf254-714b-4158-9a89-d18b1ab59a18');\n",
       "var x = new MutationObserver(function (mutations, observer) {{\n",
       "        var display = window.getComputedStyle(gd).display;\n",
       "        if (!display || display === 'none') {{\n",
       "            console.log([gd, 'removed!']);\n",
       "            Plotly.purge(gd);\n",
       "            observer.disconnect();\n",
       "        }}\n",
       "}});\n",
       "\n",
       "// Listen for the removal of the full notebook cells\n",
       "var notebookContainer = gd.closest('#notebook-container');\n",
       "if (notebookContainer) {{\n",
       "    x.observe(notebookContainer, {childList: true});\n",
       "}}\n",
       "\n",
       "// Listen for the clearing of the current output cell\n",
       "var outputEl = gd.closest('.output');\n",
       "if (outputEl) {{\n",
       "    x.observe(outputEl, {childList: true});\n",
       "}}\n",
       "\n",
       "                        })\n",
       "                };\n",
       "                });\n",
       "            </script>\n",
       "        </div>"
      ]
     },
     "metadata": {},
     "output_type": "display_data"
    }
   ],
   "source": [
    "#scale = 1000\n",
    "fig = go.Figure(data=go.Choropleth(\n",
    "    locations=df2['state'],\n",
    "    z=df2['pct_pop_tested'],\n",
    "    locationmode='USA-states',\n",
    "    colorscale='Oranges',\n",
    "    autocolorscale=False,\n",
    "    text=df2['text'], # hover text\n",
    "    marker_line_color='white', # line markers between states\n",
    "    colorbar_title=\"Percent of state population tested (in %)\"\n",
    "))\n",
    "\n",
    "fig.update_layout(\n",
    "    title_text='Percent of State Population tested<br>(Hover for breakdown)',\n",
    "    geo = dict(\n",
    "        scope='usa',\n",
    "        projection=go.layout.geo.Projection(type = 'albers usa'),\n",
    "        showlakes=True, # lakes\n",
    "        lakecolor='rgb(255, 255, 255)'),\n",
    ")\n",
    "fig.show();"
   ]
  },
  {
   "cell_type": "code",
   "execution_count": 40,
   "metadata": {
    "ExecuteTime": {
     "end_time": "2020-04-09T15:50:10.265106Z",
     "start_time": "2020-04-09T15:50:10.147520Z"
    }
   },
   "outputs": [
    {
     "data": {
      "application/vnd.plotly.v1+json": {
       "config": {
        "plotlyServerURL": "https://plot.ly"
       },
       "data": [
        {
         "autocolorscale": false,
         "colorbar": {
          "title": {
           "text": "Number of Unemp. Ins. Claims since Stay-at-home Orders"
          }
         },
         "colorscale": [
          [
           0,
           "rgb(255,245,235)"
          ],
          [
           0.125,
           "rgb(254,230,206)"
          ],
          [
           0.25,
           "rgb(253,208,162)"
          ],
          [
           0.375,
           "rgb(253,174,107)"
          ],
          [
           0.5,
           "rgb(253,141,60)"
          ],
          [
           0.625,
           "rgb(241,105,19)"
          ],
          [
           0.75,
           "rgb(217,72,1)"
          ],
          [
           0.875,
           "rgb(166,54,3)"
          ],
          [
           1,
           "rgb(127,39,4)"
          ]
         ],
         "locationmode": "USA-states",
         "locations": [
          "AR",
          "TX",
          "OR",
          "ME",
          "AK",
          "MI",
          "ND",
          "NM",
          "MS",
          "AZ",
          "FL",
          "MN",
          "NY",
          "SD",
          "UT",
          "MT",
          "CA",
          "LA",
          "DE",
          "WA",
          "NV",
          "IL",
          "ID",
          "DC",
          "RI",
          "AL",
          "OK",
          "NH",
          "TN",
          "WY",
          "CT",
          "KY",
          "VT",
          "IN",
          "SC",
          "OH",
          "MA",
          "NE",
          "WV",
          "NC",
          "MO",
          "NJ",
          "MD",
          "KS",
          "CO",
          "HI",
          "PA",
          "IA",
          "GA",
          "VA",
          "WI"
         ],
         "marker": {
          "line": {
           "color": "white"
          }
         },
         "text": [
          "AR\nPositive: 1000.0, Deaths: 18.0, Negative: 13530.0, Total Tested: 14530",
          "TX\nPositive: 9353.0, Deaths: 177.0, Negative: 86905.0, Total Tested: 96258",
          "OR\nPositive: 1181.0, Deaths: 33.0, Negative: 21826.0, Total Tested: 23007",
          "ME\nPositive: 537.0, Deaths: 14.0, Negative: 6088.0, Total Tested: 6625",
          "AK\nPositive: 226.0, Deaths: 7.0, Negative: 6842.0, Total Tested: 7068",
          "MI\nPositive: 20346.0, Deaths: 959.0, Negative: 31362.0, Total Tested: 51708",
          "ND\nPositive: 251.0, Deaths: 4.0, Negative: 8301.0, Total Tested: 8552",
          "NM\nPositive: 794.0, Deaths: 13.0, Negative: 21451.0, Total Tested: 22245",
          "MS\nPositive: 2003.0, Deaths: 67.0, Negative: 18632.0, Total Tested: 20635",
          "AZ\nPositive: 2726.0, Deaths: 80.0, Negative: 31838.0, Total Tested: 34564",
          "FL\nPositive: 15455.0, Deaths: 309.0, Negative: 127679.0, Total Tested: 144458",
          "MN\nPositive: 1154.0, Deaths: 39.0, Negative: 29599.0, Total Tested: 30753",
          "NY\nPositive: 149316.0, Deaths: 6268.0, Negative: 215837.0, Total Tested: 365153",
          "SD\nPositive: 393.0, Deaths: 6.0, Negative: 6355.0, Total Tested: 6748",
          "UT\nPositive: 1846.0, Deaths: 13.0, Negative: 34270.0, Total Tested: 36116",
          "MT\nPositive: 332.0, Deaths: 6.0, Negative: 7066.0, Total Tested: 7398",
          "CA\nPositive: 16957.0, Deaths: 442.0, Negative: 127307.0, Total Tested: 158864",
          "LA\nPositive: 17030.0, Deaths: 652.0, Negative: 64376.0, Total Tested: 81406",
          "DE\nPositive: 928.0, Deaths: 16.0, Negative: 7628.0, Total Tested: 8556",
          "WA\nPositive: 8682.0, Deaths: 394.0, Negative: 83391.0, Total Tested: 92073",
          "NV\nPositive: 2318.0, Deaths: 71.0, Negative: 18248.0, Total Tested: 20566",
          "IL\nPositive: 15078.0, Deaths: 462.0, Negative: 59988.0, Total Tested: 75066",
          "ID\nPositive: 1210.0, Deaths: 15.0, Negative: 10688.0, Total Tested: 11898",
          "DC\nPositive: 1440.0, Deaths: 27.0, Negative: 6843.0, Total Tested: 8283",
          "RI\nPositive: 1450.0, Deaths: 35.0, Negative: 10682.0, Total Tested: 12132",
          "AL\nPositive: 2369.0, Deaths: 66.0, Negative: 16753.0, Total Tested: 19122",
          "OK\nPositive: 1524.0, Deaths: 79.0, Negative: 11821.0, Total Tested: 13345",
          "NH\nPositive: 788.0, Deaths: 18.0, Negative: 8389.0, Total Tested: 9266",
          "TN\nPositive: 4362.0, Deaths: 79.0, Negative: 52256.0, Total Tested: 56618",
          "WY\nPositive: 221.0, Deaths: 0.0, Negative: 3843.0, Total Tested: 4064",
          "CT\nPositive: 7781.0, Deaths: 277.0, Negative: 21255.0, Total Tested: 29036",
          "KY\nPositive: 1149.0, Deaths: 65.0, Negative: 20455.0, Total Tested: 21604",
          "VT\nPositive: 605.0, Deaths: 23.0, Negative: 7144.0, Total Tested: 7749",
          "IN\nPositive: 5943.0, Deaths: 203.0, Negative: 24926.0, Total Tested: 30869",
          "SC\nPositive: 2552.0, Deaths: 63.0, Negative: 22082.0, Total Tested: 24634",
          "OH\nPositive: 5148.0, Deaths: 193.0, Negative: 48193.0, Total Tested: 53341",
          "MA\nPositive: 16790.0, Deaths: 433.0, Negative: 70721.0, Total Tested: 87511",
          "NE\nPositive: 519.0, Deaths: 12.0, Negative: 7442.0, Total Tested: 7961",
          "WV\nPositive: 462.0, Deaths: 4.0, Negative: 12083.0, Total Tested: 12545",
          "NC\nPositive: 3426.0, Deaths: 53.0, Negative: 39561.0, Total Tested: 42987",
          "MO\nPositive: 3327.0, Deaths: 58.0, Negative: 30783.0, Total Tested: 34110",
          "NJ\nPositive: 47437.0, Deaths: 1504.0, Negative: 52979.0, Total Tested: 100416",
          "MD\nPositive: 5529.0, Deaths: 124.0, Negative: 32933.0, Total Tested: 38462",
          "KS\nPositive: 900.0, Deaths: 27.0, Negative: 8614.0, Total Tested: 9514",
          "CO\nPositive: 5429.0, Deaths: 179.0, Negative: 22665.0, Total Tested: 28094",
          "HI\nPositive: 410.0, Deaths: 5.0, Negative: 14739.0, Total Tested: 15149",
          "PA\nPositive: 16239.0, Deaths: 309.0, Negative: 82299.0, Total Tested: 98538",
          "IA\nPositive: 1145.0, Deaths: 27.0, Negative: 12821.0, Total Tested: 13966",
          "GA\nPositive: 9901.0, Deaths: 362.0, Negative: 28886.0, Total Tested: 38787",
          "VA\nPositive: 3645.0, Deaths: 75.0, Negative: 27000.0, Total Tested: 30645",
          "WI\nPositive: 2756.0, Deaths: 99.0, Negative: 30115.0, Total Tested: 32871"
         ],
         "type": "choropleth",
         "z": [
          0,
          276185,
          47498,
          0,
          13774,
          304335,
          0,
          27849,
          0,
          0,
          228484,
          109095,
          446594,
          0,
          0,
          20763,
          1244658,
          97400,
          19137,
          182849,
          0,
          292535,
          32941,
          0,
          27800,
          0,
          47744,
          31378,
          0,
          0,
          0,
          0,
          14633,
          139174,
          0,
          274288,
          181423,
          0,
          14523,
          172145,
          0,
          322068,
          0,
          54330,
          61838,
          48596,
          404677,
          0,
          133820,
          0,
          110934
         ]
        }
       ],
       "layout": {
        "geo": {
         "lakecolor": "rgb(255, 255, 255)",
         "projection": {
          "type": "albers usa"
         },
         "scope": "usa",
         "showlakes": true
        },
        "template": {
         "data": {
          "bar": [
           {
            "error_x": {
             "color": "#2a3f5f"
            },
            "error_y": {
             "color": "#2a3f5f"
            },
            "marker": {
             "line": {
              "color": "#E5ECF6",
              "width": 0.5
             }
            },
            "type": "bar"
           }
          ],
          "barpolar": [
           {
            "marker": {
             "line": {
              "color": "#E5ECF6",
              "width": 0.5
             }
            },
            "type": "barpolar"
           }
          ],
          "carpet": [
           {
            "aaxis": {
             "endlinecolor": "#2a3f5f",
             "gridcolor": "white",
             "linecolor": "white",
             "minorgridcolor": "white",
             "startlinecolor": "#2a3f5f"
            },
            "baxis": {
             "endlinecolor": "#2a3f5f",
             "gridcolor": "white",
             "linecolor": "white",
             "minorgridcolor": "white",
             "startlinecolor": "#2a3f5f"
            },
            "type": "carpet"
           }
          ],
          "choropleth": [
           {
            "colorbar": {
             "outlinewidth": 0,
             "ticks": ""
            },
            "type": "choropleth"
           }
          ],
          "contour": [
           {
            "colorbar": {
             "outlinewidth": 0,
             "ticks": ""
            },
            "colorscale": [
             [
              0,
              "#0d0887"
             ],
             [
              0.1111111111111111,
              "#46039f"
             ],
             [
              0.2222222222222222,
              "#7201a8"
             ],
             [
              0.3333333333333333,
              "#9c179e"
             ],
             [
              0.4444444444444444,
              "#bd3786"
             ],
             [
              0.5555555555555556,
              "#d8576b"
             ],
             [
              0.6666666666666666,
              "#ed7953"
             ],
             [
              0.7777777777777778,
              "#fb9f3a"
             ],
             [
              0.8888888888888888,
              "#fdca26"
             ],
             [
              1,
              "#f0f921"
             ]
            ],
            "type": "contour"
           }
          ],
          "contourcarpet": [
           {
            "colorbar": {
             "outlinewidth": 0,
             "ticks": ""
            },
            "type": "contourcarpet"
           }
          ],
          "heatmap": [
           {
            "colorbar": {
             "outlinewidth": 0,
             "ticks": ""
            },
            "colorscale": [
             [
              0,
              "#0d0887"
             ],
             [
              0.1111111111111111,
              "#46039f"
             ],
             [
              0.2222222222222222,
              "#7201a8"
             ],
             [
              0.3333333333333333,
              "#9c179e"
             ],
             [
              0.4444444444444444,
              "#bd3786"
             ],
             [
              0.5555555555555556,
              "#d8576b"
             ],
             [
              0.6666666666666666,
              "#ed7953"
             ],
             [
              0.7777777777777778,
              "#fb9f3a"
             ],
             [
              0.8888888888888888,
              "#fdca26"
             ],
             [
              1,
              "#f0f921"
             ]
            ],
            "type": "heatmap"
           }
          ],
          "heatmapgl": [
           {
            "colorbar": {
             "outlinewidth": 0,
             "ticks": ""
            },
            "colorscale": [
             [
              0,
              "#0d0887"
             ],
             [
              0.1111111111111111,
              "#46039f"
             ],
             [
              0.2222222222222222,
              "#7201a8"
             ],
             [
              0.3333333333333333,
              "#9c179e"
             ],
             [
              0.4444444444444444,
              "#bd3786"
             ],
             [
              0.5555555555555556,
              "#d8576b"
             ],
             [
              0.6666666666666666,
              "#ed7953"
             ],
             [
              0.7777777777777778,
              "#fb9f3a"
             ],
             [
              0.8888888888888888,
              "#fdca26"
             ],
             [
              1,
              "#f0f921"
             ]
            ],
            "type": "heatmapgl"
           }
          ],
          "histogram": [
           {
            "marker": {
             "colorbar": {
              "outlinewidth": 0,
              "ticks": ""
             }
            },
            "type": "histogram"
           }
          ],
          "histogram2d": [
           {
            "colorbar": {
             "outlinewidth": 0,
             "ticks": ""
            },
            "colorscale": [
             [
              0,
              "#0d0887"
             ],
             [
              0.1111111111111111,
              "#46039f"
             ],
             [
              0.2222222222222222,
              "#7201a8"
             ],
             [
              0.3333333333333333,
              "#9c179e"
             ],
             [
              0.4444444444444444,
              "#bd3786"
             ],
             [
              0.5555555555555556,
              "#d8576b"
             ],
             [
              0.6666666666666666,
              "#ed7953"
             ],
             [
              0.7777777777777778,
              "#fb9f3a"
             ],
             [
              0.8888888888888888,
              "#fdca26"
             ],
             [
              1,
              "#f0f921"
             ]
            ],
            "type": "histogram2d"
           }
          ],
          "histogram2dcontour": [
           {
            "colorbar": {
             "outlinewidth": 0,
             "ticks": ""
            },
            "colorscale": [
             [
              0,
              "#0d0887"
             ],
             [
              0.1111111111111111,
              "#46039f"
             ],
             [
              0.2222222222222222,
              "#7201a8"
             ],
             [
              0.3333333333333333,
              "#9c179e"
             ],
             [
              0.4444444444444444,
              "#bd3786"
             ],
             [
              0.5555555555555556,
              "#d8576b"
             ],
             [
              0.6666666666666666,
              "#ed7953"
             ],
             [
              0.7777777777777778,
              "#fb9f3a"
             ],
             [
              0.8888888888888888,
              "#fdca26"
             ],
             [
              1,
              "#f0f921"
             ]
            ],
            "type": "histogram2dcontour"
           }
          ],
          "mesh3d": [
           {
            "colorbar": {
             "outlinewidth": 0,
             "ticks": ""
            },
            "type": "mesh3d"
           }
          ],
          "parcoords": [
           {
            "line": {
             "colorbar": {
              "outlinewidth": 0,
              "ticks": ""
             }
            },
            "type": "parcoords"
           }
          ],
          "pie": [
           {
            "automargin": true,
            "type": "pie"
           }
          ],
          "scatter": [
           {
            "marker": {
             "colorbar": {
              "outlinewidth": 0,
              "ticks": ""
             }
            },
            "type": "scatter"
           }
          ],
          "scatter3d": [
           {
            "line": {
             "colorbar": {
              "outlinewidth": 0,
              "ticks": ""
             }
            },
            "marker": {
             "colorbar": {
              "outlinewidth": 0,
              "ticks": ""
             }
            },
            "type": "scatter3d"
           }
          ],
          "scattercarpet": [
           {
            "marker": {
             "colorbar": {
              "outlinewidth": 0,
              "ticks": ""
             }
            },
            "type": "scattercarpet"
           }
          ],
          "scattergeo": [
           {
            "marker": {
             "colorbar": {
              "outlinewidth": 0,
              "ticks": ""
             }
            },
            "type": "scattergeo"
           }
          ],
          "scattergl": [
           {
            "marker": {
             "colorbar": {
              "outlinewidth": 0,
              "ticks": ""
             }
            },
            "type": "scattergl"
           }
          ],
          "scattermapbox": [
           {
            "marker": {
             "colorbar": {
              "outlinewidth": 0,
              "ticks": ""
             }
            },
            "type": "scattermapbox"
           }
          ],
          "scatterpolar": [
           {
            "marker": {
             "colorbar": {
              "outlinewidth": 0,
              "ticks": ""
             }
            },
            "type": "scatterpolar"
           }
          ],
          "scatterpolargl": [
           {
            "marker": {
             "colorbar": {
              "outlinewidth": 0,
              "ticks": ""
             }
            },
            "type": "scatterpolargl"
           }
          ],
          "scatterternary": [
           {
            "marker": {
             "colorbar": {
              "outlinewidth": 0,
              "ticks": ""
             }
            },
            "type": "scatterternary"
           }
          ],
          "surface": [
           {
            "colorbar": {
             "outlinewidth": 0,
             "ticks": ""
            },
            "colorscale": [
             [
              0,
              "#0d0887"
             ],
             [
              0.1111111111111111,
              "#46039f"
             ],
             [
              0.2222222222222222,
              "#7201a8"
             ],
             [
              0.3333333333333333,
              "#9c179e"
             ],
             [
              0.4444444444444444,
              "#bd3786"
             ],
             [
              0.5555555555555556,
              "#d8576b"
             ],
             [
              0.6666666666666666,
              "#ed7953"
             ],
             [
              0.7777777777777778,
              "#fb9f3a"
             ],
             [
              0.8888888888888888,
              "#fdca26"
             ],
             [
              1,
              "#f0f921"
             ]
            ],
            "type": "surface"
           }
          ],
          "table": [
           {
            "cells": {
             "fill": {
              "color": "#EBF0F8"
             },
             "line": {
              "color": "white"
             }
            },
            "header": {
             "fill": {
              "color": "#C8D4E3"
             },
             "line": {
              "color": "white"
             }
            },
            "type": "table"
           }
          ]
         },
         "layout": {
          "annotationdefaults": {
           "arrowcolor": "#2a3f5f",
           "arrowhead": 0,
           "arrowwidth": 1
          },
          "coloraxis": {
           "colorbar": {
            "outlinewidth": 0,
            "ticks": ""
           }
          },
          "colorscale": {
           "diverging": [
            [
             0,
             "#8e0152"
            ],
            [
             0.1,
             "#c51b7d"
            ],
            [
             0.2,
             "#de77ae"
            ],
            [
             0.3,
             "#f1b6da"
            ],
            [
             0.4,
             "#fde0ef"
            ],
            [
             0.5,
             "#f7f7f7"
            ],
            [
             0.6,
             "#e6f5d0"
            ],
            [
             0.7,
             "#b8e186"
            ],
            [
             0.8,
             "#7fbc41"
            ],
            [
             0.9,
             "#4d9221"
            ],
            [
             1,
             "#276419"
            ]
           ],
           "sequential": [
            [
             0,
             "#0d0887"
            ],
            [
             0.1111111111111111,
             "#46039f"
            ],
            [
             0.2222222222222222,
             "#7201a8"
            ],
            [
             0.3333333333333333,
             "#9c179e"
            ],
            [
             0.4444444444444444,
             "#bd3786"
            ],
            [
             0.5555555555555556,
             "#d8576b"
            ],
            [
             0.6666666666666666,
             "#ed7953"
            ],
            [
             0.7777777777777778,
             "#fb9f3a"
            ],
            [
             0.8888888888888888,
             "#fdca26"
            ],
            [
             1,
             "#f0f921"
            ]
           ],
           "sequentialminus": [
            [
             0,
             "#0d0887"
            ],
            [
             0.1111111111111111,
             "#46039f"
            ],
            [
             0.2222222222222222,
             "#7201a8"
            ],
            [
             0.3333333333333333,
             "#9c179e"
            ],
            [
             0.4444444444444444,
             "#bd3786"
            ],
            [
             0.5555555555555556,
             "#d8576b"
            ],
            [
             0.6666666666666666,
             "#ed7953"
            ],
            [
             0.7777777777777778,
             "#fb9f3a"
            ],
            [
             0.8888888888888888,
             "#fdca26"
            ],
            [
             1,
             "#f0f921"
            ]
           ]
          },
          "colorway": [
           "#636efa",
           "#EF553B",
           "#00cc96",
           "#ab63fa",
           "#FFA15A",
           "#19d3f3",
           "#FF6692",
           "#B6E880",
           "#FF97FF",
           "#FECB52"
          ],
          "font": {
           "color": "#2a3f5f"
          },
          "geo": {
           "bgcolor": "white",
           "lakecolor": "white",
           "landcolor": "#E5ECF6",
           "showlakes": true,
           "showland": true,
           "subunitcolor": "white"
          },
          "hoverlabel": {
           "align": "left"
          },
          "hovermode": "closest",
          "mapbox": {
           "style": "light"
          },
          "paper_bgcolor": "white",
          "plot_bgcolor": "#E5ECF6",
          "polar": {
           "angularaxis": {
            "gridcolor": "white",
            "linecolor": "white",
            "ticks": ""
           },
           "bgcolor": "#E5ECF6",
           "radialaxis": {
            "gridcolor": "white",
            "linecolor": "white",
            "ticks": ""
           }
          },
          "scene": {
           "xaxis": {
            "backgroundcolor": "#E5ECF6",
            "gridcolor": "white",
            "gridwidth": 2,
            "linecolor": "white",
            "showbackground": true,
            "ticks": "",
            "zerolinecolor": "white"
           },
           "yaxis": {
            "backgroundcolor": "#E5ECF6",
            "gridcolor": "white",
            "gridwidth": 2,
            "linecolor": "white",
            "showbackground": true,
            "ticks": "",
            "zerolinecolor": "white"
           },
           "zaxis": {
            "backgroundcolor": "#E5ECF6",
            "gridcolor": "white",
            "gridwidth": 2,
            "linecolor": "white",
            "showbackground": true,
            "ticks": "",
            "zerolinecolor": "white"
           }
          },
          "shapedefaults": {
           "line": {
            "color": "#2a3f5f"
           }
          },
          "ternary": {
           "aaxis": {
            "gridcolor": "white",
            "linecolor": "white",
            "ticks": ""
           },
           "baxis": {
            "gridcolor": "white",
            "linecolor": "white",
            "ticks": ""
           },
           "bgcolor": "#E5ECF6",
           "caxis": {
            "gridcolor": "white",
            "linecolor": "white",
            "ticks": ""
           }
          },
          "title": {
           "x": 0.05
          },
          "xaxis": {
           "automargin": true,
           "gridcolor": "white",
           "linecolor": "white",
           "ticks": "",
           "title": {
            "standoff": 15
           },
           "zerolinecolor": "white",
           "zerolinewidth": 2
          },
          "yaxis": {
           "automargin": true,
           "gridcolor": "white",
           "linecolor": "white",
           "ticks": "",
           "title": {
            "standoff": 15
           },
           "zerolinecolor": "white",
           "zerolinewidth": 2
          }
         }
        },
        "title": {
         "text": "Number of Unemp. Ins. Claims since Stay-at-home Orders, by State<br>(Hover for breakdown)"
        }
       }
      },
      "text/html": [
       "<div>\n",
       "        \n",
       "        \n",
       "            <div id=\"1918b38a-701c-4b73-920e-d788cfdf34f6\" class=\"plotly-graph-div\" style=\"height:525px; width:100%;\"></div>\n",
       "            <script type=\"text/javascript\">\n",
       "                require([\"plotly\"], function(Plotly) {\n",
       "                    window.PLOTLYENV=window.PLOTLYENV || {};\n",
       "                    \n",
       "                if (document.getElementById(\"1918b38a-701c-4b73-920e-d788cfdf34f6\")) {\n",
       "                    Plotly.newPlot(\n",
       "                        '1918b38a-701c-4b73-920e-d788cfdf34f6',\n",
       "                        [{\"autocolorscale\": false, \"colorbar\": {\"title\": {\"text\": \"Number of Unemp. Ins. Claims since Stay-at-home Orders\"}}, \"colorscale\": [[0.0, \"rgb(255,245,235)\"], [0.125, \"rgb(254,230,206)\"], [0.25, \"rgb(253,208,162)\"], [0.375, \"rgb(253,174,107)\"], [0.5, \"rgb(253,141,60)\"], [0.625, \"rgb(241,105,19)\"], [0.75, \"rgb(217,72,1)\"], [0.875, \"rgb(166,54,3)\"], [1.0, \"rgb(127,39,4)\"]], \"locationmode\": \"USA-states\", \"locations\": [\"AR\", \"TX\", \"OR\", \"ME\", \"AK\", \"MI\", \"ND\", \"NM\", \"MS\", \"AZ\", \"FL\", \"MN\", \"NY\", \"SD\", \"UT\", \"MT\", \"CA\", \"LA\", \"DE\", \"WA\", \"NV\", \"IL\", \"ID\", \"DC\", \"RI\", \"AL\", \"OK\", \"NH\", \"TN\", \"WY\", \"CT\", \"KY\", \"VT\", \"IN\", \"SC\", \"OH\", \"MA\", \"NE\", \"WV\", \"NC\", \"MO\", \"NJ\", \"MD\", \"KS\", \"CO\", \"HI\", \"PA\", \"IA\", \"GA\", \"VA\", \"WI\"], \"marker\": {\"line\": {\"color\": \"white\"}}, \"text\": [\"AR\\nPositive: 1000.0, Deaths: 18.0, Negative: 13530.0, Total Tested: 14530\", \"TX\\nPositive: 9353.0, Deaths: 177.0, Negative: 86905.0, Total Tested: 96258\", \"OR\\nPositive: 1181.0, Deaths: 33.0, Negative: 21826.0, Total Tested: 23007\", \"ME\\nPositive: 537.0, Deaths: 14.0, Negative: 6088.0, Total Tested: 6625\", \"AK\\nPositive: 226.0, Deaths: 7.0, Negative: 6842.0, Total Tested: 7068\", \"MI\\nPositive: 20346.0, Deaths: 959.0, Negative: 31362.0, Total Tested: 51708\", \"ND\\nPositive: 251.0, Deaths: 4.0, Negative: 8301.0, Total Tested: 8552\", \"NM\\nPositive: 794.0, Deaths: 13.0, Negative: 21451.0, Total Tested: 22245\", \"MS\\nPositive: 2003.0, Deaths: 67.0, Negative: 18632.0, Total Tested: 20635\", \"AZ\\nPositive: 2726.0, Deaths: 80.0, Negative: 31838.0, Total Tested: 34564\", \"FL\\nPositive: 15455.0, Deaths: 309.0, Negative: 127679.0, Total Tested: 144458\", \"MN\\nPositive: 1154.0, Deaths: 39.0, Negative: 29599.0, Total Tested: 30753\", \"NY\\nPositive: 149316.0, Deaths: 6268.0, Negative: 215837.0, Total Tested: 365153\", \"SD\\nPositive: 393.0, Deaths: 6.0, Negative: 6355.0, Total Tested: 6748\", \"UT\\nPositive: 1846.0, Deaths: 13.0, Negative: 34270.0, Total Tested: 36116\", \"MT\\nPositive: 332.0, Deaths: 6.0, Negative: 7066.0, Total Tested: 7398\", \"CA\\nPositive: 16957.0, Deaths: 442.0, Negative: 127307.0, Total Tested: 158864\", \"LA\\nPositive: 17030.0, Deaths: 652.0, Negative: 64376.0, Total Tested: 81406\", \"DE\\nPositive: 928.0, Deaths: 16.0, Negative: 7628.0, Total Tested: 8556\", \"WA\\nPositive: 8682.0, Deaths: 394.0, Negative: 83391.0, Total Tested: 92073\", \"NV\\nPositive: 2318.0, Deaths: 71.0, Negative: 18248.0, Total Tested: 20566\", \"IL\\nPositive: 15078.0, Deaths: 462.0, Negative: 59988.0, Total Tested: 75066\", \"ID\\nPositive: 1210.0, Deaths: 15.0, Negative: 10688.0, Total Tested: 11898\", \"DC\\nPositive: 1440.0, Deaths: 27.0, Negative: 6843.0, Total Tested: 8283\", \"RI\\nPositive: 1450.0, Deaths: 35.0, Negative: 10682.0, Total Tested: 12132\", \"AL\\nPositive: 2369.0, Deaths: 66.0, Negative: 16753.0, Total Tested: 19122\", \"OK\\nPositive: 1524.0, Deaths: 79.0, Negative: 11821.0, Total Tested: 13345\", \"NH\\nPositive: 788.0, Deaths: 18.0, Negative: 8389.0, Total Tested: 9266\", \"TN\\nPositive: 4362.0, Deaths: 79.0, Negative: 52256.0, Total Tested: 56618\", \"WY\\nPositive: 221.0, Deaths: 0.0, Negative: 3843.0, Total Tested: 4064\", \"CT\\nPositive: 7781.0, Deaths: 277.0, Negative: 21255.0, Total Tested: 29036\", \"KY\\nPositive: 1149.0, Deaths: 65.0, Negative: 20455.0, Total Tested: 21604\", \"VT\\nPositive: 605.0, Deaths: 23.0, Negative: 7144.0, Total Tested: 7749\", \"IN\\nPositive: 5943.0, Deaths: 203.0, Negative: 24926.0, Total Tested: 30869\", \"SC\\nPositive: 2552.0, Deaths: 63.0, Negative: 22082.0, Total Tested: 24634\", \"OH\\nPositive: 5148.0, Deaths: 193.0, Negative: 48193.0, Total Tested: 53341\", \"MA\\nPositive: 16790.0, Deaths: 433.0, Negative: 70721.0, Total Tested: 87511\", \"NE\\nPositive: 519.0, Deaths: 12.0, Negative: 7442.0, Total Tested: 7961\", \"WV\\nPositive: 462.0, Deaths: 4.0, Negative: 12083.0, Total Tested: 12545\", \"NC\\nPositive: 3426.0, Deaths: 53.0, Negative: 39561.0, Total Tested: 42987\", \"MO\\nPositive: 3327.0, Deaths: 58.0, Negative: 30783.0, Total Tested: 34110\", \"NJ\\nPositive: 47437.0, Deaths: 1504.0, Negative: 52979.0, Total Tested: 100416\", \"MD\\nPositive: 5529.0, Deaths: 124.0, Negative: 32933.0, Total Tested: 38462\", \"KS\\nPositive: 900.0, Deaths: 27.0, Negative: 8614.0, Total Tested: 9514\", \"CO\\nPositive: 5429.0, Deaths: 179.0, Negative: 22665.0, Total Tested: 28094\", \"HI\\nPositive: 410.0, Deaths: 5.0, Negative: 14739.0, Total Tested: 15149\", \"PA\\nPositive: 16239.0, Deaths: 309.0, Negative: 82299.0, Total Tested: 98538\", \"IA\\nPositive: 1145.0, Deaths: 27.0, Negative: 12821.0, Total Tested: 13966\", \"GA\\nPositive: 9901.0, Deaths: 362.0, Negative: 28886.0, Total Tested: 38787\", \"VA\\nPositive: 3645.0, Deaths: 75.0, Negative: 27000.0, Total Tested: 30645\", \"WI\\nPositive: 2756.0, Deaths: 99.0, Negative: 30115.0, Total Tested: 32871\"], \"type\": \"choropleth\", \"z\": [0.0, 276185.0, 47498.0, 0.0, 13774.0, 304335.0, 0.0, 27849.0, 0.0, 0.0, 228484.0, 109095.0, 446594.0, 0.0, 0.0, 20763.0, 1244658.0, 97400.0, 19137.0, 182849.0, 0.0, 292535.0, 32941.0, 0.0, 27800.0, 0.0, 47744.0, 31378.0, 0.0, 0.0, 0.0, 0.0, 14633.0, 139174.0, 0.0, 274288.0, 181423.0, 0.0, 14523.0, 172145.0, 0.0, 322068.0, 0.0, 54330.0, 61838.0, 48596.0, 404677.0, 0.0, 133820.0, 0.0, 110934.0]}],\n",
       "                        {\"geo\": {\"lakecolor\": \"rgb(255, 255, 255)\", \"projection\": {\"type\": \"albers usa\"}, \"scope\": \"usa\", \"showlakes\": true}, \"template\": {\"data\": {\"bar\": [{\"error_x\": {\"color\": \"#2a3f5f\"}, \"error_y\": {\"color\": \"#2a3f5f\"}, \"marker\": {\"line\": {\"color\": \"#E5ECF6\", \"width\": 0.5}}, \"type\": \"bar\"}], \"barpolar\": [{\"marker\": {\"line\": {\"color\": \"#E5ECF6\", \"width\": 0.5}}, \"type\": \"barpolar\"}], \"carpet\": [{\"aaxis\": {\"endlinecolor\": \"#2a3f5f\", \"gridcolor\": \"white\", \"linecolor\": \"white\", \"minorgridcolor\": \"white\", \"startlinecolor\": \"#2a3f5f\"}, \"baxis\": {\"endlinecolor\": \"#2a3f5f\", \"gridcolor\": \"white\", \"linecolor\": \"white\", \"minorgridcolor\": \"white\", \"startlinecolor\": \"#2a3f5f\"}, \"type\": \"carpet\"}], \"choropleth\": [{\"colorbar\": {\"outlinewidth\": 0, \"ticks\": \"\"}, \"type\": \"choropleth\"}], \"contour\": [{\"colorbar\": {\"outlinewidth\": 0, \"ticks\": \"\"}, \"colorscale\": [[0.0, \"#0d0887\"], [0.1111111111111111, \"#46039f\"], [0.2222222222222222, \"#7201a8\"], [0.3333333333333333, \"#9c179e\"], [0.4444444444444444, \"#bd3786\"], [0.5555555555555556, \"#d8576b\"], [0.6666666666666666, \"#ed7953\"], [0.7777777777777778, \"#fb9f3a\"], [0.8888888888888888, \"#fdca26\"], [1.0, \"#f0f921\"]], \"type\": \"contour\"}], \"contourcarpet\": [{\"colorbar\": {\"outlinewidth\": 0, \"ticks\": \"\"}, \"type\": \"contourcarpet\"}], \"heatmap\": [{\"colorbar\": {\"outlinewidth\": 0, \"ticks\": \"\"}, \"colorscale\": [[0.0, \"#0d0887\"], [0.1111111111111111, \"#46039f\"], [0.2222222222222222, \"#7201a8\"], [0.3333333333333333, \"#9c179e\"], [0.4444444444444444, \"#bd3786\"], [0.5555555555555556, \"#d8576b\"], [0.6666666666666666, \"#ed7953\"], [0.7777777777777778, \"#fb9f3a\"], [0.8888888888888888, \"#fdca26\"], [1.0, \"#f0f921\"]], \"type\": \"heatmap\"}], \"heatmapgl\": [{\"colorbar\": {\"outlinewidth\": 0, \"ticks\": \"\"}, \"colorscale\": [[0.0, \"#0d0887\"], [0.1111111111111111, \"#46039f\"], [0.2222222222222222, \"#7201a8\"], [0.3333333333333333, \"#9c179e\"], [0.4444444444444444, \"#bd3786\"], [0.5555555555555556, \"#d8576b\"], [0.6666666666666666, \"#ed7953\"], [0.7777777777777778, \"#fb9f3a\"], [0.8888888888888888, \"#fdca26\"], [1.0, \"#f0f921\"]], \"type\": \"heatmapgl\"}], \"histogram\": [{\"marker\": {\"colorbar\": {\"outlinewidth\": 0, \"ticks\": \"\"}}, \"type\": \"histogram\"}], \"histogram2d\": [{\"colorbar\": {\"outlinewidth\": 0, \"ticks\": \"\"}, \"colorscale\": [[0.0, \"#0d0887\"], [0.1111111111111111, \"#46039f\"], [0.2222222222222222, \"#7201a8\"], [0.3333333333333333, \"#9c179e\"], [0.4444444444444444, \"#bd3786\"], [0.5555555555555556, \"#d8576b\"], [0.6666666666666666, \"#ed7953\"], [0.7777777777777778, \"#fb9f3a\"], [0.8888888888888888, \"#fdca26\"], [1.0, \"#f0f921\"]], \"type\": \"histogram2d\"}], \"histogram2dcontour\": [{\"colorbar\": {\"outlinewidth\": 0, \"ticks\": \"\"}, \"colorscale\": [[0.0, \"#0d0887\"], [0.1111111111111111, \"#46039f\"], [0.2222222222222222, \"#7201a8\"], [0.3333333333333333, \"#9c179e\"], [0.4444444444444444, \"#bd3786\"], [0.5555555555555556, \"#d8576b\"], [0.6666666666666666, \"#ed7953\"], [0.7777777777777778, \"#fb9f3a\"], [0.8888888888888888, \"#fdca26\"], [1.0, \"#f0f921\"]], \"type\": \"histogram2dcontour\"}], \"mesh3d\": [{\"colorbar\": {\"outlinewidth\": 0, \"ticks\": \"\"}, \"type\": \"mesh3d\"}], \"parcoords\": [{\"line\": {\"colorbar\": {\"outlinewidth\": 0, \"ticks\": \"\"}}, \"type\": \"parcoords\"}], \"pie\": [{\"automargin\": true, \"type\": \"pie\"}], \"scatter\": [{\"marker\": {\"colorbar\": {\"outlinewidth\": 0, \"ticks\": \"\"}}, \"type\": \"scatter\"}], \"scatter3d\": [{\"line\": {\"colorbar\": {\"outlinewidth\": 0, \"ticks\": \"\"}}, \"marker\": {\"colorbar\": {\"outlinewidth\": 0, \"ticks\": \"\"}}, \"type\": \"scatter3d\"}], \"scattercarpet\": [{\"marker\": {\"colorbar\": {\"outlinewidth\": 0, \"ticks\": \"\"}}, \"type\": \"scattercarpet\"}], \"scattergeo\": [{\"marker\": {\"colorbar\": {\"outlinewidth\": 0, \"ticks\": \"\"}}, \"type\": \"scattergeo\"}], \"scattergl\": [{\"marker\": {\"colorbar\": {\"outlinewidth\": 0, \"ticks\": \"\"}}, \"type\": \"scattergl\"}], \"scattermapbox\": [{\"marker\": {\"colorbar\": {\"outlinewidth\": 0, \"ticks\": \"\"}}, \"type\": \"scattermapbox\"}], \"scatterpolar\": [{\"marker\": {\"colorbar\": {\"outlinewidth\": 0, \"ticks\": \"\"}}, \"type\": \"scatterpolar\"}], \"scatterpolargl\": [{\"marker\": {\"colorbar\": {\"outlinewidth\": 0, \"ticks\": \"\"}}, \"type\": \"scatterpolargl\"}], \"scatterternary\": [{\"marker\": {\"colorbar\": {\"outlinewidth\": 0, \"ticks\": \"\"}}, \"type\": \"scatterternary\"}], \"surface\": [{\"colorbar\": {\"outlinewidth\": 0, \"ticks\": \"\"}, \"colorscale\": [[0.0, \"#0d0887\"], [0.1111111111111111, \"#46039f\"], [0.2222222222222222, \"#7201a8\"], [0.3333333333333333, \"#9c179e\"], [0.4444444444444444, \"#bd3786\"], [0.5555555555555556, \"#d8576b\"], [0.6666666666666666, \"#ed7953\"], [0.7777777777777778, \"#fb9f3a\"], [0.8888888888888888, \"#fdca26\"], [1.0, \"#f0f921\"]], \"type\": \"surface\"}], \"table\": [{\"cells\": {\"fill\": {\"color\": \"#EBF0F8\"}, \"line\": {\"color\": \"white\"}}, \"header\": {\"fill\": {\"color\": \"#C8D4E3\"}, \"line\": {\"color\": \"white\"}}, \"type\": \"table\"}]}, \"layout\": {\"annotationdefaults\": {\"arrowcolor\": \"#2a3f5f\", \"arrowhead\": 0, \"arrowwidth\": 1}, \"coloraxis\": {\"colorbar\": {\"outlinewidth\": 0, \"ticks\": \"\"}}, \"colorscale\": {\"diverging\": [[0, \"#8e0152\"], [0.1, \"#c51b7d\"], [0.2, \"#de77ae\"], [0.3, \"#f1b6da\"], [0.4, \"#fde0ef\"], [0.5, \"#f7f7f7\"], [0.6, \"#e6f5d0\"], [0.7, \"#b8e186\"], [0.8, \"#7fbc41\"], [0.9, \"#4d9221\"], [1, \"#276419\"]], \"sequential\": [[0.0, \"#0d0887\"], [0.1111111111111111, \"#46039f\"], [0.2222222222222222, \"#7201a8\"], [0.3333333333333333, \"#9c179e\"], [0.4444444444444444, \"#bd3786\"], [0.5555555555555556, \"#d8576b\"], [0.6666666666666666, \"#ed7953\"], [0.7777777777777778, \"#fb9f3a\"], [0.8888888888888888, \"#fdca26\"], [1.0, \"#f0f921\"]], \"sequentialminus\": [[0.0, \"#0d0887\"], [0.1111111111111111, \"#46039f\"], [0.2222222222222222, \"#7201a8\"], [0.3333333333333333, \"#9c179e\"], [0.4444444444444444, \"#bd3786\"], [0.5555555555555556, \"#d8576b\"], [0.6666666666666666, \"#ed7953\"], [0.7777777777777778, \"#fb9f3a\"], [0.8888888888888888, \"#fdca26\"], [1.0, \"#f0f921\"]]}, \"colorway\": [\"#636efa\", \"#EF553B\", \"#00cc96\", \"#ab63fa\", \"#FFA15A\", \"#19d3f3\", \"#FF6692\", \"#B6E880\", \"#FF97FF\", \"#FECB52\"], \"font\": {\"color\": \"#2a3f5f\"}, \"geo\": {\"bgcolor\": \"white\", \"lakecolor\": \"white\", \"landcolor\": \"#E5ECF6\", \"showlakes\": true, \"showland\": true, \"subunitcolor\": \"white\"}, \"hoverlabel\": {\"align\": \"left\"}, \"hovermode\": \"closest\", \"mapbox\": {\"style\": \"light\"}, \"paper_bgcolor\": \"white\", \"plot_bgcolor\": \"#E5ECF6\", \"polar\": {\"angularaxis\": {\"gridcolor\": \"white\", \"linecolor\": \"white\", \"ticks\": \"\"}, \"bgcolor\": \"#E5ECF6\", \"radialaxis\": {\"gridcolor\": \"white\", \"linecolor\": \"white\", \"ticks\": \"\"}}, \"scene\": {\"xaxis\": {\"backgroundcolor\": \"#E5ECF6\", \"gridcolor\": \"white\", \"gridwidth\": 2, \"linecolor\": \"white\", \"showbackground\": true, \"ticks\": \"\", \"zerolinecolor\": \"white\"}, \"yaxis\": {\"backgroundcolor\": \"#E5ECF6\", \"gridcolor\": \"white\", \"gridwidth\": 2, \"linecolor\": \"white\", \"showbackground\": true, \"ticks\": \"\", \"zerolinecolor\": \"white\"}, \"zaxis\": {\"backgroundcolor\": \"#E5ECF6\", \"gridcolor\": \"white\", \"gridwidth\": 2, \"linecolor\": \"white\", \"showbackground\": true, \"ticks\": \"\", \"zerolinecolor\": \"white\"}}, \"shapedefaults\": {\"line\": {\"color\": \"#2a3f5f\"}}, \"ternary\": {\"aaxis\": {\"gridcolor\": \"white\", \"linecolor\": \"white\", \"ticks\": \"\"}, \"baxis\": {\"gridcolor\": \"white\", \"linecolor\": \"white\", \"ticks\": \"\"}, \"bgcolor\": \"#E5ECF6\", \"caxis\": {\"gridcolor\": \"white\", \"linecolor\": \"white\", \"ticks\": \"\"}}, \"title\": {\"x\": 0.05}, \"xaxis\": {\"automargin\": true, \"gridcolor\": \"white\", \"linecolor\": \"white\", \"ticks\": \"\", \"title\": {\"standoff\": 15}, \"zerolinecolor\": \"white\", \"zerolinewidth\": 2}, \"yaxis\": {\"automargin\": true, \"gridcolor\": \"white\", \"linecolor\": \"white\", \"ticks\": \"\", \"title\": {\"standoff\": 15}, \"zerolinecolor\": \"white\", \"zerolinewidth\": 2}}}, \"title\": {\"text\": \"Number of Unemp. Ins. Claims since Stay-at-home Orders, by State<br>(Hover for breakdown)\"}},\n",
       "                        {\"responsive\": true}\n",
       "                    ).then(function(){\n",
       "                            \n",
       "var gd = document.getElementById('1918b38a-701c-4b73-920e-d788cfdf34f6');\n",
       "var x = new MutationObserver(function (mutations, observer) {{\n",
       "        var display = window.getComputedStyle(gd).display;\n",
       "        if (!display || display === 'none') {{\n",
       "            console.log([gd, 'removed!']);\n",
       "            Plotly.purge(gd);\n",
       "            observer.disconnect();\n",
       "        }}\n",
       "}});\n",
       "\n",
       "// Listen for the removal of the full notebook cells\n",
       "var notebookContainer = gd.closest('#notebook-container');\n",
       "if (notebookContainer) {{\n",
       "    x.observe(notebookContainer, {childList: true});\n",
       "}}\n",
       "\n",
       "// Listen for the clearing of the current output cell\n",
       "var outputEl = gd.closest('.output');\n",
       "if (outputEl) {{\n",
       "    x.observe(outputEl, {childList: true});\n",
       "}}\n",
       "\n",
       "                        })\n",
       "                };\n",
       "                });\n",
       "            </script>\n",
       "        </div>"
      ]
     },
     "metadata": {},
     "output_type": "display_data"
    }
   ],
   "source": [
    "#scale = 1000\n",
    "fig = go.Figure(data=go.Choropleth(\n",
    "    locations=df2['state'],\n",
    "    z=df2['iclaims_since_stayathome'],\n",
    "    locationmode='USA-states',\n",
    "    colorscale='Oranges',\n",
    "    autocolorscale=False,\n",
    "    text=df2['text'], # hover text\n",
    "    marker_line_color='white', # line markers between states\n",
    "    colorbar_title=\"Number of Unemp. Ins. Claims since Stay-at-home Orders\"\n",
    "))\n",
    "\n",
    "fig.update_layout(\n",
    "    title_text='Number of Unemp. Ins. Claims since Stay-at-home Orders, by State<br>(Hover for breakdown)',\n",
    "    geo = dict(\n",
    "        scope='usa',\n",
    "        projection=go.layout.geo.Projection(type = 'albers usa'),\n",
    "        showlakes=True, # lakes\n",
    "        lakecolor='rgb(255, 255, 255)'),\n",
    ")\n",
    "fig.show();"
   ]
  },
  {
   "cell_type": "code",
   "execution_count": null,
   "metadata": {},
   "outputs": [],
   "source": []
  },
  {
   "cell_type": "code",
   "execution_count": null,
   "metadata": {},
   "outputs": [],
   "source": []
  }
 ],
 "metadata": {
  "kernelspec": {
   "display_name": "Python 3",
   "language": "python",
   "name": "python3"
  },
  "language_info": {
   "codemirror_mode": {
    "name": "ipython",
    "version": 3
   },
   "file_extension": ".py",
   "mimetype": "text/x-python",
   "name": "python",
   "nbconvert_exporter": "python",
   "pygments_lexer": "ipython3",
   "version": "3.7.4"
  },
  "toc": {
   "base_numbering": 1,
   "nav_menu": {},
   "number_sections": true,
   "sideBar": true,
   "skip_h1_title": false,
   "title_cell": "Table of Contents",
   "title_sidebar": "Contents",
   "toc_cell": false,
   "toc_position": {},
   "toc_section_display": true,
   "toc_window_display": false
  }
 },
 "nbformat": 4,
 "nbformat_minor": 2
}
