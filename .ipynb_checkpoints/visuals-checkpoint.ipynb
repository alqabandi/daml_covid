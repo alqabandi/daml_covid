{
 "cells": [
  {
   "cell_type": "code",
   "execution_count": 22,
   "metadata": {
    "ExecuteTime": {
     "end_time": "2020-04-08T22:59:23.750689Z",
     "start_time": "2020-04-08T22:59:23.746509Z"
    }
   },
   "outputs": [],
   "source": [
    "import plotly \n",
    "import chart_studio.plotly as py\n",
    "import numpy as np\n",
    "import pandas as pd\n",
    "import matplotlib.pyplot as plt\n",
    "import plotly.graph_objects as go\n",
    "import plotly.express as px\n",
    "import plotly.io as pio\n",
    "#pio.renderers.default = \"iframe_connected\"\n",
    "import IPython\n",
    "from IPython.display import IFrame\n",
    "from IPython.display import HTML"
   ]
  },
  {
   "cell_type": "markdown",
   "metadata": {},
   "source": [
    "## Downloading and combining latest data"
   ]
  },
  {
   "cell_type": "code",
   "execution_count": null,
   "metadata": {
    "ExecuteTime": {
     "end_time": "2020-04-08T22:38:28.117463Z",
     "start_time": "2020-04-08T22:38:12.021884Z"
    }
   },
   "outputs": [],
   "source": [
    "%run ./data_collection/00-daily-download.py"
   ]
  },
  {
   "cell_type": "code",
   "execution_count": null,
   "metadata": {
    "ExecuteTime": {
     "end_time": "2020-04-08T22:38:28.892434Z",
     "start_time": "2020-04-08T22:38:28.119429Z"
    }
   },
   "outputs": [],
   "source": [
    "%run ./data_collection/01-daily-combine.py"
   ]
  },
  {
   "cell_type": "markdown",
   "metadata": {},
   "source": [
    "## Load data"
   ]
  },
  {
   "cell_type": "code",
   "execution_count": 2,
   "metadata": {
    "ExecuteTime": {
     "end_time": "2020-04-08T22:56:22.388705Z",
     "start_time": "2020-04-08T22:56:22.372982Z"
    }
   },
   "outputs": [],
   "source": [
    "df = pd.read_csv('./data/combined/combined.csv')"
   ]
  },
  {
   "cell_type": "markdown",
   "metadata": {},
   "source": [
    "## Create Variables"
   ]
  },
  {
   "cell_type": "code",
   "execution_count": 3,
   "metadata": {
    "ExecuteTime": {
     "end_time": "2020-04-08T22:56:23.294682Z",
     "start_time": "2020-04-08T22:56:23.260231Z"
    }
   },
   "outputs": [],
   "source": [
    "df['text'] = df['state'].astype(str) + '\\n' + 'Positive: ' + df['positive'].astype(str) + ', ' + 'Deaths: '+ df['death'].astype(str) + ', ' + 'Negative: '+ df['negative'].astype(str) + ', ' + 'Total Tested: '+ df['total'].astype(str)\n",
    "df = df[df['state'] !=(\"GU\")]\n",
    "df = df[df['state'] !=(\"PR\")]\n",
    "df = df[df['state'] !=(\"AS\")]\n",
    "df = df[df['state'] !=(\"MP\")]\n",
    "df = df[df['state'] !=(\"PRI\")]\n",
    "df = df[df['state'] !=(\"VIR\")]\n",
    "df = df[df['state'] !=(\"VI\")]"
   ]
  },
  {
   "cell_type": "code",
   "execution_count": 4,
   "metadata": {
    "ExecuteTime": {
     "end_time": "2020-04-08T22:56:23.626311Z",
     "start_time": "2020-04-08T22:56:23.623079Z"
    }
   },
   "outputs": [],
   "source": [
    "def calculate_num_claims_since_emergency_declaration(x: pd.DataFrame) -> int:    \n",
    "    declaration_date = x[\"Emergency Declaration Date\"].values[0]\n",
    "    return x[x.date >= declaration_date].number_of_iclaims.sum()\n"
   ]
  },
  {
   "cell_type": "code",
   "execution_count": 5,
   "metadata": {
    "ExecuteTime": {
     "end_time": "2020-04-08T22:56:24.383635Z",
     "start_time": "2020-04-08T22:56:24.328601Z"
    }
   },
   "outputs": [],
   "source": [
    "iclaims_since_emergency_by_state = df.groupby(\"state\").apply(calculate_num_claims_since_emergency_declaration)"
   ]
  },
  {
   "cell_type": "code",
   "execution_count": 6,
   "metadata": {
    "ExecuteTime": {
     "end_time": "2020-04-08T22:56:26.567922Z",
     "start_time": "2020-04-08T22:56:26.548874Z"
    }
   },
   "outputs": [],
   "source": [
    "df['iclaims_since_emergency'] = df.state.apply(\n",
    "    lambda x: iclaims_since_emergency_by_state[x] if x in iclaims_since_emergency_by_state else None)"
   ]
  },
  {
   "cell_type": "code",
   "execution_count": 7,
   "metadata": {
    "ExecuteTime": {
     "end_time": "2020-04-08T22:56:26.815896Z",
     "start_time": "2020-04-08T22:56:26.764836Z"
    }
   },
   "outputs": [],
   "source": [
    "def calculate_num_claims_since_stayathome_order(x: pd.DataFrame) -> int:    \n",
    "    stayathome_date = x[\"Stay At Home Order Date\"].values[0]\n",
    "    return x[x.date >= stayathome_date].number_of_iclaims.sum()\n",
    "iclaims_since_stayathome_by_state = df.groupby(\"state\").apply(calculate_num_claims_since_stayathome_order)"
   ]
  },
  {
   "cell_type": "code",
   "execution_count": 8,
   "metadata": {
    "ExecuteTime": {
     "end_time": "2020-04-08T22:56:28.436348Z",
     "start_time": "2020-04-08T22:56:28.416478Z"
    }
   },
   "outputs": [],
   "source": [
    "df['iclaims_since_stayathome'] = df.state.apply(lambda x: iclaims_since_stayathome_by_state[x] if x in iclaims_since_stayathome_by_state else None)\n"
   ]
  },
  {
   "cell_type": "code",
   "execution_count": 9,
   "metadata": {
    "ExecuteTime": {
     "end_time": "2020-04-08T22:56:30.320668Z",
     "start_time": "2020-04-08T22:56:30.299200Z"
    }
   },
   "outputs": [],
   "source": [
    "df = df.sort_values(by=['date'])\n",
    "df = df[df[\"date\"]>=\"2020-01-30\"]\n",
    "df = df[df[\"death\"].isna()==False]\n",
    "df = df[df[\"positive\"].isna()==False]\n",
    "df['pct_death_over_positive'] = 100*(df['death']/df['positive'])\n",
    "df['death_rate'] = df['death']/df['positive']\n",
    "df['high_pct_death'] = df['pct_death_over_positive'].apply(lambda x: '1%+ death rate' if x >= 1 else \"below 1% death rate\")\n",
    "df['pct_positive_out_of_total_tested'] = 100*(df['positive']/df['total'])\n",
    "df['positive_over_pop'] = (df['positive']/df['POPESTIMATE2019'])*100\n",
    "df['positive_per_100k'] = (df['positive_over_pop']/100)*100000\n",
    "df['pct_pop_tested'] = (df['total']/df['POPESTIMATE2019'])*100"
   ]
  },
  {
   "cell_type": "markdown",
   "metadata": {},
   "source": [
    "## Chloropleth maps"
   ]
  },
  {
   "cell_type": "code",
   "execution_count": 10,
   "metadata": {
    "ExecuteTime": {
     "end_time": "2020-04-08T22:56:38.979126Z",
     "start_time": "2020-04-08T22:56:38.972686Z"
    }
   },
   "outputs": [],
   "source": [
    "df2 = df[df.date == max(df['date'])]"
   ]
  },
  {
   "cell_type": "code",
   "execution_count": null,
   "metadata": {
    "ExecuteTime": {
     "end_time": "2020-04-08T22:39:47.367356Z",
     "start_time": "2020-04-08T22:39:45.719879Z"
    },
    "scrolled": false
   },
   "outputs": [],
   "source": [
    "fig = go.Figure(data=go.Choropleth(\n",
    "    locations=df2['state'],\n",
    "    z=df2['positive_per_100k'].astype(float),\n",
    "    locationmode='USA-states',\n",
    "    colorscale='Oranges',\n",
    "    autocolorscale=False,\n",
    "    text=df2['text'],  # hover text\n",
    "    marker_line_color='white',  # line markers between states\n",
    "    colorbar_title=\"Positive per 100,000 people\"\n",
    "))\n",
    "\n",
    "fig.update_layout(\n",
    "    title_text='Positive Covid-19 cases per 100,000 people, by State<br>(Hover for breakdown)',\n",
    "    geo=dict(\n",
    "        scope='usa',\n",
    "        projection=go.layout.geo.Projection(type='albers usa'),\n",
    "        showlakes=True,  # lakes\n",
    "        lakecolor='rgb(255, 255, 255)'),\n",
    ")\n",
    "fig.show();"
   ]
  },
  {
   "cell_type": "code",
   "execution_count": 26,
   "metadata": {
    "ExecuteTime": {
     "end_time": "2020-04-08T22:59:55.100786Z",
     "start_time": "2020-04-08T22:59:55.095620Z"
    }
   },
   "outputs": [
    {
     "data": {
      "text/html": [
       "\n",
       "        <iframe\n",
       "            width=\"900\"\n",
       "            height=\"600\"\n",
       "            src=\"http://alqabandi.co/daml-covid/figure_13.html\"\n",
       "            frameborder=\"0\"\n",
       "            allowfullscreen\n",
       "        ></iframe>\n",
       "        "
      ],
      "text/plain": [
       "<IPython.lib.display.IFrame at 0x1042a1f10>"
      ]
     },
     "execution_count": 26,
     "metadata": {},
     "output_type": "execute_result"
    }
   ],
   "source": [
    "IFrame(src='http://alqabandi.co/daml-covid/figure_13.html', height=600, width=900)"
   ]
  },
  {
   "cell_type": "code",
   "execution_count": null,
   "metadata": {
    "ExecuteTime": {
     "end_time": "2020-04-08T22:45:07.821077Z",
     "start_time": "2020-04-08T22:45:07.617888Z"
    }
   },
   "outputs": [],
   "source": [
    "#scale = 1000\n",
    "fig = go.Figure(data=go.Choropleth(\n",
    "    locations=df2['state'],\n",
    "    z=df2['iclaims_since_emergency'],\n",
    "    locationmode='USA-states',\n",
    "    colorscale='Oranges',\n",
    "    autocolorscale=False,\n",
    "    text=df2['text'], # hover text\n",
    "    marker_line_color='white', # line markers between states\n",
    "    colorbar_title=\"Unemployment Insurance Claims\"\n",
    "))\n",
    "\n",
    "fig.update_layout(\n",
    "    title_text='Unemployment Insurance Claims since Emergency Declaration,<br>by State (Hover for breakdown)',\n",
    "    geo = dict(\n",
    "        scope='usa',\n",
    "        projection=go.layout.geo.Projection(type = 'albers usa'),\n",
    "        showlakes=True, # lakes\n",
    "        lakecolor='rgb(255, 255, 255)'),\n",
    ")\n",
    "#fig.show();"
   ]
  },
  {
   "cell_type": "code",
   "execution_count": 12,
   "metadata": {
    "ExecuteTime": {
     "end_time": "2020-04-08T22:56:47.056289Z",
     "start_time": "2020-04-08T22:56:47.051885Z"
    }
   },
   "outputs": [
    {
     "data": {
      "text/html": [
       "\n",
       "        <iframe\n",
       "            width=\"900\"\n",
       "            height=\"600\"\n",
       "            src=\"http://alqabandi.co/daml-covid/figure_17.html\"\n",
       "            frameborder=\"0\"\n",
       "            allowfullscreen\n",
       "        ></iframe>\n",
       "        "
      ],
      "text/plain": [
       "<IPython.lib.display.IFrame at 0x117c99790>"
      ]
     },
     "execution_count": 12,
     "metadata": {},
     "output_type": "execute_result"
    }
   ],
   "source": [
    "IFrame(src='http://alqabandi.co/daml-covid/figure_17.html', height=600, width=900)"
   ]
  },
  {
   "cell_type": "code",
   "execution_count": null,
   "metadata": {
    "ExecuteTime": {
     "end_time": "2020-04-08T22:46:30.639014Z",
     "start_time": "2020-04-08T22:46:30.513596Z"
    }
   },
   "outputs": [],
   "source": [
    "#scale = 1000\n",
    "fig = go.Figure(data=go.Choropleth(\n",
    "    locations=df2['state'],\n",
    "    z=df2['inIcuCumulative'],\n",
    "    locationmode='USA-states',\n",
    "    colorscale='Oranges',\n",
    "    autocolorscale=False,\n",
    "    text=df2['text'], # hover text\n",
    "    marker_line_color='white', # line markers between states\n",
    "    colorbar_title=\"Number of Covid patients in ICU, Cumulative\"\n",
    "))\n",
    "\n",
    "fig.update_layout(\n",
    "    title_text='Number of Covid patients in ICU, Cumulative,<br>for ID, MN, WI, OH, VA (Hover for breakdown)',\n",
    "    geo = dict(\n",
    "        scope='usa',\n",
    "        projection=go.layout.geo.Projection(type = 'albers usa'),\n",
    "        showlakes=True, # lakes\n",
    "        lakecolor='rgb(255, 255, 255)'),\n",
    ")\n",
    "#fig.show();"
   ]
  },
  {
   "cell_type": "code",
   "execution_count": 19,
   "metadata": {
    "ExecuteTime": {
     "end_time": "2020-04-08T22:57:06.404034Z",
     "start_time": "2020-04-08T22:57:06.400432Z"
    }
   },
   "outputs": [
    {
     "data": {
      "text/html": [
       "\n",
       "        <iframe\n",
       "            width=\"900\"\n",
       "            height=\"600\"\n",
       "            src=\"http://alqabandi.co/daml-covid/figure_19.html\"\n",
       "            frameborder=\"0\"\n",
       "            allowfullscreen\n",
       "        ></iframe>\n",
       "        "
      ],
      "text/plain": [
       "<IPython.lib.display.IFrame at 0x118a1b510>"
      ]
     },
     "execution_count": 19,
     "metadata": {},
     "output_type": "execute_result"
    }
   ],
   "source": [
    "IFrame(src='http://alqabandi.co/daml-covid/figure_19.html', height=600, width=900)"
   ]
  },
  {
   "cell_type": "code",
   "execution_count": null,
   "metadata": {
    "ExecuteTime": {
     "end_time": "2020-04-08T22:47:10.460919Z",
     "start_time": "2020-04-08T22:47:10.324955Z"
    }
   },
   "outputs": [],
   "source": [
    "#scale = 1000\n",
    "fig = go.Figure(data=go.Choropleth(\n",
    "    locations=df2['state'],\n",
    "    z=df2['onVentilatorCumulative'],\n",
    "    locationmode='USA-states',\n",
    "    colorscale='Oranges',\n",
    "    autocolorscale=False,\n",
    "    text=df2['text'], # hover text\n",
    "    marker_line_color='white', # line markers between states\n",
    "    colorbar_title=\"Number of Covid patients on Ventilators, Cumulative\"\n",
    "))\n",
    "\n",
    "fig.update_layout(\n",
    "    title_text='Number of Covid patients on Ventilators, Cumulative,<br>for OR, VA, and AR (Hover for breakdown)',\n",
    "    geo = dict(\n",
    "        scope='usa',\n",
    "        projection=go.layout.geo.Projection(type = 'albers usa'),\n",
    "        showlakes=True, # lakes\n",
    "        lakecolor='rgb(255, 255, 255)'),\n",
    ")\n",
    "#fig.show();"
   ]
  },
  {
   "cell_type": "code",
   "execution_count": 18,
   "metadata": {
    "ExecuteTime": {
     "end_time": "2020-04-08T22:57:04.832070Z",
     "start_time": "2020-04-08T22:57:04.827647Z"
    }
   },
   "outputs": [
    {
     "data": {
      "text/html": [
       "\n",
       "        <iframe\n",
       "            width=\"900\"\n",
       "            height=\"600\"\n",
       "            src=\"http://alqabandi.co/daml-covid/figure_20.html\"\n",
       "            frameborder=\"0\"\n",
       "            allowfullscreen\n",
       "        ></iframe>\n",
       "        "
      ],
      "text/plain": [
       "<IPython.lib.display.IFrame at 0x117c0cf90>"
      ]
     },
     "execution_count": 18,
     "metadata": {},
     "output_type": "execute_result"
    }
   ],
   "source": [
    "IFrame(src='http://alqabandi.co/daml-covid/figure_20.html', height=600, width=900)"
   ]
  },
  {
   "cell_type": "code",
   "execution_count": null,
   "metadata": {
    "ExecuteTime": {
     "end_time": "2020-04-08T22:52:53.681972Z",
     "start_time": "2020-04-08T22:52:53.169804Z"
    }
   },
   "outputs": [],
   "source": [
    "#scale = 1000\n",
    "fig = go.Figure(data=go.Choropleth(\n",
    "    locations=df2['state'],\n",
    "    z=df2['hospitalizedCumulative'],\n",
    "    locationmode='USA-states',\n",
    "    colorscale='Oranges',\n",
    "    autocolorscale=False,\n",
    "    text=df2['text'], # hover text\n",
    "    marker_line_color='white', # line markers between states\n",
    "    colorbar_title=\"Number of Covid patients Hospitalized, Cumulative\"\n",
    "))\n",
    "\n",
    "fig.update_layout(\n",
    "    title_text='Number of Covid patients Hospitalized, Cumulative<br>(Hover for breakdown)',\n",
    "    geo = dict(\n",
    "        scope='usa',\n",
    "        projection=go.layout.geo.Projection(type = 'albers usa'),\n",
    "        showlakes=True, # lakes\n",
    "        lakecolor='rgb(255, 255, 255)'),\n",
    ")\n",
    "#fig.show();"
   ]
  },
  {
   "cell_type": "code",
   "execution_count": 17,
   "metadata": {
    "ExecuteTime": {
     "end_time": "2020-04-08T22:57:02.808883Z",
     "start_time": "2020-04-08T22:57:02.804727Z"
    }
   },
   "outputs": [
    {
     "data": {
      "text/html": [
       "\n",
       "        <iframe\n",
       "            width=\"900\"\n",
       "            height=\"600\"\n",
       "            src=\"http://alqabandi.co/daml-covid/figure_18.html\"\n",
       "            frameborder=\"0\"\n",
       "            allowfullscreen\n",
       "        ></iframe>\n",
       "        "
      ],
      "text/plain": [
       "<IPython.lib.display.IFrame at 0x104e6dfd0>"
      ]
     },
     "execution_count": 17,
     "metadata": {},
     "output_type": "execute_result"
    }
   ],
   "source": [
    "IFrame(src='http://alqabandi.co/daml-covid/figure_18.html', height=600, width=900)"
   ]
  },
  {
   "cell_type": "code",
   "execution_count": null,
   "metadata": {
    "ExecuteTime": {
     "end_time": "2020-04-08T22:47:49.975144Z",
     "start_time": "2020-04-08T22:47:49.752103Z"
    }
   },
   "outputs": [],
   "source": [
    "#scale = 1000\n",
    "fig = go.Figure(data=go.Choropleth(\n",
    "    locations=df2['state'],\n",
    "    z=(df2['hospitalizedCumulative']/df2['positive'])*100,\n",
    "    locationmode='USA-states',\n",
    "    colorscale='Oranges',\n",
    "    autocolorscale=False,\n",
    "    text=df2['text'], # hover text\n",
    "    marker_line_color='white', # line markers between states\n",
    "    colorbar_title=\"Hospitalization rate for positive cases (in %)\"\n",
    "))\n",
    "\n",
    "fig.update_layout(\n",
    "    title_text='Hospitalization rate for positive cases<br>(Hover for breakdown)',\n",
    "    geo = dict(\n",
    "        scope='usa',\n",
    "        projection=go.layout.geo.Projection(type = 'albers usa'),\n",
    "        showlakes=True, # lakes\n",
    "        lakecolor='rgb(255, 255, 255)'),\n",
    ")\n",
    "#fig.show();"
   ]
  },
  {
   "cell_type": "code",
   "execution_count": 16,
   "metadata": {
    "ExecuteTime": {
     "end_time": "2020-04-08T22:57:01.103208Z",
     "start_time": "2020-04-08T22:57:01.098484Z"
    }
   },
   "outputs": [
    {
     "data": {
      "text/html": [
       "\n",
       "        <iframe\n",
       "            width=\"900\"\n",
       "            height=\"600\"\n",
       "            src=\"http://alqabandi.co/daml-covid/figure_21.html\"\n",
       "            frameborder=\"0\"\n",
       "            allowfullscreen\n",
       "        ></iframe>\n",
       "        "
      ],
      "text/plain": [
       "<IPython.lib.display.IFrame at 0x11762e150>"
      ]
     },
     "execution_count": 16,
     "metadata": {},
     "output_type": "execute_result"
    }
   ],
   "source": [
    "IFrame(src='http://alqabandi.co/daml-covid/figure_21.html', height=600, width=900)"
   ]
  },
  {
   "cell_type": "code",
   "execution_count": null,
   "metadata": {
    "ExecuteTime": {
     "end_time": "2020-04-08T22:48:08.093561Z",
     "start_time": "2020-04-08T22:48:07.962762Z"
    }
   },
   "outputs": [],
   "source": [
    "#scale = 1000\n",
    "fig = go.Figure(data=go.Choropleth(\n",
    "    locations=df2['state'],\n",
    "    z=df2['pct_death_over_positive'],\n",
    "    locationmode='USA-states',\n",
    "    colorscale='Oranges',\n",
    "    autocolorscale=False,\n",
    "    text=df2['text'], # hover text\n",
    "    marker_line_color='white', # line markers between states\n",
    "    colorbar_title=\"Death rate in %\"\n",
    "))\n",
    "\n",
    "fig.update_layout(\n",
    "    title_text='Death rate by state<br>(Hover for breakdown)',\n",
    "    geo = dict(\n",
    "        scope='usa',\n",
    "        projection=go.layout.geo.Projection(type = 'albers usa'),\n",
    "        showlakes=True, # lakes\n",
    "        lakecolor='rgb(255, 255, 255)'),\n",
    ")\n",
    "#fig.show();"
   ]
  },
  {
   "cell_type": "code",
   "execution_count": 15,
   "metadata": {
    "ExecuteTime": {
     "end_time": "2020-04-08T22:56:58.605535Z",
     "start_time": "2020-04-08T22:56:58.601209Z"
    }
   },
   "outputs": [
    {
     "data": {
      "text/html": [
       "\n",
       "        <iframe\n",
       "            width=\"900\"\n",
       "            height=\"600\"\n",
       "            src=\"http://alqabandi.co/daml-covid/figure_22.html\"\n",
       "            frameborder=\"0\"\n",
       "            allowfullscreen\n",
       "        ></iframe>\n",
       "        "
      ],
      "text/plain": [
       "<IPython.lib.display.IFrame at 0x105728c10>"
      ]
     },
     "execution_count": 15,
     "metadata": {},
     "output_type": "execute_result"
    }
   ],
   "source": [
    "IFrame(src='http://alqabandi.co/daml-covid/figure_22.html', height=600, width=900)"
   ]
  },
  {
   "cell_type": "code",
   "execution_count": null,
   "metadata": {
    "ExecuteTime": {
     "end_time": "2020-04-08T22:55:50.933986Z",
     "start_time": "2020-04-08T22:55:50.732835Z"
    }
   },
   "outputs": [],
   "source": [
    "#scale = 1000\n",
    "fig = go.Figure(data=go.Choropleth(\n",
    "    locations=df2['state'],\n",
    "    z=df2['pct_pop_tested'],\n",
    "    locationmode='USA-states',\n",
    "    colorscale='Oranges',\n",
    "    autocolorscale=False,\n",
    "    text=df2['text'], # hover text\n",
    "    marker_line_color='white', # line markers between states\n",
    "    colorbar_title=\"Percent of state population tested (in %)\"\n",
    "))\n",
    "\n",
    "fig.update_layout(\n",
    "    title_text='Percent of State Population tested<br>(Hover for breakdown)',\n",
    "    geo = dict(\n",
    "        scope='usa',\n",
    "        projection=go.layout.geo.Projection(type = 'albers usa'),\n",
    "        showlakes=True, # lakes\n",
    "        lakecolor='rgb(255, 255, 255)'),\n",
    ")\n",
    "fig.show();"
   ]
  },
  {
   "cell_type": "code",
   "execution_count": 14,
   "metadata": {
    "ExecuteTime": {
     "end_time": "2020-04-08T22:56:55.467601Z",
     "start_time": "2020-04-08T22:56:55.463189Z"
    }
   },
   "outputs": [
    {
     "data": {
      "text/html": [
       "\n",
       "        <iframe\n",
       "            width=\"900\"\n",
       "            height=\"600\"\n",
       "            src=\"http://alqabandi.co/daml-covid/figure_27.html\"\n",
       "            frameborder=\"0\"\n",
       "            allowfullscreen\n",
       "        ></iframe>\n",
       "        "
      ],
      "text/plain": [
       "<IPython.lib.display.IFrame at 0x105728350>"
      ]
     },
     "execution_count": 14,
     "metadata": {},
     "output_type": "execute_result"
    }
   ],
   "source": [
    "IFrame(src='http://alqabandi.co/daml-covid/figure_27.html', height=600, width=900)"
   ]
  },
  {
   "cell_type": "code",
   "execution_count": null,
   "metadata": {
    "ExecuteTime": {
     "end_time": "2020-04-08T22:49:00.257750Z",
     "start_time": "2020-04-08T22:49:00.138745Z"
    }
   },
   "outputs": [],
   "source": [
    "#scale = 1000\n",
    "fig = go.Figure(data=go.Choropleth(\n",
    "    locations=df2['state'],\n",
    "    z=df2['iclaims_since_stayathome'],\n",
    "    locationmode='USA-states',\n",
    "    colorscale='Oranges',\n",
    "    autocolorscale=False,\n",
    "    text=df2['text'], # hover text\n",
    "    marker_line_color='white', # line markers between states\n",
    "    colorbar_title=\"Number of Unemp. Ins. Claims since Stay-at-home Orders\"\n",
    "))\n",
    "\n",
    "fig.update_layout(\n",
    "    title_text='Number of Unemp. Ins. Claims since Stay-at-home Orders, by State<br>(Hover for breakdown)',\n",
    "    geo = dict(\n",
    "        scope='usa',\n",
    "        projection=go.layout.geo.Projection(type = 'albers usa'),\n",
    "        showlakes=True, # lakes\n",
    "        lakecolor='rgb(255, 255, 255)'),\n",
    ")\n",
    "#fig.show();"
   ]
  },
  {
   "cell_type": "code",
   "execution_count": 13,
   "metadata": {
    "ExecuteTime": {
     "end_time": "2020-04-08T22:56:53.509333Z",
     "start_time": "2020-04-08T22:56:53.505029Z"
    }
   },
   "outputs": [
    {
     "data": {
      "text/html": [
       "\n",
       "        <iframe\n",
       "            width=\"900\"\n",
       "            height=\"600\"\n",
       "            src=\"http://alqabandi.co/daml-covid/figure_23.html\"\n",
       "            frameborder=\"0\"\n",
       "            allowfullscreen\n",
       "        ></iframe>\n",
       "        "
      ],
      "text/plain": [
       "<IPython.lib.display.IFrame at 0x117cc6fd0>"
      ]
     },
     "execution_count": 13,
     "metadata": {},
     "output_type": "execute_result"
    }
   ],
   "source": [
    "IFrame(src='http://alqabandi.co/daml-covid/figure_23.html', height=600, width=900)"
   ]
  },
  {
   "cell_type": "code",
   "execution_count": null,
   "metadata": {},
   "outputs": [],
   "source": []
  }
 ],
 "metadata": {
  "kernelspec": {
   "display_name": "Python 3",
   "language": "python",
   "name": "python3"
  },
  "language_info": {
   "codemirror_mode": {
    "name": "ipython",
    "version": 3
   },
   "file_extension": ".py",
   "mimetype": "text/x-python",
   "name": "python",
   "nbconvert_exporter": "python",
   "pygments_lexer": "ipython3",
   "version": "3.7.4"
  },
  "toc": {
   "base_numbering": 1,
   "nav_menu": {},
   "number_sections": true,
   "sideBar": true,
   "skip_h1_title": false,
   "title_cell": "Table of Contents",
   "title_sidebar": "Contents",
   "toc_cell": false,
   "toc_position": {},
   "toc_section_display": true,
   "toc_window_display": false
  }
 },
 "nbformat": 4,
 "nbformat_minor": 2
}
